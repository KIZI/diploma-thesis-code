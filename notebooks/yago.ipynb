{
 "cells": [
  {
   "cell_type": "markdown",
   "id": "polished-swift",
   "metadata": {},
   "source": [
    "# YAGO Triples"
   ]
  },
  {
   "cell_type": "code",
   "execution_count": 30,
   "id": "fluid-snake",
   "metadata": {},
   "outputs": [],
   "source": [
    "kernel.silent(true)"
   ]
  },
  {
   "cell_type": "code",
   "execution_count": 31,
   "id": "hungarian-share",
   "metadata": {},
   "outputs": [],
   "source": [
    "import coursierapi.MavenRepository\n",
    "interp.repositories() ++= Seq(MavenRepository.of(\"https://jitpack.io\"))"
   ]
  },
  {
   "cell_type": "code",
   "execution_count": 32,
   "id": "crazy-adolescent",
   "metadata": {},
   "outputs": [],
   "source": [
    "import $ivy.`com.github.propi:rdfrules:1.5.0`\n",
    "import collection._\n",
    "import org.apache.jena.riot.Lang\n",
    "\n",
    "import com.github.propi.rdfrules.data._\n",
    "import com.github.propi.rdfrules.algorithm.amie._\n",
    "import com.github.propi.rdfrules.algorithm.dbscan._\n",
    "import com.github.propi.rdfrules.utils._\n",
    "import com.github.propi.rdfrules.index._\n",
    "import com.github.propi.rdfrules.rule._\n",
    "import com.github.propi.rdfrules.ruleset._"
   ]
  },
  {
   "cell_type": "markdown",
   "id": "going-pilot",
   "metadata": {},
   "source": [
    "## Regions Hop 0\n",
    "\n",
    "```sparql\n",
    "PREFIX yago: <http://yago-knowledge.org/resource/>\n",
    "\n",
    "describe ?region where {\n",
    "?region a yago:Regions_of_the_Czech_Republic\n",
    "}\n",
    "```"
   ]
  },
  {
   "cell_type": "code",
   "execution_count": 33,
   "id": "lightweight-information",
   "metadata": {},
   "outputs": [
    {
     "name": "stdout",
     "output_type": "stream",
     "text": [
      "size: 21599\n",
      "predicates: \n",
      "<http://schema.org/foundingDate>\t<http://schema.org/about>\t<http://schema.org/leiCode>\t<http://schema.org/locationCreated>\trdfs:label\trdf:type\t<http://schema.org/logo>\t<http://schema.org/image>\t<http://schema.org/subOrganization>\towl:sameAs\t<http://schema.org/url>\t<http://schema.org/sameAs>\t<http://schema.org/containedInPlace>\t<http://schema.org/homeLocation>\t<http://schema.org/deathPlace>\t<http://schema.org/birthPlace>\t<http://schema.org/contentLocation>\t<http://schema.org/geo>\t<http://schema.org/foundingLocation>\trdfs:comment\t<http://schema.org/alternateName>\t<http://schema.org/location>\t<http://schema.org/parentOrganization>\t<http://schema.org/containsPlace>\t"
     ]
    }
   ],
   "source": [
    "val regions = Graph(\"yago\", \"../data/yago/results/describe-regions.ttl\")\n",
    "println(\"size: \" + regions.size) \n",
    "regions.addPrefixes(Traversable(Prefix(\"schema\", \"http://schema.org/\")))\n",
    "val types: Map[TripleItem.Uri, Map[TripleItemType, Int]] = regions.types()\n",
    "println(\"predicates: \")\n",
    "for ((k,v) <- types) print(k + \"\\t\")"
   ]
  },
  {
   "cell_type": "markdown",
   "id": "anticipated-contest",
   "metadata": {},
   "source": [
    "## Districts Hop 0\n",
    "\n",
    "```sparql\n",
    "PREFIX yago: <http://yago-knowledge.org/resource/>\n",
    "PREFIX schema: <http://schema.org/>\n",
    "\n",
    "describe ?district where {\n",
    "?region a yago:Regions_of_the_Czech_Republic; schema:containsPlace ?district.\n",
    "?district a yago:Districts_of_the_Czech_Republic .\n",
    "}\n",
    "```"
   ]
  },
  {
   "cell_type": "code",
   "execution_count": 34,
   "id": "insured-posting",
   "metadata": {},
   "outputs": [
    {
     "name": "stdout",
     "output_type": "stream",
     "text": [
      "size: 27776\n",
      "predicates:\n",
      "rdfs:label\trdf:type\tschema:image\towl:sameAs\tschema:sameAs\tschema:containedInPlace\tschema:birthPlace\tschema:geo\trdfs:comment\tschema:alternateName\tschema:location\tschema:containsPlace\t"
     ]
    }
   ],
   "source": [
    "val districts = Graph(\"yago\", \"../data/yago/results/describe-districts.ttl\")\n",
    "println(\"size: \" + districts.size)\n",
    "val types: Map[TripleItem.Uri, Map[TripleItemType, Int]] = districts.types()\n",
    "println(\"predicates:\")\n",
    "for ((k,v) <- types) print(k + \"\\t\")"
   ]
  },
  {
   "cell_type": "code",
   "execution_count": 35,
   "id": "suitable-professional",
   "metadata": {},
   "outputs": [],
   "source": [
    "val hop0 = Dataset() + regions + districts\n",
    "hop0.cache(\"../cache/yago-hop0.cache\")"
   ]
  },
  {
   "cell_type": "markdown",
   "id": "interested-youth",
   "metadata": {},
   "source": [
    "## Regions Hop 1\n",
    "\n",
    "```sparql\n",
    "PREFIX yago: <http://yago-knowledge.org/resource/>\n",
    "\n",
    "describe ?hop1 where {\n",
    "?region a yago:Regions_of_the_Czech_Republic .\n",
    "?hop1 ?p ?region .\n",
    "}\n",
    "```"
   ]
  },
  {
   "cell_type": "code",
   "execution_count": 36,
   "id": "organizational-building",
   "metadata": {},
   "outputs": [
    {
     "name": "stdout",
     "output_type": "stream",
     "text": [
      "size: 690880\n",
      "predicates: \n",
      "<http://schema.org/birthDate>\t<http://schema.org/familyName>\t<http://schema.org/knowsLanguage>\t<http://schema.org/foundingDate>\t<http://schema.org/deathDate>\t<http://schema.org/about>\t<http://schema.org/hasOccupation>\t<http://schema.org/author>\t<http://schema.org/inLanguage>\t<http://schema.org/leiCode>\t<http://schema.org/telephone>\t<http://schema.org/producer>\t<http://schema.org/locationCreated>\t<http://schema.org/composer>\t<http://schema.org/numberOfEpisodes>\trdfs:label\t<http://schema.org/copyrightHolder>\t<http://schema.org/character>\t<http://schema.org/duration>\trdf:type\t<http://schema.org/creator>\t<http://schema.org/lyricist>\t<http://schema.org/logo>\t<http://schema.org/startDate>\t<http://schema.org/icaoCode>\t<http://schema.org/alumniOf>\t<http://schema.org/image>\t<http://schema.org/worksFor>\t<http://schema.org/competitor>\t<http://schema.org/subOrganization>\t<http://schema.org/endDate>\t<http://schema.org/translator>\t<http://schema.org/productionCompany>\t<http://schema.org/actor>\t<http://schema.org/isBasedOn>\t<http://schema.org/url>\t<http://schema.org/containedInPlace>\t<http://schema.org/height>\towl:sameAs\t<http://schema.org/sameAs>\t<http://schema.org/founder>\t<http://schema.org/spouse>\t<http://schema.org/dateCreated>\t<http://schema.org/contributor>\t<http://schema.org/director>\t<http://schema.org/affiliation>\t<http://schema.org/publisher>\t<http://schema.org/parent>\t<http://schema.org/homeLocation>\t<http://schema.org/deathPlace>\t<http://schema.org/sport>\t<http://schema.org/musicBy>\t<http://schema.org/children>\t<http://schema.org/birthPlace>\t<http://schema.org/iataCode>\t<http://schema.org/material>\t<http://schema.org/contentLocation>\t<http://schema.org/faxNumber>\t<http://schema.org/geo>\t<http://schema.org/datePublished>\t<http://schema.org/editor>\t<http://schema.org/memberOf>\t<http://schema.org/subEvent>\t<http://schema.org/foundingLocation>\t<http://schema.org/superEvent>\trdfs:comment\t<http://schema.org/hasPart>\t<http://schema.org/givenName>\t<http://schema.org/nationality>\t<http://schema.org/owns>\t<http://schema.org/numberOfSeasons>\t<http://schema.org/alternateName>\t<http://schema.org/location>\t<http://schema.org/honorificPrefix>\t<http://schema.org/genre>\t<http://schema.org/award>\t<http://schema.org/parentOrganization>\t<http://schema.org/gender>\t<http://schema.org/sponsor>\t<http://schema.org/countryOfOrigin>\t<http://schema.org/containsPlace>\t<http://schema.org/dissolutionDate>\t<http://schema.org/byArtist>\t"
     ]
    }
   ],
   "source": [
    "val regionsHop1 = Graph(\"yago\", \"../data/yago/results/describe-regions-hop1.ttl\")\n",
    "println(\"size: \" + regionsHop1.size)\n",
    "val types: Map[TripleItem.Uri, Map[TripleItemType, Int]] = regionsHop1.types()\n",
    "println(\"predicates: \")\n",
    "for ((k,v) <- types) print(k + \"\\t\")"
   ]
  },
  {
   "cell_type": "markdown",
   "id": "welcome-difficulty",
   "metadata": {},
   "source": [
    "## Districts Hop 1\n",
    "\n",
    "```sparql\n",
    "PREFIX yago: <http://yago-knowledge.org/resource/>\n",
    "PREFIX schema: <http://schema.org/>\n",
    "\n",
    "describe ?hop1 where {\n",
    "?region a yago:Regions_of_the_Czech_Republic; schema:containsPlace ?district .\n",
    "?district a yago:Districts_of_the_Czech_Republic .\n",
    "?hop1 ?p ?district .\n",
    "}\n",
    "```"
   ]
  },
  {
   "cell_type": "code",
   "execution_count": 37,
   "id": "marked-local",
   "metadata": {},
   "outputs": [
    {
     "name": "stdout",
     "output_type": "stream",
     "text": [
      "size: 517933\n",
      "predicates: \n",
      "schema:familyName\tschema:birthDate\tschema:knowsLanguage\tschema:deathDate\tschema:foundingDate\tschema:hasOccupation\tschema:leiCode\tschema:producer\tschema:locationCreated\trdfs:label\trdf:type\tschema:logo\tschema:alumniOf\tschema:image\tschema:subOrganization\tschema:elevation\tschema:url\tschema:containedInPlace\tschema:founder\tschema:sameAs\towl:sameAs\tschema:homeLocation\tschema:deathPlace\tschema:birthPlace\tschema:contentLocation\tschema:geo\tschema:memberOf\tschema:foundingLocation\trdfs:comment\tschema:givenName\tschema:nationality\tschema:alternateName\tschema:location\tschema:gender\tschema:parentOrganization\tschema:award\tschema:containsPlace\tschema:dissolutionDate\t"
     ]
    }
   ],
   "source": [
    "val districtsHop1 = Graph(\"yago\", \"../data/yago/results/describe-districts-hop1.ttl\")\n",
    "println(\"size: \" + districtsHop1.size)\n",
    "val types: Map[TripleItem.Uri, Map[TripleItemType, Int]] = districtsHop1.types()\n",
    "println(\"predicates: \")\n",
    "for ((k,v) <- types) print(k + \"\\t\")"
   ]
  },
  {
   "cell_type": "code",
   "execution_count": 38,
   "id": "pursuant-pollution",
   "metadata": {},
   "outputs": [],
   "source": [
    "val hop1 = Dataset() + regionsHop1 + districtsHop1\n",
    "hop1.cache(\"../cache/yago-hop1.cache\")"
   ]
  },
  {
   "cell_type": "markdown",
   "id": "valuable-credits",
   "metadata": {},
   "source": [
    "## Describe Regions Hop 2\n",
    "\n",
    "```sparql\n",
    "PREFIX yago: <http://yago-knowledge.org/resource/>\n",
    "\n",
    "describe ?hop2 where {\n",
    "?region a yago:Regions_of_the_Czech_Republic .\n",
    "?hop1 ?p1 ?region .\n",
    "?hop2 ?p2 ?hop1 .\n",
    "}\n",
    "```"
   ]
  },
  {
   "cell_type": "code",
   "execution_count": 39,
   "id": "superb-pencil",
   "metadata": {},
   "outputs": [
    {
     "name": "stdout",
     "output_type": "stream",
     "text": [
      "size: 1909567\n",
      "predicates: \n",
      "<http://schema.org/birthDate>\t<http://schema.org/familyName>\t<http://schema.org/knowsLanguage>\t<http://schema.org/foundingDate>\t<http://schema.org/deathDate>\t<http://schema.org/issn>\t<http://schema.org/about>\t<http://schema.org/hasOccupation>\t<http://schema.org/author>\t<http://schema.org/inLanguage>\t<http://schema.org/leiCode>\t<http://schema.org/colorist>\t<http://schema.org/telephone>\t<http://schema.org/producer>\t<http://schema.org/locationCreated>\t<http://schema.org/composer>\t<http://schema.org/numberOfEpisodes>\trdfs:label\t<http://schema.org/copyrightHolder>\t<http://schema.org/character>\trdf:type\t<http://schema.org/duration>\t<http://schema.org/creator>\t<http://schema.org/iswcCode>\t<http://schema.org/lyricist>\t<http://schema.org/logo>\t<http://schema.org/icaoCode>\t<http://schema.org/startDate>\t<http://schema.org/alumniOf>\t<http://schema.org/isPartOf>\t<http://schema.org/image>\t<http://schema.org/worksFor>\t<http://schema.org/competitor>\t<http://schema.org/subOrganization>\t<http://schema.org/numberOfEmployees>\t<http://schema.org/brand>\t<http://schema.org/endDate>\t<http://schema.org/translator>\t<http://schema.org/exampleOfWork>\t<http://schema.org/actor>\t<http://schema.org/productionCompany>\t<http://schema.org/elevation>\t<http://schema.org/isBasedOn>\t<http://schema.org/containedInPlace>\t<http://schema.org/url>\t<http://schema.org/height>\t<http://schema.org/sameAs>\t<http://schema.org/founder>\towl:sameAs\t<http://schema.org/spouse>\t<http://schema.org/dateCreated>\t<http://schema.org/contributor>\t<http://schema.org/numberOfPages>\t<http://schema.org/director>\t<http://schema.org/workExample>\t<http://schema.org/affiliation>\t<http://schema.org/publisher>\t<http://schema.org/parent>\t<http://schema.org/homeLocation>\t<http://schema.org/deathPlace>\t<http://schema.org/sport>\t<http://schema.org/musicBy>\t<http://schema.org/children>\t<http://schema.org/birthPlace>\t<http://schema.org/iataCode>\t<http://schema.org/material>\t<http://schema.org/contentLocation>\t<http://schema.org/faxNumber>\t<http://schema.org/organizer>\t<http://schema.org/geo>\t<http://schema.org/editor>\t<http://schema.org/datePublished>\t<http://schema.org/memberOf>\t<http://schema.org/subEvent>\t<http://schema.org/partOfSeries>\t<http://schema.org/foundingLocation>\t<http://schema.org/superEvent>\trdfs:comment\t<http://schema.org/givenName>\t<http://schema.org/hasPart>\t<http://schema.org/nationality>\t<http://schema.org/owns>\t<http://schema.org/numberOfSeasons>\t<http://schema.org/alternateName>\t<http://schema.org/location>\t<http://schema.org/honorificPrefix>\t<http://schema.org/genre>\t<http://schema.org/citation>\t<http://schema.org/award>\t<http://schema.org/parentOrganization>\t<http://schema.org/gender>\t<http://schema.org/sponsor>\t<http://schema.org/countryOfOrigin>\t<http://schema.org/containsPlace>\t<http://schema.org/byArtist>\t<http://schema.org/dissolutionDate>\t"
     ]
    }
   ],
   "source": [
    "val regionsHop2 = Graph(\"yago\", \"../data/yago/results/describe-regions-hop2.ttl\")\n",
    "println(\"size: \" + regionsHop2.size)\n",
    "val types: Map[TripleItem.Uri, Map[TripleItemType, Int]] = regionsHop2.types()\n",
    "println(\"predicates: \")\n",
    "for ((k,v) <- types) print(k + \"\\t\")"
   ]
  },
  {
   "cell_type": "markdown",
   "id": "brutal-image",
   "metadata": {},
   "source": [
    "## Describe Districts Hop 2\n",
    "\n",
    "```sparql\n",
    "PREFIX yago: <http://yago-knowledge.org/resource/>\n",
    "PREFIX schema: <http://schema.org/>\n",
    "\n",
    "describe ?hop2 where {\n",
    "?region a yago:Regions_of_the_Czech_Republic; schema:containsPlace ?district .\n",
    "?district a yago:Districts_of_the_Czech_Republic .\n",
    "?hop1 ?p1 ?district .\n",
    "?hop2 ?p2 ?hop1 .\n",
    "}\n",
    "```"
   ]
  },
  {
   "cell_type": "code",
   "execution_count": 40,
   "id": "beginning-digit",
   "metadata": {},
   "outputs": [
    {
     "name": "stdout",
     "output_type": "stream",
     "text": [
      "size: 1663818\n",
      "predicates: \n",
      "schema:birthDate\tschema:familyName\tschema:knowsLanguage\tschema:deathDate\tschema:foundingDate\tschema:about\tschema:hasOccupation\tschema:author\tschema:inLanguage\tschema:illustrator\tschema:leiCode\tschema:telephone\tschema:producer\tschema:locationCreated\tschema:composer\tschema:numberOfEpisodes\trdfs:label\tschema:copyrightHolder\tschema:character\tschema:duration\trdf:type\tschema:creator\tschema:lyricist\tschema:logo\tschema:icaoCode\tschema:startDate\tschema:alumniOf\tschema:image\tschema:worksFor\tschema:competitor\tschema:subOrganization\tschema:numberOfEmployees\tschema:brand\tschema:endDate\tschema:translator\tschema:productionCompany\tschema:actor\tschema:elevation\tschema:containedInPlace\tschema:url\tschema:height\tschema:sameAs\towl:sameAs\tschema:founder\tschema:spouse\tschema:contributor\tschema:director\tschema:publisher\tschema:parent\tschema:affiliation\tschema:homeLocation\tschema:deathPlace\tschema:sport\tschema:musicBy\tschema:children\tschema:birthPlace\tschema:iataCode\tschema:material\tschema:contentLocation\tschema:faxNumber\tschema:geo\tschema:datePublished\tschema:editor\tschema:memberOf\tschema:subEvent\tschema:foundingLocation\tschema:superEvent\trdfs:comment\tschema:givenName\tschema:nationality\tschema:owns\tschema:numberOfSeasons\tschema:alternateName\tschema:location\tschema:honorificPrefix\tschema:genre\tschema:award\tschema:parentOrganization\tschema:gender\tschema:sponsor\tschema:countryOfOrigin\tschema:containsPlace\tschema:dissolutionDate\tschema:byArtist\t"
     ]
    }
   ],
   "source": [
    "val districtsHop2 = Graph(\"yago\", \"../data/yago/results/describe-districts-hop2.ttl\")\n",
    "println(\"size: \" + districtsHop2.size)\n",
    "val types: Map[TripleItem.Uri, Map[TripleItemType, Int]] = districtsHop2.types()\n",
    "println(\"predicates: \")\n",
    "for ((k,v) <- types) print(k + \"\\t\")"
   ]
  },
  {
   "cell_type": "code",
   "execution_count": 41,
   "id": "worst-maria",
   "metadata": {},
   "outputs": [],
   "source": [
    "val hop2 = Dataset() + regionsHop2 + districtsHop2\n",
    "hop2.cache(\"../cache/yago-hop2.cache\")"
   ]
  }
 ],
 "metadata": {
  "kernelspec": {
   "display_name": "Scala",
   "language": "scala",
   "name": "scala"
  },
  "language_info": {
   "codemirror_mode": "text/x-scala",
   "file_extension": ".sc",
   "mimetype": "text/x-scala",
   "name": "scala",
   "nbconvert_exporter": "script",
   "version": "2.12.8"
  }
 },
 "nbformat": 4,
 "nbformat_minor": 5
}
