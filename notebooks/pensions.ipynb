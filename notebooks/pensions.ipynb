{
 "cells": [
  {
   "cell_type": "code",
   "execution_count": 1,
   "metadata": {},
   "outputs": [],
   "source": [
    "kernel.silent(true)"
   ]
  },
  {
   "cell_type": "code",
   "execution_count": 2,
   "metadata": {},
   "outputs": [],
   "source": [
    "import coursierapi.MavenRepository\n",
    "interp.repositories() ++= Seq(MavenRepository.of(\"https://jitpack.io\"))"
   ]
  },
  {
   "cell_type": "code",
   "execution_count": 3,
   "metadata": {},
   "outputs": [],
   "source": [
    "import $ivy.`com.github.propi:rdfrules:1.5.0`\n",
    "import collection._\n",
    "import org.apache.jena.riot.Lang\n",
    "\n",
    "import com.github.propi.rdfrules.data._\n",
    "import com.github.propi.rdfrules.algorithm.amie._\n",
    "import com.github.propi.rdfrules.algorithm.dbscan._\n",
    "import com.github.propi.rdfrules.utils._\n",
    "import com.github.propi.rdfrules.index._\n",
    "import com.github.propi.rdfrules.rule._\n",
    "import com.github.propi.rdfrules.ruleset._\n",
    "kernel.silent(false)"
   ]
  },
  {
   "cell_type": "code",
   "execution_count": 4,
   "metadata": {},
   "outputs": [
    {
     "data": {
      "text/plain": [
       "\u001b[32mimport \u001b[39m\u001b[36mreflect.io._, Path._\n",
       "\u001b[39m\n",
       "\u001b[32mimport \u001b[39m\u001b[36mreflect.io._\n",
       "\u001b[39m\n",
       "\u001b[32mimport \u001b[39m\u001b[36mPath._\u001b[39m"
      ]
     },
     "execution_count": 4,
     "metadata": {},
     "output_type": "execute_result"
    }
   ],
   "source": [
    "import reflect.io._, Path._\n",
    "import reflect.io._\n",
    "import Path._"
   ]
  },
  {
   "cell_type": "code",
   "execution_count": 5,
   "metadata": {},
   "outputs": [
    {
     "data": {
      "text/plain": [
       "\u001b[36muri\u001b[39m: \u001b[32mString\u001b[39m => \u001b[32mTripleItem\u001b[39m.\u001b[32mUri\u001b[39m = ammonite.$sess.cmd4$Helper$$Lambda$2811/0x0000000840c77040@76426b00\n",
       "\u001b[36mqbDataSet\u001b[39m: \u001b[32mString\u001b[39m = \u001b[32m\"http://purl.org/linked-data/cube#dataSet\"\u001b[39m"
      ]
     },
     "execution_count": 5,
     "metadata": {},
     "output_type": "execute_result"
    }
   ],
   "source": [
    "val uri = (value: String) => TripleItem.Uri(value)\n",
    "val qbDataSet = \"http://purl.org/linked-data/cube#dataSet\""
   ]
  },
  {
   "cell_type": "code",
   "execution_count": 6,
   "metadata": {},
   "outputs": [
    {
     "data": {
      "text/plain": [
       "\u001b[36mgraphs\u001b[39m: \u001b[32mIterator\u001b[39m[\u001b[32mString\u001b[39m] = \u001b[32mnon-empty iterator\u001b[39m"
      ]
     },
     "execution_count": 6,
     "metadata": {},
     "output_type": "execute_result"
    }
   ],
   "source": [
    "val graphs = \"../data/pensions\".toDirectory.files.map(_.path).filter(g => g matches \"\"\".*\\.ttl\"\"\")"
   ]
  },
  {
   "cell_type": "code",
   "execution_count": 7,
   "metadata": {},
   "outputs": [
    {
     "data": {
      "text/html": [
       "<div class=\"jp-RenderedText\">\n",
       "<pre><code><span style=\"color: rgb(0, 187, 187)\"><span class=\"ansi-cyan-fg\">pensionsCubesMap</span></span>: <span style=\"color: rgb(0, 187, 0)\"><span class=\"ansi-green-fg\">Map</span></span>[<span style=\"color: rgb(0, 187, 0)\"><span class=\"ansi-green-fg\">String</span></span>, <span style=\"color: rgb(0, 187, 0)\"><span class=\"ansi-green-fg\">Graph</span></span>] = <span style=\"color: yellow\"><span class=\"ansi-yellow-fg\">Map</span></span>(\n",
       "  <span style=\"color: rgb(0, 187, 0)\"><span class=\"ansi-green-fg\">&quot;pensions-total-by-sex-PK_D&quot;</span></span> -&gt; com.github.propi.rdfrules.data.Graph@54835b60,\n",
       "  <span style=\"color: rgb(0, 187, 0)\"><span class=\"ansi-green-fg\">&quot;pensions-total-total-PK_V&quot;</span></span> -&gt; com.github.propi.rdfrules.data.Graph@7d97c0c1,\n",
       "  <span style=\"color: rgb(0, 187, 0)\"><span class=\"ansi-green-fg\">&quot;pensions-by-district-by-sex-PK_ITVM&quot;</span></span> -&gt; com.github.propi.rdfrules.data.Graph@558a16ad,\n",
       "  <span style=\"color: rgb(0, 187, 0)\"><span class=\"ansi-green-fg\">&quot;pensions-by-region-total-PK_ITV&quot;</span></span> -&gt; com.github.propi.rdfrules.data.Graph@5bef2ad9,\n",
       "  <span style=\"color: rgb(0, 187, 0)\"><span class=\"ansi-green-fg\">&quot;pensions-total-total-PK_SIV&quot;</span></span> -&gt; com.github.propi.rdfrules.data.Graph@14c9a4a7,\n",
       "  <span style=\"color: rgb(0, 187, 0)\"><span class=\"ansi-green-fg\">&quot;pensions-total-by-sex-PK_IDVM&quot;</span></span> -&gt; com.github.propi.rdfrules.data.Graph@579bff37,\n",
       "  <span style=\"color: rgb(0, 187, 0)\"><span class=\"ansi-green-fg\">&quot;pensions-total-by-sex-PK_V_total&quot;</span></span> -&gt; com.github.propi.rdfrules.data.Graph@52a1a417,\n",
       "  <span style=\"color: rgb(0, 187, 0)\"><span class=\"ansi-green-fg\">&quot;pensions-by-district-total-PK_old_age_total_S_SI_SRN_ST_SD&quot;</span></span> -&gt; com.github.propi.rdfrules.data.Graph@70bae578,\n",
       "  <span style=\"color: rgb(0, 187, 0)\"><span class=\"ansi-green-fg\">&quot;pensions-by-district-by-sex-PK_IP&quot;</span></span> -&gt; com.github.propi.rdfrules.data.Graph@290f9b54,\n",
       "  <span style=\"color: rgb(0, 187, 0)\"><span class=\"ansi-green-fg\">&quot;pensions-by-district-by-sex-PK_SV&quot;</span></span> -&gt; com.github.propi.rdfrules.data.Graph@2165bb05,\n",
       "  <span style=\"color: rgb(0, 187, 0)\"><span class=\"ansi-green-fg\">&quot;pensions-by-region-by-sex-PK_SI&quot;</span></span> -&gt; com.github.propi.rdfrules.data.Graph@7e3b2222,\n",
       "  <span style=\"color: rgb(0, 187, 0)\"><span class=\"ansi-green-fg\">&quot;pensions-total-by-sex-PK_VM_total&quot;</span></span> -&gt; com.github.propi.rdfrules.data.Graph@590d89b8,\n",
       "  <span style=\"color: rgb(0, 187, 0)\"><span class=\"ansi-green-fg\">&quot;pensions-by-district-total-PK_STV&quot;</span></span> -&gt; com.github.propi.rdfrules.data.Graph@c8d6cf6,\n",
       "  <span style=\"color: rgb(0, 187, 0)\"><span class=\"ansi-green-fg\">&quot;pensions-total-by-sex-PK_SRVM&quot;</span></span> -&gt; com.github.propi.rdfrules.data.Graph@3c43f1,\n",
       "  <span style=\"color: rgb(0, 187, 0)\"><span class=\"ansi-green-fg\">&quot;pensions-total-total-PK_ST&quot;</span></span> -&gt; com.github.propi.rdfrules.data.Graph@27315be6,\n",
       "  <span style=\"color: rgb(0, 187, 0)\"><span class=\"ansi-green-fg\">&quot;pensions-total-total-PK_IPV&quot;</span></span> -&gt; com.github.propi.rdfrules.data.Graph@124456f1,\n",
       "  <span style=\"color: rgb(0, 187, 0)\"><span class=\"ansi-green-fg\">&quot;pensions-total-by-sex-PK_ITVM&quot;</span></span> -&gt; com.github.propi.rdfrules.data.Graph@75c96293,\n",
       "  <span style=\"color: rgb(0, 187, 0)\"><span class=\"ansi-green-fg\">&quot;pensions-total-by-sex-PK_V-KOMB&quot;</span></span> -&gt; com.github.propi.rdfrules.data.Graph@17088410,\n",
       "  <span style=\"color: rgb(0, 187, 0)\"><span class=\"ansi-green-fg\">&quot;pensions-by-region-total-PK_SRV&quot;</span></span> -&gt; com.github.propi.rdfrules.data.Graph@3a4b137c,\n",
       "  <span style=\"color: rgb(0, 187, 0)\"><span class=\"ansi-green-fg\">&quot;pensions-total-total-PK_ITV&quot;</span></span> -&gt; com.github.propi.rdfrules.data.Graph@a88391a,\n",
       "  <span style=\"color: rgb(0, 187, 0)\"><span class=\"ansi-green-fg\">&quot;pensions-by-district-by-sex-PK_VM&quot;</span></span> -&gt; com.github.propi.rdfrules.data.Graph@346b1f22,\n",
       "...</code></pre>\n",
       "</div>"
      ],
      "text/plain": [
       "\u001b[36mpensionsCubesMap\u001b[39m: \u001b[32mMap\u001b[39m[\u001b[32mString\u001b[39m, \u001b[32mGraph\u001b[39m] = \u001b[33mMap\u001b[39m(\n",
       "  \u001b[32m\"pensions-total-by-sex-PK_D\"\u001b[39m -> com.github.propi.rdfrules.data.Graph@54835b60,\n",
       "  \u001b[32m\"pensions-total-total-PK_V\"\u001b[39m -> com.github.propi.rdfrules.data.Graph@7d97c0c1,\n",
       "  \u001b[32m\"pensions-by-district-by-sex-PK_ITVM\"\u001b[39m -> com.github.propi.rdfrules.data.Graph@558a16ad,\n",
       "  \u001b[32m\"pensions-by-region-total-PK_ITV\"\u001b[39m -> com.github.propi.rdfrules.data.Graph@5bef2ad9,\n",
       "  \u001b[32m\"pensions-total-total-PK_SIV\"\u001b[39m -> com.github.propi.rdfrules.data.Graph@14c9a4a7,\n",
       "  \u001b[32m\"pensions-total-by-sex-PK_IDVM\"\u001b[39m -> com.github.propi.rdfrules.data.Graph@579bff37,\n",
       "  \u001b[32m\"pensions-total-by-sex-PK_V_total\"\u001b[39m -> com.github.propi.rdfrules.data.Graph@52a1a417,\n",
       "  \u001b[32m\"pensions-by-district-total-PK_old_age_total_S_SI_SRN_ST_SD\"\u001b[39m -> com.github.propi.rdfrules.data.Graph@70bae578,\n",
       "  \u001b[32m\"pensions-by-district-by-sex-PK_IP\"\u001b[39m -> com.github.propi.rdfrules.data.Graph@290f9b54,\n",
       "  \u001b[32m\"pensions-by-district-by-sex-PK_SV\"\u001b[39m -> com.github.propi.rdfrules.data.Graph@2165bb05,\n",
       "  \u001b[32m\"pensions-by-region-by-sex-PK_SI\"\u001b[39m -> com.github.propi.rdfrules.data.Graph@7e3b2222,\n",
       "  \u001b[32m\"pensions-total-by-sex-PK_VM_total\"\u001b[39m -> com.github.propi.rdfrules.data.Graph@590d89b8,\n",
       "  \u001b[32m\"pensions-by-district-total-PK_STV\"\u001b[39m -> com.github.propi.rdfrules.data.Graph@c8d6cf6,\n",
       "  \u001b[32m\"pensions-total-by-sex-PK_SRVM\"\u001b[39m -> com.github.propi.rdfrules.data.Graph@3c43f1,\n",
       "  \u001b[32m\"pensions-total-total-PK_ST\"\u001b[39m -> com.github.propi.rdfrules.data.Graph@27315be6,\n",
       "  \u001b[32m\"pensions-total-total-PK_IPV\"\u001b[39m -> com.github.propi.rdfrules.data.Graph@124456f1,\n",
       "  \u001b[32m\"pensions-total-by-sex-PK_ITVM\"\u001b[39m -> com.github.propi.rdfrules.data.Graph@75c96293,\n",
       "  \u001b[32m\"pensions-total-by-sex-PK_V-KOMB\"\u001b[39m -> com.github.propi.rdfrules.data.Graph@17088410,\n",
       "  \u001b[32m\"pensions-by-region-total-PK_SRV\"\u001b[39m -> com.github.propi.rdfrules.data.Graph@3a4b137c,\n",
       "  \u001b[32m\"pensions-total-total-PK_ITV\"\u001b[39m -> com.github.propi.rdfrules.data.Graph@a88391a,\n",
       "  \u001b[32m\"pensions-by-district-by-sex-PK_VM\"\u001b[39m -> com.github.propi.rdfrules.data.Graph@346b1f22,\n",
       "..."
      ]
     },
     "metadata": {},
     "output_type": "display_data"
    }
   ],
   "source": [
    "var pensionsCubesMap: Map[String, Graph] = Map()\n",
    "graphs.foreach(g => {\n",
    "    val name = g.replaceAll(\"\\\\.ttl\", \"\").replaceAll(\"^.*/\", \"\")\n",
    "    pensionsCubesMap = pensionsCubesMap + (name -> Graph(g))\n",
    "})"
   ]
  },
  {
   "cell_type": "code",
   "execution_count": 8,
   "metadata": {},
   "outputs": [
    {
     "data": {
      "text/plain": [
       "\u001b[36mintervalCounts\u001b[39m: \u001b[32mArray\u001b[39m[\u001b[32mInt\u001b[39m] = \u001b[33mArray\u001b[39m(\u001b[32m2\u001b[39m)\n",
       "\u001b[36msupportPercents\u001b[39m: \u001b[32mArray\u001b[39m[\u001b[32mNothing\u001b[39m] = \u001b[33mArray\u001b[39m()\n",
       "\u001b[36mequiSize\u001b[39m: \u001b[32mInt\u001b[39m => \u001b[32mDiscretizationTask\u001b[39m.\u001b[32mEquisize\u001b[39m = ammonite.$sess.cmd7$Helper$$Lambda$2974/0x0000000840cff040@35b24525\n",
       "\u001b[36mequiFrequent\u001b[39m: \u001b[32mInt\u001b[39m => \u001b[32mDiscretizationTask\u001b[39m.\u001b[32mEquifrequency\u001b[39m = ammonite.$sess.cmd7$Helper$$Lambda$2975/0x0000000840d00040@202dacba"
      ]
     },
     "execution_count": 8,
     "metadata": {},
     "output_type": "execute_result"
    }
   ],
   "source": [
    "//val intervalCounts = Array(2, 3, 5, 7)\n",
    "val intervalCounts = Array(2)\n",
    "//val supportPercents = Array(1, 2, 5, 10, 20)\n",
    "val supportPercents = Array()\n",
    "val equiSize = (support: Int) => DiscretizationTask.Equisize(support)\n",
    "val equiFrequent = (intervalCount: Int) => DiscretizationTask.Equifrequency(intervalCount)"
   ]
  },
  {
   "cell_type": "code",
   "execution_count": 9,
   "metadata": {},
   "outputs": [
    {
     "data": {
      "text/plain": [
       "\u001b[32mimport \u001b[39m\u001b[36meu.easyminer.discretization.impl.Interval\n",
       "\u001b[39m\n",
       "\u001b[32mimport \u001b[39m\u001b[36meu.easyminer.discretization.impl.IntervalBound._\n",
       "\u001b[39m\n",
       "\u001b[36mrounded\u001b[39m: (\u001b[32mDouble\u001b[39m, \u001b[32mInteger\u001b[39m) => \u001b[32mDouble\u001b[39m = ammonite.$sess.cmd8$Helper$$Lambda$3006/0x0000000840d11040@23338d86\n",
       "\u001b[36mintervalToString\u001b[39m: \u001b[32mInterval\u001b[39m => \u001b[32mString\u001b[39m = ammonite.$sess.cmd8$Helper$$Lambda$3007/0x0000000840d12040@6afcb6a6"
      ]
     },
     "execution_count": 9,
     "metadata": {},
     "output_type": "execute_result"
    }
   ],
   "source": [
    "import eu.easyminer.discretization.impl.Interval\n",
    "import eu.easyminer.discretization.impl.IntervalBound._\n",
    "val rounded = (value: Double, scale: Integer) => BigDecimal(value).setScale(scale, BigDecimal.RoundingMode.HALF_UP).toDouble\n",
    "val intervalToString = (i: Interval) => \"<\"+rounded(i.minValue.value,2)+ \"__\"+rounded(i.maxValue.value,2)+\")\""
   ]
  },
  {
   "cell_type": "code",
   "execution_count": 10,
   "metadata": {},
   "outputs": [
    {
     "data": {
      "text/plain": [
       "\u001b[36maverageAge\u001b[39m: \u001b[32mTripleItem\u001b[39m.\u001b[32mUri\u001b[39m = \u001b[33mLongUri\u001b[39m(\n",
       "  \u001b[32m\"https://data.cssz.cz/ontology/measure/prumerny-vek\"\u001b[39m\n",
       ")\n",
       "\u001b[36mpensionersCount\u001b[39m: \u001b[32mTripleItem\u001b[39m.\u001b[32mUri\u001b[39m = \u001b[33mLongUri\u001b[39m(\n",
       "  \u001b[32m\"https://data.cssz.cz/ontology/measure/pocet-duchodcu\"\u001b[39m\n",
       ")\n",
       "\u001b[36maveragePensionAmount\u001b[39m: \u001b[32mTripleItem\u001b[39m.\u001b[32mUri\u001b[39m = \u001b[33mLongUri\u001b[39m(\n",
       "  \u001b[32m\"https://data.cssz.cz/ontology/measure/prumerna-vyse-duchodu-v-kc\"\u001b[39m\n",
       ")\n",
       "\u001b[36mmeasureUris\u001b[39m: \u001b[32mArray\u001b[39m[\u001b[32mTripleItem\u001b[39m.\u001b[32mUri\u001b[39m] = \u001b[33mArray\u001b[39m(\n",
       "  \u001b[33mLongUri\u001b[39m(\u001b[32m\"https://data.cssz.cz/ontology/measure/prumerny-vek\"\u001b[39m),\n",
       "  \u001b[33mLongUri\u001b[39m(\u001b[32m\"https://data.cssz.cz/ontology/measure/pocet-duchodcu\"\u001b[39m),\n",
       "  \u001b[33mLongUri\u001b[39m(\u001b[32m\"https://data.cssz.cz/ontology/measure/prumerna-vyse-duchodu-v-kc\"\u001b[39m)\n",
       ")"
      ]
     },
     "execution_count": 10,
     "metadata": {},
     "output_type": "execute_result"
    }
   ],
   "source": [
    "val averageAge = TripleItem.Uri(\"https://data.cssz.cz/ontology/measure/prumerny-vek\")\n",
    "val pensionersCount = TripleItem.Uri(\"https://data.cssz.cz/ontology/measure/pocet-duchodcu\")\n",
    "val averagePensionAmount = TripleItem.Uri(\"https://data.cssz.cz/ontology/measure/prumerna-vyse-duchodu-v-kc\")\n",
    "val measureUris = Array(averageAge,pensionersCount,averagePensionAmount)"
   ]
  },
  {
   "cell_type": "code",
   "execution_count": 11,
   "metadata": {},
   "outputs": [
    {
     "data": {
      "text/plain": [
       "\u001b[36mdiscretizeEquisize\u001b[39m: (\u001b[32mGraph\u001b[39m, \u001b[32mInt\u001b[39m, \u001b[32mTripleItem\u001b[39m.\u001b[32mUri\u001b[39m) => \u001b[32mGraph\u001b[39m = ammonite.$sess.cmd10$Helper$$Lambda$3042/0x0000000840d2e440@6d981fc2\n",
       "\u001b[36mdiscretizeEquifrequent\u001b[39m: (\u001b[32mGraph\u001b[39m, \u001b[32mInt\u001b[39m, \u001b[32mTripleItem\u001b[39m.\u001b[32mUri\u001b[39m) => \u001b[32mGraph\u001b[39m = ammonite.$sess.cmd10$Helper$$Lambda$3043/0x0000000840d2f040@3405fb1a\n",
       "\u001b[36mdiscretizeEquisizeAndGetIntervals\u001b[39m: (\u001b[32mGraph\u001b[39m, \u001b[32mInt\u001b[39m, \u001b[32mTripleItem\u001b[39m.\u001b[32mUri\u001b[39m) => \u001b[32mIndexedSeq\u001b[39m[\u001b[32mInterval\u001b[39m] = ammonite.$sess.cmd10$Helper$$Lambda$3044/0x0000000840d2f440@6c610a26\n",
       "\u001b[36mdiscretizeEquifrequentAndGetIntervals\u001b[39m: (\u001b[32mGraph\u001b[39m, \u001b[32mInt\u001b[39m, \u001b[32mTripleItem\u001b[39m.\u001b[32mUri\u001b[39m) => \u001b[32mIndexedSeq\u001b[39m[\u001b[32mInterval\u001b[39m] = ammonite.$sess.cmd10$Helper$$Lambda$3045/0x0000000840d2f840@2515f4f9"
      ]
     },
     "execution_count": 11,
     "metadata": {},
     "output_type": "execute_result"
    }
   ],
   "source": [
    "val discretizeEquisize = (graph: Graph, relativeSupport: Int, measure: TripleItem.Uri) => {\n",
    "    val observationsCount = graph.filter(t => t.predicate.hasSameUriAs(qbDataSet)).size\n",
    "    val absoluteSupport = (observationsCount * (relativeSupport.toFloat / 100)).ceil.toInt\n",
    "    graph.filter(t => t.predicate == measure)\n",
    "         .discretize(equiSize(absoluteSupport))(quad => quad.triple.predicate == measure)\n",
    "}\n",
    "\n",
    "val discretizeEquifrequent = (graph: Graph, intervalsCount: Int, measure: TripleItem.Uri) => {\n",
    "    graph.filter(t => t.predicate == measure)\n",
    "         .discretize(equiFrequent(intervalsCount))(quad => quad.triple.predicate == measure)\n",
    "}\n",
    "\n",
    "val discretizeEquisizeAndGetIntervals = (graph: Graph, relativeSupport: Int, measure: TripleItem.Uri) => {\n",
    "    val observationsCount = graph.filter(t => t.predicate.hasSameUriAs(qbDataSet)).size\n",
    "    val absoluteSupport = (observationsCount * (relativeSupport.toFloat / 100)).ceil.toInt\n",
    "    graph.filter(t => t.predicate == measure)\n",
    "         .discretizeAndGetIntervals(equiSize(absoluteSupport))(quad => quad.triple.predicate == measure)   \n",
    "}\n",
    "\n",
    "val discretizeEquifrequentAndGetIntervals = (graph: Graph, intervalsCount: Int, measure: TripleItem.Uri) => {\n",
    "    graph.filter(t => t.predicate == measure)\n",
    "         .discretizeAndGetIntervals(equiFrequent(intervalsCount))(quad => quad.triple.predicate == measure)\n",
    "}"
   ]
  },
  {
   "cell_type": "code",
   "execution_count": 12,
   "metadata": {},
   "outputs": [
    {
     "data": {
      "text/plain": [
       "\u001b[36mlowerBound\u001b[39m: \u001b[32mString\u001b[39m => \u001b[32mString\u001b[39m = ammonite.$sess.cmd11$Helper$$Lambda$3080/0x0000000840d46840@1ed76e22\n",
       "\u001b[36mupperBound\u001b[39m: \u001b[32mString\u001b[39m => \u001b[32mString\u001b[39m = ammonite.$sess.cmd11$Helper$$Lambda$3081/0x0000000840d47840@2ba31af\n",
       "\u001b[36mlowerBoundInterval\u001b[39m: \u001b[32mInterval\u001b[39m => \u001b[32mString\u001b[39m = ammonite.$sess.cmd11$Helper$$Lambda$3082/0x0000000840d48040@4aa000e2\n",
       "\u001b[36mupperBoundInterval\u001b[39m: \u001b[32mInterval\u001b[39m => \u001b[32mString\u001b[39m = ammonite.$sess.cmd11$Helper$$Lambda$3083/0x0000000840d49040@44108e40\n",
       "\u001b[36mequalIntervals\u001b[39m: (\u001b[32mString\u001b[39m, \u001b[32mInterval\u001b[39m) => \u001b[32mBoolean\u001b[39m = ammonite.$sess.cmd11$Helper$$Lambda$3084/0x0000000840d49840@1ee741fe"
      ]
     },
     "execution_count": 12,
     "metadata": {},
     "output_type": "execute_result"
    }
   ],
   "source": [
    "val lowerBound = (interval: String) => interval.split(\" \")(1)\n",
    "val upperBound = (interval: String) => interval.split(\" \")(3)\n",
    "val lowerBoundInterval = (interval: Interval) => interval.minValue.value.toString\n",
    "val upperBoundInterval = (interval: Interval) => interval.maxValue.value.toString\n",
    "\n",
    "val equalIntervals = (i1: String, i2: Interval) => {\n",
    "    lowerBound(i1).equals(lowerBoundInterval(i2)) && upperBound(i1).equals(upperBoundInterval(i2))\n",
    "}"
   ]
  },
  {
   "cell_type": "code",
   "execution_count": 13,
   "metadata": {},
   "outputs": [
    {
     "data": {
      "text/plain": [
       "\u001b[36mrenameInterval\u001b[39m: (\u001b[32mTriple\u001b[39m, \u001b[32mIndexedSeq\u001b[39m[\u001b[32mInterval\u001b[39m], \u001b[32mString\u001b[39m) => \u001b[32mTriple\u001b[39m = ammonite.$sess.cmd12$Helper$$Lambda$3139/0x0000000840d72840@2d38ff38\n",
       "\u001b[36mdiscretize\u001b[39m: (\u001b[32mGraph\u001b[39m, \u001b[32mString\u001b[39m) => \u001b[32mDataset\u001b[39m = ammonite.$sess.cmd12$Helper$$Lambda$3140/0x0000000840d73040@6132f6df"
      ]
     },
     "execution_count": 13,
     "metadata": {},
     "output_type": "execute_result"
    }
   ],
   "source": [
    "val renameInterval = (t: Triple, intervals: IndexedSeq[Interval], suffix: String) => {\n",
    "    var result = t\n",
    "    intervals.foreach(interval => {\n",
    "        if (equalIntervals(t.`object`.toString, interval)) {\n",
    "            result = t.copy(`object` = TripleItem.Uri(intervalToString(interval)+\"_\"+suffix+\"_\"+(intervals.indexOf(interval)+1)+\"/\"+intervals.size) )\n",
    "        }\n",
    "    })\n",
    "    result\n",
    "}\n",
    "\n",
    "val discretize = (graph: Graph, name: String) => {\n",
    "    var result = Dataset() + \n",
    "    graph.filter(t => !measureUris.contains(t.predicate))\n",
    "    .map(t => if (t.predicate.hasSameUriAs(qbDataSet)) t.copy(`object` = uri(name)) else t)\n",
    "        \n",
    "        measureUris.foreach(measure => {\n",
    "            if (intervalCounts.length > 0) {\n",
    "                intervalCounts.foreach(intervalCount => {\n",
    "                    val intervals = discretizeEquifrequentAndGetIntervals(graph, intervalCount, measure)\n",
    "                    val measures = discretizeEquifrequent(graph, intervalCount, measure)\n",
    "                    result = result + measures.map(t => {renameInterval(t, intervals, \"ef\"+intervalCount)})\n",
    "                })\n",
    "            }        \n",
    "            /*if (supportPercents.length > 0) {\n",
    "                supportPercents.foreach(percentage => {\n",
    "                    val intervals = discretizeEquisizeAndGetIntervals(graph, percentage, measure)\n",
    "                    val measures = discretizeEquisize(graph, percentage, measure)\n",
    "                    result = result + measures.map(t => {renameInterval(t, intervals, \"es\"+percentage)})\n",
    "                })\n",
    "            }*/\n",
    "    })\n",
    "    result\n",
    "}"
   ]
  },
  {
   "cell_type": "code",
   "execution_count": 14,
   "metadata": {},
   "outputs": [
    {
     "data": {
      "text/html": [
       "<div class=\"jp-RenderedText\">\n",
       "<pre><code><span style=\"color: rgb(0, 187, 187)\"><span class=\"ansi-cyan-fg\">dataset</span></span>: <span style=\"color: rgb(0, 187, 0)\"><span class=\"ansi-green-fg\">Dataset</span></span> = com.github.propi.rdfrules.data.Dataset@46ea19c6</code></pre>\n",
       "</div>"
      ],
      "text/plain": [
       "\u001b[36mdataset\u001b[39m: \u001b[32mDataset\u001b[39m = com.github.propi.rdfrules.data.Dataset@46ea19c6"
      ]
     },
     "metadata": {},
     "output_type": "display_data"
    }
   ],
   "source": [
    "var dataset = Dataset()\n",
    "pensionsCubesMap\n",
    ".map(t => discretize(t._2,t._1))\n",
    ".foreach(d => dataset = dataset + d)"
   ]
  },
  {
   "cell_type": "code",
   "execution_count": 15,
   "metadata": {},
   "outputs": [],
   "source": [
    "//dataset.cache(\"../cache/pensionsCube.cache\")\n",
    "dataset.export(\"../exports/pensionsCube.ttl\")"
   ]
  },
  {
   "cell_type": "code",
   "execution_count": null,
   "metadata": {},
   "outputs": [],
   "source": [
    "var cachedDataset = Dataset.fromCache(\"../cache/pensionsCube.cache\")\n",
    "println(cachedDataset.size)\n",
    "println(dataset.size)"
   ]
  }
 ],
 "metadata": {
  "kernelspec": {
   "display_name": "Scala",
   "language": "scala",
   "name": "scala"
  },
  "language_info": {
   "codemirror_mode": "text/x-scala",
   "file_extension": ".sc",
   "mimetype": "text/x-scala",
   "name": "scala",
   "nbconvert_exporter": "script",
   "version": "2.12.8"
  }
 },
 "nbformat": 4,
 "nbformat_minor": 4
}
