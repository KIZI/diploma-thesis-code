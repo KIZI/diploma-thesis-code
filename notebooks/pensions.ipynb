{
 "cells": [
  {
   "cell_type": "code",
   "execution_count": 11,
   "metadata": {},
   "outputs": [],
   "source": [
    "kernel.silent(true)"
   ]
  },
  {
   "cell_type": "code",
   "execution_count": 12,
   "metadata": {},
   "outputs": [],
   "source": [
    "import coursierapi.MavenRepository\n",
    "interp.repositories() ++= Seq(MavenRepository.of(\"https://jitpack.io\"))"
   ]
  },
  {
   "cell_type": "code",
   "execution_count": 13,
   "metadata": {},
   "outputs": [],
   "source": [
    "import $ivy.`com.github.propi:rdfrules:1.5.0`\n",
    "import collection._\n",
    "import org.apache.jena.riot.Lang\n",
    "\n",
    "import com.github.propi.rdfrules.data._\n",
    "import com.github.propi.rdfrules.algorithm.amie._\n",
    "import com.github.propi.rdfrules.algorithm.dbscan._\n",
    "import com.github.propi.rdfrules.utils._\n",
    "import com.github.propi.rdfrules.index._\n",
    "import com.github.propi.rdfrules.rule._\n",
    "import com.github.propi.rdfrules.ruleset._\n",
    "kernel.silent(false)"
   ]
  },
  {
   "cell_type": "code",
   "execution_count": 14,
   "metadata": {},
   "outputs": [
    {
     "data": {
      "text/plain": [
       "\u001b[32mimport \u001b[39m\u001b[36mreflect.io._, Path._\n",
       "\u001b[39m\n",
       "\u001b[32mimport \u001b[39m\u001b[36mreflect.io._\n",
       "\u001b[39m\n",
       "\u001b[32mimport \u001b[39m\u001b[36mPath._\u001b[39m"
      ]
     },
     "execution_count": 14,
     "metadata": {},
     "output_type": "execute_result"
    }
   ],
   "source": [
    "import reflect.io._, Path._\n",
    "import reflect.io._\n",
    "import Path._"
   ]
  },
  {
   "cell_type": "code",
   "execution_count": 15,
   "metadata": {},
   "outputs": [
    {
     "data": {
      "text/plain": [
       "\u001b[36muri\u001b[39m: \u001b[32mString\u001b[39m => \u001b[32mTripleItem\u001b[39m.\u001b[32mUri\u001b[39m = ammonite.$sess.cmd14$Helper$$Lambda$3044/0x0000000840d1c040@3e3017ad\n",
       "\u001b[36mqbDataSet\u001b[39m: \u001b[32mString\u001b[39m = \u001b[32m\"http://purl.org/linked-data/cube#dataSet\"\u001b[39m"
      ]
     },
     "execution_count": 15,
     "metadata": {},
     "output_type": "execute_result"
    }
   ],
   "source": [
    "val uri = (value: String) => TripleItem.Uri(value)\n",
    "val qbDataSet = \"http://purl.org/linked-data/cube#dataSet\""
   ]
  },
  {
   "cell_type": "code",
   "execution_count": 16,
   "metadata": {},
   "outputs": [
    {
     "data": {
      "text/plain": [
       "\u001b[36mgraphs\u001b[39m: \u001b[32mIterator\u001b[39m[\u001b[32mString\u001b[39m] = \u001b[32mnon-empty iterator\u001b[39m"
      ]
     },
     "execution_count": 16,
     "metadata": {},
     "output_type": "execute_result"
    }
   ],
   "source": [
    "val graphs = \"../data/pensions\".toDirectory.files.map(_.path).filter(g => g matches \"\"\".*\\.ttl\"\"\")"
   ]
  },
  {
   "cell_type": "code",
   "execution_count": 17,
   "metadata": {},
   "outputs": [
    {
     "data": {
      "text/html": [
       "<div class=\"jp-RenderedText\">\n",
       "<pre><code><span style=\"color: rgb(0, 187, 187)\"><span class=\"ansi-cyan-fg\">pensionsCubesMap</span></span>: <span style=\"color: rgb(0, 187, 0)\"><span class=\"ansi-green-fg\">Map</span></span>[<span style=\"color: rgb(0, 187, 0)\"><span class=\"ansi-green-fg\">String</span></span>, <span style=\"color: rgb(0, 187, 0)\"><span class=\"ansi-green-fg\">Graph</span></span>] = <span style=\"color: yellow\"><span class=\"ansi-yellow-fg\">Map</span></span>(\n",
       "  <span style=\"color: rgb(0, 187, 0)\"><span class=\"ansi-green-fg\">&quot;pensions-total-by-sex-PK_D&quot;</span></span> -&gt; com.github.propi.rdfrules.data.Graph@25daa0a5,\n",
       "  <span style=\"color: rgb(0, 187, 0)\"><span class=\"ansi-green-fg\">&quot;pensions-total-total-PK_V&quot;</span></span> -&gt; com.github.propi.rdfrules.data.Graph@61dfc4c1,\n",
       "  <span style=\"color: rgb(0, 187, 0)\"><span class=\"ansi-green-fg\">&quot;pensions-by-district-by-sex-PK_ITVM&quot;</span></span> -&gt; com.github.propi.rdfrules.data.Graph@1251890f,\n",
       "  <span style=\"color: rgb(0, 187, 0)\"><span class=\"ansi-green-fg\">&quot;pensions-by-region-total-PK_ITV&quot;</span></span> -&gt; com.github.propi.rdfrules.data.Graph@3a596777,\n",
       "  <span style=\"color: rgb(0, 187, 0)\"><span class=\"ansi-green-fg\">&quot;pensions-total-total-PK_SIV&quot;</span></span> -&gt; com.github.propi.rdfrules.data.Graph@4af63711,\n",
       "  <span style=\"color: rgb(0, 187, 0)\"><span class=\"ansi-green-fg\">&quot;pensions-total-by-sex-PK_IDVM&quot;</span></span> -&gt; com.github.propi.rdfrules.data.Graph@55100b42,\n",
       "  <span style=\"color: rgb(0, 187, 0)\"><span class=\"ansi-green-fg\">&quot;pensions-total-by-sex-PK_V_total&quot;</span></span> -&gt; com.github.propi.rdfrules.data.Graph@4b17e91e,\n",
       "  <span style=\"color: rgb(0, 187, 0)\"><span class=\"ansi-green-fg\">&quot;pensions-by-district-total-PK_old_age_total_S_SI_SRN_ST_SD&quot;</span></span> -&gt; com.github.propi.rdfrules.data.Graph@3a845dd4,\n",
       "  <span style=\"color: rgb(0, 187, 0)\"><span class=\"ansi-green-fg\">&quot;pensions-by-district-by-sex-PK_IP&quot;</span></span> -&gt; com.github.propi.rdfrules.data.Graph@4131bb2a,\n",
       "  <span style=\"color: rgb(0, 187, 0)\"><span class=\"ansi-green-fg\">&quot;pensions-by-district-by-sex-PK_SV&quot;</span></span> -&gt; com.github.propi.rdfrules.data.Graph@14aee255,\n",
       "  <span style=\"color: rgb(0, 187, 0)\"><span class=\"ansi-green-fg\">&quot;pensions-by-region-by-sex-PK_SI&quot;</span></span> -&gt; com.github.propi.rdfrules.data.Graph@6005b6c7,\n",
       "  <span style=\"color: rgb(0, 187, 0)\"><span class=\"ansi-green-fg\">&quot;pensions-total-by-sex-PK_VM_total&quot;</span></span> -&gt; com.github.propi.rdfrules.data.Graph@78f72dee,\n",
       "  <span style=\"color: rgb(0, 187, 0)\"><span class=\"ansi-green-fg\">&quot;pensions-by-district-total-PK_STV&quot;</span></span> -&gt; com.github.propi.rdfrules.data.Graph@34d33131,\n",
       "  <span style=\"color: rgb(0, 187, 0)\"><span class=\"ansi-green-fg\">&quot;pensions-total-by-sex-PK_SRVM&quot;</span></span> -&gt; com.github.propi.rdfrules.data.Graph@578cc1b4,\n",
       "  <span style=\"color: rgb(0, 187, 0)\"><span class=\"ansi-green-fg\">&quot;pensions-total-total-PK_ST&quot;</span></span> -&gt; com.github.propi.rdfrules.data.Graph@1a72e60c,\n",
       "  <span style=\"color: rgb(0, 187, 0)\"><span class=\"ansi-green-fg\">&quot;pensions-total-total-PK_IPV&quot;</span></span> -&gt; com.github.propi.rdfrules.data.Graph@5bab30f1,\n",
       "  <span style=\"color: rgb(0, 187, 0)\"><span class=\"ansi-green-fg\">&quot;pensions-total-by-sex-PK_ITVM&quot;</span></span> -&gt; com.github.propi.rdfrules.data.Graph@765cc80c,\n",
       "  <span style=\"color: rgb(0, 187, 0)\"><span class=\"ansi-green-fg\">&quot;pensions-total-by-sex-PK_V-KOMB&quot;</span></span> -&gt; com.github.propi.rdfrules.data.Graph@476c2612,\n",
       "  <span style=\"color: rgb(0, 187, 0)\"><span class=\"ansi-green-fg\">&quot;pensions-by-region-total-PK_SRV&quot;</span></span> -&gt; com.github.propi.rdfrules.data.Graph@4a23fa75,\n",
       "  <span style=\"color: rgb(0, 187, 0)\"><span class=\"ansi-green-fg\">&quot;pensions-total-total-PK_ITV&quot;</span></span> -&gt; com.github.propi.rdfrules.data.Graph@488d7778,\n",
       "  <span style=\"color: rgb(0, 187, 0)\"><span class=\"ansi-green-fg\">&quot;pensions-by-district-by-sex-PK_VM&quot;</span></span> -&gt; com.github.propi.rdfrules.data.Graph@58...</code></pre>\n",
       "</div>"
      ],
      "text/plain": [
       "\u001b[36mpensionsCubesMap\u001b[39m: \u001b[32mMap\u001b[39m[\u001b[32mString\u001b[39m, \u001b[32mGraph\u001b[39m] = \u001b[33mMap\u001b[39m(\n",
       "  \u001b[32m\"pensions-total-by-sex-PK_D\"\u001b[39m -> com.github.propi.rdfrules.data.Graph@25daa0a5,\n",
       "  \u001b[32m\"pensions-total-total-PK_V\"\u001b[39m -> com.github.propi.rdfrules.data.Graph@61dfc4c1,\n",
       "  \u001b[32m\"pensions-by-district-by-sex-PK_ITVM\"\u001b[39m -> com.github.propi.rdfrules.data.Graph@1251890f,\n",
       "  \u001b[32m\"pensions-by-region-total-PK_ITV\"\u001b[39m -> com.github.propi.rdfrules.data.Graph@3a596777,\n",
       "  \u001b[32m\"pensions-total-total-PK_SIV\"\u001b[39m -> com.github.propi.rdfrules.data.Graph@4af63711,\n",
       "  \u001b[32m\"pensions-total-by-sex-PK_IDVM\"\u001b[39m -> com.github.propi.rdfrules.data.Graph@55100b42,\n",
       "  \u001b[32m\"pensions-total-by-sex-PK_V_total\"\u001b[39m -> com.github.propi.rdfrules.data.Graph@4b17e91e,\n",
       "  \u001b[32m\"pensions-by-district-total-PK_old_age_total_S_SI_SRN_ST_SD\"\u001b[39m -> com.github.propi.rdfrules.data.Graph@3a845dd4,\n",
       "  \u001b[32m\"pensions-by-district-by-sex-PK_IP\"\u001b[39m -> com.github.propi.rdfrules.data.Graph@4131bb2a,\n",
       "  \u001b[32m\"pensions-by-district-by-sex-PK_SV\"\u001b[39m -> com.github.propi.rdfrules.data.Graph@14aee255,\n",
       "  \u001b[32m\"pensions-by-region-by-sex-PK_SI\"\u001b[39m -> com.github.propi.rdfrules.data.Graph@6005b6c7,\n",
       "  \u001b[32m\"pensions-total-by-sex-PK_VM_total\"\u001b[39m -> com.github.propi.rdfrules.data.Graph@78f72dee,\n",
       "  \u001b[32m\"pensions-by-district-total-PK_STV\"\u001b[39m -> com.github.propi.rdfrules.data.Graph@34d33131,\n",
       "  \u001b[32m\"pensions-total-by-sex-PK_SRVM\"\u001b[39m -> com.github.propi.rdfrules.data.Graph@578cc1b4,\n",
       "  \u001b[32m\"pensions-total-total-PK_ST\"\u001b[39m -> com.github.propi.rdfrules.data.Graph@1a72e60c,\n",
       "  \u001b[32m\"pensions-total-total-PK_IPV\"\u001b[39m -> com.github.propi.rdfrules.data.Graph@5bab30f1,\n",
       "  \u001b[32m\"pensions-total-by-sex-PK_ITVM\"\u001b[39m -> com.github.propi.rdfrules.data.Graph@765cc80c,\n",
       "  \u001b[32m\"pensions-total-by-sex-PK_V-KOMB\"\u001b[39m -> com.github.propi.rdfrules.data.Graph@476c2612,\n",
       "  \u001b[32m\"pensions-by-region-total-PK_SRV\"\u001b[39m -> com.github.propi.rdfrules.data.Graph@4a23fa75,\n",
       "  \u001b[32m\"pensions-total-total-PK_ITV\"\u001b[39m -> com.github.propi.rdfrules.data.Graph@488d7778,\n",
       "  \u001b[32m\"pensions-by-district-by-sex-PK_VM\"\u001b[39m -> com.github.propi.rdfrules.data.Graph@58..."
      ]
     },
     "metadata": {},
     "output_type": "display_data"
    }
   ],
   "source": [
    "var pensionsCubesMap: Map[String, Graph] = Map()\n",
    "graphs.foreach(g => {\n",
    "    val name = g.replaceAll(\"\\\\.ttl\", \"\").replaceAll(\"^.*/\", \"\")\n",
    "    pensionsCubesMap = pensionsCubesMap + (name -> Graph(g))\n",
    "})"
   ]
  },
  {
   "cell_type": "code",
   "execution_count": 18,
   "metadata": {},
   "outputs": [
    {
     "data": {
      "text/plain": [
       "\u001b[32mimport \u001b[39m\u001b[36meu.easyminer.discretization.impl.Interval\n",
       "\u001b[39m\n",
       "\u001b[32mimport \u001b[39m\u001b[36meu.easyminer.discretization.impl.IntervalBound._\n",
       "\u001b[39m\n",
       "\u001b[36mrounded\u001b[39m: (\u001b[32mDouble\u001b[39m, \u001b[32mInteger\u001b[39m) => \u001b[32mDouble\u001b[39m = ammonite.$sess.cmd17$Helper$$Lambda$3062/0x0000000840d37040@119fdec7\n",
       "\u001b[36mintervalToString\u001b[39m: \u001b[32mInterval\u001b[39m => \u001b[32mString\u001b[39m = ammonite.$sess.cmd17$Helper$$Lambda$3063/0x0000000840d37840@aaf2267"
      ]
     },
     "execution_count": 18,
     "metadata": {},
     "output_type": "execute_result"
    }
   ],
   "source": [
    "import eu.easyminer.discretization.impl.Interval\n",
    "import eu.easyminer.discretization.impl.IntervalBound._\n",
    "val rounded = (value: Double, scale: Integer) => BigDecimal(value).setScale(scale, BigDecimal.RoundingMode.HALF_UP).toDouble\n",
    "val intervalToString = (i: Interval) => \"<\"+rounded(i.minValue.value,2)+ \"__\"+rounded(i.maxValue.value,2)+\")\""
   ]
  },
  {
   "cell_type": "code",
   "execution_count": 19,
   "metadata": {},
   "outputs": [
    {
     "data": {
      "text/plain": [
       "\u001b[36maverageAge\u001b[39m: \u001b[32mTripleItem\u001b[39m.\u001b[32mUri\u001b[39m = \u001b[33mLongUri\u001b[39m(\n",
       "  \u001b[32m\"https://data.cssz.cz/ontology/measure/prumerny-vek\"\u001b[39m\n",
       ")\n",
       "\u001b[36mpensionersCount\u001b[39m: \u001b[32mTripleItem\u001b[39m.\u001b[32mUri\u001b[39m = \u001b[33mLongUri\u001b[39m(\n",
       "  \u001b[32m\"https://data.cssz.cz/ontology/measure/pocet-duchodcu\"\u001b[39m\n",
       ")\n",
       "\u001b[36maveragePensionAmount\u001b[39m: \u001b[32mTripleItem\u001b[39m.\u001b[32mUri\u001b[39m = \u001b[33mLongUri\u001b[39m(\n",
       "  \u001b[32m\"https://data.cssz.cz/ontology/measure/prumerna-vyse-duchodu-v-kc\"\u001b[39m\n",
       ")\n",
       "\u001b[36mmeasureUris\u001b[39m: \u001b[32mArray\u001b[39m[\u001b[32mTripleItem\u001b[39m.\u001b[32mUri\u001b[39m] = \u001b[33mArray\u001b[39m(\n",
       "  \u001b[33mLongUri\u001b[39m(\u001b[32m\"https://data.cssz.cz/ontology/measure/prumerny-vek\"\u001b[39m),\n",
       "  \u001b[33mLongUri\u001b[39m(\u001b[32m\"https://data.cssz.cz/ontology/measure/pocet-duchodcu\"\u001b[39m),\n",
       "  \u001b[33mLongUri\u001b[39m(\u001b[32m\"https://data.cssz.cz/ontology/measure/prumerna-vyse-duchodu-v-kc\"\u001b[39m)\n",
       ")"
      ]
     },
     "execution_count": 19,
     "metadata": {},
     "output_type": "execute_result"
    }
   ],
   "source": [
    "val averageAge = TripleItem.Uri(\"https://data.cssz.cz/ontology/measure/prumerny-vek\")\n",
    "val pensionersCount = TripleItem.Uri(\"https://data.cssz.cz/ontology/measure/pocet-duchodcu\")\n",
    "val averagePensionAmount = TripleItem.Uri(\"https://data.cssz.cz/ontology/measure/prumerna-vyse-duchodu-v-kc\")\n",
    "val measureUris = Array(averageAge,pensionersCount,averagePensionAmount)"
   ]
  },
  {
   "cell_type": "code",
   "execution_count": 20,
   "metadata": {},
   "outputs": [
    {
     "data": {
      "text/plain": [
       "\u001b[36mequiFrequent\u001b[39m: \u001b[32mInt\u001b[39m => \u001b[32mDiscretizationTask\u001b[39m.\u001b[32mEquifrequency\u001b[39m = ammonite.$sess.cmd19$Helper$$Lambda$3091/0x0000000840d48040@1bcee8a2\n",
       "\u001b[36mdiscretizeEquifrequent\u001b[39m: (\u001b[32mGraph\u001b[39m, \u001b[32mInt\u001b[39m, \u001b[32mTripleItem\u001b[39m.\u001b[32mUri\u001b[39m) => \u001b[32mGraph\u001b[39m = ammonite.$sess.cmd19$Helper$$Lambda$3092/0x0000000840d48840@711fd9cb\n",
       "\u001b[36mdiscretizeEquifrequentAndGetIntervals\u001b[39m: (\u001b[32mGraph\u001b[39m, \u001b[32mInt\u001b[39m, \u001b[32mTripleItem\u001b[39m.\u001b[32mUri\u001b[39m) => \u001b[32mIndexedSeq\u001b[39m[\u001b[32mInterval\u001b[39m] = ammonite.$sess.cmd19$Helper$$Lambda$3093/0x0000000840d48c40@6d1fa148"
      ]
     },
     "execution_count": 20,
     "metadata": {},
     "output_type": "execute_result"
    }
   ],
   "source": [
    "val equiFrequent = (intervalCount: Int) => DiscretizationTask.Equifrequency(intervalCount)\n",
    "\n",
    "val discretizeEquifrequent = (graph: Graph, intervalsCount: Int, measure: TripleItem.Uri) => {\n",
    "    graph.filter(t => t.predicate == measure)\n",
    "         .discretize(equiFrequent(intervalsCount))(quad => quad.triple.predicate == measure)\n",
    "}\n",
    "\n",
    "val discretizeEquifrequentAndGetIntervals = (graph: Graph, intervalsCount: Int, measure: TripleItem.Uri) => {\n",
    "    graph.filter(t => t.predicate == measure)\n",
    "         .discretizeAndGetIntervals(equiFrequent(intervalsCount))(quad => quad.triple.predicate == measure)\n",
    "}"
   ]
  },
  {
   "cell_type": "code",
   "execution_count": 21,
   "metadata": {},
   "outputs": [
    {
     "data": {
      "text/plain": [
       "\u001b[32mimport \u001b[39m\u001b[36meu.easyminer.discretization.impl.Interval\n",
       "\n",
       "\u001b[39m\n",
       "\u001b[36mrenameInterval\u001b[39m: (\u001b[32mTriple\u001b[39m, \u001b[32mIndexedSeq\u001b[39m[\u001b[32mInterval\u001b[39m], \u001b[32mString\u001b[39m) => \u001b[32mTriple\u001b[39m = ammonite.$sess.cmd20$Helper$$Lambda$3146/0x0000000840d71840@7ff875c5\n",
       "\u001b[36mdiscretize\u001b[39m: (\u001b[32mGraph\u001b[39m, \u001b[32mString\u001b[39m, \u001b[32mArray\u001b[39m[\u001b[32mInt\u001b[39m]) => \u001b[32mDataset\u001b[39m = ammonite.$sess.cmd20$Helper$$Lambda$3147/0x0000000840d71c40@5fd96918"
      ]
     },
     "execution_count": 21,
     "metadata": {},
     "output_type": "execute_result"
    }
   ],
   "source": [
    "import eu.easyminer.discretization.impl.Interval\n",
    "\n",
    "val renameInterval = (t: Triple, intervals: IndexedSeq[Interval], suffix: String) => {\n",
    "    var result = t\n",
    "    intervals.foreach(interval => {\n",
    "        val _interval = t.`object`.asInstanceOf[TripleItem.Interval]\n",
    "        if (_interval.interval == interval) {\n",
    "            result = t.copy(`object` = TripleItem.Uri(_interval.toString+\"_\"+suffix+\"_\"+(intervals.indexOf(interval)+1)+\"/\"+intervals.size) )\n",
    "        }\n",
    "    })\n",
    "    result\n",
    "}\n",
    "\n",
    "val discretize = (graph: Graph, name: String, intervalCounts: Array[Int]) => {\n",
    "    var result = Dataset() + \n",
    "    graph.filter(t => !measureUris.contains(t.predicate))\n",
    "    .map(t => if (t.predicate.hasSameUriAs(qbDataSet)) t.copy(`object` = uri(name)) else t)\n",
    "    \n",
    "        measureUris.foreach(measure => {\n",
    "            intervalCounts.foreach(intervalCount => {\n",
    "                val intervals = discretizeEquifrequentAndGetIntervals(graph, intervalCount, measure)\n",
    "                val measures = discretizeEquifrequent(graph, intervalCount, measure)\n",
    "                result = result + measures.map(t => {renameInterval(t, intervals, \"ef\"+intervalCount)})\n",
    "            })\n",
    "    })\n",
    "    result\n",
    "}"
   ]
  },
  {
   "cell_type": "code",
   "execution_count": 22,
   "metadata": {},
   "outputs": [
    {
     "data": {
      "text/html": [
       "<div class=\"jp-RenderedText\">\n",
       "<pre><code><span style=\"color: rgb(0, 187, 187)\"><span class=\"ansi-cyan-fg\">intervalCounts</span></span>: <span style=\"color: rgb(0, 187, 0)\"><span class=\"ansi-green-fg\">Array</span></span>[<span style=\"color: rgb(0, 187, 0)\"><span class=\"ansi-green-fg\">Int</span></span>] = <span style=\"color: yellow\"><span class=\"ansi-yellow-fg\">Array</span></span>(<span style=\"color: rgb(0, 187, 0)\"><span class=\"ansi-green-fg\">2</span></span>, <span style=\"color: rgb(0, 187, 0)\"><span class=\"ansi-green-fg\">3</span></span>)\n",
       "<span style=\"color: rgb(0, 187, 187)\"><span class=\"ansi-cyan-fg\">dataset</span></span>: <span style=\"color: rgb(0, 187, 0)\"><span class=\"ansi-green-fg\">Dataset</span></span> = com.github.propi.rdfrules.data.Dataset@54c88f93</code></pre>\n",
       "</div>"
      ],
      "text/plain": [
       "\u001b[36mintervalCounts\u001b[39m: \u001b[32mArray\u001b[39m[\u001b[32mInt\u001b[39m] = \u001b[33mArray\u001b[39m(\u001b[32m2\u001b[39m, \u001b[32m3\u001b[39m)\n",
       "\u001b[36mdataset\u001b[39m: \u001b[32mDataset\u001b[39m = com.github.propi.rdfrules.data.Dataset@54c88f93"
      ]
     },
     "metadata": {},
     "output_type": "display_data"
    }
   ],
   "source": [
    "val intervalCounts = Array(2,3)\n",
    "\n",
    "var dataset = Dataset()\n",
    "pensionsCubesMap\n",
    ".map(t => discretize(t._2,t._1,intervalCounts))\n",
    ".foreach(d => dataset = dataset + d)"
   ]
  },
  {
   "cell_type": "code",
   "execution_count": 26,
   "metadata": {},
   "outputs": [
    {
     "data": {
      "text/plain": [
       "\u001b[36mres25\u001b[39m: \u001b[32mDataset\u001b[39m = com.github.propi.rdfrules.data.Dataset@5379048b"
      ]
     },
     "execution_count": 26,
     "metadata": {},
     "output_type": "execute_result"
    }
   ],
   "source": [
    "dataset.cache(\"../cache/pensionsCube.cache\")\n",
    "//dataset.export(\"../exports/pensionsCube.ttl\")"
   ]
  },
  {
   "cell_type": "code",
   "execution_count": 25,
   "metadata": {},
   "outputs": [
    {
     "ename": "",
     "evalue": "",
     "output_type": "error",
     "traceback": [
      "\u001b[31mjava.io.FileNotFoundException: ../cache/pensionsCube.cache (Adresář nebo soubor neexistuje)\u001b[39m\n  java.io.FileInputStream.open0(\u001b[32mNative Method\u001b[39m)\n  java.io.FileInputStream.open(\u001b[32mFileInputStream.java\u001b[39m:\u001b[32m219\u001b[39m)\n  java.io.FileInputStream.<init>(\u001b[32mFileInputStream.java\u001b[39m:\u001b[32m157\u001b[39m)\n  com.github.propi.rdfrules.data.Dataset$.$anonfun$fromCache$1(\u001b[32mDataset.scala\u001b[39m:\u001b[32m98\u001b[39m)\n  com.github.propi.rdfrules.utils.serialization.Deserializer$.deserializeFromInputStream(\u001b[32mDeserializer.scala\u001b[39m:\u001b[32m51\u001b[39m)\n  com.github.propi.rdfrules.data.Dataset$$anon$1.foreach(\u001b[32mDataset.scala\u001b[39m:\u001b[32m89\u001b[39m)\n  scala.collection.TraversableLike$$anon$1.foreach(\u001b[32mTraversableLike.scala\u001b[39m:\u001b[32m682\u001b[39m)\n  com.github.propi.rdfrules.data.ops.Transformable.size(\u001b[32mTransformable.scala\u001b[39m:\u001b[32m32\u001b[39m)\n  com.github.propi.rdfrules.data.ops.Transformable.size$(\u001b[32mTransformable.scala\u001b[39m:\u001b[32m28\u001b[39m)\n  com.github.propi.rdfrules.data.Dataset.size$lzycompute(\u001b[32mDataset.scala\u001b[39m:\u001b[32m20\u001b[39m)\n  com.github.propi.rdfrules.data.Dataset.size(\u001b[32mDataset.scala\u001b[39m:\u001b[32m20\u001b[39m)\n  ammonite.$sess.cmd24$Helper.<init>(\u001b[32mcmd24.sc\u001b[39m:\u001b[32m4\u001b[39m)\n  ammonite.$sess.cmd24$.<init>(\u001b[32mcmd24.sc\u001b[39m:\u001b[32m7\u001b[39m)\n  ammonite.$sess.cmd24$.<clinit>(\u001b[32mcmd24.sc\u001b[39m:\u001b[32m-1\u001b[39m)"
     ]
    }
   ],
   "source": [
    "var cachedDataset = Dataset.fromCache(\"../cache/pensionsCube.cache\")\n",
    "println(cachedDataset.size)\n",
    "println(dataset.size)"
   ]
  }
 ],
 "metadata": {
  "kernelspec": {
   "display_name": "Scala",
   "language": "scala",
   "name": "scala"
  },
  "language_info": {
   "codemirror_mode": "text/x-scala",
   "file_extension": ".sc",
   "mimetype": "text/x-scala",
   "name": "scala",
   "nbconvert_exporter": "script",
   "version": "2.12.8"
  }
 },
 "nbformat": 4,
 "nbformat_minor": 4
}
