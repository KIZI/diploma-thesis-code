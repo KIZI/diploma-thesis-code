{
 "cells": [
  {
   "cell_type": "code",
   "execution_count": null,
   "id": "733ed9a8-1c72-4611-a5f8-c05d821330a7",
   "metadata": {},
   "outputs": [
    {
     "name": "stderr",
     "output_type": "stream",
     "text": [
      "Downloading https://repo1.maven.org/maven2/com/github/piotr-kalanski/splot_2.12/0.2.0/splot_2.12-0.2.0.pom\n",
      "Downloaded https://repo1.maven.org/maven2/com/github/piotr-kalanski/splot_2.12/0.2.0/splot_2.12-0.2.0.pom\n",
      "Downloading https://repo1.maven.org/maven2/com/github/piotr-kalanski/splot_2.12/0.2.0/splot_2.12-0.2.0.pom.sha1\n",
      "Downloaded https://repo1.maven.org/maven2/com/github/piotr-kalanski/splot_2.12/0.2.0/splot_2.12-0.2.0.pom.sha1\n",
      "Failed to resolve ivy dependencies:Error downloading com.github.piotr-kalanski:splot_2.12:0.2.0\n",
      "  not found: /home/petnovak/.ivy2/local/com.github.piotr-kalanski/splot_2.12/0.2.0/ivys/ivy.xml\n",
      "  not found: https://repo1.maven.org/maven2/com/github/piotr-kalanski/splot_2.12/0.2.0/splot_2.12-0.2.0.pom"
     ]
    },
    {
     "ename": "",
     "evalue": "",
     "output_type": "error",
     "traceback": [
      "Failed to resolve ivy dependencies:Error downloading com.github.piotr-kalanski:splot_2.12:0.2.0\n  not found: /home/petnovak/.ivy2/local/com.github.piotr-kalanski/splot_2.12/0.2.0/ivys/ivy.xml\n  not found: https://repo1.maven.org/maven2/com/github/piotr-kalanski/splot_2.12/0.2.0/splot_2.12-0.2.0.pom"
     ]
    }
   ],
   "source": [
    "//\"com.github.piotr-kalanski\" % \"splot\" % \"0.2.0\"\n",
    "import $ivy.`com.github.piotr-kalanski::splot:0.2.0`"
   ]
  },
  {
   "cell_type": "code",
   "execution_count": null,
   "id": "e9399950-7617-4c76-89c1-dc8570dbcc5b",
   "metadata": {},
   "outputs": [],
   "source": []
  }
 ],
 "metadata": {
  "kernelspec": {
   "display_name": "Scala",
   "language": "scala",
   "name": "scala"
  },
  "language_info": {
   "codemirror_mode": "text/x-scala",
   "file_extension": ".sc",
   "mimetype": "text/x-scala",
   "name": "scala",
   "nbconvert_exporter": "script",
   "version": "2.12.8"
  }
 },
 "nbformat": 4,
 "nbformat_minor": 5
}
