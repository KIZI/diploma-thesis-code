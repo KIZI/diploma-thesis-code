{
 "cells": [
  {
   "cell_type": "code",
   "execution_count": 1,
   "id": "naked-chemistry",
   "metadata": {},
   "outputs": [],
   "source": [
    "kernel.silent(true)"
   ]
  },
  {
   "cell_type": "code",
   "execution_count": 2,
   "id": "normal-postcard",
   "metadata": {},
   "outputs": [],
   "source": [
    "import coursierapi.MavenRepository\n",
    "interp.repositories() ++= Seq(MavenRepository.of(\"https://jitpack.io\"))"
   ]
  },
  {
   "cell_type": "code",
   "execution_count": 3,
   "id": "integral-festival",
   "metadata": {},
   "outputs": [],
   "source": [
    "import $ivy.`com.github.propi:rdfrules:1.5.0`\n",
    "import collection._\n",
    "import org.apache.jena.riot.Lang\n",
    "\n",
    "import scala.util.control.Breaks._\n",
    "import scala.collection.immutable.ListMap\n",
    "\n",
    "import com.github.propi.rdfrules.data._\n",
    "import com.github.propi.rdfrules.algorithm.amie._\n",
    "import com.github.propi.rdfrules.algorithm.dbscan._\n",
    "import com.github.propi.rdfrules.utils._\n",
    "import com.github.propi.rdfrules.index._\n",
    "import com.github.propi.rdfrules.rule._\n",
    "import com.github.propi.rdfrules.ruleset._\n",
    "kernel.silent(false)"
   ]
  },
  {
   "cell_type": "code",
   "execution_count": null,
   "id": "offshore-exception",
   "metadata": {},
   "outputs": [],
   "source": [
    "val jaurDataset = Dataset.fromCache(\"../cache/jaurCube.cache\")\n",
    "jaurDataset.size"
   ]
  },
  {
   "cell_type": "code",
   "execution_count": null,
   "id": "comfortable-inquiry",
   "metadata": {},
   "outputs": [],
   "source": [
    "val yagoHop0 = Dataset.fromCache(\"../cache/yago-hop0.cache\")\n",
    "yagoHop0.size"
   ]
  },
  {
   "cell_type": "code",
   "execution_count": null,
   "id": "descending-battery",
   "metadata": {},
   "outputs": [],
   "source": [
    "val yagoHop1 = Dataset.fromCache(\"../cache/yago-hop1.cache\")\n",
    "yagoHop1.size"
   ]
  },
  {
   "cell_type": "code",
   "execution_count": null,
   "id": "inner-marsh",
   "metadata": {},
   "outputs": [],
   "source": [
    "val yagoHop2 = Dataset.fromCache(\"../cache/yago-hop2.cache\")\n",
    "yagoHop2.size"
   ]
  },
  {
   "cell_type": "code",
   "execution_count": null,
   "id": "canadian-phenomenon",
   "metadata": {},
   "outputs": [],
   "source": [
    "val yagoDataset = yagoHop0 + yagoHop1 + yagoHop2\n",
    "yagoDataset.size"
   ]
  },
  {
   "cell_type": "code",
   "execution_count": 4,
   "id": "increasing-shade",
   "metadata": {},
   "outputs": [
    {
     "data": {
      "text/plain": [
       "\u001b[36mrdfsLabel\u001b[39m: \u001b[32mString\u001b[39m = \u001b[32m\"http://www.w3.org/2000/01/rdf-schema#label\"\u001b[39m\n",
       "\u001b[36mrdfsComment\u001b[39m: \u001b[32mString\u001b[39m = \u001b[32m\"http://www.w3.org/2000/01/rdf-schema#comment\"\u001b[39m\n",
       "\u001b[36malternateName\u001b[39m: \u001b[32mString\u001b[39m = \u001b[32m\"http://schema.org/alternateName\"\u001b[39m\n",
       "\u001b[36mimage\u001b[39m: \u001b[32mString\u001b[39m = \u001b[32m\"http://schema.org/image\"\u001b[39m\n",
       "\u001b[36mrdfType\u001b[39m: \u001b[32mString\u001b[39m = \u001b[32m\"http://www.w3.org/1999/02/22-rdf-syntax-ns#type\"\u001b[39m\n",
       "\u001b[36mrounded\u001b[39m: (\u001b[32mDouble\u001b[39m, \u001b[32mInteger\u001b[39m) => \u001b[32mDouble\u001b[39m = ammonite.$sess.cmd3$Helper$$Lambda$2842/0x0000000840c83040@3673d5bf"
      ]
     },
     "execution_count": 4,
     "metadata": {},
     "output_type": "execute_result"
    }
   ],
   "source": [
    "val rdfsLabel = \"http://www.w3.org/2000/01/rdf-schema#label\"\n",
    "val rdfsComment = \"http://www.w3.org/2000/01/rdf-schema#comment\"\n",
    "val alternateName = \"http://schema.org/alternateName\"\n",
    "val image = \"http://schema.org/image\"\n",
    "val rdfType = \"http://www.w3.org/1999/02/22-rdf-syntax-ns#type\"\n",
    "val rounded = (value: Double, scale: Integer) => BigDecimal(value).setScale(scale, BigDecimal.RoundingMode.HALF_UP).toDouble"
   ]
  },
  {
   "cell_type": "code",
   "execution_count": null,
   "id": "continued-lightning",
   "metadata": {},
   "outputs": [],
   "source": [
    "val yagoDatasetFiltered = yagoDataset.\n",
    "filter(q => !q.triple.predicate.hasSameUriAs(rdfsLabel) &&\n",
    "                !q.triple.predicate.hasSameUriAs(rdfsComment) &&\n",
    "                !q.triple.predicate.hasSameUriAs(alternateName) &&\n",
    "                !q.triple.predicate.hasSameUriAs(rdfType) &&\n",
    "                !q.triple.predicate.hasSameUriAs(image))\n",
    "\n",
    "val ratio: Double = (yagoDatasetFiltered.size.toDouble / yagoDataset.size.toDouble)\n",
    "yagoDatasetFiltered.size + \" / \" + yagoDataset.size + \" = \" + rounded(ratio,2)*100 + \"%\""
   ]
  },
  {
   "cell_type": "code",
   "execution_count": null,
   "id": "conceptual-leonard",
   "metadata": {},
   "outputs": [],
   "source": [
    "// ref area linking yago csu\n",
    "val refAreaLinking = Dataset(\"../data/linking/yagoCZSOLinking.ttl\")\n",
    "refAreaLinking.size"
   ]
  },
  {
   "cell_type": "code",
   "execution_count": null,
   "id": "dated-dictionary",
   "metadata": {},
   "outputs": [],
   "source": [
    "val dataset = jaurDataset + yagoDatasetFiltered + refAreaLinking\n",
    "dataset.size"
   ]
  },
  {
   "cell_type": "code",
   "execution_count": null,
   "id": "purple-contest",
   "metadata": {},
   "outputs": [],
   "source": [
    "val index = dataset.index()\n",
    "index.cache(\"../cache/yaurYagoIndex.cache\")\n",
    "kernel.silent(true)"
   ]
  },
  {
   "cell_type": "code",
   "execution_count": 5,
   "id": "prescription-madonna",
   "metadata": {},
   "outputs": [
    {
     "data": {
      "text/plain": [
       "\u001b[36mindex\u001b[39m: \u001b[32mIndex\u001b[39m = com.github.propi.rdfrules.index.Index$FromCacheFullyPreservedIndex@7c211463"
      ]
     },
     "execution_count": 5,
     "metadata": {},
     "output_type": "execute_result"
    }
   ],
   "source": [
    "val index = Index.fromCache(\"../cache/yaurYagoIndex.cache\", false)\n",
    "kernel.silent(true)"
   ]
  },
  {
   "cell_type": "code",
   "execution_count": 6,
   "id": "divine-paper",
   "metadata": {},
   "outputs": [],
   "source": [
    "val uri = (value: String) => TripleItem.Uri(value)\n",
    "val qbDataSet = uri(\"http://purl.org/linked-data/cube#dataSet\")\n",
    "// in all cubes\n",
    "val czsoUri = \"http://data.czso.cz/ontology/\"\n",
    "val unemploymentRate = uri(czsoUri+\"podilNezamestnanych\")\n",
    "val reachableApplicants = uri(czsoUri+\"dosazitelniNeumisteniUchazeciOZamestnani\")\n",
    "// only in total cubes\n",
    "val unplacedApplicants = uri(czsoUri+\"neumisteniUchazeciOZamestnani\")\n",
    "val vacaniesCount = uri(czsoUri+\"pocetVolnychMist\")\n",
    "val measures = Array(unemploymentRate,reachableApplicants,unplacedApplicants,vacaniesCount)\n",
    "\n",
    "val oneOfMeasures = OneOf(unemploymentRate,reachableApplicants,unplacedApplicants,vacaniesCount)\n",
    "val refArea = uri(\"http://data.czso.cz/ontology/refArea\")\n",
    "val constantsAtObject = RuleConstraint.ConstantsAtPosition.ConstantsPosition.Object\n",
    "val constantsOnlyAtObject = RuleConstraint.ConstantsAtPosition(constantsAtObject)\n",
    "\n",
    "val oneOfRegionCubes = OneOf(uri(\"jaur-regions-by-sex\"),uri(\"jaur-regions-total\"))\n",
    "val oneOfDistrictCubes = OneOf(uri(\"jaur-districts-by-sex\"),uri(\"jaur-districts-total\"))"
   ]
  },
  {
   "cell_type": "code",
   "execution_count": 11,
   "id": "municipal-reaction",
   "metadata": {},
   "outputs": [],
   "source": [
    "val regionPattern = (\n",
    "    AtomPattern(subject = 'b', graph = uri(\"yago\")) &:\n",
    "    AtomPattern(subject = 'a', predicate = refArea, `object` = 'b', graph = uri(\"czso\")) &:\n",
    "    AtomPattern(subject = 'a', predicate = qbDataSet, `object` = oneOfRegionCubes, graph = uri(\"czso\"))\n",
    "    =>: \n",
    "    AtomPattern(subject = 'a', predicate = oneOfMeasures, graph = uri(\"czso\"))\n",
    ")\n",
    "\n",
    "val districtPattern = (\n",
    "    AtomPattern(subject = 'b', graph = uri(\"yago\")) &:\n",
    "    AtomPattern(subject = 'a', predicate = refArea, `object` = 'b', graph = uri(\"czso\")) &:\n",
    "    AtomPattern(subject = 'a', predicate = qbDataSet, `object` = oneOfDistrictCubes, graph = uri(\"czso\"))\n",
    "    =>: \n",
    "    AtomPattern(subject = 'a', predicate = oneOfMeasures, graph = uri(\"czso\"))\n",
    ")"
   ]
  },
  {
   "cell_type": "code",
   "execution_count": 13,
   "id": "korean-equilibrium",
   "metadata": {},
   "outputs": [],
   "source": [
    "val regionTask = Amie()\n",
    "    .addThreshold(Threshold.MinSupport(18))\n",
    "    .addThreshold(Threshold.MaxRuleLength(6))\n",
    "    .addConstraint(constantsOnlyAtObject)\n",
    "    .addPattern(regionPattern)\n",
    "    //.addPattern(regionPattern2)\n",
    "    //.addThreshold(Threshold.Timeout(1))\n",
    "\n",
    "val districtTask = Amie()\n",
    "    .addThreshold(Threshold.MinSupport(36))\n",
    "    .addThreshold(Threshold.MaxRuleLength(6))\n",
    "    .addConstraint(constantsOnlyAtObject)\n",
    "    .addPattern(districtPattern)"
   ]
  },
  {
   "cell_type": "code",
   "execution_count": 14,
   "id": "noted-lobby",
   "metadata": {},
   "outputs": [
    {
     "name": "stderr",
     "output_type": "stream",
     "text": [
      "2021-05-13 21:53:41:886 +0200 [scala-interpreter-1] INFO com.github.propi.rdfrules.utils.Debugger - Amie task settings:\n",
      "MinHeadSize=100,\n",
      "MinHeadCoverage=0.0,\n",
      "MinSupport=18,\n",
      "MaxThreads=4,\n",
      "MinAtomSize=0,\n",
      "MaxRuleLength=6,\n",
      "WithConstants=true,\n",
      "ConstantsPosition=Object,\n",
      "Timeout=60000,\n",
      "WithDuplicitPredicates=true,\n",
      "Patterns=List(Mapped(Vector(Mapped(Variable(?b),Any,Any,Constant(Constant(-1596161386))), Mapped(Variable(?a),Constant(Constant(1481837794)),Variable(?b),Constant(Constant(1015601977))), Mapped(Variable(?a),Constant(Constant(624690160)),OneOf(ArrayBuffer(Constant(Constant(1171323585)), Constant(Constant(1687262354)))),Constant(Constant(1015601977)))),Some(Mapped(Variable(?a),OneOf(ArrayBuffer(Constant(Constant(-2070273298)), Constant(Constant(1659106226)), Constant(Constant(1797717682)), Constant(Constant(1142069620)))),Any,Constant(Constant(1015601977)))),false,false)),\n",
      "OnlyPredicates=None,\n",
      "WithoutPredicates=None\n"
     ]
    },
    {
     "name": "stdout",
     "output_type": "stream",
     "text": [
      "rules: 18677\n",
      "duration: 11s\n"
     ]
    }
   ],
   "source": [
    "val startTimeMillis = System.currentTimeMillis()\n",
    "val regionTaskRuleset = index.mine(regionTask)\n",
    "println(\"rules: \"+regionTaskRuleset.size)\n",
    "println(\"duration: \" + (System.currentTimeMillis() - startTimeMillis) / 1000 + \"s\")"
   ]
  },
  {
   "cell_type": "code",
   "execution_count": 17,
   "id": "prescription-edinburgh",
   "metadata": {},
   "outputs": [],
   "source": [
    "regionTaskRuleset.export(\"../rulesets/jaurYagoRegionTaskRuleset.txt\")"
   ]
  },
  {
   "cell_type": "code",
   "execution_count": 15,
   "id": "fitting-vintage",
   "metadata": {},
   "outputs": [
    {
     "name": "stdout",
     "output_type": "stream",
     "text": [
      "rules: 3\n"
     ]
    }
   ],
   "source": [
    "val regionTaskRulesetFiltered = regionTaskRuleset\n",
    ".filterResolved(rr => {rr.body.count(i => measures.contains(i.predicate)) == 0})\n",
    ".computePcaConfidence(0.5)\n",
    ".sortBy(Measure.PcaConfidence, Measure.Support)\n",
    ".cache\n",
    "regionTaskRulesetFiltered.export(\"../rulesets/jaurYagoRegionTaskRulesetFiltered.txt\")\n",
    "println(\"rules: \" + regionTaskRulesetFiltered.size)"
   ]
  },
  {
   "cell_type": "code",
   "execution_count": 16,
   "id": "black-video",
   "metadata": {},
   "outputs": [
    {
     "name": "stderr",
     "output_type": "stream",
     "text": [
      "2021-05-13 21:54:47:489 +0200 [scala-interpreter-1] INFO com.github.propi.rdfrules.utils.Debugger - Amie task settings:\n",
      "MinHeadSize=100,\n",
      "MinHeadCoverage=0.0,\n",
      "MinSupport=36,\n",
      "MaxThreads=4,\n",
      "MinAtomSize=0,\n",
      "MaxRuleLength=6,\n",
      "WithConstants=true,\n",
      "ConstantsPosition=Object,\n",
      "Timeout=-1,\n",
      "WithDuplicitPredicates=true,\n",
      "Patterns=List(Mapped(Vector(Mapped(Variable(?b),Any,Any,Constant(Constant(-1596161386))), Mapped(Variable(?a),Constant(Constant(1481837794)),Variable(?b),Constant(Constant(1015601977))), Mapped(Variable(?a),Constant(Constant(624690160)),OneOf(ArrayBuffer(Constant(Constant(345337843)), Constant(Constant(2112950736)))),Constant(Constant(1015601977)))),Some(Mapped(Variable(?a),OneOf(ArrayBuffer(Constant(Constant(-2070273298)), Constant(Constant(1659106226)), Constant(Constant(1797717682)), Constant(Constant(1142069620)))),Any,Constant(Constant(1015601977)))),false,false)),\n",
      "OnlyPredicates=None,\n",
      "WithoutPredicates=None\n"
     ]
    },
    {
     "name": "stdout",
     "output_type": "stream",
     "text": [
      "rules: 193770\n",
      "duration: 174s\n"
     ]
    }
   ],
   "source": [
    "val startTimeMillis = System.currentTimeMillis()\n",
    "val districtTaskRuleset = index.mine(districtTask)\n",
    "println(\"rules: \" + districtTaskRuleset.size) \n",
    "println(\"duration: \" + (System.currentTimeMillis() - startTimeMillis) / 1000 + \"s\")"
   ]
  },
  {
   "cell_type": "code",
   "execution_count": 19,
   "id": "sexual-gilbert",
   "metadata": {},
   "outputs": [],
   "source": [
    "districtTaskRuleset.export(\"../rulesets/jaurYagoDistrictTaskRuleset.txt\")"
   ]
  },
  {
   "cell_type": "code",
   "execution_count": null,
   "id": "necessary-despite",
   "metadata": {},
   "outputs": [],
   "source": [
    "val districtTaskRulesetFiltered = districtTaskRuleset\n",
    ".filterResolved(rr => {rr.body.count(i => measures.contains(i.predicate)) == 0})\n",
    ".computePcaConfidence(0.6)\n",
    ".sortBy(Measure.PcaConfidence, Measure.Support)\n",
    ".cache\n",
    "districtTaskRulesetFiltered.export(\"../rulesets/jaurYagoDistrictTaskRulesetFiltered.txt\")\n",
    "println(\"rules: \" + districtTaskRulesetFiltered.size)"
   ]
  },
  {
   "cell_type": "code",
   "execution_count": null,
   "id": "exterior-accommodation",
   "metadata": {},
   "outputs": [],
   "source": [
    "val ruleset = regionTaskRulesetFiltered + districtTaskRulesetFiltered"
   ]
  },
  {
   "cell_type": "code",
   "execution_count": null,
   "id": "concrete-boundary",
   "metadata": {},
   "outputs": [],
   "source": [
    "ruleset.export(\"../rulesets/jaurYagoRulesetFiltered.txt\")"
   ]
  },
  {
   "cell_type": "code",
   "execution_count": null,
   "id": "painful-badge",
   "metadata": {},
   "outputs": [],
   "source": [
    "val rulesetClustered = ruleset\n",
    ".makeClusters {\n",
    "implicit val ruleSimilarityCounting: SimilarityCounting[Rule.Simple] = SimilarityCounting.AtomsSimilarityCounting\n",
    "DbScan(minNeighbours = 3, minSimilarity = 0.85)\n",
    "}\n",
    ".cache"
   ]
  },
  {
   "cell_type": "code",
   "execution_count": null,
   "id": "fundamental-creature",
   "metadata": {},
   "outputs": [],
   "source": [
    "rulesetClustered\n",
    ".cache(\"../cache/jaurYagoOneMeasureTaskRulesetFilteredClustered.cache\")\n",
    ".export(\"../rulesets/jaurYagoOneMeasureTaskRulesetFilteredClustered.txt\")"
   ]
  },
  {
   "cell_type": "code",
   "execution_count": null,
   "id": "unknown-sweet",
   "metadata": {},
   "outputs": [],
   "source": [
    "val rulesetClustered = Ruleset.fromCache(index, \"../cache/oneMeasureTaskRulesetFilteredClustered.cache\")"
   ]
  },
  {
   "cell_type": "code",
   "execution_count": null,
   "id": "short-feeling",
   "metadata": {},
   "outputs": [],
   "source": [
    "val filterByCluster = (r: ResolvedRule, cluster: Int) => \n",
    "r.measures.get(Measure.Cluster).get == Measure.Cluster(cluster)\n",
    "\n",
    "val groupRulesByCluster = (r: Ruleset) => {\n",
    "    var clustersMap: ListMap[Int, Int] = ListMap()\n",
    "    breakable {\n",
    "        var counter = 0\n",
    "        while (true) {\n",
    "            val size = r.filterResolved(r => filterByCluster(r,counter)).size\n",
    "            if (size > 0) {\n",
    "                clustersMap = clustersMap + (counter -> size)\n",
    "                counter = counter + 1\n",
    "            } else break;\n",
    "        }\n",
    "    }\n",
    "    clustersMap = ListMap(clustersMap.toSeq.sortWith(_._2 > _._2):_*)\n",
    "    clustersMap\n",
    "}"
   ]
  },
  {
   "cell_type": "code",
   "execution_count": null,
   "id": "funded-macro",
   "metadata": {},
   "outputs": [],
   "source": [
    "groupRulesByCluster(rulesetClustered)"
   ]
  },
  {
   "cell_type": "code",
   "execution_count": null,
   "id": "signal-shooting",
   "metadata": {},
   "outputs": [],
   "source": [
    "val filterByLength = (r: ResolvedRule, length: Int) => r.body.size == length\n",
    "\n",
    "val groupRulesByLength = (r: Ruleset, maxLength: Int) => {\n",
    "    var lengthMap: ListMap[Int, Int] = ListMap()\n",
    "    breakable {\n",
    "        var counter = 1\n",
    "        while (counter <= maxLength) {\n",
    "            val size = r.filterResolved(r => filterByLength(r,counter)).size\n",
    "            lengthMap = lengthMap + (counter -> size)\n",
    "            counter = counter + 1\n",
    "        }\n",
    "    }\n",
    "    lengthMap = ListMap(lengthMap.toSeq.sortWith(_._2 > _._2):_*)\n",
    "    lengthMap\n",
    "}"
   ]
  },
  {
   "cell_type": "code",
   "execution_count": null,
   "id": "civic-dairy",
   "metadata": {},
   "outputs": [],
   "source": [
    "groupRulesByLength(rulesetClustered, 6)"
   ]
  },
  {
   "cell_type": "code",
   "execution_count": null,
   "id": "sustainable-performer",
   "metadata": {},
   "outputs": [],
   "source": [
    "groupRulesByLength(districtTaskRuleset, 6)"
   ]
  },
  {
   "cell_type": "code",
   "execution_count": null,
   "id": "surgical-emperor",
   "metadata": {},
   "outputs": [],
   "source": [
    "groupRulesByLength(regionTaskRuleset, 6)"
   ]
  }
 ],
 "metadata": {
  "kernelspec": {
   "display_name": "Scala",
   "language": "scala",
   "name": "scala"
  },
  "language_info": {
   "codemirror_mode": "text/x-scala",
   "file_extension": ".sc",
   "mimetype": "text/x-scala",
   "name": "scala",
   "nbconvert_exporter": "script",
   "version": "2.12.8"
  }
 },
 "nbformat": 4,
 "nbformat_minor": 5
}
