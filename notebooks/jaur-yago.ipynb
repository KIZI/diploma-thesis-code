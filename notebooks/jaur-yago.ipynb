{
 "cells": [
  {
   "cell_type": "code",
   "execution_count": 1,
   "id": "naked-chemistry",
   "metadata": {},
   "outputs": [],
   "source": [
    "kernel.silent(true)"
   ]
  },
  {
   "cell_type": "code",
   "execution_count": 2,
   "id": "normal-postcard",
   "metadata": {},
   "outputs": [],
   "source": [
    "import coursierapi.MavenRepository\n",
    "interp.repositories() ++= Seq(MavenRepository.of(\"https://jitpack.io\"))"
   ]
  },
  {
   "cell_type": "code",
   "execution_count": 47,
   "id": "integral-festival",
   "metadata": {},
   "outputs": [
    {
     "data": {
      "text/plain": [
       "\u001b[32mimport \u001b[39m\u001b[36m$ivy.$                                \n",
       "\u001b[39m\n",
       "\u001b[32mimport \u001b[39m\u001b[36mcollection._\n",
       "\u001b[39m\n",
       "\u001b[32mimport \u001b[39m\u001b[36morg.apache.jena.riot.Lang\n",
       "\n",
       "\u001b[39m\n",
       "\u001b[32mimport \u001b[39m\u001b[36mscala.util.control.Breaks._\n",
       "\u001b[39m\n",
       "\u001b[32mimport \u001b[39m\u001b[36mscala.collection.immutable.ListMap\n",
       "\n",
       "\u001b[39m\n",
       "\u001b[32mimport \u001b[39m\u001b[36mcom.github.propi.rdfrules.data._\n",
       "\u001b[39m\n",
       "\u001b[32mimport \u001b[39m\u001b[36mcom.github.propi.rdfrules.algorithm.amie._\n",
       "\u001b[39m\n",
       "\u001b[32mimport \u001b[39m\u001b[36mcom.github.propi.rdfrules.algorithm.dbscan._\n",
       "\u001b[39m\n",
       "\u001b[32mimport \u001b[39m\u001b[36mcom.github.propi.rdfrules.utils._\n",
       "\u001b[39m\n",
       "\u001b[32mimport \u001b[39m\u001b[36mcom.github.propi.rdfrules.index._\n",
       "\u001b[39m\n",
       "\u001b[32mimport \u001b[39m\u001b[36mcom.github.propi.rdfrules.rule._\n",
       "\u001b[39m\n",
       "\u001b[32mimport \u001b[39m\u001b[36mcom.github.propi.rdfrules.ruleset._\n",
       "\u001b[39m"
      ]
     },
     "execution_count": 47,
     "metadata": {},
     "output_type": "execute_result"
    }
   ],
   "source": [
    "import $ivy.`com.github.propi:rdfrules:1.5.0`\n",
    "import collection._\n",
    "import org.apache.jena.riot.Lang\n",
    "\n",
    "import scala.util.control.Breaks._\n",
    "import scala.collection.immutable.ListMap\n",
    "\n",
    "import com.github.propi.rdfrules.data._\n",
    "import com.github.propi.rdfrules.algorithm.amie._\n",
    "import com.github.propi.rdfrules.algorithm.dbscan._\n",
    "import com.github.propi.rdfrules.utils._\n",
    "import com.github.propi.rdfrules.index._\n",
    "import com.github.propi.rdfrules.rule._\n",
    "import com.github.propi.rdfrules.ruleset._\n",
    "kernel.silent(false)"
   ]
  },
  {
   "cell_type": "code",
   "execution_count": 4,
   "id": "offshore-exception",
   "metadata": {},
   "outputs": [
    {
     "data": {
      "text/plain": [
       "\u001b[36mjaurDataset\u001b[39m: \u001b[32mDataset\u001b[39m = com.github.propi.rdfrules.data.Dataset@1812c95a\n",
       "\u001b[36mres3_1\u001b[39m: \u001b[32mInt\u001b[39m = \u001b[32m56871\u001b[39m"
      ]
     },
     "execution_count": 4,
     "metadata": {},
     "output_type": "execute_result"
    }
   ],
   "source": [
    "val jaurDataset = Dataset.fromCache(\"../cache/jaurCube.cache\")\n",
    "jaurDataset.size"
   ]
  },
  {
   "cell_type": "code",
   "execution_count": 5,
   "id": "comfortable-inquiry",
   "metadata": {},
   "outputs": [
    {
     "data": {
      "text/plain": [
       "\u001b[36myagoHop0\u001b[39m: \u001b[32mDataset\u001b[39m = com.github.propi.rdfrules.data.Dataset@7e6e7673\n",
       "\u001b[36mres4_1\u001b[39m: \u001b[32mInt\u001b[39m = \u001b[32m49375\u001b[39m"
      ]
     },
     "execution_count": 5,
     "metadata": {},
     "output_type": "execute_result"
    }
   ],
   "source": [
    "val yagoHop0 = Dataset.fromCache(\"../cache/yago-hop0.cache\")\n",
    "yagoHop0.size"
   ]
  },
  {
   "cell_type": "code",
   "execution_count": 6,
   "id": "descending-battery",
   "metadata": {},
   "outputs": [
    {
     "data": {
      "text/plain": [
       "\u001b[36myagoHop1\u001b[39m: \u001b[32mDataset\u001b[39m = com.github.propi.rdfrules.data.Dataset@40e35c90\n",
       "\u001b[36mres5_1\u001b[39m: \u001b[32mInt\u001b[39m = \u001b[32m1208813\u001b[39m"
      ]
     },
     "execution_count": 6,
     "metadata": {},
     "output_type": "execute_result"
    }
   ],
   "source": [
    "val yagoHop1 = Dataset.fromCache(\"../cache/yago-hop1.cache\")\n",
    "yagoHop1.size"
   ]
  },
  {
   "cell_type": "code",
   "execution_count": 7,
   "id": "inner-marsh",
   "metadata": {},
   "outputs": [
    {
     "data": {
      "text/plain": [
       "\u001b[36myagoHop2\u001b[39m: \u001b[32mDataset\u001b[39m = com.github.propi.rdfrules.data.Dataset@2bdf43b\n",
       "\u001b[36mres6_1\u001b[39m: \u001b[32mInt\u001b[39m = \u001b[32m3573385\u001b[39m"
      ]
     },
     "execution_count": 7,
     "metadata": {},
     "output_type": "execute_result"
    }
   ],
   "source": [
    "val yagoHop2 = Dataset.fromCache(\"../cache/yago-hop2.cache\")\n",
    "yagoHop2.size"
   ]
  },
  {
   "cell_type": "code",
   "execution_count": 8,
   "id": "canadian-phenomenon",
   "metadata": {},
   "outputs": [
    {
     "data": {
      "text/plain": [
       "\u001b[36myagoDataset\u001b[39m: \u001b[32mDataset\u001b[39m = com.github.propi.rdfrules.data.Dataset@6b2fa34d\n",
       "\u001b[36mres7_1\u001b[39m: \u001b[32mInt\u001b[39m = \u001b[32m4831573\u001b[39m"
      ]
     },
     "execution_count": 8,
     "metadata": {},
     "output_type": "execute_result"
    }
   ],
   "source": [
    "val yagoDataset = yagoHop0 + yagoHop1 + yagoHop2\n",
    "yagoDataset.size"
   ]
  },
  {
   "cell_type": "code",
   "execution_count": 9,
   "id": "increasing-shade",
   "metadata": {},
   "outputs": [
    {
     "data": {
      "text/plain": [
       "\u001b[36mrdfsLabel\u001b[39m: \u001b[32mString\u001b[39m = \u001b[32m\"http://www.w3.org/2000/01/rdf-schema#label\"\u001b[39m\n",
       "\u001b[36mrdfsComment\u001b[39m: \u001b[32mString\u001b[39m = \u001b[32m\"http://www.w3.org/2000/01/rdf-schema#comment\"\u001b[39m\n",
       "\u001b[36malternateName\u001b[39m: \u001b[32mString\u001b[39m = \u001b[32m\"http://schema.org/alternateName\"\u001b[39m\n",
       "\u001b[36mimage\u001b[39m: \u001b[32mString\u001b[39m = \u001b[32m\"http://schema.org/image\"\u001b[39m\n",
       "\u001b[36mrdfType\u001b[39m: \u001b[32mString\u001b[39m = \u001b[32m\"http://www.w3.org/1999/02/22-rdf-syntax-ns#type\"\u001b[39m\n",
       "\u001b[36mrounded\u001b[39m: (\u001b[32mDouble\u001b[39m, \u001b[32mInteger\u001b[39m) => \u001b[32mDouble\u001b[39m = ammonite.$sess.cmd8$Helper$$Lambda$2898/0x0000000840cbb040@15888007\n",
       "\u001b[36myagoDatasetFiltered\u001b[39m: \u001b[32mDataset\u001b[39m = com.github.propi.rdfrules.data.Dataset@5d8da85a\n",
       "\u001b[36mratio\u001b[39m: \u001b[32mDouble\u001b[39m = \u001b[32m0.37625551761300097\u001b[39m\n",
       "\u001b[36mres8_8\u001b[39m: \u001b[32mString\u001b[39m = \u001b[32m\"1817906 / 4831573 = 38.0%\"\u001b[39m"
      ]
     },
     "execution_count": 9,
     "metadata": {},
     "output_type": "execute_result"
    }
   ],
   "source": [
    "val rdfsLabel = \"http://www.w3.org/2000/01/rdf-schema#label\"\n",
    "val rdfsComment = \"http://www.w3.org/2000/01/rdf-schema#comment\"\n",
    "val alternateName = \"http://schema.org/alternateName\"\n",
    "val image = \"http://schema.org/image\"\n",
    "val rdfType = \"http://www.w3.org/1999/02/22-rdf-syntax-ns#type\"\n",
    "\n",
    "val rounded = (value: Double, scale: Integer) => BigDecimal(value).setScale(scale, BigDecimal.RoundingMode.HALF_UP).toDouble\n",
    "\n",
    "val yagoDatasetFiltered = yagoDataset.\n",
    "filter(q => !q.triple.predicate.hasSameUriAs(rdfsLabel) &&\n",
    "                !q.triple.predicate.hasSameUriAs(rdfsComment) &&\n",
    "                !q.triple.predicate.hasSameUriAs(alternateName) &&\n",
    "                !q.triple.predicate.hasSameUriAs(rdfType) &&\n",
    "                !q.triple.predicate.hasSameUriAs(image))\n",
    "\n",
    "val ratio: Double = (yagoDatasetFiltered.size.toDouble / yagoDataset.size.toDouble)\n",
    "yagoDatasetFiltered.size + \" / \" + yagoDataset.size + \" = \" + rounded(ratio,2)*100 + \"%\""
   ]
  },
  {
   "cell_type": "code",
   "execution_count": 10,
   "id": "conceptual-leonard",
   "metadata": {},
   "outputs": [
    {
     "data": {
      "text/plain": [
       "\u001b[36mrefAreaLinking\u001b[39m: \u001b[32mDataset\u001b[39m = com.github.propi.rdfrules.data.Dataset@7e130660\n",
       "\u001b[36mres9_1\u001b[39m: \u001b[32mInt\u001b[39m = \u001b[32m90\u001b[39m"
      ]
     },
     "execution_count": 10,
     "metadata": {},
     "output_type": "execute_result"
    }
   ],
   "source": [
    "// ref area linking yago csu\n",
    "val refAreaLinking = Dataset(\"../data/linking/yagoCZSOLinking.ttl\")\n",
    "refAreaLinking.size"
   ]
  },
  {
   "cell_type": "code",
   "execution_count": 11,
   "id": "dated-dictionary",
   "metadata": {},
   "outputs": [
    {
     "data": {
      "text/plain": [
       "\u001b[36mdataset\u001b[39m: \u001b[32mDataset\u001b[39m = com.github.propi.rdfrules.data.Dataset@550c2ba8\n",
       "\u001b[36mres10_1\u001b[39m: \u001b[32mInt\u001b[39m = \u001b[32m1874867\u001b[39m"
      ]
     },
     "execution_count": 11,
     "metadata": {},
     "output_type": "execute_result"
    }
   ],
   "source": [
    "val dataset = jaurDataset + yagoDatasetFiltered + refAreaLinking\n",
    "dataset.size"
   ]
  },
  {
   "cell_type": "code",
   "execution_count": 12,
   "id": "purple-contest",
   "metadata": {},
   "outputs": [
    {
     "name": "stderr",
     "output_type": "stream",
     "text": [
      "2021-05-06 16:38:22:844 +0200 [scala-interpreter-1] INFO com.github.propi.rdfrules.utils.Debugger - Predicates trimming.\n",
      "2021-05-06 16:38:24:203 +0200 [scala-interpreter-1] INFO com.github.propi.rdfrules.utils.Debugger - Subjects indexing.\n",
      "2021-05-06 16:38:26:156 +0200 [scala-interpreter-1] INFO com.github.propi.rdfrules.utils.Debugger - Subjects trimming.\n",
      "2021-05-06 16:38:26:405 +0200 [scala-interpreter-1] INFO com.github.propi.rdfrules.utils.Debugger - Objects indexing.\n",
      "2021-05-06 16:38:27:500 +0200 [scala-interpreter-1] INFO com.github.propi.rdfrules.utils.Debugger - Objects trimming.\n"
     ]
    },
    {
     "data": {
      "text/plain": [
       "\u001b[36mindex\u001b[39m: \u001b[32mIndex\u001b[39m = com.github.propi.rdfrules.index.Index$FromDatasetFullyPreservedIndex@e1286c\n",
       "\u001b[36mres11_1\u001b[39m: \u001b[32mIndex\u001b[39m = com.github.propi.rdfrules.index.Index$FromDatasetFullyPreservedIndex@e1286c"
      ]
     },
     "execution_count": 12,
     "metadata": {},
     "output_type": "execute_result"
    }
   ],
   "source": [
    "val index = dataset.index()\n",
    "index.cache(\"../cache/yaurYagoIndex.cache\")"
   ]
  },
  {
   "cell_type": "code",
   "execution_count": 13,
   "id": "divine-paper",
   "metadata": {},
   "outputs": [
    {
     "data": {
      "text/plain": [
       "\u001b[36muri\u001b[39m: \u001b[32mString\u001b[39m => \u001b[32mTripleItem\u001b[39m.\u001b[32mUri\u001b[39m = ammonite.$sess.cmd12$Helper$$Lambda$3092/0x0000000840e38840@6001e42f\n",
       "\u001b[36mqbDataSet\u001b[39m: \u001b[32mTripleItem\u001b[39m.\u001b[32mUri\u001b[39m = \u001b[33mLongUri\u001b[39m(\u001b[32m\"http://purl.org/linked-data/cube#dataSet\"\u001b[39m)\n",
       "\u001b[36mczsoUri\u001b[39m: \u001b[32mString\u001b[39m = \u001b[32m\"http://data.czso.cz/ontology/\"\u001b[39m\n",
       "\u001b[36munemploymentRate\u001b[39m: \u001b[32mTripleItem\u001b[39m.\u001b[32mUri\u001b[39m = \u001b[33mLongUri\u001b[39m(\n",
       "  \u001b[32m\"http://data.czso.cz/ontology/podilNezamestnanych\"\u001b[39m\n",
       ")\n",
       "\u001b[36mreachableApplicants\u001b[39m: \u001b[32mTripleItem\u001b[39m.\u001b[32mUri\u001b[39m = \u001b[33mLongUri\u001b[39m(\n",
       "  \u001b[32m\"http://data.czso.cz/ontology/dosazitelniNeumisteniUchazeciOZamestnani\"\u001b[39m\n",
       ")\n",
       "\u001b[36munplacedApplicants\u001b[39m: \u001b[32mTripleItem\u001b[39m.\u001b[32mUri\u001b[39m = \u001b[33mLongUri\u001b[39m(\n",
       "  \u001b[32m\"http://data.czso.cz/ontology/neumisteniUchazeciOZamestnani\"\u001b[39m\n",
       ")\n",
       "\u001b[36mvacaniesCount\u001b[39m: \u001b[32mTripleItem\u001b[39m.\u001b[32mUri\u001b[39m = \u001b[33mLongUri\u001b[39m(\n",
       "  \u001b[32m\"http://data.czso.cz/ontology/pocetVolnychMist\"\u001b[39m\n",
       ")\n",
       "\u001b[36mmeasures\u001b[39m: \u001b[32mArray\u001b[39m[\u001b[32mTripleItem\u001b[39m.\u001b[32mUri\u001b[39m] = \u001b[33mArray\u001b[39m(\n",
       "  \u001b[33mLongUri\u001b[39m(\u001b[32m\"http://data.czso.cz/ontology/podilNezamestnanych\"\u001b[39m),\n",
       "  \u001b[33mLongUri\u001b[39m(\n",
       "    \u001b[32m\"http://data.czso.cz/ontology/dosazitelniNeumisteniUchazeciOZamestnani\"\u001b[39m\n",
       "  ),\n",
       "  \u001b[33mLongUri\u001b[39m(\u001b[32m\"http://data.czso.cz/ontology/neumisteniUchazeciOZamestnani\"\u001b[39m),\n",
       "  \u001b[33mLongUri\u001b[39m(\u001b[32m\"http://data.czso.cz/ontology/pocetVolnychMist\"\u001b[39m)\n",
       ")\n",
       "\u001b[36moneOfMeasures\u001b[39m: \u001b[32mAtomPattern\u001b[39m.\u001b[32mAtomItemPattern\u001b[39m.\u001b[32mOneOf\u001b[39m = \u001b[33mOneOf\u001b[39m(\n",
       "  \u001b[33mArrayBuffer\u001b[39m(\n",
       "    \u001b[33mConstant\u001b[39m(\u001b[33mLongUri\u001b[39m(\u001b[32m\"http://data.czso.cz/ontology/podilNezamestnanych\"\u001b[39m)),\n",
       "    \u001b[33mConstant\u001b[39m(\n",
       "      \u001b[33mLongUri\u001b[39m(\n",
       "        \u001b[32m\"http://data.czso.cz/ontology/dosazitelniNeumisteniUchazeciOZamestnani\"\u001b[39m\n",
       "      )\n",
       "    ),\n",
       "    \u001b[33mConstant\u001b[39m(\n",
       "      \u001b[33mLongUri\u001b[39m(\u001b[32m\"http://data.czso.cz/ontology/neumisteniUchazeciOZamestnani\"\u001b[39m)\n",
       "    ),\n",
       "    \u001b[33mConstant\u001b[39m(\u001b[33mLongUri\u001b[39m(\u001b[32m\"http://data.czso.cz/ontology/pocetVolnychMist\"\u001b[39m))\n",
       "  )\n",
       ")\n",
       "\u001b[36mrefArea\u001b[39m: \u001b[32mTripleItem\u001b[39m.\u001b[32mUri\u001b[39m = \u001b[33mLongUri\u001b[39m(\u001b[32m\"http://data.czso.cz/ontology/refArea\"\u001b[39m)\n",
       "\u001b[36mconstantsAtObject\u001b[39m: \u001b[32mRuleConstraint\u001b[39m.\u001b[32mConstantsAtPosition\u001b[39m.\u001b[32mConstantsPosition\u001b[39m.\u001b[32mObject\u001b[39m.type = Object\n",
       "\u001b[36mconstantsOnlyAtObject\u001b[39m: \u001b[32mRuleConstraint\u001b[39m.\u001b[32mConstantsAtPosition\u001b[39m = \u001b[33mConstantsAtPosition\u001b[39m(\n",
       "  Object\n",
       ")"
      ]
     },
     "execution_count": 13,
     "metadata": {},
     "output_type": "execute_result"
    }
   ],
   "source": [
    "val uri = (value: String) => TripleItem.Uri(value)\n",
    "val qbDataSet = uri(\"http://purl.org/linked-data/cube#dataSet\")\n",
    "// in all cubes\n",
    "val czsoUri = \"http://data.czso.cz/ontology/\"\n",
    "val unemploymentRate = uri(czsoUri+\"podilNezamestnanych\")\n",
    "val reachableApplicants = uri(czsoUri+\"dosazitelniNeumisteniUchazeciOZamestnani\")\n",
    "// only in total cubes\n",
    "val unplacedApplicants = uri(czsoUri+\"neumisteniUchazeciOZamestnani\")\n",
    "val vacaniesCount = uri(czsoUri+\"pocetVolnychMist\")\n",
    "val measures = Array(unemploymentRate,reachableApplicants,unplacedApplicants,vacaniesCount)\n",
    "\n",
    "val oneOfMeasures = OneOf(unemploymentRate,reachableApplicants,unplacedApplicants,vacaniesCount)\n",
    "val refArea = uri(\"http://data.czso.cz/ontology/refArea\")\n",
    "val constantsAtObject = RuleConstraint.ConstantsAtPosition.ConstantsPosition.Object\n",
    "val constantsOnlyAtObject = RuleConstraint.ConstantsAtPosition(constantsAtObject)"
   ]
  },
  {
   "cell_type": "code",
   "execution_count": 14,
   "id": "deadly-luxury",
   "metadata": {},
   "outputs": [
    {
     "data": {
      "text/plain": [
       "\u001b[36moneMeasurePattern\u001b[39m: \u001b[32mRulePattern\u001b[39m = \u001b[33mRulePattern\u001b[39m(\n",
       "  \u001b[33mVector\u001b[39m(\n",
       "    \u001b[33mAtomPattern\u001b[39m(\u001b[33mVariable\u001b[39m(\u001b[33mVariable\u001b[39m(\u001b[32m1\u001b[39m)), Any, Any, \u001b[33mConstant\u001b[39m(\u001b[33mLongUri\u001b[39m(\u001b[32m\"yago\"\u001b[39m))),\n",
       "    \u001b[33mAtomPattern\u001b[39m(\n",
       "      \u001b[33mVariable\u001b[39m(\u001b[33mVariable\u001b[39m(\u001b[32m0\u001b[39m)),\n",
       "      \u001b[33mConstant\u001b[39m(\u001b[33mLongUri\u001b[39m(\u001b[32m\"http://data.czso.cz/ontology/refArea\"\u001b[39m)),\n",
       "      \u001b[33mVariable\u001b[39m(\u001b[33mVariable\u001b[39m(\u001b[32m1\u001b[39m)),\n",
       "      \u001b[33mConstant\u001b[39m(\u001b[33mLongUri\u001b[39m(\u001b[32m\"czso\"\u001b[39m))\n",
       "    ),\n",
       "    \u001b[33mAtomPattern\u001b[39m(\n",
       "      \u001b[33mVariable\u001b[39m(\u001b[33mVariable\u001b[39m(\u001b[32m0\u001b[39m)),\n",
       "      \u001b[33mConstant\u001b[39m(\u001b[33mLongUri\u001b[39m(\u001b[32m\"http://purl.org/linked-data/cube#dataSet\"\u001b[39m)),\n",
       "      Any,\n",
       "      \u001b[33mConstant\u001b[39m(\u001b[33mLongUri\u001b[39m(\u001b[32m\"czso\"\u001b[39m))\n",
       "    )\n",
       "  ),\n",
       "  \u001b[33mSome\u001b[39m(\n",
       "    \u001b[33mAtomPattern\u001b[39m(\n",
       "      \u001b[33mVariable\u001b[39m(\u001b[33mVariable\u001b[39m(\u001b[32m0\u001b[39m)),\n",
       "      \u001b[33mOneOf\u001b[39m(\n",
       "        \u001b[33mArrayBuffer\u001b[39m(\n",
       "          \u001b[33mConstant\u001b[39m(\u001b[33mLongUri\u001b[39m(\u001b[32m\"http://data.czso.cz/ontology/podilNezamestnanych\"\u001b[39m)),\n",
       "          \u001b[33mConstant\u001b[39m(\n",
       "            \u001b[33mLongUri\u001b[39m(\n",
       "              \u001b[32m\"http://data.czso.cz/ontology/dosazitelniNeumisteniUchazeciOZamestnani\"\u001b[39m\n",
       "            )\n",
       "          ),\n",
       "          \u001b[33mConstant\u001b[39m(\n",
       "            \u001b[33mLongUri\u001b[39m(\n",
       "              \u001b[32m\"http://data.czso.cz/ontology/neumisteniUchazeciOZamestnani\"\u001b[39m\n",
       "            )\n",
       "          ),\n",
       "          \u001b[33mConstant\u001b[39m(\u001b[33mLongUri\u001b[39m(\u001b[32m\"http://data.czso.cz/ontology/pocetVolnychMist\"\u001b[39m))\n",
       "        )\n",
       "      ),\n",
       "      Any,\n",
       "      \u001b[33mConstant\u001b[39m(\u001b[33mLongUri\u001b[39m(\u001b[32m\"czso\"\u001b[39m))\n",
       "    )\n",
       "..."
      ]
     },
     "execution_count": 14,
     "metadata": {},
     "output_type": "execute_result"
    }
   ],
   "source": [
    "val oneMeasurePattern = (\n",
    "    AtomPattern(subject = 'b', graph = uri(\"yago\")) &:\n",
    "    AtomPattern(subject = 'a', predicate = refArea, `object` = 'b', graph = uri(\"czso\")) &:\n",
    "    AtomPattern(subject = 'a', predicate = qbDataSet, graph = uri(\"czso\"))\n",
    "    =>: \n",
    "    AtomPattern(subject = 'a', predicate = oneOfMeasures, graph = uri(\"czso\"))\n",
    ")"
   ]
  },
  {
   "cell_type": "code",
   "execution_count": 15,
   "id": "korean-equilibrium",
   "metadata": {},
   "outputs": [
    {
     "data": {
      "text/plain": [
       "\u001b[36moneMeasureTask\u001b[39m: \u001b[32mcom\u001b[39m.\u001b[32mgithub\u001b[39m.\u001b[32mpropi\u001b[39m.\u001b[32mrdfrules\u001b[39m.\u001b[32malgorithm\u001b[39m.\u001b[32mRulesMining\u001b[39m = com.github.propi.rdfrules.algorithm.amie.Amie@25fee45f"
      ]
     },
     "execution_count": 15,
     "metadata": {},
     "output_type": "execute_result"
    }
   ],
   "source": [
    "val oneMeasureTask = Amie()\n",
    "    .addThreshold(Threshold.MinSupport(30))\n",
    "    .addThreshold(Threshold.MaxRuleLength(6))\n",
    "    .addConstraint(constantsOnlyAtObject)\n",
    "    .addPattern(oneMeasurePattern)"
   ]
  },
  {
   "cell_type": "code",
   "execution_count": 16,
   "id": "noted-lobby",
   "metadata": {},
   "outputs": [
    {
     "name": "stderr",
     "output_type": "stream",
     "text": [
      "2021-05-06 16:38:30:762 +0200 [scala-interpreter-1] INFO com.github.propi.rdfrules.utils.Debugger - Amie task settings:\n",
      "MinHeadSize=100,\n",
      "MinHeadCoverage=0.0,\n",
      "MinSupport=30,\n",
      "MaxThreads=4,\n",
      "MinAtomSize=0,\n",
      "MaxRuleLength=6,\n",
      "WithConstants=true,\n",
      "ConstantsPosition=Object,\n",
      "Timeout=-1,\n",
      "WithDuplicitPredicates=true,\n",
      "Patterns=List(Mapped(Vector(Mapped(Variable(?b),Any,Any,Constant(Constant(-1596161386))), Mapped(Variable(?a),Constant(Constant(1481837794)),Variable(?b),Constant(Constant(1015601977))), Mapped(Variable(?a),Constant(Constant(624690160)),Any,Constant(Constant(1015601977)))),Some(Mapped(Variable(?a),OneOf(ArrayBuffer(Constant(Constant(-2070273298)), Constant(Constant(1659106226)), Constant(Constant(1797717682)), Constant(Constant(1142069620)))),Any,Constant(Constant(1015601977)))),false,false)),\n",
      "OnlyPredicates=None,\n",
      "WithoutPredicates=None\n"
     ]
    },
    {
     "name": "stdout",
     "output_type": "stream",
     "text": [
      "rules: 312917\n",
      "duration: 184s\n"
     ]
    },
    {
     "data": {
      "text/plain": [
       "\u001b[36mstartTimeMillis\u001b[39m: \u001b[32mLong\u001b[39m = \u001b[32m1620311910731L\u001b[39m\n",
       "\u001b[36moneMeasureTaskRuleset\u001b[39m: \u001b[32mRuleset\u001b[39m = com.github.propi.rdfrules.ruleset.Ruleset@24974fdb\n",
       "\u001b[36mendTimeMillis\u001b[39m: \u001b[32mLong\u001b[39m = \u001b[32m1620312095119L\u001b[39m\n",
       "\u001b[36mdurationSeconds\u001b[39m: \u001b[32mLong\u001b[39m = \u001b[32m184L\u001b[39m"
      ]
     },
     "execution_count": 16,
     "metadata": {},
     "output_type": "execute_result"
    }
   ],
   "source": [
    "val startTimeMillis = System.currentTimeMillis()\n",
    "val oneMeasureTaskRuleset = index.mine(oneMeasureTask)\n",
    "println(\"rules: \"+oneMeasureTaskRuleset.size)\n",
    "val endTimeMillis = System.currentTimeMillis()\n",
    "val durationSeconds = (endTimeMillis - startTimeMillis) / 1000\n",
    "println(\"duration: \" + durationSeconds + \"s\")"
   ]
  },
  {
   "cell_type": "code",
   "execution_count": 17,
   "id": "protected-parliament",
   "metadata": {},
   "outputs": [],
   "source": [
    "oneMeasureTaskRuleset\n",
    ".export(\"../rulesets/jaurYagoOneMeasureTaskRuleset.txt\")"
   ]
  },
  {
   "cell_type": "code",
   "execution_count": 19,
   "id": "necessary-despite",
   "metadata": {},
   "outputs": [
    {
     "name": "stdout",
     "output_type": "stream",
     "text": [
      "rules: 2236\n",
      "duration: 118s\n"
     ]
    },
    {
     "data": {
      "text/plain": [
       "\u001b[36mstartTimeMillis\u001b[39m: \u001b[32mLong\u001b[39m = \u001b[32m1620312157934L\u001b[39m\n",
       "\u001b[36moneMeasureTaskRulesetFiltered\u001b[39m: \u001b[32mRuleset\u001b[39m = com.github.propi.rdfrules.ruleset.Ruleset@3ab3c32\n",
       "\u001b[36mendTimeMillis\u001b[39m: \u001b[32mLong\u001b[39m = \u001b[32m1620312275937L\u001b[39m\n",
       "\u001b[36mdurationSeconds\u001b[39m: \u001b[32mLong\u001b[39m = \u001b[32m118L\u001b[39m"
      ]
     },
     "execution_count": 19,
     "metadata": {},
     "output_type": "execute_result"
    }
   ],
   "source": [
    "val startTimeMillis = System.currentTimeMillis()\n",
    "val oneMeasureTaskRulesetFiltered = oneMeasureTaskRuleset\n",
    ".filterResolved(rr => {rr.body.count(i => measures.contains(i.predicate)) == 0})\n",
    ".computePcaConfidence(0.6)\n",
    ".sortBy(Measure.PcaConfidence, Measure.Support)\n",
    ".cache\n",
    "oneMeasureTaskRulesetFiltered.export(\"../rulesets/jaurYagoOneMeasureTaskRulesetFiltered.txt\")\n",
    "println(\"rules: \" + oneMeasureTaskRulesetFiltered.size)\n",
    "val endTimeMillis = System.currentTimeMillis()\n",
    "val durationSeconds = (endTimeMillis - startTimeMillis) / 1000\n",
    "println(\"duration: \" + durationSeconds + \"s\")"
   ]
  },
  {
   "cell_type": "code",
   "execution_count": 20,
   "id": "painful-badge",
   "metadata": {},
   "outputs": [
    {
     "data": {
      "text/plain": [
       "\u001b[36moneMeasureTaskRulesetFilteredClustered\u001b[39m: \u001b[32mRuleset\u001b[39m = com.github.propi.rdfrules.ruleset.Ruleset@61283ee5"
      ]
     },
     "execution_count": 20,
     "metadata": {},
     "output_type": "execute_result"
    }
   ],
   "source": [
    "// clustering\n",
    "val oneMeasureTaskRulesetFilteredClustered = oneMeasureTaskRulesetFiltered\n",
    ".makeClusters {\n",
    "implicit val ruleSimilarityCounting: SimilarityCounting[Rule.Simple] = SimilarityCounting.AtomsSimilarityCounting\n",
    "DbScan(minNeighbours = 3, minSimilarity = 0.85)\n",
    "}\n",
    ".cache"
   ]
  },
  {
   "cell_type": "code",
   "execution_count": 21,
   "id": "fundamental-creature",
   "metadata": {},
   "outputs": [
    {
     "name": "stdout",
     "output_type": "stream",
     "text": [
      "duration: 0s\n"
     ]
    },
    {
     "data": {
      "text/plain": [
       "\u001b[36mstartTimeMillis\u001b[39m: \u001b[32mLong\u001b[39m = \u001b[32m1620313449272L\u001b[39m\n",
       "\u001b[36mendTimeMillis\u001b[39m: \u001b[32mLong\u001b[39m = \u001b[32m1620313449309L\u001b[39m\n",
       "\u001b[36mdurationSeconds\u001b[39m: \u001b[32mLong\u001b[39m = \u001b[32m0L\u001b[39m"
      ]
     },
     "execution_count": 21,
     "metadata": {},
     "output_type": "execute_result"
    }
   ],
   "source": [
    "val startTimeMillis = System.currentTimeMillis()\n",
    "oneMeasureTaskRulesetFilteredClustered\n",
    ".cache(\"../cache/oneMeasureTaskRulesetFilteredClustered.cache\")\n",
    ".export(\"../rulesets/jaurYagoOneMeasureTaskRulesetFilteredClustered.txt\")\n",
    "val endTimeMillis = System.currentTimeMillis()\n",
    "val durationSeconds = (endTimeMillis - startTimeMillis) / 1000\n",
    "println(\"duration: \" + durationSeconds + \"s\")"
   ]
  },
  {
   "cell_type": "code",
   "execution_count": 4,
   "id": "unknown-sweet",
   "metadata": {},
   "outputs": [
    {
     "data": {
      "text/plain": [
       "\u001b[36mindex\u001b[39m: \u001b[32mIndex\u001b[39m = com.github.propi.rdfrules.index.Index$FromCacheFullyPreservedIndex@6df7b072\n",
       "\u001b[36moneMeasureTaskRulesetFilteredClustered\u001b[39m: \u001b[32mRuleset\u001b[39m = com.github.propi.rdfrules.ruleset.Ruleset@7d3078b1"
      ]
     },
     "execution_count": 4,
     "metadata": {},
     "output_type": "execute_result"
    }
   ],
   "source": [
    "val index = Index.fromCache(\"../cache/yaurYagoIndex.cache\", false)\n",
    "val oneMeasureTaskRulesetFilteredClustered = Ruleset.fromCache(index, \"../cache/oneMeasureTaskRulesetFilteredClustered.cache\")"
   ]
  },
  {
   "cell_type": "code",
   "execution_count": 34,
   "id": "informal-winner",
   "metadata": {},
   "outputs": [
    {
     "data": {
      "text/plain": [
       "\u001b[36mfilterByCluster\u001b[39m: (\u001b[32mResolvedRule\u001b[39m, \u001b[32mInt\u001b[39m) => \u001b[32mBoolean\u001b[39m = ammonite.$sess.cmd33$Helper$$Lambda$3441/0x0000000840de0840@44e48066"
      ]
     },
     "execution_count": 34,
     "metadata": {},
     "output_type": "execute_result"
    }
   ],
   "source": [
    "val filterByCluster = (r: ResolvedRule, cluster: Int) => \n",
    "r.measures.get(Measure.Cluster).get == Measure.Cluster(cluster)"
   ]
  },
  {
   "cell_type": "code",
   "execution_count": 48,
   "id": "short-feeling",
   "metadata": {},
   "outputs": [
    {
     "data": {
      "text/html": [
       "<div class=\"jp-RenderedText\">\n",
       "<pre><code><span style=\"color: rgb(0, 187, 187)\"><span class=\"ansi-cyan-fg\">clustersMap</span></span>: <span style=\"color: rgb(0, 187, 0)\"><span class=\"ansi-green-fg\">ListMap</span></span>[<span style=\"color: rgb(0, 187, 0)\"><span class=\"ansi-green-fg\">Int</span></span>, <span style=\"color: rgb(0, 187, 0)\"><span class=\"ansi-green-fg\">Int</span></span>] = <span style=\"color: yellow\"><span class=\"ansi-yellow-fg\">ListMap</span></span>(\n",
       "  <span style=\"color: rgb(0, 187, 0)\"><span class=\"ansi-green-fg\">103</span></span> -&gt; <span style=\"color: rgb(0, 187, 0)\"><span class=\"ansi-green-fg\">388</span></span>,\n",
       "  <span style=\"color: rgb(0, 187, 0)\"><span class=\"ansi-green-fg\">88</span></span> -&gt; <span style=\"color: rgb(0, 187, 0)\"><span class=\"ansi-green-fg\">327</span></span>,\n",
       "  <span style=\"color: rgb(0, 187, 0)\"><span class=\"ansi-green-fg\">98</span></span> -&gt; <span style=\"color: rgb(0, 187, 0)\"><span class=\"ansi-green-fg\">211</span></span>,\n",
       "  <span style=\"color: rgb(0, 187, 0)\"><span class=\"ansi-green-fg\">92</span></span> -&gt; <span style=\"color: rgb(0, 187, 0)\"><span class=\"ansi-green-fg\">178</span></span>,\n",
       "  <span style=\"color: rgb(0, 187, 0)\"><span class=\"ansi-green-fg\">100</span></span> -&gt; <span style=\"color: rgb(0, 187, 0)\"><span class=\"ansi-green-fg\">126</span></span>,\n",
       "  <span style=\"color: rgb(0, 187, 0)\"><span class=\"ansi-green-fg\">48</span></span> -&gt; <span style=\"color: rgb(0, 187, 0)\"><span class=\"ansi-green-fg\">113</span></span>,\n",
       "  <span style=\"color: rgb(0, 187, 0)\"><span class=\"ansi-green-fg\">78</span></span> -&gt; <span style=\"color: rgb(0, 187, 0)\"><span class=\"ansi-green-fg\">109</span></span>,\n",
       "  <span style=\"color: rgb(0, 187, 0)\"><span class=\"ansi-green-fg\">4</span></span> -&gt; <span style=\"color: rgb(0, 187, 0)\"><span class=\"ansi-green-fg\">72</span></span>,\n",
       "  <span style=\"color: rgb(0, 187, 0)\"><span class=\"ansi-green-fg\">68</span></span> -&gt; <span style=\"color: rgb(0, 187, 0)\"><span class=\"ansi-green-fg\">59</span></span>,\n",
       "  <span style=\"color: rgb(0, 187, 0)\"><span class=\"ansi-green-fg\">56</span></span> -&gt; <span style=\"color: rgb(0, 187, 0)\"><span class=\"ansi-green-fg\">50</span></span>,\n",
       "  <span style=\"color: rgb(0, 187, 0)\"><span class=\"ansi-green-fg\">101</span></span> -&gt; <span style=\"color: rgb(0, 187, 0)\"><span class=\"ansi-green-fg\">46</span></span>,\n",
       "  <span style=\"color: rgb(0, 187, 0)\"><span class=\"ansi-green-fg\">95</span></span> -&gt; <span style=\"color: rgb(0, 187, 0)\"><span class=\"ansi-green-fg\">44</span></span>,\n",
       "  <span style=\"color: rgb(0, 187, 0)\"><span class=\"ansi-green-fg\">43</span></span> -&gt; <span style=\"color: rgb(0, 187, 0)\"><span class=\"ansi-green-fg\">39</span></span>,\n",
       "  <span style=\"color: rgb(0, 187, 0)\"><span class=\"ansi-green-fg\">39</span></span> -&gt; <span style=\"color: rgb(0, 187, 0)\"><span class=\"ansi-green-fg\">33</span></span>,\n",
       "  <span style=\"color: rgb(0, 187, 0)\"><span class=\"ansi-green-fg\">41</span></span> -&gt; <span style=\"color: rgb(0, 187, 0)\"><span class=\"ansi-green-fg\">32</span></span>,\n",
       "  <span style=\"color: rgb(0, 187, 0)\"><span class=\"ansi-green-fg\">87</span></span> -&gt; <span style=\"color: rgb(0, 187, 0)\"><span class=\"ansi-green-fg\">25</span></span>,\n",
       "  <span style=\"color: rgb(0, 187, 0)\"><span class=\"ansi-green-fg\">44</span></span> -&gt; <span style=\"color: rgb(0, 187, 0)\"><span class=\"ansi-green-fg\">24</span></span>,\n",
       "  <span style=\"color: rgb(0, 187, 0)\"><span class=\"ansi-green-fg\">37</span></span> -&gt; <span style=\"color: rgb(0, 187, 0)\"><span class=\"ansi-green-fg\">23</span></span>,\n",
       "  <span style=\"color: rgb(0, 187, 0)\"><span class=\"ansi-green-fg\">38</span></span> -&gt; <span style=\"color: rgb(0, 187, 0)\"><span class=\"ansi-green-fg\">23</span></span>,\n",
       "  <span style=\"color: rgb(0, 187, 0)\"><span class=\"ansi-green-fg\">52</span></span> -&gt; <span style=\"color: rgb(0, 187, 0)\"><span class=\"ansi-green-fg\">21</span></span>,\n",
       "  <span style=\"color: rgb(0, 187, 0)\"><span class=\"ansi-green-fg\">55</span></span> -&gt; <span style=\"color: rgb(0, 187, 0)\"><span class=\"ansi-green-fg\">20</span></span>,\n",
       "  <span style=\"color: rgb(0, 187, 0)\"><span class=\"ansi-green-fg\">58</span></span> -&gt; <span style=\"color: rgb(0, 187, 0)\"><span class=\"ansi-green-fg\">16</span></span>,\n",
       "  <span style=\"color: rgb(0, 187, 0)\"><span class=\"ansi-green-fg\">102</span></span> -&gt; <span style=\"color: rgb(0, 187, 0)\"><span class=\"ansi-green-fg\">15</span></span>,\n",
       "  <span style=\"color: rgb(0, 187, 0)\"><span class=\"ansi-green-fg\">91</span></span> -&gt; <span style=\"color: rgb(0, 187, 0)\"><span class=\"ansi-green-fg\">14</span></span>,\n",
       "  <span style=\"color: rgb(0, 187, 0)\"><span class=\"ansi-green-fg\">85</span></span> -&gt; <span style=\"color: rgb(0, 187, 0)\"><span class=\"ansi-green-fg\">13</span></span>,\n",
       "  <span style=\"color: rgb(0, 187, 0)\"><span class=\"ansi-green-fg\">46</span></span> -&gt; <span style=\"color: rgb(0, 187, 0)\"><span class=\"ansi-green-fg\">11</span></span>,\n",
       "  <span style=\"color: rgb(0, 187, 0)\"><span class=\"ansi-green-fg\">45</span></span> -&gt; <span style=\"color: rgb(0, 187, 0)\"><span class=\"ansi-green-fg\">10</span></span>,\n",
       "  <span style=\"color: rgb(0, 187, 0)\"><span class=\"ansi-green-fg\">29</span></span> -&gt; <span style=\"color: rgb(0, 187, 0)\"><span class=\"ansi-green-fg\">9</span></span>,\n",
       "  <span style=\"color: rgb(0, 187, 0)\"><span class=\"ansi-green-fg\">54</span></span> -&gt; <span style=\"color: rgb(0, 187, 0)\"><span class=\"ansi-green-fg\">9</span></span>,\n",
       "  <span style=\"color: rgb(0, 187, 0)\"><span class=\"ansi-green-fg\">21</span></span> -&gt; <span style=\"color: rgb(0, 187, 0)\"><span class=\"ansi-green-fg\">8</span></span>,\n",
       "  <span style=\"color: rgb(0, 187, 0)\"><span class=\"ansi-green-fg\">51</span></span> -&gt; <span style=\"color: rgb(0, 187, 0)\"><span class=\"ansi-green-fg\">8</span></span>,\n",
       "  <span style=\"color: rgb(0, 187, 0)\"><span class=\"ansi-green-fg\">53</span></span> -&gt; <span style=\"color: rgb(0, 187, 0)\"><span class=\"ansi-green-fg\">8</span></span>,\n",
       "  <span style=\"color: rgb(0, 187, 0)\"><span class=\"ansi-green-fg\">67</span></span> -&gt; <span style=\"color: rgb(0, 187, 0)\"><span class=\"ansi-green-fg\">8</span></span>,\n",
       "  <span style=\"color: rgb(0, 187, 0)\"><span class=\"ansi-green-fg\">96</span></span> -&gt; <span style=\"color: rgb(0, 187, 0)\"><span class=\"ansi-green-fg\">8</span></span>,\n",
       "  <span style=\"color: rgb(0, 187, 0)\"><span class=\"ansi-green-fg\">47</span></span> -&gt; <span style=\"color: rgb(0, 187, 0)\"><span class=\"ansi-green-fg\">7</span></span>,\n",
       "  <span style=\"color: rgb(0, 187, 0)\"><span class=\"ansi-green-fg\">32</span></span> -&gt; <span style=\"color: rgb(0, 187, 0)\"><span class=\"ansi-green-fg\">6</span></span>,\n",
       "  <span style=\"color: rgb(0, 187, 0)\"><span class=\"ansi-green-fg\">33</span></span> -&gt; <span style=\"color: rgb(0, 187, 0)\"><span class=\"ansi-green-fg\">6</span></span>,\n",
       "  <span style=\"color: rgb(0, 187, 0)\"><span class=\"ansi-green-fg\">59</span></span> -&gt; <span style=\"color: rgb(0, 187, 0)\"><span class=\"ansi-green-fg\">6</span></span>,\n",
       "...</code></pre>\n",
       "</div>"
      ],
      "text/plain": [
       "\u001b[36mclustersMap\u001b[39m: \u001b[32mListMap\u001b[39m[\u001b[32mInt\u001b[39m, \u001b[32mInt\u001b[39m] = \u001b[33mListMap\u001b[39m(\n",
       "  \u001b[32m103\u001b[39m -> \u001b[32m388\u001b[39m,\n",
       "  \u001b[32m88\u001b[39m -> \u001b[32m327\u001b[39m,\n",
       "  \u001b[32m98\u001b[39m -> \u001b[32m211\u001b[39m,\n",
       "  \u001b[32m92\u001b[39m -> \u001b[32m178\u001b[39m,\n",
       "  \u001b[32m100\u001b[39m -> \u001b[32m126\u001b[39m,\n",
       "  \u001b[32m48\u001b[39m -> \u001b[32m113\u001b[39m,\n",
       "  \u001b[32m78\u001b[39m -> \u001b[32m109\u001b[39m,\n",
       "  \u001b[32m4\u001b[39m -> \u001b[32m72\u001b[39m,\n",
       "  \u001b[32m68\u001b[39m -> \u001b[32m59\u001b[39m,\n",
       "  \u001b[32m56\u001b[39m -> \u001b[32m50\u001b[39m,\n",
       "  \u001b[32m101\u001b[39m -> \u001b[32m46\u001b[39m,\n",
       "  \u001b[32m95\u001b[39m -> \u001b[32m44\u001b[39m,\n",
       "  \u001b[32m43\u001b[39m -> \u001b[32m39\u001b[39m,\n",
       "  \u001b[32m39\u001b[39m -> \u001b[32m33\u001b[39m,\n",
       "  \u001b[32m41\u001b[39m -> \u001b[32m32\u001b[39m,\n",
       "  \u001b[32m87\u001b[39m -> \u001b[32m25\u001b[39m,\n",
       "  \u001b[32m44\u001b[39m -> \u001b[32m24\u001b[39m,\n",
       "  \u001b[32m37\u001b[39m -> \u001b[32m23\u001b[39m,\n",
       "  \u001b[32m38\u001b[39m -> \u001b[32m23\u001b[39m,\n",
       "  \u001b[32m52\u001b[39m -> \u001b[32m21\u001b[39m,\n",
       "  \u001b[32m55\u001b[39m -> \u001b[32m20\u001b[39m,\n",
       "  \u001b[32m58\u001b[39m -> \u001b[32m16\u001b[39m,\n",
       "  \u001b[32m102\u001b[39m -> \u001b[32m15\u001b[39m,\n",
       "  \u001b[32m91\u001b[39m -> \u001b[32m14\u001b[39m,\n",
       "  \u001b[32m85\u001b[39m -> \u001b[32m13\u001b[39m,\n",
       "  \u001b[32m46\u001b[39m -> \u001b[32m11\u001b[39m,\n",
       "  \u001b[32m45\u001b[39m -> \u001b[32m10\u001b[39m,\n",
       "  \u001b[32m29\u001b[39m -> \u001b[32m9\u001b[39m,\n",
       "  \u001b[32m54\u001b[39m -> \u001b[32m9\u001b[39m,\n",
       "  \u001b[32m21\u001b[39m -> \u001b[32m8\u001b[39m,\n",
       "  \u001b[32m51\u001b[39m -> \u001b[32m8\u001b[39m,\n",
       "  \u001b[32m53\u001b[39m -> \u001b[32m8\u001b[39m,\n",
       "  \u001b[32m67\u001b[39m -> \u001b[32m8\u001b[39m,\n",
       "  \u001b[32m96\u001b[39m -> \u001b[32m8\u001b[39m,\n",
       "  \u001b[32m47\u001b[39m -> \u001b[32m7\u001b[39m,\n",
       "  \u001b[32m32\u001b[39m -> \u001b[32m6\u001b[39m,\n",
       "  \u001b[32m33\u001b[39m -> \u001b[32m6\u001b[39m,\n",
       "  \u001b[32m59\u001b[39m -> \u001b[32m6\u001b[39m,\n",
       "..."
      ]
     },
     "metadata": {},
     "output_type": "display_data"
    }
   ],
   "source": [
    "var clustersMap: ListMap[Int, Int] = ListMap()\n",
    "breakable {\n",
    "    var counter = 0\n",
    "    while (true) {\n",
    "        val size = oneMeasureTaskRulesetFilteredClustered.filterResolved(r => filterByCluster(r,counter)).size\n",
    "        if (size > 0) {\n",
    "            clustersMap = clustersMap + (counter -> size)\n",
    "            counter = counter + 1\n",
    "        } else break;\n",
    "    }\n",
    "}\n",
    "clustersMap = ListMap(clustersMap.toSeq.sortWith(_._2 > _._2):_*)"
   ]
  }
 ],
 "metadata": {
  "kernelspec": {
   "display_name": "Scala",
   "language": "scala",
   "name": "scala"
  },
  "language_info": {
   "codemirror_mode": "text/x-scala",
   "file_extension": ".sc",
   "mimetype": "text/x-scala",
   "name": "scala",
   "nbconvert_exporter": "script",
   "version": "2.12.8"
  }
 },
 "nbformat": 4,
 "nbformat_minor": 5
}
