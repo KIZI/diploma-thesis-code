{
 "cells": [
  {
   "cell_type": "code",
   "execution_count": null,
   "id": "299c5db2-3828-4d02-8fc9-e03a7438d3fc",
   "metadata": {},
   "outputs": [],
   "source": [
    "// dat do minuleho tasku ...\n",
    "\n",
    "val getSlice = (r: ResolvedRule) => \n",
    "r.body(r.body.size-1).`object`.asInstanceOf[ResolvedRule.Atom.Item.Constant].tripleItem\n",
    "\n",
    "val groupRulesBySlice = (r: Ruleset) => {\n",
    "    var sliceMap: ListMap[String, Int] = ListMap()\n",
    "    breakable {\n",
    "        var tempRuleset = r.resolvedRules\n",
    "        while (tempRuleset.size > 0) {\n",
    "            val datasetUri = getSlice(tempRuleset.head)\n",
    "            val size = tempRuleset.filter(r => getSlice(r) == datasetUri).size\n",
    "            tempRuleset = tempRuleset.filter(r => getSlice(r) != datasetUri)\n",
    "            sliceMap = sliceMap + (datasetUri.toString -> size)\n",
    "        }\n",
    "    }\n",
    "    sliceMap = ListMap(sliceMap.toSeq.sortWith(_._2 > _._2):_*)\n",
    "    sliceMap\n",
    "}"
   ]
  },
  {
   "cell_type": "code",
   "execution_count": null,
   "id": "852ad8fa-3bd5-4b30-8e6e-62d746afc4d7",
   "metadata": {},
   "outputs": [],
   "source": [
    "districtTaskRuleset\n",
    "//.filterResolved(rr => {rr.body.count(i => measures.contains(i.predicate)) == 0})\n",
    ".filterResolved(rr => {rr.body.count(i => i.predicate == qbDataSet) > 1})\n",
    ".filterResolved(rr => {rr.body.count(i => i.predicate == refArea) == 1})\n",
    "\n",
    "//.filterResolved(rr => filterByLength(rr,6))\n",
    "//.size\n",
    ".slice(0,2)\n",
    ".foreach(println)"
   ]
  }
 ],
 "metadata": {
  "kernelspec": {
   "display_name": "Scala",
   "language": "scala",
   "name": "scala"
  },
  "language_info": {
   "codemirror_mode": "text/x-scala",
   "file_extension": ".sc",
   "mimetype": "text/x-scala",
   "name": "scala",
   "nbconvert_exporter": "script",
   "version": "2.12.8"
  }
 },
 "nbformat": 4,
 "nbformat_minor": 5
}
