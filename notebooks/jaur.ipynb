{
 "cells": [
  {
   "cell_type": "code",
   "execution_count": 1,
   "metadata": {},
   "outputs": [],
   "source": [
    "kernel.silent(true)"
   ]
  },
  {
   "cell_type": "code",
   "execution_count": 2,
   "metadata": {},
   "outputs": [],
   "source": [
    "import coursierapi.MavenRepository\n",
    "interp.repositories() ++= Seq(MavenRepository.of(\"https://jitpack.io\"))"
   ]
  },
  {
   "cell_type": "code",
   "execution_count": 3,
   "metadata": {},
   "outputs": [],
   "source": [
    "import $ivy.`com.github.propi:rdfrules:1.5.0`\n",
    "import collection._\n",
    "import org.apache.jena.riot.Lang\n",
    "import reflect.io._, Path._\n",
    "import reflect.io._\n",
    "import Path._\n",
    "import com.github.propi.rdfrules.data._\n",
    "import com.github.propi.rdfrules.algorithm.amie._\n",
    "import com.github.propi.rdfrules.algorithm.dbscan._\n",
    "import com.github.propi.rdfrules.utils._\n",
    "import com.github.propi.rdfrules.index._\n",
    "import com.github.propi.rdfrules.rule._\n",
    "import com.github.propi.rdfrules.ruleset._\n",
    "kernel.silent(false)"
   ]
  },
  {
   "cell_type": "code",
   "execution_count": 4,
   "metadata": {},
   "outputs": [
    {
     "data": {
      "text/plain": [
       "\u001b[36muri\u001b[39m: \u001b[32mString\u001b[39m => \u001b[32mTripleItem\u001b[39m.\u001b[32mUri\u001b[39m = ammonite.$sess.cmd3$Helper$$Lambda$2894/0x0000000840d1d040@58070b97\n",
       "\u001b[36mqbDataSet\u001b[39m: \u001b[32mString\u001b[39m = \u001b[32m\"http://purl.org/linked-data/cube#dataSet\"\u001b[39m"
      ]
     },
     "execution_count": 4,
     "metadata": {},
     "output_type": "execute_result"
    }
   ],
   "source": [
    "val uri = (value: String) => TripleItem.Uri(value)\n",
    "val qbDataSet = \"http://purl.org/linked-data/cube#dataSet\";"
   ]
  },
  {
   "cell_type": "code",
   "execution_count": 5,
   "metadata": {},
   "outputs": [
    {
     "data": {
      "text/plain": [
       "\u001b[36mgraphs\u001b[39m: \u001b[32mIterator\u001b[39m[\u001b[32mString\u001b[39m] = \u001b[32mnon-empty iterator\u001b[39m"
      ]
     },
     "execution_count": 5,
     "metadata": {},
     "output_type": "execute_result"
    }
   ],
   "source": [
    "val graphs = \"../data/jaur\".toDirectory.files.map(_.path).filter(g => g matches \"\"\".*\\.ttl\"\"\")"
   ]
  },
  {
   "cell_type": "code",
   "execution_count": 6,
   "metadata": {},
   "outputs": [
    {
     "data": {
      "text/html": [
       "<div class=\"jp-RenderedText\">\n",
       "<pre><code><span style=\"color: rgb(0, 187, 187)\"><span class=\"ansi-cyan-fg\">jaurCubesMap</span></span>: <span style=\"color: rgb(0, 187, 0)\"><span class=\"ansi-green-fg\">Map</span></span>[<span style=\"color: rgb(0, 187, 0)\"><span class=\"ansi-green-fg\">String</span></span>, <span style=\"color: rgb(0, 187, 0)\"><span class=\"ansi-green-fg\">Graph</span></span>] = <span style=\"color: yellow\"><span class=\"ansi-yellow-fg\">Map</span></span>(\n",
       "  <span style=\"color: rgb(0, 187, 0)\"><span class=\"ansi-green-fg\">&quot;jaur-regions-total&quot;</span></span> -&gt; com.github.propi.rdfrules.data.Graph@48d69e26,\n",
       "  <span style=\"color: rgb(0, 187, 0)\"><span class=\"ansi-green-fg\">&quot;jaur-regions-by-sex&quot;</span></span> -&gt; com.github.propi.rdfrules.data.Graph@3c191793,\n",
       "  <span style=\"color: rgb(0, 187, 0)\"><span class=\"ansi-green-fg\">&quot;jaur-districts-by-sex&quot;</span></span> -&gt; com.github.propi.rdfrules.data.Graph@644c8e23,\n",
       "  <span style=\"color: rgb(0, 187, 0)\"><span class=\"ansi-green-fg\">&quot;jaur-districts-total&quot;</span></span> -&gt; com.github.propi.rdfrules.data.Graph@56f23168\n",
       ")</code></pre>\n",
       "</div>"
      ],
      "text/plain": [
       "\u001b[36mjaurCubesMap\u001b[39m: \u001b[32mMap\u001b[39m[\u001b[32mString\u001b[39m, \u001b[32mGraph\u001b[39m] = \u001b[33mMap\u001b[39m(\n",
       "  \u001b[32m\"jaur-regions-total\"\u001b[39m -> com.github.propi.rdfrules.data.Graph@48d69e26,\n",
       "  \u001b[32m\"jaur-regions-by-sex\"\u001b[39m -> com.github.propi.rdfrules.data.Graph@3c191793,\n",
       "  \u001b[32m\"jaur-districts-by-sex\"\u001b[39m -> com.github.propi.rdfrules.data.Graph@644c8e23,\n",
       "  \u001b[32m\"jaur-districts-total\"\u001b[39m -> com.github.propi.rdfrules.data.Graph@56f23168\n",
       ")"
      ]
     },
     "metadata": {},
     "output_type": "display_data"
    }
   ],
   "source": [
    "var jaurCubesMap: Map[String, Graph] = Map()\n",
    "graphs.foreach(g => {\n",
    "    val name = g.replaceAll(\"\\\\.ttl\", \"\").replaceAll(\"^.*/\", \"\")\n",
    "    jaurCubesMap = jaurCubesMap + (name -> Graph(\"czso\",g))\n",
    "})"
   ]
  },
  {
   "cell_type": "code",
   "execution_count": 13,
   "metadata": {},
   "outputs": [
    {
     "name": "stdout",
     "output_type": "stream",
     "text": [
      "jaur-regions-total: 117\n",
      "jaur-regions-by-sex: 234\n",
      "jaur-districts-by-sex: 1368\n",
      "jaur-districts-total: 684\n"
     ]
    }
   ],
   "source": [
    "jaurCubesMap.foreach(r => println(r._1 + \": \" + r._2.filter(t => t.predicate.hasSameUriAs(qbDataSet)).size))"
   ]
  },
  {
   "cell_type": "code",
   "execution_count": 8,
   "metadata": {},
   "outputs": [],
   "source": [
    "val intervalCounts = Array(10,30,50,100)\n",
    "val supportPercents = Array(1,2,3)\n",
    "val equiSize = (support: Int) => DiscretizationTask.Equisize(support)\n",
    "val equiFrequent = (intervalCount: Int) => DiscretizationTask.Equifrequency(intervalCount)"
   ]
  },
  {
   "cell_type": "code",
   "execution_count": 9,
   "metadata": {},
   "outputs": [],
   "source": [
    "import eu.easyminer.discretization.impl.Interval\n",
    "import eu.easyminer.discretization.impl.IntervalBound._\n",
    "val rounded = (value: Double, scale: Integer) => BigDecimal(value).setScale(scale, BigDecimal.RoundingMode.HALF_UP).toDouble\n",
    "val intervalToString = (i: Interval) => \"<\"+rounded(i.minValue.value,2)+ \"__\"+rounded(i.maxValue.value,2)+\")\""
   ]
  },
  {
   "cell_type": "code",
   "execution_count": 10,
   "metadata": {},
   "outputs": [],
   "source": [
    "// in all cubes\n",
    "val czsoUri = \"http://data.czso.cz/ontology/\"\n",
    "val unemploymentRate = uri(czsoUri+\"podilNezamestnanych\")\n",
    "val reachableApplicants = uri(czsoUri+\"dosazitelniNeumisteniUchazeciOZamestnani\")\n",
    "\n",
    "// only in total cubes\n",
    "val unplacedApplicants = uri(czsoUri+\"neumisteniUchazeciOZamestnani\")\n",
    "val vacaniesCount = uri(czsoUri+\"pocetVolnychMist\")\n",
    "\n",
    "val measureUris = Array(unemploymentRate,reachableApplicants,unplacedApplicants,vacaniesCount) "
   ]
  },
  {
   "cell_type": "code",
   "execution_count": 11,
   "metadata": {},
   "outputs": [],
   "source": [
    "val discretizeEquisize = (graph: Graph, relativeSupport: Int, measure: TripleItem.Uri) => {\n",
    "    val observationsCount = graph.filter(t => t.predicate.hasSameUriAs(qbDataSet)).size\n",
    "    val absoluteSupport = (observationsCount * (relativeSupport.toFloat / 100)).ceil.toInt\n",
    "    graph.filter(t => t.predicate == measure)\n",
    "         .discretize(equiSize(absoluteSupport))(quad => quad.triple.predicate == measure)\n",
    "}\n",
    "\n",
    "val discretizeEquifrequent = (graph: Graph, intervalsCount: Int, measure: TripleItem.Uri) => {\n",
    "    graph.filter(t => t.predicate == measure)\n",
    "         .discretize(equiFrequent(intervalsCount))(quad => quad.triple.predicate == measure)\n",
    "}\n",
    "\n",
    "val discretizeEquisizeAndGetIntervals = (graph: Graph, relativeSupport: Int, measure: TripleItem.Uri) => {\n",
    "    val observationsCount = graph.filter(t => t.predicate.hasSameUriAs(qbDataSet)).size\n",
    "    val absoluteSupport = (observationsCount * (relativeSupport.toFloat / 100)).ceil.toInt\n",
    "    graph.filter(t => t.predicate == measure)\n",
    "         .discretizeAndGetIntervals(equiSize(absoluteSupport))(quad => quad.triple.predicate == measure)   \n",
    "}\n",
    "\n",
    "val discretizeEquifrequentAndGetIntervals = (graph: Graph, intervalsCount: Int, measure: TripleItem.Uri) => {\n",
    "    graph.filter(t => t.predicate == measure)\n",
    "         .discretizeAndGetIntervals(equiFrequent(intervalsCount))(quad => quad.triple.predicate == measure)\n",
    "}"
   ]
  },
  {
   "cell_type": "code",
   "execution_count": 12,
   "metadata": {},
   "outputs": [],
   "source": [
    "val lowerBound = (interval: String) => interval.split(\" \")(1)\n",
    "val upperBound = (interval: String) => interval.split(\" \")(3)\n",
    "val lowerBoundInterval = (interval: Interval) => interval.minValue.value.toString\n",
    "val upperBoundInterval = (interval: Interval) => interval.maxValue.value.toString\n",
    "\n",
    "val equalIntervals = (i1: String, i2: Interval) => {\n",
    "    lowerBound(i1).equals(lowerBoundInterval(i2)) && upperBound(i1).equals(upperBoundInterval(i2))\n",
    "}"
   ]
  },
  {
   "cell_type": "code",
   "execution_count": 13,
   "metadata": {},
   "outputs": [],
   "source": [
    "val renameInterval = (t: Triple, intervals: IndexedSeq[Interval], suffix: String) => {\n",
    "    var result = t\n",
    "    intervals.foreach(interval => {\n",
    "        if (equalIntervals(t.`object`.toString, interval)) {\n",
    "            result = t.copy(`object` = TripleItem.Uri(intervalToString(interval)+\"_\"+suffix+\"_\"+(intervals.indexOf(interval)+1)+\"/\"+intervals.size) )\n",
    "        }\n",
    "    })\n",
    "    result\n",
    "}\n",
    "\n",
    "val discretize = (graph: Graph, name: String) => {\n",
    "    var result = Dataset() + \n",
    "    graph.filter(t => !measureUris.contains(t.predicate))\n",
    "    .map(t => if (t.predicate.hasSameUriAs(qbDataSet)) t.copy(`object` = uri(name)) else t)\n",
    "    \n",
    "        measureUris.foreach(measure => {\n",
    "            intervalCounts.foreach(intervalCount => {\n",
    "            val intervals = discretizeEquifrequentAndGetIntervals(graph, intervalCount, measure)\n",
    "            val measures = discretizeEquifrequent(graph, intervalCount, measure)\n",
    "            result = result + measures.map(t => {renameInterval(t, intervals, \"ef\"+intervalCount)})\n",
    "        })\n",
    "\n",
    "        supportPercents.foreach(percentage => {\n",
    "            val intervals = discretizeEquisizeAndGetIntervals(graph, percentage, measure)\n",
    "            val measures = discretizeEquisize(graph, percentage, measure)\n",
    "            result = result + measures.map(t => {renameInterval(t, intervals, \"es\"+percentage)})\n",
    "        })\n",
    "    })\n",
    "    result\n",
    "}"
   ]
  },
  {
   "cell_type": "code",
   "execution_count": 14,
   "metadata": {},
   "outputs": [
    {
     "data": {
      "text/html": [
       "<div class=\"jp-RenderedText\">\n",
       "<pre><code></code></pre>\n",
       "</div>"
      ],
      "text/plain": []
     },
     "metadata": {},
     "output_type": "display_data"
    }
   ],
   "source": [
    "var dataset = Dataset()\n",
    "jaurCubesMap\n",
    ".map(t => discretize(t._2,t._1))\n",
    ".foreach(d => dataset = dataset + d)"
   ]
  },
  {
   "cell_type": "code",
   "execution_count": 15,
   "metadata": {},
   "outputs": [],
   "source": [
    "dataset.cache(\"../cache/jaurCube.cache\")\n",
    "dataset.export(\"../exports/jaurCube.ttl\")"
   ]
  }
 ],
 "metadata": {
  "kernelspec": {
   "display_name": "Scala",
   "language": "scala",
   "name": "scala"
  },
  "language_info": {
   "codemirror_mode": "text/x-scala",
   "file_extension": ".sc",
   "mimetype": "text/x-scala",
   "name": "scala",
   "nbconvert_exporter": "script",
   "version": "2.12.8"
  }
 },
 "nbformat": 4,
 "nbformat_minor": 4
}
