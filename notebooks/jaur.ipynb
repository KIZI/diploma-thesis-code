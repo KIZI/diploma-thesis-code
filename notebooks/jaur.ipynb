{
 "cells": [
  {
   "cell_type": "code",
   "execution_count": 1,
   "metadata": {},
   "outputs": [],
   "source": [
    "kernel.silent(true)"
   ]
  },
  {
   "cell_type": "code",
   "execution_count": 2,
   "metadata": {},
   "outputs": [],
   "source": [
    "import coursierapi.MavenRepository\n",
    "interp.repositories() ++= Seq(MavenRepository.of(\"https://jitpack.io\"))"
   ]
  },
  {
   "cell_type": "code",
   "execution_count": 3,
   "metadata": {},
   "outputs": [],
   "source": [
    "import $ivy.`com.github.propi:rdfrules:1.5.0`\n",
    "import collection._\n",
    "import org.apache.jena.riot.Lang\n",
    "import reflect.io._, Path._\n",
    "import reflect.io._\n",
    "import Path._\n",
    "import com.github.propi.rdfrules.data._\n",
    "import com.github.propi.rdfrules.algorithm.amie._\n",
    "import com.github.propi.rdfrules.algorithm.dbscan._\n",
    "import com.github.propi.rdfrules.utils._\n",
    "import com.github.propi.rdfrules.index._\n",
    "import com.github.propi.rdfrules.rule._\n",
    "import com.github.propi.rdfrules.ruleset._\n",
    "kernel.silent(false)"
   ]
  },
  {
   "cell_type": "code",
   "execution_count": 4,
   "metadata": {},
   "outputs": [
    {
     "data": {
      "text/plain": [
       "\u001b[36muri\u001b[39m: \u001b[32mString\u001b[39m => \u001b[32mTripleItem\u001b[39m.\u001b[32mUri\u001b[39m = ammonite.$sess.cmd3$Helper$$Lambda$2799/0x0000000840c6f840@746b6b3\n",
       "\u001b[36mqbDataSet\u001b[39m: \u001b[32mString\u001b[39m = \u001b[32m\"http://purl.org/linked-data/cube#dataSet\"\u001b[39m"
      ]
     },
     "execution_count": 4,
     "metadata": {},
     "output_type": "execute_result"
    }
   ],
   "source": [
    "val uri = (value: String) => TripleItem.Uri(value)\n",
    "val qbDataSet = \"http://purl.org/linked-data/cube#dataSet\";"
   ]
  },
  {
   "cell_type": "code",
   "execution_count": 5,
   "metadata": {},
   "outputs": [
    {
     "data": {
      "text/plain": [
       "\u001b[36mgraphs\u001b[39m: \u001b[32mIterator\u001b[39m[\u001b[32mString\u001b[39m] = \u001b[32mnon-empty iterator\u001b[39m"
      ]
     },
     "execution_count": 5,
     "metadata": {},
     "output_type": "execute_result"
    }
   ],
   "source": [
    "val graphs = \"../data/jaur\".toDirectory.files.map(_.path).filter(g => g matches \"\"\".*\\.ttl\"\"\")"
   ]
  },
  {
   "cell_type": "code",
   "execution_count": 6,
   "metadata": {},
   "outputs": [
    {
     "data": {
      "text/html": [
       "<div class=\"jp-RenderedText\">\n",
       "<pre><code><span style=\"color: rgb(0, 187, 187)\"><span class=\"ansi-cyan-fg\">jaurCubesMap</span></span>: <span style=\"color: rgb(0, 187, 0)\"><span class=\"ansi-green-fg\">Map</span></span>[<span style=\"color: rgb(0, 187, 0)\"><span class=\"ansi-green-fg\">String</span></span>, <span style=\"color: rgb(0, 187, 0)\"><span class=\"ansi-green-fg\">Graph</span></span>] = <span style=\"color: yellow\"><span class=\"ansi-yellow-fg\">Map</span></span>(\n",
       "  <span style=\"color: rgb(0, 187, 0)\"><span class=\"ansi-green-fg\">&quot;jaur-regions-bysex&quot;</span></span> -&gt; com.github.propi.rdfrules.data.Graph@cc371fa,\n",
       "  <span style=\"color: rgb(0, 187, 0)\"><span class=\"ansi-green-fg\">&quot;jaur-regions-total&quot;</span></span> -&gt; com.github.propi.rdfrules.data.Graph@270a3ad5,\n",
       "  <span style=\"color: rgb(0, 187, 0)\"><span class=\"ansi-green-fg\">&quot;jaur-districts-total&quot;</span></span> -&gt; com.github.propi.rdfrules.data.Graph@64eddec3,\n",
       "  <span style=\"color: rgb(0, 187, 0)\"><span class=\"ansi-green-fg\">&quot;jaur-districts-bysex&quot;</span></span> -&gt; com.github.propi.rdfrules.data.Graph@5157a832\n",
       ")</code></pre>\n",
       "</div>"
      ],
      "text/plain": [
       "\u001b[36mjaurCubesMap\u001b[39m: \u001b[32mMap\u001b[39m[\u001b[32mString\u001b[39m, \u001b[32mGraph\u001b[39m] = \u001b[33mMap\u001b[39m(\n",
       "  \u001b[32m\"jaur-regions-bysex\"\u001b[39m -> com.github.propi.rdfrules.data.Graph@cc371fa,\n",
       "  \u001b[32m\"jaur-regions-total\"\u001b[39m -> com.github.propi.rdfrules.data.Graph@270a3ad5,\n",
       "  \u001b[32m\"jaur-districts-total\"\u001b[39m -> com.github.propi.rdfrules.data.Graph@64eddec3,\n",
       "  \u001b[32m\"jaur-districts-bysex\"\u001b[39m -> com.github.propi.rdfrules.data.Graph@5157a832\n",
       ")"
      ]
     },
     "metadata": {},
     "output_type": "display_data"
    }
   ],
   "source": [
    "var jaurCubesMap: Map[String, Graph] = Map()\n",
    "graphs.foreach(g => {\n",
    "    val name = g.replaceAll(\"\\\\.ttl\", \"\").replaceAll(\"^.*/\", \"\")\n",
    "    jaurCubesMap = jaurCubesMap + (name -> Graph(\"czso\",g))\n",
    "})"
   ]
  },
  {
   "cell_type": "code",
   "execution_count": 7,
   "metadata": {},
   "outputs": [
    {
     "name": "stdout",
     "output_type": "stream",
     "text": [
      "jaur-regions-bysex: 234\n",
      "jaur-regions-total: 117\n",
      "jaur-districts-total: 684\n",
      "jaur-districts-bysex: 1368\n"
     ]
    }
   ],
   "source": [
    "jaurCubesMap.foreach(r => println(r._1 + \": \" + r._2.filter(t => t.predicate.hasSameUriAs(qbDataSet)).size))"
   ]
  },
  {
   "cell_type": "code",
   "execution_count": 8,
   "metadata": {},
   "outputs": [
    {
     "data": {
      "text/plain": [
       "\u001b[36mintervalCounts\u001b[39m: \u001b[32mArray\u001b[39m[\u001b[32mInt\u001b[39m] = \u001b[33mArray\u001b[39m(\u001b[32m10\u001b[39m, \u001b[32m30\u001b[39m, \u001b[32m50\u001b[39m, \u001b[32m100\u001b[39m)\n",
       "\u001b[36msupportPercents\u001b[39m: \u001b[32mArray\u001b[39m[\u001b[32mInt\u001b[39m] = \u001b[33mArray\u001b[39m(\u001b[32m1\u001b[39m, \u001b[32m2\u001b[39m, \u001b[32m3\u001b[39m)\n",
       "\u001b[36mequiSize\u001b[39m: \u001b[32mInt\u001b[39m => \u001b[32mDiscretizationTask\u001b[39m.\u001b[32mEquisize\u001b[39m = ammonite.$sess.cmd7$Helper$$Lambda$3032/0x0000000840dfd840@273c7de2\n",
       "\u001b[36mequiFrequent\u001b[39m: \u001b[32mInt\u001b[39m => \u001b[32mDiscretizationTask\u001b[39m.\u001b[32mEquifrequency\u001b[39m = ammonite.$sess.cmd7$Helper$$Lambda$3033/0x0000000840dfe040@594f6c25"
      ]
     },
     "execution_count": 8,
     "metadata": {},
     "output_type": "execute_result"
    }
   ],
   "source": [
    "val intervalCounts = Array(10,30,50,100)\n",
    "val supportPercents = Array(1,2,3)\n",
    "val equiSize = (support: Int) => DiscretizationTask.Equisize(support)\n",
    "val equiFrequent = (intervalCount: Int) => DiscretizationTask.Equifrequency(intervalCount)"
   ]
  },
  {
   "cell_type": "code",
   "execution_count": 9,
   "metadata": {},
   "outputs": [
    {
     "data": {
      "text/plain": [
       "\u001b[32mimport \u001b[39m\u001b[36meu.easyminer.discretization.impl.Interval\n",
       "\u001b[39m\n",
       "\u001b[32mimport \u001b[39m\u001b[36meu.easyminer.discretization.impl.IntervalBound._\n",
       "\u001b[39m\n",
       "\u001b[36mrounded\u001b[39m: (\u001b[32mDouble\u001b[39m, \u001b[32mInteger\u001b[39m) => \u001b[32mDouble\u001b[39m = ammonite.$sess.cmd8$Helper$$Lambda$3058/0x0000000840e0b040@1bfca1ec\n",
       "\u001b[36mintervalToString\u001b[39m: \u001b[32mInterval\u001b[39m => \u001b[32mString\u001b[39m = ammonite.$sess.cmd8$Helper$$Lambda$3059/0x0000000840e0b840@2cc63a0a"
      ]
     },
     "execution_count": 9,
     "metadata": {},
     "output_type": "execute_result"
    }
   ],
   "source": [
    "import eu.easyminer.discretization.impl.Interval\n",
    "import eu.easyminer.discretization.impl.IntervalBound._\n",
    "val rounded = (value: Double, scale: Integer) => BigDecimal(value).setScale(scale, BigDecimal.RoundingMode.HALF_UP).toDouble\n",
    "val intervalToString = (i: Interval) => \"<\"+rounded(i.minValue.value,2)+ \"__\"+rounded(i.maxValue.value,2)+\")\""
   ]
  },
  {
   "cell_type": "code",
   "execution_count": 10,
   "metadata": {},
   "outputs": [
    {
     "data": {
      "text/plain": [
       "\u001b[36mczsoUri\u001b[39m: \u001b[32mString\u001b[39m = \u001b[32m\"http://data.czso.cz/ontology/\"\u001b[39m\n",
       "\u001b[36munemploymentRate\u001b[39m: \u001b[32mTripleItem\u001b[39m.\u001b[32mUri\u001b[39m = \u001b[33mLongUri\u001b[39m(\n",
       "  \u001b[32m\"http://data.czso.cz/ontology/podilNezamestnanych\"\u001b[39m\n",
       ")\n",
       "\u001b[36mreachableApplicants\u001b[39m: \u001b[32mTripleItem\u001b[39m.\u001b[32mUri\u001b[39m = \u001b[33mLongUri\u001b[39m(\n",
       "  \u001b[32m\"http://data.czso.cz/ontology/dosazitelniNeumisteniUchazeciOZamestnani\"\u001b[39m\n",
       ")\n",
       "\u001b[36munplacedApplicants\u001b[39m: \u001b[32mTripleItem\u001b[39m.\u001b[32mUri\u001b[39m = \u001b[33mLongUri\u001b[39m(\n",
       "  \u001b[32m\"http://data.czso.cz/ontology/neumisteniUchazeciOZamestnani\"\u001b[39m\n",
       ")\n",
       "\u001b[36mvacaniesCount\u001b[39m: \u001b[32mTripleItem\u001b[39m.\u001b[32mUri\u001b[39m = \u001b[33mLongUri\u001b[39m(\n",
       "  \u001b[32m\"http://data.czso.cz/ontology/pocetVolnychMist\"\u001b[39m\n",
       ")\n",
       "\u001b[36mmeasureUris\u001b[39m: \u001b[32mArray\u001b[39m[\u001b[32mTripleItem\u001b[39m.\u001b[32mUri\u001b[39m] = \u001b[33mArray\u001b[39m(\n",
       "  \u001b[33mLongUri\u001b[39m(\u001b[32m\"http://data.czso.cz/ontology/podilNezamestnanych\"\u001b[39m),\n",
       "  \u001b[33mLongUri\u001b[39m(\n",
       "    \u001b[32m\"http://data.czso.cz/ontology/dosazitelniNeumisteniUchazeciOZamestnani\"\u001b[39m\n",
       "  ),\n",
       "  \u001b[33mLongUri\u001b[39m(\u001b[32m\"http://data.czso.cz/ontology/neumisteniUchazeciOZamestnani\"\u001b[39m),\n",
       "  \u001b[33mLongUri\u001b[39m(\u001b[32m\"http://data.czso.cz/ontology/pocetVolnychMist\"\u001b[39m)\n",
       ")"
      ]
     },
     "execution_count": 10,
     "metadata": {},
     "output_type": "execute_result"
    }
   ],
   "source": [
    "// in all cubes\n",
    "val czsoUri = \"http://data.czso.cz/ontology/\"\n",
    "val unemploymentRate = uri(czsoUri+\"podilNezamestnanych\")\n",
    "val reachableApplicants = uri(czsoUri+\"dosazitelniNeumisteniUchazeciOZamestnani\")\n",
    "\n",
    "// only in total cubes\n",
    "val unplacedApplicants = uri(czsoUri+\"neumisteniUchazeciOZamestnani\")\n",
    "val vacaniesCount = uri(czsoUri+\"pocetVolnychMist\")\n",
    "\n",
    "val measureUris = Array(unemploymentRate,reachableApplicants,unplacedApplicants,vacaniesCount) "
   ]
  },
  {
   "cell_type": "code",
   "execution_count": 11,
   "metadata": {},
   "outputs": [
    {
     "data": {
      "text/plain": [
       "\u001b[36mdiscretizeEquisize\u001b[39m: (\u001b[32mGraph\u001b[39m, \u001b[32mInt\u001b[39m, \u001b[32mTripleItem\u001b[39m.\u001b[32mUri\u001b[39m) => \u001b[32mGraph\u001b[39m = ammonite.$sess.cmd10$Helper$$Lambda$3098/0x0000000840e2f840@7871ecd2\n",
       "\u001b[36mdiscretizeEquifrequent\u001b[39m: (\u001b[32mGraph\u001b[39m, \u001b[32mInt\u001b[39m, \u001b[32mTripleItem\u001b[39m.\u001b[32mUri\u001b[39m) => \u001b[32mGraph\u001b[39m = ammonite.$sess.cmd10$Helper$$Lambda$3099/0x0000000840e2fc40@42604dfd\n",
       "\u001b[36mdiscretizeEquisizeAndGetIntervals\u001b[39m: (\u001b[32mGraph\u001b[39m, \u001b[32mInt\u001b[39m, \u001b[32mTripleItem\u001b[39m.\u001b[32mUri\u001b[39m) => \u001b[32mIndexedSeq\u001b[39m[\u001b[32mInterval\u001b[39m] = ammonite.$sess.cmd10$Helper$$Lambda$3100/0x0000000840e2f040@5b1e3963\n",
       "\u001b[36mdiscretizeEquifrequentAndGetIntervals\u001b[39m: (\u001b[32mGraph\u001b[39m, \u001b[32mInt\u001b[39m, \u001b[32mTripleItem\u001b[39m.\u001b[32mUri\u001b[39m) => \u001b[32mIndexedSeq\u001b[39m[\u001b[32mInterval\u001b[39m] = ammonite.$sess.cmd10$Helper$$Lambda$3101/0x0000000840e2f440@78e937bb"
      ]
     },
     "execution_count": 11,
     "metadata": {},
     "output_type": "execute_result"
    }
   ],
   "source": [
    "val discretizeEquisize = (graph: Graph, relativeSupport: Int, measure: TripleItem.Uri) => {\n",
    "    val observationsCount = graph.filter(t => t.predicate.hasSameUriAs(qbDataSet)).size\n",
    "    val absoluteSupport = (observationsCount * (relativeSupport.toFloat / 100)).ceil.toInt\n",
    "    graph.filter(t => t.predicate == measure)\n",
    "         .discretize(equiSize(absoluteSupport))(quad => quad.triple.predicate == measure)\n",
    "}\n",
    "\n",
    "val discretizeEquifrequent = (graph: Graph, intervalsCount: Int, measure: TripleItem.Uri) => {\n",
    "    graph.filter(t => t.predicate == measure)\n",
    "         .discretize(equiFrequent(intervalsCount))(quad => quad.triple.predicate == measure)\n",
    "}\n",
    "\n",
    "val discretizeEquisizeAndGetIntervals = (graph: Graph, relativeSupport: Int, measure: TripleItem.Uri) => {\n",
    "    val observationsCount = graph.filter(t => t.predicate.hasSameUriAs(qbDataSet)).size\n",
    "    val absoluteSupport = (observationsCount * (relativeSupport.toFloat / 100)).ceil.toInt\n",
    "    graph.filter(t => t.predicate == measure)\n",
    "         .discretizeAndGetIntervals(equiSize(absoluteSupport))(quad => quad.triple.predicate == measure)   \n",
    "}\n",
    "\n",
    "val discretizeEquifrequentAndGetIntervals = (graph: Graph, intervalsCount: Int, measure: TripleItem.Uri) => {\n",
    "    graph.filter(t => t.predicate == measure)\n",
    "         .discretizeAndGetIntervals(equiFrequent(intervalsCount))(quad => quad.triple.predicate == measure)\n",
    "}"
   ]
  },
  {
   "cell_type": "code",
   "execution_count": 12,
   "metadata": {},
   "outputs": [
    {
     "data": {
      "text/plain": [
       "\u001b[36mlowerBound\u001b[39m: \u001b[32mString\u001b[39m => \u001b[32mString\u001b[39m = ammonite.$sess.cmd11$Helper$$Lambda$3136/0x0000000840e49840@e2d068e\n",
       "\u001b[36mupperBound\u001b[39m: \u001b[32mString\u001b[39m => \u001b[32mString\u001b[39m = ammonite.$sess.cmd11$Helper$$Lambda$3137/0x0000000840e4a040@6a7e618f\n",
       "\u001b[36mlowerBoundInterval\u001b[39m: \u001b[32mInterval\u001b[39m => \u001b[32mString\u001b[39m = ammonite.$sess.cmd11$Helper$$Lambda$3138/0x0000000840e4b040@5ee4f9d7\n",
       "\u001b[36mupperBoundInterval\u001b[39m: \u001b[32mInterval\u001b[39m => \u001b[32mString\u001b[39m = ammonite.$sess.cmd11$Helper$$Lambda$3139/0x0000000840e4b840@44eda03c\n",
       "\u001b[36mequalIntervals\u001b[39m: (\u001b[32mString\u001b[39m, \u001b[32mInterval\u001b[39m) => \u001b[32mBoolean\u001b[39m = ammonite.$sess.cmd11$Helper$$Lambda$3140/0x0000000840e4c840@7f6cee88"
      ]
     },
     "execution_count": 12,
     "metadata": {},
     "output_type": "execute_result"
    }
   ],
   "source": [
    "val lowerBound = (interval: String) => interval.split(\" \")(1)\n",
    "val upperBound = (interval: String) => interval.split(\" \")(3)\n",
    "val lowerBoundInterval = (interval: Interval) => interval.minValue.value.toString\n",
    "val upperBoundInterval = (interval: Interval) => interval.maxValue.value.toString\n",
    "\n",
    "val equalIntervals = (i1: String, i2: Interval) => {\n",
    "    lowerBound(i1).equals(lowerBoundInterval(i2)) && upperBound(i1).equals(upperBoundInterval(i2))\n",
    "}"
   ]
  },
  {
   "cell_type": "code",
   "execution_count": 13,
   "metadata": {},
   "outputs": [
    {
     "data": {
      "text/plain": [
       "\u001b[36mrenameInterval\u001b[39m: (\u001b[32mTriple\u001b[39m, \u001b[32mIndexedSeq\u001b[39m[\u001b[32mInterval\u001b[39m], \u001b[32mString\u001b[39m) => \u001b[32mTriple\u001b[39m = ammonite.$sess.cmd12$Helper$$Lambda$3179/0x0000000840e62c40@3d3b68df\n",
       "\u001b[36mdiscretize\u001b[39m: (\u001b[32mGraph\u001b[39m, \u001b[32mString\u001b[39m) => \u001b[32mDataset\u001b[39m = ammonite.$sess.cmd12$Helper$$Lambda$3180/0x0000000840e64040@42d86300"
      ]
     },
     "execution_count": 13,
     "metadata": {},
     "output_type": "execute_result"
    }
   ],
   "source": [
    "val renameInterval = (t: Triple, intervals: IndexedSeq[Interval], suffix: String) => {\n",
    "    var result = t\n",
    "    intervals.foreach(interval => {\n",
    "        if (equalIntervals(t.`object`.toString, interval)) {\n",
    "            result = t.copy(`object` = TripleItem.Uri(intervalToString(interval)+\"_\"+suffix+\"_\"+(intervals.indexOf(interval)+1)+\"/\"+intervals.size) )\n",
    "        }\n",
    "    })\n",
    "    result\n",
    "}\n",
    "\n",
    "val discretize = (graph: Graph, name: String) => {\n",
    "    var result = Dataset() + \n",
    "    graph.filter(t => !measureUris.contains(t.predicate))\n",
    "    .map(t => if (t.predicate.hasSameUriAs(qbDataSet)) t.copy(`object` = uri(name)) else t)\n",
    "    \n",
    "        measureUris.foreach(measure => {\n",
    "            intervalCounts.foreach(intervalCount => {\n",
    "            val intervals = discretizeEquifrequentAndGetIntervals(graph, intervalCount, measure)\n",
    "            val measures = discretizeEquifrequent(graph, intervalCount, measure)\n",
    "            result = result + measures.map(t => {renameInterval(t, intervals, \"ef\"+intervalCount)})\n",
    "        })\n",
    "\n",
    "        supportPercents.foreach(percentage => {\n",
    "            val intervals = discretizeEquisizeAndGetIntervals(graph, percentage, measure)\n",
    "            val measures = discretizeEquisize(graph, percentage, measure)\n",
    "            result = result + measures.map(t => {renameInterval(t, intervals, \"es\"+percentage)})\n",
    "        })\n",
    "    })\n",
    "    result\n",
    "}"
   ]
  },
  {
   "cell_type": "code",
   "execution_count": 15,
   "metadata": {},
   "outputs": [],
   "source": [
    "jaurCubesMap.foreach(d => discretize(d._2,d._1).cache(\"../cache/jaur/\"+d._1+\".cache\").export(\"../exports/jaur/\"+d._1+\".ttl\"))"
   ]
  }
 ],
 "metadata": {
  "kernelspec": {
   "display_name": "Scala",
   "language": "scala",
   "name": "scala"
  },
  "language_info": {
   "codemirror_mode": "text/x-scala",
   "file_extension": ".sc",
   "mimetype": "text/x-scala",
   "name": "scala",
   "nbconvert_exporter": "script",
   "version": "2.12.8"
  }
 },
 "nbformat": 4,
 "nbformat_minor": 4
}
