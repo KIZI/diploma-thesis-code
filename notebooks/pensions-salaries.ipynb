{
 "cells": [
  {
   "cell_type": "code",
   "execution_count": 1,
   "metadata": {},
   "outputs": [],
   "source": [
    "kernel.silent(true)"
   ]
  },
  {
   "cell_type": "code",
   "execution_count": 2,
   "metadata": {},
   "outputs": [],
   "source": [
    "import coursierapi.MavenRepository\n",
    "interp.repositories() ++= Seq(MavenRepository.of(\"https://jitpack.io\"))"
   ]
  },
  {
   "cell_type": "code",
   "execution_count": 3,
   "metadata": {},
   "outputs": [],
   "source": [
    "import $ivy.`com.github.propi:rdfrules:1.5.0`\n",
    "import collection._\n",
    "import org.apache.jena.riot.Lang\n",
    "\n",
    "import com.github.propi.rdfrules.data._\n",
    "import com.github.propi.rdfrules.algorithm.amie._\n",
    "import com.github.propi.rdfrules.algorithm.dbscan._\n",
    "import com.github.propi.rdfrules.utils._\n",
    "import com.github.propi.rdfrules.index._\n",
    "import com.github.propi.rdfrules.rule._\n",
    "import com.github.propi.rdfrules.ruleset._\n",
    "kernel.silent(false)"
   ]
  },
  {
   "cell_type": "code",
   "execution_count": 4,
   "metadata": {},
   "outputs": [
    {
     "data": {
      "text/plain": [
       "\u001b[36mpensionsDataset\u001b[39m: \u001b[32mDataset\u001b[39m = com.github.propi.rdfrules.data.Dataset@4d8cc1cf\n",
       "\u001b[36mres3_1\u001b[39m: \u001b[32mInt\u001b[39m = \u001b[32m2696400\u001b[39m"
      ]
     },
     "execution_count": 4,
     "metadata": {},
     "output_type": "execute_result"
    }
   ],
   "source": [
    "val pensionsDataset = Dataset.fromCache(\"../cache/pensionsCube.cache\")\n",
    "pensionsDataset.size"
   ]
  },
  {
   "cell_type": "code",
   "execution_count": 5,
   "metadata": {},
   "outputs": [
    {
     "data": {
      "text/plain": [
       "\u001b[36msalariesDataset\u001b[39m: \u001b[32mDataset\u001b[39m = com.github.propi.rdfrules.data.Dataset@f300e34\n",
       "\u001b[36mres4_1\u001b[39m: \u001b[32mInt\u001b[39m = \u001b[32m2898\u001b[39m"
      ]
     },
     "execution_count": 5,
     "metadata": {},
     "output_type": "execute_result"
    }
   ],
   "source": [
    "val salariesDataset = Dataset.fromCache(\"../cache/salariesCube.cache\")\n",
    "salariesDataset.size"
   ]
  },
  {
   "cell_type": "code",
   "execution_count": 6,
   "metadata": {},
   "outputs": [
    {
     "data": {
      "text/plain": [
       "\u001b[36mrefPeriodLinking\u001b[39m: \u001b[32mDataset\u001b[39m = com.github.propi.rdfrules.data.Dataset@41fa2eac\n",
       "\u001b[36mres5_1\u001b[39m: \u001b[32mInt\u001b[39m = \u001b[32m84\u001b[39m"
      ]
     },
     "execution_count": 6,
     "metadata": {},
     "output_type": "execute_result"
    }
   ],
   "source": [
    "val refPeriodLinking = Dataset(\"../data/linking/refPeriodLinking.ttl\")\n",
    "refPeriodLinking.size"
   ]
  },
  {
   "cell_type": "code",
   "execution_count": 7,
   "metadata": {},
   "outputs": [
    {
     "data": {
      "text/plain": [
       "\u001b[36mrefAreaLinking\u001b[39m: \u001b[32mDataset\u001b[39m = com.github.propi.rdfrules.data.Dataset@75b0b690\n",
       "\u001b[36mres6_1\u001b[39m: \u001b[32mInt\u001b[39m = \u001b[32m91\u001b[39m"
      ]
     },
     "execution_count": 7,
     "metadata": {},
     "output_type": "execute_result"
    }
   ],
   "source": [
    "val refAreaLinking = Dataset(\"../data/linking/cssaCZSOLinking.ttl\")\n",
    "refAreaLinking.size"
   ]
  },
  {
   "cell_type": "code",
   "execution_count": 8,
   "metadata": {},
   "outputs": [
    {
     "data": {
      "text/plain": [
       "\u001b[36msexLinking\u001b[39m: \u001b[32mDataset\u001b[39m = com.github.propi.rdfrules.data.Dataset@54379550\n",
       "\u001b[36mres7_1\u001b[39m: \u001b[32mInt\u001b[39m = \u001b[32m5\u001b[39m"
      ]
     },
     "execution_count": 8,
     "metadata": {},
     "output_type": "execute_result"
    }
   ],
   "source": [
    "val sexLinking = Dataset(\"../data/linking/sexLinking.ttl\")\n",
    "sexLinking.size"
   ]
  },
  {
   "cell_type": "code",
   "execution_count": null,
   "metadata": {},
   "outputs": [],
   "source": [
    "val dataset = pensionsDataset + salariesDataset + refPeriodLinking + refAreaLinking + sexLinking\n",
    "dataset.size"
   ]
  },
  {
   "cell_type": "code",
   "execution_count": null,
   "metadata": {},
   "outputs": [],
   "source": [
    "val index = dataset.index()"
   ]
  },
  {
   "cell_type": "code",
   "execution_count": 9,
   "metadata": {},
   "outputs": [
    {
     "data": {
      "text/plain": [
       "\u001b[36muri\u001b[39m: \u001b[32mString\u001b[39m => \u001b[32mTripleItem\u001b[39m.\u001b[32mUri\u001b[39m = ammonite.$sess.cmd8$Helper$$Lambda$2921/0x0000000840d9c040@39090666\n",
       "\u001b[36maverageSalary\u001b[39m: \u001b[32mTripleItem\u001b[39m.\u001b[32mUri\u001b[39m = \u001b[33mLongUri\u001b[39m(\n",
       "  \u001b[32m\"http://data.czso.cz/ontology/prumernaMzda\"\u001b[39m\n",
       ")\n",
       "\u001b[36mmedianSalary\u001b[39m: \u001b[32mTripleItem\u001b[39m.\u001b[32mUri\u001b[39m = \u001b[33mLongUri\u001b[39m(\n",
       "  \u001b[32m\"http://data.czso.cz/ontology/medianMzdy\"\u001b[39m\n",
       ")\n",
       "\u001b[36moneOfSalariesMeasures\u001b[39m: \u001b[32mAtomPattern\u001b[39m.\u001b[32mAtomItemPattern\u001b[39m.\u001b[32mOneOf\u001b[39m = \u001b[33mOneOf\u001b[39m(\n",
       "  \u001b[33mArrayBuffer\u001b[39m(\n",
       "    \u001b[33mConstant\u001b[39m(\u001b[33mLongUri\u001b[39m(\u001b[32m\"http://data.czso.cz/ontology/prumernaMzda\"\u001b[39m)),\n",
       "    \u001b[33mConstant\u001b[39m(\u001b[33mLongUri\u001b[39m(\u001b[32m\"http://data.czso.cz/ontology/medianMzdy\"\u001b[39m))\n",
       "  )\n",
       ")\n",
       "\u001b[36maverageAge\u001b[39m: \u001b[32mTripleItem\u001b[39m.\u001b[32mUri\u001b[39m = \u001b[33mLongUri\u001b[39m(\n",
       "  \u001b[32m\"https://data.cssz.cz/ontology/measure/prumerny-vek\"\u001b[39m\n",
       ")\n",
       "\u001b[36mpensionersCount\u001b[39m: \u001b[32mTripleItem\u001b[39m.\u001b[32mUri\u001b[39m = \u001b[33mLongUri\u001b[39m(\n",
       "  \u001b[32m\"https://data.cssz.cz/ontology/measure/pocet-duchodcu\"\u001b[39m\n",
       ")\n",
       "\u001b[36maveragePensionAmount\u001b[39m: \u001b[32mTripleItem\u001b[39m.\u001b[32mUri\u001b[39m = \u001b[33mLongUri\u001b[39m(\n",
       "  \u001b[32m\"https://data.cssz.cz/ontology/measure/prumerna-vyse-duchodu-v-kc\"\u001b[39m\n",
       ")\n",
       "\u001b[36moneOfPensionsMeasures\u001b[39m: \u001b[32mAtomPattern\u001b[39m.\u001b[32mAtomItemPattern\u001b[39m.\u001b[32mOneOf\u001b[39m = \u001b[33mOneOf\u001b[39m(\n",
       "  \u001b[33mArrayBuffer\u001b[39m(\n",
       "    \u001b[33mConstant\u001b[39m(\u001b[33mLongUri\u001b[39m(\u001b[32m\"https://data.cssz.cz/ontology/measure/prumerny-vek\"\u001b[39m)),\n",
       "    \u001b[33mConstant\u001b[39m(\u001b[33mLongUri\u001b[39m(\u001b[32m\"https://data.cssz.cz/ontology/measure/pocet-duchodcu\"\u001b[39m)),\n",
       "    \u001b[33mConstant\u001b[39m(\n",
       "      \u001b[33mLongUri\u001b[39m(\n",
       "        \u001b[32m\"https://data.cssz.cz/ontology/measure/prumerna-vyse-duchodu-v-kc\"\u001b[39m\n",
       "      )\n",
       "    )\n",
       "  )\n",
       ")\n",
       "\u001b[36mcssaDimension\u001b[39m: \u001b[32mString\u001b[39m = \u001b[32m\"https://data.cssz.cz/ontology/dimension/\"\u001b[39m\n",
       "\u001b[36mcssaRefPeriod\u001b[39m: \u001b[32mTripleItem\u001b[39m.\u001b[32mUri\u001b[39m = \u001b[33mLongUri\u001b[39m(\n",
       "  \u001b[32m\"https://data.cssz.cz/ontology/dimension/refPeriod\"\u001b[39m\n",
       ")\n",
       "\u001b[36mcssaRefArea\u001b[39m: \u001b[32mTripleItem\u001b[39m.\u001b[32mUri\u001b[39m = \u001b[33mLongUri\u001b[39m(\n",
       "  \u001b[32m\"https://data.cssz.cz/ontology/dimension/refArea\"\u001b[39m\n",
       ")\n",
       "\u001b[36mcssaSex\u001b[39m: \u001b[32mTripleItem\u001b[39m.\u001b[32mUri\u001b[39m = \u001b[33mLongUri\u001b[39m(\n",
       "  \u001b[32m\"https://data.cssz.cz/ontology/dimension/pohlavi\"\u001b[39m\n",
       ")\n",
       "\u001b[36mcssaPensionKind\u001b[39m: \u001b[32mTripleItem\u001b[39m.\u001b[32mUri\u001b[39m = \u001b[33mLongUri\u001b[39m(\n",
       "  \u001b[32m\"https://data.cssz.cz/ontology/dimension/druh-duchodu\"\u001b[39m\n",
       ")\n",
       "\u001b[36mczsoOntology\u001b[39m: \u001b[32mString\u001b[39m = \u001b[32m\"http://data.czso.cz/ontology/\"\u001b[39m\n",
       "\u001b[36mczsoRefPeriod\u001b[39m: \u001b[32mTripleItem\u001b[39m.\u001b[32mUri\u001b[39m = \u001b[33mLongUri\u001b[39m(\n",
       "  \u001b[32m\"http://data.czso.cz/ontology/refPeriod\"\u001b[39m\n",
       ")\n",
       "\u001b[36mczsoRefArea\u001b[39m: \u001b[32mTripleItem\u001b[39m.\u001b[32mUri\u001b[39m = \u001b[33mLongUri\u001b[39m(\u001b[32m\"http://data.czso.cz/ontology/refArea\"\u001b[39m)\n",
       "\u001b[36mczsoSex\u001b[39m: \u001b[32mTripleItem\u001b[39m.\u001b[32mUri\u001b[39m = \u001b[33mLongUri\u001b[39m(\u001b[32m\"http://data.czso.cz/ontology/sex\"\u001b[39m)\n",
       "\u001b[36mqbDataSet\u001b[39m: \u001b[32mTripleItem\u001b[39m.\u001b[32mUri\u001b[39m = \u001b[33mLongUri\u001b[39m(\u001b[32m\"http://purl.org/linked-data/cube#dataSet\"\u001b[39m)\n",
       "\u001b[36mconstantsAtObject\u001b[39m: \u001b[32mRuleConstraint\u001b[39m.\u001b[32mConstantsAtPosition\u001b[39m.\u001b[32mConstantsPosition\u001b[39m.\u001b[32mObject\u001b[39m.type = Object\n",
       "\u001b[36mconstantsOnlyAtObject\u001b[39m: \u001b[32mRuleConstraint\u001b[39m.\u001b[32mConstantsAtPosition\u001b[39m = \u001b[33mConstantsAtPosition\u001b[39m(\n",
       "  Object\n",
       ")"
      ]
     },
     "execution_count": 9,
     "metadata": {},
     "output_type": "execute_result"
    }
   ],
   "source": [
    "val uri = (value: String) => TripleItem.Uri(value)\n",
    "\n",
    "// salariesMeasures\n",
    "val averageSalary = TripleItem.Uri(\"http://data.czso.cz/ontology/prumernaMzda\")\n",
    "val medianSalary = TripleItem.Uri(\"http://data.czso.cz/ontology/medianMzdy\")\n",
    "val oneOfSalariesMeasures = OneOf(averageSalary,medianSalary)\n",
    "\n",
    "// pensionsMeasures\n",
    "val averageAge = TripleItem.Uri(\"https://data.cssz.cz/ontology/measure/prumerny-vek\")\n",
    "val pensionersCount = TripleItem.Uri(\"https://data.cssz.cz/ontology/measure/pocet-duchodcu\")\n",
    "val averagePensionAmount = TripleItem.Uri(\"https://data.cssz.cz/ontology/measure/prumerna-vyse-duchodu-v-kc\")\n",
    "val oneOfPensionsMeasures = OneOf(averageAge,pensionersCount,averagePensionAmount)\n",
    "\n",
    "// cssa dimensions\n",
    "val cssaDimension = \"https://data.cssz.cz/ontology/dimension/\"\n",
    "val cssaRefPeriod = uri(cssaDimension+\"refPeriod\")\n",
    "val cssaRefArea = uri(cssaDimension+\"refArea\")\n",
    "val cssaSex = uri(cssaDimension+\"pohlavi\")\n",
    "val cssaPensionKind = uri(cssaDimension+\"druh-duchodu\")\n",
    "\n",
    "// czso dimensions\n",
    "val czsoOntology = \"http://data.czso.cz/ontology/\"\n",
    "val czsoRefPeriod = uri(czsoOntology+\"refPeriod\")\n",
    "val czsoRefArea = uri(czsoOntology+\"refArea\")\n",
    "val czsoSex = uri(czsoOntology+\"sex\")\n",
    "\n",
    "val qbDataSet = uri(\"http://purl.org/linked-data/cube#dataSet\")\n",
    "\n",
    "val constantsAtObject = RuleConstraint.ConstantsAtPosition.ConstantsPosition.Object\n",
    "val constantsOnlyAtObject = RuleConstraint.ConstantsAtPosition(constantsAtObject)"
   ]
  },
  {
   "cell_type": "code",
   "execution_count": null,
   "metadata": {},
   "outputs": [],
   "source": [
    "// takoveto obecné patterny moc nedavaji smysl\n",
    "\n",
    "val closedDimensions: RulePattern = (\n",
    "    AtomPattern(subject = 'c', predicate = oneOfSalariesMeasures, `object` = AnyConstant) &:\n",
    "    AtomPattern(subject = 'c', predicate = czsoRefPeriod, `object` = 'd') &:\n",
    "    AtomPattern(subject = 'a', predicate = cssaRefPeriod, `object` = 'd') &:\n",
    "    AtomPattern(subject = 'c', predicate = qbDataSet, `object` = AnyConstant) &:\n",
    "    AtomPattern(subject = 'c', predicate = czsoRefArea, `object` = 'b') &:\n",
    "    AtomPattern(subject = 'a', predicate = cssaRefArea, `object` = 'b') &:\n",
    "    AtomPattern(subject = 'a', predicate = cssaSex, `object` = AnyConstant) &:\n",
    "    AtomPattern(subject = 'a', predicate = cssaPensionKind, `object` = AnyConstant) &:\n",
    "    AtomPattern(subject = 'a', predicate = qbDataSet, `object` = AnyConstant)\n",
    "    =>:\n",
    "    AtomPattern(subject = 'a', predicate = oneOfPensionsMeasures)\n",
    ")"
   ]
  },
  {
   "cell_type": "code",
   "execution_count": null,
   "metadata": {
    "code_folding": []
   },
   "outputs": [],
   "source": [
    "val closedDimensionsTask = Amie()\n",
    "    .addThreshold(Threshold.MinSupport(5))\n",
    "    .addThreshold(Threshold.MaxRuleLength(10))\n",
    "    .addThreshold(Threshold.MinHeadSize(0))\n",
    "    .addThreshold(Threshold.Timeout(10))\n",
    "    .addConstraint(constantsOnlyAtObject)\n",
    "    .addPattern(closedDimensions)"
   ]
  },
  {
   "cell_type": "code",
   "execution_count": null,
   "metadata": {},
   "outputs": [],
   "source": [
    "//val closedDimensionsTaskRuleset = index.mine(closedDimensionsTask)\n",
    "//println(closedDimensionsTaskRuleset.size)"
   ]
  },
  {
   "cell_type": "code",
   "execution_count": null,
   "metadata": {},
   "outputs": [],
   "source": [
    "// export\n",
    "//closedDimensionsTaskRuleset.export(\"../rulesets/closedDimensionsTaskRuleset.txt\")"
   ]
  },
  {
   "cell_type": "code",
   "execution_count": null,
   "metadata": {},
   "outputs": [],
   "source": [
    "//closedDimensionsTaskRuleset\n",
    "//.filter(rule => rule.measures(Measure.Support).value > 38)\n",
    "//.computePcaConfidence(0.5)\n",
    "\n",
    "//.makeClusters(DbScan(minNeighbours = 3, minSimilarity = 0.99))\n",
    "//.size\n",
    "//.foreach(println)\n",
    "\n"
   ]
  },
  {
   "cell_type": "code",
   "execution_count": null,
   "metadata": {},
   "outputs": [],
   "source": [
    "//val confidenceResultset = closedDimensionsTaskRuleset\n",
    "//.filter(rule => rule.measures(Measure.Support).value > 38)\n",
    "//.computePcaConfidence(0.5)"
   ]
  },
  {
   "cell_type": "code",
   "execution_count": null,
   "metadata": {},
   "outputs": [],
   "source": [
    "//confidenceResultset.foreach(println)"
   ]
  },
  {
   "cell_type": "code",
   "execution_count": 10,
   "metadata": {},
   "outputs": [
    {
     "data": {
      "text/plain": [
       "\u001b[36moldAgeTotal\u001b[39m: \u001b[32mTripleItem\u001b[39m.\u001b[32mUri\u001b[39m = \u001b[33mLongUri\u001b[39m(\n",
       "  \u001b[32m\"https://data.cssz.cz/resource/pension-kind/PK_old_age_total_S_SI_SRN_ST_SD_2010\"\u001b[39m\n",
       ")\n",
       "\u001b[36mregionTotalOldAgeTotal\u001b[39m: \u001b[32mTripleItem\u001b[39m.\u001b[32mUri\u001b[39m = \u001b[33mLongUri\u001b[39m(\n",
       "  \u001b[32m\"pensions-by-region-total-PK_old_age_total_S_SI_SRN_ST_SD\"\u001b[39m\n",
       ")\n",
       "\u001b[36msalariesTotal\u001b[39m: \u001b[32mTripleItem\u001b[39m.\u001b[32mUri\u001b[39m = \u001b[33mLongUri\u001b[39m(\u001b[32m\"salaries-total\"\u001b[39m)"
      ]
     },
     "execution_count": 10,
     "metadata": {},
     "output_type": "execute_result"
    }
   ],
   "source": [
    "val oldAgeTotal = uri(\"https://data.cssz.cz/resource/pension-kind/PK_old_age_total_S_SI_SRN_ST_SD_2010\")\n",
    "val regionTotalOldAgeTotal = uri(\"pensions-by-region-total-PK_old_age_total_S_SI_SRN_ST_SD\")\n",
    "val salariesTotal = uri(\"salaries-total\")"
   ]
  },
  {
   "cell_type": "code",
   "execution_count": null,
   "metadata": {},
   "outputs": [],
   "source": [
    "val oldAgeTotalPattern: RulePattern = (\n",
    "    AtomPattern(subject = 'c', predicate = oneOfSalariesMeasures, `object` = AnyConstant) &:\n",
    "    AtomPattern(subject = 'c', predicate = czsoRefPeriod, `object` = 'd') &:\n",
    "    AtomPattern(subject = 'a', predicate = cssaRefPeriod, `object` = 'd') &:\n",
    "    AtomPattern(subject = 'c', predicate = qbDataSet, `object` = salariesTotal) &:\n",
    "    AtomPattern(subject = 'c', predicate = czsoRefArea, `object` = 'b') &:\n",
    "    AtomPattern(subject = 'a', predicate = cssaRefArea, `object` = 'b') &:\n",
    "    AtomPattern(subject = 'a', predicate = cssaPensionKind, `object` = oldAgeTotal) &:\n",
    "    AtomPattern(subject = 'a', predicate = qbDataSet, `object` = regionTotalOldAgeTotal)\n",
    "    =>:\n",
    "    AtomPattern(subject = 'a', predicate = averagePensionAmount)\n",
    ")"
   ]
  },
  {
   "cell_type": "code",
   "execution_count": null,
   "metadata": {},
   "outputs": [],
   "source": [
    "val oldAgeTotalPatternTask = Amie()\n",
    "    .addThreshold(Threshold.MinSupport(1))\n",
    "    .addThreshold(Threshold.MaxRuleLength(9))\n",
    "    .addThreshold(Threshold.MinHeadSize(0))\n",
    "    .addThreshold(Threshold.Timeout(10))\n",
    "    .addConstraint(constantsOnlyAtObject)\n",
    "    .addPattern(oldAgeTotalPattern)"
   ]
  },
  {
   "cell_type": "code",
   "execution_count": null,
   "metadata": {},
   "outputs": [],
   "source": [
    "val oldAgeTotalPatternTaskRuleset = index.mine(oldAgeTotalPatternTask)\n",
    "println(oldAgeTotalPatternTaskRuleset.size)"
   ]
  },
  {
   "cell_type": "code",
   "execution_count": null,
   "metadata": {},
   "outputs": [],
   "source": [
    "oldAgeTotalPatternTaskRuleset.export(\"../rulesets/oldAgeTotalPatternTaskRuleset.txt\")"
   ]
  },
  {
   "cell_type": "code",
   "execution_count": null,
   "metadata": {},
   "outputs": [],
   "source": [
    "oldAgeTotalPatternTaskRuleset\n",
    "//.sortBy(Measure.HeadCoverage, Measure.Lift)\n",
    "//sort by rule length and then by selected measures\n",
    "//compute additional measures of significance\n",
    "//.computeConfidence(0.5)\n",
    ".computePcaConfidence(0.5)\n",
    "//.computeLift()\n",
    ".computeLift()\n",
    "//.filter(rule => rule.measures(Measure.Lift).value > 1)\n",
    ".size"
   ]
  },
  {
   "cell_type": "code",
   "execution_count": 11,
   "metadata": {},
   "outputs": [
    {
     "data": {
      "text/plain": [
       "\u001b[36msalariesBySex\u001b[39m: \u001b[32mTripleItem\u001b[39m.\u001b[32mUri\u001b[39m = \u001b[33mLongUri\u001b[39m(\u001b[32m\"salaries-by-sex\"\u001b[39m)\n",
       "\u001b[36mregionBySexOldAgeTotal\u001b[39m: \u001b[32mTripleItem\u001b[39m.\u001b[32mUri\u001b[39m = \u001b[33mLongUri\u001b[39m(\n",
       "  \u001b[32m\"pensions-by-region-by-sex-PK_old_age_total_S_SI_SRN_ST_SD\"\u001b[39m\n",
       ")"
      ]
     },
     "execution_count": 11,
     "metadata": {},
     "output_type": "execute_result"
    }
   ],
   "source": [
    "val salariesBySex = uri(\"salaries-by-sex\")\n",
    "val regionBySexOldAgeTotal = uri(\"pensions-by-region-by-sex-PK_old_age_total_S_SI_SRN_ST_SD\")"
   ]
  },
  {
   "cell_type": "code",
   "execution_count": null,
   "metadata": {},
   "outputs": [],
   "source": [
    "val oldAgeBySexPattern: RulePattern = (\n",
    "    AtomPattern(subject = 'c', predicate = oneOfSalariesMeasures, `object` = AnyConstant) &:\n",
    "    AtomPattern(subject = 'a', predicate = cssaSex, `object` = 'e') &:\n",
    "    AtomPattern(subject = 'c', predicate = czsoSex, `object` = 'e') &:\n",
    "    AtomPattern(subject = 'c', predicate = czsoRefPeriod, `object` = 'd') &:\n",
    "    AtomPattern(subject = 'a', predicate = cssaRefPeriod, `object` = 'd') &:  \n",
    "    AtomPattern(subject = 'c', predicate = qbDataSet, `object` = salariesBySex) &:\n",
    "    AtomPattern(subject = 'c', predicate = czsoRefArea, `object` = 'b') &:\n",
    "    AtomPattern(subject = 'a', predicate = cssaRefArea, `object` = 'b') &:\n",
    "    AtomPattern(subject = 'a', predicate = cssaPensionKind, `object` = oldAgeTotal) &:\n",
    "    AtomPattern(subject = 'a', predicate = qbDataSet, `object` = regionBySexOldAgeTotal)\n",
    "    =>:\n",
    "    AtomPattern(subject = 'a', predicate = averagePensionAmount)\n",
    ")"
   ]
  },
  {
   "cell_type": "code",
   "execution_count": null,
   "metadata": {},
   "outputs": [],
   "source": [
    "val oldAgeBySexPatternTask = Amie()\n",
    "    .addThreshold(Threshold.MinSupport(1))\n",
    "    .addThreshold(Threshold.MaxRuleLength(11))\n",
    "    .addThreshold(Threshold.MinHeadSize(0))\n",
    "    .addThreshold(Threshold.Timeout(10))\n",
    "    .addConstraint(constantsOnlyAtObject)\n",
    "    .addPattern(oldAgeBySexPattern)"
   ]
  },
  {
   "cell_type": "code",
   "execution_count": null,
   "metadata": {},
   "outputs": [],
   "source": [
    "val oldAgeBySexPatternTaskRuleset = index.mine(oldAgeBySexPatternTask)\n",
    "println(oldAgeBySexPatternTaskRuleset.size)"
   ]
  },
  {
   "cell_type": "code",
   "execution_count": null,
   "metadata": {},
   "outputs": [],
   "source": [
    "oldAgeBySexPatternTaskRuleset.export(\"../rulesets/oldAgeBySexPatternTaskRuleset.txt\")"
   ]
  },
  {
   "cell_type": "code",
   "execution_count": null,
   "metadata": {},
   "outputs": [],
   "source": [
    "oldAgeBySexPatternTaskRuleset\n",
    "//.filter(rule => rule.measures(Measure.Support).value > 15)\n",
    ".computeLift(0.0)\n",
    "//.computeLift()\n",
    "//.filter(rule => rule.measures(Measure.Lift).value > 1)\n",
    "//.size\n",
    "//.makeClusters(DbScan(minNeighbours = 3, minSimilarity = 0.99))\n",
    "//.size\n",
    ".foreach(println)"
   ]
  },
  {
   "cell_type": "code",
   "execution_count": null,
   "metadata": {},
   "outputs": [],
   "source": [
    "// wikidata + pensions + salaries"
   ]
  },
  {
   "cell_type": "code",
   "execution_count": null,
   "metadata": {},
   "outputs": [],
   "source": [
    "val wikidataCZSORefAreaLinking = Dataset(\"../data/linking/czsoWikidataLinking.ttl\")\n",
    "wikidataCZSORefAreaLinking.size"
   ]
  },
  {
   "cell_type": "code",
   "execution_count": null,
   "metadata": {},
   "outputs": [],
   "source": [
    "val wikidataCSSARefAreaLinking = Dataset(\"../data/linking/cssaWikidataLinking.ttl\")\n",
    "wikidataCSSARefAreaLinking.size"
   ]
  },
  {
   "cell_type": "code",
   "execution_count": null,
   "metadata": {},
   "outputs": [],
   "source": [
    "val wikidata = Dataset.fromCache(\"../cache/wikidata.cache\")"
   ]
  },
  {
   "cell_type": "code",
   "execution_count": null,
   "metadata": {},
   "outputs": [],
   "source": [
    "val wikidataAddedDataset = pensionsDataset + salariesDataset + refPeriodLinking + refAreaLinking + sexLinking + wikidata + wikidataCZSORefAreaLinking + wikidataCSSARefAreaLinking\n",
    "wikidataAddedDataset.size"
   ]
  },
  {
   "cell_type": "code",
   "execution_count": null,
   "metadata": {},
   "outputs": [],
   "source": [
    "val wikidataAddedIndex = wikidataAddedDataset.index()"
   ]
  },
  {
   "cell_type": "code",
   "execution_count": 12,
   "metadata": {},
   "outputs": [
    {
     "data": {
      "text/plain": [
       "\u001b[36mappliesTo\u001b[39m: \u001b[32mTripleItem\u001b[39m.\u001b[32mUri\u001b[39m = \u001b[33mLongUri\u001b[39m(\n",
       "  \u001b[32m\"http://kizi.vse.cz/novp19/diploma-thesis/appliesToRefPeriod\"\u001b[39m\n",
       ")\n",
       "\u001b[36mwdProperty\u001b[39m: \u001b[32mInt\u001b[39m => \u001b[32mTripleItem\u001b[39m.\u001b[32mUri\u001b[39m = ammonite.$sess.cmd11$Helper$$Lambda$3024/0x0000000840dd9840@5b985637\n",
       "\u001b[36mczURI\u001b[39m: \u001b[32mTripleItem\u001b[39m.\u001b[32mUri\u001b[39m = \u001b[33mLongUri\u001b[39m(\u001b[32m\"http://www.wikidata.org/entity/Q213\"\u001b[39m)\n",
       "\u001b[36msameAs\u001b[39m: \u001b[32mTripleItem\u001b[39m.\u001b[32mUri\u001b[39m = \u001b[33mLongUri\u001b[39m(\u001b[32m\"http://www.w3.org/2002/07/owl#sameAs\"\u001b[39m)"
      ]
     },
     "execution_count": 12,
     "metadata": {},
     "output_type": "execute_result"
    }
   ],
   "source": [
    "val appliesTo = uri(\"http://kizi.vse.cz/novp19/diploma-thesis/appliesToRefPeriod\")\n",
    "val wdProperty = (value: Int) => uri(\"http://www.wikidata.org/prop/P\" + value)\n",
    "val czURI = uri(\"http://www.wikidata.org/entity/Q213\")\n",
    "val sameAs = uri(\"http://www.w3.org/2002/07/owl#sameAs\")"
   ]
  },
  {
   "cell_type": "code",
   "execution_count": null,
   "metadata": {},
   "outputs": [],
   "source": [
    "val wikiDataOldAgeTotalPattern: RulePattern = (\n",
    "    \n",
    "    AtomPattern(subject = 'h', `object` = AnyVariable) &:\n",
    "    AtomPattern(subject = 'h', predicate = wdProperty(6), `object` = 'g') &:\n",
    "    AtomPattern(subject = 'g', predicate = wdProperty(6), `object` = 'f') &:\n",
    "    AtomPattern(subject = 'f', predicate = wdProperty(102), `object` = 'e') &:  \n",
    "    AtomPattern(subject = 'e', predicate = wdProperty(102), `object` = AnyConstant) &:\n",
    "    AtomPattern(subject = 'e', predicate = appliesTo, `object` = 'd') &:\n",
    "    \n",
    "    AtomPattern(subject = 'c', predicate = oneOfSalariesMeasures, `object` = AnyConstant) &:\n",
    "    AtomPattern(subject = 'c', predicate = czsoRefPeriod, `object` = 'd') &:\n",
    "    AtomPattern(subject = 'a', predicate = cssaRefPeriod, `object` = 'd') &:\n",
    "    AtomPattern(subject = 'c', predicate = qbDataSet, `object` = salariesTotal) &:\n",
    "    AtomPattern(subject = 'c', predicate = czsoRefArea, `object` = 'b') &:\n",
    "    AtomPattern(subject = 'a', predicate = cssaRefArea, `object` = 'b') &:\n",
    "    AtomPattern(subject = 'a', predicate = cssaPensionKind, `object` = oldAgeTotal) &:\n",
    "    AtomPattern(subject = 'a', predicate = qbDataSet, `object` = regionTotalOldAgeTotal)\n",
    "    =>:\n",
    "    AtomPattern(subject = 'a', predicate = averagePensionAmount)\n",
    ")"
   ]
  },
  {
   "cell_type": "code",
   "execution_count": null,
   "metadata": {},
   "outputs": [],
   "source": [
    "val wikiDataOldAgeTotalPatternTask = Amie()\n",
    "    .addThreshold(Threshold.MinSupport(2))\n",
    "    .addThreshold(Threshold.MaxRuleLength(15))\n",
    "    .addThreshold(Threshold.MinHeadSize(0))\n",
    "    .addThreshold(Threshold.Timeout(1))\n",
    "    //.addConstraint(constantsOnlyAtObject)\n",
    "    .addPattern(wikiDataOldAgeTotalPattern)"
   ]
  },
  {
   "cell_type": "code",
   "execution_count": null,
   "metadata": {},
   "outputs": [],
   "source": [
    "wikidataAddedIndex.cache(\"../cache/wikidataAddedIndex.cache\")"
   ]
  },
  {
   "cell_type": "code",
   "execution_count": null,
   "metadata": {},
   "outputs": [],
   "source": [
    "val wikiDataOldAgeTotalPatternTaskRuleset = wikidataAddedIndex.mine(wikiDataOldAgeTotalPatternTask)\n",
    "println(wikiDataOldAgeTotalPatternTaskRuleset.size)"
   ]
  },
  {
   "cell_type": "code",
   "execution_count": null,
   "metadata": {},
   "outputs": [],
   "source": [
    "wikiDataOldAgeTotalPatternTaskRuleset.slice(100,200)foreach(println)"
   ]
  },
  {
   "cell_type": "code",
   "execution_count": null,
   "metadata": {},
   "outputs": [],
   "source": [
    "// yago"
   ]
  },
  {
   "cell_type": "code",
   "execution_count": 13,
   "metadata": {},
   "outputs": [
    {
     "data": {
      "text/plain": [
       "\u001b[36myago\u001b[39m: \u001b[32mDataset\u001b[39m = com.github.propi.rdfrules.data.Dataset@1556bec5\n",
       "\u001b[36mres12_1\u001b[39m: \u001b[32mInt\u001b[39m = \u001b[32m2223455\u001b[39m"
      ]
     },
     "execution_count": 13,
     "metadata": {},
     "output_type": "execute_result"
    }
   ],
   "source": [
    "val yago = Dataset.fromCache(\"../cache/yago.cache\")\n",
    "yago.size"
   ]
  },
  {
   "cell_type": "code",
   "execution_count": 14,
   "metadata": {},
   "outputs": [
    {
     "data": {
      "text/plain": [
       "\u001b[36myagoCZSOLinking\u001b[39m: \u001b[32mDataset\u001b[39m = com.github.propi.rdfrules.data.Dataset@185c9ca7\n",
       "\u001b[36mres13_1\u001b[39m: \u001b[32mInt\u001b[39m = \u001b[32m90\u001b[39m"
      ]
     },
     "execution_count": 14,
     "metadata": {},
     "output_type": "execute_result"
    }
   ],
   "source": [
    "val yagoCZSOLinking = Dataset(\"../data/linking/yagoCZSOLinking.ttl\")\n",
    "yagoCZSOLinking.size"
   ]
  },
  {
   "cell_type": "code",
   "execution_count": 15,
   "metadata": {},
   "outputs": [
    {
     "data": {
      "text/plain": [
       "\u001b[36myagoAddedDataset\u001b[39m: \u001b[32mDataset\u001b[39m = com.github.propi.rdfrules.data.Dataset@1d59d662\n",
       "\u001b[36mres14_1\u001b[39m: \u001b[32mInt\u001b[39m = \u001b[32m2699568\u001b[39m"
      ]
     },
     "execution_count": 15,
     "metadata": {},
     "output_type": "execute_result"
    }
   ],
   "source": [
    "val yagoAddedDataset = pensionsDataset + salariesDataset + refPeriodLinking + refAreaLinking + sexLinking + yagoCZSOLinking\n",
    "yagoAddedDataset.size"
   ]
  },
  {
   "cell_type": "code",
   "execution_count": 16,
   "metadata": {},
   "outputs": [
    {
     "name": "stderr",
     "output_type": "stream",
     "text": [
      "2021-04-19 11:54:33:714 +0200 [scala-interpreter-1] INFO com.github.propi.rdfrules.utils.Debugger - Predicates trimming.\n",
      "2021-04-19 11:54:39:757 +0200 [scala-interpreter-1] INFO com.github.propi.rdfrules.utils.Debugger - Subjects indexing.\n",
      "2021-04-19 11:54:52:828 +0200 [scala-interpreter-1] INFO com.github.propi.rdfrules.utils.Debugger - Subjects trimming.\n",
      "2021-04-19 11:54:53:788 +0200 [scala-interpreter-1] INFO com.github.propi.rdfrules.utils.Debugger - Objects indexing.\n",
      "2021-04-19 11:54:55:927 +0200 [scala-interpreter-1] INFO com.github.propi.rdfrules.utils.Debugger - Objects trimming.\n"
     ]
    },
    {
     "data": {
      "text/plain": [
       "\u001b[36myagoAddedIndex\u001b[39m: \u001b[32mIndex\u001b[39m = com.github.propi.rdfrules.index.Index$FromDatasetFullyPreservedIndex@255088a9\n",
       "\u001b[36mres15_1\u001b[39m: \u001b[32mIndex\u001b[39m = com.github.propi.rdfrules.index.Index$FromDatasetFullyPreservedIndex@255088a9"
      ]
     },
     "execution_count": 16,
     "metadata": {},
     "output_type": "execute_result"
    }
   ],
   "source": [
    "val yagoAddedIndex = yagoAddedDataset.index()\n",
    "yagoAddedIndex.cache(\"../cache/yagoAddedIndex.cache\")"
   ]
  },
  {
   "cell_type": "code",
   "execution_count": 38,
   "metadata": {},
   "outputs": [
    {
     "data": {
      "text/plain": [
       "\u001b[36myagoOldAgeTotalPattern\u001b[39m: \u001b[32mRulePattern\u001b[39m = \u001b[33mRulePattern\u001b[39m(\n",
       "  \u001b[33mVector\u001b[39m(\n",
       "    \u001b[33mAtomPattern\u001b[39m(\u001b[33mVariable\u001b[39m(\u001b[33mVariable\u001b[39m(\u001b[32m1\u001b[39m)), Any, Any, Any),\n",
       "    \u001b[33mAtomPattern\u001b[39m(\n",
       "      \u001b[33mVariable\u001b[39m(\u001b[33mVariable\u001b[39m(\u001b[32m2\u001b[39m)),\n",
       "      \u001b[33mOneOf\u001b[39m(\n",
       "        \u001b[33mArrayBuffer\u001b[39m(\n",
       "          \u001b[33mConstant\u001b[39m(\u001b[33mLongUri\u001b[39m(\u001b[32m\"http://data.czso.cz/ontology/prumernaMzda\"\u001b[39m)),\n",
       "          \u001b[33mConstant\u001b[39m(\u001b[33mLongUri\u001b[39m(\u001b[32m\"http://data.czso.cz/ontology/medianMzdy\"\u001b[39m))\n",
       "        )\n",
       "      ),\n",
       "      AnyConstant,\n",
       "      Any\n",
       "    ),\n",
       "    \u001b[33mAtomPattern\u001b[39m(\n",
       "      \u001b[33mVariable\u001b[39m(\u001b[33mVariable\u001b[39m(\u001b[32m2\u001b[39m)),\n",
       "      \u001b[33mConstant\u001b[39m(\u001b[33mLongUri\u001b[39m(\u001b[32m\"http://data.czso.cz/ontology/refPeriod\"\u001b[39m)),\n",
       "      \u001b[33mVariable\u001b[39m(\u001b[33mVariable\u001b[39m(\u001b[32m3\u001b[39m)),\n",
       "      Any\n",
       "    ),\n",
       "    \u001b[33mAtomPattern\u001b[39m(\n",
       "      \u001b[33mVariable\u001b[39m(\u001b[33mVariable\u001b[39m(\u001b[32m0\u001b[39m)),\n",
       "      \u001b[33mConstant\u001b[39m(\u001b[33mLongUri\u001b[39m(\u001b[32m\"https://data.cssz.cz/ontology/dimension/refPeriod\"\u001b[39m)),\n",
       "      \u001b[33mVariable\u001b[39m(\u001b[33mVariable\u001b[39m(\u001b[32m3\u001b[39m)),\n",
       "      Any\n",
       "    ),\n",
       "    \u001b[33mAtomPattern\u001b[39m(\n",
       "      \u001b[33mVariable\u001b[39m(\u001b[33mVariable\u001b[39m(\u001b[32m2\u001b[39m)),\n",
       "      \u001b[33mConstant\u001b[39m(\u001b[33mLongUri\u001b[39m(\u001b[32m\"http://purl.org/linked-data/cube#dataSet\"\u001b[39m)),\n",
       "      \u001b[33mConstant\u001b[39m(\u001b[33mLongUri\u001b[39m(\u001b[32m\"salaries-total\"\u001b[39m)),\n",
       "      Any\n",
       "    ),\n",
       "    \u001b[33mAtomPattern\u001b[39m(\n",
       "      \u001b[33mVariable\u001b[39m(\u001b[33mVariable\u001b[39m(\u001b[32m2\u001b[39m)),\n",
       "      \u001b[33mConstant\u001b[39m(\u001b[33mLongUri\u001b[39m(\u001b[32m\"http://data.czso.cz/ontology/refArea\"\u001b[39m)),\n",
       "      \u001b[33mVariable\u001b[39m(\u001b[33mVariable\u001b[39m(\u001b[32m1\u001b[39m)),\n",
       "      Any\n",
       "    ),\n",
       "    \u001b[33mAtomPattern\u001b[39m(\n",
       "..."
      ]
     },
     "execution_count": 38,
     "metadata": {},
     "output_type": "execute_result"
    }
   ],
   "source": [
    "val yagoOldAgeTotalPattern: RulePattern = (\n",
    "    AtomPattern(subject = 'b') &:\n",
    "    AtomPattern(subject = 'c', predicate = oneOfSalariesMeasures, `object` = AnyConstant) &:\n",
    "    AtomPattern(subject = 'c', predicate = czsoRefPeriod, `object` = 'd') &:\n",
    "    AtomPattern(subject = 'a', predicate = cssaRefPeriod, `object` = 'd') &:\n",
    "    AtomPattern(subject = 'c', predicate = qbDataSet, `object` = salariesTotal) &:\n",
    "    AtomPattern(subject = 'c', predicate = czsoRefArea, `object` = 'b') &:\n",
    "    AtomPattern(subject = 'a', predicate = cssaRefArea, `object` = 'b') &:\n",
    "    AtomPattern(subject = 'a', predicate = cssaPensionKind, `object` = oldAgeTotal) &:\n",
    "    AtomPattern(subject = 'a', predicate = qbDataSet, `object` = regionTotalOldAgeTotal)\n",
    "    =>:\n",
    "    AtomPattern(subject = 'a', predicate = averagePensionAmount)\n",
    ")"
   ]
  },
  {
   "cell_type": "code",
   "execution_count": 39,
   "metadata": {},
   "outputs": [
    {
     "data": {
      "text/plain": [
       "\u001b[36myagoOldAgeTotalPatternTask\u001b[39m: \u001b[32mcom\u001b[39m.\u001b[32mgithub\u001b[39m.\u001b[32mpropi\u001b[39m.\u001b[32mrdfrules\u001b[39m.\u001b[32malgorithm\u001b[39m.\u001b[32mRulesMining\u001b[39m = com.github.propi.rdfrules.algorithm.amie.Amie@1952a770"
      ]
     },
     "execution_count": 39,
     "metadata": {},
     "output_type": "execute_result"
    }
   ],
   "source": [
    "val yagoOldAgeTotalPatternTask = Amie()\n",
    "    .addThreshold(Threshold.MinSupport(2))\n",
    "    .addThreshold(Threshold.MaxRuleLength(10))\n",
    "    .addThreshold(Threshold.MinHeadSize(0))\n",
    "    .addThreshold(Threshold.Timeout(1))\n",
    "    .addConstraint(constantsOnlyAtObject)\n",
    "    .addPattern(yagoOldAgeTotalPattern)"
   ]
  },
  {
   "cell_type": "code",
   "execution_count": 40,
   "metadata": {},
   "outputs": [
    {
     "name": "stderr",
     "output_type": "stream",
     "text": [
      "2021-04-19 12:07:51:841 +0200 [scala-interpreter-1] INFO com.github.propi.rdfrules.utils.Debugger - Amie task settings:\n",
      "MinHeadSize=1,\n",
      "MinHeadCoverage=0.0,\n",
      "MinSupport=2,\n",
      "MaxThreads=4,\n",
      "MinAtomSize=0,\n",
      "MaxRuleLength=10,\n",
      "WithConstants=true,\n",
      "ConstantsPosition=Object,\n",
      "Timeout=60000,\n",
      "WithDuplicitPredicates=true,\n",
      "Patterns=List(Mapped(Vector(Mapped(Variable(?b),Any,Any,Any), Mapped(Variable(?c),OneOf(ArrayBuffer(Constant(Constant(1433642368)), Constant(Constant(1396113393)))),AnyConstant,Any), Mapped(Variable(?c),Constant(Constant(-901057765)),Variable(?d),Any), Mapped(Variable(?a),Constant(Constant(1169043154)),Variable(?d),Any), Mapped(Variable(?c),Constant(Constant(624690160)),Constant(Constant(79965660)),Any), Mapped(Variable(?c),Constant(Constant(1481837794)),Variable(?b),Any), Mapped(Variable(?a),Constant(Constant(528884079)),Variable(?b),Any), Mapped(Variable(?a),Constant(Constant(-2096697191)),Constant(Constant(-354818346)),Any), Mapped(Variable(?a),Constant(Constant(624690160)),Constant(Constant(-1196648091)),Any)),Some(Mapped(Variable(?a),Constant(Constant(1915729891)),Any,Any)),false,false)),\n",
      "OnlyPredicates=None,\n",
      "WithoutPredicates=None\n"
     ]
    },
    {
     "name": "stdout",
     "output_type": "stream",
     "text": [
      "0\n"
     ]
    },
    {
     "data": {
      "text/plain": [
       "\u001b[36myagoOldAgeTotalPatternTaskRuleset\u001b[39m: \u001b[32mRuleset\u001b[39m = com.github.propi.rdfrules.ruleset.Ruleset@720e5bc4"
      ]
     },
     "execution_count": 40,
     "metadata": {},
     "output_type": "execute_result"
    }
   ],
   "source": [
    "val yagoOldAgeTotalPatternTaskRuleset = yagoAddedIndex.mine(yagoOldAgeTotalPatternTask)\n",
    "println(yagoOldAgeTotalPatternTaskRuleset.size)"
   ]
  },
  {
   "cell_type": "code",
   "execution_count": 34,
   "metadata": {},
   "outputs": [],
   "source": [
    "yagoOldAgeTotalPatternTaskRuleset.export(\"../rulesets/yagoOldAgeTotalPatternTaskRuleset.txt\")"
   ]
  }
 ],
 "metadata": {
  "kernelspec": {
   "display_name": "Scala",
   "language": "scala",
   "name": "scala"
  },
  "language_info": {
   "codemirror_mode": "text/x-scala",
   "file_extension": ".sc",
   "mimetype": "text/x-scala",
   "name": "scala",
   "nbconvert_exporter": "script",
   "version": "2.12.8"
  }
 },
 "nbformat": 4,
 "nbformat_minor": 4
}
