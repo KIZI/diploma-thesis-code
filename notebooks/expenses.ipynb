{
 "cells": [
  {
   "cell_type": "code",
   "execution_count": 1,
   "metadata": {},
   "outputs": [],
   "source": [
    "kernel.silent(true)"
   ]
  },
  {
   "cell_type": "code",
   "execution_count": 2,
   "metadata": {},
   "outputs": [],
   "source": [
    "import coursierapi.MavenRepository\n",
    "interp.repositories() ++= Seq(MavenRepository.of(\"https://jitpack.io\"))"
   ]
  },
  {
   "cell_type": "code",
   "execution_count": 3,
   "metadata": {},
   "outputs": [],
   "source": [
    "import $ivy.`com.github.propi:rdfrules:1.5.0`\n",
    "import collection._\n",
    "import org.apache.jena.riot.Lang\n",
    "\n",
    "import com.github.propi.rdfrules.data._\n",
    "import com.github.propi.rdfrules.algorithm.amie._\n",
    "import com.github.propi.rdfrules.algorithm.dbscan._\n",
    "import com.github.propi.rdfrules.utils._\n",
    "import com.github.propi.rdfrules.index._\n",
    "import com.github.propi.rdfrules.rule._\n",
    "import com.github.propi.rdfrules.ruleset._\n",
    "kernel.silent(false)"
   ]
  },
  {
   "cell_type": "code",
   "execution_count": 4,
   "metadata": {},
   "outputs": [
    {
     "data": {
      "text/plain": [
       "\u001b[32mimport \u001b[39m\u001b[36mreflect.io._, Path._\n",
       "\u001b[39m\n",
       "\u001b[32mimport \u001b[39m\u001b[36mreflect.io._\n",
       "\u001b[39m\n",
       "\u001b[32mimport \u001b[39m\u001b[36mPath._\u001b[39m"
      ]
     },
     "execution_count": 4,
     "metadata": {},
     "output_type": "execute_result"
    }
   ],
   "source": [
    "import reflect.io._, Path._\n",
    "import reflect.io._\n",
    "import Path._"
   ]
  },
  {
   "cell_type": "code",
   "execution_count": 5,
   "metadata": {},
   "outputs": [
    {
     "data": {
      "text/plain": [
       "\u001b[36muri\u001b[39m: \u001b[32mString\u001b[39m => \u001b[32mTripleItem\u001b[39m.\u001b[32mUri\u001b[39m = ammonite.$sess.cmd4$Helper$$Lambda$2816/0x0000000840c77840@70047f0a\n",
       "\u001b[36mqbDataSet\u001b[39m: \u001b[32mString\u001b[39m = \u001b[32m\"http://purl.org/linked-data/cube#dataSet\"\u001b[39m"
      ]
     },
     "execution_count": 5,
     "metadata": {},
     "output_type": "execute_result"
    }
   ],
   "source": [
    "val uri = (value: String) => TripleItem.Uri(value)\n",
    "val qbDataSet = \"http://purl.org/linked-data/cube#dataSet\""
   ]
  },
  {
   "cell_type": "code",
   "execution_count": 6,
   "metadata": {},
   "outputs": [
    {
     "data": {
      "text/plain": [
       "\u001b[36mgraphs\u001b[39m: \u001b[32mIterator\u001b[39m[\u001b[32mString\u001b[39m] = \u001b[32mnon-empty iterator\u001b[39m"
      ]
     },
     "execution_count": 6,
     "metadata": {},
     "output_type": "execute_result"
    }
   ],
   "source": [
    "val graphs = \"../data/expenses\".toDirectory.files.map(_.path).filter(g => g matches \"\"\".*\\.ttl\"\"\")"
   ]
  },
  {
   "cell_type": "code",
   "execution_count": 7,
   "metadata": {},
   "outputs": [
    {
     "data": {
      "text/html": [
       "<div class=\"jp-RenderedText\">\n",
       "<pre><code><span style=\"color: rgb(0, 187, 187)\"><span class=\"ansi-cyan-fg\">expensesCubesMap</span></span>: <span style=\"color: rgb(0, 187, 0)\"><span class=\"ansi-green-fg\">Map</span></span>[<span style=\"color: rgb(0, 187, 0)\"><span class=\"ansi-green-fg\">String</span></span>, <span style=\"color: rgb(0, 187, 0)\"><span class=\"ansi-green-fg\">Graph</span></span>] = <span style=\"color: yellow\"><span class=\"ansi-yellow-fg\">Map</span></span>(\n",
       "  <span style=\"color: rgb(0, 187, 0)\"><span class=\"ansi-green-fg\">&quot;expenses-ip&quot;</span></span> -&gt; com.github.propi.rdfrules.data.Graph@17b575f3,\n",
       "  <span style=\"color: rgb(0, 187, 0)\"><span class=\"ansi-green-fg\">&quot;expenses-v-total&quot;</span></span> -&gt; com.github.propi.rdfrules.data.Graph@3657dc4a,\n",
       "  <span style=\"color: rgb(0, 187, 0)\"><span class=\"ansi-green-fg\">&quot;expenses-old-age-total&quot;</span></span> -&gt; com.github.propi.rdfrules.data.Graph@722ed815,\n",
       "  <span style=\"color: rgb(0, 187, 0)\"><span class=\"ansi-green-fg\">&quot;expenses-id&quot;</span></span> -&gt; com.github.propi.rdfrules.data.Graph@418c966,\n",
       "  <span style=\"color: rgb(0, 187, 0)\"><span class=\"ansi-green-fg\">&quot;expenses-d&quot;</span></span> -&gt; com.github.propi.rdfrules.data.Graph@6012d733,\n",
       "  <span style=\"color: rgb(0, 187, 0)\"><span class=\"ansi-green-fg\">&quot;expenses-vm-total&quot;</span></span> -&gt; com.github.propi.rdfrules.data.Graph@68aff2f7,\n",
       "  <span style=\"color: rgb(0, 187, 0)\"><span class=\"ansi-green-fg\">&quot;expenses-jpd&quot;</span></span> -&gt; com.github.propi.rdfrules.data.Graph@6c457187,\n",
       "  <span style=\"color: rgb(0, 187, 0)\"><span class=\"ansi-green-fg\">&quot;expenses-it&quot;</span></span> -&gt; com.github.propi.rdfrules.data.Graph@2e54c690,\n",
       "  <span style=\"color: rgb(0, 187, 0)\"><span class=\"ansi-green-fg\">&quot;expenses-total-in-cze-and-abroad&quot;</span></span> -&gt; com.github.propi.rdfrules.data.Graph@58893726,\n",
       "  <span style=\"color: rgb(0, 187, 0)\"><span class=\"ansi-green-fg\">&quot;expenses-v-vm-total&quot;</span></span> -&gt; com.github.propi.rdfrules.data.Graph@4f265e8a\n",
       ")</code></pre>\n",
       "</div>"
      ],
      "text/plain": [
       "\u001b[36mexpensesCubesMap\u001b[39m: \u001b[32mMap\u001b[39m[\u001b[32mString\u001b[39m, \u001b[32mGraph\u001b[39m] = \u001b[33mMap\u001b[39m(\n",
       "  \u001b[32m\"expenses-ip\"\u001b[39m -> com.github.propi.rdfrules.data.Graph@17b575f3,\n",
       "  \u001b[32m\"expenses-v-total\"\u001b[39m -> com.github.propi.rdfrules.data.Graph@3657dc4a,\n",
       "  \u001b[32m\"expenses-old-age-total\"\u001b[39m -> com.github.propi.rdfrules.data.Graph@722ed815,\n",
       "  \u001b[32m\"expenses-id\"\u001b[39m -> com.github.propi.rdfrules.data.Graph@418c966,\n",
       "  \u001b[32m\"expenses-d\"\u001b[39m -> com.github.propi.rdfrules.data.Graph@6012d733,\n",
       "  \u001b[32m\"expenses-vm-total\"\u001b[39m -> com.github.propi.rdfrules.data.Graph@68aff2f7,\n",
       "  \u001b[32m\"expenses-jpd\"\u001b[39m -> com.github.propi.rdfrules.data.Graph@6c457187,\n",
       "  \u001b[32m\"expenses-it\"\u001b[39m -> com.github.propi.rdfrules.data.Graph@2e54c690,\n",
       "  \u001b[32m\"expenses-total-in-cze-and-abroad\"\u001b[39m -> com.github.propi.rdfrules.data.Graph@58893726,\n",
       "  \u001b[32m\"expenses-v-vm-total\"\u001b[39m -> com.github.propi.rdfrules.data.Graph@4f265e8a\n",
       ")"
      ]
     },
     "metadata": {},
     "output_type": "display_data"
    }
   ],
   "source": [
    "var expensesCubesMap: Map[String, Graph] = Map()\n",
    "graphs.foreach(g => {\n",
    "    val name = g.replaceAll(\"\\\\.ttl\", \"\").replaceAll(\"^.*/\", \"\")\n",
    "    expensesCubesMap = expensesCubesMap + (name -> Graph(g))\n",
    "    \n",
    "})"
   ]
  },
  {
   "cell_type": "code",
   "execution_count": 8,
   "metadata": {},
   "outputs": [
    {
     "data": {
      "text/plain": [
       "\u001b[36mintervalCounts\u001b[39m: \u001b[32mArray\u001b[39m[\u001b[32mInt\u001b[39m] = \u001b[33mArray\u001b[39m(\u001b[32m2\u001b[39m, \u001b[32m3\u001b[39m, \u001b[32m5\u001b[39m)\n",
       "\u001b[36msupportPercents\u001b[39m: \u001b[32mArray\u001b[39m[\u001b[32mInt\u001b[39m] = \u001b[33mArray\u001b[39m(\u001b[32m20\u001b[39m, \u001b[32m30\u001b[39m, \u001b[32m50\u001b[39m)\n",
       "\u001b[36mequiSize\u001b[39m: \u001b[32mInt\u001b[39m => \u001b[32mDiscretizationTask\u001b[39m.\u001b[32mEquisize\u001b[39m = ammonite.$sess.cmd7$Helper$$Lambda$2975/0x0000000840cf5840@7c59ff65\n",
       "\u001b[36mequiFrequent\u001b[39m: \u001b[32mInt\u001b[39m => \u001b[32mDiscretizationTask\u001b[39m.\u001b[32mEquifrequency\u001b[39m = ammonite.$sess.cmd7$Helper$$Lambda$2976/0x0000000840cf6040@6237a4ed"
      ]
     },
     "execution_count": 8,
     "metadata": {},
     "output_type": "execute_result"
    }
   ],
   "source": [
    "val intervalCounts = Array(2, 3, 5)\n",
    "val supportPercents = Array(20, 30, 50)\n",
    "val equiSize = (support: Int) => DiscretizationTask.Equisize(support)\n",
    "val equiFrequent = (intervalCount: Int) => DiscretizationTask.Equifrequency(intervalCount)"
   ]
  },
  {
   "cell_type": "code",
   "execution_count": 9,
   "metadata": {},
   "outputs": [
    {
     "data": {
      "text/plain": [
       "\u001b[32mimport \u001b[39m\u001b[36meu.easyminer.discretization.impl.Interval\n",
       "\u001b[39m\n",
       "\u001b[32mimport \u001b[39m\u001b[36meu.easyminer.discretization.impl.IntervalBound._\n",
       "\u001b[39m\n",
       "\u001b[36mrounded\u001b[39m: (\u001b[32mDouble\u001b[39m, \u001b[32mInteger\u001b[39m) => \u001b[32mDouble\u001b[39m = ammonite.$sess.cmd8$Helper$$Lambda$3008/0x0000000840d08040@843e9b9\n",
       "\u001b[36mintervalToString\u001b[39m: \u001b[32mInterval\u001b[39m => \u001b[32mString\u001b[39m = ammonite.$sess.cmd8$Helper$$Lambda$3009/0x0000000840d09040@4f456856"
      ]
     },
     "execution_count": 9,
     "metadata": {},
     "output_type": "execute_result"
    }
   ],
   "source": [
    "import eu.easyminer.discretization.impl.Interval\n",
    "import eu.easyminer.discretization.impl.IntervalBound._\n",
    "val rounded = (value: Double, scale: Integer) => BigDecimal(value).setScale(scale, BigDecimal.RoundingMode.HALF_UP).toDouble\n",
    "val intervalToString = (i: Interval) => \"<\"+rounded(i.minValue.value,2)+ \"__\"+rounded(i.maxValue.value,2)+\")\""
   ]
  },
  {
   "cell_type": "code",
   "execution_count": 10,
   "metadata": {},
   "outputs": [
    {
     "data": {
      "text/plain": [
       "\u001b[36mexpendatureAmount\u001b[39m: \u001b[32mTripleItem\u001b[39m.\u001b[32mUri\u001b[39m = \u001b[33mLongUri\u001b[39m(\n",
       "  \u001b[32m\"https://data.cssz.cz/ontology/measure/vydaje-na-duchody-opravene-o-zalohy-v-tis-kc\"\u001b[39m\n",
       ")\n",
       "\u001b[36mmeasureUris\u001b[39m: \u001b[32mArray\u001b[39m[\u001b[32mTripleItem\u001b[39m.\u001b[32mUri\u001b[39m] = \u001b[33mArray\u001b[39m(\n",
       "  \u001b[33mLongUri\u001b[39m(\n",
       "    \u001b[32m\"https://data.cssz.cz/ontology/measure/vydaje-na-duchody-opravene-o-zalohy-v-tis-kc\"\u001b[39m\n",
       "  )\n",
       ")"
      ]
     },
     "execution_count": 10,
     "metadata": {},
     "output_type": "execute_result"
    }
   ],
   "source": [
    "val expendatureAmount = TripleItem.Uri(\"https://data.cssz.cz/ontology/measure/vydaje-na-duchody-opravene-o-zalohy-v-tis-kc\")\n",
    "val measureUris = Array(expendatureAmount)"
   ]
  },
  {
   "cell_type": "code",
   "execution_count": 11,
   "metadata": {},
   "outputs": [
    {
     "data": {
      "text/plain": [
       "\u001b[36mdiscretizeEquisize\u001b[39m: (\u001b[32mGraph\u001b[39m, \u001b[32mInt\u001b[39m, \u001b[32mTripleItem\u001b[39m.\u001b[32mUri\u001b[39m) => \u001b[32mGraph\u001b[39m = ammonite.$sess.cmd10$Helper$$Lambda$3040/0x0000000840d23440@2d06c74c\n",
       "\u001b[36mdiscretizeEquifrequent\u001b[39m: (\u001b[32mGraph\u001b[39m, \u001b[32mInt\u001b[39m, \u001b[32mTripleItem\u001b[39m.\u001b[32mUri\u001b[39m) => \u001b[32mGraph\u001b[39m = ammonite.$sess.cmd10$Helper$$Lambda$3041/0x0000000840d24040@274979c8\n",
       "\u001b[36mdiscretizeEquisizeAndGetIntervals\u001b[39m: (\u001b[32mGraph\u001b[39m, \u001b[32mInt\u001b[39m, \u001b[32mTripleItem\u001b[39m.\u001b[32mUri\u001b[39m) => \u001b[32mIndexedSeq\u001b[39m[\u001b[32mInterval\u001b[39m] = ammonite.$sess.cmd10$Helper$$Lambda$3042/0x0000000840d24440@672ba556\n",
       "\u001b[36mdiscretizeEquifrequentAndGetIntervals\u001b[39m: (\u001b[32mGraph\u001b[39m, \u001b[32mInt\u001b[39m, \u001b[32mTripleItem\u001b[39m.\u001b[32mUri\u001b[39m) => \u001b[32mIndexedSeq\u001b[39m[\u001b[32mInterval\u001b[39m] = ammonite.$sess.cmd10$Helper$$Lambda$3043/0x0000000840d24840@3344ca54"
      ]
     },
     "execution_count": 11,
     "metadata": {},
     "output_type": "execute_result"
    }
   ],
   "source": [
    "val discretizeEquisize = (graph: Graph, relativeSupport: Int, measure: TripleItem.Uri) => {\n",
    "    val observationsCount = graph.filter(t => t.predicate.hasSameUriAs(qbDataSet)).size\n",
    "    val absoluteSupport = (observationsCount * (relativeSupport.toFloat / 100)).ceil.toInt\n",
    "    graph.filter(t => t.predicate == measure)\n",
    "         .discretize(equiSize(absoluteSupport))(quad => quad.triple.predicate == measure)\n",
    "}\n",
    "\n",
    "val discretizeEquifrequent = (graph: Graph, intervalsCount: Int, measure: TripleItem.Uri) => {\n",
    "    graph.filter(t => t.predicate == measure)\n",
    "         .discretize(equiFrequent(intervalsCount))(quad => quad.triple.predicate == measure)\n",
    "}\n",
    "\n",
    "val discretizeEquisizeAndGetIntervals = (graph: Graph, relativeSupport: Int, measure: TripleItem.Uri) => {\n",
    "    val observationsCount = graph.filter(t => t.predicate.hasSameUriAs(qbDataSet)).size\n",
    "    val absoluteSupport = (observationsCount * (relativeSupport.toFloat / 100)).ceil.toInt\n",
    "    graph.filter(t => t.predicate == measure)\n",
    "         .discretizeAndGetIntervals(equiSize(absoluteSupport))(quad => quad.triple.predicate == measure)   \n",
    "}\n",
    "\n",
    "val discretizeEquifrequentAndGetIntervals = (graph: Graph, intervalsCount: Int, measure: TripleItem.Uri) => {\n",
    "    graph.filter(t => t.predicate == measure)\n",
    "         .discretizeAndGetIntervals(equiFrequent(intervalsCount))(quad => quad.triple.predicate == measure)\n",
    "}"
   ]
  },
  {
   "cell_type": "code",
   "execution_count": 12,
   "metadata": {},
   "outputs": [
    {
     "data": {
      "text/plain": [
       "\u001b[36mlowerBound\u001b[39m: \u001b[32mString\u001b[39m => \u001b[32mString\u001b[39m = ammonite.$sess.cmd11$Helper$$Lambda$3078/0x0000000840d3b840@330b592d\n",
       "\u001b[36mupperBound\u001b[39m: \u001b[32mString\u001b[39m => \u001b[32mString\u001b[39m = ammonite.$sess.cmd11$Helper$$Lambda$3079/0x0000000840d3c840@4289580\n",
       "\u001b[36mlowerBoundInterval\u001b[39m: \u001b[32mInterval\u001b[39m => \u001b[32mString\u001b[39m = ammonite.$sess.cmd11$Helper$$Lambda$3080/0x0000000840d3d040@24e06ac2\n",
       "\u001b[36mupperBoundInterval\u001b[39m: \u001b[32mInterval\u001b[39m => \u001b[32mString\u001b[39m = ammonite.$sess.cmd11$Helper$$Lambda$3081/0x0000000840d3e040@4d07aab9\n",
       "\u001b[36mequalIntervals\u001b[39m: (\u001b[32mString\u001b[39m, \u001b[32mInterval\u001b[39m) => \u001b[32mBoolean\u001b[39m = ammonite.$sess.cmd11$Helper$$Lambda$3082/0x0000000840d3e840@3a3d9310"
      ]
     },
     "execution_count": 12,
     "metadata": {},
     "output_type": "execute_result"
    }
   ],
   "source": [
    "val lowerBound = (interval: String) => interval.split(\" \")(1)\n",
    "val upperBound = (interval: String) => interval.split(\" \")(3)\n",
    "val lowerBoundInterval = (interval: Interval) => interval.minValue.value.toString\n",
    "val upperBoundInterval = (interval: Interval) => interval.maxValue.value.toString\n",
    "\n",
    "val equalIntervals = (i1: String, i2: Interval) => {\n",
    "    lowerBound(i1).equals(lowerBoundInterval(i2)) && upperBound(i1).equals(upperBoundInterval(i2))\n",
    "}"
   ]
  },
  {
   "cell_type": "code",
   "execution_count": 13,
   "metadata": {},
   "outputs": [
    {
     "data": {
      "text/plain": [
       "\u001b[36mrenameInterval\u001b[39m: (\u001b[32mTriple\u001b[39m, \u001b[32mIndexedSeq\u001b[39m[\u001b[32mInterval\u001b[39m], \u001b[32mString\u001b[39m) => \u001b[32mTriple\u001b[39m = ammonite.$sess.cmd12$Helper$$Lambda$3132/0x0000000840d64440@5e230073\n",
       "\u001b[36mdiscretize\u001b[39m: (\u001b[32mGraph\u001b[39m, \u001b[32mString\u001b[39m) => \u001b[32mDataset\u001b[39m = ammonite.$sess.cmd12$Helper$$Lambda$3133/0x0000000840d65840@20df98ef"
      ]
     },
     "execution_count": 13,
     "metadata": {},
     "output_type": "execute_result"
    }
   ],
   "source": [
    "val renameInterval = (t: Triple, intervals: IndexedSeq[Interval], suffix: String) => {\n",
    "    var result = t\n",
    "    intervals.foreach(interval => {\n",
    "        if (equalIntervals(t.`object`.toString, interval)) {\n",
    "            result = t.copy(`object` = TripleItem.Uri(intervalToString(interval)+\"_\"+suffix+\"_\"+(intervals.indexOf(interval)+1)+\"/\"+intervals.size) )\n",
    "        }\n",
    "    })\n",
    "    result\n",
    "}\n",
    "\n",
    "val discretize = (graph: Graph, name: String) => {\n",
    "    var result = Dataset() + \n",
    "    graph.filter(t => !measureUris.contains(t.predicate))\n",
    "    .map(t => if (t.predicate.hasSameUriAs(qbDataSet)) t.copy(`object` = uri(name)) else t)\n",
    "    \n",
    "        measureUris.foreach(measure => {\n",
    "            intervalCounts.foreach(intervalCount => {\n",
    "                val intervals = discretizeEquifrequentAndGetIntervals(graph, intervalCount, measure)\n",
    "                val measures = discretizeEquifrequent(graph, intervalCount, measure)\n",
    "                result = result + measures.map(t => {renameInterval(t, intervals, \"ef\"+intervalCount)})\n",
    "            })\n",
    "\n",
    "            supportPercents.foreach(percentage => {\n",
    "                val intervals = discretizeEquisizeAndGetIntervals(graph, percentage, measure)\n",
    "                val measures = discretizeEquisize(graph, percentage, measure)\n",
    "                result = result + measures.map(t => {renameInterval(t, intervals, \"es\"+percentage)})\n",
    "            })\n",
    "    })\n",
    "    result\n",
    "}"
   ]
  },
  {
   "cell_type": "code",
   "execution_count": 14,
   "metadata": {},
   "outputs": [
    {
     "data": {
      "text/html": [
       "<div class=\"jp-RenderedText\">\n",
       "<pre><code><span style=\"color: rgb(0, 187, 187)\"><span class=\"ansi-cyan-fg\">dataset</span></span>: <span style=\"color: rgb(0, 187, 0)\"><span class=\"ansi-green-fg\">Dataset</span></span> = com.github.propi.rdfrules.data.Dataset@473f3036</code></pre>\n",
       "</div>"
      ],
      "text/plain": [
       "\u001b[36mdataset\u001b[39m: \u001b[32mDataset\u001b[39m = com.github.propi.rdfrules.data.Dataset@473f3036"
      ]
     },
     "metadata": {},
     "output_type": "display_data"
    }
   ],
   "source": [
    "var dataset = Dataset()\n",
    "expensesCubesMap\n",
    ".map(t => discretize(t._2,t._1))\n",
    ".foreach(d => dataset = dataset + d)\n",
    "dataset = dataset.setPrefixes(Traversable(\n",
    "    Prefix(\"cssa-od\", \"https://data.cssz.cz/ontology/dimension/\"),\n",
    "    Prefix(\"cssa-om\", \"https://data.cssz.cz/ontology/measure/\"),\n",
    "    Prefix(\"qb\", \"http://purl.org/linked-data/cube#\")\n",
    "    )   \n",
    ")"
   ]
  },
  {
   "cell_type": "code",
   "execution_count": 15,
   "metadata": {},
   "outputs": [
    {
     "data": {
      "text/plain": [
       "\u001b[36mres14_0\u001b[39m: \u001b[32mDataset\u001b[39m = com.github.propi.rdfrules.data.Dataset@7f113a74"
      ]
     },
     "execution_count": 15,
     "metadata": {},
     "output_type": "execute_result"
    }
   ],
   "source": [
    "dataset.cache(\"../cache/expensesCube.cache\")\n",
    "dataset.export(\"../exports/expensesCube.ttl\")"
   ]
  },
  {
   "cell_type": "code",
   "execution_count": 16,
   "metadata": {},
   "outputs": [
    {
     "name": "stdout",
     "output_type": "stream",
     "text": [
      "1000\n",
      "1000\n"
     ]
    },
    {
     "data": {
      "text/html": [
       "<div class=\"jp-RenderedText\">\n",
       "<pre><code><span style=\"color: rgb(0, 187, 187)\"><span class=\"ansi-cyan-fg\">cachedDataset</span></span>: <span style=\"color: rgb(0, 187, 0)\"><span class=\"ansi-green-fg\">Dataset</span></span> = com.github.propi.rdfrules.data.Dataset@12d330b5</code></pre>\n",
       "</div>"
      ],
      "text/plain": [
       "\u001b[36mcachedDataset\u001b[39m: \u001b[32mDataset\u001b[39m = com.github.propi.rdfrules.data.Dataset@12d330b5"
      ]
     },
     "metadata": {},
     "output_type": "display_data"
    }
   ],
   "source": [
    "var cachedDataset = Dataset.fromCache(\"../cache/expensesCube.cache\")\n",
    "println(cachedDataset.size)\n",
    "println(dataset.size)"
   ]
  }
 ],
 "metadata": {
  "kernelspec": {
   "display_name": "Scala",
   "language": "scala",
   "name": "scala"
  },
  "language_info": {
   "codemirror_mode": "text/x-scala",
   "file_extension": ".sc",
   "mimetype": "text/x-scala",
   "name": "scala",
   "nbconvert_exporter": "script",
   "version": "2.12.8"
  }
 },
 "nbformat": 4,
 "nbformat_minor": 4
}
