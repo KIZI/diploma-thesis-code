{
 "cells": [
  {
   "cell_type": "code",
   "execution_count": 1,
   "metadata": {},
   "outputs": [
    {
     "data": {
      "text/plain": [
       "\u001b[32mimport \u001b[39m\u001b[36mcoursierapi.MavenRepository\n",
       "\u001b[39m"
      ]
     },
     "execution_count": 1,
     "metadata": {},
     "output_type": "execute_result"
    }
   ],
   "source": [
    "import coursierapi.MavenRepository\n",
    "interp.repositories() ++= Seq(MavenRepository.of(\"https://jitpack.io\"))"
   ]
  },
  {
   "cell_type": "code",
   "execution_count": 2,
   "metadata": {},
   "outputs": [
    {
     "data": {
      "text/plain": [
       "\u001b[32mimport \u001b[39m\u001b[36m$ivy.$                                \n",
       "\u001b[39m\n",
       "\u001b[32mimport \u001b[39m\u001b[36mcollection._\n",
       "\u001b[39m\n",
       "\u001b[32mimport \u001b[39m\u001b[36morg.apache.jena.riot.Lang\n",
       "\n",
       "\u001b[39m\n",
       "\u001b[32mimport \u001b[39m\u001b[36mcom.github.propi.rdfrules.data._\n",
       "\u001b[39m\n",
       "\u001b[32mimport \u001b[39m\u001b[36mcom.github.propi.rdfrules.algorithm.amie._\n",
       "\u001b[39m\n",
       "\u001b[32mimport \u001b[39m\u001b[36mcom.github.propi.rdfrules.algorithm.dbscan._\n",
       "\u001b[39m\n",
       "\u001b[32mimport \u001b[39m\u001b[36mcom.github.propi.rdfrules.utils._\n",
       "\u001b[39m\n",
       "\u001b[32mimport \u001b[39m\u001b[36mcom.github.propi.rdfrules.index._\n",
       "\u001b[39m\n",
       "\u001b[32mimport \u001b[39m\u001b[36mcom.github.propi.rdfrules.rule._\n",
       "\u001b[39m\n",
       "\u001b[32mimport \u001b[39m\u001b[36mcom.github.propi.rdfrules.ruleset._\u001b[39m"
      ]
     },
     "execution_count": 2,
     "metadata": {},
     "output_type": "execute_result"
    }
   ],
   "source": [
    "import $ivy.`com.github.propi:rdfrules:1.5.0`\n",
    "import collection._\n",
    "import org.apache.jena.riot.Lang\n",
    "\n",
    "import com.github.propi.rdfrules.data._\n",
    "import com.github.propi.rdfrules.algorithm.amie._\n",
    "import com.github.propi.rdfrules.algorithm.dbscan._\n",
    "import com.github.propi.rdfrules.utils._\n",
    "import com.github.propi.rdfrules.index._\n",
    "import com.github.propi.rdfrules.rule._\n",
    "import com.github.propi.rdfrules.ruleset._"
   ]
  },
  {
   "cell_type": "code",
   "execution_count": 3,
   "metadata": {},
   "outputs": [
    {
     "data": {
      "text/plain": [
       "\u001b[36mregionsHop2\u001b[39m: \u001b[32mGraph\u001b[39m = com.github.propi.rdfrules.data.Graph@6b384f23\n",
       "\u001b[36mdistrictsHop2\u001b[39m: \u001b[32mGraph\u001b[39m = com.github.propi.rdfrules.data.Graph@3c4d2e6a"
      ]
     },
     "execution_count": 3,
     "metadata": {},
     "output_type": "execute_result"
    }
   ],
   "source": [
    "val regionsHop2 = Graph(\"yago\", \"../../code-zaloha/data/describe-region-hop2.xml\")\n",
    "val districtsHop2 = Graph(\"yago\", \"../../code-zaloha/data/describe-district-hop2.xml\")"
   ]
  },
  {
   "cell_type": "code",
   "execution_count": 4,
   "metadata": {},
   "outputs": [
    {
     "data": {
      "text/plain": [
       "\u001b[36mregionsHop2_1\u001b[39m: \u001b[32mGraph\u001b[39m = com.github.propi.rdfrules.data.Graph@70eb7d20\n",
       "\u001b[36mregionsHop2_2\u001b[39m: \u001b[32mGraph\u001b[39m = com.github.propi.rdfrules.data.Graph@207ea66d\n",
       "\u001b[36mdistrictsHop2_1\u001b[39m: \u001b[32mGraph\u001b[39m = com.github.propi.rdfrules.data.Graph@45cac95b\n",
       "\u001b[36mdistrictsHop2_2\u001b[39m: \u001b[32mGraph\u001b[39m = com.github.propi.rdfrules.data.Graph@6a87f80d"
      ]
     },
     "execution_count": 4,
     "metadata": {},
     "output_type": "execute_result"
    }
   ],
   "source": [
    "val regionsHop2_1 = regionsHop2.filter(t => t.subject.hashCode() > 0)\n",
    "val regionsHop2_2 = regionsHop2.filter(t => t.subject.hashCode() <= 0)\n",
    "val districtsHop2_1 = districtsHop2.filter(t => t.subject.hashCode() > 0)\n",
    "val districtsHop2_2 = districtsHop2.filter(t => t.subject.hashCode() <= 0)"
   ]
  },
  {
   "cell_type": "code",
   "execution_count": 5,
   "metadata": {},
   "outputs": [
    {
     "data": {
      "text/plain": [
       "\u001b[36mregionsHop2_1_1\u001b[39m: \u001b[32mGraph\u001b[39m = com.github.propi.rdfrules.data.Graph@23c85db2\n",
       "\u001b[36mregionsHop2_1_2\u001b[39m: \u001b[32mGraph\u001b[39m = com.github.propi.rdfrules.data.Graph@605cc624\n",
       "\u001b[36mregionsHop2_2_1\u001b[39m: \u001b[32mGraph\u001b[39m = com.github.propi.rdfrules.data.Graph@65e8cc75\n",
       "\u001b[36mregionsHop2_2_2\u001b[39m: \u001b[32mGraph\u001b[39m = com.github.propi.rdfrules.data.Graph@33840705\n",
       "\u001b[36mdistrictsHop2_1_1\u001b[39m: \u001b[32mGraph\u001b[39m = com.github.propi.rdfrules.data.Graph@153ab76\n",
       "\u001b[36mdistrictsHop2_1_2\u001b[39m: \u001b[32mGraph\u001b[39m = com.github.propi.rdfrules.data.Graph@7d2176f5\n",
       "\u001b[36mdistrictsHop2_2_1\u001b[39m: \u001b[32mGraph\u001b[39m = com.github.propi.rdfrules.data.Graph@5231f88b\n",
       "\u001b[36mdistrictsHop2_2_2\u001b[39m: \u001b[32mGraph\u001b[39m = com.github.propi.rdfrules.data.Graph@3651ca00"
      ]
     },
     "execution_count": 5,
     "metadata": {},
     "output_type": "execute_result"
    }
   ],
   "source": [
    "val regionsHop2_1_1 = regionsHop2_1.filter(t =>t.`object`.hashCode > 0)\n",
    "val regionsHop2_1_2 = regionsHop2_1.filter(t =>t.`object`.hashCode <= 0)\n",
    "val regionsHop2_2_1 = regionsHop2_2.filter(t =>t.`object`.hashCode > 0)\n",
    "val regionsHop2_2_2 = regionsHop2_2.filter(t =>t.`object`.hashCode <= 0)\n",
    "\n",
    "val districtsHop2_1_1 = districtsHop2_1.filter(t =>t.`object`.hashCode > 0)\n",
    "val districtsHop2_1_2 = districtsHop2_1.filter(t =>t.`object`.hashCode <= 0)\n",
    "val districtsHop2_2_1 = districtsHop2_2.filter(t =>t.`object`.hashCode > 0)\n",
    "val districtsHop2_2_2 = districtsHop2_2.filter(t =>t.`object`.hashCode <= 0)"
   ]
  },
  {
   "cell_type": "code",
   "execution_count": 6,
   "metadata": {},
   "outputs": [],
   "source": [
    "regionsHop2_1_1.export(\"../data/describe-region-hop2_1.ttl\")\n",
    "regionsHop2_1_2.export(\"../data/describe-region-hop2_2.ttl\")\n",
    "regionsHop2_2_1.export(\"../data/describe-region-hop2_3.ttl\")\n",
    "regionsHop2_2_2.export(\"../data/describe-region-hop2_4.ttl\")\n",
    "\n",
    "districtsHop2_1_1.export(\"../data/describe-district-hop2_1.ttl\")\n",
    "districtsHop2_1_2.export(\"../data/describe-district-hop2_2.ttl\")\n",
    "districtsHop2_2_1.export(\"../data/describe-district-hop2_3.ttl\")\n",
    "districtsHop2_2_2.export(\"../data/describe-district-hop2_4.ttl\")"
   ]
  }
 ],
 "metadata": {
  "kernelspec": {
   "display_name": "Scala",
   "language": "scala",
   "name": "scala"
  },
  "language_info": {
   "codemirror_mode": "text/x-scala",
   "file_extension": ".sc",
   "mimetype": "text/x-scala",
   "name": "scala",
   "nbconvert_exporter": "script",
   "version": "2.12.8"
  }
 },
 "nbformat": 4,
 "nbformat_minor": 4
}
