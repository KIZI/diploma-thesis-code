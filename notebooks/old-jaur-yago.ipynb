{
 "cells": [
  {
   "cell_type": "markdown",
   "metadata": {},
   "source": [
    "# Job Applicants and Unemployment Rate + YAGO\n",
    "\n",
    "Budu hledat pravidla nad jednou kostkou, pro kterou jsem si pro hodnoty její dimenze oblasti našel data z YAGO znalostního grafu. Datová kostka má IRI:\n",
    "http://data.czso.cz/resource/dataset/job-applicants-and-unemployment-rate\n",
    "\n",
    "V popisu budu používat prefix czso: http://data.czso.cz/ontology/\n",
    "\n",
    "Má tyto dimenze:\n",
    "* czso:refArea\n",
    "    * 13 krajů (bez Prahy)\n",
    "    * 76 okresů (to vychází bez Prahy)\n",
    "* czso:refPeriod\n",
    "    * roky 2005 - 2013\n",
    "* czso:sex\n",
    "    * http://purl.org/linked-data/sdmx/2009/code#sex-F -> ženy\n",
    "    * http://purl.org/linked-data/sdmx/2009/code#sex-M -> muži\n",
    "    * http://purl.org/linked-data/sdmx/2009/code#sex-T -> ženy + muži\n",
    "\n",
    "A tyto míry:\n",
    "* czso:neumisteniUchazeciOZamestnani\n",
    "* czso:dosazitelniNeumisteniUchazeciOZamestnani\n",
    "* czso:podilNezamestnanych\n",
    "* czso:pocetVolnychMist\n",
    "\n",
    "Každé pozorování má více měr a míry czso:pocetVolnychMist a czso:neumisteniUchazeciOZamestnani jsou uvedeny jenom u pozorování pro obě pohlaví celkem. Příklady pozorování:\n",
    "\n",
    "```turtle\n",
    "<http://data.czso.cz/resource/observation/job-applicants-and-unemployment-rate/CZ020/2007-12-31/F>\n",
    "a qb:Observation ;\n",
    "\t\tczso:refArea <http://ruian.linked.opendata.cz/resource/vusc/27> ;\n",
    "\t\tczso:refPeriod <http://reference.data.gov.uk/id/gregorian-day/2007-12-31> ;\n",
    "\t\tczso:sex sdmx-code:sex-F ;\n",
    "\t\tczso:dosazitelniNeumisteniUchazeciOZamestnani 15758.0 ;\n",
    "\t\tczso:podilNezamestnanych 3.6 ;\n",
    "\t\tqb:dataSet <http://data.czso.cz/resource/dataset/job-applicants-and-unemployment-rate> .\n",
    "\t\n",
    "<http://data.czso.cz/resource/observation/job-applicants-and-unemployment-rate/CZ020/2013-12-31/T>\n",
    "a qb:Observation ;\n",
    "\t\tczso:refArea <http://ruian.linked.opendata.cz/resource/vusc/27> ;\n",
    "\t\tczso:refPeriod <http://reference.data.gov.uk/id/gregorian-day/2013-12-31> ;\n",
    "\t\tczso:sex sdmx-code:sex-T ;\n",
    "\t\tczso:neumisteniUchazeciOZamestnani 61681.0 ;\n",
    "\t\tczso:dosazitelniNeumisteniUchazeciOZamestnani 60772.0 ;\n",
    "\t\tczso:podilNezamestnanych 6.9 ;\n",
    "\t\tczso:pocetVolnychMist 4040.0 ;\n",
    "\t\tqb:dataSet <http://data.czso.cz/resource/dataset/job-applicants-and-unemployment-rate> .\n",
    "```\n",
    "\n",
    "URL originálních dat: [https://linked.opendata.cz/soubor/czso-job-applicants-and-unemployment-rate.trig](https://linked.opendata.cz/soubor/czso-job-applicants-and-unemployment-rate.trig)\n",
    "\n",
    "Stránka datasetu: [https://linked.opendata.cz/dataset/czso-job-applicants-and-unemployment-rate](https://linked.opendata.cz/dataset/czso-job-applicants-and-unemployment-rate)"
   ]
  },
  {
   "cell_type": "code",
   "execution_count": 1,
   "metadata": {},
   "outputs": [],
   "source": [
    "kernel.silent(true)"
   ]
  },
  {
   "cell_type": "markdown",
   "metadata": {},
   "source": [
    "Nastavuju parametry úlohy:\n",
    "* počet ekvifrekvenčních intervalů\n",
    "* minimální support\n",
    "* minimální confidence"
   ]
  },
  {
   "cell_type": "code",
   "execution_count": 2,
   "metadata": {},
   "outputs": [
    {
     "data": {
      "text/html": [
       "<div class=\"jp-RenderedText\">\n",
       "<pre><code></code></pre>\n",
       "</div>"
      ],
      "text/plain": []
     },
     "metadata": {},
     "output_type": "display_data"
    }
   ],
   "source": [
    "var intervalsCount = 10\n",
    "var minSupport = 30\n",
    "var minConfidence = 0.65"
   ]
  },
  {
   "cell_type": "code",
   "execution_count": 3,
   "metadata": {},
   "outputs": [],
   "source": [
    "import coursierapi.MavenRepository\n",
    "interp.repositories() ++= Seq(MavenRepository.of(\"https://jitpack.io\"))"
   ]
  },
  {
   "cell_type": "code",
   "execution_count": 4,
   "metadata": {},
   "outputs": [],
   "source": [
    "import $ivy.`com.github.propi:rdfrules:1.5.0`\n",
    "import collection._\n",
    "import org.apache.jena.riot.Lang\n",
    "\n",
    "import com.github.propi.rdfrules.data._\n",
    "import com.github.propi.rdfrules.algorithm.amie._\n",
    "import com.github.propi.rdfrules.algorithm.dbscan._\n",
    "import com.github.propi.rdfrules.utils._\n",
    "import com.github.propi.rdfrules.index._\n",
    "import com.github.propi.rdfrules.rule._\n",
    "import com.github.propi.rdfrules.ruleset._"
   ]
  },
  {
   "cell_type": "markdown",
   "metadata": {},
   "source": [
    "Kostku bylo potřeba nařezat do více datasetů, protože hodnoty měr se diskretizují a musí se diskretizovat jen ty hodnoty, které jsou mezi sebou soumeřitelné. Nemůžu počítat ekvifrekvenční intervaly z hodnot počtu volných míst v okresech a krajích zároveň. Muselo dojít k rozdělení na datasety pouze s kraji a pouze s okresy a na datasety pouze s pozorování konkrétních pohlaví a na datasety s pozorováními za obě pohlaví celkem. To dává dohromady 4 menší kostky, ve kterých se budou hodnoty měr diskretizovat zvlášť:\n",
    "\n",
    "* okresy podle pohlaví\n",
    "* kraje podle pohlaví\n",
    "* okresy celkem\n",
    "* kraje celkem\n",
    "\n",
    "Nejjednoduší bylo to provést ve SPARQLu. K hodnotám czso:refArea není slovník, díky kterému bych mohl lehce odlišit okresy od krajů, ale mají ho hodnoty dimenze refArea kostek z ČSSZ. Oba datasety číslují oblasti podle číselníku RÚIAN, takže jsem si s pomocí regulárního výrazu vytvořil linkovací ttl soubor, který jsem zahrnul do dat, nad kterými se volaly ty SPARQL dotazy. Ukázka obsahu souboru:\n",
    "\n",
    "```turtle\n",
    "<https://data.cssz.cz/resource/ruian/vusc/78> owl:sameAs \n",
    "<http://ruian.linked.opendata.cz/resource/vusc/78> .\n",
    "<https://data.cssz.cz/resource/ruian/okresy/3704> owl:sameAs\n",
    "<http://ruian.linked.opendata.cz/resource/okresy/3704> .\n",
    "```"
   ]
  },
  {
   "cell_type": "code",
   "execution_count": 5,
   "metadata": {},
   "outputs": [],
   "source": [
    "val unemploymentRate = \"http://data.czso.cz/ontology/podilNezamestnanych\"\n",
    "val reachableApplicants = \"http://data.czso.cz/ontology/dosazitelniNeumisteniUchazeciOZamestnani\"\n",
    "val unplacedApplicants = \"http://data.czso.cz/ontology/neumisteniUchazeciOZamestnani\"\n",
    "val vacanciesCount = \"http://data.czso.cz/ontology/pocetVolnychMist\"\n",
    "\n",
    "val refArea = \"http://data.czso.cz/ontology/refArea\"\n",
    "val sex = \"http://data.czso.cz/ontology/sex\"\n",
    "val refPeriod = \"http://data.czso.cz/ontology/refPeriod\"\n",
    "\n",
    "val qbObservation = \"http://purl.org/linked-data/cube#Observation\"\n",
    "val uri = (value: String) => TripleItem.Uri(value)"
   ]
  },
  {
   "cell_type": "markdown",
   "metadata": {},
   "source": [
    "okresy podle pohlaví\n",
    "\n",
    "```sparql\n",
    "PREFIX qb: <http://purl.org/linked-data/cube#>\n",
    "PREFIX czso: <http://data.czso.cz/ontology/>\n",
    "PREFIX owl: <http://www.w3.org/2002/07/owl#>\n",
    "\n",
    "CONSTRUCT {\n",
    "    ?observation ?p ?o\n",
    "} \n",
    "WHERE {\n",
    " GRAPH <http://data.czso.cz/resource/dataset/job-applicants-and-unemployment-rate> {\n",
    "    ?observation qb:dataSet <http://data.czso.cz/resource/dataset/job-applicants-and-unemployment-rate> ;\n",
    "                 ?p ?o ;\n",
    "                 czso:refArea ?refAreaCZSO .\n",
    "    NOT EXISTS {\n",
    "        ?observation czso:sex <http://purl.org/linked-data/sdmx/2009/code#sex-T> .\n",
    "    }             \n",
    " }\n",
    "  ?refAreaCSSZ owl:sameAs   ?refAreaCZSO.\n",
    " GRAPH <https://data.cssz.cz/resource/dataset/pomocne-ciselniky> {\n",
    "     ?refAreaCSSZ a <https://data.cssz.cz/ontology/ruian/Okres>\n",
    " }\n",
    "}\n",
    "```"
   ]
  },
  {
   "cell_type": "code",
   "execution_count": 6,
   "metadata": {},
   "outputs": [
    {
     "name": "stdout",
     "output_type": "stream",
     "text": [
      "počet pozorování: 1368\n"
     ]
    }
   ],
   "source": [
    "val jaurDistrictsBySex = Graph(\"czso\",\"../data/czso-jaur-districts-by-sex.ttl\")\n",
    "println(\"počet pozorování: \" + jaurDistrictsBySex.filter(t => t.`object` == uri(qbObservation)).size)  "
   ]
  },
  {
   "cell_type": "markdown",
   "metadata": {},
   "source": [
    "kraje podle pohlaví\n",
    "\n",
    "```sparql\n",
    "PREFIX qb: <http://purl.org/linked-data/cube#>\n",
    "PREFIX czso: <http://data.czso.cz/ontology/>\n",
    "PREFIX owl: <http://www.w3.org/2002/07/owl#>\n",
    "\n",
    "CONSTRUCT {\n",
    "    ?observation ?p ?o\n",
    "} \n",
    "WHERE {\n",
    " GRAPH <http://data.czso.cz/resource/dataset/job-applicants-and-unemployment-rate> { \n",
    "    ?observation qb:dataSet <http://data.czso.cz/resource/dataset/job-applicants-and-unemployment-rate> ;\n",
    "                 ?p ?o ;\n",
    "                 czso:refArea ?refAreaCZSO .\n",
    "    NOT EXISTS {\n",
    "        ?observation czso:sex <http://purl.org/linked-data/sdmx/2009/code#sex-T> .\n",
    "    }                                     \n",
    " }\n",
    " ?refAreaCSSZ owl:sameAs   ?refAreaCZSO.\n",
    " GRAPH <https://data.cssz.cz/resource/dataset/pomocne-ciselniky> {\n",
    "     ?refAreaCSSZ a <https://data.cssz.cz/ontology/ruian/Vusc>\n",
    " }\n",
    "}\n",
    "```"
   ]
  },
  {
   "cell_type": "code",
   "execution_count": 7,
   "metadata": {},
   "outputs": [
    {
     "name": "stdout",
     "output_type": "stream",
     "text": [
      "počet pozorování: 234\n"
     ]
    }
   ],
   "source": [
    "val jaurRegionsBySex = Graph(\"czso\",\"../data/czso-jaur-regions-by-sex.ttl\")\n",
    "println(\"počet pozorování: \" + jaurRegionsBySex.filter(t => t.`object` == uri(qbObservation)).size)"
   ]
  },
  {
   "cell_type": "markdown",
   "metadata": {},
   "source": [
    "okresy celkem\n",
    "\n",
    "```sparql\n",
    "PREFIX qb: <http://purl.org/linked-data/cube#>\n",
    "PREFIX czso: <http://data.czso.cz/ontology/>\n",
    "PREFIX owl: <http://www.w3.org/2002/07/owl#>\n",
    "\n",
    "CONSTRUCT {\n",
    "    ?observation ?p ?o\n",
    "} \n",
    "WHERE {\n",
    " GRAPH <http://data.czso.cz/resource/dataset/job-applicants-and-unemployment-rate> {\n",
    "    ?observation qb:dataSet <http://data.czso.cz/resource/dataset/job-applicants-and-unemployment-rate> ;\n",
    "                 ?p ?o ;\n",
    "                 czso:sex <http://purl.org/linked-data/sdmx/2009/code#sex-T> ;\n",
    "                 czso:refArea ?refAreaCZSO .\n",
    " }\n",
    " ?refAreaCSSZ owl:sameAs   ?refAreaCZSO.\n",
    " GRAPH <https://data.cssz.cz/resource/dataset/pomocne-ciselniky> {\n",
    "     ?refAreaCSSZ a <https://data.cssz.cz/ontology/ruian/Okres>\n",
    " }\n",
    "}\n",
    "```"
   ]
  },
  {
   "cell_type": "code",
   "execution_count": 8,
   "metadata": {},
   "outputs": [
    {
     "name": "stdout",
     "output_type": "stream",
     "text": [
      "pozorování: 684\n"
     ]
    }
   ],
   "source": [
    "val jaurDistrictsTotal = Graph(\"czso\",\"../data/czso-jaur-districts-total.ttl\")\n",
    "println(\"pozorování: \" + jaurDistrictsTotal.filter(t => t.`object` == uri(qbObservation)).size)"
   ]
  },
  {
   "cell_type": "markdown",
   "metadata": {},
   "source": [
    "kraje celkem\n",
    "\n",
    "```sparql\n",
    "PREFIX qb: <http://purl.org/linked-data/cube#>\n",
    "PREFIX czso: <http://data.czso.cz/ontology/>\n",
    "PREFIX owl: <http://www.w3.org/2002/07/owl#>\n",
    "\n",
    "CONSTRUCT {\n",
    "    ?observation ?p ?o\n",
    "} \n",
    "\n",
    "WHERE {\n",
    " GRAPH <http://data.czso.cz/resource/dataset/job-applicants-and-unemployment-rate> {\n",
    "    ?observation qb:dataSet <http://data.czso.cz/resource/dataset/job-applicants-and-unemployment-rate> ;\n",
    "                 ?p ?o ;\n",
    "                 czso:sex <http://purl.org/linked-data/sdmx/2009/code#sex-T> ;\n",
    "                 czso:refArea ?refAreaCZSO .\n",
    " }\n",
    " ?refAreaCSSZ owl:sameAs   ?refAreaCZSO.\n",
    " GRAPH <https://data.cssz.cz/resource/dataset/pomocne-ciselniky> {\n",
    "     ?refAreaCSSZ a <https://data.cssz.cz/ontology/ruian/Vusc>\n",
    " }\n",
    "}\n",
    "```"
   ]
  },
  {
   "cell_type": "code",
   "execution_count": 9,
   "metadata": {},
   "outputs": [
    {
     "name": "stdout",
     "output_type": "stream",
     "text": [
      "pozorování: 117\n"
     ]
    }
   ],
   "source": [
    "val jaurRegionsTotal = Graph(\"czso\",\"../data/czso-jaur-regions-total.ttl\")\n",
    "println(\"pozorování: \" + jaurRegionsTotal.filter(t => t.`object` == uri(qbObservation)).size)"
   ]
  },
  {
   "cell_type": "markdown",
   "metadata": {},
   "source": [
    "Tady dochází k diskrezizaci hodnot měr kostek. Jsou to ekvifrekvenční intervaly, počet intervalů je konfigurovatelný."
   ]
  },
  {
   "cell_type": "code",
   "execution_count": 10,
   "metadata": {},
   "outputs": [
    {
     "name": "stdout",
     "output_type": "stream",
     "text": [
      "unemploymentRate\n",
      "<1.2__3.66)  <3.66__4.56)  <4.56__5.3)  <5.3__5.97)  <5.97__6.69)  <6.69__7.34)  <7.34__7.9)  <7.9__8.74)  <8.74__9.98)  <9.98__16.2)  \n",
      "\n",
      "reachableApplicants\n",
      "<901.0__2214.5)  <2214.5__2928.0)  <2928.0__3509.0)  <3509.0__4140.5)  <4140.5__4973.5)  <4973.5__5952.5)  <5952.5__6731.5)  <6731.5__8081.5)  <8081.5__9639.0)  <9639.0__25767.0)  \n",
      "\n",
      "unplacedApplicants\n",
      "<1025.0__2332.5)  <2332.5__3045.0)  <3045.0__3699.0)  <3699.0__4340.0)  <4340.0__5234.0)  <5234.0__6207.5)  <6207.5__6989.5)  <6989.5__8333.0)  <8333.0__9877.0)  <9877.0__26549.0)  \n",
      "\n",
      "vacanciesCount\n",
      "<37.0__163.0)  <163.0__211.5)  <211.5__262.5)  <262.5__325.5)  <325.5__394.5)  <394.5__501.5)  <501.5__698.5)  <698.5__878.0)  <878.0__1252.5)  <1252.5__8550.0)  "
     ]
    }
   ],
   "source": [
    "val equiFrequent = DiscretizationTask.Equifrequency(intervalsCount)\n",
    "val hasPredicate = (quad: Quad, uri: String) => quad.triple.predicate.hasSameUriAs(uri)\n",
    "import eu.easyminer.discretization.impl.Interval\n",
    "import eu.easyminer.discretization.impl.IntervalBound._\n",
    "val rounded = (value: Double, scale: Integer) => BigDecimal(value).setScale(scale, BigDecimal.RoundingMode.HALF_UP).toDouble\n",
    "val intervalToString = (i: Interval) => \"<\"+rounded(i.minValue.value,2)+ \"__\"+rounded(i.maxValue.value,2)+\")\"\n",
    "\n",
    "println(\"unemploymentRate\")\n",
    "    \n",
    "jaurDistrictsTotal.discretizeAndGetIntervals(equiFrequent)(quad => hasPredicate(quad, unemploymentRate))\n",
    ".foreach(i => print(intervalToString(i) + \"  \"))\n",
    "\n",
    "println(\"\\n\\nreachableApplicants\")\n",
    "jaurDistrictsTotal.discretizeAndGetIntervals(equiFrequent)(quad => hasPredicate(quad, reachableApplicants))\n",
    ".foreach(i => print(intervalToString(i) + \"  \"))\n",
    "\n",
    "println(\"\\n\\nunplacedApplicants\")\n",
    "jaurDistrictsTotal.discretizeAndGetIntervals(equiFrequent)(quad => hasPredicate(quad, unplacedApplicants))\n",
    ".foreach(i => print(intervalToString(i) + \"  \"))\n",
    "\n",
    "println(\"\\n\\nvacanciesCount\")\n",
    "jaurDistrictsTotal.discretizeAndGetIntervals(equiFrequent)(quad => hasPredicate(quad, vacanciesCount))\n",
    ".foreach(i => print(intervalToString(i) + \"  \"))\n",
    "\n",
    "val jaurDistrictsTotalDiscretized = jaurDistrictsTotal\n",
    "    .discretize(equiFrequent)(quad => hasPredicate(quad, unemploymentRate))\n",
    "    .discretize(equiFrequent)(quad => hasPredicate(quad, reachableApplicants))\n",
    "    .discretize(equiFrequent)(quad => hasPredicate(quad, unplacedApplicants))\n",
    "    .discretize(equiFrequent)(quad => hasPredicate(quad, vacanciesCount))\n",
    "\n"
   ]
  },
  {
   "cell_type": "code",
   "execution_count": 11,
   "metadata": {},
   "outputs": [
    {
     "name": "stdout",
     "output_type": "stream",
     "text": [
      "unemploymentRate\n",
      "<3.22__4.2)  <4.2__4.9)  <4.9__5.6)  <5.6__6.05)  <6.05__6.5)  <6.5__7.13)  <7.13__7.73)  <7.73__8.3)  <8.3__9.01)  <9.01__11.47)  \n",
      "\n",
      "reachableApplicants\n",
      "<12357.0__15848.5)  <15848.5__18343.0)  <18343.0__21524.5)  <21524.5__23417.5)  <23417.5__26083.5)  <26083.5__27795.5)  <27795.5__33840.0)  <33840.0__48943.0)  <48943.0__61297.5)  <61297.5__91177.0)  \n",
      "\n",
      "unplacedApplicants\n",
      "<12975.0__16681.0)  <16681.0__19317.5)  <19317.5__22483.5)  <22483.5__24431.5)  <24431.5__26626.0)  <26626.0__29341.5)  <29341.5__35839.0)  <35839.0__50244.0)  <50244.0__64754.0)  <64754.0__96528.0)  \n",
      "\n",
      "vacanciesCount\n",
      "<664.0__1095.5)  <1095.5__1316.0)  <1316.0__1840.5)  <1840.5__2227.5)  <2227.5__2415.5)  <2415.5__2751.5)  <2751.5__3651.0)  <3651.0__4511.0)  <4511.0__7139.0)  <7139.0__19691.0)  "
     ]
    }
   ],
   "source": [
    "println(\"unemploymentRate\")\n",
    "jaurRegionsTotal.discretizeAndGetIntervals(equiFrequent)(quad => hasPredicate(quad, unemploymentRate))\n",
    ".foreach(i => print(intervalToString(i) + \"  \"))\n",
    "\n",
    "println(\"\\n\\nreachableApplicants\")\n",
    "jaurRegionsTotal.discretizeAndGetIntervals(equiFrequent)(quad => hasPredicate(quad, reachableApplicants))\n",
    ".foreach(i => print(intervalToString(i) + \"  \"))\n",
    "\n",
    "println(\"\\n\\nunplacedApplicants\")\n",
    "jaurRegionsTotal.discretizeAndGetIntervals(equiFrequent)(quad => hasPredicate(quad, unplacedApplicants))\n",
    ".foreach(i => print(intervalToString(i) + \"  \"))\n",
    "\n",
    "println(\"\\n\\nvacanciesCount\")\n",
    "jaurRegionsTotal.discretizeAndGetIntervals(equiFrequent)(quad => hasPredicate(quad, vacanciesCount))\n",
    ".foreach(i => print(intervalToString(i) + \"  \"))\n",
    "\n",
    "val jaurRegionsTotalDiscretized = jaurRegionsTotal\n",
    "    .discretize(equiFrequent)(quad => hasPredicate(quad, unemploymentRate))\n",
    "    .discretize(equiFrequent)(quad => hasPredicate(quad, reachableApplicants))\n",
    "    .discretize(equiFrequent)(quad => hasPredicate(quad, unplacedApplicants))\n",
    "    .discretize(equiFrequent)(quad => hasPredicate(quad, vacanciesCount))"
   ]
  },
  {
   "cell_type": "code",
   "execution_count": 12,
   "metadata": {},
   "outputs": [
    {
     "name": "stdout",
     "output_type": "stream",
     "text": [
      "unemploymentRate\n",
      "<1.13__3.55)  <3.55__4.58)  <4.58__5.29)  <5.29__5.94)  <5.94__6.67)  <6.67__7.29)  <7.29__7.89)  <7.89__8.76)  <8.76__10.05)  <10.05__16.49)  \n",
      "\n",
      "reachableApplicants\n",
      "<468.0__1136.5)  <1136.5__1467.0)  <1467.0__1783.0)  <1783.0__2115.0)  <2115.0__2491.5)  <2491.5__2923.0)  <2923.0__3395.5)  <3395.5__4019.0)  <4019.0__4855.0)  <4855.0__13697.0)  "
     ]
    }
   ],
   "source": [
    "println(\"unemploymentRate\")\n",
    "jaurDistrictsBySex.discretizeAndGetIntervals(equiFrequent)(quad => hasPredicate(quad, unemploymentRate))\n",
    ".foreach(i => print(intervalToString(i) + \"  \"))\n",
    "\n",
    "println(\"\\n\\nreachableApplicants\")\n",
    "jaurDistrictsBySex.discretizeAndGetIntervals(equiFrequent)(quad => hasPredicate(quad, reachableApplicants))\n",
    ".foreach(i => print(intervalToString(i) + \"  \"))\n",
    "\n",
    "val jaurDistrictsBySexDiscretized = jaurDistrictsBySex\n",
    "    .discretize(equiFrequent)(quad => hasPredicate(quad, unemploymentRate))\n",
    "    .discretize(equiFrequent)(quad => hasPredicate(quad, reachableApplicants))"
   ]
  },
  {
   "cell_type": "code",
   "execution_count": 13,
   "metadata": {},
   "outputs": [
    {
     "name": "stdout",
     "output_type": "stream",
     "text": [
      "unemploymentRate\n",
      "<2.85__4.28)  <4.28__4.89)  <4.89__5.61)  <5.61__6.14)  <6.14__6.74)  <6.74__7.29)  <7.29__7.85)  <7.85__8.36)  <8.36__9.43)  <9.43__11.5)  \n",
      "\n",
      "reachableApplicants\n",
      "<6297.0__8219.0)  <8219.0__9024.0)  <9024.0__10695.5)  <10695.5__11971.0)  <11971.0__12994.5)  <12994.5__14786.5)  <14786.5__18294.0)  <18294.0__26473.0)  <26473.0__31649.0)  <31649.0__46450.0)  "
     ]
    }
   ],
   "source": [
    "println(\"unemploymentRate\")\n",
    "jaurRegionsBySex.discretizeAndGetIntervals(equiFrequent)(quad => hasPredicate(quad, unemploymentRate))\n",
    ".foreach(i => print(intervalToString(i) + \"  \"))\n",
    "\n",
    "println(\"\\n\\nreachableApplicants\")\n",
    "jaurRegionsBySex.discretizeAndGetIntervals(equiFrequent)(quad => hasPredicate(quad, reachableApplicants))\n",
    ".foreach(i => print(intervalToString(i) + \"  \"))\n",
    "\n",
    "val jaurRegionsBySexDiscretized = jaurRegionsBySex\n",
    "    .discretize(equiFrequent)(quad => hasPredicate(quad, unemploymentRate))\n",
    "    .discretize(equiFrequent)(quad => hasPredicate(quad, reachableApplicants))\n"
   ]
  },
  {
   "cell_type": "markdown",
   "metadata": {},
   "source": [
    "Každé pravidlo se musí vztahovat k pozorováním pouze v jedné dílčí kostce, protože míry mají napříč dílčími kostkami stejné IRI. Možné řešení je pojmenovat pro každou ze 4 kostek její míry jinak, ale jednodušší je zavedení jiného názvu datasetu každé ze 4 kostek."
   ]
  },
  {
   "cell_type": "code",
   "execution_count": 14,
   "metadata": {},
   "outputs": [],
   "source": [
    "// TODO pro každý dataset jiný qb:dataSet\n",
    "val qbDataSet = \"http://purl.org/linked-data/cube#dataSet\"\n",
    "\n",
    "\n",
    "\n",
    "val jaurDistrictsTotalNamed = jaurDistrictsTotalDiscretized\n",
    ".map(t => if (t.predicate.hasSameUriAs(qbDataSet)) t.copy(`object` = uri(\"jaurDistrictsTotal\")) else t)\n",
    "\n",
    "val jaurRegionsTotalNamed = jaurRegionsTotalDiscretized\n",
    ".map(t => if (t.predicate.hasSameUriAs(qbDataSet)) t.copy(`object` = uri(\"jaurRegionsTotal\")) else t)\n",
    "\n",
    "val jaurDistrictsBySexNamed = jaurDistrictsBySexDiscretized\n",
    ".map(t => if (t.predicate.hasSameUriAs(qbDataSet)) t.copy(`object` = uri(\"jaurDistrictsBySex\")) else t)\n",
    "\n",
    "val jaurRegionsBySexNamed = jaurRegionsBySexDiscretized\n",
    ".map(t => if (t.predicate.hasSameUriAs(qbDataSet)) t.copy(`object` = uri(\"jaurRegionsBySex\")) else t)\n"
   ]
  },
  {
   "cell_type": "markdown",
   "metadata": {},
   "source": [
    "V dílčích kostkách s pozorováními celkem za obě pohlaví nejsou potřeba trojice s predikátem czso:sex."
   ]
  },
  {
   "cell_type": "code",
   "execution_count": 15,
   "metadata": {},
   "outputs": [],
   "source": [
    "val jaurDistrictsTotalNoSexDimension = jaurDistrictsTotalNamed.filter(t => !t.predicate.hasSameUriAs(sex))\n",
    "val jaurRegionsTotalNoSexDimension = jaurRegionsTotalNamed.filter(t => !t.predicate.hasSameUriAs(sex))"
   ]
  },
  {
   "cell_type": "markdown",
   "metadata": {},
   "source": [
    "Dílčí kostky už můžeme poskládát do jedné kostky."
   ]
  },
  {
   "cell_type": "code",
   "execution_count": 16,
   "metadata": {},
   "outputs": [],
   "source": [
    "val jaurDataset = Dataset() + \n",
    "    jaurDistrictsTotalNoSexDimension + \n",
    "    jaurRegionsTotalNoSexDimension + \n",
    "    jaurDistrictsBySexNamed + \n",
    "    jaurRegionsBySexNamed  "
   ]
  },
  {
   "cell_type": "markdown",
   "metadata": {},
   "source": [
    "V datasetu není potřeba mít trojice ```?observation a qb:Observation```, ze vzorů pravidel to samo vyplyne."
   ]
  },
  {
   "cell_type": "code",
   "execution_count": 17,
   "metadata": {},
   "outputs": [],
   "source": [
    "val jaurDatasetFiltered = jaurDataset.filter(quad => !(quad.triple.`object`.equals(uri(qbObservation))))"
   ]
  },
  {
   "cell_type": "markdown",
   "metadata": {},
   "source": [
    "Nejdřív si zkusím vydolovat nějaká pravidla jenom nad samotnou kostkou. Data z YAGO přidám později."
   ]
  },
  {
   "cell_type": "code",
   "execution_count": 18,
   "metadata": {},
   "outputs": [
    {
     "name": "stderr",
     "output_type": "stream",
     "text": [
      "2021-04-23 15:09:17:170 +0200 [scala-interpreter-1] INFO com.github.propi.rdfrules.utils.Debugger - Predicates trimming.\n",
      "2021-04-23 15:09:17:224 +0200 [scala-interpreter-1] INFO com.github.propi.rdfrules.utils.Debugger - Subjects indexing.\n",
      "2021-04-23 15:09:17:272 +0200 [scala-interpreter-1] INFO com.github.propi.rdfrules.utils.Debugger - Subjects trimming.\n",
      "2021-04-23 15:09:17:285 +0200 [scala-interpreter-1] INFO com.github.propi.rdfrules.utils.Debugger - Objects indexing.\n",
      "2021-04-23 15:09:17:313 +0200 [scala-interpreter-1] INFO com.github.propi.rdfrules.utils.Debugger - Objects trimming.\n"
     ]
    }
   ],
   "source": [
    "val jaurIndex = jaurDatasetFiltered.index()\n",
    "jaurIndex.cache(\"../cache/jaurIndex.cache\")"
   ]
  },
  {
   "cell_type": "markdown",
   "metadata": {},
   "source": [
    "Toto jsou jenom nějaké pomocné objekty, které se použijí při definici vzorů pravidel a dolovacích úloh, aby to bylo čitelnější."
   ]
  },
  {
   "cell_type": "code",
   "execution_count": 19,
   "metadata": {},
   "outputs": [],
   "source": [
    "val constantsAtObject = RuleConstraint.ConstantsAtPosition.ConstantsPosition.Object\n",
    "val constantsOnlyAtObject = RuleConstraint.ConstantsAtPosition(constantsAtObject)\n",
    "val oneOfMeasures = OneOf(\n",
    "    uri(unemploymentRate), \n",
    "    uri(unemploymentRate), \n",
    "    uri(reachableApplicants), \n",
    "    uri(vacanciesCount)\n",
    ")\n",
    "val qbdPredicate = uri(qbDataSet)\n",
    "val oneOfDimensions = OneOf(\n",
    "    uri(refArea), \n",
    "    uri(sex), \n",
    "    uri(refPeriod)\n",
    ")"
   ]
  },
  {
   "cell_type": "markdown",
   "metadata": {},
   "source": [
    "Vzor pro pravidla typu: pokud má pozorování v nějaké kostce hodnotu této míry v tomto intervalu, tak má hodnotu této míry v tomto intervalu. Jelikož mají v těch 4 kostkách míry stejné IRI, tak každé pravidlo musím ukotvit na konkrétní dataset. Proto ten atom ```AtomPattern(subject = 'a', predicate = qbdPredicate)``` ikdyž nedoluju nad více kostkama."
   ]
  },
  {
   "cell_type": "code",
   "execution_count": 20,
   "metadata": {},
   "outputs": [],
   "source": [
    "val oneCubeTwoMeasures: RulePattern = (\n",
    "    AtomPattern(subject = 'a', predicate = qbdPredicate) &: \n",
    "    AtomPattern(subject = 'a', predicate = oneOfMeasures) \n",
    "    =>: \n",
    "    AtomPattern(subject = 'a', predicate = oneOfMeasures)\n",
    ")"
   ]
  },
  {
   "cell_type": "markdown",
   "metadata": {},
   "source": [
    "Vzor pro pravidla typu: pokud má pozorování v nějaké kostce hodnotu této míry v tomto intervalu a zároveň má hodnotu tuto hodnotu této dimenze, tak má hodnotu této míry v tomto intervalu."
   ]
  },
  {
   "cell_type": "code",
   "execution_count": 21,
   "metadata": {},
   "outputs": [],
   "source": [
    "val oneCubeTwoMeasuresOneDimension: RulePattern = (\n",
    "    AtomPattern(subject = 'a', predicate = qbdPredicate) &: \n",
    "    AtomPattern(subject = 'a', predicate = oneOfMeasures) &: \n",
    "    AtomPattern(subject = 'a', predicate = oneOfDimensions)\n",
    "    =>: \n",
    "    AtomPattern(subject = 'a', predicate = oneOfMeasures)\n",
    ")"
   ]
  },
  {
   "cell_type": "markdown",
   "metadata": {},
   "source": [
    "Nechtěl jsem, aby mi vznikaly pravidla delší než jejich vzory, takže jsem pro každý vzor vytvořil vlastní *mining task*, ve kterých maximální délka pravidel odpovídá délce vzorů."
   ]
  },
  {
   "cell_type": "code",
   "execution_count": 22,
   "metadata": {},
   "outputs": [],
   "source": [
    "val oneCubeTwoMeasuresTask = Amie()\n",
    "    .addThreshold(Threshold.MinSupport(0))\n",
    "    .addThreshold(Threshold.MaxRuleLength(3))\n",
    "    .addThreshold(Threshold.MinHeadSize(0))\n",
    "    .addConstraint(constantsOnlyAtObject)\n",
    "    .addPattern(oneCubeTwoMeasures)\n",
    "\n",
    "val oneCubeTwoMeasuresOneDimensionTask = Amie()\n",
    "    .addThreshold(Threshold.MinSupport(0))\n",
    "    .addThreshold(Threshold.MaxRuleLength(4))\n",
    "    .addThreshold(Threshold.MinHeadSize(0))\n",
    "    .addConstraint(constantsOnlyAtObject)\n",
    "    .addPattern(oneCubeTwoMeasuresOneDimension)"
   ]
  },
  {
   "cell_type": "markdown",
   "metadata": {},
   "source": [
    "Níž se vypisuje, kolik se našlo pro každý *mining task* pravidel."
   ]
  },
  {
   "cell_type": "code",
   "execution_count": 23,
   "metadata": {},
   "outputs": [
    {
     "name": "stderr",
     "output_type": "stream",
     "text": [
      "2021-04-23 15:09:19:160 +0200 [scala-interpreter-1] INFO com.github.propi.rdfrules.utils.Debugger - Amie task settings:\n",
      "MinHeadSize=1,\n",
      "MinHeadCoverage=0.0,\n",
      "MinSupport=1,\n",
      "MaxThreads=4,\n",
      "MinAtomSize=0,\n",
      "MaxRuleLength=3,\n",
      "WithConstants=true,\n",
      "ConstantsPosition=Object,\n",
      "Timeout=-1,\n",
      "WithDuplicitPredicates=true,\n",
      "Patterns=List(Mapped(Vector(Mapped(Variable(?a),Constant(Constant(624690160)),Any,Any), Mapped(Variable(?a),OneOf(ArrayBuffer(Constant(Constant(-2070273298)), Constant(Constant(-2070273298)), Constant(Constant(1659106226)), Constant(Constant(1142069620)))),Any,Any)),Some(Mapped(Variable(?a),OneOf(ArrayBuffer(Constant(Constant(-2070273298)), Constant(Constant(-2070273298)), Constant(Constant(1659106226)), Constant(Constant(1142069620)))),Any,Any)),false,false)),\n",
      "OnlyPredicates=None,\n",
      "WithoutPredicates=None\n",
      "2021-04-23 15:09:20:086 +0200 [scala-interpreter-1] INFO com.github.propi.rdfrules.utils.Debugger - Amie task settings:\n",
      "MinHeadSize=1,\n",
      "MinHeadCoverage=0.0,\n",
      "MinSupport=1,\n",
      "MaxThreads=4,\n",
      "MinAtomSize=0,\n",
      "MaxRuleLength=4,\n",
      "WithConstants=true,\n",
      "ConstantsPosition=Object,\n",
      "Timeout=-1,\n",
      "WithDuplicitPredicates=true,\n",
      "Patterns=List(Mapped(Vector(Mapped(Variable(?a),Constant(Constant(624690160)),Any,Any), Mapped(Variable(?a),OneOf(ArrayBuffer(Constant(Constant(-2070273298)), Constant(Constant(-2070273298)), Constant(Constant(1659106226)), Constant(Constant(1142069620)))),Any,Any), Mapped(Variable(?a),OneOf(ArrayBuffer(Constant(Constant(1481837794)), Constant(Constant(-1485615047)), Constant(Constant(-901057765)))),Any,Any)),Some(Mapped(Variable(?a),OneOf(ArrayBuffer(Constant(Constant(-2070273298)), Constant(Constant(-2070273298)), Constant(Constant(1659106226)), Constant(Constant(1142069620)))),Any,Any)),false,false)),\n",
      "OnlyPredicates=None,\n",
      "WithoutPredicates=None\n"
     ]
    },
    {
     "name": "stdout",
     "output_type": "stream",
     "text": [
      "oneCubeTwoMeasuresRuleset size: 1214\n",
      "oneCubeTwoMeasuresOneDimensionRuleset size: 9794\n"
     ]
    }
   ],
   "source": [
    "val oneCubeTwoMeasuresRuleset = jaurIndex.mine(oneCubeTwoMeasuresTask)\n",
    "val oneCubeTwoMeasuresOneDimensionRuleset = jaurIndex.mine(oneCubeTwoMeasuresOneDimensionTask)\n",
    "\n",
    "println(\"oneCubeTwoMeasuresRuleset size: \" + oneCubeTwoMeasuresRuleset.size)\n",
    "println(\"oneCubeTwoMeasuresOneDimensionRuleset size: \" + oneCubeTwoMeasuresOneDimensionRuleset.size)"
   ]
  },
  {
   "cell_type": "markdown",
   "metadata": {},
   "source": [
    "Pravidla obou *mining tasků* jsem spojil a uložil do souboru a vytiskl jenom ta, která dosáhla na minimální *confidence*."
   ]
  },
  {
   "cell_type": "code",
   "execution_count": 24,
   "metadata": {},
   "outputs": [
    {
     "name": "stdout",
     "output_type": "stream",
     "text": [
      "jaurRuleset size: 3007\n",
      "\n",
      "(?a qb:dataSet <jaurDistrictsBySex>) ^ (?a czso:dosazitelniNeumisteniUchazeciOZamestnani [ 468.0 ; 1136.5 )) ^ (?a czso:sex sdmx-code:sex-M) -> (?a czso:podilNezamestnanych [ 1.13 ; 3.545 )) | support: 51, headCoverage: 0.02122347066167291, confidence: 0.68, headSize: 2403, bodySize: 75\n",
      "\n",
      "\n",
      "(?a qb:dataSet <jaurDistrictsBySex>) ^ (?a czso:dosazitelniNeumisteniUchazeciOZamestnani [ 468.0 ; 1136.5 )) ^ (?a czso:refPeriod <http://reference.data.gov.uk/id/gregorian-day/2007-12-31>) -> (?a czso:podilNezamestnanych [ 1.13 ; 3.545 )) | support: 26, headCoverage: 0.010819808572617561, confidence: 0.8387096774193549, headSize: 2403, bodySize: 31\n",
      "\n",
      "\n",
      "(?a qb:dataSet <jaurDistrictsBySex>) ^ (?a czso:dosazitelniNeumisteniUchazeciOZamestnani [ 468.0 ; 1136.5 )) ^ (?a czso:refPeriod <http://reference.data.gov.uk/id/gregorian-day/2008-12-31>) -> (?a czso:podilNezamestnanych [ 1.13 ; 3.545 )) | support: 23, headCoverage: 0.00957136912193092, confidence: 0.7419354838709677, headSize: 2403, bodySize: 31\n",
      "\n",
      "\n",
      "(?a qb:dataSet <jaurDistrictsTotal>) ^ (?a czso:dosazitelniNeumisteniUchazeciOZamestnani [ 3509.0 ; 4140.5 )) ^ (?a czso:refPeriod <http://reference.data.gov.uk/id/gregorian-day/2007-12-31>) -> (?a czso:pocetVolnychMist [ 1252.5 ; 8550.0 ]) | support: 7, headCoverage: 0.008739076154806492, confidence: 0.875, headSize: 801, bodySize: 8\n",
      "\n",
      "\n",
      "(?a qb:dataSet <jaurDistrictsTotal>) ^ (?a czso:dosazitelniNeumisteniUchazeciOZamestnani [ 9639.0 ; 25767.0 ]) ^ (?a czso:refArea <http://ruian.linked.opendata.cz/resource/okresy/3702>) -> (?a czso:pocetVolnychMist [ 1252.5 ; 8550.0 ]) | support: 6, headCoverage: 0.00749063670411985, confidence: 0.6666666666666666, headSize: 801, bodySize: 9\n",
      "\n",
      "\n",
      "(?a qb:dataSet <jaurDistrictsTotal>) ^ (?a czso:dosazitelniNeumisteniUchazeciOZamestnani [ 9639.0 ; 25767.0 ]) ^ (?a czso:refArea <http://ruian.linked.opendata.cz/resource/okresy/3807>) -> (?a czso:pocetVolnychMist [ 1252.5 ; 8550.0 ]) | support: 6, headCoverage: 0.00749063670411985, confidence: 0.6666666666666666, headSize: 801, bodySize: 9\n",
      "\n",
      "\n",
      "(?a qb:dataSet <jaurDistrictsTotal>) ^ (?a czso:podilNezamestnanych [ 4.555 ; 5.3 )) ^ (?a czso:refPeriod <http://reference.data.gov.uk/id/gregorian-day/2007-12-31>) -> (?a czso:pocetVolnychMist [ 1252.5 ; 8550.0 ]) | support: 6, headCoverage: 0.00749063670411985, confidence: 0.6666666666666666, headSize: 801, bodySize: 9\n",
      "\n",
      "\n",
      "(?a qb:dataSet <jaurDistrictsTotal>) ^ (?a czso:dosazitelniNeumisteniUchazeciOZamestnani [ 4973.5 ; 5952.5 )) ^ (?a czso:refPeriod <http://reference.data.gov.uk/id/gregorian-day/2010-12-31>) -> (?a czso:pocetVolnychMist [ 163.0 ; 211.5 )) | support: 6, headCoverage: 0.00749063670411985, confidence: 0.75, headSize: 801, bodySize: 8\n",
      "\n",
      "\n",
      "(?a qb:dataSet <jaurDistrictsBySex>) ^ (?a czso:podilNezamestnanych [ 1.13 ; 3.545 )) ^ (?a czso:refPeriod <http://reference.data.gov.uk/id/gregorian-day/2006-12-31>) -> (?a czso:dosazitelniNeumisteniUchazeciOZamestnani [ 468.0 ; 1136.5 )) | support: 17, headCoverage: 0.0070744902205576365, confidence: 0.7391304347826086, headSize: 2403, bodySize: 23\n",
      "\n",
      "\n",
      "(?a qb:dataSet <jaurDistrictsTotal>) ^ (?a czso:dosazitelniNeumisteniUchazeciOZamestnani [ 4140.5 ; 4973.5 )) ^ (?a czso:refPeriod <http://reference.data.gov.uk/id/gregorian-day/2006-12-31>) -> (?a czso:pocetVolnychMist [ 1252.5 ; 8550.0 ]) | support: 5, headCoverage: 0.006242197253433208, confidence: 0.7142857142857143, headSize: 801, bodySize: 7\n",
      "\n"
     ]
    }
   ],
   "source": [
    "val jaurRuleset = (oneCubeTwoMeasuresRuleset + oneCubeTwoMeasuresOneDimensionRuleset)\n",
    "    .computeConfidence(minConfidence)\n",
    "    .sortBy(Measure.HeadCoverage, Measure.Support)\n",
    "println(\"jaurRuleset size: \" + jaurRuleset.size)\n",
    "jaurRuleset.export(\"../rulesets/jaurRules.txt\")\n",
    "jaurRuleset.slice(0,10).foreach(rule => println(\"\\n\" + rule + \"\\n\"))"
   ]
  },
  {
   "cell_type": "markdown",
   "metadata": {},
   "source": [
    "Problém je v tom, že ty míry jsou na sobě velmi závislé (podíl nezaměstnaných a počet nezaměstnaných), když uvážím, že počet obyvatel v krajích a okresech se za 9 let moc nemění, není divu, že mi tu vznikají pravidla s confidence 1"
   ]
  },
  {
   "cell_type": "markdown",
   "metadata": {},
   "source": [
    "V pravidlech podle vzoru ```oneCubeTwoMeasuresOneDimension``` je jenom dimenze sex a refPeriod, protože je asi nastavený moc nízký support na to, aby se chytla dimenze oblasti. Dolování takovýchto pravidel nijak neodporuje těm mým \"pravidlům tvorby pravidel\", protože ta jedna kostka je vlastně \"konsekventní\" a může mít volné dimenze."
   ]
  },
  {
   "cell_type": "markdown",
   "metadata": {},
   "source": [
    "# Přidání trojic z YAGO 4\n",
    "\n",
    "Použil jsem veřejný sparql endpoint na adrese ```https://yago-knowledge.org/sparql/query```. Pokusil jsem se si YAGO 4 stáhnout a rozjet lokálně, ale doma nemám žádné zařízení, do kterého by se celý dataset vlezl. Na ty dotazy pro jeden a dva hopy mi přicházelo trojic, že mi vždycky zamrzl prohlížeč, takže jsem ten endpoint provolával curlem dotazy psal do souboru:\n",
    "\n",
    "```bash\n",
    "curl -X POST -d @query.rq -H Content-Type: application/x-www-form-urlencoded 'https://yago-knowledge.org/sparql/query' > result.xml\n",
    "```\n",
    "\n",
    "Dotaz pro kraje ČR\n",
    "\n",
    "\n",
    "```sparql\n",
    "PREFIX yago: <http://yago-knowledge.org/resource/>\n",
    "\n",
    "select distinct ?region where {\n",
    "?region a yago:Regions_of_the_Czech_Republic\n",
    "}\n",
    "```\n",
    "\n",
    "Dotaz pro okresy ČR\n",
    "\n",
    "```sparql\n",
    "PREFIX yago: <http://yago-knowledge.org/resource/>\n",
    "PREFIX schema: <http://schema.org/>\n",
    "\n",
    "select distinct ?district where {\n",
    "?region a yago:Regions_of_the_Czech_Republic; schema:containsPlace ?district.\n",
    "?district a yago:Districts_of_the_Czech_Republic .\n",
    "}\n",
    "```"
   ]
  },
  {
   "cell_type": "markdown",
   "metadata": {},
   "source": [
    "DESCRIBE dotaz pro kraje ČR\n",
    "\n",
    "```sparql\n",
    "PREFIX yago: <http://yago-knowledge.org/resource/>\n",
    "\n",
    "describe ?region where {\n",
    "?region a yago:Regions_of_the_Czech_Republic\n",
    "}\n",
    "```\n",
    "\n",
    "Vzorek dat:\n",
    "\n",
    "```turtle\n",
    "yago:Prague <http://schema.org/logo> <http://commons.wikimedia.org/wiki/Special:FilePath/Logo%20Praha.jpg> ;\n",
    "\t<http://schema.org/url> \"http://www.praha.eu/\"^^xsd:anyURI ;\n",
    "\t<http://schema.org/subOrganization> yago:Prague_Conservatory , yago:Akademické_gymnázium_Štěpánská_Q10726782 .\n",
    "```"
   ]
  },
  {
   "cell_type": "code",
   "execution_count": 25,
   "metadata": {},
   "outputs": [
    {
     "name": "stdout",
     "output_type": "stream",
     "text": [
      "trojic: 21599\n",
      "predikáty:\n",
      "<http://schema.org/foundingDate>\t<http://schema.org/about>\t<http://schema.org/leiCode>\t<http://schema.org/locationCreated>\trdfs:label\trdf:type\t<http://schema.org/logo>\t<http://schema.org/image>\t<http://schema.org/subOrganization>\towl:sameAs\t<http://schema.org/url>\t<http://schema.org/containedInPlace>\t<http://schema.org/sameAs>\t<http://schema.org/homeLocation>\t<http://schema.org/deathPlace>\t<http://schema.org/birthPlace>\t<http://schema.org/contentLocation>\t<http://schema.org/geo>\t<http://schema.org/foundingLocation>\trdfs:comment\t<http://schema.org/location>\t<http://schema.org/alternateName>\t<http://schema.org/parentOrganization>\t<http://schema.org/containsPlace>\t"
     ]
    }
   ],
   "source": [
    "val regions = Graph(\"yago\", \"../data/describe-region.ttl\")\n",
    "println(\"trojic: \" + regions.size) \n",
    "regions.addPrefixes(Traversable(Prefix(\"schema\", \"http://schema.org/\")))\n",
    "val types: Map[TripleItem.Uri, Map[TripleItemType, Int]] = regions.types()\n",
    "println(\"predikáty:\")\n",
    "for ((k,v) <- types) print(k + \"\\t\")"
   ]
  },
  {
   "cell_type": "markdown",
   "metadata": {},
   "source": [
    "DESCRIBE dotaz pro okresy ČR\n",
    "\n",
    "```sparql\n",
    "PREFIX yago: <http://yago-knowledge.org/resource/>\n",
    "PREFIX schema: <http://schema.org/>\n",
    "\n",
    "describe ?district where {\n",
    "?region a yago:Regions_of_the_Czech_Republic; schema:containsPlace ?district.\n",
    "?district a yago:Districts_of_the_Czech_Republic .\n",
    "}\n",
    "```\n",
    "\n",
    "Vzorek dat:\n",
    "\n",
    "```turtle\n",
    "yago:_Q3564604 schema:containsPlace yago:Frýdek-Místek_District .\n",
    "yago:Moravian-Silesian_Region schema:containsPlace yago:Frýdek-Místek_District .\n",
    "yago:Čeladná schema:containedInPlace yago:Frýdek-Místek_District ;\n",
    "\tschema:location yago:Frýdek-Místek_District .\n",
    "```"
   ]
  },
  {
   "cell_type": "code",
   "execution_count": 26,
   "metadata": {},
   "outputs": [
    {
     "name": "stdout",
     "output_type": "stream",
     "text": [
      "trojic: 27776\n",
      "predikáty:\n",
      "rdfs:label\trdf:type\tschema:image\towl:sameAs\tschema:sameAs\tschema:containedInPlace\tschema:birthPlace\tschema:geo\trdfs:comment\tschema:alternateName\tschema:location\tschema:containsPlace\t"
     ]
    }
   ],
   "source": [
    "val districts = Graph(\"yago\", \"../data/describe-district.ttl\")\n",
    "println(\"trojic: \" + districts.size)\n",
    "val types: Map[TripleItem.Uri, Map[TripleItemType, Int]] = districts.types()\n",
    "println(\"predikáty:\")\n",
    "for ((k,v) <- types) print(k + \"\\t\")"
   ]
  },
  {
   "cell_type": "markdown",
   "metadata": {},
   "source": [
    "DESCRIBE dotaz pro kraje ČR hop 1\n",
    "\n",
    "```sparql\n",
    "PREFIX yago: <http://yago-knowledge.org/resource/>\n",
    "\n",
    "describe ?hop1 where {\n",
    "?region a yago:Regions_of_the_Czech_Republic .\n",
    "?hop1 ?p ?region .\n",
    "}\n",
    "```\n",
    "\n",
    "Vzorek dat:\n",
    "\n",
    "```xml\n",
    "<rdf:Description rdf:about=\"http://yago-knowledge.org/resource/Agáta_Prachařová_Q10721001\">\n",
    "\t<birthPlace xmlns=\"http://schema.org/\" rdf:resource=\"http://yago-knowledge.org/resource/Prague\"/>\n",
    "\t<parent xmlns=\"http://schema.org/\" rdf:resource=\"http://yago-knowledge.org/resource/Veronika_Žilková\"/>\n",
    "\t<givenName xmlns=\"http://schema.org/\" rdf:resource=\"http://yago-knowledge.org/resource/Agáta_Q9110539\"/>\n",
    "```"
   ]
  },
  {
   "cell_type": "code",
   "execution_count": 27,
   "metadata": {},
   "outputs": [
    {
     "name": "stdout",
     "output_type": "stream",
     "text": [
      "trojic: 690880\n",
      "predikáty:\n",
      "<http://schema.org/birthDate>\t<http://schema.org/familyName>\t<http://schema.org/knowsLanguage>\t<http://schema.org/deathDate>\t<http://schema.org/foundingDate>\t<http://schema.org/about>\t<http://schema.org/hasOccupation>\t<http://schema.org/author>\t<http://schema.org/inLanguage>\t<http://schema.org/leiCode>\t<http://schema.org/telephone>\t<http://schema.org/producer>\t<http://schema.org/locationCreated>\t<http://schema.org/composer>\t<http://schema.org/numberOfEpisodes>\trdfs:label\t<http://schema.org/copyrightHolder>\t<http://schema.org/character>\t<http://schema.org/duration>\trdf:type\t<http://schema.org/creator>\t<http://schema.org/lyricist>\t<http://schema.org/logo>\t<http://schema.org/startDate>\t<http://schema.org/icaoCode>\t<http://schema.org/alumniOf>\t<http://schema.org/image>\t<http://schema.org/worksFor>\t<http://schema.org/competitor>\t<http://schema.org/subOrganization>\t<http://schema.org/endDate>\t<http://schema.org/translator>\t<http://schema.org/productionCompany>\t<http://schema.org/actor>\t<http://schema.org/isBasedOn>\t<http://schema.org/url>\t<http://schema.org/containedInPlace>\t<http://schema.org/height>\t<http://schema.org/sameAs>\towl:sameAs\t<http://schema.org/founder>\t<http://schema.org/spouse>\t<http://schema.org/dateCreated>\t<http://schema.org/contributor>\t<http://schema.org/director>\t<http://schema.org/affiliation>\t<http://schema.org/publisher>\t<http://schema.org/parent>\t<http://schema.org/homeLocation>\t<http://schema.org/deathPlace>\t<http://schema.org/sport>\t<http://schema.org/musicBy>\t<http://schema.org/children>\t<http://schema.org/birthPlace>\t<http://schema.org/iataCode>\t<http://schema.org/material>\t<http://schema.org/contentLocation>\t<http://schema.org/faxNumber>\t<http://schema.org/geo>\t<http://schema.org/datePublished>\t<http://schema.org/editor>\t<http://schema.org/memberOf>\t<http://schema.org/subEvent>\t<http://schema.org/foundingLocation>\t<http://schema.org/superEvent>\trdfs:comment\t<http://schema.org/hasPart>\t<http://schema.org/givenName>\t<http://schema.org/nationality>\t<http://schema.org/owns>\t<http://schema.org/numberOfSeasons>\t<http://schema.org/alternateName>\t<http://schema.org/location>\t<http://schema.org/genre>\t<http://schema.org/honorificPrefix>\t<http://schema.org/award>\t<http://schema.org/parentOrganization>\t<http://schema.org/gender>\t<http://schema.org/sponsor>\t<http://schema.org/countryOfOrigin>\t<http://schema.org/containsPlace>\t<http://schema.org/dissolutionDate>\t<http://schema.org/byArtist>\t"
     ]
    }
   ],
   "source": [
    "val regionsHop1 = Graph(\"yago\", \"../data/describe-region-hop1.xml\")\n",
    "println(\"trojic: \" + regionsHop1.size)\n",
    "val types: Map[TripleItem.Uri, Map[TripleItemType, Int]] = regionsHop1.types()\n",
    "println(\"predikáty:\")\n",
    "for ((k,v) <- types) print(k + \"\\t\")"
   ]
  },
  {
   "cell_type": "markdown",
   "metadata": {},
   "source": [
    "DESCRIBE dotaz pro okresy ČR hop 1\n",
    "\n",
    "```sparql\n",
    "PREFIX yago: <http://yago-knowledge.org/resource/>\n",
    "PREFIX schema: <http://schema.org/>\n",
    "\n",
    "describe ?hop1 where {\n",
    "?region a yago:Regions_of_the_Czech_Republic; schema:containsPlace ?district .\n",
    "?district a yago:Districts_of_the_Czech_Republic .\n",
    "?hop1 ?p ?district .\n",
    "}\n",
    "```\n",
    "\n",
    "Vzorek dat:\n",
    "\n",
    "```xml\n",
    "<rdf:Description rdf:about=\"http://yago-knowledge.org/resource/Frýdek-Místek_District\">\n",
    "\t<schema:containedInPlace rdf:resource=\"http://yago-knowledge.org/resource/_Q3564604\"/>\n",
    "</rdf:Description>\n",
    "\n",
    "<rdf:Description rdf:about=\"http://yago-knowledge.org/resource/Přerov_District\">\n",
    "\t<schema:containedInPlace rdf:resource=\"http://yago-knowledge.org/resource/_Q3564604\"/>\n",
    "</rdf:Description>\n",
    "```"
   ]
  },
  {
   "cell_type": "code",
   "execution_count": 28,
   "metadata": {},
   "outputs": [
    {
     "name": "stdout",
     "output_type": "stream",
     "text": [
      "trojic: 517933\n",
      "predikáty:\n",
      "schema:birthDate\tschema:familyName\tschema:knowsLanguage\tschema:deathDate\tschema:foundingDate\tschema:hasOccupation\tschema:leiCode\tschema:producer\tschema:locationCreated\trdfs:label\trdf:type\tschema:logo\tschema:alumniOf\tschema:image\tschema:subOrganization\tschema:elevation\tschema:url\tschema:containedInPlace\tschema:founder\towl:sameAs\tschema:sameAs\tschema:homeLocation\tschema:deathPlace\tschema:birthPlace\tschema:contentLocation\tschema:geo\tschema:memberOf\tschema:foundingLocation\trdfs:comment\tschema:givenName\tschema:nationality\tschema:alternateName\tschema:location\tschema:gender\tschema:parentOrganization\tschema:award\tschema:containsPlace\tschema:dissolutionDate\t"
     ]
    }
   ],
   "source": [
    "val districtsHop1 = Graph(\"yago\", \"../data/describe-district-hop1.xml\")\n",
    "println(\"trojic: \" + districtsHop1.size)\n",
    "val types: Map[TripleItem.Uri, Map[TripleItemType, Int]] = districtsHop1.types()\n",
    "println(\"predikáty:\")\n",
    "for ((k,v) <- types) print(k + \"\\t\")"
   ]
  },
  {
   "cell_type": "markdown",
   "metadata": {},
   "source": [
    "DESCRIBE dotaz pro kraje ČR hop 2\n",
    "\n",
    "```sparql\n",
    "PREFIX yago: <http://yago-knowledge.org/resource/>\n",
    "\n",
    "describe ?hop2 where {\n",
    "?region a yago:Regions_of_the_Czech_Republic .\n",
    "?hop1 ?p1 ?region .\n",
    "?hop2 ?p2 ?hop1 .\n",
    "}\n",
    "```\n",
    "\n",
    "Vzorek dat:\n",
    "\n",
    "```ttl\n",
    "<http://yago-knowledge.org/resource/Carl_Ferdinand_Cori> <http://schema.org/award> <http://yago-knowledge.org/resource/Banting_Medal> .\n",
    "<http://yago-knowledge.org/resource/Carl_Ferdinand_Cori> <http://schema.org/award> <http://yago-knowledge.org/resource/honorary_doctorate_of_the_University_of_Granada_Q50610972> .\n",
    "```\n",
    "\n",
    "Data z \"hop 2\" i pro kraje i pro okresy jsem musel rozdělit do více souborů (viz notebook graph-divide.ipynb ve stejném repozitáři), protože jeden soubor byl moc velký a nešel mi pushnout do githubu."
   ]
  },
  {
   "cell_type": "code",
   "execution_count": 29,
   "metadata": {},
   "outputs": [
    {
     "name": "stdout",
     "output_type": "stream",
     "text": [
      "trojic: 1909567\n",
      "predikáty:\n",
      "<http://schema.org/birthDate>\t<http://schema.org/familyName>\t<http://schema.org/knowsLanguage>\t<http://schema.org/deathDate>\t<http://schema.org/foundingDate>\t<http://schema.org/issn>\t<http://schema.org/about>\t<http://schema.org/hasOccupation>\t<http://schema.org/author>\t<http://schema.org/inLanguage>\t<http://schema.org/leiCode>\t<http://schema.org/colorist>\t<http://schema.org/telephone>\t<http://schema.org/producer>\t<http://schema.org/locationCreated>\t<http://schema.org/composer>\t<http://schema.org/numberOfEpisodes>\t<http://www.w3.org/2000/01/rdf-schema#label>\t<http://schema.org/copyrightHolder>\t<http://schema.org/character>\t<http://www.w3.org/1999/02/22-rdf-syntax-ns#type>\t<http://schema.org/duration>\t<http://schema.org/creator>\t<http://schema.org/iswcCode>\t<http://schema.org/lyricist>\t<http://schema.org/logo>\t<http://schema.org/icaoCode>\t<http://schema.org/startDate>\t<http://schema.org/alumniOf>\t<http://schema.org/isPartOf>\t<http://schema.org/image>\t<http://schema.org/worksFor>\t<http://schema.org/competitor>\t<http://schema.org/subOrganization>\t<http://schema.org/numberOfEmployees>\t<http://schema.org/brand>\t<http://schema.org/endDate>\t<http://schema.org/translator>\t<http://schema.org/exampleOfWork>\t<http://schema.org/actor>\t<http://schema.org/productionCompany>\t<http://schema.org/elevation>\t<http://schema.org/isBasedOn>\t<http://schema.org/url>\t<http://schema.org/containedInPlace>\t<http://schema.org/height>\t<http://schema.org/sameAs>\t<http://www.w3.org/2002/07/owl#sameAs>\t<http://schema.org/founder>\t<http://schema.org/spouse>\t<http://schema.org/dateCreated>\t<http://schema.org/contributor>\t<http://schema.org/numberOfPages>\t<http://schema.org/director>\t<http://schema.org/workExample>\t<http://schema.org/affiliation>\t<http://schema.org/publisher>\t<http://schema.org/parent>\t<http://schema.org/homeLocation>\t<http://schema.org/deathPlace>\t<http://schema.org/sport>\t<http://schema.org/musicBy>\t<http://schema.org/children>\t<http://schema.org/birthPlace>\t<http://schema.org/iataCode>\t<http://schema.org/material>\t<http://schema.org/contentLocation>\t<http://schema.org/faxNumber>\t<http://schema.org/organizer>\t<http://schema.org/geo>\t<http://schema.org/editor>\t<http://schema.org/datePublished>\t<http://schema.org/memberOf>\t<http://schema.org/subEvent>\t<http://schema.org/partOfSeries>\t<http://schema.org/foundingLocation>\t<http://schema.org/superEvent>\t<http://www.w3.org/2000/01/rdf-schema#comment>\t<http://schema.org/hasPart>\t<http://schema.org/givenName>\t<http://schema.org/nationality>\t<http://schema.org/owns>\t<http://schema.org/numberOfSeasons>\t<http://schema.org/alternateName>\t<http://schema.org/location>\t<http://schema.org/honorificPrefix>\t<http://schema.org/genre>\t<http://schema.org/citation>\t<http://schema.org/award>\t<http://schema.org/parentOrganization>\t<http://schema.org/gender>\t<http://schema.org/sponsor>\t<http://schema.org/countryOfOrigin>\t<http://schema.org/containsPlace>\t<http://schema.org/dissolutionDate>\t<http://schema.org/byArtist>\t"
     ]
    }
   ],
   "source": [
    "val regionsHop2_1 = Graph(\"yago\", \"../data/describe-region-hop2_1.ttl\")\n",
    "val regionsHop2_2 = Graph(\"yago\", \"../data/describe-region-hop2_2.ttl\")\n",
    "val regionsHop2_3 = Graph(\"yago\", \"../data/describe-region-hop2_3.ttl\")\n",
    "val regionsHop2_4 = Graph(\"yago\", \"../data/describe-region-hop2_4.ttl\")\n",
    "val regionsHop2 = Dataset() + regionsHop2_1 + regionsHop2_2 + regionsHop2_3 + regionsHop2_4\n",
    "println(\"trojic: \" + regionsHop2.size)\n",
    "val types: Map[TripleItem.Uri, Map[TripleItemType, Int]] = regionsHop2.types()\n",
    "println(\"predikáty:\")\n",
    "for ((k,v) <- types) print(k + \"\\t\")"
   ]
  },
  {
   "cell_type": "markdown",
   "metadata": {},
   "source": [
    "DESCRIBE dotaz pro okresy ČR hop 2\n",
    "\n",
    "```sparql\n",
    "PREFIX yago: <http://yago-knowledge.org/resource/>\n",
    "PREFIX schema: <http://schema.org/>\n",
    "\n",
    "describe ?hop2 where {\n",
    "?region a yago:Regions_of_the_Czech_Republic; schema:containsPlace ?district .\n",
    "?district a yago:Districts_of_the_Czech_Republic .\n",
    "?hop1 ?p1 ?district .\n",
    "?hop2 ?p2 ?hop1 .\n",
    "}\n",
    "```\n",
    "\n",
    "Vzorek dat:\n",
    "\n",
    "```turtle\n",
    "<http://yago-knowledge.org/resource/Řepiště> <http://schema.org/location> <http://yago-knowledge.org/resource/Frýdek-Místek_District> .\n",
    "<http://yago-knowledge.org/resource/Kunčice_pod_Ondřejníkem> <http://schema.org/containedInPlace> <http://yago-knowledge.org/resource/Frýdek-Místek_District> .\n",
    "```\n"
   ]
  },
  {
   "cell_type": "code",
   "execution_count": 30,
   "metadata": {},
   "outputs": [
    {
     "name": "stdout",
     "output_type": "stream",
     "text": [
      "trojic: 1663818\n",
      "predikáty:\n",
      "<http://schema.org/birthDate>\t<http://schema.org/familyName>\t<http://schema.org/knowsLanguage>\t<http://schema.org/foundingDate>\t<http://schema.org/deathDate>\t<http://schema.org/about>\t<http://schema.org/hasOccupation>\t<http://schema.org/author>\t<http://schema.org/inLanguage>\t<http://schema.org/illustrator>\t<http://schema.org/leiCode>\t<http://schema.org/telephone>\t<http://schema.org/producer>\t<http://schema.org/locationCreated>\t<http://schema.org/composer>\t<http://schema.org/numberOfEpisodes>\t<http://www.w3.org/2000/01/rdf-schema#label>\t<http://schema.org/copyrightHolder>\t<http://schema.org/character>\t<http://schema.org/duration>\t<http://www.w3.org/1999/02/22-rdf-syntax-ns#type>\t<http://schema.org/creator>\t<http://schema.org/lyricist>\t<http://schema.org/logo>\t<http://schema.org/icaoCode>\t<http://schema.org/startDate>\t<http://schema.org/alumniOf>\t<http://schema.org/image>\t<http://schema.org/worksFor>\t<http://schema.org/competitor>\t<http://schema.org/subOrganization>\t<http://schema.org/numberOfEmployees>\t<http://schema.org/brand>\t<http://schema.org/endDate>\t<http://schema.org/translator>\t<http://schema.org/actor>\t<http://schema.org/productionCompany>\t<http://schema.org/elevation>\t<http://schema.org/url>\t<http://schema.org/containedInPlace>\t<http://schema.org/height>\t<http://schema.org/sameAs>\t<http://www.w3.org/2002/07/owl#sameAs>\t<http://schema.org/founder>\t<http://schema.org/spouse>\t<http://schema.org/contributor>\t<http://schema.org/director>\t<http://schema.org/affiliation>\t<http://schema.org/publisher>\t<http://schema.org/parent>\t<http://schema.org/homeLocation>\t<http://schema.org/deathPlace>\t<http://schema.org/sport>\t<http://schema.org/musicBy>\t<http://schema.org/children>\t<http://schema.org/birthPlace>\t<http://schema.org/iataCode>\t<http://schema.org/material>\t<http://schema.org/contentLocation>\t<http://schema.org/faxNumber>\t<http://schema.org/geo>\t<http://schema.org/datePublished>\t<http://schema.org/editor>\t<http://schema.org/memberOf>\t<http://schema.org/subEvent>\t<http://schema.org/foundingLocation>\t<http://schema.org/superEvent>\t<http://www.w3.org/2000/01/rdf-schema#comment>\t<http://schema.org/givenName>\t<http://schema.org/nationality>\t<http://schema.org/owns>\t<http://schema.org/numberOfSeasons>\t<http://schema.org/alternateName>\t<http://schema.org/location>\t<http://schema.org/honorificPrefix>\t<http://schema.org/genre>\t<http://schema.org/award>\t<http://schema.org/parentOrganization>\t<http://schema.org/gender>\t<http://schema.org/sponsor>\t<http://schema.org/countryOfOrigin>\t<http://schema.org/containsPlace>\t<http://schema.org/byArtist>\t<http://schema.org/dissolutionDate>\t"
     ]
    }
   ],
   "source": [
    "val districtsHop2_1 = Graph(\"yago\", \"../data/describe-district-hop2_1.ttl\")\n",
    "val districtsHop2_2 = Graph(\"yago\", \"../data/describe-district-hop2_2.ttl\")\n",
    "val districtsHop2_3 = Graph(\"yago\", \"../data/describe-district-hop2_3.ttl\")\n",
    "val districtsHop2_4 = Graph(\"yago\", \"../data/describe-district-hop2_4.ttl\")\n",
    "val districtsHop2 = Dataset() + districtsHop2_1 + districtsHop2_2 + districtsHop2_3 + districtsHop2_4\n",
    "println(\"trojic: \" + districtsHop2.size)\n",
    "val types: Map[TripleItem.Uri, Map[TripleItemType, Int]] = districtsHop2.types()\n",
    "println(\"predikáty:\")\n",
    "for ((k,v) <- types) print(k + \"\\t\")"
   ]
  },
  {
   "cell_type": "markdown",
   "metadata": {},
   "source": [
    "Přidávám soubor s trojicemi, které spojují entitity okresů a krajů mezi daty ČSÚ a YAGO. Tyto trojice nešly nikde natáhnout SPARQLem. Entity ani ČSÚ ani ČSSZ neodkazují ani na YAGO ani na jiné znalostní grafy. Přiklady trojic:\n",
    "\n",
    "```turtle\n",
    "yago:Zlín_Region owl:sameAs <http://ruian.linked.opendata.cz/resource/vusc/141> .\n",
    "yago:Uherské_Hradiště_District owl:sameAs <http://ruian.linked.opendata.cz/resource/okresy/3711> .\n",
    "```"
   ]
  },
  {
   "cell_type": "code",
   "execution_count": 31,
   "metadata": {},
   "outputs": [
    {
     "name": "stdout",
     "output_type": "stream",
     "text": [
      "trojic: 90\n"
     ]
    }
   ],
   "source": [
    "val yagoLinking = Graph(\"yago\", \"../data/yagoLinking.ttl\")\n",
    "println(\"trojic: \" + yagoLinking.size)"
   ]
  },
  {
   "cell_type": "code",
   "execution_count": 32,
   "metadata": {},
   "outputs": [],
   "source": [
    "val yagoDataset = (Dataset() + \n",
    "    regions + districts + \n",
    "    regionsHop1 + districtsHop1 + \n",
    "    districtsHop2 + regionsHop2 +\n",
    "    yagoLinking\n",
    ")"
   ]
  },
  {
   "cell_type": "markdown",
   "metadata": {},
   "source": [
    "Z datasetu jsem si odfiltroval trojice s některými predikáty, které by nebyly stejně přínosné počet trojic se mi srazil na 46 %. "
   ]
  },
  {
   "cell_type": "code",
   "execution_count": 33,
   "metadata": {},
   "outputs": [
    {
     "name": "stdout",
     "output_type": "stream",
     "text": [
      "2223545 / 4831663 = 46.0%\n"
     ]
    }
   ],
   "source": [
    "val rdfsLabel = \"http://www.w3.org/2000/01/rdf-schema#label\"\n",
    "val rdfsComment = \"http://www.w3.org/2000/01/rdf-schema#comment\"\n",
    "val alternateName = \"http://schema.org/alternateName\"\n",
    "val image = \"http://schema.org/image\"\n",
    "\n",
    "val yagoDatasetFiltered = yagoDataset.\n",
    "filter(q => !q.triple.predicate.hasSameUriAs(rdfsLabel) &&\n",
    "                !q.triple.predicate.hasSameUriAs(rdfsComment) &&\n",
    "                !q.triple.predicate.hasSameUriAs(alternateName) &&\n",
    "                !q.triple.predicate.hasSameUriAs(image))\n",
    "\n",
    "val ratio: Double = (yagoDatasetFiltered.size.toDouble / yagoDataset.size.toDouble)\n",
    "println(yagoDatasetFiltered.size + \" / \" + yagoDataset.size + \" = \" + rounded(ratio,2)*100 + \"%\")"
   ]
  },
  {
   "cell_type": "code",
   "execution_count": 34,
   "metadata": {},
   "outputs": [
    {
     "name": "stderr",
     "output_type": "stream",
     "text": [
      "2021-04-23 15:17:53:218 +0200 [scala-interpreter-1] INFO com.github.propi.rdfrules.utils.Debugger - Predicates trimming.\n",
      "2021-04-23 15:17:54:693 +0200 [scala-interpreter-1] INFO com.github.propi.rdfrules.utils.Debugger - Subjects indexing.\n",
      "2021-04-23 15:17:56:754 +0200 [scala-interpreter-1] INFO com.github.propi.rdfrules.utils.Debugger - Subjects trimming.\n",
      "2021-04-23 15:17:57:096 +0200 [scala-interpreter-1] INFO com.github.propi.rdfrules.utils.Debugger - Objects indexing.\n",
      "2021-04-23 15:17:58:190 +0200 [scala-interpreter-1] INFO com.github.propi.rdfrules.utils.Debugger - Objects trimming.\n"
     ]
    }
   ],
   "source": [
    "val yagoJaurDataset = jaurDatasetFiltered + yagoDatasetFiltered\n",
    "val yagoJaurIndex = yagoJaurDataset.index()\n",
    "yagoJaurIndex.cache(\"../cache/yagoJaurIndex.cache\")"
   ]
  },
  {
   "cell_type": "markdown",
   "metadata": {},
   "source": [
    "Vzory pravidel pro tuto úlohu jsou podobné jako u úlohy jenom nad kostkou. Do každého vzoru přibyl atom, který je z YAGO jeho subjekt je spojen s hodnotou dimenze oblasti s pozorováními."
   ]
  },
  {
   "cell_type": "code",
   "execution_count": 35,
   "metadata": {},
   "outputs": [],
   "source": [
    "val rdfType = \"http://www.w3.org/1999/02/22-rdf-syntax-ns#type\"\n",
    "\n",
    "val oneCubeTwoMeasuresYagoPattern = (\n",
    "    AtomPattern(subject = 'a', predicate = qbdPredicate, graph = uri(\"czso\")) &:\n",
    "    AtomPattern(subject = 'b', predicate = NoneOf(uri(rdfType)), graph = uri(\"yago\")) &:\n",
    "    AtomPattern(subject = 'a', `object` = 'b', graph = uri(\"czso\")) &:\n",
    "    AtomPattern(subject = 'a', predicate = oneOfMeasures, graph = uri(\"czso\"))\n",
    "    =>: \n",
    "    AtomPattern(subject = 'a', predicate = oneOfMeasures, graph = uri(\"czso\"))\n",
    ")\n",
    "\n",
    "val oneCubeOneMeasureYagoPattern = (\n",
    "    AtomPattern(subject = 'a', predicate = qbdPredicate, graph = uri(\"czso\")) &:\n",
    "    AtomPattern(subject = 'b', predicate = NoneOf(uri(rdfType)), graph = uri(\"yago\")) &:\n",
    "    AtomPattern(subject = 'a', `object` = 'b', graph = uri(\"czso\"))\n",
    "    =>: \n",
    "    AtomPattern(subject = 'a', predicate = oneOfMeasures, graph = uri(\"czso\"))\n",
    ")"
   ]
  },
  {
   "cell_type": "code",
   "execution_count": 36,
   "metadata": {},
   "outputs": [],
   "source": [
    "minSupport = 50\n",
    "minConfidence = 0.75"
   ]
  },
  {
   "cell_type": "code",
   "execution_count": 37,
   "metadata": {},
   "outputs": [],
   "source": [
    "val oneCubeTwoMeasuresYagoTask = Amie()\n",
    "    .addThreshold(Threshold.MinSupport(minSupport))\n",
    "    .addThreshold(Threshold.MaxRuleLength(5))\n",
    "    .addThreshold(Threshold.MinHeadSize(0))\n",
    "    .addConstraint(constantsOnlyAtObject)\n",
    "    .addPattern(oneCubeTwoMeasuresYagoPattern)\n",
    "\n",
    "val oneCubeOneMeasureYagoTask = Amie()\n",
    "    .addThreshold(Threshold.MinSupport(minSupport))\n",
    "    .addThreshold(Threshold.MaxRuleLength(4))\n",
    "    .addThreshold(Threshold.MinHeadSize(0))\n",
    "    .addConstraint(constantsOnlyAtObject)\n",
    "    .addPattern(oneCubeOneMeasureYagoPattern)"
   ]
  },
  {
   "cell_type": "code",
   "execution_count": 38,
   "metadata": {},
   "outputs": [
    {
     "name": "stderr",
     "output_type": "stream",
     "text": [
      "2021-04-23 15:18:01:432 +0200 [scala-interpreter-1] INFO com.github.propi.rdfrules.utils.Debugger - Amie task settings:\n",
      "MinHeadSize=1,\n",
      "MinHeadCoverage=0.0,\n",
      "MinSupport=50,\n",
      "MaxThreads=4,\n",
      "MinAtomSize=0,\n",
      "MaxRuleLength=5,\n",
      "WithConstants=true,\n",
      "ConstantsPosition=Object,\n",
      "Timeout=-1,\n",
      "WithDuplicitPredicates=true,\n",
      "Patterns=List(Mapped(Vector(Mapped(Variable(?a),Constant(Constant(624690160)),Any,Constant(Constant(1015601977))), Mapped(Variable(?b),NoneOf(ArrayBuffer(Constant(Constant(1802760130)))),Any,Constant(Constant(-1596161386))), Mapped(Variable(?a),Any,Variable(?b),Constant(Constant(1015601977))), Mapped(Variable(?a),OneOf(ArrayBuffer(Constant(Constant(-2070273298)), Constant(Constant(-2070273298)), Constant(Constant(1659106226)), Constant(Constant(1142069620)))),Any,Constant(Constant(1015601977)))),Some(Mapped(Variable(?a),OneOf(ArrayBuffer(Constant(Constant(-2070273298)), Constant(Constant(-2070273298)), Constant(Constant(1659106226)), Constant(Constant(1142069620)))),Any,Constant(Constant(1015601977)))),false,false)),\n",
      "OnlyPredicates=None,\n",
      "WithoutPredicates=None\n",
      "2021-04-23 15:18:02:036 +0200 [scala-interpreter-1] INFO com.github.propi.rdfrules.utils.Debugger - Amie task settings:\n",
      "MinHeadSize=1,\n",
      "MinHeadCoverage=0.0,\n",
      "MinSupport=50,\n",
      "MaxThreads=4,\n",
      "MinAtomSize=0,\n",
      "MaxRuleLength=4,\n",
      "WithConstants=true,\n",
      "ConstantsPosition=Object,\n",
      "Timeout=-1,\n",
      "WithDuplicitPredicates=true,\n",
      "Patterns=List(Mapped(Vector(Mapped(Variable(?a),Constant(Constant(624690160)),Any,Constant(Constant(1015601977))), Mapped(Variable(?b),NoneOf(ArrayBuffer(Constant(Constant(1802760130)))),Any,Constant(Constant(-1596161386))), Mapped(Variable(?a),Any,Variable(?b),Constant(Constant(1015601977)))),Some(Mapped(Variable(?a),OneOf(ArrayBuffer(Constant(Constant(-2070273298)), Constant(Constant(-2070273298)), Constant(Constant(1659106226)), Constant(Constant(1142069620)))),Any,Constant(Constant(1015601977)))),false,false)),\n",
      "OnlyPredicates=None,\n",
      "WithoutPredicates=None\n"
     ]
    },
    {
     "name": "stdout",
     "output_type": "stream",
     "text": [
      "oneCubeTwoMeasuresYagoTaskRuleset size: 0\n",
      "oneCubeOneMeasureYagoRuleset size: 6\n"
     ]
    }
   ],
   "source": [
    "val oneCubeTwoMeasuresYagoTaskRuleset = yagoJaurIndex.mine(oneCubeTwoMeasuresYagoTask)\n",
    "val oneCubeOneMeasureYagoRuleset = yagoJaurIndex.mine(oneCubeOneMeasureYagoTask)\n",
    "\n",
    "println(\"oneCubeTwoMeasuresYagoTaskRuleset size: \" + oneCubeTwoMeasuresYagoTaskRuleset.size)\n",
    "println(\"oneCubeOneMeasureYagoRuleset size: \" + oneCubeOneMeasureYagoRuleset.size)"
   ]
  },
  {
   "cell_type": "markdown",
   "metadata": {},
   "source": [
    "6 pravidel má confidence vyšší než 0,75"
   ]
  },
  {
   "cell_type": "code",
   "execution_count": 39,
   "metadata": {},
   "outputs": [],
   "source": [
    "val jaurYagoRuleset = (oneCubeTwoMeasuresYagoTaskRuleset + oneCubeOneMeasureYagoRuleset)\n",
    ".computeConfidence(minConfidence).sortBy(Measure.Confidence, Measure.HeadCoverage)\n",
    "jaurYagoRuleset.export(\"../rulesets/jaurYagoRules.txt\")\n",
    "jaurYagoRuleset.foreach(rule => println(\"\\n\" + rule + \"\\n\"))"
   ]
  },
  {
   "cell_type": "markdown",
   "metadata": {},
   "source": [
    "Jediné to poslední pravidlo je ze vzoru ```oneCubeTwoMeasuresYagoPattern```. Jako jediný predikát z YAGO trojic tu je <http://schema.org/containedInPlace>. Zajímavé je třeba to druhé pravidlo, podle kterého platí vztah nějakých dvou měr pro okresy z bývalého Severočeského kraje ([https://www.wikidata.org/wiki/Q3509008](https://www.wikidata.org/wiki/Q3509008)). Trojice s informacemi, které okresy patří do kterého kraje, jsem ještě mohl ručně poskládat, ale na bývalé kraje bych určitě nemyslel. To už je pravidlo, které by se bez dat ze znalostního grafu nenašlo.\n",
    "\n"
   ]
  },
  {
   "cell_type": "code",
   "execution_count": 40,
   "metadata": {},
   "outputs": [],
   "source": [
    "minSupport = 55\n",
    "minConfidence = 0.65"
   ]
  },
  {
   "cell_type": "markdown",
   "metadata": {},
   "source": [
    "Zkusil jsem vydolovat pravidla, které by měly v hlavě trojici ze znalostního grafu. Ještě jsem nad strukturou takových moc nepřemýšlel, ale držel jsem se pořád toho, že AK nesmí mít volné dimenze a jakákoliv kostka v pravidle, že není v hlavě trojice z kostky, je AK. Vytvořil jsem dva vzory pro obě struktury kostek:\n",
    "* rok x oblast\n",
    "* rok x oblast x pohlaví"
   ]
  },
  {
   "cell_type": "code",
   "execution_count": 41,
   "metadata": {},
   "outputs": [],
   "source": [
    "val oneOf2Dcubes = OneOf(uri(\"jaurDistrictsTotal\"),uri(\"jaurRegionsTotal\"))\n",
    "val oneOf3Dcubes = OneOf(uri(\"jaurDistrictsBySex\"),uri(\"jaurRegionsBySex\"))\n",
    "\n",
    "val yago2DPattern = (\n",
    "    AtomPattern(subject = 'b', predicate = qbdPredicate, `object` = oneOf2Dcubes,  graph = uri(\"czso\")) &:\n",
    "    AtomPattern(subject = 'b', predicate = oneOfMeasures, graph = uri(\"czso\")) &:\n",
    "    AtomPattern(subject = 'b', predicate = uri(refPeriod), `object` = AnyConstant, graph = uri(\"czso\")) &:\n",
    "    AtomPattern(subject = 'b', predicate = uri(refArea), `object` = 'a', graph = uri(\"czso\"))\n",
    "    =>: \n",
    "    AtomPattern(subject = AnyVariable, graph = uri(\"yago\"))\n",
    ")\n",
    "\n",
    "val yago3DPattern = (\n",
    "    AtomPattern(subject = 'b', predicate = qbdPredicate, `object` = oneOf3Dcubes,  graph = uri(\"czso\")) &:\n",
    "    AtomPattern(subject = 'b', predicate = oneOfMeasures, graph = uri(\"czso\")) &:\n",
    "    AtomPattern(subject = 'b', predicate = uri(sex), `object` = AnyConstant, graph = uri(\"czso\")) &:\n",
    "    AtomPattern(subject = 'b', predicate = uri(refPeriod), `object` = AnyConstant, graph = uri(\"czso\")) &:\n",
    "    AtomPattern(subject = 'b', predicate = uri(refArea), `object` = 'a', graph = uri(\"czso\"))\n",
    "    =>: \n",
    "    AtomPattern(subject = AnyVariable, graph = uri(\"yago\"))\n",
    ")"
   ]
  },
  {
   "cell_type": "markdown",
   "metadata": {},
   "source": [
    "Pro tento *mining task* už jsem musel nastavit timeout (je v minutách), protože bez něj se mi hlásila ```OutOfMemoryException``` a žádná pravidla jsem nedostal."
   ]
  },
  {
   "cell_type": "code",
   "execution_count": 42,
   "metadata": {},
   "outputs": [],
   "source": [
    "val yagoClosedDimensionsTask = Amie()\n",
    "    .addThreshold(Threshold.MinSupport(minSupport))\n",
    "    .addThreshold(Threshold.MaxRuleLength(10))\n",
    "    .addThreshold(Threshold.MinHeadSize(0))\n",
    "    .addThreshold(Threshold.Timeout(10))\n",
    "    .addConstraint(constantsOnlyAtObject)\n",
    "    .addPattern(yago2DPattern)\n",
    "    .addPattern(yago3DPattern)"
   ]
  },
  {
   "cell_type": "code",
   "execution_count": 43,
   "metadata": {},
   "outputs": [
    {
     "name": "stderr",
     "output_type": "stream",
     "text": [
      "2021-04-23 15:18:04:399 +0200 [scala-interpreter-1] INFO com.github.propi.rdfrules.utils.Debugger - Amie task settings:\n",
      "MinHeadSize=1,\n",
      "MinHeadCoverage=0.0,\n",
      "MinSupport=55,\n",
      "MaxThreads=4,\n",
      "MinAtomSize=0,\n",
      "MaxRuleLength=10,\n",
      "WithConstants=true,\n",
      "ConstantsPosition=Object,\n",
      "Timeout=600000,\n",
      "WithDuplicitPredicates=true,\n",
      "Patterns=List(Mapped(Vector(Mapped(Variable(?b),Constant(Constant(624690160)),OneOf(ArrayBuffer(Constant(Constant(-455197143)), Constant(Constant(1579750272)))),Constant(Constant(1015601977))), Mapped(Variable(?b),OneOf(ArrayBuffer(Constant(Constant(-2070273298)), Constant(Constant(-2070273298)), Constant(Constant(1659106226)), Constant(Constant(1142069620)))),Any,Constant(Constant(1015601977))), Mapped(Variable(?b),Constant(Constant(-1485615047)),AnyConstant,Constant(Constant(1015601977))), Mapped(Variable(?b),Constant(Constant(-901057765)),AnyConstant,Constant(Constant(1015601977))), Mapped(Variable(?b),Constant(Constant(1481837794)),Variable(?a),Constant(Constant(1015601977)))),Some(Mapped(AnyVariable,Any,Any,Constant(Constant(-1596161386)))),false,false), Mapped(Vector(Mapped(Variable(?b),Constant(Constant(624690160)),OneOf(ArrayBuffer(Constant(Constant(494404601)), Constant(Constant(-1862745574)))),Constant(Constant(1015601977))), Mapped(Variable(?b),OneOf(ArrayBuffer(Constant(Constant(-2070273298)), Constant(Constant(-2070273298)), Constant(Constant(1659106226)), Constant(Constant(1142069620)))),Any,Constant(Constant(1015601977))), Mapped(Variable(?b),Constant(Constant(-901057765)),AnyConstant,Constant(Constant(1015601977))), Mapped(Variable(?b),Constant(Constant(1481837794)),Variable(?a),Constant(Constant(1015601977)))),Some(Mapped(AnyVariable,Any,Any,Constant(Constant(-1596161386)))),false,false)),\n",
      "OnlyPredicates=None,\n",
      "WithoutPredicates=None\n"
     ]
    },
    {
     "name": "stdout",
     "output_type": "stream",
     "text": [
      "yagoClosedDimensionsTaskRuleset size: 0\n"
     ]
    }
   ],
   "source": [
    "val yagoClosedDimensionsTaskRuleset = yagoJaurIndex.mine(yagoClosedDimensionsTask)\n",
    "println(\"yagoClosedDimensionsTaskRuleset size: \" + yagoClosedDimensionsTaskRuleset.size)"
   ]
  },
  {
   "cell_type": "markdown",
   "metadata": {},
   "source": [
    "Našlo to nějaká pravidla, ale všechna jsou skoro stejná. Všechna mají v hlavě predikát rdfType. Ukazuju prvních 10."
   ]
  },
  {
   "cell_type": "code",
   "execution_count": 44,
   "metadata": {},
   "outputs": [],
   "source": [
    "val yagoClosedDimensionsTaskRulesetFiltered = yagoClosedDimensionsTaskRuleset\n",
    ".slice(0,10)\n",
    ".computePcaConfidence(minConfidence)\n",
    ".computeLift()\n",
    "yagoClosedDimensionsTaskRulesetFiltered.foreach(rule => println(\"\\n\" + rule + \"\\n\"))"
   ]
  },
  {
   "cell_type": "markdown",
   "metadata": {},
   "source": [
    "Zkusil jsem ve vzorech pravidla zakázat v hlavě rdf:type ..."
   ]
  },
  {
   "cell_type": "code",
   "execution_count": 45,
   "metadata": {},
   "outputs": [],
   "source": [
    "val yago2DNoTypePattern = (\n",
    "    AtomPattern(subject = 'b', predicate = qbdPredicate, `object` = oneOf2Dcubes,  graph = uri(\"czso\")) &:\n",
    "    AtomPattern(subject = 'b', predicate = oneOfMeasures, graph = uri(\"czso\")) &:\n",
    "    AtomPattern(subject = 'b', predicate = uri(refPeriod), `object` = AnyConstant, graph = uri(\"czso\")) &:\n",
    "    AtomPattern(subject = 'b', predicate = uri(refArea), `object` = 'a', graph = uri(\"czso\"))\n",
    "    =>: \n",
    "    AtomPattern(subject = AnyVariable, predicate = NoneOf(uri(rdfType)),  graph = uri(\"yago\"))\n",
    ")\n",
    "\n",
    "val yago3DNoTypePattern = (\n",
    "    AtomPattern(subject = 'b', predicate = qbdPredicate, `object` = oneOf3Dcubes,  graph = uri(\"czso\")) &:\n",
    "    AtomPattern(subject = 'b', predicate = oneOfMeasures, graph = uri(\"czso\")) &:\n",
    "    AtomPattern(subject = 'b', predicate = uri(sex), `object` = AnyConstant, graph = uri(\"czso\")) &:\n",
    "    AtomPattern(subject = 'b', predicate = uri(refPeriod), `object` = AnyConstant, graph = uri(\"czso\")) &:\n",
    "    AtomPattern(subject = 'b', predicate = uri(refArea), `object` = 'a', graph = uri(\"czso\"))\n",
    "    =>: \n",
    "    AtomPattern(subject = AnyVariable, predicate = NoneOf(uri(rdfType)),  graph = uri(\"yago\"))\n",
    ")"
   ]
  },
  {
   "cell_type": "markdown",
   "metadata": {},
   "source": [
    "A nastavit minimální support threshold ..."
   ]
  },
  {
   "cell_type": "code",
   "execution_count": 46,
   "metadata": {},
   "outputs": [],
   "source": [
    "val yagoClosedDimensionsNoTypeTask = Amie()\n",
    "    .addThreshold(Threshold.MinSupport(0))\n",
    "    .addThreshold(Threshold.MaxRuleLength(10))\n",
    "    .addThreshold(Threshold.MinHeadSize(0))\n",
    "    .addThreshold(Threshold.Timeout(10))\n",
    "    .addConstraint(constantsOnlyAtObject)\n",
    "    .addPattern(yago2DNoTypePattern)\n",
    "    .addPattern(yago3DNoTypePattern)"
   ]
  },
  {
   "cell_type": "markdown",
   "metadata": {},
   "source": [
    "Ale žádná pravidla mi to nenašlo. Svádím to na data."
   ]
  },
  {
   "cell_type": "code",
   "execution_count": 47,
   "metadata": {},
   "outputs": [
    {
     "name": "stderr",
     "output_type": "stream",
     "text": [
      "2021-04-23 15:18:15:848 +0200 [scala-interpreter-1] INFO com.github.propi.rdfrules.utils.Debugger - Amie task settings:\n",
      "MinHeadSize=1,\n",
      "MinHeadCoverage=0.0,\n",
      "MinSupport=1,\n",
      "MaxThreads=4,\n",
      "MinAtomSize=0,\n",
      "MaxRuleLength=10,\n",
      "WithConstants=true,\n",
      "ConstantsPosition=Object,\n",
      "Timeout=600000,\n",
      "WithDuplicitPredicates=true,\n",
      "Patterns=List(Mapped(Vector(Mapped(Variable(?b),Constant(Constant(624690160)),OneOf(ArrayBuffer(Constant(Constant(-455197143)), Constant(Constant(1579750272)))),Constant(Constant(1015601977))), Mapped(Variable(?b),OneOf(ArrayBuffer(Constant(Constant(-2070273298)), Constant(Constant(-2070273298)), Constant(Constant(1659106226)), Constant(Constant(1142069620)))),Any,Constant(Constant(1015601977))), Mapped(Variable(?b),Constant(Constant(-1485615047)),AnyConstant,Constant(Constant(1015601977))), Mapped(Variable(?b),Constant(Constant(-901057765)),AnyConstant,Constant(Constant(1015601977))), Mapped(Variable(?b),Constant(Constant(1481837794)),Variable(?a),Constant(Constant(1015601977)))),Some(Mapped(AnyVariable,NoneOf(ArrayBuffer(Constant(Constant(1802760130)))),Any,Constant(Constant(-1596161386)))),false,false), Mapped(Vector(Mapped(Variable(?b),Constant(Constant(624690160)),OneOf(ArrayBuffer(Constant(Constant(494404601)), Constant(Constant(-1862745574)))),Constant(Constant(1015601977))), Mapped(Variable(?b),OneOf(ArrayBuffer(Constant(Constant(-2070273298)), Constant(Constant(-2070273298)), Constant(Constant(1659106226)), Constant(Constant(1142069620)))),Any,Constant(Constant(1015601977))), Mapped(Variable(?b),Constant(Constant(-901057765)),AnyConstant,Constant(Constant(1015601977))), Mapped(Variable(?b),Constant(Constant(1481837794)),Variable(?a),Constant(Constant(1015601977)))),Some(Mapped(AnyVariable,NoneOf(ArrayBuffer(Constant(Constant(1802760130)))),Any,Constant(Constant(-1596161386)))),false,false)),\n",
      "OnlyPredicates=None,\n",
      "WithoutPredicates=None\n",
      "2021-04-23 15:28:15:894 +0200 [scala-interpreter-1] WARN com.github.propi.rdfrules.utils.Debugger - The timeout limit '10 minutes' has been exceeded during mining. The miner returns 0 rules which need not be complete.\n"
     ]
    },
    {
     "name": "stdout",
     "output_type": "stream",
     "text": [
      "yagoClosedDimensionsNoTypeTaskRuleset size: 0\n"
     ]
    }
   ],
   "source": [
    "val yagoClosedDimensionsNoTypeTaskRuleset = yagoJaurIndex.mine(yagoClosedDimensionsNoTypeTask)\n",
    "println(\"yagoClosedDimensionsNoTypeTaskRuleset size: \" + yagoClosedDimensionsNoTypeTaskRuleset.size)"
   ]
  }
 ],
 "metadata": {
  "kernelspec": {
   "display_name": "Scala",
   "language": "scala",
   "name": "scala"
  },
  "language_info": {
   "codemirror_mode": "text/x-scala",
   "file_extension": ".sc",
   "mimetype": "text/x-scala",
   "name": "scala",
   "nbconvert_exporter": "script",
   "version": "2.12.8"
  }
 },
 "nbformat": 4,
 "nbformat_minor": 4
}
