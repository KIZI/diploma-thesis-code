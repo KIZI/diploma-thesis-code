{
 "cells": [
  {
   "cell_type": "code",
   "execution_count": 1,
   "metadata": {},
   "outputs": [],
   "source": [
    "kernel.silent(true)"
   ]
  },
  {
   "cell_type": "code",
   "execution_count": 2,
   "metadata": {},
   "outputs": [],
   "source": [
    "import coursierapi.MavenRepository\n",
    "interp.repositories() ++= Seq(MavenRepository.of(\"https://jitpack.io\"))"
   ]
  },
  {
   "cell_type": "code",
   "execution_count": 3,
   "metadata": {},
   "outputs": [],
   "source": [
    "import $ivy.`com.github.propi:rdfrules:1.5.0`\n",
    "import collection._\n",
    "import org.apache.jena.riot.Lang\n",
    "\n",
    "import com.github.propi.rdfrules.data._\n",
    "import com.github.propi.rdfrules.algorithm.amie._\n",
    "import com.github.propi.rdfrules.algorithm.dbscan._\n",
    "import com.github.propi.rdfrules.utils._\n",
    "import com.github.propi.rdfrules.index._\n",
    "import com.github.propi.rdfrules.rule._\n",
    "import com.github.propi.rdfrules.ruleset._"
   ]
  },
  {
   "cell_type": "code",
   "execution_count": 4,
   "metadata": {},
   "outputs": [],
   "source": [
    "val facilitiesDataset = Dataset.fromCache(\"../cache/facilitiesCube.cache\")\n",
    "val wikidataDataset = Dataset.fromCache(\"../cache/wikidata.cache\")"
   ]
  },
  {
   "cell_type": "code",
   "execution_count": 5,
   "metadata": {},
   "outputs": [],
   "source": [
    "val refPeriodLinking = Dataset(\"../data/linking/refPeriodLinking.ttl\")"
   ]
  },
  {
   "cell_type": "code",
   "execution_count": 13,
   "metadata": {},
   "outputs": [],
   "source": [
    "val czsoWikidataLinking = Dataset(\"../data/linking/czsoWikidataLinking.ttl\")"
   ]
  },
  {
   "cell_type": "code",
   "execution_count": 14,
   "metadata": {},
   "outputs": [],
   "source": [
    "val dataset = facilitiesDataset + wikidataDataset + refPeriodLinking + czsoWikidataLinking"
   ]
  },
  {
   "cell_type": "code",
   "execution_count": 15,
   "metadata": {},
   "outputs": [],
   "source": [
    "val index = dataset.index()"
   ]
  },
  {
   "cell_type": "code",
   "execution_count": 16,
   "metadata": {},
   "outputs": [],
   "source": [
    "val uri = (value: String) => TripleItem.Uri(value)\n",
    "val qbdPredicate = uri(\"http://purl.org/linked-data/cube#dataSet\")\n",
    "val czsoRefPeriod = uri(\"http://data.czso.cz/ontology/refPeriod\")\n",
    "val czsoRefArea = uri(\"http://data.czso.cz/ontology/refArea\")\n",
    "val oneOfMeasures = OneOf(\n",
    "uri(\"http://data.czso.cz/ontology/pocetSocialnichZarizeni\"),\n",
    "uri(\"http://data.czso.cz/ontology/pocetMistVSocialnichZarizenich\"),\n",
    "uri(\"http://data.czso.cz/ontology/pocetDomovuProDuchodce\"),\n",
    "uri(\"http://data.czso.cz/ontology/pocetMistVDomovechProDuchodce\"),\n",
    "uri(\"http://data.czso.cz/ontology/pocetDomovuProOsobySeZdravotnimPostizenim\"),\n",
    "uri(\"http://data.czso.cz/ontology/pocetMistVDomovechProOsobySeZdravotnimPostizenim\"),\n",
    "uri(\"http://data.czso.cz/ontology/pocetAzylovychDomu\"),\n",
    "uri(\"http://data.czso.cz/ontology/pocetMistVAzylovychDomech\"),\n",
    "uri(\"http://data.czso.cz/ontology/pocetDomuSPecovatelskouSluzbou\"),\n",
    "uri(\"http://data.czso.cz/ontology/pocetBytovychJednotekVDomechSPecovatelskouSluzbou\")\n",
    ")"
   ]
  },
  {
   "cell_type": "code",
   "execution_count": 57,
   "metadata": {},
   "outputs": [],
   "source": [
    "val facilitiesPattern: RulePattern = (\n",
    "    AtomPattern(subject = 'c', `object` = 'b', graph = uri(\"wikidata\")) &:\n",
    "    //AtomPattern(subject = 'a', predicate = czsoRefPeriod, `object` = 'c') &:\n",
    "    AtomPattern(subject = 'a', predicate = czsoRefArea, `object` = 'b') &:\n",
    "    AtomPattern(subject = 'a', predicate = qbdPredicate, `object` = AnyConstant)\n",
    "    =>:\n",
    "    AtomPattern(subject = 'a', predicate = oneOfMeasures)\n",
    ")"
   ]
  },
  {
   "cell_type": "code",
   "execution_count": 58,
   "metadata": {},
   "outputs": [],
   "source": [
    "val facilitiesTask = Amie()\n",
    "    .addThreshold(Threshold.MinSupport(1))\n",
    "    .addThreshold(Threshold.MaxRuleLength(9))\n",
    "    .addThreshold(Threshold.MinHeadSize(0))\n",
    "    .addThreshold(Threshold.Timeout(1))\n",
    "    .addPattern(facilitiesPattern)"
   ]
  },
  {
   "cell_type": "code",
   "execution_count": 59,
   "metadata": {},
   "outputs": [
    {
     "name": "stderr",
     "output_type": "stream",
     "text": [
      "2021-03-30 18:20:48:043 +0200 [scala-interpreter-1] INFO com.github.propi.rdfrules.utils.Debugger - Amie task settings:\n",
      "MinHeadSize=1,\n",
      "MinHeadCoverage=0.0,\n",
      "MinSupport=1,\n",
      "MaxThreads=4,\n",
      "MinAtomSize=0,\n",
      "MaxRuleLength=9,\n",
      "WithConstants=true,\n",
      "ConstantsPosition=All,\n",
      "Timeout=60000,\n",
      "WithDuplicitPredicates=true,\n",
      "Patterns=List(Mapped(Vector(Mapped(Variable(?c),Any,Variable(?b),Constant(Constant(1350603828))), Mapped(Variable(?a),Constant(Constant(1481837794)),Variable(?b),Any), Mapped(Variable(?a),Constant(Constant(624690160)),AnyConstant,Any)),Some(Mapped(Variable(?a),OneOf(ArrayBuffer(Constant(Constant(-1020668445)), Constant(Constant(-394053961)), Constant(Constant(-970864269)), Constant(Constant(643010916)), Constant(Constant(-1550362221)), Constant(Constant(-1004845722)), Constant(Constant(-104573618)), Constant(Constant(1935867686)), Constant(Constant(420112347)), Constant(Constant(1862618459)))),Any,Any)),false,false)),\n",
      "OnlyPredicates=None,\n",
      "WithoutPredicates=None\n",
      "2021-03-30 18:21:52:943 +0200 [scala-interpreter-1] WARN com.github.propi.rdfrules.utils.Debugger - The timeout limit '1 minutes' has been exceeded during mining. The miner returns 45289 rules which need not be complete.\n"
     ]
    },
    {
     "name": "stdout",
     "output_type": "stream",
     "text": [
      "45289\n"
     ]
    }
   ],
   "source": [
    "val facilitiesTaskRuleset = index.mine(facilitiesTask)\n",
    "println(facilitiesTaskRuleset.size)"
   ]
  },
  {
   "cell_type": "code",
   "execution_count": 60,
   "metadata": {},
   "outputs": [],
   "source": [
    "val ruleset = facilitiesTaskRuleset\n",
    "ruleset\n",
    "//.filter(rule => rule.measures(Measure.Support).value > 2)\n",
    "//.computePcaConfidence(0.5)\n",
    ".export(\"../rulesets/facilitiesTaskRuleset.txt\")"
   ]
  }
 ],
 "metadata": {
  "kernelspec": {
   "display_name": "Scala",
   "language": "scala",
   "name": "scala"
  },
  "language_info": {
   "codemirror_mode": "text/x-scala",
   "file_extension": ".sc",
   "mimetype": "text/x-scala",
   "name": "scala",
   "nbconvert_exporter": "script",
   "version": "2.12.8"
  }
 },
 "nbformat": 4,
 "nbformat_minor": 4
}
