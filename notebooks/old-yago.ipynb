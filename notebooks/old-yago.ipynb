{
 "cells": [
  {
   "cell_type": "code",
   "execution_count": 1,
   "metadata": {},
   "outputs": [],
   "source": [
    "kernel.silent(true)"
   ]
  },
  {
   "cell_type": "code",
   "execution_count": 2,
   "metadata": {},
   "outputs": [],
   "source": [
    "import coursierapi.MavenRepository\n",
    "interp.repositories() ++= Seq(MavenRepository.of(\"https://jitpack.io\"))"
   ]
  },
  {
   "cell_type": "code",
   "execution_count": 3,
   "metadata": {},
   "outputs": [],
   "source": [
    "import $ivy.`com.github.propi:rdfrules:1.5.0`\n",
    "import collection._\n",
    "import org.apache.jena.riot.Lang\n",
    "\n",
    "import com.github.propi.rdfrules.data._\n",
    "import com.github.propi.rdfrules.algorithm.amie._\n",
    "import com.github.propi.rdfrules.algorithm.dbscan._\n",
    "import com.github.propi.rdfrules.utils._\n",
    "import com.github.propi.rdfrules.index._\n",
    "import com.github.propi.rdfrules.rule._\n",
    "import com.github.propi.rdfrules.ruleset._"
   ]
  },
  {
   "cell_type": "code",
   "execution_count": 4,
   "metadata": {},
   "outputs": [],
   "source": [
    "val uri = (value: String) => TripleItem.Uri(value)"
   ]
  },
  {
   "cell_type": "code",
   "execution_count": 5,
   "metadata": {},
   "outputs": [
    {
     "name": "stdout",
     "output_type": "stream",
     "text": [
      "size: 21599\n",
      "predicates: \n",
      "<http://schema.org/foundingDate>\t<http://schema.org/about>\t<http://schema.org/leiCode>\t<http://schema.org/locationCreated>\trdfs:label\trdf:type\t<http://schema.org/logo>\t<http://schema.org/image>\t<http://schema.org/subOrganization>\towl:sameAs\t<http://schema.org/url>\t<http://schema.org/containedInPlace>\t<http://schema.org/sameAs>\t<http://schema.org/homeLocation>\t<http://schema.org/deathPlace>\t<http://schema.org/birthPlace>\t<http://schema.org/contentLocation>\t<http://schema.org/geo>\t<http://schema.org/foundingLocation>\trdfs:comment\t<http://schema.org/location>\t<http://schema.org/alternateName>\t<http://schema.org/parentOrganization>\t<http://schema.org/containsPlace>\t"
     ]
    }
   ],
   "source": [
    "val regions = Graph(\"yago\", \"../data/describe-region.ttl\")\n",
    "println(\"size: \" + regions.size) \n",
    "regions.addPrefixes(Traversable(Prefix(\"schema\", \"http://schema.org/\")))\n",
    "val types: Map[TripleItem.Uri, Map[TripleItemType, Int]] = regions.types()\n",
    "println(\"predicates: \")\n",
    "for ((k,v) <- types) print(k + \"\\t\")"
   ]
  },
  {
   "cell_type": "code",
   "execution_count": 6,
   "metadata": {},
   "outputs": [
    {
     "name": "stdout",
     "output_type": "stream",
     "text": [
      "size: 27776\n",
      "predicates:\n",
      "rdfs:label\trdf:type\tschema:image\towl:sameAs\tschema:sameAs\tschema:containedInPlace\tschema:birthPlace\tschema:geo\trdfs:comment\tschema:alternateName\tschema:location\tschema:containsPlace\t"
     ]
    }
   ],
   "source": [
    "val districts = Graph(\"yago\", \"../data/describe-district.ttl\")\n",
    "println(\"size: \" + districts.size)\n",
    "val types: Map[TripleItem.Uri, Map[TripleItemType, Int]] = districts.types()\n",
    "println(\"predicates:\")\n",
    "for ((k,v) <- types) print(k + \"\\t\")"
   ]
  },
  {
   "cell_type": "code",
   "execution_count": 7,
   "metadata": {},
   "outputs": [],
   "source": [
    "val hop0 = Dataset() + regions + districts\n",
    "hop0.cache(\"../cache/yago-hop0.cache\")"
   ]
  },
  {
   "cell_type": "code",
   "execution_count": 8,
   "metadata": {},
   "outputs": [
    {
     "name": "stdout",
     "output_type": "stream",
     "text": [
      "size: 690880\n",
      "predicates: \n",
      "<http://schema.org/birthDate>\t<http://schema.org/familyName>\t<http://schema.org/knowsLanguage>\t<http://schema.org/deathDate>\t<http://schema.org/foundingDate>\t<http://schema.org/about>\t<http://schema.org/hasOccupation>\t<http://schema.org/author>\t<http://schema.org/inLanguage>\t<http://schema.org/leiCode>\t<http://schema.org/telephone>\t<http://schema.org/producer>\t<http://schema.org/locationCreated>\t<http://schema.org/composer>\t<http://schema.org/numberOfEpisodes>\trdfs:label\t<http://schema.org/copyrightHolder>\t<http://schema.org/character>\t<http://schema.org/duration>\trdf:type\t<http://schema.org/creator>\t<http://schema.org/lyricist>\t<http://schema.org/logo>\t<http://schema.org/startDate>\t<http://schema.org/icaoCode>\t<http://schema.org/alumniOf>\t<http://schema.org/image>\t<http://schema.org/worksFor>\t<http://schema.org/competitor>\t<http://schema.org/subOrganization>\t<http://schema.org/endDate>\t<http://schema.org/translator>\t<http://schema.org/productionCompany>\t<http://schema.org/actor>\t<http://schema.org/isBasedOn>\t<http://schema.org/url>\t<http://schema.org/containedInPlace>\t<http://schema.org/height>\t<http://schema.org/sameAs>\towl:sameAs\t<http://schema.org/founder>\t<http://schema.org/spouse>\t<http://schema.org/dateCreated>\t<http://schema.org/contributor>\t<http://schema.org/director>\t<http://schema.org/affiliation>\t<http://schema.org/publisher>\t<http://schema.org/parent>\t<http://schema.org/homeLocation>\t<http://schema.org/deathPlace>\t<http://schema.org/sport>\t<http://schema.org/musicBy>\t<http://schema.org/children>\t<http://schema.org/birthPlace>\t<http://schema.org/iataCode>\t<http://schema.org/material>\t<http://schema.org/contentLocation>\t<http://schema.org/faxNumber>\t<http://schema.org/geo>\t<http://schema.org/datePublished>\t<http://schema.org/editor>\t<http://schema.org/memberOf>\t<http://schema.org/subEvent>\t<http://schema.org/foundingLocation>\t<http://schema.org/superEvent>\trdfs:comment\t<http://schema.org/hasPart>\t<http://schema.org/givenName>\t<http://schema.org/nationality>\t<http://schema.org/owns>\t<http://schema.org/numberOfSeasons>\t<http://schema.org/alternateName>\t<http://schema.org/location>\t<http://schema.org/genre>\t<http://schema.org/honorificPrefix>\t<http://schema.org/award>\t<http://schema.org/parentOrganization>\t<http://schema.org/gender>\t<http://schema.org/sponsor>\t<http://schema.org/countryOfOrigin>\t<http://schema.org/containsPlace>\t<http://schema.org/dissolutionDate>\t<http://schema.org/byArtist>\t"
     ]
    }
   ],
   "source": [
    "val regionsHop1 = Graph(\"yago\", \"../data/describe-region-hop1.xml\")\n",
    "println(\"size: \" + regionsHop1.size)\n",
    "val types: Map[TripleItem.Uri, Map[TripleItemType, Int]] = regionsHop1.types()\n",
    "println(\"predicates: \")\n",
    "for ((k,v) <- types) print(k + \"\\t\")"
   ]
  },
  {
   "cell_type": "code",
   "execution_count": 9,
   "metadata": {},
   "outputs": [
    {
     "name": "stdout",
     "output_type": "stream",
     "text": [
      "size: 517933\n",
      "predicates: \n",
      "schema:birthDate\tschema:familyName\tschema:knowsLanguage\tschema:deathDate\tschema:foundingDate\tschema:hasOccupation\tschema:leiCode\tschema:producer\tschema:locationCreated\trdfs:label\trdf:type\tschema:logo\tschema:alumniOf\tschema:image\tschema:subOrganization\tschema:elevation\tschema:url\tschema:containedInPlace\tschema:founder\towl:sameAs\tschema:sameAs\tschema:homeLocation\tschema:deathPlace\tschema:birthPlace\tschema:contentLocation\tschema:geo\tschema:memberOf\tschema:foundingLocation\trdfs:comment\tschema:givenName\tschema:nationality\tschema:alternateName\tschema:location\tschema:gender\tschema:parentOrganization\tschema:award\tschema:containsPlace\tschema:dissolutionDate\t"
     ]
    }
   ],
   "source": [
    "val districtsHop1 = Graph(\"yago\", \"../data/describe-district-hop1.xml\")\n",
    "println(\"size: \" + districtsHop1.size)\n",
    "val types: Map[TripleItem.Uri, Map[TripleItemType, Int]] = districtsHop1.types()\n",
    "println(\"predicates: \")\n",
    "for ((k,v) <- types) print(k + \"\\t\")"
   ]
  },
  {
   "cell_type": "code",
   "execution_count": 10,
   "metadata": {},
   "outputs": [],
   "source": [
    "val hop1 = Dataset() + regionsHop1 + districtsHop1\n",
    "hop1.cache(\"../cache/yago-hop1.cache\")"
   ]
  },
  {
   "cell_type": "code",
   "execution_count": 11,
   "metadata": {},
   "outputs": [
    {
     "name": "stdout",
     "output_type": "stream",
     "text": [
      "size: 1909567\n",
      "predicates: \n",
      "<http://schema.org/birthDate>\t<http://schema.org/familyName>\t<http://schema.org/knowsLanguage>\t<http://schema.org/deathDate>\t<http://schema.org/foundingDate>\t<http://schema.org/issn>\t<http://schema.org/about>\t<http://schema.org/hasOccupation>\t<http://schema.org/author>\t<http://schema.org/inLanguage>\t<http://schema.org/leiCode>\t<http://schema.org/colorist>\t<http://schema.org/telephone>\t<http://schema.org/producer>\t<http://schema.org/locationCreated>\t<http://schema.org/composer>\t<http://schema.org/numberOfEpisodes>\t<http://www.w3.org/2000/01/rdf-schema#label>\t<http://schema.org/copyrightHolder>\t<http://schema.org/character>\t<http://www.w3.org/1999/02/22-rdf-syntax-ns#type>\t<http://schema.org/duration>\t<http://schema.org/creator>\t<http://schema.org/iswcCode>\t<http://schema.org/lyricist>\t<http://schema.org/logo>\t<http://schema.org/icaoCode>\t<http://schema.org/startDate>\t<http://schema.org/alumniOf>\t<http://schema.org/isPartOf>\t<http://schema.org/image>\t<http://schema.org/worksFor>\t<http://schema.org/competitor>\t<http://schema.org/subOrganization>\t<http://schema.org/numberOfEmployees>\t<http://schema.org/brand>\t<http://schema.org/endDate>\t<http://schema.org/translator>\t<http://schema.org/exampleOfWork>\t<http://schema.org/actor>\t<http://schema.org/productionCompany>\t<http://schema.org/elevation>\t<http://schema.org/isBasedOn>\t<http://schema.org/url>\t<http://schema.org/containedInPlace>\t<http://schema.org/height>\t<http://schema.org/sameAs>\t<http://www.w3.org/2002/07/owl#sameAs>\t<http://schema.org/founder>\t<http://schema.org/spouse>\t<http://schema.org/dateCreated>\t<http://schema.org/contributor>\t<http://schema.org/numberOfPages>\t<http://schema.org/director>\t<http://schema.org/workExample>\t<http://schema.org/affiliation>\t<http://schema.org/publisher>\t<http://schema.org/parent>\t<http://schema.org/homeLocation>\t<http://schema.org/deathPlace>\t<http://schema.org/sport>\t<http://schema.org/musicBy>\t<http://schema.org/children>\t<http://schema.org/birthPlace>\t<http://schema.org/iataCode>\t<http://schema.org/material>\t<http://schema.org/contentLocation>\t<http://schema.org/faxNumber>\t<http://schema.org/organizer>\t<http://schema.org/geo>\t<http://schema.org/editor>\t<http://schema.org/datePublished>\t<http://schema.org/memberOf>\t<http://schema.org/subEvent>\t<http://schema.org/partOfSeries>\t<http://schema.org/foundingLocation>\t<http://schema.org/superEvent>\t<http://www.w3.org/2000/01/rdf-schema#comment>\t<http://schema.org/hasPart>\t<http://schema.org/givenName>\t<http://schema.org/nationality>\t<http://schema.org/owns>\t<http://schema.org/numberOfSeasons>\t<http://schema.org/alternateName>\t<http://schema.org/location>\t<http://schema.org/honorificPrefix>\t<http://schema.org/genre>\t<http://schema.org/citation>\t<http://schema.org/award>\t<http://schema.org/parentOrganization>\t<http://schema.org/gender>\t<http://schema.org/sponsor>\t<http://schema.org/countryOfOrigin>\t<http://schema.org/containsPlace>\t<http://schema.org/dissolutionDate>\t<http://schema.org/byArtist>\t"
     ]
    }
   ],
   "source": [
    "val regionsHop2_1 = Graph(\"yago\", \"../data/describe-region-hop2_1.ttl\")\n",
    "val regionsHop2_2 = Graph(\"yago\", \"../data/describe-region-hop2_2.ttl\")\n",
    "val regionsHop2_3 = Graph(\"yago\", \"../data/describe-region-hop2_3.ttl\")\n",
    "val regionsHop2_4 = Graph(\"yago\", \"../data/describe-region-hop2_4.ttl\")\n",
    "val regionsHop2 = Dataset() + regionsHop2_1 + regionsHop2_2 + regionsHop2_3 + regionsHop2_4\n",
    "println(\"size: \" + regionsHop2.size)\n",
    "val types: Map[TripleItem.Uri, Map[TripleItemType, Int]] = regionsHop2.types()\n",
    "println(\"predicates: \")\n",
    "for ((k,v) <- types) print(k + \"\\t\")"
   ]
  },
  {
   "cell_type": "code",
   "execution_count": 12,
   "metadata": {},
   "outputs": [
    {
     "name": "stdout",
     "output_type": "stream",
     "text": [
      "size: 1663818\n",
      "predicates: \n",
      "<http://schema.org/birthDate>\t<http://schema.org/familyName>\t<http://schema.org/knowsLanguage>\t<http://schema.org/foundingDate>\t<http://schema.org/deathDate>\t<http://schema.org/about>\t<http://schema.org/hasOccupation>\t<http://schema.org/author>\t<http://schema.org/inLanguage>\t<http://schema.org/illustrator>\t<http://schema.org/leiCode>\t<http://schema.org/telephone>\t<http://schema.org/producer>\t<http://schema.org/locationCreated>\t<http://schema.org/composer>\t<http://schema.org/numberOfEpisodes>\t<http://www.w3.org/2000/01/rdf-schema#label>\t<http://schema.org/copyrightHolder>\t<http://schema.org/character>\t<http://schema.org/duration>\t<http://www.w3.org/1999/02/22-rdf-syntax-ns#type>\t<http://schema.org/creator>\t<http://schema.org/lyricist>\t<http://schema.org/logo>\t<http://schema.org/icaoCode>\t<http://schema.org/startDate>\t<http://schema.org/alumniOf>\t<http://schema.org/image>\t<http://schema.org/worksFor>\t<http://schema.org/competitor>\t<http://schema.org/subOrganization>\t<http://schema.org/numberOfEmployees>\t<http://schema.org/brand>\t<http://schema.org/endDate>\t<http://schema.org/translator>\t<http://schema.org/actor>\t<http://schema.org/productionCompany>\t<http://schema.org/elevation>\t<http://schema.org/url>\t<http://schema.org/containedInPlace>\t<http://schema.org/height>\t<http://schema.org/sameAs>\t<http://www.w3.org/2002/07/owl#sameAs>\t<http://schema.org/founder>\t<http://schema.org/spouse>\t<http://schema.org/contributor>\t<http://schema.org/director>\t<http://schema.org/affiliation>\t<http://schema.org/publisher>\t<http://schema.org/parent>\t<http://schema.org/homeLocation>\t<http://schema.org/deathPlace>\t<http://schema.org/sport>\t<http://schema.org/musicBy>\t<http://schema.org/children>\t<http://schema.org/birthPlace>\t<http://schema.org/iataCode>\t<http://schema.org/material>\t<http://schema.org/contentLocation>\t<http://schema.org/faxNumber>\t<http://schema.org/geo>\t<http://schema.org/datePublished>\t<http://schema.org/editor>\t<http://schema.org/memberOf>\t<http://schema.org/subEvent>\t<http://schema.org/foundingLocation>\t<http://schema.org/superEvent>\t<http://www.w3.org/2000/01/rdf-schema#comment>\t<http://schema.org/givenName>\t<http://schema.org/nationality>\t<http://schema.org/owns>\t<http://schema.org/numberOfSeasons>\t<http://schema.org/alternateName>\t<http://schema.org/location>\t<http://schema.org/honorificPrefix>\t<http://schema.org/genre>\t<http://schema.org/award>\t<http://schema.org/parentOrganization>\t<http://schema.org/gender>\t<http://schema.org/sponsor>\t<http://schema.org/countryOfOrigin>\t<http://schema.org/containsPlace>\t<http://schema.org/byArtist>\t<http://schema.org/dissolutionDate>\t"
     ]
    }
   ],
   "source": [
    "val districtsHop2_1 = Graph(\"yago\", \"../data/describe-district-hop2_1.ttl\")\n",
    "val districtsHop2_2 = Graph(\"yago\", \"../data/describe-district-hop2_2.ttl\")\n",
    "val districtsHop2_3 = Graph(\"yago\", \"../data/describe-district-hop2_3.ttl\")\n",
    "val districtsHop2_4 = Graph(\"yago\", \"../data/describe-district-hop2_4.ttl\")\n",
    "val districtsHop2 = Dataset() + districtsHop2_1 + districtsHop2_2 + districtsHop2_3 + districtsHop2_4\n",
    "println(\"size: \" + districtsHop2.size)\n",
    "val types: Map[TripleItem.Uri, Map[TripleItemType, Int]] = districtsHop2.types()\n",
    "println(\"predicates: \")\n",
    "for ((k,v) <- types) print(k + \"\\t\")"
   ]
  },
  {
   "cell_type": "code",
   "execution_count": 13,
   "metadata": {},
   "outputs": [],
   "source": [
    "val hop2 = Dataset() + regionsHop2 + districtsHop2\n",
    "hop2.cache(\"../cache/yago-hop2.cache\")"
   ]
  }
 ],
 "metadata": {
  "kernelspec": {
   "display_name": "Scala",
   "language": "scala",
   "name": "scala"
  },
  "language_info": {
   "codemirror_mode": "text/x-scala",
   "file_extension": ".sc",
   "mimetype": "text/x-scala",
   "name": "scala",
   "nbconvert_exporter": "script",
   "version": "2.12.8"
  }
 },
 "nbformat": 4,
 "nbformat_minor": 4
}
