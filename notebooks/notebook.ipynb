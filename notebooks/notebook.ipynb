{
 "cells": [
  {
   "cell_type": "code",
   "execution_count": null,
   "metadata": {},
   "outputs": [],
   "source": [
    "kernel.silent(true)"
   ]
  },
  {
   "cell_type": "code",
   "execution_count": null,
   "metadata": {},
   "outputs": [],
   "source": [
    "import coursierapi.MavenRepository\n",
    "interp.repositories() ++= Seq(MavenRepository.of(\"https://jitpack.io\"))"
   ]
  },
  {
   "cell_type": "code",
   "execution_count": null,
   "metadata": {},
   "outputs": [],
   "source": [
    "import $ivy.`com.github.propi:rdfrules:1.5.0`\n",
    "import collection._\n",
    "import org.apache.jena.riot.Lang\n",
    "\n",
    "import com.github.propi.rdfrules.data._\n",
    "import com.github.propi.rdfrules.algorithm.amie._\n",
    "import com.github.propi.rdfrules.algorithm.dbscan._\n",
    "import com.github.propi.rdfrules.utils._\n",
    "import com.github.propi.rdfrules.index._\n",
    "import com.github.propi.rdfrules.rule._\n",
    "import com.github.propi.rdfrules.ruleset._"
   ]
  },
  {
   "cell_type": "code",
   "execution_count": null,
   "metadata": {},
   "outputs": [],
   "source": [
    "val graph = Graph(\"data/czso-average-salaries.trig\")\n",
    "graph.cache(\"graph.cache\")"
   ]
  },
  {
   "cell_type": "code",
   "execution_count": null,
   "metadata": {},
   "outputs": [],
   "source": [
    "val graph = Graph.fromCache(\"graph.cache\")"
   ]
  },
  {
   "cell_type": "code",
   "execution_count": null,
   "metadata": {},
   "outputs": [],
   "source": [
    "var dataset = Dataset() + graph\n",
    "dataset.cache(\"dataset.cache\")"
   ]
  },
  {
   "cell_type": "code",
   "execution_count": null,
   "metadata": {},
   "outputs": [],
   "source": [
    "var dataset = Dataset.fromCache(\"dataset.cache\")"
   ]
  },
  {
   "cell_type": "code",
   "execution_count": null,
   "metadata": {},
   "outputs": [],
   "source": [
    "val types: Map[TripleItem.Uri, Map[TripleItemType, Int]] = dataset.types()"
   ]
  },
  {
   "cell_type": "code",
   "execution_count": null,
   "metadata": {},
   "outputs": [],
   "source": [
    "dataset.size"
   ]
  },
  {
   "cell_type": "code",
   "execution_count": null,
   "metadata": {},
   "outputs": [],
   "source": [
    "val histogram: Map[Histogram.Key, Int] = dataset.histogram(predicate = true, `object` = true)"
   ]
  },
  {
   "cell_type": "code",
   "execution_count": null,
   "metadata": {},
   "outputs": [],
   "source": [
    "val index = dataset.index()\n",
    "index.cache(\"index.cache\")"
   ]
  },
  {
   "cell_type": "code",
   "execution_count": null,
   "metadata": {},
   "outputs": [],
   "source": [
    "import eu.easyminer.discretization.impl.Interval\n",
    "dataset = dataset.discretize(DiscretizationTask.Equifrequency(5))(quad => quad.triple.predicate.hasSameUriAs(\"http://data.czso.cz/ontology/medianMzdy\"))\n",
    "dataset = dataset.discretize(DiscretizationTask.Equifrequency(5))(quad => quad.triple.predicate.hasSameUriAs(\"http://data.czso.cz/ontology/prumernaMzda\"))"
   ]
  },
  {
   "cell_type": "code",
   "execution_count": null,
   "metadata": {},
   "outputs": [],
   "source": [
    "val index = Index.fromCache(\"index.cache\", false)"
   ]
  },
  {
   "cell_type": "code",
   "execution_count": null,
   "metadata": {},
   "outputs": [],
   "source": [
    "Debugger() { implicit debugger =>\n",
    "    val miningTask = Amie()\n",
    "    index.mine(miningTask)\n",
    "}"
   ]
  },
  {
   "cell_type": "code",
   "execution_count": null,
   "metadata": {},
   "outputs": [],
   "source": [
    "com.github.propi.rdfrules.rule.AtomPattern.AtomItemPattern\n",
    "AtomPattern.AtomItemPattern.Constant\n",
    "new AtomPattern.AtomItemPattern.Constant(null)\n",
    "AnyConstant\n",
    "ConstantsPosition.Object"
   ]
  },
  {
   "cell_type": "code",
   "execution_count": null,
   "metadata": {},
   "outputs": [],
   "source": [
    "ConstantsPosition.Object"
   ]
  },
  {
   "cell_type": "code",
   "execution_count": null,
   "metadata": {},
   "outputs": [],
   "source": [
    "val constantsAtObject = RuleConstraint.ConstantsAtPosition.ConstantsPosition.Object\n",
    "val onlyObjectConstants = RuleConstraint.ConstantsAtPosition(constantsAtObject)\n",
    "val constantsNowhere = RuleConstraint.ConstantsAtPosition.ConstantsPosition.Nowhere\n",
    "val noConstants = RuleConstraint.ConstantsAtPosition(constantsNowhere)\n",
    "\n",
    "val preparedMiningTask = Amie()\n",
    ".addThreshold(Threshold.MinHeadCoverage(0.2))\n",
    ".addThreshold(Threshold.MinSupport(20))\n",
    ".addConstraint(onlyObjectConstants)\n",
    ".addPattern(\n",
    "AtomPattern(\n",
    "    predicate = TripleItem.Uri(\"http://data.czso.cz/ontology/medianMzdy\"), `object`=AnyConstant)\n",
    ")\n",
    "\n",
    "preparedMiningTask\n",
    "/*.addConstraint(onlyObjectConstants)\n",
    ".addPattern(\n",
    "        AtomPattern(predicate = TripleItem.Uri(\"isMarriedTo\"))  // * => isMarriedTo(Any, Any)\n",
    ")\n",
    ".addPattern(\n",
    "        AtomPattern(subject = 'a', predicate = TripleItem.Uri(\"isCitizenOf\"), `object` = 'b') \n",
    "    &:  AtomPattern(subject = 'b', predicate = TripleItem.Uri(\"participatedIn\")) \n",
    "    //=>: None\n",
    "    =>: AtomPattern(subject = 'a')\n",
    ")*/\n"
   ]
  },
  {
   "cell_type": "code",
   "execution_count": null,
   "metadata": {},
   "outputs": [],
   "source": [
    "var ruleset = index.mine(preparedMiningTask)\n",
    "ruleset.cache(\"rules.cache\")\n",
    "ruleset.foreach(println)\n",
    "preparedMiningTask"
   ]
  },
  {
   "cell_type": "code",
   "execution_count": null,
   "metadata": {},
   "outputs": [],
   "source": [
    "var ruleset = Ruleset.fromCache(\"rules.cache\")"
   ]
  },
  {
   "cell_type": "code",
   "execution_count": null,
   "metadata": {},
   "outputs": [],
   "source": [
    "/*var ruleset = index.mine(preparedMiningTask)\n",
    "ruleset = ruleset\n",
    ".filter(rule => rule.measures(Measure.HeadCoverage).value > 0.02)\n",
    ".computeConfidence(0.5)\n",
    ".computePcaConfidence(0.5)\n",
    ".computeLift()\n",
    ".sortBy(Measure.HeadCoverage, Measure.Lift)\n",
    ".makeClusters(DbScan(minNeighbours = 3, minSimilarity = 0.85))\n",
    "    \n",
    "ruleset.export(\"rules.txt\")\n",
    "println(ruleset.size)\n",
    "*/\n",
    "ruleset.foreach(println)"
   ]
  }
 ],
 "metadata": {
  "kernelspec": {
   "display_name": "Scala",
   "language": "scala",
   "name": "scala"
  },
  "language_info": {
   "codemirror_mode": "text/x-scala",
   "file_extension": ".sc",
   "mimetype": "text/x-scala",
   "name": "scala",
   "nbconvert_exporter": "script",
   "version": "2.12.8"
  }
 },
 "nbformat": 4,
 "nbformat_minor": 4
}
