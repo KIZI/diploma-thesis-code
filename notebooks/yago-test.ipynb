{
 "cells": [
  {
   "cell_type": "code",
   "execution_count": 1,
   "id": "cd0e0920-18d7-44f4-9990-261bc1bda709",
   "metadata": {},
   "outputs": [
    {
     "data": {
      "text/plain": [
       "\u001b[32mimport \u001b[39m\u001b[36mcoursierapi.MavenRepository\n",
       "\u001b[39m"
      ]
     },
     "execution_count": 1,
     "metadata": {},
     "output_type": "execute_result"
    }
   ],
   "source": [
    "import coursierapi.MavenRepository\n",
    "interp.repositories() ++= Seq(MavenRepository.of(\"https://jitpack.io\"))"
   ]
  },
  {
   "cell_type": "code",
   "execution_count": 2,
   "id": "bd3f212c-b8e6-4cf0-a6a9-bbf3f97a19b8",
   "metadata": {},
   "outputs": [
    {
     "data": {
      "text/plain": [
       "\u001b[32mimport \u001b[39m\u001b[36m$ivy.$                                \n",
       "//import $ivy.`com.github.propi.rdfrules::core:1.0.0`\n",
       "\u001b[39m\n",
       "\u001b[32mimport \u001b[39m\u001b[36mcollection._\n",
       "\u001b[39m\n",
       "\u001b[32mimport \u001b[39m\u001b[36morg.apache.jena.riot.Lang\n",
       "\u001b[39m\n",
       "\u001b[32mimport \u001b[39m\u001b[36mscala.util.control.Breaks._\n",
       "\u001b[39m\n",
       "\u001b[32mimport \u001b[39m\u001b[36mscala.collection.immutable.ListMap\u001b[39m"
      ]
     },
     "execution_count": 2,
     "metadata": {},
     "output_type": "execute_result"
    }
   ],
   "source": [
    "import $ivy.`com.github.propi:rdfrules:1.5.0`\n",
    "//import $ivy.`com.github.propi.rdfrules::core:1.0.0`\n",
    "import collection._\n",
    "import org.apache.jena.riot.Lang\n",
    "import scala.util.control.Breaks._\n",
    "import scala.collection.immutable.ListMap"
   ]
  },
  {
   "cell_type": "code",
   "execution_count": 3,
   "id": "7827e998-f6a6-4edf-a476-e2a4f87e7c97",
   "metadata": {},
   "outputs": [
    {
     "data": {
      "text/plain": [
       "\u001b[32mimport \u001b[39m\u001b[36mcom.github.propi.rdfrules.data._\n",
       "\u001b[39m\n",
       "\u001b[32mimport \u001b[39m\u001b[36mcom.github.propi.rdfrules.algorithm.amie._\n",
       "\u001b[39m\n",
       "\u001b[32mimport \u001b[39m\u001b[36mcom.github.propi.rdfrules.algorithm.dbscan._\n",
       "\u001b[39m\n",
       "\u001b[32mimport \u001b[39m\u001b[36mcom.github.propi.rdfrules.utils._\n",
       "\u001b[39m\n",
       "\u001b[32mimport \u001b[39m\u001b[36mcom.github.propi.rdfrules.index._\n",
       "\u001b[39m\n",
       "\u001b[32mimport \u001b[39m\u001b[36mcom.github.propi.rdfrules.rule._\n",
       "\u001b[39m\n",
       "\u001b[32mimport \u001b[39m\u001b[36mcom.github.propi.rdfrules.ruleset._\u001b[39m"
      ]
     },
     "execution_count": 3,
     "metadata": {},
     "output_type": "execute_result"
    }
   ],
   "source": [
    "import com.github.propi.rdfrules.data._\n",
    "import com.github.propi.rdfrules.algorithm.amie._\n",
    "import com.github.propi.rdfrules.algorithm.dbscan._\n",
    "import com.github.propi.rdfrules.utils._\n",
    "import com.github.propi.rdfrules.index._\n",
    "import com.github.propi.rdfrules.rule._\n",
    "import com.github.propi.rdfrules.ruleset._"
   ]
  },
  {
   "cell_type": "code",
   "execution_count": 4,
   "id": "64aa68c3-7cbb-4e01-94af-ed1af72a4931",
   "metadata": {},
   "outputs": [
    {
     "data": {
      "text/plain": [
       "\u001b[32mimport \u001b[39m\u001b[36mcom.github.propi.rdfrules.rule.Threshold\n",
       "\u001b[39m\n",
       "\u001b[32mimport \u001b[39m\u001b[36mcom.github.propi.rdfrules.algorithm.amie.Amie\u001b[39m"
      ]
     },
     "execution_count": 4,
     "metadata": {},
     "output_type": "execute_result"
    }
   ],
   "source": [
    "import com.github.propi.rdfrules.rule.Threshold\n",
    "import com.github.propi.rdfrules.algorithm.amie.Amie"
   ]
  },
  {
   "cell_type": "code",
   "execution_count": 5,
   "id": "050e84eb-dd2e-4159-83fa-d51a5db9c92f",
   "metadata": {},
   "outputs": [
    {
     "data": {
      "text/plain": [
       "\u001b[36myagoHop0\u001b[39m: \u001b[32mDataset\u001b[39m = com.github.propi.rdfrules.data.Dataset@70f44ca6"
      ]
     },
     "execution_count": 5,
     "metadata": {},
     "output_type": "execute_result"
    }
   ],
   "source": [
    "val yagoHop0 = Dataset.fromCache(\"../cache/yago-hop0.cache\")"
   ]
  },
  {
   "cell_type": "code",
   "execution_count": 6,
   "id": "48b68623-fbff-4ecb-815f-3462e1e47596",
   "metadata": {},
   "outputs": [
    {
     "data": {
      "text/plain": [
       "\u001b[36mres5\u001b[39m: \u001b[32mInt\u001b[39m = \u001b[32m49375\u001b[39m"
      ]
     },
     "execution_count": 6,
     "metadata": {},
     "output_type": "execute_result"
    }
   ],
   "source": [
    "yagoHop0.size"
   ]
  },
  {
   "cell_type": "code",
   "execution_count": 7,
   "id": "aea1c6dd-5777-42bb-a302-d0ac810e2183",
   "metadata": {},
   "outputs": [
    {
     "data": {
      "text/plain": [
       "\u001b[36myagoHop0Index\u001b[39m: \u001b[32mIndex\u001b[39m = com.github.propi.rdfrules.index.Index$FromDatasetFullyPreservedIndex@518507ae"
      ]
     },
     "execution_count": 7,
     "metadata": {},
     "output_type": "execute_result"
    }
   ],
   "source": [
    "val yagoHop0Index = yagoHop0.index()"
   ]
  },
  {
   "cell_type": "code",
   "execution_count": 8,
   "id": "afa30ae6-7c8c-4c2e-a21d-98c04976acae",
   "metadata": {},
   "outputs": [
    {
     "data": {
      "text/plain": [
       "\u001b[36mres7\u001b[39m: \u001b[32mInt\u001b[39m = \u001b[32m1367672750\u001b[39m"
      ]
     },
     "execution_count": 8,
     "metadata": {},
     "output_type": "execute_result"
    }
   ],
   "source": [
    "yagoHop0Index.hashCode()"
   ]
  },
  {
   "cell_type": "code",
   "execution_count": 9,
   "id": "33d64ece-4e86-4746-9da9-dfd83d7408ee",
   "metadata": {},
   "outputs": [
    {
     "data": {
      "text/plain": [
       "\u001b[36mminingTask1\u001b[39m: \u001b[32mcom\u001b[39m.\u001b[32mgithub\u001b[39m.\u001b[32mpropi\u001b[39m.\u001b[32mrdfrules\u001b[39m.\u001b[32malgorithm\u001b[39m.\u001b[32mRulesMining\u001b[39m = com.github.propi.rdfrules.algorithm.amie.Amie@137185db"
      ]
     },
     "execution_count": 9,
     "metadata": {},
     "output_type": "execute_result"
    }
   ],
   "source": [
    "val miningTask1 = Amie()\n",
    ".addThreshold(Threshold.MaxRuleLength(3))\n",
    ".addThreshold(Threshold.MinSupport(5000))\n",
    ".addThreshold(Threshold.Timeout(1))"
   ]
  },
  {
   "cell_type": "code",
   "execution_count": 10,
   "id": "7363e7c0-8fbe-40bb-9a47-48cd4bc35861",
   "metadata": {},
   "outputs": [
    {
     "name": "stderr",
     "output_type": "stream",
     "text": [
      "2021-05-20 12:10:53:681 +0200 [scala-interpreter-1] INFO com.github.propi.rdfrules.utils.Debugger - Predicates trimming.\n",
      "2021-05-20 12:10:53:728 +0200 [scala-interpreter-1] INFO com.github.propi.rdfrules.utils.Debugger - Subjects indexing.\n",
      "2021-05-20 12:10:53:824 +0200 [scala-interpreter-1] INFO com.github.propi.rdfrules.utils.Debugger - Subjects trimming.\n",
      "2021-05-20 12:10:53:861 +0200 [scala-interpreter-1] INFO com.github.propi.rdfrules.utils.Debugger - Objects indexing.\n",
      "2021-05-20 12:10:53:914 +0200 [scala-interpreter-1] INFO com.github.propi.rdfrules.utils.Debugger - Objects trimming.\n",
      "2021-05-20 12:10:53:951 +0200 [scala-interpreter-1] INFO com.github.propi.rdfrules.utils.Debugger - Amie task settings:\n",
      "MinHeadSize=100,\n",
      "MinHeadCoverage=0.0,\n",
      "MinSupport=5000,\n",
      "MaxThreads=4,\n",
      "MinAtomSize=0,\n",
      "MaxRuleLength=3,\n",
      "WithConstants=true,\n",
      "ConstantsPosition=All,\n",
      "Timeout=60000,\n",
      "WithDuplicitPredicates=true,\n",
      "Patterns=List(),\n",
      "OnlyPredicates=None,\n",
      "WithoutPredicates=None\n",
      "2021-05-20 12:11:24:172 +0200 [Thread-0] INFO com.github.propi.rdfrules.utils.Debugger - Long refining of rule  -> (?a <http://schema.org/birthPlace> ?b) | support: 8020, headCoverage: 1.0, headSize: 8020. Projections size: 22550. Step: 3163 of 8020\n",
      "2021-05-20 12:11:24:172 +0200 [Thread-2] INFO com.github.propi.rdfrules.utils.Debugger - Long refining of rule  -> (?a <http://schema.org/deathPlace> ?b) | support: 6949, headCoverage: 1.0, headSize: 6949. Projections size: 18965. Step: 3262 of 6949\n",
      "2021-05-20 12:11:54:170 +0200 [Thread-0] INFO com.github.propi.rdfrules.utils.Debugger - Long refining of rule  -> (?a <http://schema.org/birthPlace> ?b) | support: 8020, headCoverage: 1.0, headSize: 8020. Projections size: 24752. Step: 6940 of 8020\n",
      "2021-05-20 12:11:54:180 +0200 [scala-interpreter-1] WARN com.github.propi.rdfrules.utils.Debugger - The timeout limit '1 minutes' has been exceeded during mining. The miner returns 6 rules which need not be complete.\n"
     ]
    },
    {
     "name": "stdout",
     "output_type": "stream",
     "text": [
      "rules: 6\n",
      "duration: 61s\n"
     ]
    },
    {
     "data": {
      "text/plain": [
       "\u001b[36mstartTimeMillis\u001b[39m: \u001b[32mLong\u001b[39m = \u001b[32m1621505452963L\u001b[39m\n",
       "\u001b[36mruleset1\u001b[39m: \u001b[32mRuleset\u001b[39m = com.github.propi.rdfrules.ruleset.Ruleset@51c0a8d"
      ]
     },
     "execution_count": 10,
     "metadata": {},
     "output_type": "execute_result"
    }
   ],
   "source": [
    "val startTimeMillis = System.currentTimeMillis()\n",
    "val ruleset1 = yagoHop0Index.mine(miningTask1)\n",
    "println(\"rules: \"+ruleset1.size)\n",
    "println(\"duration: \" + (System.currentTimeMillis() - startTimeMillis) / 1000 + \"s\")"
   ]
  },
  {
   "cell_type": "code",
   "execution_count": 11,
   "id": "3b9fd3a9-89db-49b2-b5db-03afda156fd2",
   "metadata": {},
   "outputs": [
    {
     "data": {
      "text/plain": [
       "\u001b[36mjaur\u001b[39m: \u001b[32mDataset\u001b[39m = com.github.propi.rdfrules.data.Dataset@4917d06"
      ]
     },
     "execution_count": 11,
     "metadata": {},
     "output_type": "execute_result"
    }
   ],
   "source": [
    "val jaur = Dataset.fromCache(\"../cache/jaurCube.cache\")"
   ]
  },
  {
   "cell_type": "code",
   "execution_count": 12,
   "id": "bc1d1bcc-84a4-451d-9762-40b0518870a9",
   "metadata": {},
   "outputs": [
    {
     "data": {
      "text/plain": [
       "\u001b[36mjaurIndex\u001b[39m: \u001b[32mIndex\u001b[39m = com.github.propi.rdfrules.index.Index$FromDatasetFullyPreservedIndex@26d02fba"
      ]
     },
     "execution_count": 12,
     "metadata": {},
     "output_type": "execute_result"
    }
   ],
   "source": [
    "val jaurIndex = jaur.index()"
   ]
  },
  {
   "cell_type": "code",
   "execution_count": 13,
   "id": "49c4a32a-c9a9-42d7-aea4-d87216f96a54",
   "metadata": {},
   "outputs": [
    {
     "data": {
      "text/plain": [
       "\u001b[36mres12\u001b[39m: \u001b[32mInt\u001b[39m = \u001b[32m651177914\u001b[39m"
      ]
     },
     "execution_count": 13,
     "metadata": {},
     "output_type": "execute_result"
    }
   ],
   "source": [
    "jaurIndex.hashCode()"
   ]
  },
  {
   "cell_type": "code",
   "execution_count": 14,
   "id": "57080bd9-eeee-4aeb-8811-149e65b47e93",
   "metadata": {},
   "outputs": [
    {
     "data": {
      "text/plain": [
       "\u001b[36mminingTask2\u001b[39m: \u001b[32mcom\u001b[39m.\u001b[32mgithub\u001b[39m.\u001b[32mpropi\u001b[39m.\u001b[32mrdfrules\u001b[39m.\u001b[32malgorithm\u001b[39m.\u001b[32mRulesMining\u001b[39m = com.github.propi.rdfrules.algorithm.amie.Amie@5e1e25cd"
      ]
     },
     "execution_count": 14,
     "metadata": {},
     "output_type": "execute_result"
    }
   ],
   "source": [
    "val miningTask2 = Amie()\n",
    ".addThreshold(Threshold.MaxRuleLength(3))\n",
    ".addThreshold(Threshold.MinSupport(1350))\n",
    ".addThreshold(Threshold.Timeout(1))"
   ]
  },
  {
   "cell_type": "code",
   "execution_count": 15,
   "id": "9ad9e210-033f-4031-bb6e-08b19e56abf1",
   "metadata": {},
   "outputs": [
    {
     "name": "stderr",
     "output_type": "stream",
     "text": [
      "2021-05-20 12:11:55:753 +0200 [scala-interpreter-1] INFO com.github.propi.rdfrules.utils.Debugger - Predicates trimming.\n",
      "2021-05-20 12:11:55:780 +0200 [scala-interpreter-1] INFO com.github.propi.rdfrules.utils.Debugger - Subjects indexing.\n",
      "2021-05-20 12:11:55:835 +0200 [scala-interpreter-1] INFO com.github.propi.rdfrules.utils.Debugger - Subjects trimming.\n",
      "2021-05-20 12:11:55:851 +0200 [scala-interpreter-1] INFO com.github.propi.rdfrules.utils.Debugger - Objects indexing.\n",
      "2021-05-20 12:11:55:885 +0200 [scala-interpreter-1] INFO com.github.propi.rdfrules.utils.Debugger - Objects trimming.\n",
      "2021-05-20 12:11:55:887 +0200 [scala-interpreter-1] INFO com.github.propi.rdfrules.utils.Debugger - Amie task settings:\n",
      "MinHeadSize=100,\n",
      "MinHeadCoverage=0.0,\n",
      "MinSupport=1350,\n",
      "MaxThreads=4,\n",
      "MinAtomSize=0,\n",
      "MaxRuleLength=3,\n",
      "WithConstants=true,\n",
      "ConstantsPosition=All,\n",
      "Timeout=60000,\n",
      "WithDuplicitPredicates=true,\n",
      "Patterns=List(),\n",
      "OnlyPredicates=None,\n",
      "WithoutPredicates=None\n"
     ]
    },
    {
     "name": "stdout",
     "output_type": "stream",
     "text": [
      "rules: 7544\n",
      "duration: 45s\n"
     ]
    },
    {
     "data": {
      "text/plain": [
       "\u001b[36mstartTimeMillis\u001b[39m: \u001b[32mLong\u001b[39m = \u001b[32m1621505515447L\u001b[39m\n",
       "\u001b[36mruleset2\u001b[39m: \u001b[32mRuleset\u001b[39m = com.github.propi.rdfrules.ruleset.Ruleset@2987b44b"
      ]
     },
     "execution_count": 15,
     "metadata": {},
     "output_type": "execute_result"
    }
   ],
   "source": [
    "val startTimeMillis = System.currentTimeMillis()\n",
    "val ruleset2 = jaurIndex.mine(miningTask2)\n",
    "println(\"rules: \"+ruleset2.size)\n",
    "println(\"duration: \" + (System.currentTimeMillis() - startTimeMillis) / 1000 + \"s\")"
   ]
  },
  {
   "cell_type": "code",
   "execution_count": 16,
   "id": "ccb0c737-b823-4ebc-bbc2-4cdd44933567",
   "metadata": {},
   "outputs": [
    {
     "ename": "",
     "evalue": "",
     "output_type": "error",
     "traceback": [
      "\u001b[31mjava.util.NoSuchElementException: None.get\u001b[39m\n  scala.None$.get(\u001b[32mOption.scala\u001b[39m:\u001b[32m366\u001b[39m)\n  scala.None$.get(\u001b[32mOption.scala\u001b[39m:\u001b[32m364\u001b[39m)\n  com.github.propi.rdfrules.index.TripleItemIndex.getTripleItem(\u001b[32mTripleItemIndex.scala\u001b[39m:\u001b[32m16\u001b[39m)\n  com.github.propi.rdfrules.index.TripleItemIndex.getTripleItem$(\u001b[32mTripleItemIndex.scala\u001b[39m:\u001b[32m16\u001b[39m)\n  com.github.propi.rdfrules.index.TripleItemHashIndex.getTripleItem(\u001b[32mTripleItemHashIndex.scala\u001b[39m:\u001b[32m13\u001b[39m)\n  com.github.propi.rdfrules.ruleset.ResolvedRule$Atom$Item$.apply(\u001b[32mResolvedRule.scala\u001b[39m:\u001b[32m52\u001b[39m)\n  com.github.propi.rdfrules.ruleset.ResolvedRule$Atom$.apply(\u001b[32mResolvedRule.scala\u001b[39m:\u001b[32m65\u001b[39m)\n  com.github.propi.rdfrules.ruleset.ResolvedRule$.$anonfun$apply$2(\u001b[32mResolvedRule.scala\u001b[39m:\u001b[32m106\u001b[39m)\n  scala.collection.TraversableLike.$anonfun$map$1(\u001b[32mTraversableLike.scala\u001b[39m:\u001b[32m237\u001b[39m)\n  scala.collection.Iterator.foreach(\u001b[32mIterator.scala\u001b[39m:\u001b[32m941\u001b[39m)\n  scala.collection.Iterator.foreach$(\u001b[32mIterator.scala\u001b[39m:\u001b[32m941\u001b[39m)\n  scala.collection.AbstractIterator.foreach(\u001b[32mIterator.scala\u001b[39m:\u001b[32m1429\u001b[39m)\n  scala.collection.IterableLike.foreach(\u001b[32mIterableLike.scala\u001b[39m:\u001b[32m74\u001b[39m)\n  scala.collection.IterableLike.foreach$(\u001b[32mIterableLike.scala\u001b[39m:\u001b[32m73\u001b[39m)\n  scala.collection.AbstractIterable.foreach(\u001b[32mIterable.scala\u001b[39m:\u001b[32m56\u001b[39m)\n  scala.collection.TraversableLike.map(\u001b[32mTraversableLike.scala\u001b[39m:\u001b[32m237\u001b[39m)\n  scala.collection.TraversableLike.map$(\u001b[32mTraversableLike.scala\u001b[39m:\u001b[32m230\u001b[39m)\n  scala.collection.AbstractTraversable.map(\u001b[32mTraversable.scala\u001b[39m:\u001b[32m108\u001b[39m)\n  com.github.propi.rdfrules.ruleset.ResolvedRule$.apply(\u001b[32mResolvedRule.scala\u001b[39m:\u001b[32m106\u001b[39m)\n  com.github.propi.rdfrules.ruleset.Ruleset$$anon$3.$anonfun$foreach$9(\u001b[32mRuleset.scala\u001b[39m:\u001b[32m80\u001b[39m)\n  scala.collection.Iterator.foreach(\u001b[32mIterator.scala\u001b[39m:\u001b[32m941\u001b[39m)\n  scala.collection.Iterator.foreach$(\u001b[32mIterator.scala\u001b[39m:\u001b[32m941\u001b[39m)\n  scala.collection.AbstractIterator.foreach(\u001b[32mIterator.scala\u001b[39m:\u001b[32m1429\u001b[39m)\n  com.github.propi.rdfrules.algorithm.consumer.InMemoryRuleConsumer$$anon$1.foreach(\u001b[32mInMemoryRuleConsumer.scala\u001b[39m:\u001b[32m65\u001b[39m)\n  com.github.propi.rdfrules.utils.extensions.TraversableOnceExtension$PimpedTraversableOnce$$anon$3.foreach(\u001b[32mTraversableOnceExtension.scala\u001b[39m:\u001b[32m40\u001b[39m)\n  com.github.propi.rdfrules.ruleset.Ruleset$$anon$3.$anonfun$foreach$8(\u001b[32mRuleset.scala\u001b[39m:\u001b[32m80\u001b[39m)\n  com.github.propi.rdfrules.ruleset.Ruleset$$anon$3.$anonfun$foreach$8$adapted(\u001b[32mRuleset.scala\u001b[39m:\u001b[32m79\u001b[39m)\n  com.github.propi.rdfrules.index.ops.FullyPreservedInMemory.tripleItemMap(\u001b[32mFullyPreservedInMemory.scala\u001b[39m:\u001b[32m25\u001b[39m)\n  com.github.propi.rdfrules.index.ops.FullyPreservedInMemory.tripleItemMap$(\u001b[32mFullyPreservedInMemory.scala\u001b[39m:\u001b[32m25\u001b[39m)\n  com.github.propi.rdfrules.index.Index$FromDatasetFullyPreservedIndex.tripleItemMap(\u001b[32mIndex.scala\u001b[39m:\u001b[32m71\u001b[39m)\n  com.github.propi.rdfrules.ruleset.Ruleset$$anon$3.foreach(\u001b[32mRuleset.scala\u001b[39m:\u001b[32m79\u001b[39m)\n  com.github.propi.rdfrules.ruleset.formats.Text$.com$github$propi$rdfrules$ruleset$formats$Text$$$anonfun$textRulesetWriter$1(\u001b[32mText.scala\u001b[39m:\u001b[32m23\u001b[39m)\n  com.github.propi.rdfrules.ruleset.formats.Text$$anonfun$textRulesetWriter$6.writeToOutputStream(\u001b[32mText.scala\u001b[39m:\u001b[32m19\u001b[39m)\n  com.github.propi.rdfrules.ruleset.RulesetWriter.writeToOutputStream(\u001b[32mRulesetWriter.scala\u001b[39m:\u001b[32m17\u001b[39m)\n  com.github.propi.rdfrules.ruleset.RulesetWriter.writeToOutputStream$(\u001b[32mRulesetWriter.scala\u001b[39m:\u001b[32m17\u001b[39m)\n  com.github.propi.rdfrules.ruleset.formats.Text$$anonfun$textRulesetWriter$6.writeToOutputStream(\u001b[32mText.scala\u001b[39m:\u001b[32m19\u001b[39m)\n  com.github.propi.rdfrules.ruleset.Ruleset.export(\u001b[32mRuleset.scala\u001b[39m:\u001b[32m255\u001b[39m)\n  com.github.propi.rdfrules.ruleset.Ruleset.export(\u001b[32mRuleset.scala\u001b[39m:\u001b[32m259\u001b[39m)\n  com.github.propi.rdfrules.ruleset.Ruleset.export(\u001b[32mRuleset.scala\u001b[39m:\u001b[32m262\u001b[39m)\n  ammonite.$sess.cmd15$Helper.<init>(\u001b[32mcmd15.sc\u001b[39m:\u001b[32m2\u001b[39m)\n  ammonite.$sess.cmd15$.<init>(\u001b[32mcmd15.sc\u001b[39m:\u001b[32m7\u001b[39m)\n  ammonite.$sess.cmd15$.<clinit>(\u001b[32mcmd15.sc\u001b[39m:\u001b[32m-1\u001b[39m)"
     ]
    }
   ],
   "source": [
    "val ruleset = ruleset1 + ruleset2\n",
    "ruleset.export(\"ruleset.txt\")"
   ]
  },
  {
   "cell_type": "code",
   "execution_count": null,
   "id": "0dfeca62-c82f-4448-836c-df879165ceaa",
   "metadata": {},
   "outputs": [],
   "source": [
    "//https://stackoverflow.com/questions/50145278/scala-create-and-use-local-library"
   ]
  }
 ],
 "metadata": {
  "kernelspec": {
   "display_name": "Scala",
   "language": "scala",
   "name": "scala"
  },
  "language_info": {
   "codemirror_mode": "text/x-scala",
   "file_extension": ".sc",
   "mimetype": "text/x-scala",
   "name": "scala",
   "nbconvert_exporter": "script",
   "version": "2.12.8"
  }
 },
 "nbformat": 4,
 "nbformat_minor": 5
}
