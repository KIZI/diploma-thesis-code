{
 "cells": [
  {
   "cell_type": "code",
   "execution_count": 1,
   "metadata": {},
   "outputs": [],
   "source": [
    "kernel.silent(true)"
   ]
  },
  {
   "cell_type": "code",
   "execution_count": 2,
   "metadata": {},
   "outputs": [],
   "source": [
    "import coursierapi.MavenRepository\n",
    "interp.repositories() ++= Seq(MavenRepository.of(\"https://jitpack.io\"))"
   ]
  },
  {
   "cell_type": "code",
   "execution_count": 3,
   "metadata": {},
   "outputs": [],
   "source": [
    "import $ivy.`com.github.propi:rdfrules:1.5.0`\n",
    "import collection._\n",
    "import org.apache.jena.riot.Lang\n",
    "\n",
    "import com.github.propi.rdfrules.data._\n",
    "import com.github.propi.rdfrules.algorithm.amie._\n",
    "import com.github.propi.rdfrules.algorithm.dbscan._\n",
    "import com.github.propi.rdfrules.utils._\n",
    "import com.github.propi.rdfrules.index._\n",
    "import com.github.propi.rdfrules.rule._\n",
    "import com.github.propi.rdfrules.ruleset._\n",
    "kernel.silent(false)"
   ]
  },
  {
   "cell_type": "code",
   "execution_count": 4,
   "metadata": {},
   "outputs": [
    {
     "data": {
      "text/plain": [
       "\u001b[36mpensionsDataset\u001b[39m: \u001b[32mDataset\u001b[39m = com.github.propi.rdfrules.data.Dataset@3865a5c7\n",
       "\u001b[36mres3_1\u001b[39m: \u001b[32mInt\u001b[39m = \u001b[32m2696400\u001b[39m"
      ]
     },
     "execution_count": 4,
     "metadata": {},
     "output_type": "execute_result"
    }
   ],
   "source": [
    "val pensionsDataset = Dataset.fromCache(\"../cache/pensionsCube.cache\")\n",
    "pensionsDataset.size"
   ]
  },
  {
   "cell_type": "code",
   "execution_count": 5,
   "metadata": {},
   "outputs": [
    {
     "data": {
      "text/plain": [
       "\u001b[36msalariesDataset\u001b[39m: \u001b[32mDataset\u001b[39m = com.github.propi.rdfrules.data.Dataset@51d2de69\n",
       "\u001b[36mres4_1\u001b[39m: \u001b[32mInt\u001b[39m = \u001b[32m2898\u001b[39m"
      ]
     },
     "execution_count": 5,
     "metadata": {},
     "output_type": "execute_result"
    }
   ],
   "source": [
    "val salariesDataset = Dataset.fromCache(\"../cache/salariesCube.cache\")\n",
    "salariesDataset.size"
   ]
  },
  {
   "cell_type": "code",
   "execution_count": 6,
   "metadata": {},
   "outputs": [
    {
     "data": {
      "text/plain": [
       "\u001b[36mrefPeriodLinking\u001b[39m: \u001b[32mDataset\u001b[39m = com.github.propi.rdfrules.data.Dataset@141603f1\n",
       "\u001b[36mres5_1\u001b[39m: \u001b[32mInt\u001b[39m = \u001b[32m84\u001b[39m"
      ]
     },
     "execution_count": 6,
     "metadata": {},
     "output_type": "execute_result"
    }
   ],
   "source": [
    "val refPeriodLinking = Dataset(\"../data/linking/refPeriodLinking.ttl\")\n",
    "refPeriodLinking.size"
   ]
  },
  {
   "cell_type": "code",
   "execution_count": 7,
   "metadata": {},
   "outputs": [
    {
     "data": {
      "text/plain": [
       "\u001b[36mrefAreaLinking\u001b[39m: \u001b[32mDataset\u001b[39m = com.github.propi.rdfrules.data.Dataset@423a1ed1\n",
       "\u001b[36mres6_1\u001b[39m: \u001b[32mInt\u001b[39m = \u001b[32m91\u001b[39m"
      ]
     },
     "execution_count": 7,
     "metadata": {},
     "output_type": "execute_result"
    }
   ],
   "source": [
    "val refAreaLinking = Dataset(\"../data/linking/cssaCZSOLinking.ttl\")\n",
    "refAreaLinking.size"
   ]
  },
  {
   "cell_type": "code",
   "execution_count": 8,
   "metadata": {},
   "outputs": [
    {
     "data": {
      "text/plain": [
       "\u001b[36msexLinking\u001b[39m: \u001b[32mDataset\u001b[39m = com.github.propi.rdfrules.data.Dataset@3a0038cd\n",
       "\u001b[36mres7_1\u001b[39m: \u001b[32mInt\u001b[39m = \u001b[32m5\u001b[39m"
      ]
     },
     "execution_count": 8,
     "metadata": {},
     "output_type": "execute_result"
    }
   ],
   "source": [
    "val sexLinking = Dataset(\"../data/linking/sexLinking.ttl\")\n",
    "sexLinking.size"
   ]
  },
  {
   "cell_type": "code",
   "execution_count": 9,
   "metadata": {},
   "outputs": [
    {
     "data": {
      "text/plain": [
       "\u001b[36mdataset\u001b[39m: \u001b[32mDataset\u001b[39m = com.github.propi.rdfrules.data.Dataset@2e027e01\n",
       "\u001b[36mres8_1\u001b[39m: \u001b[32mInt\u001b[39m = \u001b[32m2699478\u001b[39m"
      ]
     },
     "execution_count": 9,
     "metadata": {},
     "output_type": "execute_result"
    }
   ],
   "source": [
    "val dataset = pensionsDataset + salariesDataset + refPeriodLinking + refAreaLinking + sexLinking\n",
    "dataset.size"
   ]
  },
  {
   "cell_type": "code",
   "execution_count": 10,
   "metadata": {},
   "outputs": [
    {
     "data": {
      "text/plain": [
       "\u001b[36mindex\u001b[39m: \u001b[32mIndex\u001b[39m = com.github.propi.rdfrules.index.Index$FromDatasetFullyPreservedIndex@3faaf8be"
      ]
     },
     "execution_count": 10,
     "metadata": {},
     "output_type": "execute_result"
    }
   ],
   "source": [
    "val index = dataset.index()"
   ]
  },
  {
   "cell_type": "code",
   "execution_count": 11,
   "metadata": {},
   "outputs": [
    {
     "data": {
      "text/plain": [
       "\u001b[36muri\u001b[39m: \u001b[32mString\u001b[39m => \u001b[32mTripleItem\u001b[39m.\u001b[32mUri\u001b[39m = ammonite.$sess.cmd10$Helper$$Lambda$2935/0x0000000840db1040@39545e5f\n",
       "\u001b[36maverageSalary\u001b[39m: \u001b[32mTripleItem\u001b[39m.\u001b[32mUri\u001b[39m = \u001b[33mLongUri\u001b[39m(\n",
       "  \u001b[32m\"http://data.czso.cz/ontology/prumernaMzda\"\u001b[39m\n",
       ")\n",
       "\u001b[36mmedianSalary\u001b[39m: \u001b[32mTripleItem\u001b[39m.\u001b[32mUri\u001b[39m = \u001b[33mLongUri\u001b[39m(\n",
       "  \u001b[32m\"http://data.czso.cz/ontology/medianMzdy\"\u001b[39m\n",
       ")\n",
       "\u001b[36moneOfSalariesMeasures\u001b[39m: \u001b[32mAtomPattern\u001b[39m.\u001b[32mAtomItemPattern\u001b[39m.\u001b[32mOneOf\u001b[39m = \u001b[33mOneOf\u001b[39m(\n",
       "  \u001b[33mArrayBuffer\u001b[39m(\n",
       "    \u001b[33mConstant\u001b[39m(\u001b[33mLongUri\u001b[39m(\u001b[32m\"http://data.czso.cz/ontology/prumernaMzda\"\u001b[39m)),\n",
       "    \u001b[33mConstant\u001b[39m(\u001b[33mLongUri\u001b[39m(\u001b[32m\"http://data.czso.cz/ontology/medianMzdy\"\u001b[39m))\n",
       "  )\n",
       ")\n",
       "\u001b[36maverageAge\u001b[39m: \u001b[32mTripleItem\u001b[39m.\u001b[32mUri\u001b[39m = \u001b[33mLongUri\u001b[39m(\n",
       "  \u001b[32m\"https://data.cssz.cz/ontology/measure/prumerny-vek\"\u001b[39m\n",
       ")\n",
       "\u001b[36mpensionersCount\u001b[39m: \u001b[32mTripleItem\u001b[39m.\u001b[32mUri\u001b[39m = \u001b[33mLongUri\u001b[39m(\n",
       "  \u001b[32m\"https://data.cssz.cz/ontology/measure/pocet-duchodcu\"\u001b[39m\n",
       ")\n",
       "\u001b[36maveragePensionAmount\u001b[39m: \u001b[32mTripleItem\u001b[39m.\u001b[32mUri\u001b[39m = \u001b[33mLongUri\u001b[39m(\n",
       "  \u001b[32m\"https://data.cssz.cz/ontology/measure/prumerna-vyse-duchodu-v-kc\"\u001b[39m\n",
       ")\n",
       "\u001b[36moneOfPensionsMeasures\u001b[39m: \u001b[32mAtomPattern\u001b[39m.\u001b[32mAtomItemPattern\u001b[39m.\u001b[32mOneOf\u001b[39m = \u001b[33mOneOf\u001b[39m(\n",
       "  \u001b[33mArrayBuffer\u001b[39m(\n",
       "    \u001b[33mConstant\u001b[39m(\u001b[33mLongUri\u001b[39m(\u001b[32m\"https://data.cssz.cz/ontology/measure/prumerny-vek\"\u001b[39m)),\n",
       "    \u001b[33mConstant\u001b[39m(\u001b[33mLongUri\u001b[39m(\u001b[32m\"https://data.cssz.cz/ontology/measure/pocet-duchodcu\"\u001b[39m)),\n",
       "    \u001b[33mConstant\u001b[39m(\n",
       "      \u001b[33mLongUri\u001b[39m(\n",
       "        \u001b[32m\"https://data.cssz.cz/ontology/measure/prumerna-vyse-duchodu-v-kc\"\u001b[39m\n",
       "      )\n",
       "    )\n",
       "  )\n",
       ")\n",
       "\u001b[36mcssaDimension\u001b[39m: \u001b[32mString\u001b[39m = \u001b[32m\"https://data.cssz.cz/ontology/dimension/\"\u001b[39m\n",
       "\u001b[36mcssaRefPeriod\u001b[39m: \u001b[32mTripleItem\u001b[39m.\u001b[32mUri\u001b[39m = \u001b[33mLongUri\u001b[39m(\n",
       "  \u001b[32m\"https://data.cssz.cz/ontology/dimension/refPeriod\"\u001b[39m\n",
       ")\n",
       "\u001b[36mcssaRefArea\u001b[39m: \u001b[32mTripleItem\u001b[39m.\u001b[32mUri\u001b[39m = \u001b[33mLongUri\u001b[39m(\n",
       "  \u001b[32m\"https://data.cssz.cz/ontology/dimension/refArea\"\u001b[39m\n",
       ")\n",
       "\u001b[36mcssaSex\u001b[39m: \u001b[32mTripleItem\u001b[39m.\u001b[32mUri\u001b[39m = \u001b[33mLongUri\u001b[39m(\n",
       "  \u001b[32m\"https://data.cssz.cz/ontology/dimension/pohlavi\"\u001b[39m\n",
       ")\n",
       "\u001b[36mcssaPensionKind\u001b[39m: \u001b[32mTripleItem\u001b[39m.\u001b[32mUri\u001b[39m = \u001b[33mLongUri\u001b[39m(\n",
       "  \u001b[32m\"https://data.cssz.cz/ontology/dimension/druh-duchodu\"\u001b[39m\n",
       ")\n",
       "\u001b[36mczsoOntology\u001b[39m: \u001b[32mString\u001b[39m = \u001b[32m\"http://data.czso.cz/ontology/\"\u001b[39m\n",
       "\u001b[36mczsoRefPeriod\u001b[39m: \u001b[32mTripleItem\u001b[39m.\u001b[32mUri\u001b[39m = \u001b[33mLongUri\u001b[39m(\n",
       "  \u001b[32m\"http://data.czso.cz/ontology/refPeriod\"\u001b[39m\n",
       ")\n",
       "\u001b[36mczsoRefArea\u001b[39m: \u001b[32mTripleItem\u001b[39m.\u001b[32mUri\u001b[39m = \u001b[33mLongUri\u001b[39m(\u001b[32m\"http://data.czso.cz/ontology/refArea\"\u001b[39m)\n",
       "\u001b[36mczsoSex\u001b[39m: \u001b[32mTripleItem\u001b[39m.\u001b[32mUri\u001b[39m = \u001b[33mLongUri\u001b[39m(\u001b[32m\"http://data.czso.cz/ontology/sex\"\u001b[39m)\n",
       "\u001b[36mqbDataSet\u001b[39m: \u001b[32mTripleItem\u001b[39m.\u001b[32mUri\u001b[39m = \u001b[33mLongUri\u001b[39m(\u001b[32m\"http://purl.org/linked-data/cube#dataSet\"\u001b[39m)\n",
       "\u001b[36mconstantsAtObject\u001b[39m: \u001b[32mRuleConstraint\u001b[39m.\u001b[32mConstantsAtPosition\u001b[39m.\u001b[32mConstantsPosition\u001b[39m.\u001b[32mObject\u001b[39m.type = Object\n",
       "\u001b[36mconstantsOnlyAtObject\u001b[39m: \u001b[32mRuleConstraint\u001b[39m.\u001b[32mConstantsAtPosition\u001b[39m = \u001b[33mConstantsAtPosition\u001b[39m(\n",
       "  Object\n",
       ")"
      ]
     },
     "execution_count": 11,
     "metadata": {},
     "output_type": "execute_result"
    }
   ],
   "source": [
    "val uri = (value: String) => TripleItem.Uri(value)\n",
    "\n",
    "// salariesMeasures\n",
    "val averageSalary = TripleItem.Uri(\"http://data.czso.cz/ontology/prumernaMzda\")\n",
    "val medianSalary = TripleItem.Uri(\"http://data.czso.cz/ontology/medianMzdy\")\n",
    "val oneOfSalariesMeasures = OneOf(averageSalary,medianSalary)\n",
    "\n",
    "// pensionsMeasures\n",
    "val averageAge = TripleItem.Uri(\"https://data.cssz.cz/ontology/measure/prumerny-vek\")\n",
    "val pensionersCount = TripleItem.Uri(\"https://data.cssz.cz/ontology/measure/pocet-duchodcu\")\n",
    "val averagePensionAmount = TripleItem.Uri(\"https://data.cssz.cz/ontology/measure/prumerna-vyse-duchodu-v-kc\")\n",
    "val oneOfPensionsMeasures = OneOf(averageAge,pensionersCount,averagePensionAmount)\n",
    "\n",
    "// cssa dimensions\n",
    "val cssaDimension = \"https://data.cssz.cz/ontology/dimension/\"\n",
    "val cssaRefPeriod = uri(cssaDimension+\"refPeriod\")\n",
    "val cssaRefArea = uri(cssaDimension+\"refArea\")\n",
    "val cssaSex = uri(cssaDimension+\"pohlavi\")\n",
    "val cssaPensionKind = uri(cssaDimension+\"druh-duchodu\")\n",
    "\n",
    "// czso dimensions\n",
    "val czsoOntology = \"http://data.czso.cz/ontology/\"\n",
    "val czsoRefPeriod = uri(czsoOntology+\"refPeriod\")\n",
    "val czsoRefArea = uri(czsoOntology+\"refArea\")\n",
    "val czsoSex = uri(czsoOntology+\"sex\")\n",
    "\n",
    "val qbDataSet = uri(\"http://purl.org/linked-data/cube#dataSet\")\n",
    "\n",
    "val constantsAtObject = RuleConstraint.ConstantsAtPosition.ConstantsPosition.Object\n",
    "val constantsOnlyAtObject = RuleConstraint.ConstantsAtPosition(constantsAtObject)"
   ]
  },
  {
   "cell_type": "code",
   "execution_count": 12,
   "metadata": {},
   "outputs": [
    {
     "data": {
      "text/plain": [
       "\u001b[36mclosedDimensions\u001b[39m: \u001b[32mRulePattern\u001b[39m = \u001b[33mRulePattern\u001b[39m(\n",
       "  \u001b[33mVector\u001b[39m(\n",
       "    \u001b[33mAtomPattern\u001b[39m(\n",
       "      \u001b[33mVariable\u001b[39m(\u001b[33mVariable\u001b[39m(\u001b[32m2\u001b[39m)),\n",
       "      \u001b[33mOneOf\u001b[39m(\n",
       "        \u001b[33mArrayBuffer\u001b[39m(\n",
       "          \u001b[33mConstant\u001b[39m(\u001b[33mLongUri\u001b[39m(\u001b[32m\"http://data.czso.cz/ontology/prumernaMzda\"\u001b[39m)),\n",
       "          \u001b[33mConstant\u001b[39m(\u001b[33mLongUri\u001b[39m(\u001b[32m\"http://data.czso.cz/ontology/medianMzdy\"\u001b[39m))\n",
       "        )\n",
       "      ),\n",
       "      AnyConstant,\n",
       "      Any\n",
       "    ),\n",
       "    \u001b[33mAtomPattern\u001b[39m(\n",
       "      \u001b[33mVariable\u001b[39m(\u001b[33mVariable\u001b[39m(\u001b[32m2\u001b[39m)),\n",
       "      \u001b[33mConstant\u001b[39m(\u001b[33mLongUri\u001b[39m(\u001b[32m\"http://data.czso.cz/ontology/refPeriod\"\u001b[39m)),\n",
       "      \u001b[33mVariable\u001b[39m(\u001b[33mVariable\u001b[39m(\u001b[32m3\u001b[39m)),\n",
       "      Any\n",
       "    ),\n",
       "    \u001b[33mAtomPattern\u001b[39m(\n",
       "      \u001b[33mVariable\u001b[39m(\u001b[33mVariable\u001b[39m(\u001b[32m0\u001b[39m)),\n",
       "      \u001b[33mConstant\u001b[39m(\u001b[33mLongUri\u001b[39m(\u001b[32m\"https://data.cssz.cz/ontology/dimension/refPeriod\"\u001b[39m)),\n",
       "      \u001b[33mVariable\u001b[39m(\u001b[33mVariable\u001b[39m(\u001b[32m3\u001b[39m)),\n",
       "      Any\n",
       "    ),\n",
       "    \u001b[33mAtomPattern\u001b[39m(\n",
       "      \u001b[33mVariable\u001b[39m(\u001b[33mVariable\u001b[39m(\u001b[32m2\u001b[39m)),\n",
       "      \u001b[33mConstant\u001b[39m(\u001b[33mLongUri\u001b[39m(\u001b[32m\"http://purl.org/linked-data/cube#dataSet\"\u001b[39m)),\n",
       "      AnyConstant,\n",
       "      Any\n",
       "    ),\n",
       "    \u001b[33mAtomPattern\u001b[39m(\n",
       "      \u001b[33mVariable\u001b[39m(\u001b[33mVariable\u001b[39m(\u001b[32m2\u001b[39m)),\n",
       "      \u001b[33mConstant\u001b[39m(\u001b[33mLongUri\u001b[39m(\u001b[32m\"http://data.czso.cz/ontology/refArea\"\u001b[39m)),\n",
       "      \u001b[33mVariable\u001b[39m(\u001b[33mVariable\u001b[39m(\u001b[32m1\u001b[39m)),\n",
       "      Any\n",
       "    ),\n",
       "    \u001b[33mAtomPattern\u001b[39m(\n",
       "      \u001b[33mVariable\u001b[39m(\u001b[33mVariable\u001b[39m(\u001b[32m0\u001b[39m)),\n",
       "..."
      ]
     },
     "execution_count": 12,
     "metadata": {},
     "output_type": "execute_result"
    }
   ],
   "source": [
    "// takoveto obecné patterny moc nedavaji smysl\n",
    "\n",
    "val closedDimensions: RulePattern = (\n",
    "    AtomPattern(subject = 'c', predicate = oneOfSalariesMeasures, `object` = AnyConstant) &:\n",
    "    AtomPattern(subject = 'c', predicate = czsoRefPeriod, `object` = 'd') &:\n",
    "    AtomPattern(subject = 'a', predicate = cssaRefPeriod, `object` = 'd') &:\n",
    "    AtomPattern(subject = 'c', predicate = qbDataSet, `object` = AnyConstant) &:\n",
    "    AtomPattern(subject = 'c', predicate = czsoRefArea, `object` = 'b') &:\n",
    "    AtomPattern(subject = 'a', predicate = cssaRefArea, `object` = 'b') &:\n",
    "    AtomPattern(subject = 'a', predicate = cssaSex, `object` = AnyConstant) &:\n",
    "    AtomPattern(subject = 'a', predicate = cssaPensionKind, `object` = AnyConstant) &:\n",
    "    AtomPattern(subject = 'a', predicate = qbDataSet, `object` = AnyConstant)\n",
    "    =>:\n",
    "    AtomPattern(subject = 'a', predicate = oneOfPensionsMeasures)\n",
    ")"
   ]
  },
  {
   "cell_type": "code",
   "execution_count": 13,
   "metadata": {
    "code_folding": []
   },
   "outputs": [
    {
     "data": {
      "text/plain": [
       "\u001b[36mclosedDimensionsTask\u001b[39m: \u001b[32mcom\u001b[39m.\u001b[32mgithub\u001b[39m.\u001b[32mpropi\u001b[39m.\u001b[32mrdfrules\u001b[39m.\u001b[32malgorithm\u001b[39m.\u001b[32mRulesMining\u001b[39m = com.github.propi.rdfrules.algorithm.amie.Amie@176380ef"
      ]
     },
     "execution_count": 13,
     "metadata": {},
     "output_type": "execute_result"
    }
   ],
   "source": [
    "val closedDimensionsTask = Amie()\n",
    "    .addThreshold(Threshold.MinSupport(5))\n",
    "    .addThreshold(Threshold.MaxRuleLength(10))\n",
    "    .addThreshold(Threshold.MinHeadSize(0))\n",
    "    .addThreshold(Threshold.Timeout(10))\n",
    "    .addConstraint(constantsOnlyAtObject)\n",
    "    .addPattern(closedDimensions)"
   ]
  },
  {
   "cell_type": "code",
   "execution_count": 13,
   "metadata": {},
   "outputs": [],
   "source": [
    "//val closedDimensionsTaskRuleset = index.mine(closedDimensionsTask)\n",
    "//println(closedDimensionsTaskRuleset.size)"
   ]
  },
  {
   "cell_type": "code",
   "execution_count": 13,
   "metadata": {},
   "outputs": [],
   "source": [
    "// export\n",
    "//closedDimensionsTaskRuleset.export(\"../rulesets/closedDimensionsTaskRuleset.txt\")"
   ]
  },
  {
   "cell_type": "code",
   "execution_count": 13,
   "metadata": {},
   "outputs": [],
   "source": [
    "//closedDimensionsTaskRuleset\n",
    "//.filter(rule => rule.measures(Measure.Support).value > 38)\n",
    "//.computePcaConfidence(0.5)\n",
    "\n",
    "//.makeClusters(DbScan(minNeighbours = 3, minSimilarity = 0.99))\n",
    "//.size\n",
    "//.foreach(println)\n",
    "\n"
   ]
  },
  {
   "cell_type": "code",
   "execution_count": 13,
   "metadata": {},
   "outputs": [],
   "source": [
    "//val confidenceResultset = closedDimensionsTaskRuleset\n",
    "//.filter(rule => rule.measures(Measure.Support).value > 38)\n",
    "//.computePcaConfidence(0.5)"
   ]
  },
  {
   "cell_type": "code",
   "execution_count": 13,
   "metadata": {},
   "outputs": [],
   "source": [
    "//confidenceResultset.foreach(println)"
   ]
  },
  {
   "cell_type": "code",
   "execution_count": 14,
   "metadata": {},
   "outputs": [
    {
     "data": {
      "text/plain": [
       "\u001b[36moldAgeTotal\u001b[39m: \u001b[32mTripleItem\u001b[39m.\u001b[32mUri\u001b[39m = \u001b[33mLongUri\u001b[39m(\n",
       "  \u001b[32m\"https://data.cssz.cz/resource/pension-kind/PK_old_age_total_S_SI_SRN_ST_SD_2010\"\u001b[39m\n",
       ")\n",
       "\u001b[36mregionTotalOldAgeTotal\u001b[39m: \u001b[32mTripleItem\u001b[39m.\u001b[32mUri\u001b[39m = \u001b[33mLongUri\u001b[39m(\n",
       "  \u001b[32m\"pensions-by-region-total-PK_old_age_total_S_SI_SRN_ST_SD\"\u001b[39m\n",
       ")\n",
       "\u001b[36msalariesTotal\u001b[39m: \u001b[32mTripleItem\u001b[39m.\u001b[32mUri\u001b[39m = \u001b[33mLongUri\u001b[39m(\u001b[32m\"salaries-total\"\u001b[39m)"
      ]
     },
     "execution_count": 14,
     "metadata": {},
     "output_type": "execute_result"
    }
   ],
   "source": [
    "val oldAgeTotal = uri(\"https://data.cssz.cz/resource/pension-kind/PK_old_age_total_S_SI_SRN_ST_SD_2010\")\n",
    "val regionTotalOldAgeTotal = uri(\"pensions-by-region-total-PK_old_age_total_S_SI_SRN_ST_SD\")\n",
    "val salariesTotal = uri(\"salaries-total\")"
   ]
  },
  {
   "cell_type": "code",
   "execution_count": 15,
   "metadata": {},
   "outputs": [
    {
     "data": {
      "text/plain": [
       "\u001b[36moldAgeTotalPattern\u001b[39m: \u001b[32mRulePattern\u001b[39m = \u001b[33mRulePattern\u001b[39m(\n",
       "  \u001b[33mVector\u001b[39m(\n",
       "    \u001b[33mAtomPattern\u001b[39m(\n",
       "      \u001b[33mVariable\u001b[39m(\u001b[33mVariable\u001b[39m(\u001b[32m2\u001b[39m)),\n",
       "      \u001b[33mOneOf\u001b[39m(\n",
       "        \u001b[33mArrayBuffer\u001b[39m(\n",
       "          \u001b[33mConstant\u001b[39m(\u001b[33mLongUri\u001b[39m(\u001b[32m\"http://data.czso.cz/ontology/prumernaMzda\"\u001b[39m)),\n",
       "          \u001b[33mConstant\u001b[39m(\u001b[33mLongUri\u001b[39m(\u001b[32m\"http://data.czso.cz/ontology/medianMzdy\"\u001b[39m))\n",
       "        )\n",
       "      ),\n",
       "      AnyConstant,\n",
       "      Any\n",
       "    ),\n",
       "    \u001b[33mAtomPattern\u001b[39m(\n",
       "      \u001b[33mVariable\u001b[39m(\u001b[33mVariable\u001b[39m(\u001b[32m2\u001b[39m)),\n",
       "      \u001b[33mConstant\u001b[39m(\u001b[33mLongUri\u001b[39m(\u001b[32m\"http://data.czso.cz/ontology/refPeriod\"\u001b[39m)),\n",
       "      \u001b[33mVariable\u001b[39m(\u001b[33mVariable\u001b[39m(\u001b[32m3\u001b[39m)),\n",
       "      Any\n",
       "    ),\n",
       "    \u001b[33mAtomPattern\u001b[39m(\n",
       "      \u001b[33mVariable\u001b[39m(\u001b[33mVariable\u001b[39m(\u001b[32m0\u001b[39m)),\n",
       "      \u001b[33mConstant\u001b[39m(\u001b[33mLongUri\u001b[39m(\u001b[32m\"https://data.cssz.cz/ontology/dimension/refPeriod\"\u001b[39m)),\n",
       "      \u001b[33mVariable\u001b[39m(\u001b[33mVariable\u001b[39m(\u001b[32m3\u001b[39m)),\n",
       "      Any\n",
       "    ),\n",
       "    \u001b[33mAtomPattern\u001b[39m(\n",
       "      \u001b[33mVariable\u001b[39m(\u001b[33mVariable\u001b[39m(\u001b[32m2\u001b[39m)),\n",
       "      \u001b[33mConstant\u001b[39m(\u001b[33mLongUri\u001b[39m(\u001b[32m\"http://purl.org/linked-data/cube#dataSet\"\u001b[39m)),\n",
       "      \u001b[33mConstant\u001b[39m(\u001b[33mLongUri\u001b[39m(\u001b[32m\"salaries-total\"\u001b[39m)),\n",
       "      Any\n",
       "    ),\n",
       "    \u001b[33mAtomPattern\u001b[39m(\n",
       "      \u001b[33mVariable\u001b[39m(\u001b[33mVariable\u001b[39m(\u001b[32m2\u001b[39m)),\n",
       "      \u001b[33mConstant\u001b[39m(\u001b[33mLongUri\u001b[39m(\u001b[32m\"http://data.czso.cz/ontology/refArea\"\u001b[39m)),\n",
       "      \u001b[33mVariable\u001b[39m(\u001b[33mVariable\u001b[39m(\u001b[32m1\u001b[39m)),\n",
       "      Any\n",
       "    ),\n",
       "    \u001b[33mAtomPattern\u001b[39m(\n",
       "      \u001b[33mVariable\u001b[39m(\u001b[33mVariable\u001b[39m(\u001b[32m0\u001b[39m)),\n",
       "..."
      ]
     },
     "execution_count": 15,
     "metadata": {},
     "output_type": "execute_result"
    }
   ],
   "source": [
    "val oldAgeTotalPattern: RulePattern = (\n",
    "    AtomPattern(subject = 'c', predicate = oneOfSalariesMeasures, `object` = AnyConstant) &:\n",
    "    AtomPattern(subject = 'c', predicate = czsoRefPeriod, `object` = 'd') &:\n",
    "    AtomPattern(subject = 'a', predicate = cssaRefPeriod, `object` = 'd') &:\n",
    "    AtomPattern(subject = 'c', predicate = qbDataSet, `object` = salariesTotal) &:\n",
    "    AtomPattern(subject = 'c', predicate = czsoRefArea, `object` = 'b') &:\n",
    "    AtomPattern(subject = 'a', predicate = cssaRefArea, `object` = 'b') &:\n",
    "    AtomPattern(subject = 'a', predicate = cssaPensionKind, `object` = oldAgeTotal) &:\n",
    "    AtomPattern(subject = 'a', predicate = qbDataSet, `object` = regionTotalOldAgeTotal)\n",
    "    =>:\n",
    "    AtomPattern(subject = 'a', predicate = averagePensionAmount)\n",
    ")"
   ]
  },
  {
   "cell_type": "code",
   "execution_count": 16,
   "metadata": {},
   "outputs": [
    {
     "data": {
      "text/plain": [
       "\u001b[36moldAgeTotalPatternTask\u001b[39m: \u001b[32mcom\u001b[39m.\u001b[32mgithub\u001b[39m.\u001b[32mpropi\u001b[39m.\u001b[32mrdfrules\u001b[39m.\u001b[32malgorithm\u001b[39m.\u001b[32mRulesMining\u001b[39m = com.github.propi.rdfrules.algorithm.amie.Amie@19d9016f"
      ]
     },
     "execution_count": 16,
     "metadata": {},
     "output_type": "execute_result"
    }
   ],
   "source": [
    "val oldAgeTotalPatternTask = Amie()\n",
    "    .addThreshold(Threshold.MinSupport(1))\n",
    "    .addThreshold(Threshold.MaxRuleLength(9))\n",
    "    .addThreshold(Threshold.MinHeadSize(0))\n",
    "    .addThreshold(Threshold.Timeout(10))\n",
    "    .addConstraint(constantsOnlyAtObject)\n",
    "    .addPattern(oldAgeTotalPattern)"
   ]
  },
  {
   "cell_type": "code",
   "execution_count": 17,
   "metadata": {},
   "outputs": [
    {
     "name": "stderr",
     "output_type": "stream",
     "text": [
      "2021-04-18 20:22:57:546 +0200 [scala-interpreter-1] INFO com.github.propi.rdfrules.utils.Debugger - Predicates trimming.\n",
      "2021-04-18 20:23:04:075 +0200 [scala-interpreter-1] INFO com.github.propi.rdfrules.utils.Debugger - Subjects indexing.\n",
      "2021-04-18 20:23:16:337 +0200 [scala-interpreter-1] INFO com.github.propi.rdfrules.utils.Debugger - Subjects trimming.\n",
      "2021-04-18 20:23:17:196 +0200 [scala-interpreter-1] INFO com.github.propi.rdfrules.utils.Debugger - Objects indexing.\n",
      "2021-04-18 20:23:19:364 +0200 [scala-interpreter-1] INFO com.github.propi.rdfrules.utils.Debugger - Objects trimming.\n",
      "2021-04-18 20:23:19:405 +0200 [scala-interpreter-1] INFO com.github.propi.rdfrules.utils.Debugger - Amie task settings:\n",
      "MinHeadSize=1,\n",
      "MinHeadCoverage=0.0,\n",
      "MinSupport=1,\n",
      "MaxThreads=4,\n",
      "MinAtomSize=0,\n",
      "MaxRuleLength=9,\n",
      "WithConstants=true,\n",
      "ConstantsPosition=Object,\n",
      "Timeout=600000,\n",
      "WithDuplicitPredicates=true,\n",
      "Patterns=List(Mapped(Vector(Mapped(Variable(?c),OneOf(ArrayBuffer(Constant(Constant(1433642368)), Constant(Constant(1396113393)))),AnyConstant,Any), Mapped(Variable(?c),Constant(Constant(-901057765)),Variable(?d),Any), Mapped(Variable(?a),Constant(Constant(1169043154)),Variable(?d),Any), Mapped(Variable(?c),Constant(Constant(624690160)),Constant(Constant(79965660)),Any), Mapped(Variable(?c),Constant(Constant(1481837794)),Variable(?b),Any), Mapped(Variable(?a),Constant(Constant(528884079)),Variable(?b),Any), Mapped(Variable(?a),Constant(Constant(-2096697191)),Constant(Constant(-354818346)),Any), Mapped(Variable(?a),Constant(Constant(624690160)),Constant(Constant(-1196648091)),Any)),Some(Mapped(Variable(?a),Constant(Constant(1915729891)),Any,Any)),false,false)),\n",
      "OnlyPredicates=None,\n",
      "WithoutPredicates=None\n"
     ]
    },
    {
     "name": "stdout",
     "output_type": "stream",
     "text": [
      "192\n"
     ]
    },
    {
     "data": {
      "text/plain": [
       "\u001b[36moldAgeTotalPatternTaskRuleset\u001b[39m: \u001b[32mRuleset\u001b[39m = com.github.propi.rdfrules.ruleset.Ruleset@431869ef"
      ]
     },
     "execution_count": 17,
     "metadata": {},
     "output_type": "execute_result"
    }
   ],
   "source": [
    "val oldAgeTotalPatternTaskRuleset = index.mine(oldAgeTotalPatternTask)\n",
    "println(oldAgeTotalPatternTaskRuleset.size)"
   ]
  },
  {
   "cell_type": "code",
   "execution_count": 18,
   "metadata": {},
   "outputs": [],
   "source": [
    "oldAgeTotalPatternTaskRuleset.export(\"../rulesets/oldAgeTotalPatternTaskRuleset.txt\")"
   ]
  },
  {
   "cell_type": "code",
   "execution_count": 19,
   "metadata": {},
   "outputs": [
    {
     "data": {
      "text/plain": [
       "\u001b[36mres18\u001b[39m: \u001b[32mInt\u001b[39m = \u001b[32m0\u001b[39m"
      ]
     },
     "execution_count": 19,
     "metadata": {},
     "output_type": "execute_result"
    }
   ],
   "source": [
    "oldAgeTotalPatternTaskRuleset\n",
    "//.sortBy(Measure.HeadCoverage, Measure.Lift)\n",
    "//sort by rule length and then by selected measures\n",
    "//compute additional measures of significance\n",
    "//.computeConfidence(0.5)\n",
    ".computePcaConfidence(0.5)\n",
    "//.computeLift()\n",
    ".computeLift()\n",
    "//.filter(rule => rule.measures(Measure.Lift).value > 1)\n",
    ".size"
   ]
  },
  {
   "cell_type": "code",
   "execution_count": 20,
   "metadata": {},
   "outputs": [
    {
     "data": {
      "text/plain": [
       "\u001b[36msalariesBySex\u001b[39m: \u001b[32mTripleItem\u001b[39m.\u001b[32mUri\u001b[39m = \u001b[33mLongUri\u001b[39m(\u001b[32m\"salaries-by-sex\"\u001b[39m)\n",
       "\u001b[36mregionBySexOldAgeTotal\u001b[39m: \u001b[32mTripleItem\u001b[39m.\u001b[32mUri\u001b[39m = \u001b[33mLongUri\u001b[39m(\n",
       "  \u001b[32m\"pensions-by-region-by-sex-PK_old_age_total_S_SI_SRN_ST_SD\"\u001b[39m\n",
       ")"
      ]
     },
     "execution_count": 20,
     "metadata": {},
     "output_type": "execute_result"
    }
   ],
   "source": [
    "val salariesBySex = uri(\"salaries-by-sex\")\n",
    "val regionBySexOldAgeTotal = uri(\"pensions-by-region-by-sex-PK_old_age_total_S_SI_SRN_ST_SD\")"
   ]
  },
  {
   "cell_type": "code",
   "execution_count": 21,
   "metadata": {},
   "outputs": [
    {
     "data": {
      "text/plain": [
       "\u001b[36moldAgeBySexPattern\u001b[39m: \u001b[32mRulePattern\u001b[39m = \u001b[33mRulePattern\u001b[39m(\n",
       "  \u001b[33mVector\u001b[39m(\n",
       "    \u001b[33mAtomPattern\u001b[39m(\n",
       "      \u001b[33mVariable\u001b[39m(\u001b[33mVariable\u001b[39m(\u001b[32m2\u001b[39m)),\n",
       "      \u001b[33mOneOf\u001b[39m(\n",
       "        \u001b[33mArrayBuffer\u001b[39m(\n",
       "          \u001b[33mConstant\u001b[39m(\u001b[33mLongUri\u001b[39m(\u001b[32m\"http://data.czso.cz/ontology/prumernaMzda\"\u001b[39m)),\n",
       "          \u001b[33mConstant\u001b[39m(\u001b[33mLongUri\u001b[39m(\u001b[32m\"http://data.czso.cz/ontology/medianMzdy\"\u001b[39m))\n",
       "        )\n",
       "      ),\n",
       "      AnyConstant,\n",
       "      Any\n",
       "    ),\n",
       "    \u001b[33mAtomPattern\u001b[39m(\n",
       "      \u001b[33mVariable\u001b[39m(\u001b[33mVariable\u001b[39m(\u001b[32m0\u001b[39m)),\n",
       "      \u001b[33mConstant\u001b[39m(\u001b[33mLongUri\u001b[39m(\u001b[32m\"https://data.cssz.cz/ontology/dimension/pohlavi\"\u001b[39m)),\n",
       "      \u001b[33mVariable\u001b[39m(\u001b[33mVariable\u001b[39m(\u001b[32m4\u001b[39m)),\n",
       "      Any\n",
       "    ),\n",
       "    \u001b[33mAtomPattern\u001b[39m(\n",
       "      \u001b[33mVariable\u001b[39m(\u001b[33mVariable\u001b[39m(\u001b[32m2\u001b[39m)),\n",
       "      \u001b[33mConstant\u001b[39m(\u001b[33mLongUri\u001b[39m(\u001b[32m\"http://data.czso.cz/ontology/sex\"\u001b[39m)),\n",
       "      \u001b[33mVariable\u001b[39m(\u001b[33mVariable\u001b[39m(\u001b[32m4\u001b[39m)),\n",
       "      Any\n",
       "    ),\n",
       "    \u001b[33mAtomPattern\u001b[39m(\n",
       "      \u001b[33mVariable\u001b[39m(\u001b[33mVariable\u001b[39m(\u001b[32m2\u001b[39m)),\n",
       "      \u001b[33mConstant\u001b[39m(\u001b[33mLongUri\u001b[39m(\u001b[32m\"http://data.czso.cz/ontology/refPeriod\"\u001b[39m)),\n",
       "      \u001b[33mVariable\u001b[39m(\u001b[33mVariable\u001b[39m(\u001b[32m3\u001b[39m)),\n",
       "      Any\n",
       "    ),\n",
       "    \u001b[33mAtomPattern\u001b[39m(\n",
       "      \u001b[33mVariable\u001b[39m(\u001b[33mVariable\u001b[39m(\u001b[32m0\u001b[39m)),\n",
       "      \u001b[33mConstant\u001b[39m(\u001b[33mLongUri\u001b[39m(\u001b[32m\"https://data.cssz.cz/ontology/dimension/refPeriod\"\u001b[39m)),\n",
       "      \u001b[33mVariable\u001b[39m(\u001b[33mVariable\u001b[39m(\u001b[32m3\u001b[39m)),\n",
       "      Any\n",
       "    ),\n",
       "    \u001b[33mAtomPattern\u001b[39m(\n",
       "      \u001b[33mVariable\u001b[39m(\u001b[33mVariable\u001b[39m(\u001b[32m2\u001b[39m)),\n",
       "..."
      ]
     },
     "execution_count": 21,
     "metadata": {},
     "output_type": "execute_result"
    }
   ],
   "source": [
    "val oldAgeBySexPattern: RulePattern = (\n",
    "    AtomPattern(subject = 'c', predicate = oneOfSalariesMeasures, `object` = AnyConstant) &:\n",
    "    AtomPattern(subject = 'a', predicate = cssaSex, `object` = 'e') &:\n",
    "    AtomPattern(subject = 'c', predicate = czsoSex, `object` = 'e') &:\n",
    "    AtomPattern(subject = 'c', predicate = czsoRefPeriod, `object` = 'd') &:\n",
    "    AtomPattern(subject = 'a', predicate = cssaRefPeriod, `object` = 'd') &:  \n",
    "    AtomPattern(subject = 'c', predicate = qbDataSet, `object` = salariesBySex) &:\n",
    "    AtomPattern(subject = 'c', predicate = czsoRefArea, `object` = 'b') &:\n",
    "    AtomPattern(subject = 'a', predicate = cssaRefArea, `object` = 'b') &:\n",
    "    AtomPattern(subject = 'a', predicate = cssaPensionKind, `object` = oldAgeTotal) &:\n",
    "    AtomPattern(subject = 'a', predicate = qbDataSet, `object` = regionBySexOldAgeTotal)\n",
    "    =>:\n",
    "    AtomPattern(subject = 'a', predicate = averagePensionAmount)\n",
    ")"
   ]
  },
  {
   "cell_type": "code",
   "execution_count": 22,
   "metadata": {},
   "outputs": [
    {
     "data": {
      "text/plain": [
       "\u001b[36moldAgeBySexPatternTask\u001b[39m: \u001b[32mcom\u001b[39m.\u001b[32mgithub\u001b[39m.\u001b[32mpropi\u001b[39m.\u001b[32mrdfrules\u001b[39m.\u001b[32malgorithm\u001b[39m.\u001b[32mRulesMining\u001b[39m = com.github.propi.rdfrules.algorithm.amie.Amie@5b6f3735"
      ]
     },
     "execution_count": 22,
     "metadata": {},
     "output_type": "execute_result"
    }
   ],
   "source": [
    "val oldAgeBySexPatternTask = Amie()\n",
    "    .addThreshold(Threshold.MinSupport(1))\n",
    "    .addThreshold(Threshold.MaxRuleLength(11))\n",
    "    .addThreshold(Threshold.MinHeadSize(0))\n",
    "    .addThreshold(Threshold.Timeout(10))\n",
    "    .addConstraint(constantsOnlyAtObject)\n",
    "    .addPattern(oldAgeBySexPattern)"
   ]
  },
  {
   "cell_type": "code",
   "execution_count": 23,
   "metadata": {},
   "outputs": [
    {
     "name": "stderr",
     "output_type": "stream",
     "text": [
      "2021-04-18 20:23:25:688 +0200 [scala-interpreter-1] INFO com.github.propi.rdfrules.utils.Debugger - Amie task settings:\n",
      "MinHeadSize=1,\n",
      "MinHeadCoverage=0.0,\n",
      "MinSupport=1,\n",
      "MaxThreads=4,\n",
      "MinAtomSize=0,\n",
      "MaxRuleLength=11,\n",
      "WithConstants=true,\n",
      "ConstantsPosition=Object,\n",
      "Timeout=600000,\n",
      "WithDuplicitPredicates=true,\n",
      "Patterns=List(Mapped(Vector(Mapped(Variable(?c),OneOf(ArrayBuffer(Constant(Constant(1433642368)), Constant(Constant(1396113393)))),AnyConstant,Any), Mapped(Variable(?a),Constant(Constant(910861011)),Variable(?e),Any), Mapped(Variable(?c),Constant(Constant(-1485615047)),Variable(?e),Any), Mapped(Variable(?c),Constant(Constant(-901057765)),Variable(?d),Any), Mapped(Variable(?a),Constant(Constant(1169043154)),Variable(?d),Any), Mapped(Variable(?c),Constant(Constant(624690160)),Constant(Constant(93893581)),Any), Mapped(Variable(?c),Constant(Constant(1481837794)),Variable(?b),Any), Mapped(Variable(?a),Constant(Constant(528884079)),Variable(?b),Any), Mapped(Variable(?a),Constant(Constant(-2096697191)),Constant(Constant(-354818346)),Any), Mapped(Variable(?a),Constant(Constant(624690160)),Constant(Constant(-1926584670)),Any)),Some(Mapped(Variable(?a),Constant(Constant(1915729891)),Any,Any)),false,false)),\n",
      "OnlyPredicates=None,\n",
      "WithoutPredicates=None\n"
     ]
    },
    {
     "name": "stdout",
     "output_type": "stream",
     "text": [
      "368\n"
     ]
    },
    {
     "data": {
      "text/plain": [
       "\u001b[36moldAgeBySexPatternTaskRuleset\u001b[39m: \u001b[32mRuleset\u001b[39m = com.github.propi.rdfrules.ruleset.Ruleset@38ca78a5"
      ]
     },
     "execution_count": 23,
     "metadata": {},
     "output_type": "execute_result"
    }
   ],
   "source": [
    "val oldAgeBySexPatternTaskRuleset = index.mine(oldAgeBySexPatternTask)\n",
    "println(oldAgeBySexPatternTaskRuleset.size)"
   ]
  },
  {
   "cell_type": "code",
   "execution_count": 24,
   "metadata": {},
   "outputs": [],
   "source": [
    "oldAgeBySexPatternTaskRuleset.export(\"../rulesets/oldAgeBySexPatternTaskRuleset.txt\")"
   ]
  },
  {
   "cell_type": "code",
   "execution_count": 25,
   "metadata": {},
   "outputs": [
    {
     "name": "stdout",
     "output_type": "stream",
     "text": [
      "(?c czso:prumernaMzda <<26827.5__27200.5)_es2_33/42>) ^ (?a cssz-dimension:pohlavi ?e) ^ (?c czso:sex ?e) ^ (?c czso:refPeriod ?d) ^ (?a cssz-dimension:refPeriod ?d) ^ (?c qb:dataSet <salaries-by-sex>) ^ (?c czso:refArea ?b) ^ (?a cssz-dimension:refArea ?b) ^ (?a cssz-dimension:druh-duchodu <https://data.cssz.cz/resource/pension-kind/PK_old_age_total_S_SI_SRN_ST_SD_2010>) ^ (?a qb:dataSet <pensions-by-region-by-sex-PK_old_age_total_S_SI_SRN_ST_SD>) -> (?a cssz-measure:prumerna-vyse-duchodu-v-kc <<8814.26__11444.72)_ef2_1/2>) | support: 1, headCoverage: 8.900756564307967E-6, confidence: 0.16666666666666666, lift: 133.75, headConfidence: 0.0012461059190031153, headSize: 112350, bodySize: 6\n",
      "(?c czso:medianMzdy <<24340.0__24683.0)_es2_38/42>) ^ (?a cssz-dimension:pohlavi ?e) ^ (?c czso:sex ?e) ^ (?c czso:refPeriod ?d) ^ (?a cssz-dimension:refPeriod ?d) ^ (?c qb:dataSet <salaries-by-sex>) ^ (?c czso:refArea ?b) ^ (?a cssz-dimension:refArea ?b) ^ (?a cssz-dimension:druh-duchodu <https://data.cssz.cz/resource/pension-kind/PK_old_age_total_S_SI_SRN_ST_SD_2010>) ^ (?a qb:dataSet <pensions-by-region-by-sex-PK_old_age_total_S_SI_SRN_ST_SD>) -> (?a cssz-measure:prumerna-vyse-duchodu-v-kc <<11444.72__15557.61)_ef2_2/2>) | support: 1, headCoverage: 8.900756564307967E-6, confidence: 0.16666666666666666, lift: 133.75, headConfidence: 0.0012461059190031153, headSize: 112350, bodySize: 6\n",
      "(?c czso:prumernaMzda <<21455.5__22087.5)_es5_7/16>) ^ (?a cssz-dimension:pohlavi ?e) ^ (?c czso:sex ?e) ^ (?c czso:refPeriod ?d) ^ (?a cssz-dimension:refPeriod ?d) ^ (?c qb:dataSet <salaries-by-sex>) ^ (?c czso:refArea ?b) ^ (?a cssz-dimension:refArea ?b) ^ (?a cssz-dimension:druh-duchodu <https://data.cssz.cz/resource/pension-kind/PK_old_age_total_S_SI_SRN_ST_SD_2010>) ^ (?a qb:dataSet <pensions-by-region-by-sex-PK_old_age_total_S_SI_SRN_ST_SD>) -> (?a cssz-measure:prumerna-vyse-duchodu-v-kc <<8814.26__11444.72)_ef2_1/2>) | support: 5, headCoverage: 4.4503782821539834E-5, confidence: 0.3333333333333333, lift: 267.5, headConfidence: 0.0012461059190031153, headSize: 112350, bodySize: 15\n",
      "(?c czso:medianMzdy <<23528.0__23825.5)_es1_34/42>) ^ (?a cssz-dimension:pohlavi ?e) ^ (?c czso:sex ?e) ^ (?c czso:refPeriod ?d) ^ (?a cssz-dimension:refPeriod ?d) ^ (?c qb:dataSet <salaries-by-sex>) ^ (?c czso:refArea ?b) ^ (?a cssz-dimension:refArea ?b) ^ (?a cssz-dimension:druh-duchodu <https://data.cssz.cz/resource/pension-kind/PK_old_age_total_S_SI_SRN_ST_SD_2010>) ^ (?a qb:dataSet <pensions-by-region-by-sex-PK_old_age_total_S_SI_SRN_ST_SD>) -> (?a cssz-measure:prumerna-vyse-duchodu-v-kc <<11444.72__15557.61)_ef2_2/2>) | support: 1, headCoverage: 8.900756564307967E-6, confidence: 0.16666666666666666, lift: 133.75, headConfidence: 0.0012461059190031153, headSize: 112350, bodySize: 6\n",
      "(?c czso:prumernaMzda <<25851.0__26069.5)_es1_27/42>) ^ (?a cssz-dimension:pohlavi ?e) ^ (?c czso:sex ?e) ^ (?c czso:refPeriod ?d) ^ (?a cssz-dimension:refPeriod ?d) ^ (?c qb:dataSet <salaries-by-sex>) ^ (?c czso:refArea ?b) ^ (?a cssz-dimension:refArea ?b) ^ (?a cssz-dimension:druh-duchodu <https://data.cssz.cz/resource/pension-kind/PK_old_age_total_S_SI_SRN_ST_SD_2010>) ^ (?a qb:dataSet <pensions-by-region-by-sex-PK_old_age_total_S_SI_SRN_ST_SD>) -> (?a cssz-measure:prumerna-vyse-duchodu-v-kc <<8814.26__11444.72)_ef2_1/2>) | support: 1, headCoverage: 8.900756564307967E-6, confidence: 0.16666666666666666, lift: 133.75, headConfidence: 0.0012461059190031153, headSize: 112350, bodySize: 6\n",
      "(?c czso:medianMzdy <<22483.0__22719.0)_es1_27/42>) ^ (?a cssz-dimension:pohlavi ?e) ^ (?c czso:sex ?e) ^ (?c czso:refPeriod ?d) ^ (?a cssz-dimension:refPeriod ?d) ^ (?c qb:dataSet <salaries-by-sex>) ^ (?c czso:refArea ?b) ^ (?a cssz-dimension:refArea ?b) ^ (?a cssz-dimension:druh-duchodu <https://data.cssz.cz/resource/pension-kind/PK_old_age_total_S_SI_SRN_ST_SD_2010>) ^ (?a qb:dataSet <pensions-by-region-by-sex-PK_old_age_total_S_SI_SRN_ST_SD>) -> (?a cssz-measure:prumerna-vyse-duchodu-v-kc <<8814.26__11444.72)_ef2_1/2>) | support: 1, headCoverage: 8.900756564307967E-6, confidence: 0.16666666666666666, lift: 133.75, headConfidence: 0.0012461059190031153, headSize: 112350, bodySize: 6\n",
      "(?c czso:prumernaMzda <<25231.0__25458.5)_es2_24/42>) ^ (?a cssz-dimension:pohlavi ?e) ^ (?c czso:sex ?e) ^ (?c czso:refPeriod ?d) ^ (?a cssz-dimension:refPeriod ?d) ^ (?c qb:dataSet <salaries-by-sex>) ^ (?c czso:refArea ?b) ^ (?a cssz-dimension:refArea ?b) ^ (?a cssz-dimension:druh-duchodu <https://data.cssz.cz/resource/pension-kind/PK_old_age_total_S_SI_SRN_ST_SD_2010>) ^ (?a qb:dataSet <pensions-by-region-by-sex-PK_old_age_total_S_SI_SRN_ST_SD>) -> (?a cssz-measure:prumerna-vyse-duchodu-v-kc <<11444.72__15557.61)_ef2_2/2>) | support: 1, headCoverage: 8.900756564307967E-6, confidence: 0.16666666666666666, lift: 133.75, headConfidence: 0.0012461059190031153, headSize: 112350, bodySize: 6\n",
      "(?c czso:prumernaMzda <<24011.5__24832.5)_es1_21/42>) ^ (?a cssz-dimension:pohlavi ?e) ^ (?c czso:sex ?e) ^ (?c czso:refPeriod ?d) ^ (?a cssz-dimension:refPeriod ?d) ^ (?c qb:dataSet <salaries-by-sex>) ^ (?c czso:refArea ?b) ^ (?a cssz-dimension:refArea ?b) ^ (?a cssz-dimension:druh-duchodu <https://data.cssz.cz/resource/pension-kind/PK_old_age_total_S_SI_SRN_ST_SD_2010>) ^ (?a qb:dataSet <pensions-by-region-by-sex-PK_old_age_total_S_SI_SRN_ST_SD>) -> (?a cssz-measure:prumerna-vyse-duchodu-v-kc <<8814.26__11444.72)_ef2_1/2>) | support: 1, headCoverage: 8.900756564307967E-6, confidence: 0.16666666666666666, lift: 133.75, headConfidence: 0.0012461059190031153, headSize: 112350, bodySize: 6\n",
      "(?c czso:medianMzdy <<24157.5__31063.0)_ef7_7/7>) ^ (?a cssz-dimension:pohlavi ?e) ^ (?c czso:sex ?e) ^ (?c czso:refPeriod ?d) ^ (?a cssz-dimension:refPeriod ?d) ^ (?c qb:dataSet <salaries-by-sex>) ^ (?c czso:refArea ?b) ^ (?a cssz-dimension:refArea ?b) ^ (?a cssz-dimension:druh-duchodu <https://data.cssz.cz/resource/pension-kind/PK_old_age_total_S_SI_SRN_ST_SD_2010>) ^ (?a qb:dataSet <pensions-by-region-by-sex-PK_old_age_total_S_SI_SRN_ST_SD>) -> (?a cssz-measure:prumerna-vyse-duchodu-v-kc <<11444.72__15557.61)_ef2_2/2>) | support: 5, headCoverage: 4.4503782821539834E-5, confidence: 0.1388888888888889, lift: 111.45833333333333, headConfidence: 0.0012461059190031153, headSize: 112350, bodySize: 36\n",
      "(?c czso:prumernaMzda <<28321.5__29037.0)_es1_38/42>) ^ (?a cssz-dimension:pohlavi ?e) ^ (?c czso:sex ?e) ^ (?c czso:refPeriod ?d) ^ (?a cssz-dimension:refPeriod ?d) ^ (?c qb:dataSet <salaries-by-sex>) ^ (?c czso:refArea ?b) ^ (?a cssz-dimension:refArea ?b) ^ (?a cssz-dimension:druh-duchodu <https://data.cssz.cz/resource/pension-kind/PK_old_age_total_S_SI_SRN_ST_SD_2010>) ^ (?a qb:dataSet <pensions-by-region-by-sex-PK_old_age_total_S_SI_SRN_ST_SD>) -> (?a cssz-measure:prumerna-vyse-duchodu-v-kc <<8814.26__11444.72)_ef2_1/2>) | support: 1, headCoverage: 8.900756564307967E-6, confidence: 0.16666666666666666, lift: 133.75, headConfidence: 0.0012461059190031153, headSize: 112350, bodySize: 6\n",
      "(?c czso:prumernaMzda <<37820.5__41209.0)_es2_42/42>) ^ (?a cssz-dimension:pohlavi ?e) ^ (?c czso:sex ?e) ^ (?c czso:refPeriod ?d) ^ (?a cssz-dimension:refPeriod ?d) ^ (?c qb:dataSet <salaries-by-sex>) ^ (?c czso:refArea ?b) ^ (?a cssz-dimension:refArea ?b) ^ (?a cssz-dimension:druh-duchodu <https://data.cssz.cz/resource/pension-kind/PK_old_age_total_S_SI_SRN_ST_SD_2010>) ^ (?a qb:dataSet <pensions-by-region-by-sex-PK_old_age_total_S_SI_SRN_ST_SD>) -> (?a cssz-measure:prumerna-vyse-duchodu-v-kc <<11444.72__15557.61)_ef2_2/2>) | support: 2, headCoverage: 1.7801513128615933E-5, confidence: 0.3333333333333333, lift: 267.5, headConfidence: 0.0012461059190031153, headSize: 112350, bodySize: 6\n"
     ]
    },
    {
     "name": "stdout",
     "output_type": "stream",
     "text": [
      "(?c czso:medianMzdy <<22242.5__22418.5)_es5_10/16>) ^ (?a cssz-dimension:pohlavi ?e) ^ (?c czso:sex ?e) ^ (?c czso:refPeriod ?d) ^ (?a cssz-dimension:refPeriod ?d) ^ (?c qb:dataSet <salaries-by-sex>) ^ (?c czso:refArea ?b) ^ (?a cssz-dimension:refArea ?b) ^ (?a cssz-dimension:druh-duchodu <https://data.cssz.cz/resource/pension-kind/PK_old_age_total_S_SI_SRN_ST_SD_2010>) ^ (?a qb:dataSet <pensions-by-region-by-sex-PK_old_age_total_S_SI_SRN_ST_SD>) -> (?a cssz-measure:prumerna-vyse-duchodu-v-kc <<11444.72__15557.61)_ef2_2/2>) | support: 1, headCoverage: 8.900756564307967E-6, confidence: 0.06666666666666667, lift: 53.5, headConfidence: 0.0012461059190031153, headSize: 112350, bodySize: 15\n",
      "(?c czso:medianMzdy <<18935.0__19021.5)_es2_11/42>) ^ (?a cssz-dimension:pohlavi ?e) ^ (?c czso:sex ?e) ^ (?c czso:refPeriod ?d) ^ (?a cssz-dimension:refPeriod ?d) ^ (?c qb:dataSet <salaries-by-sex>) ^ (?c czso:refArea ?b) ^ (?a cssz-dimension:refArea ?b) ^ (?a cssz-dimension:druh-duchodu <https://data.cssz.cz/resource/pension-kind/PK_old_age_total_S_SI_SRN_ST_SD_2010>) ^ (?a qb:dataSet <pensions-by-region-by-sex-PK_old_age_total_S_SI_SRN_ST_SD>) -> (?a cssz-measure:prumerna-vyse-duchodu-v-kc <<8814.26__11444.72)_ef2_1/2>) | support: 2, headCoverage: 1.7801513128615933E-5, confidence: 0.3333333333333333, lift: 267.5, headConfidence: 0.0012461059190031153, headSize: 112350, bodySize: 6\n",
      "(?c czso:prumernaMzda <<20464.5__20528.0)_es1_9/42>) ^ (?a cssz-dimension:pohlavi ?e) ^ (?c czso:sex ?e) ^ (?c czso:refPeriod ?d) ^ (?a cssz-dimension:refPeriod ?d) ^ (?c qb:dataSet <salaries-by-sex>) ^ (?c czso:refArea ?b) ^ (?a cssz-dimension:refArea ?b) ^ (?a cssz-dimension:druh-duchodu <https://data.cssz.cz/resource/pension-kind/PK_old_age_total_S_SI_SRN_ST_SD_2010>) ^ (?a qb:dataSet <pensions-by-region-by-sex-PK_old_age_total_S_SI_SRN_ST_SD>) -> (?a cssz-measure:prumerna-vyse-duchodu-v-kc <<8814.26__11444.72)_ef2_1/2>) | support: 2, headCoverage: 1.7801513128615933E-5, confidence: 0.3333333333333333, lift: 267.5, headConfidence: 0.0012461059190031153, headSize: 112350, bodySize: 6\n",
      "(?c czso:medianMzdy <<18490.0__18724.5)_es1_8/42>) ^ (?a cssz-dimension:pohlavi ?e) ^ (?c czso:sex ?e) ^ (?c czso:refPeriod ?d) ^ (?a cssz-dimension:refPeriod ?d) ^ (?c qb:dataSet <salaries-by-sex>) ^ (?c czso:refArea ?b) ^ (?a cssz-dimension:refArea ?b) ^ (?a cssz-dimension:druh-duchodu <https://data.cssz.cz/resource/pension-kind/PK_old_age_total_S_SI_SRN_ST_SD_2010>) ^ (?a qb:dataSet <pensions-by-region-by-sex-PK_old_age_total_S_SI_SRN_ST_SD>) -> (?a cssz-measure:prumerna-vyse-duchodu-v-kc <<8814.26__11444.72)_ef2_1/2>) | support: 2, headCoverage: 1.7801513128615933E-5, confidence: 0.3333333333333333, lift: 267.5, headConfidence: 0.0012461059190031153, headSize: 112350, bodySize: 6\n",
      "(?c czso:medianMzdy <<22418.5__22483.0)_es2_26/42>) ^ (?a cssz-dimension:pohlavi ?e) ^ (?c czso:sex ?e) ^ (?c czso:refPeriod ?d) ^ (?a cssz-dimension:refPeriod ?d) ^ (?c qb:dataSet <salaries-by-sex>) ^ (?c czso:refArea ?b) ^ (?a cssz-dimension:refArea ?b) ^ (?a cssz-dimension:druh-duchodu <https://data.cssz.cz/resource/pension-kind/PK_old_age_total_S_SI_SRN_ST_SD_2010>) ^ (?a qb:dataSet <pensions-by-region-by-sex-PK_old_age_total_S_SI_SRN_ST_SD>) -> (?a cssz-measure:prumerna-vyse-duchodu-v-kc <<11444.72__15557.61)_ef2_2/2>) | support: 1, headCoverage: 8.900756564307967E-6, confidence: 0.16666666666666666, lift: 133.75, headConfidence: 0.0012461059190031153, headSize: 112350, bodySize: 6\n",
      "(?c czso:medianMzdy <<24157.5__24340.0)_es1_37/42>) ^ (?a cssz-dimension:pohlavi ?e) ^ (?c czso:sex ?e) ^ (?c czso:refPeriod ?d) ^ (?a cssz-dimension:refPeriod ?d) ^ (?c qb:dataSet <salaries-by-sex>) ^ (?c czso:refArea ?b) ^ (?a cssz-dimension:refArea ?b) ^ (?a cssz-dimension:druh-duchodu <https://data.cssz.cz/resource/pension-kind/PK_old_age_total_S_SI_SRN_ST_SD_2010>) ^ (?a qb:dataSet <pensions-by-region-by-sex-PK_old_age_total_S_SI_SRN_ST_SD>) -> (?a cssz-measure:prumerna-vyse-duchodu-v-kc <<8814.26__11444.72)_ef2_1/2>) | support: 2, headCoverage: 1.7801513128615933E-5, confidence: 0.3333333333333333, lift: 267.5, headConfidence: 0.0012461059190031153, headSize: 112350, bodySize: 6\n",
      "(?c czso:prumernaMzda <<21789.0__22087.5)_es1_18/42>) ^ (?a cssz-dimension:pohlavi ?e) ^ (?c czso:sex ?e) ^ (?c czso:refPeriod ?d) ^ (?a cssz-dimension:refPeriod ?d) ^ (?c qb:dataSet <salaries-by-sex>) ^ (?c czso:refArea ?b) ^ (?a cssz-dimension:refArea ?b) ^ (?a cssz-dimension:druh-duchodu <https://data.cssz.cz/resource/pension-kind/PK_old_age_total_S_SI_SRN_ST_SD_2010>) ^ (?a qb:dataSet <pensions-by-region-by-sex-PK_old_age_total_S_SI_SRN_ST_SD>) -> (?a cssz-measure:prumerna-vyse-duchodu-v-kc <<8814.26__11444.72)_ef2_1/2>) | support: 2, headCoverage: 1.7801513128615933E-5, confidence: 0.3333333333333333, lift: 267.5, headConfidence: 0.0012461059190031153, headSize: 112350, bodySize: 6\n",
      "(?c czso:medianMzdy <<21512.5__22242.5)_es5_9/16>) ^ (?a cssz-dimension:pohlavi ?e) ^ (?c czso:sex ?e) ^ (?c czso:refPeriod ?d) ^ (?a cssz-dimension:refPeriod ?d) ^ (?c qb:dataSet <salaries-by-sex>) ^ (?c czso:refArea ?b) ^ (?a cssz-dimension:refArea ?b) ^ (?a cssz-dimension:druh-duchodu <https://data.cssz.cz/resource/pension-kind/PK_old_age_total_S_SI_SRN_ST_SD_2010>) ^ (?a qb:dataSet <pensions-by-region-by-sex-PK_old_age_total_S_SI_SRN_ST_SD>) -> (?a cssz-measure:prumerna-vyse-duchodu-v-kc <<11444.72__15557.61)_ef2_2/2>) | support: 3, headCoverage: 2.67022696929239E-5, confidence: 0.2, lift: 160.5, headConfidence: 0.0012461059190031153, headSize: 112350, bodySize: 15\n",
      "(?c czso:prumernaMzda <<26722.0__28102.0)_es10_8/9>) ^ (?a cssz-dimension:pohlavi ?e) ^ (?c czso:sex ?e) ^ (?c czso:refPeriod ?d) ^ (?a cssz-dimension:refPeriod ?d) ^ (?c qb:dataSet <salaries-by-sex>) ^ (?c czso:refArea ?b) ^ (?a cssz-dimension:refArea ?b) ^ (?a cssz-dimension:druh-duchodu <https://data.cssz.cz/resource/pension-kind/PK_old_age_total_S_SI_SRN_ST_SD_2010>) ^ (?a qb:dataSet <pensions-by-region-by-sex-PK_old_age_total_S_SI_SRN_ST_SD>) -> (?a cssz-measure:prumerna-vyse-duchodu-v-kc <<8814.26__11444.72)_ef2_1/2>) | support: 5, headCoverage: 4.4503782821539834E-5, confidence: 0.16666666666666666, lift: 133.75, headConfidence: 0.0012461059190031153, headSize: 112350, bodySize: 30\n",
      "(?c czso:prumernaMzda <<22087.5__24434.0)_es5_8/16>) ^ (?a cssz-dimension:pohlavi ?e) ^ (?c czso:sex ?e) ^ (?c czso:refPeriod ?d) ^ (?a cssz-dimension:refPeriod ?d) ^ (?c qb:dataSet <salaries-by-sex>) ^ (?c czso:refArea ?b) ^ (?a cssz-dimension:refArea ?b) ^ (?a cssz-dimension:druh-duchodu <https://data.cssz.cz/resource/pension-kind/PK_old_age_total_S_SI_SRN_ST_SD_2010>) ^ (?a qb:dataSet <pensions-by-region-by-sex-PK_old_age_total_S_SI_SRN_ST_SD>) -> (?a cssz-measure:prumerna-vyse-duchodu-v-kc <<11444.72__15557.61)_ef2_2/2>) | support: 2, headCoverage: 1.7801513128615933E-5, confidence: 0.13333333333333333, lift: 107.0, headConfidence: 0.0012461059190031153, headSize: 112350, bodySize: 15\n",
      "(?c czso:medianMzdy <<17362.0__17368.5)_es2_1/42>) ^ (?a cssz-dimension:pohlavi ?e) ^ (?c czso:sex ?e) ^ (?c czso:refPeriod ?d) ^ (?a cssz-dimension:refPeriod ?d) ^ (?c qb:dataSet <salaries-by-sex>) ^ (?c czso:refArea ?b) ^ (?a cssz-dimension:refArea ?b) ^ (?a cssz-dimension:druh-duchodu <https://data.cssz.cz/resource/pension-kind/PK_old_age_total_S_SI_SRN_ST_SD_2010>) ^ (?a qb:dataSet <pensions-by-region-by-sex-PK_old_age_total_S_SI_SRN_ST_SD>) -> (?a cssz-measure:prumerna-vyse-duchodu-v-kc <<8814.26__11444.72)_ef2_1/2>) | support: 2, headCoverage: 1.7801513128615933E-5, confidence: 0.3333333333333333, lift: 267.5, headConfidence: 0.0012461059190031153, headSize: 112350, bodySize: 6\n"
     ]
    },
    {
     "name": "stdout",
     "output_type": "stream",
     "text": [
      "(?c czso:medianMzdy <<17362.0__18117.0)_es10_1/9>) ^ (?a cssz-dimension:pohlavi ?e) ^ (?c czso:sex ?e) ^ (?c czso:refPeriod ?d) ^ (?a cssz-dimension:refPeriod ?d) ^ (?c qb:dataSet <salaries-by-sex>) ^ (?c czso:refArea ?b) ^ (?a cssz-dimension:refArea ?b) ^ (?a cssz-dimension:druh-duchodu <https://data.cssz.cz/resource/pension-kind/PK_old_age_total_S_SI_SRN_ST_SD_2010>) ^ (?a qb:dataSet <pensions-by-region-by-sex-PK_old_age_total_S_SI_SRN_ST_SD>) -> (?a cssz-measure:prumerna-vyse-duchodu-v-kc <<8814.26__11444.72)_ef2_1/2>) | support: 9, headCoverage: 8.01068090787717E-5, confidence: 0.3333333333333333, lift: 267.5, headConfidence: 0.0012461059190031153, headSize: 112350, bodySize: 27\n",
      "(?c czso:medianMzdy <<22359.0__23044.0)_ef7_5/7>) ^ (?a cssz-dimension:pohlavi ?e) ^ (?c czso:sex ?e) ^ (?c czso:refPeriod ?d) ^ (?a cssz-dimension:refPeriod ?d) ^ (?c qb:dataSet <salaries-by-sex>) ^ (?c czso:refArea ?b) ^ (?a cssz-dimension:refArea ?b) ^ (?a cssz-dimension:druh-duchodu <https://data.cssz.cz/resource/pension-kind/PK_old_age_total_S_SI_SRN_ST_SD_2010>) ^ (?a qb:dataSet <pensions-by-region-by-sex-PK_old_age_total_S_SI_SRN_ST_SD>) -> (?a cssz-measure:prumerna-vyse-duchodu-v-kc <<11444.72__15557.61)_ef2_2/2>) | support: 8, headCoverage: 7.120605251446373E-5, confidence: 0.2222222222222222, lift: 178.33333333333331, headConfidence: 0.0012461059190031153, headSize: 112350, bodySize: 36\n",
      "(?c czso:prumernaMzda <<28321.5__29037.0)_es2_38/42>) ^ (?a cssz-dimension:pohlavi ?e) ^ (?c czso:sex ?e) ^ (?c czso:refPeriod ?d) ^ (?a cssz-dimension:refPeriod ?d) ^ (?c qb:dataSet <salaries-by-sex>) ^ (?c czso:refArea ?b) ^ (?a cssz-dimension:refArea ?b) ^ (?a cssz-dimension:druh-duchodu <https://data.cssz.cz/resource/pension-kind/PK_old_age_total_S_SI_SRN_ST_SD_2010>) ^ (?a qb:dataSet <pensions-by-region-by-sex-PK_old_age_total_S_SI_SRN_ST_SD>) -> (?a cssz-measure:prumerna-vyse-duchodu-v-kc <<11444.72__15557.61)_ef2_2/2>) | support: 1, headCoverage: 8.900756564307967E-6, confidence: 0.16666666666666666, lift: 133.75, headConfidence: 0.0012461059190031153, headSize: 112350, bodySize: 6\n",
      "(?c czso:prumernaMzda <<29037.0__29726.0)_es2_39/42>) ^ (?a cssz-dimension:pohlavi ?e) ^ (?c czso:sex ?e) ^ (?c czso:refPeriod ?d) ^ (?a cssz-dimension:refPeriod ?d) ^ (?c qb:dataSet <salaries-by-sex>) ^ (?c czso:refArea ?b) ^ (?a cssz-dimension:refArea ?b) ^ (?a cssz-dimension:druh-duchodu <https://data.cssz.cz/resource/pension-kind/PK_old_age_total_S_SI_SRN_ST_SD_2010>) ^ (?a qb:dataSet <pensions-by-region-by-sex-PK_old_age_total_S_SI_SRN_ST_SD>) -> (?a cssz-measure:prumerna-vyse-duchodu-v-kc <<8814.26__11444.72)_ef2_1/2>) | support: 1, headCoverage: 8.900756564307967E-6, confidence: 0.16666666666666666, lift: 133.75, headConfidence: 0.0012461059190031153, headSize: 112350, bodySize: 6\n",
      "(?c czso:prumernaMzda <<25851.0__26069.5)_es2_27/42>) ^ (?a cssz-dimension:pohlavi ?e) ^ (?c czso:sex ?e) ^ (?c czso:refPeriod ?d) ^ (?a cssz-dimension:refPeriod ?d) ^ (?c qb:dataSet <salaries-by-sex>) ^ (?c czso:refArea ?b) ^ (?a cssz-dimension:refArea ?b) ^ (?a cssz-dimension:druh-duchodu <https://data.cssz.cz/resource/pension-kind/PK_old_age_total_S_SI_SRN_ST_SD_2010>) ^ (?a qb:dataSet <pensions-by-region-by-sex-PK_old_age_total_S_SI_SRN_ST_SD>) -> (?a cssz-measure:prumerna-vyse-duchodu-v-kc <<11444.72__15557.61)_ef2_2/2>) | support: 1, headCoverage: 8.900756564307967E-6, confidence: 0.16666666666666666, lift: 133.75, headConfidence: 0.0012461059190031153, headSize: 112350, bodySize: 6\n",
      "(?c czso:prumernaMzda <<28102.0__41209.0)_es10_9/9>) ^ (?a cssz-dimension:pohlavi ?e) ^ (?c czso:sex ?e) ^ (?c czso:refPeriod ?d) ^ (?a cssz-dimension:refPeriod ?d) ^ (?c qb:dataSet <salaries-by-sex>) ^ (?c czso:refArea ?b) ^ (?a cssz-dimension:refArea ?b) ^ (?a cssz-dimension:druh-duchodu <https://data.cssz.cz/resource/pension-kind/PK_old_age_total_S_SI_SRN_ST_SD_2010>) ^ (?a qb:dataSet <pensions-by-region-by-sex-PK_old_age_total_S_SI_SRN_ST_SD>) -> (?a cssz-measure:prumerna-vyse-duchodu-v-kc <<11444.72__15557.61)_ef2_2/2>) | support: 6, headCoverage: 5.34045393858478E-5, confidence: 0.18181818181818182, lift: 145.9090909090909, headConfidence: 0.0012461059190031153, headSize: 112350, bodySize: 33\n",
      "(?c czso:medianMzdy <<18117.0__18843.5)_es10_2/9>) ^ (?a cssz-dimension:pohlavi ?e) ^ (?c czso:sex ?e) ^ (?c czso:refPeriod ?d) ^ (?a cssz-dimension:refPeriod ?d) ^ (?c qb:dataSet <salaries-by-sex>) ^ (?c czso:refArea ?b) ^ (?a cssz-dimension:refArea ?b) ^ (?a cssz-dimension:druh-duchodu <https://data.cssz.cz/resource/pension-kind/PK_old_age_total_S_SI_SRN_ST_SD_2010>) ^ (?a qb:dataSet <pensions-by-region-by-sex-PK_old_age_total_S_SI_SRN_ST_SD>) -> (?a cssz-measure:prumerna-vyse-duchodu-v-kc <<8814.26__11444.72)_ef2_1/2>) | support: 9, headCoverage: 8.01068090787717E-5, confidence: 0.3333333333333333, lift: 267.5, headConfidence: 0.0012461059190031153, headSize: 112350, bodySize: 27\n",
      "(?c czso:prumernaMzda <<21657.0__21789.0)_es1_17/42>) ^ (?a cssz-dimension:pohlavi ?e) ^ (?c czso:sex ?e) ^ (?c czso:refPeriod ?d) ^ (?a cssz-dimension:refPeriod ?d) ^ (?c qb:dataSet <salaries-by-sex>) ^ (?c czso:refArea ?b) ^ (?a cssz-dimension:refArea ?b) ^ (?a cssz-dimension:druh-duchodu <https://data.cssz.cz/resource/pension-kind/PK_old_age_total_S_SI_SRN_ST_SD_2010>) ^ (?a qb:dataSet <pensions-by-region-by-sex-PK_old_age_total_S_SI_SRN_ST_SD>) -> (?a cssz-measure:prumerna-vyse-duchodu-v-kc <<8814.26__11444.72)_ef2_1/2>) | support: 2, headCoverage: 1.7801513128615933E-5, confidence: 0.3333333333333333, lift: 267.5, headConfidence: 0.0012461059190031153, headSize: 112350, bodySize: 6\n",
      "(?c czso:prumernaMzda <<29381.0__41209.0)_es5_16/16>) ^ (?a cssz-dimension:pohlavi ?e) ^ (?c czso:sex ?e) ^ (?c czso:refPeriod ?d) ^ (?a cssz-dimension:refPeriod ?d) ^ (?c qb:dataSet <salaries-by-sex>) ^ (?c czso:refArea ?b) ^ (?a cssz-dimension:refArea ?b) ^ (?a cssz-dimension:druh-duchodu <https://data.cssz.cz/resource/pension-kind/PK_old_age_total_S_SI_SRN_ST_SD_2010>) ^ (?a qb:dataSet <pensions-by-region-by-sex-PK_old_age_total_S_SI_SRN_ST_SD>) -> (?a cssz-measure:prumerna-vyse-duchodu-v-kc <<8814.26__11444.72)_ef2_1/2>) | support: 4, headCoverage: 3.560302625723187E-5, confidence: 0.19047619047619047, lift: 152.85714285714283, headConfidence: 0.0012461059190031153, headSize: 112350, bodySize: 21\n",
      "(?c czso:prumernaMzda <<26143.5__26248.0)_es2_29/42>) ^ (?a cssz-dimension:pohlavi ?e) ^ (?c czso:sex ?e) ^ (?c czso:refPeriod ?d) ^ (?a cssz-dimension:refPeriod ?d) ^ (?c qb:dataSet <salaries-by-sex>) ^ (?c czso:refArea ?b) ^ (?a cssz-dimension:refArea ?b) ^ (?a cssz-dimension:druh-duchodu <https://data.cssz.cz/resource/pension-kind/PK_old_age_total_S_SI_SRN_ST_SD_2010>) ^ (?a qb:dataSet <pensions-by-region-by-sex-PK_old_age_total_S_SI_SRN_ST_SD>) -> (?a cssz-measure:prumerna-vyse-duchodu-v-kc <<11444.72__15557.61)_ef2_2/2>) | support: 1, headCoverage: 8.900756564307967E-6, confidence: 0.16666666666666666, lift: 133.75, headConfidence: 0.0012461059190031153, headSize: 112350, bodySize: 6\n",
      "(?c czso:medianMzdy <<23044.0__23183.5)_es2_31/42>) ^ (?a cssz-dimension:pohlavi ?e) ^ (?c czso:sex ?e) ^ (?c czso:refPeriod ?d) ^ (?a cssz-dimension:refPeriod ?d) ^ (?c qb:dataSet <salaries-by-sex>) ^ (?c czso:refArea ?b) ^ (?a cssz-dimension:refArea ?b) ^ (?a cssz-dimension:druh-duchodu <https://data.cssz.cz/resource/pension-kind/PK_old_age_total_S_SI_SRN_ST_SD_2010>) ^ (?a qb:dataSet <pensions-by-region-by-sex-PK_old_age_total_S_SI_SRN_ST_SD>) -> (?a cssz-measure:prumerna-vyse-duchodu-v-kc <<11444.72__15557.61)_ef2_2/2>) | support: 2, headCoverage: 1.7801513128615933E-5, confidence: 0.3333333333333333, lift: 267.5, headConfidence: 0.0012461059190031153, headSize: 112350, bodySize: 6\n"
     ]
    },
    {
     "name": "stdout",
     "output_type": "stream",
     "text": [
      "(?c czso:medianMzdy <<17362.0__17527.0)_es5_1/16>) ^ (?a cssz-dimension:pohlavi ?e) ^ (?c czso:sex ?e) ^ (?c czso:refPeriod ?d) ^ (?a cssz-dimension:refPeriod ?d) ^ (?c qb:dataSet <salaries-by-sex>) ^ (?c czso:refArea ?b) ^ (?a cssz-dimension:refArea ?b) ^ (?a cssz-dimension:druh-duchodu <https://data.cssz.cz/resource/pension-kind/PK_old_age_total_S_SI_SRN_ST_SD_2010>) ^ (?a qb:dataSet <pensions-by-region-by-sex-PK_old_age_total_S_SI_SRN_ST_SD>) -> (?a cssz-measure:prumerna-vyse-duchodu-v-kc <<8814.26__11444.72)_ef2_1/2>) | support: 5, headCoverage: 4.4503782821539834E-5, confidence: 0.3333333333333333, lift: 267.5, headConfidence: 0.0012461059190031153, headSize: 112350, bodySize: 15\n",
      "(?c czso:prumernaMzda <<26561.0__26827.5)_es1_32/42>) ^ (?a cssz-dimension:pohlavi ?e) ^ (?c czso:sex ?e) ^ (?c czso:refPeriod ?d) ^ (?a cssz-dimension:refPeriod ?d) ^ (?c qb:dataSet <salaries-by-sex>) ^ (?c czso:refArea ?b) ^ (?a cssz-dimension:refArea ?b) ^ (?a cssz-dimension:druh-duchodu <https://data.cssz.cz/resource/pension-kind/PK_old_age_total_S_SI_SRN_ST_SD_2010>) ^ (?a qb:dataSet <pensions-by-region-by-sex-PK_old_age_total_S_SI_SRN_ST_SD>) -> (?a cssz-measure:prumerna-vyse-duchodu-v-kc <<11444.72__15557.61)_ef2_2/2>) | support: 1, headCoverage: 8.900756564307967E-6, confidence: 0.16666666666666666, lift: 133.75, headConfidence: 0.0012461059190031153, headSize: 112350, bodySize: 6\n",
      "(?c czso:medianMzdy <<18724.5__18843.5)_es1_9/42>) ^ (?a cssz-dimension:pohlavi ?e) ^ (?c czso:sex ?e) ^ (?c czso:refPeriod ?d) ^ (?a cssz-dimension:refPeriod ?d) ^ (?c qb:dataSet <salaries-by-sex>) ^ (?c czso:refArea ?b) ^ (?a cssz-dimension:refArea ?b) ^ (?a cssz-dimension:druh-duchodu <https://data.cssz.cz/resource/pension-kind/PK_old_age_total_S_SI_SRN_ST_SD_2010>) ^ (?a qb:dataSet <pensions-by-region-by-sex-PK_old_age_total_S_SI_SRN_ST_SD>) -> (?a cssz-measure:prumerna-vyse-duchodu-v-kc <<8814.26__11444.72)_ef2_1/2>) | support: 2, headCoverage: 1.7801513128615933E-5, confidence: 0.3333333333333333, lift: 267.5, headConfidence: 0.0012461059190031153, headSize: 112350, bodySize: 6\n",
      "(?c czso:medianMzdy <<17362.0__19395.0)_ef3_1/3>) ^ (?a cssz-dimension:pohlavi ?e) ^ (?c czso:sex ?e) ^ (?c czso:refPeriod ?d) ^ (?a cssz-dimension:refPeriod ?d) ^ (?c qb:dataSet <salaries-by-sex>) ^ (?c czso:refArea ?b) ^ (?a cssz-dimension:refArea ?b) ^ (?a cssz-dimension:druh-duchodu <https://data.cssz.cz/resource/pension-kind/PK_old_age_total_S_SI_SRN_ST_SD_2010>) ^ (?a qb:dataSet <pensions-by-region-by-sex-PK_old_age_total_S_SI_SRN_ST_SD>) -> (?a cssz-measure:prumerna-vyse-duchodu-v-kc <<8814.26__11444.72)_ef2_1/2>) | support: 28, headCoverage: 2.4922118380062304E-4, confidence: 0.3333333333333333, lift: 267.5, headConfidence: 0.0012461059190031153, headSize: 112350, bodySize: 84\n",
      "(?c czso:medianMzdy <<19224.0__19493.0)_es5_6/16>) ^ (?a cssz-dimension:pohlavi ?e) ^ (?c czso:sex ?e) ^ (?c czso:refPeriod ?d) ^ (?a cssz-dimension:refPeriod ?d) ^ (?c qb:dataSet <salaries-by-sex>) ^ (?c czso:refArea ?b) ^ (?a cssz-dimension:refArea ?b) ^ (?a cssz-dimension:druh-duchodu <https://data.cssz.cz/resource/pension-kind/PK_old_age_total_S_SI_SRN_ST_SD_2010>) ^ (?a qb:dataSet <pensions-by-region-by-sex-PK_old_age_total_S_SI_SRN_ST_SD>) -> (?a cssz-measure:prumerna-vyse-duchodu-v-kc <<8814.26__11444.72)_ef2_1/2>) | support: 5, headCoverage: 4.4503782821539834E-5, confidence: 0.3333333333333333, lift: 267.5, headConfidence: 0.0012461059190031153, headSize: 112350, bodySize: 15\n",
      "(?c czso:prumernaMzda <<25121.5__26069.5)_es10_6/9>) ^ (?a cssz-dimension:pohlavi ?e) ^ (?c czso:sex ?e) ^ (?c czso:refPeriod ?d) ^ (?a cssz-dimension:refPeriod ?d) ^ (?c qb:dataSet <salaries-by-sex>) ^ (?c czso:refArea ?b) ^ (?a cssz-dimension:refArea ?b) ^ (?a cssz-dimension:druh-duchodu <https://data.cssz.cz/resource/pension-kind/PK_old_age_total_S_SI_SRN_ST_SD_2010>) ^ (?a qb:dataSet <pensions-by-region-by-sex-PK_old_age_total_S_SI_SRN_ST_SD>) -> (?a cssz-measure:prumerna-vyse-duchodu-v-kc <<8814.26__11444.72)_ef2_1/2>) | support: 4, headCoverage: 3.560302625723187E-5, confidence: 0.14814814814814814, lift: 118.88888888888887, headConfidence: 0.0012461059190031153, headSize: 112350, bodySize: 27\n",
      "(?c czso:medianMzdy <<19617.0__22396.5)_ef5_3/5>) ^ (?a cssz-dimension:pohlavi ?e) ^ (?c czso:sex ?e) ^ (?c czso:refPeriod ?d) ^ (?a cssz-dimension:refPeriod ?d) ^ (?c qb:dataSet <salaries-by-sex>) ^ (?c czso:refArea ?b) ^ (?a cssz-dimension:refArea ?b) ^ (?a cssz-dimension:druh-duchodu <https://data.cssz.cz/resource/pension-kind/PK_old_age_total_S_SI_SRN_ST_SD_2010>) ^ (?a qb:dataSet <pensions-by-region-by-sex-PK_old_age_total_S_SI_SRN_ST_SD>) -> (?a cssz-measure:prumerna-vyse-duchodu-v-kc <<11444.72__15557.61)_ef2_2/2>) | support: 5, headCoverage: 4.4503782821539834E-5, confidence: 0.09803921568627451, lift: 78.67647058823529, headConfidence: 0.0012461059190031153, headSize: 112350, bodySize: 51\n",
      "(?c czso:prumernaMzda <<21048.5__26143.5)_ef3_2/3>) ^ (?a cssz-dimension:pohlavi ?e) ^ (?c czso:sex ?e) ^ (?c czso:refPeriod ?d) ^ (?a cssz-dimension:refPeriod ?d) ^ (?c qb:dataSet <salaries-by-sex>) ^ (?c czso:refArea ?b) ^ (?a cssz-dimension:refArea ?b) ^ (?a cssz-dimension:druh-duchodu <https://data.cssz.cz/resource/pension-kind/PK_old_age_total_S_SI_SRN_ST_SD_2010>) ^ (?a qb:dataSet <pensions-by-region-by-sex-PK_old_age_total_S_SI_SRN_ST_SD>) -> (?a cssz-measure:prumerna-vyse-duchodu-v-kc <<8814.26__11444.72)_ef2_1/2>) | support: 17, headCoverage: 1.5131286159323541E-4, confidence: 0.20238095238095238, lift: 162.41071428571428, headConfidence: 0.0012461059190031153, headSize: 112350, bodySize: 84\n",
      "(?c czso:medianMzdy <<19617.0__19969.5)_es1_17/42>) ^ (?a cssz-dimension:pohlavi ?e) ^ (?c czso:sex ?e) ^ (?c czso:refPeriod ?d) ^ (?a cssz-dimension:refPeriod ?d) ^ (?c qb:dataSet <salaries-by-sex>) ^ (?c czso:refArea ?b) ^ (?a cssz-dimension:refArea ?b) ^ (?a cssz-dimension:druh-duchodu <https://data.cssz.cz/resource/pension-kind/PK_old_age_total_S_SI_SRN_ST_SD_2010>) ^ (?a qb:dataSet <pensions-by-region-by-sex-PK_old_age_total_S_SI_SRN_ST_SD>) -> (?a cssz-measure:prumerna-vyse-duchodu-v-kc <<8814.26__11444.72)_ef2_1/2>) | support: 2, headCoverage: 1.7801513128615933E-5, confidence: 0.3333333333333333, lift: 267.5, headConfidence: 0.0012461059190031153, headSize: 112350, bodySize: 6\n",
      "(?c czso:prumernaMzda <<26827.5__27200.5)_es1_33/42>) ^ (?a cssz-dimension:pohlavi ?e) ^ (?c czso:sex ?e) ^ (?c czso:refPeriod ?d) ^ (?a cssz-dimension:refPeriod ?d) ^ (?c qb:dataSet <salaries-by-sex>) ^ (?c czso:refArea ?b) ^ (?a cssz-dimension:refArea ?b) ^ (?a cssz-dimension:druh-duchodu <https://data.cssz.cz/resource/pension-kind/PK_old_age_total_S_SI_SRN_ST_SD_2010>) ^ (?a qb:dataSet <pensions-by-region-by-sex-PK_old_age_total_S_SI_SRN_ST_SD>) -> (?a cssz-measure:prumerna-vyse-duchodu-v-kc <<11444.72__15557.61)_ef2_2/2>) | support: 1, headCoverage: 8.900756564307967E-6, confidence: 0.16666666666666666, lift: 133.75, headConfidence: 0.0012461059190031153, headSize: 112350, bodySize: 6\n",
      "(?c czso:prumernaMzda <<20464.5__20528.0)_es2_9/42>) ^ (?a cssz-dimension:pohlavi ?e) ^ (?c czso:sex ?e) ^ (?c czso:refPeriod ?d) ^ (?a cssz-dimension:refPeriod ?d) ^ (?c qb:dataSet <salaries-by-sex>) ^ (?c czso:refArea ?b) ^ (?a cssz-dimension:refArea ?b) ^ (?a cssz-dimension:druh-duchodu <https://data.cssz.cz/resource/pension-kind/PK_old_age_total_S_SI_SRN_ST_SD_2010>) ^ (?a qb:dataSet <pensions-by-region-by-sex-PK_old_age_total_S_SI_SRN_ST_SD>) -> (?a cssz-measure:prumerna-vyse-duchodu-v-kc <<8814.26__11444.72)_ef2_1/2>) | support: 2, headCoverage: 1.7801513128615933E-5, confidence: 0.3333333333333333, lift: 267.5, headConfidence: 0.0012461059190031153, headSize: 112350, bodySize: 6\n"
     ]
    },
    {
     "name": "stdout",
     "output_type": "stream",
     "text": [
      "(?c czso:medianMzdy <<24050.0__25055.5)_es5_15/16>) ^ (?a cssz-dimension:pohlavi ?e) ^ (?c czso:sex ?e) ^ (?c czso:refPeriod ?d) ^ (?a cssz-dimension:refPeriod ?d) ^ (?c qb:dataSet <salaries-by-sex>) ^ (?c czso:refArea ?b) ^ (?a cssz-dimension:refArea ?b) ^ (?a cssz-dimension:druh-duchodu <https://data.cssz.cz/resource/pension-kind/PK_old_age_total_S_SI_SRN_ST_SD_2010>) ^ (?a qb:dataSet <pensions-by-region-by-sex-PK_old_age_total_S_SI_SRN_ST_SD>) -> (?a cssz-measure:prumerna-vyse-duchodu-v-kc <<8814.26__11444.72)_ef2_1/2>) | support: 3, headCoverage: 2.67022696929239E-5, confidence: 0.16666666666666666, lift: 133.75, headConfidence: 0.0012461059190031153, headSize: 112350, bodySize: 18\n",
      "(?c czso:medianMzdy <<22418.5__22483.0)_es1_26/42>) ^ (?a cssz-dimension:pohlavi ?e) ^ (?c czso:sex ?e) ^ (?c czso:refPeriod ?d) ^ (?a cssz-dimension:refPeriod ?d) ^ (?c qb:dataSet <salaries-by-sex>) ^ (?c czso:refArea ?b) ^ (?a cssz-dimension:refArea ?b) ^ (?a cssz-dimension:druh-duchodu <https://data.cssz.cz/resource/pension-kind/PK_old_age_total_S_SI_SRN_ST_SD_2010>) ^ (?a qb:dataSet <pensions-by-region-by-sex-PK_old_age_total_S_SI_SRN_ST_SD>) -> (?a cssz-measure:prumerna-vyse-duchodu-v-kc <<8814.26__11444.72)_ef2_1/2>) | support: 1, headCoverage: 8.900756564307967E-6, confidence: 0.16666666666666666, lift: 133.75, headConfidence: 0.0012461059190031153, headSize: 112350, bodySize: 6\n",
      "(?c czso:prumernaMzda <<19274.0__24832.5)_ef2_1/2>) ^ (?a cssz-dimension:pohlavi ?e) ^ (?c czso:sex ?e) ^ (?c czso:refPeriod ?d) ^ (?a cssz-dimension:refPeriod ?d) ^ (?c qb:dataSet <salaries-by-sex>) ^ (?c czso:refArea ?b) ^ (?a cssz-dimension:refArea ?b) ^ (?a cssz-dimension:druh-duchodu <https://data.cssz.cz/resource/pension-kind/PK_old_age_total_S_SI_SRN_ST_SD_2010>) ^ (?a qb:dataSet <pensions-by-region-by-sex-PK_old_age_total_S_SI_SRN_ST_SD>) -> (?a cssz-measure:prumerna-vyse-duchodu-v-kc <<11444.72__15557.61)_ef2_2/2>) | support: 2, headCoverage: 1.7801513128615933E-5, confidence: 0.015873015873015872, lift: 12.738095238095237, headConfidence: 0.0012461059190031153, headSize: 112350, bodySize: 126\n",
      "(?c czso:medianMzdy <<22806.5__23044.0)_es5_12/16>) ^ (?a cssz-dimension:pohlavi ?e) ^ (?c czso:sex ?e) ^ (?c czso:refPeriod ?d) ^ (?a cssz-dimension:refPeriod ?d) ^ (?c qb:dataSet <salaries-by-sex>) ^ (?c czso:refArea ?b) ^ (?a cssz-dimension:refArea ?b) ^ (?a cssz-dimension:druh-duchodu <https://data.cssz.cz/resource/pension-kind/PK_old_age_total_S_SI_SRN_ST_SD_2010>) ^ (?a qb:dataSet <pensions-by-region-by-sex-PK_old_age_total_S_SI_SRN_ST_SD>) -> (?a cssz-measure:prumerna-vyse-duchodu-v-kc <<8814.26__11444.72)_ef2_1/2>) | support: 1, headCoverage: 8.900756564307967E-6, confidence: 0.06666666666666667, lift: 53.5, headConfidence: 0.0012461059190031153, headSize: 112350, bodySize: 15\n",
      "(?c czso:prumernaMzda <<26143.5__26248.0)_es1_29/42>) ^ (?a cssz-dimension:pohlavi ?e) ^ (?c czso:sex ?e) ^ (?c czso:refPeriod ?d) ^ (?a cssz-dimension:refPeriod ?d) ^ (?c qb:dataSet <salaries-by-sex>) ^ (?c czso:refArea ?b) ^ (?a cssz-dimension:refArea ?b) ^ (?a cssz-dimension:druh-duchodu <https://data.cssz.cz/resource/pension-kind/PK_old_age_total_S_SI_SRN_ST_SD_2010>) ^ (?a qb:dataSet <pensions-by-region-by-sex-PK_old_age_total_S_SI_SRN_ST_SD>) -> (?a cssz-measure:prumerna-vyse-duchodu-v-kc <<11444.72__15557.61)_ef2_2/2>) | support: 1, headCoverage: 8.900756564307967E-6, confidence: 0.16666666666666666, lift: 133.75, headConfidence: 0.0012461059190031153, headSize: 112350, bodySize: 6\n",
      "(?c czso:prumernaMzda <<20528.0__20602.5)_es2_10/42>) ^ (?a cssz-dimension:pohlavi ?e) ^ (?c czso:sex ?e) ^ (?c czso:refPeriod ?d) ^ (?a cssz-dimension:refPeriod ?d) ^ (?c qb:dataSet <salaries-by-sex>) ^ (?c czso:refArea ?b) ^ (?a cssz-dimension:refArea ?b) ^ (?a cssz-dimension:druh-duchodu <https://data.cssz.cz/resource/pension-kind/PK_old_age_total_S_SI_SRN_ST_SD_2010>) ^ (?a qb:dataSet <pensions-by-region-by-sex-PK_old_age_total_S_SI_SRN_ST_SD>) -> (?a cssz-measure:prumerna-vyse-duchodu-v-kc <<8814.26__11444.72)_ef2_1/2>) | support: 2, headCoverage: 1.7801513128615933E-5, confidence: 0.3333333333333333, lift: 267.5, headConfidence: 0.0012461059190031153, headSize: 112350, bodySize: 6\n",
      "(?c czso:medianMzdy <<22719.0__23260.0)_es10_7/9>) ^ (?a cssz-dimension:pohlavi ?e) ^ (?c czso:sex ?e) ^ (?c czso:refPeriod ?d) ^ (?a cssz-dimension:refPeriod ?d) ^ (?c qb:dataSet <salaries-by-sex>) ^ (?c czso:refArea ?b) ^ (?a cssz-dimension:refArea ?b) ^ (?a cssz-dimension:druh-duchodu <https://data.cssz.cz/resource/pension-kind/PK_old_age_total_S_SI_SRN_ST_SD_2010>) ^ (?a qb:dataSet <pensions-by-region-by-sex-PK_old_age_total_S_SI_SRN_ST_SD>) -> (?a cssz-measure:prumerna-vyse-duchodu-v-kc <<8814.26__11444.72)_ef2_1/2>) | support: 1, headCoverage: 8.900756564307967E-6, confidence: 0.037037037037037035, lift: 29.722222222222218, headConfidence: 0.0012461059190031153, headSize: 112350, bodySize: 27\n",
      "(?c czso:medianMzdy <<20227.0__20396.5)_es2_19/42>) ^ (?a cssz-dimension:pohlavi ?e) ^ (?c czso:sex ?e) ^ (?c czso:refPeriod ?d) ^ (?a cssz-dimension:refPeriod ?d) ^ (?c qb:dataSet <salaries-by-sex>) ^ (?c czso:refArea ?b) ^ (?a cssz-dimension:refArea ?b) ^ (?a cssz-dimension:druh-duchodu <https://data.cssz.cz/resource/pension-kind/PK_old_age_total_S_SI_SRN_ST_SD_2010>) ^ (?a qb:dataSet <pensions-by-region-by-sex-PK_old_age_total_S_SI_SRN_ST_SD>) -> (?a cssz-measure:prumerna-vyse-duchodu-v-kc <<8814.26__11444.72)_ef2_1/2>) | support: 2, headCoverage: 1.7801513128615933E-5, confidence: 0.3333333333333333, lift: 267.5, headConfidence: 0.0012461059190031153, headSize: 112350, bodySize: 6\n",
      "(?c czso:prumernaMzda <<24434.0__25231.0)_es5_9/16>) ^ (?a cssz-dimension:pohlavi ?e) ^ (?c czso:sex ?e) ^ (?c czso:refPeriod ?d) ^ (?a cssz-dimension:refPeriod ?d) ^ (?c qb:dataSet <salaries-by-sex>) ^ (?c czso:refArea ?b) ^ (?a cssz-dimension:refArea ?b) ^ (?a cssz-dimension:druh-duchodu <https://data.cssz.cz/resource/pension-kind/PK_old_age_total_S_SI_SRN_ST_SD_2010>) ^ (?a qb:dataSet <pensions-by-region-by-sex-PK_old_age_total_S_SI_SRN_ST_SD>) -> (?a cssz-measure:prumerna-vyse-duchodu-v-kc <<8814.26__11444.72)_ef2_1/2>) | support: 3, headCoverage: 2.67022696929239E-5, confidence: 0.2, lift: 160.5, headConfidence: 0.0012461059190031153, headSize: 112350, bodySize: 15\n",
      "(?c czso:medianMzdy <<22846.5__31063.0)_ef3_3/3>) ^ (?a cssz-dimension:pohlavi ?e) ^ (?c czso:sex ?e) ^ (?c czso:refPeriod ?d) ^ (?a cssz-dimension:refPeriod ?d) ^ (?c qb:dataSet <salaries-by-sex>) ^ (?c czso:refArea ?b) ^ (?a cssz-dimension:refArea ?b) ^ (?a cssz-dimension:druh-duchodu <https://data.cssz.cz/resource/pension-kind/PK_old_age_total_S_SI_SRN_ST_SD_2010>) ^ (?a qb:dataSet <pensions-by-region-by-sex-PK_old_age_total_S_SI_SRN_ST_SD>) -> (?a cssz-measure:prumerna-vyse-duchodu-v-kc <<11444.72__15557.61)_ef2_2/2>) | support: 17, headCoverage: 1.5131286159323541E-4, confidence: 0.20238095238095238, lift: 162.41071428571428, headConfidence: 0.0012461059190031153, headSize: 112350, bodySize: 84\n",
      "(?c czso:medianMzdy <<21972.5__23183.5)_es20_3/4>) ^ (?a cssz-dimension:pohlavi ?e) ^ (?c czso:sex ?e) ^ (?c czso:refPeriod ?d) ^ (?a cssz-dimension:refPeriod ?d) ^ (?c qb:dataSet <salaries-by-sex>) ^ (?c czso:refArea ?b) ^ (?a cssz-dimension:refArea ?b) ^ (?a cssz-dimension:druh-duchodu <https://data.cssz.cz/resource/pension-kind/PK_old_age_total_S_SI_SRN_ST_SD_2010>) ^ (?a qb:dataSet <pensions-by-region-by-sex-PK_old_age_total_S_SI_SRN_ST_SD>) -> (?a cssz-measure:prumerna-vyse-duchodu-v-kc <<8814.26__11444.72)_ef2_1/2>) | support: 9, headCoverage: 8.01068090787717E-5, confidence: 0.14285714285714285, lift: 114.64285714285714, headConfidence: 0.0012461059190031153, headSize: 112350, bodySize: 63\n"
     ]
    },
    {
     "name": "stdout",
     "output_type": "stream",
     "text": [
      "(?c czso:prumernaMzda <<25077.5__25231.0)_es1_23/42>) ^ (?a cssz-dimension:pohlavi ?e) ^ (?c czso:sex ?e) ^ (?c czso:refPeriod ?d) ^ (?a cssz-dimension:refPeriod ?d) ^ (?c qb:dataSet <salaries-by-sex>) ^ (?c czso:refArea ?b) ^ (?a cssz-dimension:refArea ?b) ^ (?a cssz-dimension:druh-duchodu <https://data.cssz.cz/resource/pension-kind/PK_old_age_total_S_SI_SRN_ST_SD_2010>) ^ (?a qb:dataSet <pensions-by-region-by-sex-PK_old_age_total_S_SI_SRN_ST_SD>) -> (?a cssz-measure:prumerna-vyse-duchodu-v-kc <<11444.72__15557.61)_ef2_2/2>) | support: 1, headCoverage: 8.900756564307967E-6, confidence: 0.16666666666666666, lift: 133.75, headConfidence: 0.0012461059190031153, headSize: 112350, bodySize: 6\n",
      "(?c czso:prumernaMzda <<27860.0__41209.0)_ef7_7/7>) ^ (?a cssz-dimension:pohlavi ?e) ^ (?c czso:sex ?e) ^ (?c czso:refPeriod ?d) ^ (?a cssz-dimension:refPeriod ?d) ^ (?c qb:dataSet <salaries-by-sex>) ^ (?c czso:refArea ?b) ^ (?a cssz-dimension:refArea ?b) ^ (?a cssz-dimension:druh-duchodu <https://data.cssz.cz/resource/pension-kind/PK_old_age_total_S_SI_SRN_ST_SD_2010>) ^ (?a qb:dataSet <pensions-by-region-by-sex-PK_old_age_total_S_SI_SRN_ST_SD>) -> (?a cssz-measure:prumerna-vyse-duchodu-v-kc <<11444.72__15557.61)_ef2_2/2>) | support: 6, headCoverage: 5.34045393858478E-5, confidence: 0.16666666666666666, lift: 133.75, headConfidence: 0.0012461059190031153, headSize: 112350, bodySize: 36\n",
      "(?c czso:prumernaMzda <<20663.5__20707.5)_es2_12/42>) ^ (?a cssz-dimension:pohlavi ?e) ^ (?c czso:sex ?e) ^ (?c czso:refPeriod ?d) ^ (?a cssz-dimension:refPeriod ?d) ^ (?c qb:dataSet <salaries-by-sex>) ^ (?c czso:refArea ?b) ^ (?a cssz-dimension:refArea ?b) ^ (?a cssz-dimension:druh-duchodu <https://data.cssz.cz/resource/pension-kind/PK_old_age_total_S_SI_SRN_ST_SD_2010>) ^ (?a qb:dataSet <pensions-by-region-by-sex-PK_old_age_total_S_SI_SRN_ST_SD>) -> (?a cssz-measure:prumerna-vyse-duchodu-v-kc <<8814.26__11444.72)_ef2_1/2>) | support: 2, headCoverage: 1.7801513128615933E-5, confidence: 0.3333333333333333, lift: 267.5, headConfidence: 0.0012461059190031153, headSize: 112350, bodySize: 6\n",
      "(?c czso:prumernaMzda <<26827.5__27200.5)_es2_33/42>) ^ (?a cssz-dimension:pohlavi ?e) ^ (?c czso:sex ?e) ^ (?c czso:refPeriod ?d) ^ (?a cssz-dimension:refPeriod ?d) ^ (?c qb:dataSet <salaries-by-sex>) ^ (?c czso:refArea ?b) ^ (?a cssz-dimension:refArea ?b) ^ (?a cssz-dimension:druh-duchodu <https://data.cssz.cz/resource/pension-kind/PK_old_age_total_S_SI_SRN_ST_SD_2010>) ^ (?a qb:dataSet <pensions-by-region-by-sex-PK_old_age_total_S_SI_SRN_ST_SD>) -> (?a cssz-measure:prumerna-vyse-duchodu-v-kc <<11444.72__15557.61)_ef2_2/2>) | support: 1, headCoverage: 8.900756564307967E-6, confidence: 0.16666666666666666, lift: 133.75, headConfidence: 0.0012461059190031153, headSize: 112350, bodySize: 6\n",
      "(?c czso:medianMzdy <<19617.0__19969.5)_es2_17/42>) ^ (?a cssz-dimension:pohlavi ?e) ^ (?c czso:sex ?e) ^ (?c czso:refPeriod ?d) ^ (?a cssz-dimension:refPeriod ?d) ^ (?c qb:dataSet <salaries-by-sex>) ^ (?c czso:refArea ?b) ^ (?a cssz-dimension:refArea ?b) ^ (?a cssz-dimension:druh-duchodu <https://data.cssz.cz/resource/pension-kind/PK_old_age_total_S_SI_SRN_ST_SD_2010>) ^ (?a qb:dataSet <pensions-by-region-by-sex-PK_old_age_total_S_SI_SRN_ST_SD>) -> (?a cssz-measure:prumerna-vyse-duchodu-v-kc <<8814.26__11444.72)_ef2_1/2>) | support: 2, headCoverage: 1.7801513128615933E-5, confidence: 0.3333333333333333, lift: 267.5, headConfidence: 0.0012461059190031153, headSize: 112350, bodySize: 6\n",
      "(?c czso:prumernaMzda <<25458.5__26375.0)_ef7_5/7>) ^ (?a cssz-dimension:pohlavi ?e) ^ (?c czso:sex ?e) ^ (?c czso:refPeriod ?d) ^ (?a cssz-dimension:refPeriod ?d) ^ (?c qb:dataSet <salaries-by-sex>) ^ (?c czso:refArea ?b) ^ (?a cssz-dimension:refArea ?b) ^ (?a cssz-dimension:druh-duchodu <https://data.cssz.cz/resource/pension-kind/PK_old_age_total_S_SI_SRN_ST_SD_2010>) ^ (?a qb:dataSet <pensions-by-region-by-sex-PK_old_age_total_S_SI_SRN_ST_SD>) -> (?a cssz-measure:prumerna-vyse-duchodu-v-kc <<8814.26__11444.72)_ef2_1/2>) | support: 3, headCoverage: 2.67022696929239E-5, confidence: 0.08333333333333333, lift: 66.875, headConfidence: 0.0012461059190031153, headSize: 112350, bodySize: 36\n",
      "(?c czso:prumernaMzda <<20464.5__20647.5)_es5_4/16>) ^ (?a cssz-dimension:pohlavi ?e) ^ (?c czso:sex ?e) ^ (?c czso:refPeriod ?d) ^ (?a cssz-dimension:refPeriod ?d) ^ (?c qb:dataSet <salaries-by-sex>) ^ (?c czso:refArea ?b) ^ (?a cssz-dimension:refArea ?b) ^ (?a cssz-dimension:druh-duchodu <https://data.cssz.cz/resource/pension-kind/PK_old_age_total_S_SI_SRN_ST_SD_2010>) ^ (?a qb:dataSet <pensions-by-region-by-sex-PK_old_age_total_S_SI_SRN_ST_SD>) -> (?a cssz-measure:prumerna-vyse-duchodu-v-kc <<8814.26__11444.72)_ef2_1/2>) | support: 5, headCoverage: 4.4503782821539834E-5, confidence: 0.3333333333333333, lift: 267.5, headConfidence: 0.0012461059190031153, headSize: 112350, bodySize: 15\n",
      "(?c czso:prumernaMzda <<27200.5__41209.0)_ef5_5/5>) ^ (?a cssz-dimension:pohlavi ?e) ^ (?c czso:sex ?e) ^ (?c czso:refPeriod ?d) ^ (?a cssz-dimension:refPeriod ?d) ^ (?c qb:dataSet <salaries-by-sex>) ^ (?c czso:refArea ?b) ^ (?a cssz-dimension:refArea ?b) ^ (?a cssz-dimension:druh-duchodu <https://data.cssz.cz/resource/pension-kind/PK_old_age_total_S_SI_SRN_ST_SD_2010>) ^ (?a qb:dataSet <pensions-by-region-by-sex-PK_old_age_total_S_SI_SRN_ST_SD>) -> (?a cssz-measure:prumerna-vyse-duchodu-v-kc <<11444.72__15557.61)_ef2_2/2>) | support: 10, headCoverage: 8.900756564307967E-5, confidence: 0.18518518518518517, lift: 148.6111111111111, headConfidence: 0.0012461059190031153, headSize: 112350, bodySize: 54\n",
      "(?c czso:prumernaMzda <<20707.5__20941.0)_es1_13/42>) ^ (?a cssz-dimension:pohlavi ?e) ^ (?c czso:sex ?e) ^ (?c czso:refPeriod ?d) ^ (?a cssz-dimension:refPeriod ?d) ^ (?c qb:dataSet <salaries-by-sex>) ^ (?c czso:refArea ?b) ^ (?a cssz-dimension:refArea ?b) ^ (?a cssz-dimension:druh-duchodu <https://data.cssz.cz/resource/pension-kind/PK_old_age_total_S_SI_SRN_ST_SD_2010>) ^ (?a qb:dataSet <pensions-by-region-by-sex-PK_old_age_total_S_SI_SRN_ST_SD>) -> (?a cssz-measure:prumerna-vyse-duchodu-v-kc <<8814.26__11444.72)_ef2_1/2>) | support: 2, headCoverage: 1.7801513128615933E-5, confidence: 0.3333333333333333, lift: 267.5, headConfidence: 0.0012461059190031153, headSize: 112350, bodySize: 6\n",
      "(?c czso:medianMzdy <<22396.5__23528.0)_ef5_4/5>) ^ (?a cssz-dimension:pohlavi ?e) ^ (?c czso:sex ?e) ^ (?c czso:refPeriod ?d) ^ (?a cssz-dimension:refPeriod ?d) ^ (?c qb:dataSet <salaries-by-sex>) ^ (?c czso:refArea ?b) ^ (?a cssz-dimension:refArea ?b) ^ (?a cssz-dimension:druh-duchodu <https://data.cssz.cz/resource/pension-kind/PK_old_age_total_S_SI_SRN_ST_SD_2010>) ^ (?a qb:dataSet <pensions-by-region-by-sex-PK_old_age_total_S_SI_SRN_ST_SD>) -> (?a cssz-measure:prumerna-vyse-duchodu-v-kc <<8814.26__11444.72)_ef2_1/2>) | support: 6, headCoverage: 5.34045393858478E-5, confidence: 0.11764705882352941, lift: 94.41176470588235, headConfidence: 0.0012461059190031153, headSize: 112350, bodySize: 51\n",
      "(?c czso:medianMzdy <<25055.5__31063.0)_es5_16/16>) ^ (?a cssz-dimension:pohlavi ?e) ^ (?c czso:sex ?e) ^ (?c czso:refPeriod ?d) ^ (?a cssz-dimension:refPeriod ?d) ^ (?c qb:dataSet <salaries-by-sex>) ^ (?c czso:refArea ?b) ^ (?a cssz-dimension:refArea ?b) ^ (?a cssz-dimension:druh-duchodu <https://data.cssz.cz/resource/pension-kind/PK_old_age_total_S_SI_SRN_ST_SD_2010>) ^ (?a qb:dataSet <pensions-by-region-by-sex-PK_old_age_total_S_SI_SRN_ST_SD>) -> (?a cssz-measure:prumerna-vyse-duchodu-v-kc <<11444.72__15557.61)_ef2_2/2>) | support: 3, headCoverage: 2.67022696929239E-5, confidence: 0.14285714285714285, lift: 114.64285714285714, headConfidence: 0.0012461059190031153, headSize: 112350, bodySize: 21\n"
     ]
    },
    {
     "name": "stdout",
     "output_type": "stream",
     "text": [
      "(?c czso:prumernaMzda <<20647.5__20941.0)_es5_5/16>) ^ (?a cssz-dimension:pohlavi ?e) ^ (?c czso:sex ?e) ^ (?c czso:refPeriod ?d) ^ (?a cssz-dimension:refPeriod ?d) ^ (?c qb:dataSet <salaries-by-sex>) ^ (?c czso:refArea ?b) ^ (?a cssz-dimension:refArea ?b) ^ (?a cssz-dimension:druh-duchodu <https://data.cssz.cz/resource/pension-kind/PK_old_age_total_S_SI_SRN_ST_SD_2010>) ^ (?a qb:dataSet <pensions-by-region-by-sex-PK_old_age_total_S_SI_SRN_ST_SD>) -> (?a cssz-measure:prumerna-vyse-duchodu-v-kc <<8814.26__11444.72)_ef2_1/2>) | support: 5, headCoverage: 4.4503782821539834E-5, confidence: 0.3333333333333333, lift: 267.5, headConfidence: 0.0012461059190031153, headSize: 112350, bodySize: 15\n",
      "(?c czso:prumernaMzda <<25638.0__25851.0)_es1_26/42>) ^ (?a cssz-dimension:pohlavi ?e) ^ (?c czso:sex ?e) ^ (?c czso:refPeriod ?d) ^ (?a cssz-dimension:refPeriod ?d) ^ (?c qb:dataSet <salaries-by-sex>) ^ (?c czso:refArea ?b) ^ (?a cssz-dimension:refArea ?b) ^ (?a cssz-dimension:druh-duchodu <https://data.cssz.cz/resource/pension-kind/PK_old_age_total_S_SI_SRN_ST_SD_2010>) ^ (?a qb:dataSet <pensions-by-region-by-sex-PK_old_age_total_S_SI_SRN_ST_SD>) -> (?a cssz-measure:prumerna-vyse-duchodu-v-kc <<11444.72__15557.61)_ef2_2/2>) | support: 2, headCoverage: 1.7801513128615933E-5, confidence: 0.3333333333333333, lift: 267.5, headConfidence: 0.0012461059190031153, headSize: 112350, bodySize: 6\n",
      "(?c czso:prumernaMzda <<24832.5__41209.0)_ef2_2/2>) ^ (?a cssz-dimension:pohlavi ?e) ^ (?c czso:sex ?e) ^ (?c czso:refPeriod ?d) ^ (?a cssz-dimension:refPeriod ?d) ^ (?c qb:dataSet <salaries-by-sex>) ^ (?c czso:refArea ?b) ^ (?a cssz-dimension:refArea ?b) ^ (?a cssz-dimension:druh-duchodu <https://data.cssz.cz/resource/pension-kind/PK_old_age_total_S_SI_SRN_ST_SD_2010>) ^ (?a qb:dataSet <pensions-by-region-by-sex-PK_old_age_total_S_SI_SRN_ST_SD>) -> (?a cssz-measure:prumerna-vyse-duchodu-v-kc <<11444.72__15557.61)_ef2_2/2>) | support: 24, headCoverage: 2.136181575433912E-4, confidence: 0.19047619047619047, lift: 152.85714285714283, headConfidence: 0.0012461059190031153, headSize: 112350, bodySize: 126\n",
      "(?c czso:medianMzdy <<18232.5__19149.5)_ef7_2/7>) ^ (?a cssz-dimension:pohlavi ?e) ^ (?c czso:sex ?e) ^ (?c czso:refPeriod ?d) ^ (?a cssz-dimension:refPeriod ?d) ^ (?c qb:dataSet <salaries-by-sex>) ^ (?c czso:refArea ?b) ^ (?a cssz-dimension:refArea ?b) ^ (?a cssz-dimension:druh-duchodu <https://data.cssz.cz/resource/pension-kind/PK_old_age_total_S_SI_SRN_ST_SD_2010>) ^ (?a qb:dataSet <pensions-by-region-by-sex-PK_old_age_total_S_SI_SRN_ST_SD>) -> (?a cssz-measure:prumerna-vyse-duchodu-v-kc <<8814.26__11444.72)_ef2_1/2>) | support: 12, headCoverage: 1.068090787716956E-4, confidence: 0.3333333333333333, lift: 267.5, headConfidence: 0.0012461059190031153, headSize: 112350, bodySize: 36\n",
      "(?c czso:medianMzdy <<17948.0__18177.0)_es1_5/42>) ^ (?a cssz-dimension:pohlavi ?e) ^ (?c czso:sex ?e) ^ (?c czso:refPeriod ?d) ^ (?a cssz-dimension:refPeriod ?d) ^ (?c qb:dataSet <salaries-by-sex>) ^ (?c czso:refArea ?b) ^ (?a cssz-dimension:refArea ?b) ^ (?a cssz-dimension:druh-duchodu <https://data.cssz.cz/resource/pension-kind/PK_old_age_total_S_SI_SRN_ST_SD_2010>) ^ (?a qb:dataSet <pensions-by-region-by-sex-PK_old_age_total_S_SI_SRN_ST_SD>) -> (?a cssz-measure:prumerna-vyse-duchodu-v-kc <<8814.26__11444.72)_ef2_1/2>) | support: 2, headCoverage: 1.7801513128615933E-5, confidence: 0.3333333333333333, lift: 267.5, headConfidence: 0.0012461059190031153, headSize: 112350, bodySize: 6\n",
      "(?c czso:prumernaMzda <<20528.0__21040.5)_es10_3/9>) ^ (?a cssz-dimension:pohlavi ?e) ^ (?c czso:sex ?e) ^ (?c czso:refPeriod ?d) ^ (?a cssz-dimension:refPeriod ?d) ^ (?c qb:dataSet <salaries-by-sex>) ^ (?c czso:refArea ?b) ^ (?a cssz-dimension:refArea ?b) ^ (?a cssz-dimension:druh-duchodu <https://data.cssz.cz/resource/pension-kind/PK_old_age_total_S_SI_SRN_ST_SD_2010>) ^ (?a qb:dataSet <pensions-by-region-by-sex-PK_old_age_total_S_SI_SRN_ST_SD>) -> (?a cssz-measure:prumerna-vyse-duchodu-v-kc <<8814.26__11444.72)_ef2_1/2>) | support: 9, headCoverage: 8.01068090787717E-5, confidence: 0.3333333333333333, lift: 267.5, headConfidence: 0.0012461059190031153, headSize: 112350, bodySize: 27\n",
      "(?c czso:prumernaMzda <<30064.0__37820.5)_es2_41/42>) ^ (?a cssz-dimension:pohlavi ?e) ^ (?c czso:sex ?e) ^ (?c czso:refPeriod ?d) ^ (?a cssz-dimension:refPeriod ?d) ^ (?c qb:dataSet <salaries-by-sex>) ^ (?c czso:refArea ?b) ^ (?a cssz-dimension:refArea ?b) ^ (?a cssz-dimension:druh-duchodu <https://data.cssz.cz/resource/pension-kind/PK_old_age_total_S_SI_SRN_ST_SD_2010>) ^ (?a qb:dataSet <pensions-by-region-by-sex-PK_old_age_total_S_SI_SRN_ST_SD>) -> (?a cssz-measure:prumerna-vyse-duchodu-v-kc <<8814.26__11444.72)_ef2_1/2>) | support: 1, headCoverage: 8.900756564307967E-6, confidence: 0.16666666666666666, lift: 133.75, headConfidence: 0.0012461059190031153, headSize: 112350, bodySize: 6\n",
      "(?c czso:prumernaMzda <<21048.5__26143.5)_ef3_2/3>) ^ (?a cssz-dimension:pohlavi ?e) ^ (?c czso:sex ?e) ^ (?c czso:refPeriod ?d) ^ (?a cssz-dimension:refPeriod ?d) ^ (?c qb:dataSet <salaries-by-sex>) ^ (?c czso:refArea ?b) ^ (?a cssz-dimension:refArea ?b) ^ (?a cssz-dimension:druh-duchodu <https://data.cssz.cz/resource/pension-kind/PK_old_age_total_S_SI_SRN_ST_SD_2010>) ^ (?a qb:dataSet <pensions-by-region-by-sex-PK_old_age_total_S_SI_SRN_ST_SD>) -> (?a cssz-measure:prumerna-vyse-duchodu-v-kc <<11444.72__15557.61)_ef2_2/2>) | support: 11, headCoverage: 9.790832220738763E-5, confidence: 0.13095238095238096, lift: 105.08928571428571, headConfidence: 0.0012461059190031153, headSize: 112350, bodySize: 84\n",
      "(?c czso:medianMzdy <<18935.0__19224.0)_es5_5/16>) ^ (?a cssz-dimension:pohlavi ?e) ^ (?c czso:sex ?e) ^ (?c czso:refPeriod ?d) ^ (?a cssz-dimension:refPeriod ?d) ^ (?c qb:dataSet <salaries-by-sex>) ^ (?c czso:refArea ?b) ^ (?a cssz-dimension:refArea ?b) ^ (?a cssz-dimension:druh-duchodu <https://data.cssz.cz/resource/pension-kind/PK_old_age_total_S_SI_SRN_ST_SD_2010>) ^ (?a qb:dataSet <pensions-by-region-by-sex-PK_old_age_total_S_SI_SRN_ST_SD>) -> (?a cssz-measure:prumerna-vyse-duchodu-v-kc <<8814.26__11444.72)_ef2_1/2>) | support: 5, headCoverage: 4.4503782821539834E-5, confidence: 0.3333333333333333, lift: 267.5, headConfidence: 0.0012461059190031153, headSize: 112350, bodySize: 15\n",
      "(?c czso:prumernaMzda <<25681.0__26143.5)_es5_11/16>) ^ (?a cssz-dimension:pohlavi ?e) ^ (?c czso:sex ?e) ^ (?c czso:refPeriod ?d) ^ (?a cssz-dimension:refPeriod ?d) ^ (?c qb:dataSet <salaries-by-sex>) ^ (?c czso:refArea ?b) ^ (?a cssz-dimension:refArea ?b) ^ (?a cssz-dimension:druh-duchodu <https://data.cssz.cz/resource/pension-kind/PK_old_age_total_S_SI_SRN_ST_SD_2010>) ^ (?a qb:dataSet <pensions-by-region-by-sex-PK_old_age_total_S_SI_SRN_ST_SD>) -> (?a cssz-measure:prumerna-vyse-duchodu-v-kc <<8814.26__11444.72)_ef2_1/2>) | support: 1, headCoverage: 8.900756564307967E-6, confidence: 0.06666666666666667, lift: 53.5, headConfidence: 0.0012461059190031153, headSize: 112350, bodySize: 15\n",
      "(?c czso:prumernaMzda <<25592.5__27200.5)_ef5_4/5>) ^ (?a cssz-dimension:pohlavi ?e) ^ (?c czso:sex ?e) ^ (?c czso:refPeriod ?d) ^ (?a cssz-dimension:refPeriod ?d) ^ (?c qb:dataSet <salaries-by-sex>) ^ (?c czso:refArea ?b) ^ (?a cssz-dimension:refArea ?b) ^ (?a cssz-dimension:druh-duchodu <https://data.cssz.cz/resource/pension-kind/PK_old_age_total_S_SI_SRN_ST_SD_2010>) ^ (?a qb:dataSet <pensions-by-region-by-sex-PK_old_age_total_S_SI_SRN_ST_SD>) -> (?a cssz-measure:prumerna-vyse-duchodu-v-kc <<11444.72__15557.61)_ef2_2/2>) | support: 10, headCoverage: 8.900756564307967E-5, confidence: 0.19607843137254902, lift: 157.35294117647058, headConfidence: 0.0012461059190031153, headSize: 112350, bodySize: 51\n"
     ]
    },
    {
     "name": "stdout",
     "output_type": "stream",
     "text": [
      "(?c czso:medianMzdy <<17362.0__22117.0)_ef2_1/2>) ^ (?a cssz-dimension:pohlavi ?e) ^ (?c czso:sex ?e) ^ (?c czso:refPeriod ?d) ^ (?a cssz-dimension:refPeriod ?d) ^ (?c qb:dataSet <salaries-by-sex>) ^ (?c czso:refArea ?b) ^ (?a cssz-dimension:refArea ?b) ^ (?a cssz-dimension:druh-duchodu <https://data.cssz.cz/resource/pension-kind/PK_old_age_total_S_SI_SRN_ST_SD_2010>) ^ (?a qb:dataSet <pensions-by-region-by-sex-PK_old_age_total_S_SI_SRN_ST_SD>) -> (?a cssz-measure:prumerna-vyse-duchodu-v-kc <<11444.72__15557.61)_ef2_2/2>) | support: 3, headCoverage: 2.67022696929239E-5, confidence: 0.023809523809523808, lift: 19.107142857142854, headConfidence: 0.0012461059190031153, headSize: 112350, bodySize: 126\n",
      "(?c czso:medianMzdy <<22806.5__23044.0)_es5_12/16>) ^ (?a cssz-dimension:pohlavi ?e) ^ (?c czso:sex ?e) ^ (?c czso:refPeriod ?d) ^ (?a cssz-dimension:refPeriod ?d) ^ (?c qb:dataSet <salaries-by-sex>) ^ (?c czso:refArea ?b) ^ (?a cssz-dimension:refArea ?b) ^ (?a cssz-dimension:druh-duchodu <https://data.cssz.cz/resource/pension-kind/PK_old_age_total_S_SI_SRN_ST_SD_2010>) ^ (?a qb:dataSet <pensions-by-region-by-sex-PK_old_age_total_S_SI_SRN_ST_SD>) -> (?a cssz-measure:prumerna-vyse-duchodu-v-kc <<11444.72__15557.61)_ef2_2/2>) | support: 4, headCoverage: 3.560302625723187E-5, confidence: 0.26666666666666666, lift: 214.0, headConfidence: 0.0012461059190031153, headSize: 112350, bodySize: 15\n",
      "(?c czso:medianMzdy <<17362.0__18724.5)_ef5_1/5>) ^ (?a cssz-dimension:pohlavi ?e) ^ (?c czso:sex ?e) ^ (?c czso:refPeriod ?d) ^ (?a cssz-dimension:refPeriod ?d) ^ (?c qb:dataSet <salaries-by-sex>) ^ (?c czso:refArea ?b) ^ (?a cssz-dimension:refArea ?b) ^ (?a cssz-dimension:druh-duchodu <https://data.cssz.cz/resource/pension-kind/PK_old_age_total_S_SI_SRN_ST_SD_2010>) ^ (?a qb:dataSet <pensions-by-region-by-sex-PK_old_age_total_S_SI_SRN_ST_SD>) -> (?a cssz-measure:prumerna-vyse-duchodu-v-kc <<8814.26__11444.72)_ef2_1/2>) | support: 16, headCoverage: 1.4241210502892747E-4, confidence: 0.3333333333333333, lift: 267.5, headConfidence: 0.0012461059190031153, headSize: 112350, bodySize: 48\n",
      "(?c czso:medianMzdy <<23183.5__23337.5)_es1_32/42>) ^ (?a cssz-dimension:pohlavi ?e) ^ (?c czso:sex ?e) ^ (?c czso:refPeriod ?d) ^ (?a cssz-dimension:refPeriod ?d) ^ (?c qb:dataSet <salaries-by-sex>) ^ (?c czso:refArea ?b) ^ (?a cssz-dimension:refArea ?b) ^ (?a cssz-dimension:druh-duchodu <https://data.cssz.cz/resource/pension-kind/PK_old_age_total_S_SI_SRN_ST_SD_2010>) ^ (?a qb:dataSet <pensions-by-region-by-sex-PK_old_age_total_S_SI_SRN_ST_SD>) -> (?a cssz-measure:prumerna-vyse-duchodu-v-kc <<11444.72__15557.61)_ef2_2/2>) | support: 1, headCoverage: 8.900756564307967E-6, confidence: 0.16666666666666666, lift: 133.75, headConfidence: 0.0012461059190031153, headSize: 112350, bodySize: 6\n",
      "(?c czso:prumernaMzda <<25458.5__25638.0)_es1_25/42>) ^ (?a cssz-dimension:pohlavi ?e) ^ (?c czso:sex ?e) ^ (?c czso:refPeriod ?d) ^ (?a cssz-dimension:refPeriod ?d) ^ (?c qb:dataSet <salaries-by-sex>) ^ (?c czso:refArea ?b) ^ (?a cssz-dimension:refArea ?b) ^ (?a cssz-dimension:druh-duchodu <https://data.cssz.cz/resource/pension-kind/PK_old_age_total_S_SI_SRN_ST_SD_2010>) ^ (?a qb:dataSet <pensions-by-region-by-sex-PK_old_age_total_S_SI_SRN_ST_SD>) -> (?a cssz-measure:prumerna-vyse-duchodu-v-kc <<11444.72__15557.61)_ef2_2/2>) | support: 1, headCoverage: 8.900756564307967E-6, confidence: 0.16666666666666666, lift: 133.75, headConfidence: 0.0012461059190031153, headSize: 112350, bodySize: 6\n",
      "(?c czso:medianMzdy <<17362.0__18935.0)_es20_1/4>) ^ (?a cssz-dimension:pohlavi ?e) ^ (?c czso:sex ?e) ^ (?c czso:refPeriod ?d) ^ (?a cssz-dimension:refPeriod ?d) ^ (?c qb:dataSet <salaries-by-sex>) ^ (?c czso:refArea ?b) ^ (?a cssz-dimension:refArea ?b) ^ (?a cssz-dimension:druh-duchodu <https://data.cssz.cz/resource/pension-kind/PK_old_age_total_S_SI_SRN_ST_SD_2010>) ^ (?a qb:dataSet <pensions-by-region-by-sex-PK_old_age_total_S_SI_SRN_ST_SD>) -> (?a cssz-measure:prumerna-vyse-duchodu-v-kc <<8814.26__11444.72)_ef2_1/2>) | support: 20, headCoverage: 1.7801513128615933E-4, confidence: 0.3333333333333333, lift: 267.5, headConfidence: 0.0012461059190031153, headSize: 112350, bodySize: 60\n",
      "(?c czso:medianMzdy <<19969.5__20227.0)_es2_18/42>) ^ (?a cssz-dimension:pohlavi ?e) ^ (?c czso:sex ?e) ^ (?c czso:refPeriod ?d) ^ (?a cssz-dimension:refPeriod ?d) ^ (?c qb:dataSet <salaries-by-sex>) ^ (?c czso:refArea ?b) ^ (?a cssz-dimension:refArea ?b) ^ (?a cssz-dimension:druh-duchodu <https://data.cssz.cz/resource/pension-kind/PK_old_age_total_S_SI_SRN_ST_SD_2010>) ^ (?a qb:dataSet <pensions-by-region-by-sex-PK_old_age_total_S_SI_SRN_ST_SD>) -> (?a cssz-measure:prumerna-vyse-duchodu-v-kc <<8814.26__11444.72)_ef2_1/2>) | support: 2, headCoverage: 1.7801513128615933E-5, confidence: 0.3333333333333333, lift: 267.5, headConfidence: 0.0012461059190031153, headSize: 112350, bodySize: 6\n",
      "(?c czso:medianMzdy <<23528.0__31063.0)_ef5_5/5>) ^ (?a cssz-dimension:pohlavi ?e) ^ (?c czso:sex ?e) ^ (?c czso:refPeriod ?d) ^ (?a cssz-dimension:refPeriod ?d) ^ (?c qb:dataSet <salaries-by-sex>) ^ (?c czso:refArea ?b) ^ (?a cssz-dimension:refArea ?b) ^ (?a cssz-dimension:druh-duchodu <https://data.cssz.cz/resource/pension-kind/PK_old_age_total_S_SI_SRN_ST_SD_2010>) ^ (?a qb:dataSet <pensions-by-region-by-sex-PK_old_age_total_S_SI_SRN_ST_SD>) -> (?a cssz-measure:prumerna-vyse-duchodu-v-kc <<8814.26__11444.72)_ef2_1/2>) | support: 8, headCoverage: 7.120605251446373E-5, confidence: 0.14814814814814814, lift: 118.88888888888887, headConfidence: 0.0012461059190031153, headSize: 112350, bodySize: 54\n",
      "(?c czso:medianMzdy <<20227.0__22242.5)_es10_5/9>) ^ (?a cssz-dimension:pohlavi ?e) ^ (?c czso:sex ?e) ^ (?c czso:refPeriod ?d) ^ (?a cssz-dimension:refPeriod ?d) ^ (?c qb:dataSet <salaries-by-sex>) ^ (?c czso:refArea ?b) ^ (?a cssz-dimension:refArea ?b) ^ (?a cssz-dimension:druh-duchodu <https://data.cssz.cz/resource/pension-kind/PK_old_age_total_S_SI_SRN_ST_SD_2010>) ^ (?a qb:dataSet <pensions-by-region-by-sex-PK_old_age_total_S_SI_SRN_ST_SD>) -> (?a cssz-measure:prumerna-vyse-duchodu-v-kc <<11444.72__15557.61)_ef2_2/2>) | support: 4, headCoverage: 3.560302625723187E-5, confidence: 0.14814814814814814, lift: 118.88888888888887, headConfidence: 0.0012461059190031153, headSize: 112350, bodySize: 27\n",
      "(?c czso:medianMzdy <<24267.0__31063.0)_es10_9/9>) ^ (?a cssz-dimension:pohlavi ?e) ^ (?c czso:sex ?e) ^ (?c czso:refPeriod ?d) ^ (?a cssz-dimension:refPeriod ?d) ^ (?c qb:dataSet <salaries-by-sex>) ^ (?c czso:refArea ?b) ^ (?a cssz-dimension:refArea ?b) ^ (?a cssz-dimension:druh-duchodu <https://data.cssz.cz/resource/pension-kind/PK_old_age_total_S_SI_SRN_ST_SD_2010>) ^ (?a qb:dataSet <pensions-by-region-by-sex-PK_old_age_total_S_SI_SRN_ST_SD>) -> (?a cssz-measure:prumerna-vyse-duchodu-v-kc <<11444.72__15557.61)_ef2_2/2>) | support: 5, headCoverage: 4.4503782821539834E-5, confidence: 0.15151515151515152, lift: 121.5909090909091, headConfidence: 0.0012461059190031153, headSize: 112350, bodySize: 33\n",
      "(?c czso:prumernaMzda <<20941.0__21048.5)_es1_14/42>) ^ (?a cssz-dimension:pohlavi ?e) ^ (?c czso:sex ?e) ^ (?c czso:refPeriod ?d) ^ (?a cssz-dimension:refPeriod ?d) ^ (?c qb:dataSet <salaries-by-sex>) ^ (?c czso:refArea ?b) ^ (?a cssz-dimension:refArea ?b) ^ (?a cssz-dimension:druh-duchodu <https://data.cssz.cz/resource/pension-kind/PK_old_age_total_S_SI_SRN_ST_SD_2010>) ^ (?a qb:dataSet <pensions-by-region-by-sex-PK_old_age_total_S_SI_SRN_ST_SD>) -> (?a cssz-measure:prumerna-vyse-duchodu-v-kc <<8814.26__11444.72)_ef2_1/2>) | support: 2, headCoverage: 1.7801513128615933E-5, confidence: 0.3333333333333333, lift: 267.5, headConfidence: 0.0012461059190031153, headSize: 112350, bodySize: 6\n"
     ]
    },
    {
     "name": "stdout",
     "output_type": "stream",
     "text": [
      "(?c czso:prumernaMzda <<25077.5__25231.0)_es2_23/42>) ^ (?a cssz-dimension:pohlavi ?e) ^ (?c czso:sex ?e) ^ (?c czso:refPeriod ?d) ^ (?a cssz-dimension:refPeriod ?d) ^ (?c qb:dataSet <salaries-by-sex>) ^ (?c czso:refArea ?b) ^ (?a cssz-dimension:refArea ?b) ^ (?a cssz-dimension:druh-duchodu <https://data.cssz.cz/resource/pension-kind/PK_old_age_total_S_SI_SRN_ST_SD_2010>) ^ (?a qb:dataSet <pensions-by-region-by-sex-PK_old_age_total_S_SI_SRN_ST_SD>) -> (?a cssz-measure:prumerna-vyse-duchodu-v-kc <<11444.72__15557.61)_ef2_2/2>) | support: 1, headCoverage: 8.900756564307967E-6, confidence: 0.16666666666666666, lift: 133.75, headConfidence: 0.0012461059190031153, headSize: 112350, bodySize: 6\n",
      "(?c czso:prumernaMzda <<21266.0__21657.0)_es2_16/42>) ^ (?a cssz-dimension:pohlavi ?e) ^ (?c czso:sex ?e) ^ (?c czso:refPeriod ?d) ^ (?a cssz-dimension:refPeriod ?d) ^ (?c qb:dataSet <salaries-by-sex>) ^ (?c czso:refArea ?b) ^ (?a cssz-dimension:refArea ?b) ^ (?a cssz-dimension:druh-duchodu <https://data.cssz.cz/resource/pension-kind/PK_old_age_total_S_SI_SRN_ST_SD_2010>) ^ (?a qb:dataSet <pensions-by-region-by-sex-PK_old_age_total_S_SI_SRN_ST_SD>) -> (?a cssz-measure:prumerna-vyse-duchodu-v-kc <<8814.26__11444.72)_ef2_1/2>) | support: 2, headCoverage: 1.7801513128615933E-5, confidence: 0.3333333333333333, lift: 267.5, headConfidence: 0.0012461059190031153, headSize: 112350, bodySize: 6\n",
      "(?c czso:prumernaMzda <<24832.5__25077.5)_es1_22/42>) ^ (?a cssz-dimension:pohlavi ?e) ^ (?c czso:sex ?e) ^ (?c czso:refPeriod ?d) ^ (?a cssz-dimension:refPeriod ?d) ^ (?c qb:dataSet <salaries-by-sex>) ^ (?c czso:refArea ?b) ^ (?a cssz-dimension:refArea ?b) ^ (?a cssz-dimension:druh-duchodu <https://data.cssz.cz/resource/pension-kind/PK_old_age_total_S_SI_SRN_ST_SD_2010>) ^ (?a qb:dataSet <pensions-by-region-by-sex-PK_old_age_total_S_SI_SRN_ST_SD>) -> (?a cssz-measure:prumerna-vyse-duchodu-v-kc <<8814.26__11444.72)_ef2_1/2>) | support: 1, headCoverage: 8.900756564307967E-6, confidence: 0.16666666666666666, lift: 133.75, headConfidence: 0.0012461059190031153, headSize: 112350, bodySize: 6\n",
      "(?c czso:medianMzdy <<19149.5__19246.0)_es2_13/42>) ^ (?a cssz-dimension:pohlavi ?e) ^ (?c czso:sex ?e) ^ (?c czso:refPeriod ?d) ^ (?a cssz-dimension:refPeriod ?d) ^ (?c qb:dataSet <salaries-by-sex>) ^ (?c czso:refArea ?b) ^ (?a cssz-dimension:refArea ?b) ^ (?a cssz-dimension:druh-duchodu <https://data.cssz.cz/resource/pension-kind/PK_old_age_total_S_SI_SRN_ST_SD_2010>) ^ (?a qb:dataSet <pensions-by-region-by-sex-PK_old_age_total_S_SI_SRN_ST_SD>) -> (?a cssz-measure:prumerna-vyse-duchodu-v-kc <<8814.26__11444.72)_ef2_1/2>) | support: 2, headCoverage: 1.7801513128615933E-5, confidence: 0.3333333333333333, lift: 267.5, headConfidence: 0.0012461059190031153, headSize: 112350, bodySize: 6\n",
      "(?c czso:medianMzdy <<22359.0__22418.5)_es1_25/42>) ^ (?a cssz-dimension:pohlavi ?e) ^ (?c czso:sex ?e) ^ (?c czso:refPeriod ?d) ^ (?a cssz-dimension:refPeriod ?d) ^ (?c qb:dataSet <salaries-by-sex>) ^ (?c czso:refArea ?b) ^ (?a cssz-dimension:refArea ?b) ^ (?a cssz-dimension:druh-duchodu <https://data.cssz.cz/resource/pension-kind/PK_old_age_total_S_SI_SRN_ST_SD_2010>) ^ (?a qb:dataSet <pensions-by-region-by-sex-PK_old_age_total_S_SI_SRN_ST_SD>) -> (?a cssz-measure:prumerna-vyse-duchodu-v-kc <<8814.26__11444.72)_ef2_1/2>) | support: 1, headCoverage: 8.900756564307967E-6, confidence: 0.16666666666666666, lift: 133.75, headConfidence: 0.0012461059190031153, headSize: 112350, bodySize: 6\n",
      "(?c czso:prumernaMzda <<19404.0__19440.0)_es2_3/42>) ^ (?a cssz-dimension:pohlavi ?e) ^ (?c czso:sex ?e) ^ (?c czso:refPeriod ?d) ^ (?a cssz-dimension:refPeriod ?d) ^ (?c qb:dataSet <salaries-by-sex>) ^ (?c czso:refArea ?b) ^ (?a cssz-dimension:refArea ?b) ^ (?a cssz-dimension:druh-duchodu <https://data.cssz.cz/resource/pension-kind/PK_old_age_total_S_SI_SRN_ST_SD_2010>) ^ (?a qb:dataSet <pensions-by-region-by-sex-PK_old_age_total_S_SI_SRN_ST_SD>) -> (?a cssz-measure:prumerna-vyse-duchodu-v-kc <<8814.26__11444.72)_ef2_1/2>) | support: 2, headCoverage: 1.7801513128615933E-5, confidence: 0.3333333333333333, lift: 267.5, headConfidence: 0.0012461059190031153, headSize: 112350, bodySize: 6\n",
      "(?c czso:prumernaMzda <<22389.5__24011.5)_es2_20/42>) ^ (?a cssz-dimension:pohlavi ?e) ^ (?c czso:sex ?e) ^ (?c czso:refPeriod ?d) ^ (?a cssz-dimension:refPeriod ?d) ^ (?c qb:dataSet <salaries-by-sex>) ^ (?c czso:refArea ?b) ^ (?a cssz-dimension:refArea ?b) ^ (?a cssz-dimension:druh-duchodu <https://data.cssz.cz/resource/pension-kind/PK_old_age_total_S_SI_SRN_ST_SD_2010>) ^ (?a qb:dataSet <pensions-by-region-by-sex-PK_old_age_total_S_SI_SRN_ST_SD>) -> (?a cssz-measure:prumerna-vyse-duchodu-v-kc <<8814.26__11444.72)_ef2_1/2>) | support: 1, headCoverage: 8.900756564307967E-6, confidence: 0.16666666666666666, lift: 133.75, headConfidence: 0.0012461059190031153, headSize: 112350, bodySize: 6\n",
      "(?c czso:prumernaMzda <<21789.0__22087.5)_es2_18/42>) ^ (?a cssz-dimension:pohlavi ?e) ^ (?c czso:sex ?e) ^ (?c czso:refPeriod ?d) ^ (?a cssz-dimension:refPeriod ?d) ^ (?c qb:dataSet <salaries-by-sex>) ^ (?c czso:refArea ?b) ^ (?a cssz-dimension:refArea ?b) ^ (?a cssz-dimension:druh-duchodu <https://data.cssz.cz/resource/pension-kind/PK_old_age_total_S_SI_SRN_ST_SD_2010>) ^ (?a qb:dataSet <pensions-by-region-by-sex-PK_old_age_total_S_SI_SRN_ST_SD>) -> (?a cssz-measure:prumerna-vyse-duchodu-v-kc <<8814.26__11444.72)_ef2_1/2>) | support: 2, headCoverage: 1.7801513128615933E-5, confidence: 0.3333333333333333, lift: 267.5, headConfidence: 0.0012461059190031153, headSize: 112350, bodySize: 6\n",
      "(?c czso:prumernaMzda <<26561.0__41209.0)_es20_4/4>) ^ (?a cssz-dimension:pohlavi ?e) ^ (?c czso:sex ?e) ^ (?c czso:refPeriod ?d) ^ (?a cssz-dimension:refPeriod ?d) ^ (?c qb:dataSet <salaries-by-sex>) ^ (?c czso:refArea ?b) ^ (?a cssz-dimension:refArea ?b) ^ (?a cssz-dimension:druh-duchodu <https://data.cssz.cz/resource/pension-kind/PK_old_age_total_S_SI_SRN_ST_SD_2010>) ^ (?a qb:dataSet <pensions-by-region-by-sex-PK_old_age_total_S_SI_SRN_ST_SD>) -> (?a cssz-measure:prumerna-vyse-duchodu-v-kc <<8814.26__11444.72)_ef2_1/2>) | support: 10, headCoverage: 8.900756564307967E-5, confidence: 0.15151515151515152, lift: 121.5909090909091, headConfidence: 0.0012461059190031153, headSize: 112350, bodySize: 66\n",
      "(?c czso:prumernaMzda <<20464.5__21657.0)_ef5_2/5>) ^ (?a cssz-dimension:pohlavi ?e) ^ (?c czso:sex ?e) ^ (?c czso:refPeriod ?d) ^ (?a cssz-dimension:refPeriod ?d) ^ (?c qb:dataSet <salaries-by-sex>) ^ (?c czso:refArea ?b) ^ (?a cssz-dimension:refArea ?b) ^ (?a cssz-dimension:druh-duchodu <https://data.cssz.cz/resource/pension-kind/PK_old_age_total_S_SI_SRN_ST_SD_2010>) ^ (?a qb:dataSet <pensions-by-region-by-sex-PK_old_age_total_S_SI_SRN_ST_SD>) -> (?a cssz-measure:prumerna-vyse-duchodu-v-kc <<8814.26__11444.72)_ef2_1/2>) | support: 16, headCoverage: 1.4241210502892747E-4, confidence: 0.3333333333333333, lift: 267.5, headConfidence: 0.0012461059190031153, headSize: 112350, bodySize: 48\n",
      "(?c czso:medianMzdy <<19969.5__20227.0)_es1_18/42>) ^ (?a cssz-dimension:pohlavi ?e) ^ (?c czso:sex ?e) ^ (?c czso:refPeriod ?d) ^ (?a cssz-dimension:refPeriod ?d) ^ (?c qb:dataSet <salaries-by-sex>) ^ (?c czso:refArea ?b) ^ (?a cssz-dimension:refArea ?b) ^ (?a cssz-dimension:druh-duchodu <https://data.cssz.cz/resource/pension-kind/PK_old_age_total_S_SI_SRN_ST_SD_2010>) ^ (?a qb:dataSet <pensions-by-region-by-sex-PK_old_age_total_S_SI_SRN_ST_SD>) -> (?a cssz-measure:prumerna-vyse-duchodu-v-kc <<8814.26__11444.72)_ef2_1/2>) | support: 2, headCoverage: 1.7801513128615933E-5, confidence: 0.3333333333333333, lift: 267.5, headConfidence: 0.0012461059190031153, headSize: 112350, bodySize: 6\n"
     ]
    },
    {
     "name": "stdout",
     "output_type": "stream",
     "text": [
      "(?c czso:prumernaMzda <<27860.0__28321.5)_es1_37/42>) ^ (?a cssz-dimension:pohlavi ?e) ^ (?c czso:sex ?e) ^ (?c czso:refPeriod ?d) ^ (?a cssz-dimension:refPeriod ?d) ^ (?c qb:dataSet <salaries-by-sex>) ^ (?c czso:refArea ?b) ^ (?a cssz-dimension:refArea ?b) ^ (?a cssz-dimension:druh-duchodu <https://data.cssz.cz/resource/pension-kind/PK_old_age_total_S_SI_SRN_ST_SD_2010>) ^ (?a qb:dataSet <pensions-by-region-by-sex-PK_old_age_total_S_SI_SRN_ST_SD>) -> (?a cssz-measure:prumerna-vyse-duchodu-v-kc <<11444.72__15557.61)_ef2_2/2>) | support: 1, headCoverage: 8.900756564307967E-6, confidence: 0.16666666666666666, lift: 133.75, headConfidence: 0.0012461059190031153, headSize: 112350, bodySize: 6\n",
      "(?c czso:prumernaMzda <<19869.5__20528.0)_es10_2/9>) ^ (?a cssz-dimension:pohlavi ?e) ^ (?c czso:sex ?e) ^ (?c czso:refPeriod ?d) ^ (?a cssz-dimension:refPeriod ?d) ^ (?c qb:dataSet <salaries-by-sex>) ^ (?c czso:refArea ?b) ^ (?a cssz-dimension:refArea ?b) ^ (?a cssz-dimension:druh-duchodu <https://data.cssz.cz/resource/pension-kind/PK_old_age_total_S_SI_SRN_ST_SD_2010>) ^ (?a qb:dataSet <pensions-by-region-by-sex-PK_old_age_total_S_SI_SRN_ST_SD>) -> (?a cssz-measure:prumerna-vyse-duchodu-v-kc <<8814.26__11444.72)_ef2_1/2>) | support: 9, headCoverage: 8.01068090787717E-5, confidence: 0.3333333333333333, lift: 267.5, headConfidence: 0.0012461059190031153, headSize: 112350, bodySize: 27\n",
      "(?c czso:prumernaMzda <<20182.5__20464.5)_es1_8/42>) ^ (?a cssz-dimension:pohlavi ?e) ^ (?c czso:sex ?e) ^ (?c czso:refPeriod ?d) ^ (?a cssz-dimension:refPeriod ?d) ^ (?c qb:dataSet <salaries-by-sex>) ^ (?c czso:refArea ?b) ^ (?a cssz-dimension:refArea ?b) ^ (?a cssz-dimension:druh-duchodu <https://data.cssz.cz/resource/pension-kind/PK_old_age_total_S_SI_SRN_ST_SD_2010>) ^ (?a qb:dataSet <pensions-by-region-by-sex-PK_old_age_total_S_SI_SRN_ST_SD>) -> (?a cssz-measure:prumerna-vyse-duchodu-v-kc <<8814.26__11444.72)_ef2_1/2>) | support: 2, headCoverage: 1.7801513128615933E-5, confidence: 0.3333333333333333, lift: 267.5, headConfidence: 0.0012461059190031153, headSize: 112350, bodySize: 6\n",
      "(?c czso:medianMzdy <<23986.0__24157.5)_es2_36/42>) ^ (?a cssz-dimension:pohlavi ?e) ^ (?c czso:sex ?e) ^ (?c czso:refPeriod ?d) ^ (?a cssz-dimension:refPeriod ?d) ^ (?c qb:dataSet <salaries-by-sex>) ^ (?c czso:refArea ?b) ^ (?a cssz-dimension:refArea ?b) ^ (?a cssz-dimension:druh-duchodu <https://data.cssz.cz/resource/pension-kind/PK_old_age_total_S_SI_SRN_ST_SD_2010>) ^ (?a qb:dataSet <pensions-by-region-by-sex-PK_old_age_total_S_SI_SRN_ST_SD>) -> (?a cssz-measure:prumerna-vyse-duchodu-v-kc <<11444.72__15557.61)_ef2_2/2>) | support: 2, headCoverage: 1.7801513128615933E-5, confidence: 0.3333333333333333, lift: 267.5, headConfidence: 0.0012461059190031153, headSize: 112350, bodySize: 6\n",
      "(?c czso:prumernaMzda <<19404.0__19440.0)_es1_3/42>) ^ (?a cssz-dimension:pohlavi ?e) ^ (?c czso:sex ?e) ^ (?c czso:refPeriod ?d) ^ (?a cssz-dimension:refPeriod ?d) ^ (?c qb:dataSet <salaries-by-sex>) ^ (?c czso:refArea ?b) ^ (?a cssz-dimension:refArea ?b) ^ (?a cssz-dimension:druh-duchodu <https://data.cssz.cz/resource/pension-kind/PK_old_age_total_S_SI_SRN_ST_SD_2010>) ^ (?a qb:dataSet <pensions-by-region-by-sex-PK_old_age_total_S_SI_SRN_ST_SD>) -> (?a cssz-measure:prumerna-vyse-duchodu-v-kc <<8814.26__11444.72)_ef2_1/2>) | support: 2, headCoverage: 1.7801513128615933E-5, confidence: 0.3333333333333333, lift: 267.5, headConfidence: 0.0012461059190031153, headSize: 112350, bodySize: 6\n",
      "(?c czso:medianMzdy <<22911.5__23044.0)_es1_30/42>) ^ (?a cssz-dimension:pohlavi ?e) ^ (?c czso:sex ?e) ^ (?c czso:refPeriod ?d) ^ (?a cssz-dimension:refPeriod ?d) ^ (?c qb:dataSet <salaries-by-sex>) ^ (?c czso:refArea ?b) ^ (?a cssz-dimension:refArea ?b) ^ (?a cssz-dimension:druh-duchodu <https://data.cssz.cz/resource/pension-kind/PK_old_age_total_S_SI_SRN_ST_SD_2010>) ^ (?a qb:dataSet <pensions-by-region-by-sex-PK_old_age_total_S_SI_SRN_ST_SD>) -> (?a cssz-measure:prumerna-vyse-duchodu-v-kc <<11444.72__15557.61)_ef2_2/2>) | support: 2, headCoverage: 1.7801513128615933E-5, confidence: 0.3333333333333333, lift: 267.5, headConfidence: 0.0012461059190031153, headSize: 112350, bodySize: 6\n",
      "(?c czso:medianMzdy <<23183.5__23337.5)_es2_32/42>) ^ (?a cssz-dimension:pohlavi ?e) ^ (?c czso:sex ?e) ^ (?c czso:refPeriod ?d) ^ (?a cssz-dimension:refPeriod ?d) ^ (?c qb:dataSet <salaries-by-sex>) ^ (?c czso:refArea ?b) ^ (?a cssz-dimension:refArea ?b) ^ (?a cssz-dimension:druh-duchodu <https://data.cssz.cz/resource/pension-kind/PK_old_age_total_S_SI_SRN_ST_SD_2010>) ^ (?a qb:dataSet <pensions-by-region-by-sex-PK_old_age_total_S_SI_SRN_ST_SD>) -> (?a cssz-measure:prumerna-vyse-duchodu-v-kc <<11444.72__15557.61)_ef2_2/2>) | support: 1, headCoverage: 8.900756564307967E-6, confidence: 0.16666666666666666, lift: 133.75, headConfidence: 0.0012461059190031153, headSize: 112350, bodySize: 6\n",
      "(?c czso:prumernaMzda <<20707.5__22087.5)_ef7_3/7>) ^ (?a cssz-dimension:pohlavi ?e) ^ (?c czso:sex ?e) ^ (?c czso:refPeriod ?d) ^ (?a cssz-dimension:refPeriod ?d) ^ (?c qb:dataSet <salaries-by-sex>) ^ (?c czso:refArea ?b) ^ (?a cssz-dimension:refArea ?b) ^ (?a cssz-dimension:druh-duchodu <https://data.cssz.cz/resource/pension-kind/PK_old_age_total_S_SI_SRN_ST_SD_2010>) ^ (?a qb:dataSet <pensions-by-region-by-sex-PK_old_age_total_S_SI_SRN_ST_SD>) -> (?a cssz-measure:prumerna-vyse-duchodu-v-kc <<8814.26__11444.72)_ef2_1/2>) | support: 12, headCoverage: 1.068090787716956E-4, confidence: 0.3333333333333333, lift: 267.5, headConfidence: 0.0012461059190031153, headSize: 112350, bodySize: 36\n",
      "(?c czso:medianMzdy <<23528.0__23825.5)_es1_34/42>) ^ (?a cssz-dimension:pohlavi ?e) ^ (?c czso:sex ?e) ^ (?c czso:refPeriod ?d) ^ (?a cssz-dimension:refPeriod ?d) ^ (?c qb:dataSet <salaries-by-sex>) ^ (?c czso:refArea ?b) ^ (?a cssz-dimension:refArea ?b) ^ (?a cssz-dimension:druh-duchodu <https://data.cssz.cz/resource/pension-kind/PK_old_age_total_S_SI_SRN_ST_SD_2010>) ^ (?a qb:dataSet <pensions-by-region-by-sex-PK_old_age_total_S_SI_SRN_ST_SD>) -> (?a cssz-measure:prumerna-vyse-duchodu-v-kc <<8814.26__11444.72)_ef2_1/2>) | support: 1, headCoverage: 8.900756564307967E-6, confidence: 0.16666666666666666, lift: 133.75, headConfidence: 0.0012461059190031153, headSize: 112350, bodySize: 6\n",
      "(?c czso:medianMzdy <<19395.0__19493.0)_es2_15/42>) ^ (?a cssz-dimension:pohlavi ?e) ^ (?c czso:sex ?e) ^ (?c czso:refPeriod ?d) ^ (?a cssz-dimension:refPeriod ?d) ^ (?c qb:dataSet <salaries-by-sex>) ^ (?c czso:refArea ?b) ^ (?a cssz-dimension:refArea ?b) ^ (?a cssz-dimension:druh-duchodu <https://data.cssz.cz/resource/pension-kind/PK_old_age_total_S_SI_SRN_ST_SD_2010>) ^ (?a qb:dataSet <pensions-by-region-by-sex-PK_old_age_total_S_SI_SRN_ST_SD>) -> (?a cssz-measure:prumerna-vyse-duchodu-v-kc <<8814.26__11444.72)_ef2_1/2>) | support: 2, headCoverage: 1.7801513128615933E-5, confidence: 0.3333333333333333, lift: 267.5, headConfidence: 0.0012461059190031153, headSize: 112350, bodySize: 6\n",
      "(?c czso:medianMzdy <<20396.5__21512.5)_es2_20/42>) ^ (?a cssz-dimension:pohlavi ?e) ^ (?c czso:sex ?e) ^ (?c czso:refPeriod ?d) ^ (?a cssz-dimension:refPeriod ?d) ^ (?c qb:dataSet <salaries-by-sex>) ^ (?c czso:refArea ?b) ^ (?a cssz-dimension:refArea ?b) ^ (?a cssz-dimension:druh-duchodu <https://data.cssz.cz/resource/pension-kind/PK_old_age_total_S_SI_SRN_ST_SD_2010>) ^ (?a qb:dataSet <pensions-by-region-by-sex-PK_old_age_total_S_SI_SRN_ST_SD>) -> (?a cssz-measure:prumerna-vyse-duchodu-v-kc <<8814.26__11444.72)_ef2_1/2>) | support: 1, headCoverage: 8.900756564307967E-6, confidence: 0.16666666666666666, lift: 133.75, headConfidence: 0.0012461059190031153, headSize: 112350, bodySize: 6\n"
     ]
    },
    {
     "name": "stdout",
     "output_type": "stream",
     "text": [
      "(?c czso:prumernaMzda <<24434.0__26561.0)_es20_3/4>) ^ (?a cssz-dimension:pohlavi ?e) ^ (?c czso:sex ?e) ^ (?c czso:refPeriod ?d) ^ (?a cssz-dimension:refPeriod ?d) ^ (?c qb:dataSet <salaries-by-sex>) ^ (?c czso:refArea ?b) ^ (?a cssz-dimension:refArea ?b) ^ (?a cssz-dimension:druh-duchodu <https://data.cssz.cz/resource/pension-kind/PK_old_age_total_S_SI_SRN_ST_SD_2010>) ^ (?a qb:dataSet <pensions-by-region-by-sex-PK_old_age_total_S_SI_SRN_ST_SD>) -> (?a cssz-measure:prumerna-vyse-duchodu-v-kc <<8814.26__11444.72)_ef2_1/2>) | support: 9, headCoverage: 8.01068090787717E-5, confidence: 0.14285714285714285, lift: 114.64285714285714, headConfidence: 0.0012461059190031153, headSize: 112350, bodySize: 63\n",
      "(?c czso:medianMzdy <<21512.5__22117.0)_es1_21/42>) ^ (?a cssz-dimension:pohlavi ?e) ^ (?c czso:sex ?e) ^ (?c czso:refPeriod ?d) ^ (?a cssz-dimension:refPeriod ?d) ^ (?c qb:dataSet <salaries-by-sex>) ^ (?c czso:refArea ?b) ^ (?a cssz-dimension:refArea ?b) ^ (?a cssz-dimension:druh-duchodu <https://data.cssz.cz/resource/pension-kind/PK_old_age_total_S_SI_SRN_ST_SD_2010>) ^ (?a qb:dataSet <pensions-by-region-by-sex-PK_old_age_total_S_SI_SRN_ST_SD>) -> (?a cssz-measure:prumerna-vyse-duchodu-v-kc <<11444.72__15557.61)_ef2_2/2>) | support: 2, headCoverage: 1.7801513128615933E-5, confidence: 0.3333333333333333, lift: 267.5, headConfidence: 0.0012461059190031153, headSize: 112350, bodySize: 6\n",
      "(?c czso:prumernaMzda <<26375.0__26561.0)_es2_31/42>) ^ (?a cssz-dimension:pohlavi ?e) ^ (?c czso:sex ?e) ^ (?c czso:refPeriod ?d) ^ (?a cssz-dimension:refPeriod ?d) ^ (?c qb:dataSet <salaries-by-sex>) ^ (?c czso:refArea ?b) ^ (?a cssz-dimension:refArea ?b) ^ (?a cssz-dimension:druh-duchodu <https://data.cssz.cz/resource/pension-kind/PK_old_age_total_S_SI_SRN_ST_SD_2010>) ^ (?a qb:dataSet <pensions-by-region-by-sex-PK_old_age_total_S_SI_SRN_ST_SD>) -> (?a cssz-measure:prumerna-vyse-duchodu-v-kc <<8814.26__11444.72)_ef2_1/2>) | support: 2, headCoverage: 1.7801513128615933E-5, confidence: 0.3333333333333333, lift: 267.5, headConfidence: 0.0012461059190031153, headSize: 112350, bodySize: 6\n",
      "(?c czso:prumernaMzda <<22087.5__22389.5)_es1_19/42>) ^ (?a cssz-dimension:pohlavi ?e) ^ (?c czso:sex ?e) ^ (?c czso:refPeriod ?d) ^ (?a cssz-dimension:refPeriod ?d) ^ (?c qb:dataSet <salaries-by-sex>) ^ (?c czso:refArea ?b) ^ (?a cssz-dimension:refArea ?b) ^ (?a cssz-dimension:druh-duchodu <https://data.cssz.cz/resource/pension-kind/PK_old_age_total_S_SI_SRN_ST_SD_2010>) ^ (?a qb:dataSet <pensions-by-region-by-sex-PK_old_age_total_S_SI_SRN_ST_SD>) -> (?a cssz-measure:prumerna-vyse-duchodu-v-kc <<8814.26__11444.72)_ef2_1/2>) | support: 2, headCoverage: 1.7801513128615933E-5, confidence: 0.3333333333333333, lift: 267.5, headConfidence: 0.0012461059190031153, headSize: 112350, bodySize: 6\n",
      "(?c czso:medianMzdy <<22359.0__22418.5)_es1_25/42>) ^ (?a cssz-dimension:pohlavi ?e) ^ (?c czso:sex ?e) ^ (?c czso:refPeriod ?d) ^ (?a cssz-dimension:refPeriod ?d) ^ (?c qb:dataSet <salaries-by-sex>) ^ (?c czso:refArea ?b) ^ (?a cssz-dimension:refArea ?b) ^ (?a cssz-dimension:druh-duchodu <https://data.cssz.cz/resource/pension-kind/PK_old_age_total_S_SI_SRN_ST_SD_2010>) ^ (?a qb:dataSet <pensions-by-region-by-sex-PK_old_age_total_S_SI_SRN_ST_SD>) -> (?a cssz-measure:prumerna-vyse-duchodu-v-kc <<11444.72__15557.61)_ef2_2/2>) | support: 1, headCoverage: 8.900756564307967E-6, confidence: 0.16666666666666666, lift: 133.75, headConfidence: 0.0012461059190031153, headSize: 112350, bodySize: 6\n",
      "(?c czso:prumernaMzda <<27812.0__29381.0)_es5_15/16>) ^ (?a cssz-dimension:pohlavi ?e) ^ (?c czso:sex ?e) ^ (?c czso:refPeriod ?d) ^ (?a cssz-dimension:refPeriod ?d) ^ (?c qb:dataSet <salaries-by-sex>) ^ (?c czso:refArea ?b) ^ (?a cssz-dimension:refArea ?b) ^ (?a cssz-dimension:druh-duchodu <https://data.cssz.cz/resource/pension-kind/PK_old_age_total_S_SI_SRN_ST_SD_2010>) ^ (?a qb:dataSet <pensions-by-region-by-sex-PK_old_age_total_S_SI_SRN_ST_SD>) -> (?a cssz-measure:prumerna-vyse-duchodu-v-kc <<11444.72__15557.61)_ef2_2/2>) | support: 3, headCoverage: 2.67022696929239E-5, confidence: 0.16666666666666666, lift: 133.75, headConfidence: 0.0012461059190031153, headSize: 112350, bodySize: 18\n",
      "(?c czso:medianMzdy <<24157.5__24340.0)_es2_37/42>) ^ (?a cssz-dimension:pohlavi ?e) ^ (?c czso:sex ?e) ^ (?c czso:refPeriod ?d) ^ (?a cssz-dimension:refPeriod ?d) ^ (?c qb:dataSet <salaries-by-sex>) ^ (?c czso:refArea ?b) ^ (?a cssz-dimension:refArea ?b) ^ (?a cssz-dimension:druh-duchodu <https://data.cssz.cz/resource/pension-kind/PK_old_age_total_S_SI_SRN_ST_SD_2010>) ^ (?a qb:dataSet <pensions-by-region-by-sex-PK_old_age_total_S_SI_SRN_ST_SD>) -> (?a cssz-measure:prumerna-vyse-duchodu-v-kc <<8814.26__11444.72)_ef2_1/2>) | support: 2, headCoverage: 1.7801513128615933E-5, confidence: 0.3333333333333333, lift: 267.5, headConfidence: 0.0012461059190031153, headSize: 112350, bodySize: 6\n",
      "(?c czso:prumernaMzda <<25638.0__25851.0)_es2_26/42>) ^ (?a cssz-dimension:pohlavi ?e) ^ (?c czso:sex ?e) ^ (?c czso:refPeriod ?d) ^ (?a cssz-dimension:refPeriod ?d) ^ (?c qb:dataSet <salaries-by-sex>) ^ (?c czso:refArea ?b) ^ (?a cssz-dimension:refArea ?b) ^ (?a cssz-dimension:druh-duchodu <https://data.cssz.cz/resource/pension-kind/PK_old_age_total_S_SI_SRN_ST_SD_2010>) ^ (?a qb:dataSet <pensions-by-region-by-sex-PK_old_age_total_S_SI_SRN_ST_SD>) -> (?a cssz-measure:prumerna-vyse-duchodu-v-kc <<11444.72__15557.61)_ef2_2/2>) | support: 2, headCoverage: 1.7801513128615933E-5, confidence: 0.3333333333333333, lift: 267.5, headConfidence: 0.0012461059190031153, headSize: 112350, bodySize: 6\n",
      "(?c czso:medianMzdy <<20396.5__21512.5)_es1_20/42>) ^ (?a cssz-dimension:pohlavi ?e) ^ (?c czso:sex ?e) ^ (?c czso:refPeriod ?d) ^ (?a cssz-dimension:refPeriod ?d) ^ (?c qb:dataSet <salaries-by-sex>) ^ (?c czso:refArea ?b) ^ (?a cssz-dimension:refArea ?b) ^ (?a cssz-dimension:druh-duchodu <https://data.cssz.cz/resource/pension-kind/PK_old_age_total_S_SI_SRN_ST_SD_2010>) ^ (?a qb:dataSet <pensions-by-region-by-sex-PK_old_age_total_S_SI_SRN_ST_SD>) -> (?a cssz-measure:prumerna-vyse-duchodu-v-kc <<8814.26__11444.72)_ef2_1/2>) | support: 1, headCoverage: 8.900756564307967E-6, confidence: 0.16666666666666666, lift: 133.75, headConfidence: 0.0012461059190031153, headSize: 112350, bodySize: 6\n",
      "(?c czso:prumernaMzda <<19274.0__20602.5)_es20_1/4>) ^ (?a cssz-dimension:pohlavi ?e) ^ (?c czso:sex ?e) ^ (?c czso:refPeriod ?d) ^ (?a cssz-dimension:refPeriod ?d) ^ (?c qb:dataSet <salaries-by-sex>) ^ (?c czso:refArea ?b) ^ (?a cssz-dimension:refArea ?b) ^ (?a cssz-dimension:druh-duchodu <https://data.cssz.cz/resource/pension-kind/PK_old_age_total_S_SI_SRN_ST_SD_2010>) ^ (?a qb:dataSet <pensions-by-region-by-sex-PK_old_age_total_S_SI_SRN_ST_SD>) -> (?a cssz-measure:prumerna-vyse-duchodu-v-kc <<8814.26__11444.72)_ef2_1/2>) | support: 20, headCoverage: 1.7801513128615933E-4, confidence: 0.3333333333333333, lift: 267.5, headConfidence: 0.0012461059190031153, headSize: 112350, bodySize: 60\n",
      "(?c czso:prumernaMzda <<24832.5__25077.5)_es1_22/42>) ^ (?a cssz-dimension:pohlavi ?e) ^ (?c czso:sex ?e) ^ (?c czso:refPeriod ?d) ^ (?a cssz-dimension:refPeriod ?d) ^ (?c qb:dataSet <salaries-by-sex>) ^ (?c czso:refArea ?b) ^ (?a cssz-dimension:refArea ?b) ^ (?a cssz-dimension:druh-duchodu <https://data.cssz.cz/resource/pension-kind/PK_old_age_total_S_SI_SRN_ST_SD_2010>) ^ (?a qb:dataSet <pensions-by-region-by-sex-PK_old_age_total_S_SI_SRN_ST_SD>) -> (?a cssz-measure:prumerna-vyse-duchodu-v-kc <<11444.72__15557.61)_ef2_2/2>) | support: 1, headCoverage: 8.900756564307967E-6, confidence: 0.16666666666666666, lift: 133.75, headConfidence: 0.0012461059190031153, headSize: 112350, bodySize: 6\n"
     ]
    },
    {
     "name": "stdout",
     "output_type": "stream",
     "text": [
      "(?c czso:medianMzdy <<19246.0__19395.0)_es2_14/42>) ^ (?a cssz-dimension:pohlavi ?e) ^ (?c czso:sex ?e) ^ (?c czso:refPeriod ?d) ^ (?a cssz-dimension:refPeriod ?d) ^ (?c qb:dataSet <salaries-by-sex>) ^ (?c czso:refArea ?b) ^ (?a cssz-dimension:refArea ?b) ^ (?a cssz-dimension:druh-duchodu <https://data.cssz.cz/resource/pension-kind/PK_old_age_total_S_SI_SRN_ST_SD_2010>) ^ (?a qb:dataSet <pensions-by-region-by-sex-PK_old_age_total_S_SI_SRN_ST_SD>) -> (?a cssz-measure:prumerna-vyse-duchodu-v-kc <<8814.26__11444.72)_ef2_1/2>) | support: 2, headCoverage: 1.7801513128615933E-5, confidence: 0.3333333333333333, lift: 267.5, headConfidence: 0.0012461059190031153, headSize: 112350, bodySize: 6\n",
      "(?c czso:prumernaMzda <<20602.5__24434.0)_es20_2/4>) ^ (?a cssz-dimension:pohlavi ?e) ^ (?c czso:sex ?e) ^ (?c czso:refPeriod ?d) ^ (?a cssz-dimension:refPeriod ?d) ^ (?c qb:dataSet <salaries-by-sex>) ^ (?c czso:refArea ?b) ^ (?a cssz-dimension:refArea ?b) ^ (?a cssz-dimension:druh-duchodu <https://data.cssz.cz/resource/pension-kind/PK_old_age_total_S_SI_SRN_ST_SD_2010>) ^ (?a qb:dataSet <pensions-by-region-by-sex-PK_old_age_total_S_SI_SRN_ST_SD>) -> (?a cssz-measure:prumerna-vyse-duchodu-v-kc <<8814.26__11444.72)_ef2_1/2>) | support: 19, headCoverage: 1.6911437472185136E-4, confidence: 0.30158730158730157, lift: 242.0238095238095, headConfidence: 0.0012461059190031153, headSize: 112350, bodySize: 63\n",
      "(?c czso:prumernaMzda <<19953.0__20464.5)_es5_3/16>) ^ (?a cssz-dimension:pohlavi ?e) ^ (?c czso:sex ?e) ^ (?c czso:refPeriod ?d) ^ (?a cssz-dimension:refPeriod ?d) ^ (?c qb:dataSet <salaries-by-sex>) ^ (?c czso:refArea ?b) ^ (?a cssz-dimension:refArea ?b) ^ (?a cssz-dimension:druh-duchodu <https://data.cssz.cz/resource/pension-kind/PK_old_age_total_S_SI_SRN_ST_SD_2010>) ^ (?a qb:dataSet <pensions-by-region-by-sex-PK_old_age_total_S_SI_SRN_ST_SD>) -> (?a cssz-measure:prumerna-vyse-duchodu-v-kc <<8814.26__11444.72)_ef2_1/2>) | support: 5, headCoverage: 4.4503782821539834E-5, confidence: 0.3333333333333333, lift: 267.5, headConfidence: 0.0012461059190031153, headSize: 112350, bodySize: 15\n",
      "(?c czso:prumernaMzda <<22389.5__24011.5)_es2_20/42>) ^ (?a cssz-dimension:pohlavi ?e) ^ (?c czso:sex ?e) ^ (?c czso:refPeriod ?d) ^ (?a cssz-dimension:refPeriod ?d) ^ (?c qb:dataSet <salaries-by-sex>) ^ (?c czso:refArea ?b) ^ (?a cssz-dimension:refArea ?b) ^ (?a cssz-dimension:druh-duchodu <https://data.cssz.cz/resource/pension-kind/PK_old_age_total_S_SI_SRN_ST_SD_2010>) ^ (?a qb:dataSet <pensions-by-region-by-sex-PK_old_age_total_S_SI_SRN_ST_SD>) -> (?a cssz-measure:prumerna-vyse-duchodu-v-kc <<11444.72__15557.61)_ef2_2/2>) | support: 1, headCoverage: 8.900756564307967E-6, confidence: 0.16666666666666666, lift: 133.75, headConfidence: 0.0012461059190031153, headSize: 112350, bodySize: 6\n",
      "(?c czso:medianMzdy <<20227.0__22359.0)_ef7_4/7>) ^ (?a cssz-dimension:pohlavi ?e) ^ (?c czso:sex ?e) ^ (?c czso:refPeriod ?d) ^ (?a cssz-dimension:refPeriod ?d) ^ (?c qb:dataSet <salaries-by-sex>) ^ (?c czso:refArea ?b) ^ (?a cssz-dimension:refArea ?b) ^ (?a cssz-dimension:druh-duchodu <https://data.cssz.cz/resource/pension-kind/PK_old_age_total_S_SI_SRN_ST_SD_2010>) ^ (?a qb:dataSet <pensions-by-region-by-sex-PK_old_age_total_S_SI_SRN_ST_SD>) -> (?a cssz-measure:prumerna-vyse-duchodu-v-kc <<8814.26__11444.72)_ef2_1/2>) | support: 8, headCoverage: 7.120605251446373E-5, confidence: 0.2222222222222222, lift: 178.33333333333331, headConfidence: 0.0012461059190031153, headSize: 112350, bodySize: 36\n",
      "(?c czso:prumernaMzda <<26416.0__27200.5)_es5_13/16>) ^ (?a cssz-dimension:pohlavi ?e) ^ (?c czso:sex ?e) ^ (?c czso:refPeriod ?d) ^ (?a cssz-dimension:refPeriod ?d) ^ (?c qb:dataSet <salaries-by-sex>) ^ (?c czso:refArea ?b) ^ (?a cssz-dimension:refArea ?b) ^ (?a cssz-dimension:druh-duchodu <https://data.cssz.cz/resource/pension-kind/PK_old_age_total_S_SI_SRN_ST_SD_2010>) ^ (?a qb:dataSet <pensions-by-region-by-sex-PK_old_age_total_S_SI_SRN_ST_SD>) -> (?a cssz-measure:prumerna-vyse-duchodu-v-kc <<8814.26__11444.72)_ef2_1/2>) | support: 3, headCoverage: 2.67022696929239E-5, confidence: 0.2, lift: 160.5, headConfidence: 0.0012461059190031153, headSize: 112350, bodySize: 15\n",
      "(?c czso:prumernaMzda <<24011.5__24832.5)_es2_21/42>) ^ (?a cssz-dimension:pohlavi ?e) ^ (?c czso:sex ?e) ^ (?c czso:refPeriod ?d) ^ (?a cssz-dimension:refPeriod ?d) ^ (?c qb:dataSet <salaries-by-sex>) ^ (?c czso:refArea ?b) ^ (?a cssz-dimension:refArea ?b) ^ (?a cssz-dimension:druh-duchodu <https://data.cssz.cz/resource/pension-kind/PK_old_age_total_S_SI_SRN_ST_SD_2010>) ^ (?a qb:dataSet <pensions-by-region-by-sex-PK_old_age_total_S_SI_SRN_ST_SD>) -> (?a cssz-measure:prumerna-vyse-duchodu-v-kc <<8814.26__11444.72)_ef2_1/2>) | support: 1, headCoverage: 8.900756564307967E-6, confidence: 0.16666666666666666, lift: 133.75, headConfidence: 0.0012461059190031153, headSize: 112350, bodySize: 6\n",
      "(?c czso:medianMzdy <<24340.0__24683.0)_es1_38/42>) ^ (?a cssz-dimension:pohlavi ?e) ^ (?c czso:sex ?e) ^ (?c czso:refPeriod ?d) ^ (?a cssz-dimension:refPeriod ?d) ^ (?c qb:dataSet <salaries-by-sex>) ^ (?c czso:refArea ?b) ^ (?a cssz-dimension:refArea ?b) ^ (?a cssz-dimension:druh-duchodu <https://data.cssz.cz/resource/pension-kind/PK_old_age_total_S_SI_SRN_ST_SD_2010>) ^ (?a qb:dataSet <pensions-by-region-by-sex-PK_old_age_total_S_SI_SRN_ST_SD>) -> (?a cssz-measure:prumerna-vyse-duchodu-v-kc <<8814.26__11444.72)_ef2_1/2>) | support: 1, headCoverage: 8.900756564307967E-6, confidence: 0.16666666666666666, lift: 133.75, headConfidence: 0.0012461059190031153, headSize: 112350, bodySize: 6\n",
      "(?c czso:medianMzdy <<20227.0__20396.5)_es1_19/42>) ^ (?a cssz-dimension:pohlavi ?e) ^ (?c czso:sex ?e) ^ (?c czso:refPeriod ?d) ^ (?a cssz-dimension:refPeriod ?d) ^ (?c qb:dataSet <salaries-by-sex>) ^ (?c czso:refArea ?b) ^ (?a cssz-dimension:refArea ?b) ^ (?a cssz-dimension:druh-duchodu <https://data.cssz.cz/resource/pension-kind/PK_old_age_total_S_SI_SRN_ST_SD_2010>) ^ (?a qb:dataSet <pensions-by-region-by-sex-PK_old_age_total_S_SI_SRN_ST_SD>) -> (?a cssz-measure:prumerna-vyse-duchodu-v-kc <<8814.26__11444.72)_ef2_1/2>) | support: 2, headCoverage: 1.7801513128615933E-5, confidence: 0.3333333333333333, lift: 267.5, headConfidence: 0.0012461059190031153, headSize: 112350, bodySize: 6\n",
      "(?c czso:medianMzdy <<17486.0__17677.5)_es1_3/42>) ^ (?a cssz-dimension:pohlavi ?e) ^ (?c czso:sex ?e) ^ (?c czso:refPeriod ?d) ^ (?a cssz-dimension:refPeriod ?d) ^ (?c qb:dataSet <salaries-by-sex>) ^ (?c czso:refArea ?b) ^ (?a cssz-dimension:refArea ?b) ^ (?a cssz-dimension:druh-duchodu <https://data.cssz.cz/resource/pension-kind/PK_old_age_total_S_SI_SRN_ST_SD_2010>) ^ (?a qb:dataSet <pensions-by-region-by-sex-PK_old_age_total_S_SI_SRN_ST_SD>) -> (?a cssz-measure:prumerna-vyse-duchodu-v-kc <<8814.26__11444.72)_ef2_1/2>) | support: 2, headCoverage: 1.7801513128615933E-5, confidence: 0.3333333333333333, lift: 267.5, headConfidence: 0.0012461059190031153, headSize: 112350, bodySize: 6\n",
      "(?c czso:prumernaMzda <<26069.5__26722.0)_es10_7/9>) ^ (?a cssz-dimension:pohlavi ?e) ^ (?c czso:sex ?e) ^ (?c czso:refPeriod ?d) ^ (?a cssz-dimension:refPeriod ?d) ^ (?c qb:dataSet <salaries-by-sex>) ^ (?c czso:refArea ?b) ^ (?a cssz-dimension:refArea ?b) ^ (?a cssz-dimension:druh-duchodu <https://data.cssz.cz/resource/pension-kind/PK_old_age_total_S_SI_SRN_ST_SD_2010>) ^ (?a qb:dataSet <pensions-by-region-by-sex-PK_old_age_total_S_SI_SRN_ST_SD>) -> (?a cssz-measure:prumerna-vyse-duchodu-v-kc <<8814.26__11444.72)_ef2_1/2>) | support: 3, headCoverage: 2.67022696929239E-5, confidence: 0.1111111111111111, lift: 89.16666666666666, headConfidence: 0.0012461059190031153, headSize: 112350, bodySize: 27\n"
     ]
    },
    {
     "name": "stdout",
     "output_type": "stream",
     "text": [
      "(?c czso:medianMzdy <<18177.0__18232.5)_es2_6/42>) ^ (?a cssz-dimension:pohlavi ?e) ^ (?c czso:sex ?e) ^ (?c czso:refPeriod ?d) ^ (?a cssz-dimension:refPeriod ?d) ^ (?c qb:dataSet <salaries-by-sex>) ^ (?c czso:refArea ?b) ^ (?a cssz-dimension:refArea ?b) ^ (?a cssz-dimension:druh-duchodu <https://data.cssz.cz/resource/pension-kind/PK_old_age_total_S_SI_SRN_ST_SD_2010>) ^ (?a qb:dataSet <pensions-by-region-by-sex-PK_old_age_total_S_SI_SRN_ST_SD>) -> (?a cssz-measure:prumerna-vyse-duchodu-v-kc <<8814.26__11444.72)_ef2_1/2>) | support: 2, headCoverage: 1.7801513128615933E-5, confidence: 0.3333333333333333, lift: 267.5, headConfidence: 0.0012461059190031153, headSize: 112350, bodySize: 6\n",
      "(?c czso:prumernaMzda <<19274.0__21048.5)_ef3_1/3>) ^ (?a cssz-dimension:pohlavi ?e) ^ (?c czso:sex ?e) ^ (?c czso:refPeriod ?d) ^ (?a cssz-dimension:refPeriod ?d) ^ (?c qb:dataSet <salaries-by-sex>) ^ (?c czso:refArea ?b) ^ (?a cssz-dimension:refArea ?b) ^ (?a cssz-dimension:druh-duchodu <https://data.cssz.cz/resource/pension-kind/PK_old_age_total_S_SI_SRN_ST_SD_2010>) ^ (?a qb:dataSet <pensions-by-region-by-sex-PK_old_age_total_S_SI_SRN_ST_SD>) -> (?a cssz-measure:prumerna-vyse-duchodu-v-kc <<8814.26__11444.72)_ef2_1/2>) | support: 28, headCoverage: 2.4922118380062304E-4, confidence: 0.3333333333333333, lift: 267.5, headConfidence: 0.0012461059190031153, headSize: 112350, bodySize: 84\n",
      "(?c czso:medianMzdy <<22483.0__22719.0)_es2_27/42>) ^ (?a cssz-dimension:pohlavi ?e) ^ (?c czso:sex ?e) ^ (?c czso:refPeriod ?d) ^ (?a cssz-dimension:refPeriod ?d) ^ (?c qb:dataSet <salaries-by-sex>) ^ (?c czso:refArea ?b) ^ (?a cssz-dimension:refArea ?b) ^ (?a cssz-dimension:druh-duchodu <https://data.cssz.cz/resource/pension-kind/PK_old_age_total_S_SI_SRN_ST_SD_2010>) ^ (?a qb:dataSet <pensions-by-region-by-sex-PK_old_age_total_S_SI_SRN_ST_SD>) -> (?a cssz-measure:prumerna-vyse-duchodu-v-kc <<8814.26__11444.72)_ef2_1/2>) | support: 1, headCoverage: 8.900756564307967E-6, confidence: 0.16666666666666666, lift: 133.75, headConfidence: 0.0012461059190031153, headSize: 112350, bodySize: 6\n",
      "(?c czso:medianMzdy <<17362.0__18232.5)_ef7_1/7>) ^ (?a cssz-dimension:pohlavi ?e) ^ (?c czso:sex ?e) ^ (?c czso:refPeriod ?d) ^ (?a cssz-dimension:refPeriod ?d) ^ (?c qb:dataSet <salaries-by-sex>) ^ (?c czso:refArea ?b) ^ (?a cssz-dimension:refArea ?b) ^ (?a cssz-dimension:druh-duchodu <https://data.cssz.cz/resource/pension-kind/PK_old_age_total_S_SI_SRN_ST_SD_2010>) ^ (?a qb:dataSet <pensions-by-region-by-sex-PK_old_age_total_S_SI_SRN_ST_SD>) -> (?a cssz-measure:prumerna-vyse-duchodu-v-kc <<8814.26__11444.72)_ef2_1/2>) | support: 12, headCoverage: 1.068090787716956E-4, confidence: 0.3333333333333333, lift: 267.5, headConfidence: 0.0012461059190031153, headSize: 112350, bodySize: 36\n",
      "(?c czso:medianMzdy <<23044.0__24157.5)_ef7_6/7>) ^ (?a cssz-dimension:pohlavi ?e) ^ (?c czso:sex ?e) ^ (?c czso:refPeriod ?d) ^ (?a cssz-dimension:refPeriod ?d) ^ (?c qb:dataSet <salaries-by-sex>) ^ (?c czso:refArea ?b) ^ (?a cssz-dimension:refArea ?b) ^ (?a cssz-dimension:druh-duchodu <https://data.cssz.cz/resource/pension-kind/PK_old_age_total_S_SI_SRN_ST_SD_2010>) ^ (?a qb:dataSet <pensions-by-region-by-sex-PK_old_age_total_S_SI_SRN_ST_SD>) -> (?a cssz-measure:prumerna-vyse-duchodu-v-kc <<8814.26__11444.72)_ef2_1/2>) | support: 3, headCoverage: 2.67022696929239E-5, confidence: 0.08333333333333333, lift: 66.875, headConfidence: 0.0012461059190031153, headSize: 112350, bodySize: 36\n",
      "(?c czso:medianMzdy <<24683.0__25386.5)_es2_39/42>) ^ (?a cssz-dimension:pohlavi ?e) ^ (?c czso:sex ?e) ^ (?c czso:refPeriod ?d) ^ (?a cssz-dimension:refPeriod ?d) ^ (?c qb:dataSet <salaries-by-sex>) ^ (?c czso:refArea ?b) ^ (?a cssz-dimension:refArea ?b) ^ (?a cssz-dimension:druh-duchodu <https://data.cssz.cz/resource/pension-kind/PK_old_age_total_S_SI_SRN_ST_SD_2010>) ^ (?a qb:dataSet <pensions-by-region-by-sex-PK_old_age_total_S_SI_SRN_ST_SD>) -> (?a cssz-measure:prumerna-vyse-duchodu-v-kc <<8814.26__11444.72)_ef2_1/2>) | support: 1, headCoverage: 8.900756564307967E-6, confidence: 0.16666666666666666, lift: 133.75, headConfidence: 0.0012461059190031153, headSize: 112350, bodySize: 6\n",
      "(?c czso:medianMzdy <<18490.0__18724.5)_es2_8/42>) ^ (?a cssz-dimension:pohlavi ?e) ^ (?c czso:sex ?e) ^ (?c czso:refPeriod ?d) ^ (?a cssz-dimension:refPeriod ?d) ^ (?c qb:dataSet <salaries-by-sex>) ^ (?c czso:refArea ?b) ^ (?a cssz-dimension:refArea ?b) ^ (?a cssz-dimension:druh-duchodu <https://data.cssz.cz/resource/pension-kind/PK_old_age_total_S_SI_SRN_ST_SD_2010>) ^ (?a qb:dataSet <pensions-by-region-by-sex-PK_old_age_total_S_SI_SRN_ST_SD>) -> (?a cssz-measure:prumerna-vyse-duchodu-v-kc <<8814.26__11444.72)_ef2_1/2>) | support: 2, headCoverage: 1.7801513128615933E-5, confidence: 0.3333333333333333, lift: 267.5, headConfidence: 0.0012461059190031153, headSize: 112350, bodySize: 6\n",
      "(?c czso:prumernaMzda <<24434.0__26561.0)_es20_3/4>) ^ (?a cssz-dimension:pohlavi ?e) ^ (?c czso:sex ?e) ^ (?c czso:refPeriod ?d) ^ (?a cssz-dimension:refPeriod ?d) ^ (?c qb:dataSet <salaries-by-sex>) ^ (?c czso:refArea ?b) ^ (?a cssz-dimension:refArea ?b) ^ (?a cssz-dimension:druh-duchodu <https://data.cssz.cz/resource/pension-kind/PK_old_age_total_S_SI_SRN_ST_SD_2010>) ^ (?a qb:dataSet <pensions-by-region-by-sex-PK_old_age_total_S_SI_SRN_ST_SD>) -> (?a cssz-measure:prumerna-vyse-duchodu-v-kc <<11444.72__15557.61)_ef2_2/2>) | support: 12, headCoverage: 1.068090787716956E-4, confidence: 0.19047619047619047, lift: 152.85714285714283, headConfidence: 0.0012461059190031153, headSize: 112350, bodySize: 63\n",
      "(?c czso:medianMzdy <<18724.5__18843.5)_es2_9/42>) ^ (?a cssz-dimension:pohlavi ?e) ^ (?c czso:sex ?e) ^ (?c czso:refPeriod ?d) ^ (?a cssz-dimension:refPeriod ?d) ^ (?c qb:dataSet <salaries-by-sex>) ^ (?c czso:refArea ?b) ^ (?a cssz-dimension:refArea ?b) ^ (?a cssz-dimension:druh-duchodu <https://data.cssz.cz/resource/pension-kind/PK_old_age_total_S_SI_SRN_ST_SD_2010>) ^ (?a qb:dataSet <pensions-by-region-by-sex-PK_old_age_total_S_SI_SRN_ST_SD>) -> (?a cssz-measure:prumerna-vyse-duchodu-v-kc <<8814.26__11444.72)_ef2_1/2>) | support: 2, headCoverage: 1.7801513128615933E-5, confidence: 0.3333333333333333, lift: 267.5, headConfidence: 0.0012461059190031153, headSize: 112350, bodySize: 6\n",
      "(?c czso:medianMzdy <<17362.0__17368.5)_es1_1/42>) ^ (?a cssz-dimension:pohlavi ?e) ^ (?c czso:sex ?e) ^ (?c czso:refPeriod ?d) ^ (?a cssz-dimension:refPeriod ?d) ^ (?c qb:dataSet <salaries-by-sex>) ^ (?c czso:refArea ?b) ^ (?a cssz-dimension:refArea ?b) ^ (?a cssz-dimension:druh-duchodu <https://data.cssz.cz/resource/pension-kind/PK_old_age_total_S_SI_SRN_ST_SD_2010>) ^ (?a qb:dataSet <pensions-by-region-by-sex-PK_old_age_total_S_SI_SRN_ST_SD>) -> (?a cssz-measure:prumerna-vyse-duchodu-v-kc <<8814.26__11444.72)_ef2_1/2>) | support: 2, headCoverage: 1.7801513128615933E-5, confidence: 0.3333333333333333, lift: 267.5, headConfidence: 0.0012461059190031153, headSize: 112350, bodySize: 6\n",
      "(?c czso:prumernaMzda <<26069.5__26143.5)_es1_28/42>) ^ (?a cssz-dimension:pohlavi ?e) ^ (?c czso:sex ?e) ^ (?c czso:refPeriod ?d) ^ (?a cssz-dimension:refPeriod ?d) ^ (?c qb:dataSet <salaries-by-sex>) ^ (?c czso:refArea ?b) ^ (?a cssz-dimension:refArea ?b) ^ (?a cssz-dimension:druh-duchodu <https://data.cssz.cz/resource/pension-kind/PK_old_age_total_S_SI_SRN_ST_SD_2010>) ^ (?a qb:dataSet <pensions-by-region-by-sex-PK_old_age_total_S_SI_SRN_ST_SD>) -> (?a cssz-measure:prumerna-vyse-duchodu-v-kc <<11444.72__15557.61)_ef2_2/2>) | support: 2, headCoverage: 1.7801513128615933E-5, confidence: 0.3333333333333333, lift: 267.5, headConfidence: 0.0012461059190031153, headSize: 112350, bodySize: 6\n"
     ]
    },
    {
     "name": "stdout",
     "output_type": "stream",
     "text": [
      "(?c czso:medianMzdy <<22846.5__22911.5)_es2_29/42>) ^ (?a cssz-dimension:pohlavi ?e) ^ (?c czso:sex ?e) ^ (?c czso:refPeriod ?d) ^ (?a cssz-dimension:refPeriod ?d) ^ (?c qb:dataSet <salaries-by-sex>) ^ (?c czso:refArea ?b) ^ (?a cssz-dimension:refArea ?b) ^ (?a cssz-dimension:druh-duchodu <https://data.cssz.cz/resource/pension-kind/PK_old_age_total_S_SI_SRN_ST_SD_2010>) ^ (?a qb:dataSet <pensions-by-region-by-sex-PK_old_age_total_S_SI_SRN_ST_SD>) -> (?a cssz-measure:prumerna-vyse-duchodu-v-kc <<8814.26__11444.72)_ef2_1/2>) | support: 1, headCoverage: 8.900756564307967E-6, confidence: 0.16666666666666666, lift: 133.75, headConfidence: 0.0012461059190031153, headSize: 112350, bodySize: 6\n",
      "(?c czso:prumernaMzda <<19913.0__20024.0)_es1_6/42>) ^ (?a cssz-dimension:pohlavi ?e) ^ (?c czso:sex ?e) ^ (?c czso:refPeriod ?d) ^ (?a cssz-dimension:refPeriod ?d) ^ (?c qb:dataSet <salaries-by-sex>) ^ (?c czso:refArea ?b) ^ (?a cssz-dimension:refArea ?b) ^ (?a cssz-dimension:druh-duchodu <https://data.cssz.cz/resource/pension-kind/PK_old_age_total_S_SI_SRN_ST_SD_2010>) ^ (?a qb:dataSet <pensions-by-region-by-sex-PK_old_age_total_S_SI_SRN_ST_SD>) -> (?a cssz-measure:prumerna-vyse-duchodu-v-kc <<8814.26__11444.72)_ef2_1/2>) | support: 2, headCoverage: 1.7801513128615933E-5, confidence: 0.3333333333333333, lift: 267.5, headConfidence: 0.0012461059190031153, headSize: 112350, bodySize: 6\n",
      "(?c czso:prumernaMzda <<27860.0__28321.5)_es2_37/42>) ^ (?a cssz-dimension:pohlavi ?e) ^ (?c czso:sex ?e) ^ (?c czso:refPeriod ?d) ^ (?a cssz-dimension:refPeriod ?d) ^ (?c qb:dataSet <salaries-by-sex>) ^ (?c czso:refArea ?b) ^ (?a cssz-dimension:refArea ?b) ^ (?a cssz-dimension:druh-duchodu <https://data.cssz.cz/resource/pension-kind/PK_old_age_total_S_SI_SRN_ST_SD_2010>) ^ (?a qb:dataSet <pensions-by-region-by-sex-PK_old_age_total_S_SI_SRN_ST_SD>) -> (?a cssz-measure:prumerna-vyse-duchodu-v-kc <<8814.26__11444.72)_ef2_1/2>) | support: 1, headCoverage: 8.900756564307967E-6, confidence: 0.16666666666666666, lift: 133.75, headConfidence: 0.0012461059190031153, headSize: 112350, bodySize: 6\n",
      "(?c czso:medianMzdy <<23423.0__24050.0)_es5_14/16>) ^ (?a cssz-dimension:pohlavi ?e) ^ (?c czso:sex ?e) ^ (?c czso:refPeriod ?d) ^ (?a cssz-dimension:refPeriod ?d) ^ (?c qb:dataSet <salaries-by-sex>) ^ (?c czso:refArea ?b) ^ (?a cssz-dimension:refArea ?b) ^ (?a cssz-dimension:druh-duchodu <https://data.cssz.cz/resource/pension-kind/PK_old_age_total_S_SI_SRN_ST_SD_2010>) ^ (?a qb:dataSet <pensions-by-region-by-sex-PK_old_age_total_S_SI_SRN_ST_SD>) -> (?a cssz-measure:prumerna-vyse-duchodu-v-kc <<8814.26__11444.72)_ef2_1/2>) | support: 1, headCoverage: 8.900756564307967E-6, confidence: 0.05555555555555555, lift: 44.58333333333333, headConfidence: 0.0012461059190031153, headSize: 112350, bodySize: 18\n",
      "(?c czso:medianMzdy <<22117.0__31063.0)_ef2_2/2>) ^ (?a cssz-dimension:pohlavi ?e) ^ (?c czso:sex ?e) ^ (?c czso:refPeriod ?d) ^ (?a cssz-dimension:refPeriod ?d) ^ (?c qb:dataSet <salaries-by-sex>) ^ (?c czso:refArea ?b) ^ (?a cssz-dimension:refArea ?b) ^ (?a cssz-dimension:druh-duchodu <https://data.cssz.cz/resource/pension-kind/PK_old_age_total_S_SI_SRN_ST_SD_2010>) ^ (?a qb:dataSet <pensions-by-region-by-sex-PK_old_age_total_S_SI_SRN_ST_SD>) -> (?a cssz-measure:prumerna-vyse-duchodu-v-kc <<11444.72__15557.61)_ef2_2/2>) | support: 23, headCoverage: 2.0471740097908323E-4, confidence: 0.18253968253968253, lift: 146.4880952380952, headConfidence: 0.0012461059190031153, headSize: 112350, bodySize: 126\n",
      "(?c czso:prumernaMzda <<25231.0__25458.5)_es2_24/42>) ^ (?a cssz-dimension:pohlavi ?e) ^ (?c czso:sex ?e) ^ (?c czso:refPeriod ?d) ^ (?a cssz-dimension:refPeriod ?d) ^ (?c qb:dataSet <salaries-by-sex>) ^ (?c czso:refArea ?b) ^ (?a cssz-dimension:refArea ?b) ^ (?a cssz-dimension:druh-duchodu <https://data.cssz.cz/resource/pension-kind/PK_old_age_total_S_SI_SRN_ST_SD_2010>) ^ (?a qb:dataSet <pensions-by-region-by-sex-PK_old_age_total_S_SI_SRN_ST_SD>) -> (?a cssz-measure:prumerna-vyse-duchodu-v-kc <<8814.26__11444.72)_ef2_1/2>) | support: 1, headCoverage: 8.900756564307967E-6, confidence: 0.16666666666666666, lift: 133.75, headConfidence: 0.0012461059190031153, headSize: 112350, bodySize: 6\n",
      "(?c czso:medianMzdy <<22180.0__22287.0)_es1_23/42>) ^ (?a cssz-dimension:pohlavi ?e) ^ (?c czso:sex ?e) ^ (?c czso:refPeriod ?d) ^ (?a cssz-dimension:refPeriod ?d) ^ (?c qb:dataSet <salaries-by-sex>) ^ (?c czso:refArea ?b) ^ (?a cssz-dimension:refArea ?b) ^ (?a cssz-dimension:druh-duchodu <https://data.cssz.cz/resource/pension-kind/PK_old_age_total_S_SI_SRN_ST_SD_2010>) ^ (?a qb:dataSet <pensions-by-region-by-sex-PK_old_age_total_S_SI_SRN_ST_SD>) -> (?a cssz-measure:prumerna-vyse-duchodu-v-kc <<8814.26__11444.72)_ef2_1/2>) | support: 1, headCoverage: 8.900756564307967E-6, confidence: 0.16666666666666666, lift: 133.75, headConfidence: 0.0012461059190031153, headSize: 112350, bodySize: 6\n",
      "(?c czso:prumernaMzda <<26561.0__26827.5)_es2_32/42>) ^ (?a cssz-dimension:pohlavi ?e) ^ (?c czso:sex ?e) ^ (?c czso:refPeriod ?d) ^ (?a cssz-dimension:refPeriod ?d) ^ (?c qb:dataSet <salaries-by-sex>) ^ (?c czso:refArea ?b) ^ (?a cssz-dimension:refArea ?b) ^ (?a cssz-dimension:druh-duchodu <https://data.cssz.cz/resource/pension-kind/PK_old_age_total_S_SI_SRN_ST_SD_2010>) ^ (?a qb:dataSet <pensions-by-region-by-sex-PK_old_age_total_S_SI_SRN_ST_SD>) -> (?a cssz-measure:prumerna-vyse-duchodu-v-kc <<11444.72__15557.61)_ef2_2/2>) | support: 1, headCoverage: 8.900756564307967E-6, confidence: 0.16666666666666666, lift: 133.75, headConfidence: 0.0012461059190031153, headSize: 112350, bodySize: 6\n",
      "(?c czso:prumernaMzda <<20024.0__20182.5)_es2_7/42>) ^ (?a cssz-dimension:pohlavi ?e) ^ (?c czso:sex ?e) ^ (?c czso:refPeriod ?d) ^ (?a cssz-dimension:refPeriod ?d) ^ (?c qb:dataSet <salaries-by-sex>) ^ (?c czso:refArea ?b) ^ (?a cssz-dimension:refArea ?b) ^ (?a cssz-dimension:druh-duchodu <https://data.cssz.cz/resource/pension-kind/PK_old_age_total_S_SI_SRN_ST_SD_2010>) ^ (?a qb:dataSet <pensions-by-region-by-sex-PK_old_age_total_S_SI_SRN_ST_SD>) -> (?a cssz-measure:prumerna-vyse-duchodu-v-kc <<8814.26__11444.72)_ef2_1/2>) | support: 2, headCoverage: 1.7801513128615933E-5, confidence: 0.3333333333333333, lift: 267.5, headConfidence: 0.0012461059190031153, headSize: 112350, bodySize: 6\n",
      "(?c czso:medianMzdy <<20227.0__22359.0)_ef7_4/7>) ^ (?a cssz-dimension:pohlavi ?e) ^ (?c czso:sex ?e) ^ (?c czso:refPeriod ?d) ^ (?a cssz-dimension:refPeriod ?d) ^ (?c qb:dataSet <salaries-by-sex>) ^ (?c czso:refArea ?b) ^ (?a cssz-dimension:refArea ?b) ^ (?a cssz-dimension:druh-duchodu <https://data.cssz.cz/resource/pension-kind/PK_old_age_total_S_SI_SRN_ST_SD_2010>) ^ (?a qb:dataSet <pensions-by-region-by-sex-PK_old_age_total_S_SI_SRN_ST_SD>) -> (?a cssz-measure:prumerna-vyse-duchodu-v-kc <<11444.72__15557.61)_ef2_2/2>) | support: 4, headCoverage: 3.560302625723187E-5, confidence: 0.1111111111111111, lift: 89.16666666666666, headConfidence: 0.0012461059190031153, headSize: 112350, bodySize: 36\n",
      "(?c czso:medianMzdy <<22242.5__22719.0)_es10_6/9>) ^ (?a cssz-dimension:pohlavi ?e) ^ (?c czso:sex ?e) ^ (?c czso:refPeriod ?d) ^ (?a cssz-dimension:refPeriod ?d) ^ (?c qb:dataSet <salaries-by-sex>) ^ (?c czso:refArea ?b) ^ (?a cssz-dimension:refArea ?b) ^ (?a cssz-dimension:druh-duchodu <https://data.cssz.cz/resource/pension-kind/PK_old_age_total_S_SI_SRN_ST_SD_2010>) ^ (?a qb:dataSet <pensions-by-region-by-sex-PK_old_age_total_S_SI_SRN_ST_SD>) -> (?a cssz-measure:prumerna-vyse-duchodu-v-kc <<8814.26__11444.72)_ef2_1/2>) | support: 6, headCoverage: 5.34045393858478E-5, confidence: 0.2222222222222222, lift: 178.33333333333331, headConfidence: 0.0012461059190031153, headSize: 112350, bodySize: 27\n"
     ]
    },
    {
     "name": "stdout",
     "output_type": "stream",
     "text": [
      "(?c czso:prumernaMzda <<19913.0__20024.0)_es2_6/42>) ^ (?a cssz-dimension:pohlavi ?e) ^ (?c czso:sex ?e) ^ (?c czso:refPeriod ?d) ^ (?a cssz-dimension:refPeriod ?d) ^ (?c qb:dataSet <salaries-by-sex>) ^ (?c czso:refArea ?b) ^ (?a cssz-dimension:refArea ?b) ^ (?a cssz-dimension:druh-duchodu <https://data.cssz.cz/resource/pension-kind/PK_old_age_total_S_SI_SRN_ST_SD_2010>) ^ (?a qb:dataSet <pensions-by-region-by-sex-PK_old_age_total_S_SI_SRN_ST_SD>) -> (?a cssz-measure:prumerna-vyse-duchodu-v-kc <<8814.26__11444.72)_ef2_1/2>) | support: 2, headCoverage: 1.7801513128615933E-5, confidence: 0.3333333333333333, lift: 267.5, headConfidence: 0.0012461059190031153, headSize: 112350, bodySize: 6\n",
      "(?c czso:medianMzdy <<25679.5__28883.5)_es1_41/42>) ^ (?a cssz-dimension:pohlavi ?e) ^ (?c czso:sex ?e) ^ (?c czso:refPeriod ?d) ^ (?a cssz-dimension:refPeriod ?d) ^ (?c qb:dataSet <salaries-by-sex>) ^ (?c czso:refArea ?b) ^ (?a cssz-dimension:refArea ?b) ^ (?a cssz-dimension:druh-duchodu <https://data.cssz.cz/resource/pension-kind/PK_old_age_total_S_SI_SRN_ST_SD_2010>) ^ (?a qb:dataSet <pensions-by-region-by-sex-PK_old_age_total_S_SI_SRN_ST_SD>) -> (?a cssz-measure:prumerna-vyse-duchodu-v-kc <<8814.26__11444.72)_ef2_1/2>) | support: 1, headCoverage: 8.900756564307967E-6, confidence: 0.16666666666666666, lift: 133.75, headConfidence: 0.0012461059190031153, headSize: 112350, bodySize: 6\n",
      "(?c czso:prumernaMzda <<24011.5__24832.5)_es2_21/42>) ^ (?a cssz-dimension:pohlavi ?e) ^ (?c czso:sex ?e) ^ (?c czso:refPeriod ?d) ^ (?a cssz-dimension:refPeriod ?d) ^ (?c qb:dataSet <salaries-by-sex>) ^ (?c czso:refArea ?b) ^ (?a cssz-dimension:refArea ?b) ^ (?a cssz-dimension:druh-duchodu <https://data.cssz.cz/resource/pension-kind/PK_old_age_total_S_SI_SRN_ST_SD_2010>) ^ (?a qb:dataSet <pensions-by-region-by-sex-PK_old_age_total_S_SI_SRN_ST_SD>) -> (?a cssz-measure:prumerna-vyse-duchodu-v-kc <<11444.72__15557.61)_ef2_2/2>) | support: 1, headCoverage: 8.900756564307967E-6, confidence: 0.16666666666666666, lift: 133.75, headConfidence: 0.0012461059190031153, headSize: 112350, bodySize: 6\n",
      "(?c czso:prumernaMzda <<26375.0__26561.0)_es1_31/42>) ^ (?a cssz-dimension:pohlavi ?e) ^ (?c czso:sex ?e) ^ (?c czso:refPeriod ?d) ^ (?a cssz-dimension:refPeriod ?d) ^ (?c qb:dataSet <salaries-by-sex>) ^ (?c czso:refArea ?b) ^ (?a cssz-dimension:refArea ?b) ^ (?a cssz-dimension:druh-duchodu <https://data.cssz.cz/resource/pension-kind/PK_old_age_total_S_SI_SRN_ST_SD_2010>) ^ (?a qb:dataSet <pensions-by-region-by-sex-PK_old_age_total_S_SI_SRN_ST_SD>) -> (?a cssz-measure:prumerna-vyse-duchodu-v-kc <<8814.26__11444.72)_ef2_1/2>) | support: 2, headCoverage: 1.7801513128615933E-5, confidence: 0.3333333333333333, lift: 267.5, headConfidence: 0.0012461059190031153, headSize: 112350, bodySize: 6\n",
      "(?c czso:prumernaMzda <<20602.5__20663.5)_es1_11/42>) ^ (?a cssz-dimension:pohlavi ?e) ^ (?c czso:sex ?e) ^ (?c czso:refPeriod ?d) ^ (?a cssz-dimension:refPeriod ?d) ^ (?c qb:dataSet <salaries-by-sex>) ^ (?c czso:refArea ?b) ^ (?a cssz-dimension:refArea ?b) ^ (?a cssz-dimension:druh-duchodu <https://data.cssz.cz/resource/pension-kind/PK_old_age_total_S_SI_SRN_ST_SD_2010>) ^ (?a qb:dataSet <pensions-by-region-by-sex-PK_old_age_total_S_SI_SRN_ST_SD>) -> (?a cssz-measure:prumerna-vyse-duchodu-v-kc <<8814.26__11444.72)_ef2_1/2>) | support: 2, headCoverage: 1.7801513128615933E-5, confidence: 0.3333333333333333, lift: 267.5, headConfidence: 0.0012461059190031153, headSize: 112350, bodySize: 6\n",
      "(?c czso:prumernaMzda <<27614.5__27860.0)_es2_36/42>) ^ (?a cssz-dimension:pohlavi ?e) ^ (?c czso:sex ?e) ^ (?c czso:refPeriod ?d) ^ (?a cssz-dimension:refPeriod ?d) ^ (?c qb:dataSet <salaries-by-sex>) ^ (?c czso:refArea ?b) ^ (?a cssz-dimension:refArea ?b) ^ (?a cssz-dimension:druh-duchodu <https://data.cssz.cz/resource/pension-kind/PK_old_age_total_S_SI_SRN_ST_SD_2010>) ^ (?a qb:dataSet <pensions-by-region-by-sex-PK_old_age_total_S_SI_SRN_ST_SD>) -> (?a cssz-measure:prumerna-vyse-duchodu-v-kc <<8814.26__11444.72)_ef2_1/2>) | support: 2, headCoverage: 1.7801513128615933E-5, confidence: 0.3333333333333333, lift: 267.5, headConfidence: 0.0012461059190031153, headSize: 112350, bodySize: 6\n",
      "(?c czso:medianMzdy <<22483.0__22719.0)_es2_27/42>) ^ (?a cssz-dimension:pohlavi ?e) ^ (?c czso:sex ?e) ^ (?c czso:refPeriod ?d) ^ (?a cssz-dimension:refPeriod ?d) ^ (?c qb:dataSet <salaries-by-sex>) ^ (?c czso:refArea ?b) ^ (?a cssz-dimension:refArea ?b) ^ (?a cssz-dimension:druh-duchodu <https://data.cssz.cz/resource/pension-kind/PK_old_age_total_S_SI_SRN_ST_SD_2010>) ^ (?a qb:dataSet <pensions-by-region-by-sex-PK_old_age_total_S_SI_SRN_ST_SD>) -> (?a cssz-measure:prumerna-vyse-duchodu-v-kc <<11444.72__15557.61)_ef2_2/2>) | support: 1, headCoverage: 8.900756564307967E-6, confidence: 0.16666666666666666, lift: 133.75, headConfidence: 0.0012461059190031153, headSize: 112350, bodySize: 6\n",
      "(?c czso:medianMzdy <<18935.0__19021.5)_es1_11/42>) ^ (?a cssz-dimension:pohlavi ?e) ^ (?c czso:sex ?e) ^ (?c czso:refPeriod ?d) ^ (?a cssz-dimension:refPeriod ?d) ^ (?c qb:dataSet <salaries-by-sex>) ^ (?c czso:refArea ?b) ^ (?a cssz-dimension:refArea ?b) ^ (?a cssz-dimension:druh-duchodu <https://data.cssz.cz/resource/pension-kind/PK_old_age_total_S_SI_SRN_ST_SD_2010>) ^ (?a qb:dataSet <pensions-by-region-by-sex-PK_old_age_total_S_SI_SRN_ST_SD>) -> (?a cssz-measure:prumerna-vyse-duchodu-v-kc <<8814.26__11444.72)_ef2_1/2>) | support: 2, headCoverage: 1.7801513128615933E-5, confidence: 0.3333333333333333, lift: 267.5, headConfidence: 0.0012461059190031153, headSize: 112350, bodySize: 6\n",
      "(?c czso:medianMzdy <<24683.0__25386.5)_es1_39/42>) ^ (?a cssz-dimension:pohlavi ?e) ^ (?c czso:sex ?e) ^ (?c czso:refPeriod ?d) ^ (?a cssz-dimension:refPeriod ?d) ^ (?c qb:dataSet <salaries-by-sex>) ^ (?c czso:refArea ?b) ^ (?a cssz-dimension:refArea ?b) ^ (?a cssz-dimension:druh-duchodu <https://data.cssz.cz/resource/pension-kind/PK_old_age_total_S_SI_SRN_ST_SD_2010>) ^ (?a qb:dataSet <pensions-by-region-by-sex-PK_old_age_total_S_SI_SRN_ST_SD>) -> (?a cssz-measure:prumerna-vyse-duchodu-v-kc <<8814.26__11444.72)_ef2_1/2>) | support: 1, headCoverage: 8.900756564307967E-6, confidence: 0.16666666666666666, lift: 133.75, headConfidence: 0.0012461059190031153, headSize: 112350, bodySize: 6\n",
      "(?c czso:medianMzdy <<18935.0__21972.5)_es20_2/4>) ^ (?a cssz-dimension:pohlavi ?e) ^ (?c czso:sex ?e) ^ (?c czso:refPeriod ?d) ^ (?a cssz-dimension:refPeriod ?d) ^ (?c qb:dataSet <salaries-by-sex>) ^ (?c czso:refArea ?b) ^ (?a cssz-dimension:refArea ?b) ^ (?a cssz-dimension:druh-duchodu <https://data.cssz.cz/resource/pension-kind/PK_old_age_total_S_SI_SRN_ST_SD_2010>) ^ (?a qb:dataSet <pensions-by-region-by-sex-PK_old_age_total_S_SI_SRN_ST_SD>) -> (?a cssz-measure:prumerna-vyse-duchodu-v-kc <<11444.72__15557.61)_ef2_2/2>) | support: 2, headCoverage: 1.7801513128615933E-5, confidence: 0.031746031746031744, lift: 25.476190476190474, headConfidence: 0.0012461059190031153, headSize: 112350, bodySize: 63\n",
      "(?c czso:prumernaMzda <<21657.0__21789.0)_es2_17/42>) ^ (?a cssz-dimension:pohlavi ?e) ^ (?c czso:sex ?e) ^ (?c czso:refPeriod ?d) ^ (?a cssz-dimension:refPeriod ?d) ^ (?c qb:dataSet <salaries-by-sex>) ^ (?c czso:refArea ?b) ^ (?a cssz-dimension:refArea ?b) ^ (?a cssz-dimension:druh-duchodu <https://data.cssz.cz/resource/pension-kind/PK_old_age_total_S_SI_SRN_ST_SD_2010>) ^ (?a qb:dataSet <pensions-by-region-by-sex-PK_old_age_total_S_SI_SRN_ST_SD>) -> (?a cssz-measure:prumerna-vyse-duchodu-v-kc <<8814.26__11444.72)_ef2_1/2>) | support: 2, headCoverage: 1.7801513128615933E-5, confidence: 0.3333333333333333, lift: 267.5, headConfidence: 0.0012461059190031153, headSize: 112350, bodySize: 6\n"
     ]
    },
    {
     "name": "stdout",
     "output_type": "stream",
     "text": [
      "(?c czso:medianMzdy <<18843.5__19315.5)_es10_3/9>) ^ (?a cssz-dimension:pohlavi ?e) ^ (?c czso:sex ?e) ^ (?c czso:refPeriod ?d) ^ (?a cssz-dimension:refPeriod ?d) ^ (?c qb:dataSet <salaries-by-sex>) ^ (?c czso:refArea ?b) ^ (?a cssz-dimension:refArea ?b) ^ (?a cssz-dimension:druh-duchodu <https://data.cssz.cz/resource/pension-kind/PK_old_age_total_S_SI_SRN_ST_SD_2010>) ^ (?a qb:dataSet <pensions-by-region-by-sex-PK_old_age_total_S_SI_SRN_ST_SD>) -> (?a cssz-measure:prumerna-vyse-duchodu-v-kc <<8814.26__11444.72)_ef2_1/2>) | support: 9, headCoverage: 8.01068090787717E-5, confidence: 0.3333333333333333, lift: 267.5, headConfidence: 0.0012461059190031153, headSize: 112350, bodySize: 27\n",
      "(?c czso:medianMzdy <<23423.0__24050.0)_es5_14/16>) ^ (?a cssz-dimension:pohlavi ?e) ^ (?c czso:sex ?e) ^ (?c czso:refPeriod ?d) ^ (?a cssz-dimension:refPeriod ?d) ^ (?c qb:dataSet <salaries-by-sex>) ^ (?c czso:refArea ?b) ^ (?a cssz-dimension:refArea ?b) ^ (?a cssz-dimension:druh-duchodu <https://data.cssz.cz/resource/pension-kind/PK_old_age_total_S_SI_SRN_ST_SD_2010>) ^ (?a qb:dataSet <pensions-by-region-by-sex-PK_old_age_total_S_SI_SRN_ST_SD>) -> (?a cssz-measure:prumerna-vyse-duchodu-v-kc <<11444.72__15557.61)_ef2_2/2>) | support: 5, headCoverage: 4.4503782821539834E-5, confidence: 0.2777777777777778, lift: 222.91666666666666, headConfidence: 0.0012461059190031153, headSize: 112350, bodySize: 18\n",
      "(?c czso:medianMzdy <<22846.5__22911.5)_es1_29/42>) ^ (?a cssz-dimension:pohlavi ?e) ^ (?c czso:sex ?e) ^ (?c czso:refPeriod ?d) ^ (?a cssz-dimension:refPeriod ?d) ^ (?c qb:dataSet <salaries-by-sex>) ^ (?c czso:refArea ?b) ^ (?a cssz-dimension:refArea ?b) ^ (?a cssz-dimension:druh-duchodu <https://data.cssz.cz/resource/pension-kind/PK_old_age_total_S_SI_SRN_ST_SD_2010>) ^ (?a qb:dataSet <pensions-by-region-by-sex-PK_old_age_total_S_SI_SRN_ST_SD>) -> (?a cssz-measure:prumerna-vyse-duchodu-v-kc <<11444.72__15557.61)_ef2_2/2>) | support: 1, headCoverage: 8.900756564307967E-6, confidence: 0.16666666666666666, lift: 133.75, headConfidence: 0.0012461059190031153, headSize: 112350, bodySize: 6\n",
      "(?c czso:prumernaMzda <<30064.0__37820.5)_es1_41/42>) ^ (?a cssz-dimension:pohlavi ?e) ^ (?c czso:sex ?e) ^ (?c czso:refPeriod ?d) ^ (?a cssz-dimension:refPeriod ?d) ^ (?c qb:dataSet <salaries-by-sex>) ^ (?c czso:refArea ?b) ^ (?a cssz-dimension:refArea ?b) ^ (?a cssz-dimension:druh-duchodu <https://data.cssz.cz/resource/pension-kind/PK_old_age_total_S_SI_SRN_ST_SD_2010>) ^ (?a qb:dataSet <pensions-by-region-by-sex-PK_old_age_total_S_SI_SRN_ST_SD>) -> (?a cssz-measure:prumerna-vyse-duchodu-v-kc <<8814.26__11444.72)_ef2_1/2>) | support: 1, headCoverage: 8.900756564307967E-6, confidence: 0.16666666666666666, lift: 133.75, headConfidence: 0.0012461059190031153, headSize: 112350, bodySize: 6\n",
      "(?c czso:prumernaMzda <<20941.0__21455.5)_es5_6/16>) ^ (?a cssz-dimension:pohlavi ?e) ^ (?c czso:sex ?e) ^ (?c czso:refPeriod ?d) ^ (?a cssz-dimension:refPeriod ?d) ^ (?c qb:dataSet <salaries-by-sex>) ^ (?c czso:refArea ?b) ^ (?a cssz-dimension:refArea ?b) ^ (?a cssz-dimension:druh-duchodu <https://data.cssz.cz/resource/pension-kind/PK_old_age_total_S_SI_SRN_ST_SD_2010>) ^ (?a qb:dataSet <pensions-by-region-by-sex-PK_old_age_total_S_SI_SRN_ST_SD>) -> (?a cssz-measure:prumerna-vyse-duchodu-v-kc <<8814.26__11444.72)_ef2_1/2>) | support: 5, headCoverage: 4.4503782821539834E-5, confidence: 0.3333333333333333, lift: 267.5, headConfidence: 0.0012461059190031153, headSize: 112350, bodySize: 15\n",
      "(?c czso:prumernaMzda <<25231.0__25681.0)_es5_10/16>) ^ (?a cssz-dimension:pohlavi ?e) ^ (?c czso:sex ?e) ^ (?c czso:refPeriod ?d) ^ (?a cssz-dimension:refPeriod ?d) ^ (?c qb:dataSet <salaries-by-sex>) ^ (?c czso:refArea ?b) ^ (?a cssz-dimension:refArea ?b) ^ (?a cssz-dimension:druh-duchodu <https://data.cssz.cz/resource/pension-kind/PK_old_age_total_S_SI_SRN_ST_SD_2010>) ^ (?a qb:dataSet <pensions-by-region-by-sex-PK_old_age_total_S_SI_SRN_ST_SD>) -> (?a cssz-measure:prumerna-vyse-duchodu-v-kc <<8814.26__11444.72)_ef2_1/2>) | support: 2, headCoverage: 1.7801513128615933E-5, confidence: 0.13333333333333333, lift: 107.0, headConfidence: 0.0012461059190031153, headSize: 112350, bodySize: 15\n",
      "(?c czso:medianMzdy <<21512.5__22242.5)_es5_9/16>) ^ (?a cssz-dimension:pohlavi ?e) ^ (?c czso:sex ?e) ^ (?c czso:refPeriod ?d) ^ (?a cssz-dimension:refPeriod ?d) ^ (?c qb:dataSet <salaries-by-sex>) ^ (?c czso:refArea ?b) ^ (?a cssz-dimension:refArea ?b) ^ (?a cssz-dimension:druh-duchodu <https://data.cssz.cz/resource/pension-kind/PK_old_age_total_S_SI_SRN_ST_SD_2010>) ^ (?a qb:dataSet <pensions-by-region-by-sex-PK_old_age_total_S_SI_SRN_ST_SD>) -> (?a cssz-measure:prumerna-vyse-duchodu-v-kc <<8814.26__11444.72)_ef2_1/2>) | support: 2, headCoverage: 1.7801513128615933E-5, confidence: 0.13333333333333333, lift: 107.0, headConfidence: 0.0012461059190031153, headSize: 112350, bodySize: 15\n",
      "(?c czso:prumernaMzda <<25458.5__25638.0)_es2_25/42>) ^ (?a cssz-dimension:pohlavi ?e) ^ (?c czso:sex ?e) ^ (?c czso:refPeriod ?d) ^ (?a cssz-dimension:refPeriod ?d) ^ (?c qb:dataSet <salaries-by-sex>) ^ (?c czso:refArea ?b) ^ (?a cssz-dimension:refArea ?b) ^ (?a cssz-dimension:druh-duchodu <https://data.cssz.cz/resource/pension-kind/PK_old_age_total_S_SI_SRN_ST_SD_2010>) ^ (?a qb:dataSet <pensions-by-region-by-sex-PK_old_age_total_S_SI_SRN_ST_SD>) -> (?a cssz-measure:prumerna-vyse-duchodu-v-kc <<11444.72__15557.61)_ef2_2/2>) | support: 1, headCoverage: 8.900756564307967E-6, confidence: 0.16666666666666666, lift: 133.75, headConfidence: 0.0012461059190031153, headSize: 112350, bodySize: 6\n",
      "(?c czso:prumernaMzda <<21048.5__21266.0)_es1_15/42>) ^ (?a cssz-dimension:pohlavi ?e) ^ (?c czso:sex ?e) ^ (?c czso:refPeriod ?d) ^ (?a cssz-dimension:refPeriod ?d) ^ (?c qb:dataSet <salaries-by-sex>) ^ (?c czso:refArea ?b) ^ (?a cssz-dimension:refArea ?b) ^ (?a cssz-dimension:druh-duchodu <https://data.cssz.cz/resource/pension-kind/PK_old_age_total_S_SI_SRN_ST_SD_2010>) ^ (?a qb:dataSet <pensions-by-region-by-sex-PK_old_age_total_S_SI_SRN_ST_SD>) -> (?a cssz-measure:prumerna-vyse-duchodu-v-kc <<8814.26__11444.72)_ef2_1/2>) | support: 2, headCoverage: 1.7801513128615933E-5, confidence: 0.3333333333333333, lift: 267.5, headConfidence: 0.0012461059190031153, headSize: 112350, bodySize: 6\n",
      "(?c czso:medianMzdy <<22242.5__22719.0)_es10_6/9>) ^ (?a cssz-dimension:pohlavi ?e) ^ (?c czso:sex ?e) ^ (?c czso:refPeriod ?d) ^ (?a cssz-dimension:refPeriod ?d) ^ (?c qb:dataSet <salaries-by-sex>) ^ (?c czso:refArea ?b) ^ (?a cssz-dimension:refArea ?b) ^ (?a cssz-dimension:druh-duchodu <https://data.cssz.cz/resource/pension-kind/PK_old_age_total_S_SI_SRN_ST_SD_2010>) ^ (?a qb:dataSet <pensions-by-region-by-sex-PK_old_age_total_S_SI_SRN_ST_SD>) -> (?a cssz-measure:prumerna-vyse-duchodu-v-kc <<11444.72__15557.61)_ef2_2/2>) | support: 3, headCoverage: 2.67022696929239E-5, confidence: 0.1111111111111111, lift: 89.16666666666666, headConfidence: 0.0012461059190031153, headSize: 112350, bodySize: 27\n",
      "(?c czso:medianMzdy <<22483.0__22719.0)_es1_27/42>) ^ (?a cssz-dimension:pohlavi ?e) ^ (?c czso:sex ?e) ^ (?c czso:refPeriod ?d) ^ (?a cssz-dimension:refPeriod ?d) ^ (?c qb:dataSet <salaries-by-sex>) ^ (?c czso:refArea ?b) ^ (?a cssz-dimension:refArea ?b) ^ (?a cssz-dimension:druh-duchodu <https://data.cssz.cz/resource/pension-kind/PK_old_age_total_S_SI_SRN_ST_SD_2010>) ^ (?a qb:dataSet <pensions-by-region-by-sex-PK_old_age_total_S_SI_SRN_ST_SD>) -> (?a cssz-measure:prumerna-vyse-duchodu-v-kc <<11444.72__15557.61)_ef2_2/2>) | support: 1, headCoverage: 8.900756564307967E-6, confidence: 0.16666666666666666, lift: 133.75, headConfidence: 0.0012461059190031153, headSize: 112350, bodySize: 6\n"
     ]
    },
    {
     "name": "stdout",
     "output_type": "stream",
     "text": [
      "(?c czso:prumernaMzda <<20182.5__20464.5)_es2_8/42>) ^ (?a cssz-dimension:pohlavi ?e) ^ (?c czso:sex ?e) ^ (?c czso:refPeriod ?d) ^ (?a cssz-dimension:refPeriod ?d) ^ (?c qb:dataSet <salaries-by-sex>) ^ (?c czso:refArea ?b) ^ (?a cssz-dimension:refArea ?b) ^ (?a cssz-dimension:druh-duchodu <https://data.cssz.cz/resource/pension-kind/PK_old_age_total_S_SI_SRN_ST_SD_2010>) ^ (?a qb:dataSet <pensions-by-region-by-sex-PK_old_age_total_S_SI_SRN_ST_SD>) -> (?a cssz-measure:prumerna-vyse-duchodu-v-kc <<8814.26__11444.72)_ef2_1/2>) | support: 2, headCoverage: 1.7801513128615933E-5, confidence: 0.3333333333333333, lift: 267.5, headConfidence: 0.0012461059190031153, headSize: 112350, bodySize: 6\n",
      "(?c czso:medianMzdy <<22719.0__22846.5)_es1_28/42>) ^ (?a cssz-dimension:pohlavi ?e) ^ (?c czso:sex ?e) ^ (?c czso:refPeriod ?d) ^ (?a cssz-dimension:refPeriod ?d) ^ (?c qb:dataSet <salaries-by-sex>) ^ (?c czso:refArea ?b) ^ (?a cssz-dimension:refArea ?b) ^ (?a cssz-dimension:druh-duchodu <https://data.cssz.cz/resource/pension-kind/PK_old_age_total_S_SI_SRN_ST_SD_2010>) ^ (?a qb:dataSet <pensions-by-region-by-sex-PK_old_age_total_S_SI_SRN_ST_SD>) -> (?a cssz-measure:prumerna-vyse-duchodu-v-kc <<11444.72__15557.61)_ef2_2/2>) | support: 2, headCoverage: 1.7801513128615933E-5, confidence: 0.3333333333333333, lift: 267.5, headConfidence: 0.0012461059190031153, headSize: 112350, bodySize: 6\n",
      "(?c czso:prumernaMzda <<28321.5__29037.0)_es2_38/42>) ^ (?a cssz-dimension:pohlavi ?e) ^ (?c czso:sex ?e) ^ (?c czso:refPeriod ?d) ^ (?a cssz-dimension:refPeriod ?d) ^ (?c qb:dataSet <salaries-by-sex>) ^ (?c czso:refArea ?b) ^ (?a cssz-dimension:refArea ?b) ^ (?a cssz-dimension:druh-duchodu <https://data.cssz.cz/resource/pension-kind/PK_old_age_total_S_SI_SRN_ST_SD_2010>) ^ (?a qb:dataSet <pensions-by-region-by-sex-PK_old_age_total_S_SI_SRN_ST_SD>) -> (?a cssz-measure:prumerna-vyse-duchodu-v-kc <<8814.26__11444.72)_ef2_1/2>) | support: 1, headCoverage: 8.900756564307967E-6, confidence: 0.16666666666666666, lift: 133.75, headConfidence: 0.0012461059190031153, headSize: 112350, bodySize: 6\n",
      "(?c czso:prumernaMzda <<22389.5__24011.5)_es1_20/42>) ^ (?a cssz-dimension:pohlavi ?e) ^ (?c czso:sex ?e) ^ (?c czso:refPeriod ?d) ^ (?a cssz-dimension:refPeriod ?d) ^ (?c qb:dataSet <salaries-by-sex>) ^ (?c czso:refArea ?b) ^ (?a cssz-dimension:refArea ?b) ^ (?a cssz-dimension:druh-duchodu <https://data.cssz.cz/resource/pension-kind/PK_old_age_total_S_SI_SRN_ST_SD_2010>) ^ (?a qb:dataSet <pensions-by-region-by-sex-PK_old_age_total_S_SI_SRN_ST_SD>) -> (?a cssz-measure:prumerna-vyse-duchodu-v-kc <<8814.26__11444.72)_ef2_1/2>) | support: 1, headCoverage: 8.900756564307967E-6, confidence: 0.16666666666666666, lift: 133.75, headConfidence: 0.0012461059190031153, headSize: 112350, bodySize: 6\n",
      "(?c czso:medianMzdy <<21512.5__22117.0)_es2_21/42>) ^ (?a cssz-dimension:pohlavi ?e) ^ (?c czso:sex ?e) ^ (?c czso:refPeriod ?d) ^ (?a cssz-dimension:refPeriod ?d) ^ (?c qb:dataSet <salaries-by-sex>) ^ (?c czso:refArea ?b) ^ (?a cssz-dimension:refArea ?b) ^ (?a cssz-dimension:druh-duchodu <https://data.cssz.cz/resource/pension-kind/PK_old_age_total_S_SI_SRN_ST_SD_2010>) ^ (?a qb:dataSet <pensions-by-region-by-sex-PK_old_age_total_S_SI_SRN_ST_SD>) -> (?a cssz-measure:prumerna-vyse-duchodu-v-kc <<11444.72__15557.61)_ef2_2/2>) | support: 2, headCoverage: 1.7801513128615933E-5, confidence: 0.3333333333333333, lift: 267.5, headConfidence: 0.0012461059190031153, headSize: 112350, bodySize: 6\n",
      "(?c czso:prumernaMzda <<22087.5__25121.5)_es10_5/9>) ^ (?a cssz-dimension:pohlavi ?e) ^ (?c czso:sex ?e) ^ (?c czso:refPeriod ?d) ^ (?a cssz-dimension:refPeriod ?d) ^ (?c qb:dataSet <salaries-by-sex>) ^ (?c czso:refArea ?b) ^ (?a cssz-dimension:refArea ?b) ^ (?a cssz-dimension:druh-duchodu <https://data.cssz.cz/resource/pension-kind/PK_old_age_total_S_SI_SRN_ST_SD_2010>) ^ (?a qb:dataSet <pensions-by-region-by-sex-PK_old_age_total_S_SI_SRN_ST_SD>) -> (?a cssz-measure:prumerna-vyse-duchodu-v-kc <<8814.26__11444.72)_ef2_1/2>) | support: 5, headCoverage: 4.4503782821539834E-5, confidence: 0.18518518518518517, lift: 148.6111111111111, headConfidence: 0.0012461059190031153, headSize: 112350, bodySize: 27\n",
      "(?c czso:medianMzdy <<18232.5__18490.0)_es1_7/42>) ^ (?a cssz-dimension:pohlavi ?e) ^ (?c czso:sex ?e) ^ (?c czso:refPeriod ?d) ^ (?a cssz-dimension:refPeriod ?d) ^ (?c qb:dataSet <salaries-by-sex>) ^ (?c czso:refArea ?b) ^ (?a cssz-dimension:refArea ?b) ^ (?a cssz-dimension:druh-duchodu <https://data.cssz.cz/resource/pension-kind/PK_old_age_total_S_SI_SRN_ST_SD_2010>) ^ (?a qb:dataSet <pensions-by-region-by-sex-PK_old_age_total_S_SI_SRN_ST_SD>) -> (?a cssz-measure:prumerna-vyse-duchodu-v-kc <<8814.26__11444.72)_ef2_1/2>) | support: 2, headCoverage: 1.7801513128615933E-5, confidence: 0.3333333333333333, lift: 267.5, headConfidence: 0.0012461059190031153, headSize: 112350, bodySize: 6\n",
      "(?c czso:prumernaMzda <<29037.0__29726.0)_es1_39/42>) ^ (?a cssz-dimension:pohlavi ?e) ^ (?c czso:sex ?e) ^ (?c czso:refPeriod ?d) ^ (?a cssz-dimension:refPeriod ?d) ^ (?c qb:dataSet <salaries-by-sex>) ^ (?c czso:refArea ?b) ^ (?a cssz-dimension:refArea ?b) ^ (?a cssz-dimension:druh-duchodu <https://data.cssz.cz/resource/pension-kind/PK_old_age_total_S_SI_SRN_ST_SD_2010>) ^ (?a qb:dataSet <pensions-by-region-by-sex-PK_old_age_total_S_SI_SRN_ST_SD>) -> (?a cssz-measure:prumerna-vyse-duchodu-v-kc <<8814.26__11444.72)_ef2_1/2>) | support: 1, headCoverage: 8.900756564307967E-6, confidence: 0.16666666666666666, lift: 133.75, headConfidence: 0.0012461059190031153, headSize: 112350, bodySize: 6\n",
      "(?c czso:medianMzdy <<22911.5__23044.0)_es2_30/42>) ^ (?a cssz-dimension:pohlavi ?e) ^ (?c czso:sex ?e) ^ (?c czso:refPeriod ?d) ^ (?a cssz-dimension:refPeriod ?d) ^ (?c qb:dataSet <salaries-by-sex>) ^ (?c czso:refArea ?b) ^ (?a cssz-dimension:refArea ?b) ^ (?a cssz-dimension:druh-duchodu <https://data.cssz.cz/resource/pension-kind/PK_old_age_total_S_SI_SRN_ST_SD_2010>) ^ (?a qb:dataSet <pensions-by-region-by-sex-PK_old_age_total_S_SI_SRN_ST_SD>) -> (?a cssz-measure:prumerna-vyse-duchodu-v-kc <<11444.72__15557.61)_ef2_2/2>) | support: 2, headCoverage: 1.7801513128615933E-5, confidence: 0.3333333333333333, lift: 267.5, headConfidence: 0.0012461059190031153, headSize: 112350, bodySize: 6\n",
      "(?c czso:prumernaMzda <<21040.5__22087.5)_es10_4/9>) ^ (?a cssz-dimension:pohlavi ?e) ^ (?c czso:sex ?e) ^ (?c czso:refPeriod ?d) ^ (?a cssz-dimension:refPeriod ?d) ^ (?c qb:dataSet <salaries-by-sex>) ^ (?c czso:refArea ?b) ^ (?a cssz-dimension:refArea ?b) ^ (?a cssz-dimension:druh-duchodu <https://data.cssz.cz/resource/pension-kind/PK_old_age_total_S_SI_SRN_ST_SD_2010>) ^ (?a qb:dataSet <pensions-by-region-by-sex-PK_old_age_total_S_SI_SRN_ST_SD>) -> (?a cssz-measure:prumerna-vyse-duchodu-v-kc <<8814.26__11444.72)_ef2_1/2>) | support: 9, headCoverage: 8.01068090787717E-5, confidence: 0.3333333333333333, lift: 267.5, headConfidence: 0.0012461059190031153, headSize: 112350, bodySize: 27\n",
      "(?c czso:medianMzdy <<25679.5__28883.5)_es2_41/42>) ^ (?a cssz-dimension:pohlavi ?e) ^ (?c czso:sex ?e) ^ (?c czso:refPeriod ?d) ^ (?a cssz-dimension:refPeriod ?d) ^ (?c qb:dataSet <salaries-by-sex>) ^ (?c czso:refArea ?b) ^ (?a cssz-dimension:refArea ?b) ^ (?a cssz-dimension:druh-duchodu <https://data.cssz.cz/resource/pension-kind/PK_old_age_total_S_SI_SRN_ST_SD_2010>) ^ (?a qb:dataSet <pensions-by-region-by-sex-PK_old_age_total_S_SI_SRN_ST_SD>) -> (?a cssz-measure:prumerna-vyse-duchodu-v-kc <<8814.26__11444.72)_ef2_1/2>) | support: 1, headCoverage: 8.900756564307967E-6, confidence: 0.16666666666666666, lift: 133.75, headConfidence: 0.0012461059190031153, headSize: 112350, bodySize: 6\n"
     ]
    },
    {
     "name": "stdout",
     "output_type": "stream",
     "text": [
      "(?c czso:medianMzdy <<17677.5__17948.0)_es1_4/42>) ^ (?a cssz-dimension:pohlavi ?e) ^ (?c czso:sex ?e) ^ (?c czso:refPeriod ?d) ^ (?a cssz-dimension:refPeriod ?d) ^ (?c qb:dataSet <salaries-by-sex>) ^ (?c czso:refArea ?b) ^ (?a cssz-dimension:refArea ?b) ^ (?a cssz-dimension:druh-duchodu <https://data.cssz.cz/resource/pension-kind/PK_old_age_total_S_SI_SRN_ST_SD_2010>) ^ (?a qb:dataSet <pensions-by-region-by-sex-PK_old_age_total_S_SI_SRN_ST_SD>) -> (?a cssz-measure:prumerna-vyse-duchodu-v-kc <<8814.26__11444.72)_ef2_1/2>) | support: 2, headCoverage: 1.7801513128615933E-5, confidence: 0.3333333333333333, lift: 267.5, headConfidence: 0.0012461059190031153, headSize: 112350, bodySize: 6\n",
      "(?c czso:medianMzdy <<19246.0__19395.0)_es1_14/42>) ^ (?a cssz-dimension:pohlavi ?e) ^ (?c czso:sex ?e) ^ (?c czso:refPeriod ?d) ^ (?a cssz-dimension:refPeriod ?d) ^ (?c qb:dataSet <salaries-by-sex>) ^ (?c czso:refArea ?b) ^ (?a cssz-dimension:refArea ?b) ^ (?a cssz-dimension:druh-duchodu <https://data.cssz.cz/resource/pension-kind/PK_old_age_total_S_SI_SRN_ST_SD_2010>) ^ (?a qb:dataSet <pensions-by-region-by-sex-PK_old_age_total_S_SI_SRN_ST_SD>) -> (?a cssz-measure:prumerna-vyse-duchodu-v-kc <<8814.26__11444.72)_ef2_1/2>) | support: 2, headCoverage: 1.7801513128615933E-5, confidence: 0.3333333333333333, lift: 267.5, headConfidence: 0.0012461059190031153, headSize: 112350, bodySize: 6\n",
      "(?c czso:medianMzdy <<24683.0__25386.5)_es1_39/42>) ^ (?a cssz-dimension:pohlavi ?e) ^ (?c czso:sex ?e) ^ (?c czso:refPeriod ?d) ^ (?a cssz-dimension:refPeriod ?d) ^ (?c qb:dataSet <salaries-by-sex>) ^ (?c czso:refArea ?b) ^ (?a cssz-dimension:refArea ?b) ^ (?a cssz-dimension:druh-duchodu <https://data.cssz.cz/resource/pension-kind/PK_old_age_total_S_SI_SRN_ST_SD_2010>) ^ (?a qb:dataSet <pensions-by-region-by-sex-PK_old_age_total_S_SI_SRN_ST_SD>) -> (?a cssz-measure:prumerna-vyse-duchodu-v-kc <<11444.72__15557.61)_ef2_2/2>) | support: 1, headCoverage: 8.900756564307967E-6, confidence: 0.16666666666666666, lift: 133.75, headConfidence: 0.0012461059190031153, headSize: 112350, bodySize: 6\n",
      "(?c czso:medianMzdy <<23528.0__23825.5)_es2_34/42>) ^ (?a cssz-dimension:pohlavi ?e) ^ (?c czso:sex ?e) ^ (?c czso:refPeriod ?d) ^ (?a cssz-dimension:refPeriod ?d) ^ (?c qb:dataSet <salaries-by-sex>) ^ (?c czso:refArea ?b) ^ (?a cssz-dimension:refArea ?b) ^ (?a cssz-dimension:druh-duchodu <https://data.cssz.cz/resource/pension-kind/PK_old_age_total_S_SI_SRN_ST_SD_2010>) ^ (?a qb:dataSet <pensions-by-region-by-sex-PK_old_age_total_S_SI_SRN_ST_SD>) -> (?a cssz-measure:prumerna-vyse-duchodu-v-kc <<8814.26__11444.72)_ef2_1/2>) | support: 1, headCoverage: 8.900756564307967E-6, confidence: 0.16666666666666666, lift: 133.75, headConfidence: 0.0012461059190031153, headSize: 112350, bodySize: 6\n",
      "(?c czso:prumernaMzda <<21048.5__21266.0)_es2_15/42>) ^ (?a cssz-dimension:pohlavi ?e) ^ (?c czso:sex ?e) ^ (?c czso:refPeriod ?d) ^ (?a cssz-dimension:refPeriod ?d) ^ (?c qb:dataSet <salaries-by-sex>) ^ (?c czso:refArea ?b) ^ (?a cssz-dimension:refArea ?b) ^ (?a cssz-dimension:druh-duchodu <https://data.cssz.cz/resource/pension-kind/PK_old_age_total_S_SI_SRN_ST_SD_2010>) ^ (?a qb:dataSet <pensions-by-region-by-sex-PK_old_age_total_S_SI_SRN_ST_SD>) -> (?a cssz-measure:prumerna-vyse-duchodu-v-kc <<8814.26__11444.72)_ef2_1/2>) | support: 2, headCoverage: 1.7801513128615933E-5, confidence: 0.3333333333333333, lift: 267.5, headConfidence: 0.0012461059190031153, headSize: 112350, bodySize: 6\n",
      "(?c czso:medianMzdy <<23337.5__23528.0)_es2_33/42>) ^ (?a cssz-dimension:pohlavi ?e) ^ (?c czso:sex ?e) ^ (?c czso:refPeriod ?d) ^ (?a cssz-dimension:refPeriod ?d) ^ (?c qb:dataSet <salaries-by-sex>) ^ (?c czso:refArea ?b) ^ (?a cssz-dimension:refArea ?b) ^ (?a cssz-dimension:druh-duchodu <https://data.cssz.cz/resource/pension-kind/PK_old_age_total_S_SI_SRN_ST_SD_2010>) ^ (?a qb:dataSet <pensions-by-region-by-sex-PK_old_age_total_S_SI_SRN_ST_SD>) -> (?a cssz-measure:prumerna-vyse-duchodu-v-kc <<8814.26__11444.72)_ef2_1/2>) | support: 1, headCoverage: 8.900756564307967E-6, confidence: 0.16666666666666666, lift: 133.75, headConfidence: 0.0012461059190031153, headSize: 112350, bodySize: 6\n",
      "(?c czso:medianMzdy <<18843.5__18935.0)_es1_10/42>) ^ (?a cssz-dimension:pohlavi ?e) ^ (?c czso:sex ?e) ^ (?c czso:refPeriod ?d) ^ (?a cssz-dimension:refPeriod ?d) ^ (?c qb:dataSet <salaries-by-sex>) ^ (?c czso:refArea ?b) ^ (?a cssz-dimension:refArea ?b) ^ (?a cssz-dimension:druh-duchodu <https://data.cssz.cz/resource/pension-kind/PK_old_age_total_S_SI_SRN_ST_SD_2010>) ^ (?a qb:dataSet <pensions-by-region-by-sex-PK_old_age_total_S_SI_SRN_ST_SD>) -> (?a cssz-measure:prumerna-vyse-duchodu-v-kc <<8814.26__11444.72)_ef2_1/2>) | support: 2, headCoverage: 1.7801513128615933E-5, confidence: 0.3333333333333333, lift: 267.5, headConfidence: 0.0012461059190031153, headSize: 112350, bodySize: 6\n",
      "(?c czso:prumernaMzda <<27200.5__27388.5)_es2_34/42>) ^ (?a cssz-dimension:pohlavi ?e) ^ (?c czso:sex ?e) ^ (?c czso:refPeriod ?d) ^ (?a cssz-dimension:refPeriod ?d) ^ (?c qb:dataSet <salaries-by-sex>) ^ (?c czso:refArea ?b) ^ (?a cssz-dimension:refArea ?b) ^ (?a cssz-dimension:druh-duchodu <https://data.cssz.cz/resource/pension-kind/PK_old_age_total_S_SI_SRN_ST_SD_2010>) ^ (?a qb:dataSet <pensions-by-region-by-sex-PK_old_age_total_S_SI_SRN_ST_SD>) -> (?a cssz-measure:prumerna-vyse-duchodu-v-kc <<11444.72__15557.61)_ef2_2/2>) | support: 2, headCoverage: 1.7801513128615933E-5, confidence: 0.3333333333333333, lift: 267.5, headConfidence: 0.0012461059190031153, headSize: 112350, bodySize: 6\n",
      "(?c czso:prumernaMzda <<20024.0__20182.5)_es1_7/42>) ^ (?a cssz-dimension:pohlavi ?e) ^ (?c czso:sex ?e) ^ (?c czso:refPeriod ?d) ^ (?a cssz-dimension:refPeriod ?d) ^ (?c qb:dataSet <salaries-by-sex>) ^ (?c czso:refArea ?b) ^ (?a cssz-dimension:refArea ?b) ^ (?a cssz-dimension:druh-duchodu <https://data.cssz.cz/resource/pension-kind/PK_old_age_total_S_SI_SRN_ST_SD_2010>) ^ (?a qb:dataSet <pensions-by-region-by-sex-PK_old_age_total_S_SI_SRN_ST_SD>) -> (?a cssz-measure:prumerna-vyse-duchodu-v-kc <<8814.26__11444.72)_ef2_1/2>) | support: 2, headCoverage: 1.7801513128615933E-5, confidence: 0.3333333333333333, lift: 267.5, headConfidence: 0.0012461059190031153, headSize: 112350, bodySize: 6\n",
      "(?c czso:medianMzdy <<18645.5__18935.0)_es5_4/16>) ^ (?a cssz-dimension:pohlavi ?e) ^ (?c czso:sex ?e) ^ (?c czso:refPeriod ?d) ^ (?a cssz-dimension:refPeriod ?d) ^ (?c qb:dataSet <salaries-by-sex>) ^ (?c czso:refArea ?b) ^ (?a cssz-dimension:refArea ?b) ^ (?a cssz-dimension:druh-duchodu <https://data.cssz.cz/resource/pension-kind/PK_old_age_total_S_SI_SRN_ST_SD_2010>) ^ (?a qb:dataSet <pensions-by-region-by-sex-PK_old_age_total_S_SI_SRN_ST_SD>) -> (?a cssz-measure:prumerna-vyse-duchodu-v-kc <<8814.26__11444.72)_ef2_1/2>) | support: 5, headCoverage: 4.4503782821539834E-5, confidence: 0.3333333333333333, lift: 267.5, headConfidence: 0.0012461059190031153, headSize: 112350, bodySize: 15\n",
      "(?c czso:medianMzdy <<28883.5__31063.0)_es1_42/42>) ^ (?a cssz-dimension:pohlavi ?e) ^ (?c czso:sex ?e) ^ (?c czso:refPeriod ?d) ^ (?a cssz-dimension:refPeriod ?d) ^ (?c qb:dataSet <salaries-by-sex>) ^ (?c czso:refArea ?b) ^ (?a cssz-dimension:refArea ?b) ^ (?a cssz-dimension:druh-duchodu <https://data.cssz.cz/resource/pension-kind/PK_old_age_total_S_SI_SRN_ST_SD_2010>) ^ (?a qb:dataSet <pensions-by-region-by-sex-PK_old_age_total_S_SI_SRN_ST_SD>) -> (?a cssz-measure:prumerna-vyse-duchodu-v-kc <<11444.72__15557.61)_ef2_2/2>) | support: 2, headCoverage: 1.7801513128615933E-5, confidence: 0.3333333333333333, lift: 267.5, headConfidence: 0.0012461059190031153, headSize: 112350, bodySize: 6\n"
     ]
    },
    {
     "name": "stdout",
     "output_type": "stream",
     "text": [
      "(?c czso:medianMzdy <<22117.0__22180.0)_es2_22/42>) ^ (?a cssz-dimension:pohlavi ?e) ^ (?c czso:sex ?e) ^ (?c czso:refPeriod ?d) ^ (?a cssz-dimension:refPeriod ?d) ^ (?c qb:dataSet <salaries-by-sex>) ^ (?c czso:refArea ?b) ^ (?a cssz-dimension:refArea ?b) ^ (?a cssz-dimension:druh-duchodu <https://data.cssz.cz/resource/pension-kind/PK_old_age_total_S_SI_SRN_ST_SD_2010>) ^ (?a qb:dataSet <pensions-by-region-by-sex-PK_old_age_total_S_SI_SRN_ST_SD>) -> (?a cssz-measure:prumerna-vyse-duchodu-v-kc <<8814.26__11444.72)_ef2_1/2>) | support: 2, headCoverage: 1.7801513128615933E-5, confidence: 0.3333333333333333, lift: 267.5, headConfidence: 0.0012461059190031153, headSize: 112350, bodySize: 6\n",
      "(?c czso:prumernaMzda <<24832.5__25077.5)_es2_22/42>) ^ (?a cssz-dimension:pohlavi ?e) ^ (?c czso:sex ?e) ^ (?c czso:refPeriod ?d) ^ (?a cssz-dimension:refPeriod ?d) ^ (?c qb:dataSet <salaries-by-sex>) ^ (?c czso:refArea ?b) ^ (?a cssz-dimension:refArea ?b) ^ (?a cssz-dimension:druh-duchodu <https://data.cssz.cz/resource/pension-kind/PK_old_age_total_S_SI_SRN_ST_SD_2010>) ^ (?a qb:dataSet <pensions-by-region-by-sex-PK_old_age_total_S_SI_SRN_ST_SD>) -> (?a cssz-measure:prumerna-vyse-duchodu-v-kc <<8814.26__11444.72)_ef2_1/2>) | support: 1, headCoverage: 8.900756564307967E-6, confidence: 0.16666666666666666, lift: 133.75, headConfidence: 0.0012461059190031153, headSize: 112350, bodySize: 6\n",
      "(?c czso:prumernaMzda <<19361.0__19404.0)_es2_2/42>) ^ (?a cssz-dimension:pohlavi ?e) ^ (?c czso:sex ?e) ^ (?c czso:refPeriod ?d) ^ (?a cssz-dimension:refPeriod ?d) ^ (?c qb:dataSet <salaries-by-sex>) ^ (?c czso:refArea ?b) ^ (?a cssz-dimension:refArea ?b) ^ (?a cssz-dimension:druh-duchodu <https://data.cssz.cz/resource/pension-kind/PK_old_age_total_S_SI_SRN_ST_SD_2010>) ^ (?a qb:dataSet <pensions-by-region-by-sex-PK_old_age_total_S_SI_SRN_ST_SD>) -> (?a cssz-measure:prumerna-vyse-duchodu-v-kc <<8814.26__11444.72)_ef2_1/2>) | support: 2, headCoverage: 1.7801513128615933E-5, confidence: 0.3333333333333333, lift: 267.5, headConfidence: 0.0012461059190031153, headSize: 112350, bodySize: 6\n",
      "(?c czso:medianMzdy <<21972.5__23183.5)_es20_3/4>) ^ (?a cssz-dimension:pohlavi ?e) ^ (?c czso:sex ?e) ^ (?c czso:refPeriod ?d) ^ (?a cssz-dimension:refPeriod ?d) ^ (?c qb:dataSet <salaries-by-sex>) ^ (?c czso:refArea ?b) ^ (?a cssz-dimension:refArea ?b) ^ (?a cssz-dimension:druh-duchodu <https://data.cssz.cz/resource/pension-kind/PK_old_age_total_S_SI_SRN_ST_SD_2010>) ^ (?a qb:dataSet <pensions-by-region-by-sex-PK_old_age_total_S_SI_SRN_ST_SD>) -> (?a cssz-measure:prumerna-vyse-duchodu-v-kc <<11444.72__15557.61)_ef2_2/2>) | support: 12, headCoverage: 1.068090787716956E-4, confidence: 0.19047619047619047, lift: 152.85714285714283, headConfidence: 0.0012461059190031153, headSize: 112350, bodySize: 63\n",
      "(?c czso:medianMzdy <<17368.5__17486.0)_es1_2/42>) ^ (?a cssz-dimension:pohlavi ?e) ^ (?c czso:sex ?e) ^ (?c czso:refPeriod ?d) ^ (?a cssz-dimension:refPeriod ?d) ^ (?c qb:dataSet <salaries-by-sex>) ^ (?c czso:refArea ?b) ^ (?a cssz-dimension:refArea ?b) ^ (?a cssz-dimension:druh-duchodu <https://data.cssz.cz/resource/pension-kind/PK_old_age_total_S_SI_SRN_ST_SD_2010>) ^ (?a qb:dataSet <pensions-by-region-by-sex-PK_old_age_total_S_SI_SRN_ST_SD>) -> (?a cssz-measure:prumerna-vyse-duchodu-v-kc <<8814.26__11444.72)_ef2_1/2>) | support: 2, headCoverage: 1.7801513128615933E-5, confidence: 0.3333333333333333, lift: 267.5, headConfidence: 0.0012461059190031153, headSize: 112350, bodySize: 6\n",
      "(?c czso:medianMzdy <<19493.0__20062.5)_es5_7/16>) ^ (?a cssz-dimension:pohlavi ?e) ^ (?c czso:sex ?e) ^ (?c czso:refPeriod ?d) ^ (?a cssz-dimension:refPeriod ?d) ^ (?c qb:dataSet <salaries-by-sex>) ^ (?c czso:refArea ?b) ^ (?a cssz-dimension:refArea ?b) ^ (?a cssz-dimension:druh-duchodu <https://data.cssz.cz/resource/pension-kind/PK_old_age_total_S_SI_SRN_ST_SD_2010>) ^ (?a qb:dataSet <pensions-by-region-by-sex-PK_old_age_total_S_SI_SRN_ST_SD>) -> (?a cssz-measure:prumerna-vyse-duchodu-v-kc <<8814.26__11444.72)_ef2_1/2>) | support: 5, headCoverage: 4.4503782821539834E-5, confidence: 0.3333333333333333, lift: 267.5, headConfidence: 0.0012461059190031153, headSize: 112350, bodySize: 15\n",
      "(?c czso:prumernaMzda <<37820.5__41209.0)_es1_42/42>) ^ (?a cssz-dimension:pohlavi ?e) ^ (?c czso:sex ?e) ^ (?c czso:refPeriod ?d) ^ (?a cssz-dimension:refPeriod ?d) ^ (?c qb:dataSet <salaries-by-sex>) ^ (?c czso:refArea ?b) ^ (?a cssz-dimension:refArea ?b) ^ (?a cssz-dimension:druh-duchodu <https://data.cssz.cz/resource/pension-kind/PK_old_age_total_S_SI_SRN_ST_SD_2010>) ^ (?a qb:dataSet <pensions-by-region-by-sex-PK_old_age_total_S_SI_SRN_ST_SD>) -> (?a cssz-measure:prumerna-vyse-duchodu-v-kc <<11444.72__15557.61)_ef2_2/2>) | support: 2, headCoverage: 1.7801513128615933E-5, confidence: 0.3333333333333333, lift: 267.5, headConfidence: 0.0012461059190031153, headSize: 112350, bodySize: 6\n",
      "(?c czso:medianMzdy <<17677.5__17948.0)_es2_4/42>) ^ (?a cssz-dimension:pohlavi ?e) ^ (?c czso:sex ?e) ^ (?c czso:refPeriod ?d) ^ (?a cssz-dimension:refPeriod ?d) ^ (?c qb:dataSet <salaries-by-sex>) ^ (?c czso:refArea ?b) ^ (?a cssz-dimension:refArea ?b) ^ (?a cssz-dimension:druh-duchodu <https://data.cssz.cz/resource/pension-kind/PK_old_age_total_S_SI_SRN_ST_SD_2010>) ^ (?a qb:dataSet <pensions-by-region-by-sex-PK_old_age_total_S_SI_SRN_ST_SD>) -> (?a cssz-measure:prumerna-vyse-duchodu-v-kc <<8814.26__11444.72)_ef2_1/2>) | support: 2, headCoverage: 1.7801513128615933E-5, confidence: 0.3333333333333333, lift: 267.5, headConfidence: 0.0012461059190031153, headSize: 112350, bodySize: 6\n",
      "(?c czso:medianMzdy <<17368.5__17486.0)_es2_2/42>) ^ (?a cssz-dimension:pohlavi ?e) ^ (?c czso:sex ?e) ^ (?c czso:refPeriod ?d) ^ (?a cssz-dimension:refPeriod ?d) ^ (?c qb:dataSet <salaries-by-sex>) ^ (?c czso:refArea ?b) ^ (?a cssz-dimension:refArea ?b) ^ (?a cssz-dimension:druh-duchodu <https://data.cssz.cz/resource/pension-kind/PK_old_age_total_S_SI_SRN_ST_SD_2010>) ^ (?a qb:dataSet <pensions-by-region-by-sex-PK_old_age_total_S_SI_SRN_ST_SD>) -> (?a cssz-measure:prumerna-vyse-duchodu-v-kc <<8814.26__11444.72)_ef2_1/2>) | support: 2, headCoverage: 1.7801513128615933E-5, confidence: 0.3333333333333333, lift: 267.5, headConfidence: 0.0012461059190031153, headSize: 112350, bodySize: 6\n",
      "(?c czso:prumernaMzda <<25681.0__26143.5)_es5_11/16>) ^ (?a cssz-dimension:pohlavi ?e) ^ (?c czso:sex ?e) ^ (?c czso:refPeriod ?d) ^ (?a cssz-dimension:refPeriod ?d) ^ (?c qb:dataSet <salaries-by-sex>) ^ (?c czso:refArea ?b) ^ (?a cssz-dimension:refArea ?b) ^ (?a cssz-dimension:druh-duchodu <https://data.cssz.cz/resource/pension-kind/PK_old_age_total_S_SI_SRN_ST_SD_2010>) ^ (?a qb:dataSet <pensions-by-region-by-sex-PK_old_age_total_S_SI_SRN_ST_SD>) -> (?a cssz-measure:prumerna-vyse-duchodu-v-kc <<11444.72__15557.61)_ef2_2/2>) | support: 4, headCoverage: 3.560302625723187E-5, confidence: 0.26666666666666666, lift: 214.0, headConfidence: 0.0012461059190031153, headSize: 112350, bodySize: 15\n",
      "(?c czso:prumernaMzda <<19440.0__19778.5)_es2_4/42>) ^ (?a cssz-dimension:pohlavi ?e) ^ (?c czso:sex ?e) ^ (?c czso:refPeriod ?d) ^ (?a cssz-dimension:refPeriod ?d) ^ (?c qb:dataSet <salaries-by-sex>) ^ (?c czso:refArea ?b) ^ (?a cssz-dimension:refArea ?b) ^ (?a cssz-dimension:druh-duchodu <https://data.cssz.cz/resource/pension-kind/PK_old_age_total_S_SI_SRN_ST_SD_2010>) ^ (?a qb:dataSet <pensions-by-region-by-sex-PK_old_age_total_S_SI_SRN_ST_SD>) -> (?a cssz-measure:prumerna-vyse-duchodu-v-kc <<8814.26__11444.72)_ef2_1/2>) | support: 2, headCoverage: 1.7801513128615933E-5, confidence: 0.3333333333333333, lift: 267.5, headConfidence: 0.0012461059190031153, headSize: 112350, bodySize: 6\n"
     ]
    },
    {
     "name": "stdout",
     "output_type": "stream",
     "text": [
      "(?c czso:prumernaMzda <<25851.0__26069.5)_es2_27/42>) ^ (?a cssz-dimension:pohlavi ?e) ^ (?c czso:sex ?e) ^ (?c czso:refPeriod ?d) ^ (?a cssz-dimension:refPeriod ?d) ^ (?c qb:dataSet <salaries-by-sex>) ^ (?c czso:refArea ?b) ^ (?a cssz-dimension:refArea ?b) ^ (?a cssz-dimension:druh-duchodu <https://data.cssz.cz/resource/pension-kind/PK_old_age_total_S_SI_SRN_ST_SD_2010>) ^ (?a qb:dataSet <pensions-by-region-by-sex-PK_old_age_total_S_SI_SRN_ST_SD>) -> (?a cssz-measure:prumerna-vyse-duchodu-v-kc <<8814.26__11444.72)_ef2_1/2>) | support: 1, headCoverage: 8.900756564307967E-6, confidence: 0.16666666666666666, lift: 133.75, headConfidence: 0.0012461059190031153, headSize: 112350, bodySize: 6\n",
      "(?c czso:prumernaMzda <<19274.0__19361.0)_es1_1/42>) ^ (?a cssz-dimension:pohlavi ?e) ^ (?c czso:sex ?e) ^ (?c czso:refPeriod ?d) ^ (?a cssz-dimension:refPeriod ?d) ^ (?c qb:dataSet <salaries-by-sex>) ^ (?c czso:refArea ?b) ^ (?a cssz-dimension:refArea ?b) ^ (?a cssz-dimension:druh-duchodu <https://data.cssz.cz/resource/pension-kind/PK_old_age_total_S_SI_SRN_ST_SD_2010>) ^ (?a qb:dataSet <pensions-by-region-by-sex-PK_old_age_total_S_SI_SRN_ST_SD>) -> (?a cssz-measure:prumerna-vyse-duchodu-v-kc <<8814.26__11444.72)_ef2_1/2>) | support: 2, headCoverage: 1.7801513128615933E-5, confidence: 0.3333333333333333, lift: 267.5, headConfidence: 0.0012461059190031153, headSize: 112350, bodySize: 6\n",
      "(?c czso:prumernaMzda <<22087.5__25458.5)_ef7_4/7>) ^ (?a cssz-dimension:pohlavi ?e) ^ (?c czso:sex ?e) ^ (?c czso:refPeriod ?d) ^ (?a cssz-dimension:refPeriod ?d) ^ (?c qb:dataSet <salaries-by-sex>) ^ (?c czso:refArea ?b) ^ (?a cssz-dimension:refArea ?b) ^ (?a cssz-dimension:druh-duchodu <https://data.cssz.cz/resource/pension-kind/PK_old_age_total_S_SI_SRN_ST_SD_2010>) ^ (?a qb:dataSet <pensions-by-region-by-sex-PK_old_age_total_S_SI_SRN_ST_SD>) -> (?a cssz-measure:prumerna-vyse-duchodu-v-kc <<8814.26__11444.72)_ef2_1/2>) | support: 7, headCoverage: 6.230529595015576E-5, confidence: 0.19444444444444445, lift: 156.04166666666666, headConfidence: 0.0012461059190031153, headSize: 112350, bodySize: 36\n",
      "(?c czso:prumernaMzda <<26143.5__26416.0)_es5_12/16>) ^ (?a cssz-dimension:pohlavi ?e) ^ (?c czso:sex ?e) ^ (?c czso:refPeriod ?d) ^ (?a cssz-dimension:refPeriod ?d) ^ (?c qb:dataSet <salaries-by-sex>) ^ (?c czso:refArea ?b) ^ (?a cssz-dimension:refArea ?b) ^ (?a cssz-dimension:druh-duchodu <https://data.cssz.cz/resource/pension-kind/PK_old_age_total_S_SI_SRN_ST_SD_2010>) ^ (?a qb:dataSet <pensions-by-region-by-sex-PK_old_age_total_S_SI_SRN_ST_SD>) -> (?a cssz-measure:prumerna-vyse-duchodu-v-kc <<8814.26__11444.72)_ef2_1/2>) | support: 2, headCoverage: 1.7801513128615933E-5, confidence: 0.13333333333333333, lift: 107.0, headConfidence: 0.0012461059190031153, headSize: 112350, bodySize: 15\n",
      "(?c czso:prumernaMzda <<26143.5__41209.0)_ef3_3/3>) ^ (?a cssz-dimension:pohlavi ?e) ^ (?c czso:sex ?e) ^ (?c czso:refPeriod ?d) ^ (?a cssz-dimension:refPeriod ?d) ^ (?c qb:dataSet <salaries-by-sex>) ^ (?c czso:refArea ?b) ^ (?a cssz-dimension:refArea ?b) ^ (?a cssz-dimension:druh-duchodu <https://data.cssz.cz/resource/pension-kind/PK_old_age_total_S_SI_SRN_ST_SD_2010>) ^ (?a qb:dataSet <pensions-by-region-by-sex-PK_old_age_total_S_SI_SRN_ST_SD>) -> (?a cssz-measure:prumerna-vyse-duchodu-v-kc <<11444.72__15557.61)_ef2_2/2>) | support: 15, headCoverage: 1.335113484646195E-4, confidence: 0.17857142857142858, lift: 143.30357142857142, headConfidence: 0.0012461059190031153, headSize: 112350, bodySize: 84\n",
      "(?c czso:prumernaMzda <<19274.0__19361.0)_es2_1/42>) ^ (?a cssz-dimension:pohlavi ?e) ^ (?c czso:sex ?e) ^ (?c czso:refPeriod ?d) ^ (?a cssz-dimension:refPeriod ?d) ^ (?c qb:dataSet <salaries-by-sex>) ^ (?c czso:refArea ?b) ^ (?a cssz-dimension:refArea ?b) ^ (?a cssz-dimension:druh-duchodu <https://data.cssz.cz/resource/pension-kind/PK_old_age_total_S_SI_SRN_ST_SD_2010>) ^ (?a qb:dataSet <pensions-by-region-by-sex-PK_old_age_total_S_SI_SRN_ST_SD>) -> (?a cssz-measure:prumerna-vyse-duchodu-v-kc <<8814.26__11444.72)_ef2_1/2>) | support: 2, headCoverage: 1.7801513128615933E-5, confidence: 0.3333333333333333, lift: 267.5, headConfidence: 0.0012461059190031153, headSize: 112350, bodySize: 6\n",
      "(?c czso:prumernaMzda <<27200.5__27812.0)_es5_14/16>) ^ (?a cssz-dimension:pohlavi ?e) ^ (?c czso:sex ?e) ^ (?c czso:refPeriod ?d) ^ (?a cssz-dimension:refPeriod ?d) ^ (?c qb:dataSet <salaries-by-sex>) ^ (?c czso:refArea ?b) ^ (?a cssz-dimension:refArea ?b) ^ (?a cssz-dimension:druh-duchodu <https://data.cssz.cz/resource/pension-kind/PK_old_age_total_S_SI_SRN_ST_SD_2010>) ^ (?a qb:dataSet <pensions-by-region-by-sex-PK_old_age_total_S_SI_SRN_ST_SD>) -> (?a cssz-measure:prumerna-vyse-duchodu-v-kc <<11444.72__15557.61)_ef2_2/2>) | support: 4, headCoverage: 3.560302625723187E-5, confidence: 0.26666666666666666, lift: 214.0, headConfidence: 0.0012461059190031153, headSize: 112350, bodySize: 15\n",
      "(?c czso:medianMzdy <<17486.0__17677.5)_es2_3/42>) ^ (?a cssz-dimension:pohlavi ?e) ^ (?c czso:sex ?e) ^ (?c czso:refPeriod ?d) ^ (?a cssz-dimension:refPeriod ?d) ^ (?c qb:dataSet <salaries-by-sex>) ^ (?c czso:refArea ?b) ^ (?a cssz-dimension:refArea ?b) ^ (?a cssz-dimension:druh-duchodu <https://data.cssz.cz/resource/pension-kind/PK_old_age_total_S_SI_SRN_ST_SD_2010>) ^ (?a qb:dataSet <pensions-by-region-by-sex-PK_old_age_total_S_SI_SRN_ST_SD>) -> (?a cssz-measure:prumerna-vyse-duchodu-v-kc <<8814.26__11444.72)_ef2_1/2>) | support: 2, headCoverage: 1.7801513128615933E-5, confidence: 0.3333333333333333, lift: 267.5, headConfidence: 0.0012461059190031153, headSize: 112350, bodySize: 6\n",
      "(?c czso:medianMzdy <<22359.0__22418.5)_es2_25/42>) ^ (?a cssz-dimension:pohlavi ?e) ^ (?c czso:sex ?e) ^ (?c czso:refPeriod ?d) ^ (?a cssz-dimension:refPeriod ?d) ^ (?c qb:dataSet <salaries-by-sex>) ^ (?c czso:refArea ?b) ^ (?a cssz-dimension:refArea ?b) ^ (?a cssz-dimension:druh-duchodu <https://data.cssz.cz/resource/pension-kind/PK_old_age_total_S_SI_SRN_ST_SD_2010>) ^ (?a qb:dataSet <pensions-by-region-by-sex-PK_old_age_total_S_SI_SRN_ST_SD>) -> (?a cssz-measure:prumerna-vyse-duchodu-v-kc <<8814.26__11444.72)_ef2_1/2>) | support: 1, headCoverage: 8.900756564307967E-6, confidence: 0.16666666666666666, lift: 133.75, headConfidence: 0.0012461059190031153, headSize: 112350, bodySize: 6\n",
      "(?c czso:prumernaMzda <<26561.0__41209.0)_es20_4/4>) ^ (?a cssz-dimension:pohlavi ?e) ^ (?c czso:sex ?e) ^ (?c czso:refPeriod ?d) ^ (?a cssz-dimension:refPeriod ?d) ^ (?c qb:dataSet <salaries-by-sex>) ^ (?c czso:refArea ?b) ^ (?a cssz-dimension:refArea ?b) ^ (?a cssz-dimension:druh-duchodu <https://data.cssz.cz/resource/pension-kind/PK_old_age_total_S_SI_SRN_ST_SD_2010>) ^ (?a qb:dataSet <pensions-by-region-by-sex-PK_old_age_total_S_SI_SRN_ST_SD>) -> (?a cssz-measure:prumerna-vyse-duchodu-v-kc <<11444.72__15557.61)_ef2_2/2>) | support: 12, headCoverage: 1.068090787716956E-4, confidence: 0.18181818181818182, lift: 145.9090909090909, headConfidence: 0.0012461059190031153, headSize: 112350, bodySize: 66\n",
      "(?c czso:medianMzdy <<23337.5__23528.0)_es1_33/42>) ^ (?a cssz-dimension:pohlavi ?e) ^ (?c czso:sex ?e) ^ (?c czso:refPeriod ?d) ^ (?a cssz-dimension:refPeriod ?d) ^ (?c qb:dataSet <salaries-by-sex>) ^ (?c czso:refArea ?b) ^ (?a cssz-dimension:refArea ?b) ^ (?a cssz-dimension:druh-duchodu <https://data.cssz.cz/resource/pension-kind/PK_old_age_total_S_SI_SRN_ST_SD_2010>) ^ (?a qb:dataSet <pensions-by-region-by-sex-PK_old_age_total_S_SI_SRN_ST_SD>) -> (?a cssz-measure:prumerna-vyse-duchodu-v-kc <<11444.72__15557.61)_ef2_2/2>) | support: 1, headCoverage: 8.900756564307967E-6, confidence: 0.16666666666666666, lift: 133.75, headConfidence: 0.0012461059190031153, headSize: 112350, bodySize: 6\n"
     ]
    },
    {
     "name": "stdout",
     "output_type": "stream",
     "text": [
      "(?c czso:prumernaMzda <<26375.0__27860.0)_ef7_6/7>) ^ (?a cssz-dimension:pohlavi ?e) ^ (?c czso:sex ?e) ^ (?c czso:refPeriod ?d) ^ (?a cssz-dimension:refPeriod ?d) ^ (?c qb:dataSet <salaries-by-sex>) ^ (?c czso:refArea ?b) ^ (?a cssz-dimension:refArea ?b) ^ (?a cssz-dimension:druh-duchodu <https://data.cssz.cz/resource/pension-kind/PK_old_age_total_S_SI_SRN_ST_SD_2010>) ^ (?a qb:dataSet <pensions-by-region-by-sex-PK_old_age_total_S_SI_SRN_ST_SD>) -> (?a cssz-measure:prumerna-vyse-duchodu-v-kc <<8814.26__11444.72)_ef2_1/2>) | support: 6, headCoverage: 5.34045393858478E-5, confidence: 0.16666666666666666, lift: 133.75, headConfidence: 0.0012461059190031153, headSize: 112350, bodySize: 36\n",
      "(?c czso:prumernaMzda <<20707.5__20941.0)_es2_13/42>) ^ (?a cssz-dimension:pohlavi ?e) ^ (?c czso:sex ?e) ^ (?c czso:refPeriod ?d) ^ (?a cssz-dimension:refPeriod ?d) ^ (?c qb:dataSet <salaries-by-sex>) ^ (?c czso:refArea ?b) ^ (?a cssz-dimension:refArea ?b) ^ (?a cssz-dimension:druh-duchodu <https://data.cssz.cz/resource/pension-kind/PK_old_age_total_S_SI_SRN_ST_SD_2010>) ^ (?a qb:dataSet <pensions-by-region-by-sex-PK_old_age_total_S_SI_SRN_ST_SD>) -> (?a cssz-measure:prumerna-vyse-duchodu-v-kc <<8814.26__11444.72)_ef2_1/2>) | support: 2, headCoverage: 1.7801513128615933E-5, confidence: 0.3333333333333333, lift: 267.5, headConfidence: 0.0012461059190031153, headSize: 112350, bodySize: 6\n",
      "(?c czso:medianMzdy <<20062.5__21512.5)_es5_8/16>) ^ (?a cssz-dimension:pohlavi ?e) ^ (?c czso:sex ?e) ^ (?c czso:refPeriod ?d) ^ (?a cssz-dimension:refPeriod ?d) ^ (?c qb:dataSet <salaries-by-sex>) ^ (?c czso:refArea ?b) ^ (?a cssz-dimension:refArea ?b) ^ (?a cssz-dimension:druh-duchodu <https://data.cssz.cz/resource/pension-kind/PK_old_age_total_S_SI_SRN_ST_SD_2010>) ^ (?a qb:dataSet <pensions-by-region-by-sex-PK_old_age_total_S_SI_SRN_ST_SD>) -> (?a cssz-measure:prumerna-vyse-duchodu-v-kc <<8814.26__11444.72)_ef2_1/2>) | support: 4, headCoverage: 3.560302625723187E-5, confidence: 0.26666666666666666, lift: 214.0, headConfidence: 0.0012461059190031153, headSize: 112350, bodySize: 15\n",
      "(?c czso:medianMzdy <<19315.5__20227.0)_es10_4/9>) ^ (?a cssz-dimension:pohlavi ?e) ^ (?c czso:sex ?e) ^ (?c czso:refPeriod ?d) ^ (?a cssz-dimension:refPeriod ?d) ^ (?c qb:dataSet <salaries-by-sex>) ^ (?c czso:refArea ?b) ^ (?a cssz-dimension:refArea ?b) ^ (?a cssz-dimension:druh-duchodu <https://data.cssz.cz/resource/pension-kind/PK_old_age_total_S_SI_SRN_ST_SD_2010>) ^ (?a qb:dataSet <pensions-by-region-by-sex-PK_old_age_total_S_SI_SRN_ST_SD>) -> (?a cssz-measure:prumerna-vyse-duchodu-v-kc <<8814.26__11444.72)_ef2_1/2>) | support: 9, headCoverage: 8.01068090787717E-5, confidence: 0.3333333333333333, lift: 267.5, headConfidence: 0.0012461059190031153, headSize: 112350, bodySize: 27\n",
      "(?c czso:medianMzdy <<20396.5__21512.5)_es1_20/42>) ^ (?a cssz-dimension:pohlavi ?e) ^ (?c czso:sex ?e) ^ (?c czso:refPeriod ?d) ^ (?a cssz-dimension:refPeriod ?d) ^ (?c qb:dataSet <salaries-by-sex>) ^ (?c czso:refArea ?b) ^ (?a cssz-dimension:refArea ?b) ^ (?a cssz-dimension:druh-duchodu <https://data.cssz.cz/resource/pension-kind/PK_old_age_total_S_SI_SRN_ST_SD_2010>) ^ (?a qb:dataSet <pensions-by-region-by-sex-PK_old_age_total_S_SI_SRN_ST_SD>) -> (?a cssz-measure:prumerna-vyse-duchodu-v-kc <<11444.72__15557.61)_ef2_2/2>) | support: 1, headCoverage: 8.900756564307967E-6, confidence: 0.16666666666666666, lift: 133.75, headConfidence: 0.0012461059190031153, headSize: 112350, bodySize: 6\n",
      "(?c czso:medianMzdy <<23260.0__24267.0)_es10_8/9>) ^ (?a cssz-dimension:pohlavi ?e) ^ (?c czso:sex ?e) ^ (?c czso:refPeriod ?d) ^ (?a cssz-dimension:refPeriod ?d) ^ (?c qb:dataSet <salaries-by-sex>) ^ (?c czso:refArea ?b) ^ (?a cssz-dimension:refArea ?b) ^ (?a cssz-dimension:druh-duchodu <https://data.cssz.cz/resource/pension-kind/PK_old_age_total_S_SI_SRN_ST_SD_2010>) ^ (?a qb:dataSet <pensions-by-region-by-sex-PK_old_age_total_S_SI_SRN_ST_SD>) -> (?a cssz-measure:prumerna-vyse-duchodu-v-kc <<11444.72__15557.61)_ef2_2/2>) | support: 6, headCoverage: 5.34045393858478E-5, confidence: 0.2, lift: 160.5, headConfidence: 0.0012461059190031153, headSize: 112350, bodySize: 30\n",
      "(?c czso:prumernaMzda <<19274.0__19440.0)_es5_1/16>) ^ (?a cssz-dimension:pohlavi ?e) ^ (?c czso:sex ?e) ^ (?c czso:refPeriod ?d) ^ (?a cssz-dimension:refPeriod ?d) ^ (?c qb:dataSet <salaries-by-sex>) ^ (?c czso:refArea ?b) ^ (?a cssz-dimension:refArea ?b) ^ (?a cssz-dimension:druh-duchodu <https://data.cssz.cz/resource/pension-kind/PK_old_age_total_S_SI_SRN_ST_SD_2010>) ^ (?a qb:dataSet <pensions-by-region-by-sex-PK_old_age_total_S_SI_SRN_ST_SD>) -> (?a cssz-measure:prumerna-vyse-duchodu-v-kc <<8814.26__11444.72)_ef2_1/2>) | support: 6, headCoverage: 5.34045393858478E-5, confidence: 0.3333333333333333, lift: 267.5, headConfidence: 0.0012461059190031153, headSize: 112350, bodySize: 18\n",
      "(?c czso:prumernaMzda <<25231.0__25458.5)_es1_24/42>) ^ (?a cssz-dimension:pohlavi ?e) ^ (?c czso:sex ?e) ^ (?c czso:refPeriod ?d) ^ (?a cssz-dimension:refPeriod ?d) ^ (?c qb:dataSet <salaries-by-sex>) ^ (?c czso:refArea ?b) ^ (?a cssz-dimension:refArea ?b) ^ (?a cssz-dimension:druh-duchodu <https://data.cssz.cz/resource/pension-kind/PK_old_age_total_S_SI_SRN_ST_SD_2010>) ^ (?a qb:dataSet <pensions-by-region-by-sex-PK_old_age_total_S_SI_SRN_ST_SD>) -> (?a cssz-measure:prumerna-vyse-duchodu-v-kc <<8814.26__11444.72)_ef2_1/2>) | support: 1, headCoverage: 8.900756564307967E-6, confidence: 0.16666666666666666, lift: 133.75, headConfidence: 0.0012461059190031153, headSize: 112350, bodySize: 6\n",
      "(?c czso:medianMzdy <<22418.5__22806.5)_es5_11/16>) ^ (?a cssz-dimension:pohlavi ?e) ^ (?c czso:sex ?e) ^ (?c czso:refPeriod ?d) ^ (?a cssz-dimension:refPeriod ?d) ^ (?c qb:dataSet <salaries-by-sex>) ^ (?c czso:refArea ?b) ^ (?a cssz-dimension:refArea ?b) ^ (?a cssz-dimension:druh-duchodu <https://data.cssz.cz/resource/pension-kind/PK_old_age_total_S_SI_SRN_ST_SD_2010>) ^ (?a qb:dataSet <pensions-by-region-by-sex-PK_old_age_total_S_SI_SRN_ST_SD>) -> (?a cssz-measure:prumerna-vyse-duchodu-v-kc <<8814.26__11444.72)_ef2_1/2>) | support: 2, headCoverage: 1.7801513128615933E-5, confidence: 0.13333333333333333, lift: 107.0, headConfidence: 0.0012461059190031153, headSize: 112350, bodySize: 15\n",
      "(?c czso:prumernaMzda <<26069.5__26722.0)_es10_7/9>) ^ (?a cssz-dimension:pohlavi ?e) ^ (?c czso:sex ?e) ^ (?c czso:refPeriod ?d) ^ (?a cssz-dimension:refPeriod ?d) ^ (?c qb:dataSet <salaries-by-sex>) ^ (?c czso:refArea ?b) ^ (?a cssz-dimension:refArea ?b) ^ (?a cssz-dimension:druh-duchodu <https://data.cssz.cz/resource/pension-kind/PK_old_age_total_S_SI_SRN_ST_SD_2010>) ^ (?a qb:dataSet <pensions-by-region-by-sex-PK_old_age_total_S_SI_SRN_ST_SD>) -> (?a cssz-measure:prumerna-vyse-duchodu-v-kc <<11444.72__15557.61)_ef2_2/2>) | support: 6, headCoverage: 5.34045393858478E-5, confidence: 0.2222222222222222, lift: 178.33333333333331, headConfidence: 0.0012461059190031153, headSize: 112350, bodySize: 27\n",
      "(?c czso:prumernaMzda <<26143.5__41209.0)_ef3_3/3>) ^ (?a cssz-dimension:pohlavi ?e) ^ (?c czso:sex ?e) ^ (?c czso:refPeriod ?d) ^ (?a cssz-dimension:refPeriod ?d) ^ (?c qb:dataSet <salaries-by-sex>) ^ (?c czso:refArea ?b) ^ (?a cssz-dimension:refArea ?b) ^ (?a cssz-dimension:druh-duchodu <https://data.cssz.cz/resource/pension-kind/PK_old_age_total_S_SI_SRN_ST_SD_2010>) ^ (?a qb:dataSet <pensions-by-region-by-sex-PK_old_age_total_S_SI_SRN_ST_SD>) -> (?a cssz-measure:prumerna-vyse-duchodu-v-kc <<8814.26__11444.72)_ef2_1/2>) | support: 13, headCoverage: 1.1570983533600356E-4, confidence: 0.15476190476190477, lift: 124.19642857142857, headConfidence: 0.0012461059190031153, headSize: 112350, bodySize: 84\n"
     ]
    },
    {
     "name": "stdout",
     "output_type": "stream",
     "text": [
      "(?c czso:medianMzdy <<22180.0__22287.0)_es2_23/42>) ^ (?a cssz-dimension:pohlavi ?e) ^ (?c czso:sex ?e) ^ (?c czso:refPeriod ?d) ^ (?a cssz-dimension:refPeriod ?d) ^ (?c qb:dataSet <salaries-by-sex>) ^ (?c czso:refArea ?b) ^ (?a cssz-dimension:refArea ?b) ^ (?a cssz-dimension:druh-duchodu <https://data.cssz.cz/resource/pension-kind/PK_old_age_total_S_SI_SRN_ST_SD_2010>) ^ (?a qb:dataSet <pensions-by-region-by-sex-PK_old_age_total_S_SI_SRN_ST_SD>) -> (?a cssz-measure:prumerna-vyse-duchodu-v-kc <<8814.26__11444.72)_ef2_1/2>) | support: 1, headCoverage: 8.900756564307967E-6, confidence: 0.16666666666666666, lift: 133.75, headConfidence: 0.0012461059190031153, headSize: 112350, bodySize: 6\n",
      "(?c czso:prumernaMzda <<26561.0__26827.5)_es1_32/42>) ^ (?a cssz-dimension:pohlavi ?e) ^ (?c czso:sex ?e) ^ (?c czso:refPeriod ?d) ^ (?a cssz-dimension:refPeriod ?d) ^ (?c qb:dataSet <salaries-by-sex>) ^ (?c czso:refArea ?b) ^ (?a cssz-dimension:refArea ?b) ^ (?a cssz-dimension:druh-duchodu <https://data.cssz.cz/resource/pension-kind/PK_old_age_total_S_SI_SRN_ST_SD_2010>) ^ (?a qb:dataSet <pensions-by-region-by-sex-PK_old_age_total_S_SI_SRN_ST_SD>) -> (?a cssz-measure:prumerna-vyse-duchodu-v-kc <<8814.26__11444.72)_ef2_1/2>) | support: 1, headCoverage: 8.900756564307967E-6, confidence: 0.16666666666666666, lift: 133.75, headConfidence: 0.0012461059190031153, headSize: 112350, bodySize: 6\n",
      "(?c czso:medianMzdy <<19395.0__19493.0)_es1_15/42>) ^ (?a cssz-dimension:pohlavi ?e) ^ (?c czso:sex ?e) ^ (?c czso:refPeriod ?d) ^ (?a cssz-dimension:refPeriod ?d) ^ (?c qb:dataSet <salaries-by-sex>) ^ (?c czso:refArea ?b) ^ (?a cssz-dimension:refArea ?b) ^ (?a cssz-dimension:druh-duchodu <https://data.cssz.cz/resource/pension-kind/PK_old_age_total_S_SI_SRN_ST_SD_2010>) ^ (?a qb:dataSet <pensions-by-region-by-sex-PK_old_age_total_S_SI_SRN_ST_SD>) -> (?a cssz-measure:prumerna-vyse-duchodu-v-kc <<8814.26__11444.72)_ef2_1/2>) | support: 2, headCoverage: 1.7801513128615933E-5, confidence: 0.3333333333333333, lift: 267.5, headConfidence: 0.0012461059190031153, headSize: 112350, bodySize: 6\n",
      "(?c czso:medianMzdy <<28883.5__31063.0)_es2_42/42>) ^ (?a cssz-dimension:pohlavi ?e) ^ (?c czso:sex ?e) ^ (?c czso:refPeriod ?d) ^ (?a cssz-dimension:refPeriod ?d) ^ (?c qb:dataSet <salaries-by-sex>) ^ (?c czso:refArea ?b) ^ (?a cssz-dimension:refArea ?b) ^ (?a cssz-dimension:druh-duchodu <https://data.cssz.cz/resource/pension-kind/PK_old_age_total_S_SI_SRN_ST_SD_2010>) ^ (?a qb:dataSet <pensions-by-region-by-sex-PK_old_age_total_S_SI_SRN_ST_SD>) -> (?a cssz-measure:prumerna-vyse-duchodu-v-kc <<11444.72__15557.61)_ef2_2/2>) | support: 2, headCoverage: 1.7801513128615933E-5, confidence: 0.3333333333333333, lift: 267.5, headConfidence: 0.0012461059190031153, headSize: 112350, bodySize: 6\n",
      "(?c czso:prumernaMzda <<21657.0__25592.5)_ef5_3/5>) ^ (?a cssz-dimension:pohlavi ?e) ^ (?c czso:sex ?e) ^ (?c czso:refPeriod ?d) ^ (?a cssz-dimension:refPeriod ?d) ^ (?c qb:dataSet <salaries-by-sex>) ^ (?c czso:refArea ?b) ^ (?a cssz-dimension:refArea ?b) ^ (?a cssz-dimension:druh-duchodu <https://data.cssz.cz/resource/pension-kind/PK_old_age_total_S_SI_SRN_ST_SD_2010>) ^ (?a qb:dataSet <pensions-by-region-by-sex-PK_old_age_total_S_SI_SRN_ST_SD>) -> (?a cssz-measure:prumerna-vyse-duchodu-v-kc <<8814.26__11444.72)_ef2_1/2>) | support: 11, headCoverage: 9.790832220738763E-5, confidence: 0.21568627450980393, lift: 173.08823529411765, headConfidence: 0.0012461059190031153, headSize: 112350, bodySize: 51\n",
      "(?c czso:prumernaMzda <<28321.5__29037.0)_es1_38/42>) ^ (?a cssz-dimension:pohlavi ?e) ^ (?c czso:sex ?e) ^ (?c czso:refPeriod ?d) ^ (?a cssz-dimension:refPeriod ?d) ^ (?c qb:dataSet <salaries-by-sex>) ^ (?c czso:refArea ?b) ^ (?a cssz-dimension:refArea ?b) ^ (?a cssz-dimension:druh-duchodu <https://data.cssz.cz/resource/pension-kind/PK_old_age_total_S_SI_SRN_ST_SD_2010>) ^ (?a qb:dataSet <pensions-by-region-by-sex-PK_old_age_total_S_SI_SRN_ST_SD>) -> (?a cssz-measure:prumerna-vyse-duchodu-v-kc <<11444.72__15557.61)_ef2_2/2>) | support: 1, headCoverage: 8.900756564307967E-6, confidence: 0.16666666666666666, lift: 133.75, headConfidence: 0.0012461059190031153, headSize: 112350, bodySize: 6\n",
      "(?c czso:prumernaMzda <<27200.5__27812.0)_es5_14/16>) ^ (?a cssz-dimension:pohlavi ?e) ^ (?c czso:sex ?e) ^ (?c czso:refPeriod ?d) ^ (?a cssz-dimension:refPeriod ?d) ^ (?c qb:dataSet <salaries-by-sex>) ^ (?c czso:refArea ?b) ^ (?a cssz-dimension:refArea ?b) ^ (?a cssz-dimension:druh-duchodu <https://data.cssz.cz/resource/pension-kind/PK_old_age_total_S_SI_SRN_ST_SD_2010>) ^ (?a qb:dataSet <pensions-by-region-by-sex-PK_old_age_total_S_SI_SRN_ST_SD>) -> (?a cssz-measure:prumerna-vyse-duchodu-v-kc <<8814.26__11444.72)_ef2_1/2>) | support: 1, headCoverage: 8.900756564307967E-6, confidence: 0.06666666666666667, lift: 53.5, headConfidence: 0.0012461059190031153, headSize: 112350, bodySize: 15\n",
      "(?c czso:medianMzdy <<23337.5__23528.0)_es1_33/42>) ^ (?a cssz-dimension:pohlavi ?e) ^ (?c czso:sex ?e) ^ (?c czso:refPeriod ?d) ^ (?a cssz-dimension:refPeriod ?d) ^ (?c qb:dataSet <salaries-by-sex>) ^ (?c czso:refArea ?b) ^ (?a cssz-dimension:refArea ?b) ^ (?a cssz-dimension:druh-duchodu <https://data.cssz.cz/resource/pension-kind/PK_old_age_total_S_SI_SRN_ST_SD_2010>) ^ (?a qb:dataSet <pensions-by-region-by-sex-PK_old_age_total_S_SI_SRN_ST_SD>) -> (?a cssz-measure:prumerna-vyse-duchodu-v-kc <<8814.26__11444.72)_ef2_1/2>) | support: 1, headCoverage: 8.900756564307967E-6, confidence: 0.16666666666666666, lift: 133.75, headConfidence: 0.0012461059190031153, headSize: 112350, bodySize: 6\n",
      "(?c czso:medianMzdy <<19617.0__22396.5)_ef5_3/5>) ^ (?a cssz-dimension:pohlavi ?e) ^ (?c czso:sex ?e) ^ (?c czso:refPeriod ?d) ^ (?a cssz-dimension:refPeriod ?d) ^ (?c qb:dataSet <salaries-by-sex>) ^ (?c czso:refArea ?b) ^ (?a cssz-dimension:refArea ?b) ^ (?a cssz-dimension:druh-duchodu <https://data.cssz.cz/resource/pension-kind/PK_old_age_total_S_SI_SRN_ST_SD_2010>) ^ (?a qb:dataSet <pensions-by-region-by-sex-PK_old_age_total_S_SI_SRN_ST_SD>) -> (?a cssz-measure:prumerna-vyse-duchodu-v-kc <<8814.26__11444.72)_ef2_1/2>) | support: 12, headCoverage: 1.068090787716956E-4, confidence: 0.23529411764705882, lift: 188.8235294117647, headConfidence: 0.0012461059190031153, headSize: 112350, bodySize: 51\n",
      "(?c czso:medianMzdy <<22719.0__22846.5)_es2_28/42>) ^ (?a cssz-dimension:pohlavi ?e) ^ (?c czso:sex ?e) ^ (?c czso:refPeriod ?d) ^ (?a cssz-dimension:refPeriod ?d) ^ (?c qb:dataSet <salaries-by-sex>) ^ (?c czso:refArea ?b) ^ (?a cssz-dimension:refArea ?b) ^ (?a cssz-dimension:druh-duchodu <https://data.cssz.cz/resource/pension-kind/PK_old_age_total_S_SI_SRN_ST_SD_2010>) ^ (?a qb:dataSet <pensions-by-region-by-sex-PK_old_age_total_S_SI_SRN_ST_SD>) -> (?a cssz-measure:prumerna-vyse-duchodu-v-kc <<11444.72__15557.61)_ef2_2/2>) | support: 2, headCoverage: 1.7801513128615933E-5, confidence: 0.3333333333333333, lift: 267.5, headConfidence: 0.0012461059190031153, headSize: 112350, bodySize: 6\n",
      "(?c czso:prumernaMzda <<26722.0__28102.0)_es10_8/9>) ^ (?a cssz-dimension:pohlavi ?e) ^ (?c czso:sex ?e) ^ (?c czso:refPeriod ?d) ^ (?a cssz-dimension:refPeriod ?d) ^ (?c qb:dataSet <salaries-by-sex>) ^ (?c czso:refArea ?b) ^ (?a cssz-dimension:refArea ?b) ^ (?a cssz-dimension:druh-duchodu <https://data.cssz.cz/resource/pension-kind/PK_old_age_total_S_SI_SRN_ST_SD_2010>) ^ (?a qb:dataSet <pensions-by-region-by-sex-PK_old_age_total_S_SI_SRN_ST_SD>) -> (?a cssz-measure:prumerna-vyse-duchodu-v-kc <<11444.72__15557.61)_ef2_2/2>) | support: 5, headCoverage: 4.4503782821539834E-5, confidence: 0.16666666666666666, lift: 133.75, headConfidence: 0.0012461059190031153, headSize: 112350, bodySize: 30\n"
     ]
    },
    {
     "name": "stdout",
     "output_type": "stream",
     "text": [
      "(?c czso:prumernaMzda <<19274.0__20024.0)_ef7_1/7>) ^ (?a cssz-dimension:pohlavi ?e) ^ (?c czso:sex ?e) ^ (?c czso:refPeriod ?d) ^ (?a cssz-dimension:refPeriod ?d) ^ (?c qb:dataSet <salaries-by-sex>) ^ (?c czso:refArea ?b) ^ (?a cssz-dimension:refArea ?b) ^ (?a cssz-dimension:druh-duchodu <https://data.cssz.cz/resource/pension-kind/PK_old_age_total_S_SI_SRN_ST_SD_2010>) ^ (?a qb:dataSet <pensions-by-region-by-sex-PK_old_age_total_S_SI_SRN_ST_SD>) -> (?a cssz-measure:prumerna-vyse-duchodu-v-kc <<8814.26__11444.72)_ef2_1/2>) | support: 12, headCoverage: 1.068090787716956E-4, confidence: 0.3333333333333333, lift: 267.5, headConfidence: 0.0012461059190031153, headSize: 112350, bodySize: 36\n",
      "(?c czso:prumernaMzda <<25851.0__26069.5)_es1_27/42>) ^ (?a cssz-dimension:pohlavi ?e) ^ (?c czso:sex ?e) ^ (?c czso:refPeriod ?d) ^ (?a cssz-dimension:refPeriod ?d) ^ (?c qb:dataSet <salaries-by-sex>) ^ (?c czso:refArea ?b) ^ (?a cssz-dimension:refArea ?b) ^ (?a cssz-dimension:druh-duchodu <https://data.cssz.cz/resource/pension-kind/PK_old_age_total_S_SI_SRN_ST_SD_2010>) ^ (?a qb:dataSet <pensions-by-region-by-sex-PK_old_age_total_S_SI_SRN_ST_SD>) -> (?a cssz-measure:prumerna-vyse-duchodu-v-kc <<11444.72__15557.61)_ef2_2/2>) | support: 1, headCoverage: 8.900756564307967E-6, confidence: 0.16666666666666666, lift: 133.75, headConfidence: 0.0012461059190031153, headSize: 112350, bodySize: 6\n",
      "(?c czso:prumernaMzda <<27388.5__27614.5)_es1_35/42>) ^ (?a cssz-dimension:pohlavi ?e) ^ (?c czso:sex ?e) ^ (?c czso:refPeriod ?d) ^ (?a cssz-dimension:refPeriod ?d) ^ (?c qb:dataSet <salaries-by-sex>) ^ (?c czso:refArea ?b) ^ (?a cssz-dimension:refArea ?b) ^ (?a cssz-dimension:druh-duchodu <https://data.cssz.cz/resource/pension-kind/PK_old_age_total_S_SI_SRN_ST_SD_2010>) ^ (?a qb:dataSet <pensions-by-region-by-sex-PK_old_age_total_S_SI_SRN_ST_SD>) -> (?a cssz-measure:prumerna-vyse-duchodu-v-kc <<11444.72__15557.61)_ef2_2/2>) | support: 2, headCoverage: 1.7801513128615933E-5, confidence: 0.3333333333333333, lift: 267.5, headConfidence: 0.0012461059190031153, headSize: 112350, bodySize: 6\n",
      "(?c czso:medianMzdy <<19149.5__20227.0)_ef7_3/7>) ^ (?a cssz-dimension:pohlavi ?e) ^ (?c czso:sex ?e) ^ (?c czso:refPeriod ?d) ^ (?a cssz-dimension:refPeriod ?d) ^ (?c qb:dataSet <salaries-by-sex>) ^ (?c czso:refArea ?b) ^ (?a cssz-dimension:refArea ?b) ^ (?a cssz-dimension:druh-duchodu <https://data.cssz.cz/resource/pension-kind/PK_old_age_total_S_SI_SRN_ST_SD_2010>) ^ (?a qb:dataSet <pensions-by-region-by-sex-PK_old_age_total_S_SI_SRN_ST_SD>) -> (?a cssz-measure:prumerna-vyse-duchodu-v-kc <<8814.26__11444.72)_ef2_1/2>) | support: 12, headCoverage: 1.068090787716956E-4, confidence: 0.3333333333333333, lift: 267.5, headConfidence: 0.0012461059190031153, headSize: 112350, bodySize: 36\n",
      "(?c czso:medianMzdy <<24340.0__24683.0)_es2_38/42>) ^ (?a cssz-dimension:pohlavi ?e) ^ (?c czso:sex ?e) ^ (?c czso:refPeriod ?d) ^ (?a cssz-dimension:refPeriod ?d) ^ (?c qb:dataSet <salaries-by-sex>) ^ (?c czso:refArea ?b) ^ (?a cssz-dimension:refArea ?b) ^ (?a cssz-dimension:druh-duchodu <https://data.cssz.cz/resource/pension-kind/PK_old_age_total_S_SI_SRN_ST_SD_2010>) ^ (?a qb:dataSet <pensions-by-region-by-sex-PK_old_age_total_S_SI_SRN_ST_SD>) -> (?a cssz-measure:prumerna-vyse-duchodu-v-kc <<8814.26__11444.72)_ef2_1/2>) | support: 1, headCoverage: 8.900756564307967E-6, confidence: 0.16666666666666666, lift: 133.75, headConfidence: 0.0012461059190031153, headSize: 112350, bodySize: 6\n",
      "(?c czso:medianMzdy <<23260.0__24267.0)_es10_8/9>) ^ (?a cssz-dimension:pohlavi ?e) ^ (?c czso:sex ?e) ^ (?c czso:refPeriod ?d) ^ (?a cssz-dimension:refPeriod ?d) ^ (?c qb:dataSet <salaries-by-sex>) ^ (?c czso:refArea ?b) ^ (?a cssz-dimension:refArea ?b) ^ (?a cssz-dimension:druh-duchodu <https://data.cssz.cz/resource/pension-kind/PK_old_age_total_S_SI_SRN_ST_SD_2010>) ^ (?a qb:dataSet <pensions-by-region-by-sex-PK_old_age_total_S_SI_SRN_ST_SD>) -> (?a cssz-measure:prumerna-vyse-duchodu-v-kc <<8814.26__11444.72)_ef2_1/2>) | support: 4, headCoverage: 3.560302625723187E-5, confidence: 0.13333333333333333, lift: 107.0, headConfidence: 0.0012461059190031153, headSize: 112350, bodySize: 30\n",
      "(?c czso:prumernaMzda <<25121.5__26069.5)_es10_6/9>) ^ (?a cssz-dimension:pohlavi ?e) ^ (?c czso:sex ?e) ^ (?c czso:refPeriod ?d) ^ (?a cssz-dimension:refPeriod ?d) ^ (?c qb:dataSet <salaries-by-sex>) ^ (?c czso:refArea ?b) ^ (?a cssz-dimension:refArea ?b) ^ (?a cssz-dimension:druh-duchodu <https://data.cssz.cz/resource/pension-kind/PK_old_age_total_S_SI_SRN_ST_SD_2010>) ^ (?a qb:dataSet <pensions-by-region-by-sex-PK_old_age_total_S_SI_SRN_ST_SD>) -> (?a cssz-measure:prumerna-vyse-duchodu-v-kc <<11444.72__15557.61)_ef2_2/2>) | support: 5, headCoverage: 4.4503782821539834E-5, confidence: 0.18518518518518517, lift: 148.6111111111111, headConfidence: 0.0012461059190031153, headSize: 112350, bodySize: 27\n",
      "(?c czso:medianMzdy <<22242.5__22418.5)_es5_10/16>) ^ (?a cssz-dimension:pohlavi ?e) ^ (?c czso:sex ?e) ^ (?c czso:refPeriod ?d) ^ (?a cssz-dimension:refPeriod ?d) ^ (?c qb:dataSet <salaries-by-sex>) ^ (?c czso:refArea ?b) ^ (?a cssz-dimension:refArea ?b) ^ (?a cssz-dimension:druh-duchodu <https://data.cssz.cz/resource/pension-kind/PK_old_age_total_S_SI_SRN_ST_SD_2010>) ^ (?a qb:dataSet <pensions-by-region-by-sex-PK_old_age_total_S_SI_SRN_ST_SD>) -> (?a cssz-measure:prumerna-vyse-duchodu-v-kc <<8814.26__11444.72)_ef2_1/2>) | support: 4, headCoverage: 3.560302625723187E-5, confidence: 0.26666666666666666, lift: 214.0, headConfidence: 0.0012461059190031153, headSize: 112350, bodySize: 15\n",
      "(?c czso:prumernaMzda <<27388.5__27614.5)_es2_35/42>) ^ (?a cssz-dimension:pohlavi ?e) ^ (?c czso:sex ?e) ^ (?c czso:refPeriod ?d) ^ (?a cssz-dimension:refPeriod ?d) ^ (?c qb:dataSet <salaries-by-sex>) ^ (?c czso:refArea ?b) ^ (?a cssz-dimension:refArea ?b) ^ (?a cssz-dimension:druh-duchodu <https://data.cssz.cz/resource/pension-kind/PK_old_age_total_S_SI_SRN_ST_SD_2010>) ^ (?a qb:dataSet <pensions-by-region-by-sex-PK_old_age_total_S_SI_SRN_ST_SD>) -> (?a cssz-measure:prumerna-vyse-duchodu-v-kc <<11444.72__15557.61)_ef2_2/2>) | support: 2, headCoverage: 1.7801513128615933E-5, confidence: 0.3333333333333333, lift: 267.5, headConfidence: 0.0012461059190031153, headSize: 112350, bodySize: 6\n",
      "(?c czso:prumernaMzda <<22087.5__24434.0)_es5_8/16>) ^ (?a cssz-dimension:pohlavi ?e) ^ (?c czso:sex ?e) ^ (?c czso:refPeriod ?d) ^ (?a cssz-dimension:refPeriod ?d) ^ (?c qb:dataSet <salaries-by-sex>) ^ (?c czso:refArea ?b) ^ (?a cssz-dimension:refArea ?b) ^ (?a cssz-dimension:druh-duchodu <https://data.cssz.cz/resource/pension-kind/PK_old_age_total_S_SI_SRN_ST_SD_2010>) ^ (?a qb:dataSet <pensions-by-region-by-sex-PK_old_age_total_S_SI_SRN_ST_SD>) -> (?a cssz-measure:prumerna-vyse-duchodu-v-kc <<8814.26__11444.72)_ef2_1/2>) | support: 3, headCoverage: 2.67022696929239E-5, confidence: 0.2, lift: 160.5, headConfidence: 0.0012461059190031153, headSize: 112350, bodySize: 15\n",
      "(?c czso:medianMzdy <<22846.5__31063.0)_ef3_3/3>) ^ (?a cssz-dimension:pohlavi ?e) ^ (?c czso:sex ?e) ^ (?c czso:refPeriod ?d) ^ (?a cssz-dimension:refPeriod ?d) ^ (?c qb:dataSet <salaries-by-sex>) ^ (?c czso:refArea ?b) ^ (?a cssz-dimension:refArea ?b) ^ (?a cssz-dimension:druh-duchodu <https://data.cssz.cz/resource/pension-kind/PK_old_age_total_S_SI_SRN_ST_SD_2010>) ^ (?a qb:dataSet <pensions-by-region-by-sex-PK_old_age_total_S_SI_SRN_ST_SD>) -> (?a cssz-measure:prumerna-vyse-duchodu-v-kc <<8814.26__11444.72)_ef2_1/2>) | support: 11, headCoverage: 9.790832220738763E-5, confidence: 0.13095238095238096, lift: 105.08928571428571, headConfidence: 0.0012461059190031153, headSize: 112350, bodySize: 84\n"
     ]
    },
    {
     "name": "stdout",
     "output_type": "stream",
     "text": [
      "(?c czso:medianMzdy <<22418.5__22483.0)_es2_26/42>) ^ (?a cssz-dimension:pohlavi ?e) ^ (?c czso:sex ?e) ^ (?c czso:refPeriod ?d) ^ (?a cssz-dimension:refPeriod ?d) ^ (?c qb:dataSet <salaries-by-sex>) ^ (?c czso:refArea ?b) ^ (?a cssz-dimension:refArea ?b) ^ (?a cssz-dimension:druh-duchodu <https://data.cssz.cz/resource/pension-kind/PK_old_age_total_S_SI_SRN_ST_SD_2010>) ^ (?a qb:dataSet <pensions-by-region-by-sex-PK_old_age_total_S_SI_SRN_ST_SD>) -> (?a cssz-measure:prumerna-vyse-duchodu-v-kc <<8814.26__11444.72)_ef2_1/2>) | support: 1, headCoverage: 8.900756564307967E-6, confidence: 0.16666666666666666, lift: 133.75, headConfidence: 0.0012461059190031153, headSize: 112350, bodySize: 6\n",
      "(?c czso:medianMzdy <<25679.5__28883.5)_es1_41/42>) ^ (?a cssz-dimension:pohlavi ?e) ^ (?c czso:sex ?e) ^ (?c czso:refPeriod ?d) ^ (?a cssz-dimension:refPeriod ?d) ^ (?c qb:dataSet <salaries-by-sex>) ^ (?c czso:refArea ?b) ^ (?a cssz-dimension:refArea ?b) ^ (?a cssz-dimension:druh-duchodu <https://data.cssz.cz/resource/pension-kind/PK_old_age_total_S_SI_SRN_ST_SD_2010>) ^ (?a qb:dataSet <pensions-by-region-by-sex-PK_old_age_total_S_SI_SRN_ST_SD>) -> (?a cssz-measure:prumerna-vyse-duchodu-v-kc <<11444.72__15557.61)_ef2_2/2>) | support: 1, headCoverage: 8.900756564307967E-6, confidence: 0.16666666666666666, lift: 133.75, headConfidence: 0.0012461059190031153, headSize: 112350, bodySize: 6\n",
      "(?c czso:medianMzdy <<24050.0__25055.5)_es5_15/16>) ^ (?a cssz-dimension:pohlavi ?e) ^ (?c czso:sex ?e) ^ (?c czso:refPeriod ?d) ^ (?a cssz-dimension:refPeriod ?d) ^ (?c qb:dataSet <salaries-by-sex>) ^ (?c czso:refArea ?b) ^ (?a cssz-dimension:refArea ?b) ^ (?a cssz-dimension:druh-duchodu <https://data.cssz.cz/resource/pension-kind/PK_old_age_total_S_SI_SRN_ST_SD_2010>) ^ (?a qb:dataSet <pensions-by-region-by-sex-PK_old_age_total_S_SI_SRN_ST_SD>) -> (?a cssz-measure:prumerna-vyse-duchodu-v-kc <<11444.72__15557.61)_ef2_2/2>) | support: 3, headCoverage: 2.67022696929239E-5, confidence: 0.16666666666666666, lift: 133.75, headConfidence: 0.0012461059190031153, headSize: 112350, bodySize: 18\n",
      "(?c czso:medianMzdy <<22287.0__22359.0)_es1_24/42>) ^ (?a cssz-dimension:pohlavi ?e) ^ (?c czso:sex ?e) ^ (?c czso:refPeriod ?d) ^ (?a cssz-dimension:refPeriod ?d) ^ (?c qb:dataSet <salaries-by-sex>) ^ (?c czso:refArea ?b) ^ (?a cssz-dimension:refArea ?b) ^ (?a cssz-dimension:druh-duchodu <https://data.cssz.cz/resource/pension-kind/PK_old_age_total_S_SI_SRN_ST_SD_2010>) ^ (?a qb:dataSet <pensions-by-region-by-sex-PK_old_age_total_S_SI_SRN_ST_SD>) -> (?a cssz-measure:prumerna-vyse-duchodu-v-kc <<8814.26__11444.72)_ef2_1/2>) | support: 2, headCoverage: 1.7801513128615933E-5, confidence: 0.3333333333333333, lift: 267.5, headConfidence: 0.0012461059190031153, headSize: 112350, bodySize: 6\n",
      "(?c czso:medianMzdy <<18232.5__18490.0)_es2_7/42>) ^ (?a cssz-dimension:pohlavi ?e) ^ (?c czso:sex ?e) ^ (?c czso:refPeriod ?d) ^ (?a cssz-dimension:refPeriod ?d) ^ (?c qb:dataSet <salaries-by-sex>) ^ (?c czso:refArea ?b) ^ (?a cssz-dimension:refArea ?b) ^ (?a cssz-dimension:druh-duchodu <https://data.cssz.cz/resource/pension-kind/PK_old_age_total_S_SI_SRN_ST_SD_2010>) ^ (?a qb:dataSet <pensions-by-region-by-sex-PK_old_age_total_S_SI_SRN_ST_SD>) -> (?a cssz-measure:prumerna-vyse-duchodu-v-kc <<8814.26__11444.72)_ef2_1/2>) | support: 2, headCoverage: 1.7801513128615933E-5, confidence: 0.3333333333333333, lift: 267.5, headConfidence: 0.0012461059190031153, headSize: 112350, bodySize: 6\n",
      "(?c czso:medianMzdy <<22418.5__22483.0)_es1_26/42>) ^ (?a cssz-dimension:pohlavi ?e) ^ (?c czso:sex ?e) ^ (?c czso:refPeriod ?d) ^ (?a cssz-dimension:refPeriod ?d) ^ (?c qb:dataSet <salaries-by-sex>) ^ (?c czso:refArea ?b) ^ (?a cssz-dimension:refArea ?b) ^ (?a cssz-dimension:druh-duchodu <https://data.cssz.cz/resource/pension-kind/PK_old_age_total_S_SI_SRN_ST_SD_2010>) ^ (?a qb:dataSet <pensions-by-region-by-sex-PK_old_age_total_S_SI_SRN_ST_SD>) -> (?a cssz-measure:prumerna-vyse-duchodu-v-kc <<11444.72__15557.61)_ef2_2/2>) | support: 1, headCoverage: 8.900756564307967E-6, confidence: 0.16666666666666666, lift: 133.75, headConfidence: 0.0012461059190031153, headSize: 112350, bodySize: 6\n",
      "(?c czso:medianMzdy <<23825.5__23986.0)_es1_35/42>) ^ (?a cssz-dimension:pohlavi ?e) ^ (?c czso:sex ?e) ^ (?c czso:refPeriod ?d) ^ (?a cssz-dimension:refPeriod ?d) ^ (?c qb:dataSet <salaries-by-sex>) ^ (?c czso:refArea ?b) ^ (?a cssz-dimension:refArea ?b) ^ (?a cssz-dimension:druh-duchodu <https://data.cssz.cz/resource/pension-kind/PK_old_age_total_S_SI_SRN_ST_SD_2010>) ^ (?a qb:dataSet <pensions-by-region-by-sex-PK_old_age_total_S_SI_SRN_ST_SD>) -> (?a cssz-measure:prumerna-vyse-duchodu-v-kc <<11444.72__15557.61)_ef2_2/2>) | support: 2, headCoverage: 1.7801513128615933E-5, confidence: 0.3333333333333333, lift: 267.5, headConfidence: 0.0012461059190031153, headSize: 112350, bodySize: 6\n",
      "(?c czso:prumernaMzda <<19440.0__19953.0)_es5_2/16>) ^ (?a cssz-dimension:pohlavi ?e) ^ (?c czso:sex ?e) ^ (?c czso:refPeriod ?d) ^ (?a cssz-dimension:refPeriod ?d) ^ (?c qb:dataSet <salaries-by-sex>) ^ (?c czso:refArea ?b) ^ (?a cssz-dimension:refArea ?b) ^ (?a cssz-dimension:druh-duchodu <https://data.cssz.cz/resource/pension-kind/PK_old_age_total_S_SI_SRN_ST_SD_2010>) ^ (?a qb:dataSet <pensions-by-region-by-sex-PK_old_age_total_S_SI_SRN_ST_SD>) -> (?a cssz-measure:prumerna-vyse-duchodu-v-kc <<8814.26__11444.72)_ef2_1/2>) | support: 5, headCoverage: 4.4503782821539834E-5, confidence: 0.3333333333333333, lift: 267.5, headConfidence: 0.0012461059190031153, headSize: 112350, bodySize: 15\n",
      "(?c czso:prumernaMzda <<29726.0__30064.0)_es1_40/42>) ^ (?a cssz-dimension:pohlavi ?e) ^ (?c czso:sex ?e) ^ (?c czso:refPeriod ?d) ^ (?a cssz-dimension:refPeriod ?d) ^ (?c qb:dataSet <salaries-by-sex>) ^ (?c czso:refArea ?b) ^ (?a cssz-dimension:refArea ?b) ^ (?a cssz-dimension:druh-duchodu <https://data.cssz.cz/resource/pension-kind/PK_old_age_total_S_SI_SRN_ST_SD_2010>) ^ (?a qb:dataSet <pensions-by-region-by-sex-PK_old_age_total_S_SI_SRN_ST_SD>) -> (?a cssz-measure:prumerna-vyse-duchodu-v-kc <<8814.26__11444.72)_ef2_1/2>) | support: 2, headCoverage: 1.7801513128615933E-5, confidence: 0.3333333333333333, lift: 267.5, headConfidence: 0.0012461059190031153, headSize: 112350, bodySize: 6\n",
      "(?c czso:prumernaMzda <<19440.0__19778.5)_es1_4/42>) ^ (?a cssz-dimension:pohlavi ?e) ^ (?c czso:sex ?e) ^ (?c czso:refPeriod ?d) ^ (?a cssz-dimension:refPeriod ?d) ^ (?c qb:dataSet <salaries-by-sex>) ^ (?c czso:refArea ?b) ^ (?a cssz-dimension:refArea ?b) ^ (?a cssz-dimension:druh-duchodu <https://data.cssz.cz/resource/pension-kind/PK_old_age_total_S_SI_SRN_ST_SD_2010>) ^ (?a qb:dataSet <pensions-by-region-by-sex-PK_old_age_total_S_SI_SRN_ST_SD>) -> (?a cssz-measure:prumerna-vyse-duchodu-v-kc <<8814.26__11444.72)_ef2_1/2>) | support: 2, headCoverage: 1.7801513128615933E-5, confidence: 0.3333333333333333, lift: 267.5, headConfidence: 0.0012461059190031153, headSize: 112350, bodySize: 6\n",
      "(?c czso:medianMzdy <<18177.0__18645.5)_es5_3/16>) ^ (?a cssz-dimension:pohlavi ?e) ^ (?c czso:sex ?e) ^ (?c czso:refPeriod ?d) ^ (?a cssz-dimension:refPeriod ?d) ^ (?c qb:dataSet <salaries-by-sex>) ^ (?c czso:refArea ?b) ^ (?a cssz-dimension:refArea ?b) ^ (?a cssz-dimension:druh-duchodu <https://data.cssz.cz/resource/pension-kind/PK_old_age_total_S_SI_SRN_ST_SD_2010>) ^ (?a qb:dataSet <pensions-by-region-by-sex-PK_old_age_total_S_SI_SRN_ST_SD>) -> (?a cssz-measure:prumerna-vyse-duchodu-v-kc <<8814.26__11444.72)_ef2_1/2>) | support: 5, headCoverage: 4.4503782821539834E-5, confidence: 0.3333333333333333, lift: 267.5, headConfidence: 0.0012461059190031153, headSize: 112350, bodySize: 15\n"
     ]
    },
    {
     "name": "stdout",
     "output_type": "stream",
     "text": [
      "(?c czso:medianMzdy <<18843.5__18935.0)_es2_10/42>) ^ (?a cssz-dimension:pohlavi ?e) ^ (?c czso:sex ?e) ^ (?c czso:refPeriod ?d) ^ (?a cssz-dimension:refPeriod ?d) ^ (?c qb:dataSet <salaries-by-sex>) ^ (?c czso:refArea ?b) ^ (?a cssz-dimension:refArea ?b) ^ (?a cssz-dimension:druh-duchodu <https://data.cssz.cz/resource/pension-kind/PK_old_age_total_S_SI_SRN_ST_SD_2010>) ^ (?a qb:dataSet <pensions-by-region-by-sex-PK_old_age_total_S_SI_SRN_ST_SD>) -> (?a cssz-measure:prumerna-vyse-duchodu-v-kc <<8814.26__11444.72)_ef2_1/2>) | support: 2, headCoverage: 1.7801513128615933E-5, confidence: 0.3333333333333333, lift: 267.5, headConfidence: 0.0012461059190031153, headSize: 112350, bodySize: 6\n",
      "(?c czso:medianMzdy <<22719.0__23260.0)_es10_7/9>) ^ (?a cssz-dimension:pohlavi ?e) ^ (?c czso:sex ?e) ^ (?c czso:refPeriod ?d) ^ (?a cssz-dimension:refPeriod ?d) ^ (?c qb:dataSet <salaries-by-sex>) ^ (?c czso:refArea ?b) ^ (?a cssz-dimension:refArea ?b) ^ (?a cssz-dimension:druh-duchodu <https://data.cssz.cz/resource/pension-kind/PK_old_age_total_S_SI_SRN_ST_SD_2010>) ^ (?a qb:dataSet <pensions-by-region-by-sex-PK_old_age_total_S_SI_SRN_ST_SD>) -> (?a cssz-measure:prumerna-vyse-duchodu-v-kc <<11444.72__15557.61)_ef2_2/2>) | support: 8, headCoverage: 7.120605251446373E-5, confidence: 0.2962962962962963, lift: 237.77777777777774, headConfidence: 0.0012461059190031153, headSize: 112350, bodySize: 27\n",
      "(?c czso:prumernaMzda <<28102.0__41209.0)_es10_9/9>) ^ (?a cssz-dimension:pohlavi ?e) ^ (?c czso:sex ?e) ^ (?c czso:refPeriod ?d) ^ (?a cssz-dimension:refPeriod ?d) ^ (?c qb:dataSet <salaries-by-sex>) ^ (?c czso:refArea ?b) ^ (?a cssz-dimension:refArea ?b) ^ (?a cssz-dimension:druh-duchodu <https://data.cssz.cz/resource/pension-kind/PK_old_age_total_S_SI_SRN_ST_SD_2010>) ^ (?a qb:dataSet <pensions-by-region-by-sex-PK_old_age_total_S_SI_SRN_ST_SD>) -> (?a cssz-measure:prumerna-vyse-duchodu-v-kc <<8814.26__11444.72)_ef2_1/2>) | support: 5, headCoverage: 4.4503782821539834E-5, confidence: 0.15151515151515152, lift: 121.5909090909091, headConfidence: 0.0012461059190031153, headSize: 112350, bodySize: 33\n",
      "(?c czso:medianMzdy <<19395.0__22846.5)_ef3_2/3>) ^ (?a cssz-dimension:pohlavi ?e) ^ (?c czso:sex ?e) ^ (?c czso:refPeriod ?d) ^ (?a cssz-dimension:refPeriod ?d) ^ (?c qb:dataSet <salaries-by-sex>) ^ (?c czso:refArea ?b) ^ (?a cssz-dimension:refArea ?b) ^ (?a cssz-dimension:druh-duchodu <https://data.cssz.cz/resource/pension-kind/PK_old_age_total_S_SI_SRN_ST_SD_2010>) ^ (?a qb:dataSet <pensions-by-region-by-sex-PK_old_age_total_S_SI_SRN_ST_SD>) -> (?a cssz-measure:prumerna-vyse-duchodu-v-kc <<8814.26__11444.72)_ef2_1/2>) | support: 19, headCoverage: 1.6911437472185136E-4, confidence: 0.2261904761904762, lift: 181.51785714285714, headConfidence: 0.0012461059190031153, headSize: 112350, bodySize: 84\n",
      "(?c czso:medianMzdy <<19021.5__19149.5)_es2_12/42>) ^ (?a cssz-dimension:pohlavi ?e) ^ (?c czso:sex ?e) ^ (?c czso:refPeriod ?d) ^ (?a cssz-dimension:refPeriod ?d) ^ (?c qb:dataSet <salaries-by-sex>) ^ (?c czso:refArea ?b) ^ (?a cssz-dimension:refArea ?b) ^ (?a cssz-dimension:druh-duchodu <https://data.cssz.cz/resource/pension-kind/PK_old_age_total_S_SI_SRN_ST_SD_2010>) ^ (?a qb:dataSet <pensions-by-region-by-sex-PK_old_age_total_S_SI_SRN_ST_SD>) -> (?a cssz-measure:prumerna-vyse-duchodu-v-kc <<8814.26__11444.72)_ef2_1/2>) | support: 2, headCoverage: 1.7801513128615933E-5, confidence: 0.3333333333333333, lift: 267.5, headConfidence: 0.0012461059190031153, headSize: 112350, bodySize: 6\n",
      "(?c czso:prumernaMzda <<24434.0__25231.0)_es5_9/16>) ^ (?a cssz-dimension:pohlavi ?e) ^ (?c czso:sex ?e) ^ (?c czso:refPeriod ?d) ^ (?a cssz-dimension:refPeriod ?d) ^ (?c qb:dataSet <salaries-by-sex>) ^ (?c czso:refArea ?b) ^ (?a cssz-dimension:refArea ?b) ^ (?a cssz-dimension:druh-duchodu <https://data.cssz.cz/resource/pension-kind/PK_old_age_total_S_SI_SRN_ST_SD_2010>) ^ (?a qb:dataSet <pensions-by-region-by-sex-PK_old_age_total_S_SI_SRN_ST_SD>) -> (?a cssz-measure:prumerna-vyse-duchodu-v-kc <<11444.72__15557.61)_ef2_2/2>) | support: 2, headCoverage: 1.7801513128615933E-5, confidence: 0.13333333333333333, lift: 107.0, headConfidence: 0.0012461059190031153, headSize: 112350, bodySize: 15\n",
      "(?c czso:medianMzdy <<17527.0__18177.0)_es5_2/16>) ^ (?a cssz-dimension:pohlavi ?e) ^ (?c czso:sex ?e) ^ (?c czso:refPeriod ?d) ^ (?a cssz-dimension:refPeriod ?d) ^ (?c qb:dataSet <salaries-by-sex>) ^ (?c czso:refArea ?b) ^ (?a cssz-dimension:refArea ?b) ^ (?a cssz-dimension:druh-duchodu <https://data.cssz.cz/resource/pension-kind/PK_old_age_total_S_SI_SRN_ST_SD_2010>) ^ (?a qb:dataSet <pensions-by-region-by-sex-PK_old_age_total_S_SI_SRN_ST_SD>) -> (?a cssz-measure:prumerna-vyse-duchodu-v-kc <<8814.26__11444.72)_ef2_1/2>) | support: 5, headCoverage: 4.4503782821539834E-5, confidence: 0.3333333333333333, lift: 267.5, headConfidence: 0.0012461059190031153, headSize: 112350, bodySize: 15\n",
      "(?c czso:medianMzdy <<19493.0__19617.0)_es2_16/42>) ^ (?a cssz-dimension:pohlavi ?e) ^ (?c czso:sex ?e) ^ (?c czso:refPeriod ?d) ^ (?a cssz-dimension:refPeriod ?d) ^ (?c qb:dataSet <salaries-by-sex>) ^ (?c czso:refArea ?b) ^ (?a cssz-dimension:refArea ?b) ^ (?a cssz-dimension:druh-duchodu <https://data.cssz.cz/resource/pension-kind/PK_old_age_total_S_SI_SRN_ST_SD_2010>) ^ (?a qb:dataSet <pensions-by-region-by-sex-PK_old_age_total_S_SI_SRN_ST_SD>) -> (?a cssz-measure:prumerna-vyse-duchodu-v-kc <<8814.26__11444.72)_ef2_1/2>) | support: 2, headCoverage: 1.7801513128615933E-5, confidence: 0.3333333333333333, lift: 267.5, headConfidence: 0.0012461059190031153, headSize: 112350, bodySize: 6\n",
      "(?c czso:prumernaMzda <<24832.5__41209.0)_ef2_2/2>) ^ (?a cssz-dimension:pohlavi ?e) ^ (?c czso:sex ?e) ^ (?c czso:refPeriod ?d) ^ (?a cssz-dimension:refPeriod ?d) ^ (?c qb:dataSet <salaries-by-sex>) ^ (?c czso:refArea ?b) ^ (?a cssz-dimension:refArea ?b) ^ (?a cssz-dimension:druh-duchodu <https://data.cssz.cz/resource/pension-kind/PK_old_age_total_S_SI_SRN_ST_SD_2010>) ^ (?a qb:dataSet <pensions-by-region-by-sex-PK_old_age_total_S_SI_SRN_ST_SD>) -> (?a cssz-measure:prumerna-vyse-duchodu-v-kc <<8814.26__11444.72)_ef2_1/2>) | support: 18, headCoverage: 1.602136181575434E-4, confidence: 0.14285714285714285, lift: 114.64285714285714, headConfidence: 0.0012461059190031153, headSize: 112350, bodySize: 126\n",
      "(?c czso:medianMzdy <<23183.5__31063.0)_es20_4/4>) ^ (?a cssz-dimension:pohlavi ?e) ^ (?c czso:sex ?e) ^ (?c czso:refPeriod ?d) ^ (?a cssz-dimension:refPeriod ?d) ^ (?c qb:dataSet <salaries-by-sex>) ^ (?c czso:refArea ?b) ^ (?a cssz-dimension:refArea ?b) ^ (?a cssz-dimension:druh-duchodu <https://data.cssz.cz/resource/pension-kind/PK_old_age_total_S_SI_SRN_ST_SD_2010>) ^ (?a qb:dataSet <pensions-by-region-by-sex-PK_old_age_total_S_SI_SRN_ST_SD>) -> (?a cssz-measure:prumerna-vyse-duchodu-v-kc <<8814.26__11444.72)_ef2_1/2>) | support: 10, headCoverage: 8.900756564307967E-5, confidence: 0.15151515151515152, lift: 121.5909090909091, headConfidence: 0.0012461059190031153, headSize: 112350, bodySize: 66\n",
      "(?c czso:medianMzdy <<18177.0__18232.5)_es1_6/42>) ^ (?a cssz-dimension:pohlavi ?e) ^ (?c czso:sex ?e) ^ (?c czso:refPeriod ?d) ^ (?a cssz-dimension:refPeriod ?d) ^ (?c qb:dataSet <salaries-by-sex>) ^ (?c czso:refArea ?b) ^ (?a cssz-dimension:refArea ?b) ^ (?a cssz-dimension:druh-duchodu <https://data.cssz.cz/resource/pension-kind/PK_old_age_total_S_SI_SRN_ST_SD_2010>) ^ (?a qb:dataSet <pensions-by-region-by-sex-PK_old_age_total_S_SI_SRN_ST_SD>) -> (?a cssz-measure:prumerna-vyse-duchodu-v-kc <<8814.26__11444.72)_ef2_1/2>) | support: 2, headCoverage: 1.7801513128615933E-5, confidence: 0.3333333333333333, lift: 267.5, headConfidence: 0.0012461059190031153, headSize: 112350, bodySize: 6\n"
     ]
    },
    {
     "name": "stdout",
     "output_type": "stream",
     "text": [
      "(?c czso:prumernaMzda <<20941.0__21048.5)_es2_14/42>) ^ (?a cssz-dimension:pohlavi ?e) ^ (?c czso:sex ?e) ^ (?c czso:refPeriod ?d) ^ (?a cssz-dimension:refPeriod ?d) ^ (?c qb:dataSet <salaries-by-sex>) ^ (?c czso:refArea ?b) ^ (?a cssz-dimension:refArea ?b) ^ (?a cssz-dimension:druh-duchodu <https://data.cssz.cz/resource/pension-kind/PK_old_age_total_S_SI_SRN_ST_SD_2010>) ^ (?a qb:dataSet <pensions-by-region-by-sex-PK_old_age_total_S_SI_SRN_ST_SD>) -> (?a cssz-measure:prumerna-vyse-duchodu-v-kc <<8814.26__11444.72)_ef2_1/2>) | support: 2, headCoverage: 1.7801513128615933E-5, confidence: 0.3333333333333333, lift: 267.5, headConfidence: 0.0012461059190031153, headSize: 112350, bodySize: 6\n",
      "(?c czso:medianMzdy <<22396.5__23528.0)_ef5_4/5>) ^ (?a cssz-dimension:pohlavi ?e) ^ (?c czso:sex ?e) ^ (?c czso:refPeriod ?d) ^ (?a cssz-dimension:refPeriod ?d) ^ (?c qb:dataSet <salaries-by-sex>) ^ (?c czso:refArea ?b) ^ (?a cssz-dimension:refArea ?b) ^ (?a cssz-dimension:druh-duchodu <https://data.cssz.cz/resource/pension-kind/PK_old_age_total_S_SI_SRN_ST_SD_2010>) ^ (?a qb:dataSet <pensions-by-region-by-sex-PK_old_age_total_S_SI_SRN_ST_SD>) -> (?a cssz-measure:prumerna-vyse-duchodu-v-kc <<11444.72__15557.61)_ef2_2/2>) | support: 11, headCoverage: 9.790832220738763E-5, confidence: 0.21568627450980393, lift: 173.08823529411765, headConfidence: 0.0012461059190031153, headSize: 112350, bodySize: 51\n",
      "(?c czso:prumernaMzda <<30064.0__37820.5)_es2_41/42>) ^ (?a cssz-dimension:pohlavi ?e) ^ (?c czso:sex ?e) ^ (?c czso:refPeriod ?d) ^ (?a cssz-dimension:refPeriod ?d) ^ (?c qb:dataSet <salaries-by-sex>) ^ (?c czso:refArea ?b) ^ (?a cssz-dimension:refArea ?b) ^ (?a cssz-dimension:druh-duchodu <https://data.cssz.cz/resource/pension-kind/PK_old_age_total_S_SI_SRN_ST_SD_2010>) ^ (?a qb:dataSet <pensions-by-region-by-sex-PK_old_age_total_S_SI_SRN_ST_SD>) -> (?a cssz-measure:prumerna-vyse-duchodu-v-kc <<11444.72__15557.61)_ef2_2/2>) | support: 1, headCoverage: 8.900756564307967E-6, confidence: 0.16666666666666666, lift: 133.75, headConfidence: 0.0012461059190031153, headSize: 112350, bodySize: 6\n",
      "(?c czso:medianMzdy <<23044.0__23423.0)_es5_13/16>) ^ (?a cssz-dimension:pohlavi ?e) ^ (?c czso:sex ?e) ^ (?c czso:refPeriod ?d) ^ (?a cssz-dimension:refPeriod ?d) ^ (?c qb:dataSet <salaries-by-sex>) ^ (?c czso:refArea ?b) ^ (?a cssz-dimension:refArea ?b) ^ (?a cssz-dimension:druh-duchodu <https://data.cssz.cz/resource/pension-kind/PK_old_age_total_S_SI_SRN_ST_SD_2010>) ^ (?a qb:dataSet <pensions-by-region-by-sex-PK_old_age_total_S_SI_SRN_ST_SD>) -> (?a cssz-measure:prumerna-vyse-duchodu-v-kc <<8814.26__11444.72)_ef2_1/2>) | support: 2, headCoverage: 1.7801513128615933E-5, confidence: 0.13333333333333333, lift: 107.0, headConfidence: 0.0012461059190031153, headSize: 112350, bodySize: 15\n",
      "(?c czso:medianMzdy <<19395.0__22846.5)_ef3_2/3>) ^ (?a cssz-dimension:pohlavi ?e) ^ (?c czso:sex ?e) ^ (?c czso:refPeriod ?d) ^ (?a cssz-dimension:refPeriod ?d) ^ (?c qb:dataSet <salaries-by-sex>) ^ (?c czso:refArea ?b) ^ (?a cssz-dimension:refArea ?b) ^ (?a cssz-dimension:druh-duchodu <https://data.cssz.cz/resource/pension-kind/PK_old_age_total_S_SI_SRN_ST_SD_2010>) ^ (?a qb:dataSet <pensions-by-region-by-sex-PK_old_age_total_S_SI_SRN_ST_SD>) -> (?a cssz-measure:prumerna-vyse-duchodu-v-kc <<11444.72__15557.61)_ef2_2/2>) | support: 9, headCoverage: 8.01068090787717E-5, confidence: 0.10714285714285714, lift: 85.98214285714285, headConfidence: 0.0012461059190031153, headSize: 112350, bodySize: 84\n",
      "(?c czso:medianMzdy <<24157.5__31063.0)_ef7_7/7>) ^ (?a cssz-dimension:pohlavi ?e) ^ (?c czso:sex ?e) ^ (?c czso:refPeriod ?d) ^ (?a cssz-dimension:refPeriod ?d) ^ (?c qb:dataSet <salaries-by-sex>) ^ (?c czso:refArea ?b) ^ (?a cssz-dimension:refArea ?b) ^ (?a cssz-dimension:druh-duchodu <https://data.cssz.cz/resource/pension-kind/PK_old_age_total_S_SI_SRN_ST_SD_2010>) ^ (?a qb:dataSet <pensions-by-region-by-sex-PK_old_age_total_S_SI_SRN_ST_SD>) -> (?a cssz-measure:prumerna-vyse-duchodu-v-kc <<8814.26__11444.72)_ef2_1/2>) | support: 7, headCoverage: 6.230529595015576E-5, confidence: 0.19444444444444445, lift: 156.04166666666666, headConfidence: 0.0012461059190031153, headSize: 112350, bodySize: 36\n",
      "(?c czso:prumernaMzda <<20602.5__20663.5)_es2_11/42>) ^ (?a cssz-dimension:pohlavi ?e) ^ (?c czso:sex ?e) ^ (?c czso:refPeriod ?d) ^ (?a cssz-dimension:refPeriod ?d) ^ (?c qb:dataSet <salaries-by-sex>) ^ (?c czso:refArea ?b) ^ (?a cssz-dimension:refArea ?b) ^ (?a cssz-dimension:druh-duchodu <https://data.cssz.cz/resource/pension-kind/PK_old_age_total_S_SI_SRN_ST_SD_2010>) ^ (?a qb:dataSet <pensions-by-region-by-sex-PK_old_age_total_S_SI_SRN_ST_SD>) -> (?a cssz-measure:prumerna-vyse-duchodu-v-kc <<8814.26__11444.72)_ef2_1/2>) | support: 2, headCoverage: 1.7801513128615933E-5, confidence: 0.3333333333333333, lift: 267.5, headConfidence: 0.0012461059190031153, headSize: 112350, bodySize: 6\n",
      "(?c czso:prumernaMzda <<19361.0__19404.0)_es1_2/42>) ^ (?a cssz-dimension:pohlavi ?e) ^ (?c czso:sex ?e) ^ (?c czso:refPeriod ?d) ^ (?a cssz-dimension:refPeriod ?d) ^ (?c qb:dataSet <salaries-by-sex>) ^ (?c czso:refArea ?b) ^ (?a cssz-dimension:refArea ?b) ^ (?a cssz-dimension:druh-duchodu <https://data.cssz.cz/resource/pension-kind/PK_old_age_total_S_SI_SRN_ST_SD_2010>) ^ (?a qb:dataSet <pensions-by-region-by-sex-PK_old_age_total_S_SI_SRN_ST_SD>) -> (?a cssz-measure:prumerna-vyse-duchodu-v-kc <<8814.26__11444.72)_ef2_1/2>) | support: 2, headCoverage: 1.7801513128615933E-5, confidence: 0.3333333333333333, lift: 267.5, headConfidence: 0.0012461059190031153, headSize: 112350, bodySize: 6\n",
      "(?c czso:medianMzdy <<19493.0__19617.0)_es1_16/42>) ^ (?a cssz-dimension:pohlavi ?e) ^ (?c czso:sex ?e) ^ (?c czso:refPeriod ?d) ^ (?a cssz-dimension:refPeriod ?d) ^ (?c qb:dataSet <salaries-by-sex>) ^ (?c czso:refArea ?b) ^ (?a cssz-dimension:refArea ?b) ^ (?a cssz-dimension:druh-duchodu <https://data.cssz.cz/resource/pension-kind/PK_old_age_total_S_SI_SRN_ST_SD_2010>) ^ (?a qb:dataSet <pensions-by-region-by-sex-PK_old_age_total_S_SI_SRN_ST_SD>) -> (?a cssz-measure:prumerna-vyse-duchodu-v-kc <<8814.26__11444.72)_ef2_1/2>) | support: 2, headCoverage: 1.7801513128615933E-5, confidence: 0.3333333333333333, lift: 267.5, headConfidence: 0.0012461059190031153, headSize: 112350, bodySize: 6\n",
      "(?c czso:prumernaMzda <<25592.5__27200.5)_ef5_4/5>) ^ (?a cssz-dimension:pohlavi ?e) ^ (?c czso:sex ?e) ^ (?c czso:refPeriod ?d) ^ (?a cssz-dimension:refPeriod ?d) ^ (?c qb:dataSet <salaries-by-sex>) ^ (?c czso:refArea ?b) ^ (?a cssz-dimension:refArea ?b) ^ (?a cssz-dimension:druh-duchodu <https://data.cssz.cz/resource/pension-kind/PK_old_age_total_S_SI_SRN_ST_SD_2010>) ^ (?a qb:dataSet <pensions-by-region-by-sex-PK_old_age_total_S_SI_SRN_ST_SD>) -> (?a cssz-measure:prumerna-vyse-duchodu-v-kc <<8814.26__11444.72)_ef2_1/2>) | support: 7, headCoverage: 6.230529595015576E-5, confidence: 0.13725490196078433, lift: 110.14705882352942, headConfidence: 0.0012461059190031153, headSize: 112350, bodySize: 51\n",
      "(?c czso:medianMzdy <<25386.5__25679.5)_es2_40/42>) ^ (?a cssz-dimension:pohlavi ?e) ^ (?c czso:sex ?e) ^ (?c czso:refPeriod ?d) ^ (?a cssz-dimension:refPeriod ?d) ^ (?c qb:dataSet <salaries-by-sex>) ^ (?c czso:refArea ?b) ^ (?a cssz-dimension:refArea ?b) ^ (?a cssz-dimension:druh-duchodu <https://data.cssz.cz/resource/pension-kind/PK_old_age_total_S_SI_SRN_ST_SD_2010>) ^ (?a qb:dataSet <pensions-by-region-by-sex-PK_old_age_total_S_SI_SRN_ST_SD>) -> (?a cssz-measure:prumerna-vyse-duchodu-v-kc <<8814.26__11444.72)_ef2_1/2>) | support: 2, headCoverage: 1.7801513128615933E-5, confidence: 0.3333333333333333, lift: 267.5, headConfidence: 0.0012461059190031153, headSize: 112350, bodySize: 6\n"
     ]
    },
    {
     "name": "stdout",
     "output_type": "stream",
     "text": [
      "(?c czso:prumernaMzda <<26143.5__26248.0)_es2_29/42>) ^ (?a cssz-dimension:pohlavi ?e) ^ (?c czso:sex ?e) ^ (?c czso:refPeriod ?d) ^ (?a cssz-dimension:refPeriod ?d) ^ (?c qb:dataSet <salaries-by-sex>) ^ (?c czso:refArea ?b) ^ (?a cssz-dimension:refArea ?b) ^ (?a cssz-dimension:druh-duchodu <https://data.cssz.cz/resource/pension-kind/PK_old_age_total_S_SI_SRN_ST_SD_2010>) ^ (?a qb:dataSet <pensions-by-region-by-sex-PK_old_age_total_S_SI_SRN_ST_SD>) -> (?a cssz-measure:prumerna-vyse-duchodu-v-kc <<8814.26__11444.72)_ef2_1/2>) | support: 1, headCoverage: 8.900756564307967E-6, confidence: 0.16666666666666666, lift: 133.75, headConfidence: 0.0012461059190031153, headSize: 112350, bodySize: 6\n",
      "(?c czso:medianMzdy <<23528.0__31063.0)_ef5_5/5>) ^ (?a cssz-dimension:pohlavi ?e) ^ (?c czso:sex ?e) ^ (?c czso:refPeriod ?d) ^ (?a cssz-dimension:refPeriod ?d) ^ (?c qb:dataSet <salaries-by-sex>) ^ (?c czso:refArea ?b) ^ (?a cssz-dimension:refArea ?b) ^ (?a cssz-dimension:druh-duchodu <https://data.cssz.cz/resource/pension-kind/PK_old_age_total_S_SI_SRN_ST_SD_2010>) ^ (?a qb:dataSet <pensions-by-region-by-sex-PK_old_age_total_S_SI_SRN_ST_SD>) -> (?a cssz-measure:prumerna-vyse-duchodu-v-kc <<11444.72__15557.61)_ef2_2/2>) | support: 10, headCoverage: 8.900756564307967E-5, confidence: 0.18518518518518517, lift: 148.6111111111111, headConfidence: 0.0012461059190031153, headSize: 112350, bodySize: 54\n",
      "(?c czso:medianMzdy <<23825.5__23986.0)_es2_35/42>) ^ (?a cssz-dimension:pohlavi ?e) ^ (?c czso:sex ?e) ^ (?c czso:refPeriod ?d) ^ (?a cssz-dimension:refPeriod ?d) ^ (?c qb:dataSet <salaries-by-sex>) ^ (?c czso:refArea ?b) ^ (?a cssz-dimension:refArea ?b) ^ (?a cssz-dimension:druh-duchodu <https://data.cssz.cz/resource/pension-kind/PK_old_age_total_S_SI_SRN_ST_SD_2010>) ^ (?a qb:dataSet <pensions-by-region-by-sex-PK_old_age_total_S_SI_SRN_ST_SD>) -> (?a cssz-measure:prumerna-vyse-duchodu-v-kc <<11444.72__15557.61)_ef2_2/2>) | support: 2, headCoverage: 1.7801513128615933E-5, confidence: 0.3333333333333333, lift: 267.5, headConfidence: 0.0012461059190031153, headSize: 112350, bodySize: 6\n",
      "(?c czso:medianMzdy <<20396.5__21512.5)_es2_20/42>) ^ (?a cssz-dimension:pohlavi ?e) ^ (?c czso:sex ?e) ^ (?c czso:refPeriod ?d) ^ (?a cssz-dimension:refPeriod ?d) ^ (?c qb:dataSet <salaries-by-sex>) ^ (?c czso:refArea ?b) ^ (?a cssz-dimension:refArea ?b) ^ (?a cssz-dimension:druh-duchodu <https://data.cssz.cz/resource/pension-kind/PK_old_age_total_S_SI_SRN_ST_SD_2010>) ^ (?a qb:dataSet <pensions-by-region-by-sex-PK_old_age_total_S_SI_SRN_ST_SD>) -> (?a cssz-measure:prumerna-vyse-duchodu-v-kc <<11444.72__15557.61)_ef2_2/2>) | support: 1, headCoverage: 8.900756564307967E-6, confidence: 0.16666666666666666, lift: 133.75, headConfidence: 0.0012461059190031153, headSize: 112350, bodySize: 6\n",
      "(?c czso:medianMzdy <<22359.0__23044.0)_ef7_5/7>) ^ (?a cssz-dimension:pohlavi ?e) ^ (?c czso:sex ?e) ^ (?c czso:refPeriod ?d) ^ (?a cssz-dimension:refPeriod ?d) ^ (?c qb:dataSet <salaries-by-sex>) ^ (?c czso:refArea ?b) ^ (?a cssz-dimension:refArea ?b) ^ (?a cssz-dimension:druh-duchodu <https://data.cssz.cz/resource/pension-kind/PK_old_age_total_S_SI_SRN_ST_SD_2010>) ^ (?a qb:dataSet <pensions-by-region-by-sex-PK_old_age_total_S_SI_SRN_ST_SD>) -> (?a cssz-measure:prumerna-vyse-duchodu-v-kc <<8814.26__11444.72)_ef2_1/2>) | support: 4, headCoverage: 3.560302625723187E-5, confidence: 0.1111111111111111, lift: 89.16666666666666, headConfidence: 0.0012461059190031153, headSize: 112350, bodySize: 36\n",
      "(?c czso:medianMzdy <<22287.0__22359.0)_es2_24/42>) ^ (?a cssz-dimension:pohlavi ?e) ^ (?c czso:sex ?e) ^ (?c czso:refPeriod ?d) ^ (?a cssz-dimension:refPeriod ?d) ^ (?c qb:dataSet <salaries-by-sex>) ^ (?c czso:refArea ?b) ^ (?a cssz-dimension:refArea ?b) ^ (?a cssz-dimension:druh-duchodu <https://data.cssz.cz/resource/pension-kind/PK_old_age_total_S_SI_SRN_ST_SD_2010>) ^ (?a qb:dataSet <pensions-by-region-by-sex-PK_old_age_total_S_SI_SRN_ST_SD>) -> (?a cssz-measure:prumerna-vyse-duchodu-v-kc <<8814.26__11444.72)_ef2_1/2>) | support: 2, headCoverage: 1.7801513128615933E-5, confidence: 0.3333333333333333, lift: 267.5, headConfidence: 0.0012461059190031153, headSize: 112350, bodySize: 6\n",
      "(?c czso:medianMzdy <<20227.0__22242.5)_es10_5/9>) ^ (?a cssz-dimension:pohlavi ?e) ^ (?c czso:sex ?e) ^ (?c czso:refPeriod ?d) ^ (?a cssz-dimension:refPeriod ?d) ^ (?c qb:dataSet <salaries-by-sex>) ^ (?c czso:refArea ?b) ^ (?a cssz-dimension:refArea ?b) ^ (?a cssz-dimension:druh-duchodu <https://data.cssz.cz/resource/pension-kind/PK_old_age_total_S_SI_SRN_ST_SD_2010>) ^ (?a qb:dataSet <pensions-by-region-by-sex-PK_old_age_total_S_SI_SRN_ST_SD>) -> (?a cssz-measure:prumerna-vyse-duchodu-v-kc <<8814.26__11444.72)_ef2_1/2>) | support: 5, headCoverage: 4.4503782821539834E-5, confidence: 0.18518518518518517, lift: 148.6111111111111, headConfidence: 0.0012461059190031153, headSize: 112350, bodySize: 27\n",
      "(?c czso:prumernaMzda <<26827.5__27200.5)_es1_33/42>) ^ (?a cssz-dimension:pohlavi ?e) ^ (?c czso:sex ?e) ^ (?c czso:refPeriod ?d) ^ (?a cssz-dimension:refPeriod ?d) ^ (?c qb:dataSet <salaries-by-sex>) ^ (?c czso:refArea ?b) ^ (?a cssz-dimension:refArea ?b) ^ (?a cssz-dimension:druh-duchodu <https://data.cssz.cz/resource/pension-kind/PK_old_age_total_S_SI_SRN_ST_SD_2010>) ^ (?a qb:dataSet <pensions-by-region-by-sex-PK_old_age_total_S_SI_SRN_ST_SD>) -> (?a cssz-measure:prumerna-vyse-duchodu-v-kc <<8814.26__11444.72)_ef2_1/2>) | support: 1, headCoverage: 8.900756564307967E-6, confidence: 0.16666666666666666, lift: 133.75, headConfidence: 0.0012461059190031153, headSize: 112350, bodySize: 6\n",
      "(?c czso:prumernaMzda <<26143.5__26248.0)_es1_29/42>) ^ (?a cssz-dimension:pohlavi ?e) ^ (?c czso:sex ?e) ^ (?c czso:refPeriod ?d) ^ (?a cssz-dimension:refPeriod ?d) ^ (?c qb:dataSet <salaries-by-sex>) ^ (?c czso:refArea ?b) ^ (?a cssz-dimension:refArea ?b) ^ (?a cssz-dimension:druh-duchodu <https://data.cssz.cz/resource/pension-kind/PK_old_age_total_S_SI_SRN_ST_SD_2010>) ^ (?a qb:dataSet <pensions-by-region-by-sex-PK_old_age_total_S_SI_SRN_ST_SD>) -> (?a cssz-measure:prumerna-vyse-duchodu-v-kc <<8814.26__11444.72)_ef2_1/2>) | support: 1, headCoverage: 8.900756564307967E-6, confidence: 0.16666666666666666, lift: 133.75, headConfidence: 0.0012461059190031153, headSize: 112350, bodySize: 6\n",
      "(?c czso:prumernaMzda <<26416.0__27200.5)_es5_13/16>) ^ (?a cssz-dimension:pohlavi ?e) ^ (?c czso:sex ?e) ^ (?c czso:refPeriod ?d) ^ (?a cssz-dimension:refPeriod ?d) ^ (?c qb:dataSet <salaries-by-sex>) ^ (?c czso:refArea ?b) ^ (?a cssz-dimension:refArea ?b) ^ (?a cssz-dimension:druh-duchodu <https://data.cssz.cz/resource/pension-kind/PK_old_age_total_S_SI_SRN_ST_SD_2010>) ^ (?a qb:dataSet <pensions-by-region-by-sex-PK_old_age_total_S_SI_SRN_ST_SD>) -> (?a cssz-measure:prumerna-vyse-duchodu-v-kc <<11444.72__15557.61)_ef2_2/2>) | support: 2, headCoverage: 1.7801513128615933E-5, confidence: 0.13333333333333333, lift: 107.0, headConfidence: 0.0012461059190031153, headSize: 112350, bodySize: 15\n",
      "(?c czso:medianMzdy <<25055.5__31063.0)_es5_16/16>) ^ (?a cssz-dimension:pohlavi ?e) ^ (?c czso:sex ?e) ^ (?c czso:refPeriod ?d) ^ (?a cssz-dimension:refPeriod ?d) ^ (?c qb:dataSet <salaries-by-sex>) ^ (?c czso:refArea ?b) ^ (?a cssz-dimension:refArea ?b) ^ (?a cssz-dimension:druh-duchodu <https://data.cssz.cz/resource/pension-kind/PK_old_age_total_S_SI_SRN_ST_SD_2010>) ^ (?a qb:dataSet <pensions-by-region-by-sex-PK_old_age_total_S_SI_SRN_ST_SD>) -> (?a cssz-measure:prumerna-vyse-duchodu-v-kc <<8814.26__11444.72)_ef2_1/2>) | support: 4, headCoverage: 3.560302625723187E-5, confidence: 0.19047619047619047, lift: 152.85714285714283, headConfidence: 0.0012461059190031153, headSize: 112350, bodySize: 21\n"
     ]
    },
    {
     "name": "stdout",
     "output_type": "stream",
     "text": [
      "(?c czso:medianMzdy <<19021.5__19149.5)_es1_12/42>) ^ (?a cssz-dimension:pohlavi ?e) ^ (?c czso:sex ?e) ^ (?c czso:refPeriod ?d) ^ (?a cssz-dimension:refPeriod ?d) ^ (?c qb:dataSet <salaries-by-sex>) ^ (?c czso:refArea ?b) ^ (?a cssz-dimension:refArea ?b) ^ (?a cssz-dimension:druh-duchodu <https://data.cssz.cz/resource/pension-kind/PK_old_age_total_S_SI_SRN_ST_SD_2010>) ^ (?a qb:dataSet <pensions-by-region-by-sex-PK_old_age_total_S_SI_SRN_ST_SD>) -> (?a cssz-measure:prumerna-vyse-duchodu-v-kc <<8814.26__11444.72)_ef2_1/2>) | support: 2, headCoverage: 1.7801513128615933E-5, confidence: 0.3333333333333333, lift: 267.5, headConfidence: 0.0012461059190031153, headSize: 112350, bodySize: 6\n",
      "(?c czso:medianMzdy <<17948.0__18177.0)_es2_5/42>) ^ (?a cssz-dimension:pohlavi ?e) ^ (?c czso:sex ?e) ^ (?c czso:refPeriod ?d) ^ (?a cssz-dimension:refPeriod ?d) ^ (?c qb:dataSet <salaries-by-sex>) ^ (?c czso:refArea ?b) ^ (?a cssz-dimension:refArea ?b) ^ (?a cssz-dimension:druh-duchodu <https://data.cssz.cz/resource/pension-kind/PK_old_age_total_S_SI_SRN_ST_SD_2010>) ^ (?a qb:dataSet <pensions-by-region-by-sex-PK_old_age_total_S_SI_SRN_ST_SD>) -> (?a cssz-measure:prumerna-vyse-duchodu-v-kc <<8814.26__11444.72)_ef2_1/2>) | support: 2, headCoverage: 1.7801513128615933E-5, confidence: 0.3333333333333333, lift: 267.5, headConfidence: 0.0012461059190031153, headSize: 112350, bodySize: 6\n",
      "(?c czso:prumernaMzda <<19274.0__20464.5)_ef5_1/5>) ^ (?a cssz-dimension:pohlavi ?e) ^ (?c czso:sex ?e) ^ (?c czso:refPeriod ?d) ^ (?a cssz-dimension:refPeriod ?d) ^ (?c qb:dataSet <salaries-by-sex>) ^ (?c czso:refArea ?b) ^ (?a cssz-dimension:refArea ?b) ^ (?a cssz-dimension:druh-duchodu <https://data.cssz.cz/resource/pension-kind/PK_old_age_total_S_SI_SRN_ST_SD_2010>) ^ (?a qb:dataSet <pensions-by-region-by-sex-PK_old_age_total_S_SI_SRN_ST_SD>) -> (?a cssz-measure:prumerna-vyse-duchodu-v-kc <<8814.26__11444.72)_ef2_1/2>) | support: 16, headCoverage: 1.4241210502892747E-4, confidence: 0.3333333333333333, lift: 267.5, headConfidence: 0.0012461059190031153, headSize: 112350, bodySize: 48\n",
      "(?c czso:prumernaMzda <<27860.0__28321.5)_es1_37/42>) ^ (?a cssz-dimension:pohlavi ?e) ^ (?c czso:sex ?e) ^ (?c czso:refPeriod ?d) ^ (?a cssz-dimension:refPeriod ?d) ^ (?c qb:dataSet <salaries-by-sex>) ^ (?c czso:refArea ?b) ^ (?a cssz-dimension:refArea ?b) ^ (?a cssz-dimension:druh-duchodu <https://data.cssz.cz/resource/pension-kind/PK_old_age_total_S_SI_SRN_ST_SD_2010>) ^ (?a qb:dataSet <pensions-by-region-by-sex-PK_old_age_total_S_SI_SRN_ST_SD>) -> (?a cssz-measure:prumerna-vyse-duchodu-v-kc <<8814.26__11444.72)_ef2_1/2>) | support: 1, headCoverage: 8.900756564307967E-6, confidence: 0.16666666666666666, lift: 133.75, headConfidence: 0.0012461059190031153, headSize: 112350, bodySize: 6\n",
      "(?c czso:prumernaMzda <<27614.5__27860.0)_es1_36/42>) ^ (?a cssz-dimension:pohlavi ?e) ^ (?c czso:sex ?e) ^ (?c czso:refPeriod ?d) ^ (?a cssz-dimension:refPeriod ?d) ^ (?c qb:dataSet <salaries-by-sex>) ^ (?c czso:refArea ?b) ^ (?a cssz-dimension:refArea ?b) ^ (?a cssz-dimension:druh-duchodu <https://data.cssz.cz/resource/pension-kind/PK_old_age_total_S_SI_SRN_ST_SD_2010>) ^ (?a qb:dataSet <pensions-by-region-by-sex-PK_old_age_total_S_SI_SRN_ST_SD>) -> (?a cssz-measure:prumerna-vyse-duchodu-v-kc <<8814.26__11444.72)_ef2_1/2>) | support: 2, headCoverage: 1.7801513128615933E-5, confidence: 0.3333333333333333, lift: 267.5, headConfidence: 0.0012461059190031153, headSize: 112350, bodySize: 6\n",
      "(?c czso:prumernaMzda <<22087.5__22389.5)_es2_19/42>) ^ (?a cssz-dimension:pohlavi ?e) ^ (?c czso:sex ?e) ^ (?c czso:refPeriod ?d) ^ (?a cssz-dimension:refPeriod ?d) ^ (?c qb:dataSet <salaries-by-sex>) ^ (?c czso:refArea ?b) ^ (?a cssz-dimension:refArea ?b) ^ (?a cssz-dimension:druh-duchodu <https://data.cssz.cz/resource/pension-kind/PK_old_age_total_S_SI_SRN_ST_SD_2010>) ^ (?a qb:dataSet <pensions-by-region-by-sex-PK_old_age_total_S_SI_SRN_ST_SD>) -> (?a cssz-measure:prumerna-vyse-duchodu-v-kc <<8814.26__11444.72)_ef2_1/2>) | support: 2, headCoverage: 1.7801513128615933E-5, confidence: 0.3333333333333333, lift: 267.5, headConfidence: 0.0012461059190031153, headSize: 112350, bodySize: 6\n",
      "(?c czso:medianMzdy <<23183.5__23337.5)_es2_32/42>) ^ (?a cssz-dimension:pohlavi ?e) ^ (?c czso:sex ?e) ^ (?c czso:refPeriod ?d) ^ (?a cssz-dimension:refPeriod ?d) ^ (?c qb:dataSet <salaries-by-sex>) ^ (?c czso:refArea ?b) ^ (?a cssz-dimension:refArea ?b) ^ (?a cssz-dimension:druh-duchodu <https://data.cssz.cz/resource/pension-kind/PK_old_age_total_S_SI_SRN_ST_SD_2010>) ^ (?a qb:dataSet <pensions-by-region-by-sex-PK_old_age_total_S_SI_SRN_ST_SD>) -> (?a cssz-measure:prumerna-vyse-duchodu-v-kc <<8814.26__11444.72)_ef2_1/2>) | support: 1, headCoverage: 8.900756564307967E-6, confidence: 0.16666666666666666, lift: 133.75, headConfidence: 0.0012461059190031153, headSize: 112350, bodySize: 6\n",
      "(?c czso:prumernaMzda <<27860.0__41209.0)_ef7_7/7>) ^ (?a cssz-dimension:pohlavi ?e) ^ (?c czso:sex ?e) ^ (?c czso:refPeriod ?d) ^ (?a cssz-dimension:refPeriod ?d) ^ (?c qb:dataSet <salaries-by-sex>) ^ (?c czso:refArea ?b) ^ (?a cssz-dimension:refArea ?b) ^ (?a cssz-dimension:druh-duchodu <https://data.cssz.cz/resource/pension-kind/PK_old_age_total_S_SI_SRN_ST_SD_2010>) ^ (?a qb:dataSet <pensions-by-region-by-sex-PK_old_age_total_S_SI_SRN_ST_SD>) -> (?a cssz-measure:prumerna-vyse-duchodu-v-kc <<8814.26__11444.72)_ef2_1/2>) | support: 6, headCoverage: 5.34045393858478E-5, confidence: 0.16666666666666666, lift: 133.75, headConfidence: 0.0012461059190031153, headSize: 112350, bodySize: 36\n",
      "(?c czso:prumernaMzda <<20528.0__20602.5)_es1_10/42>) ^ (?a cssz-dimension:pohlavi ?e) ^ (?c czso:sex ?e) ^ (?c czso:refPeriod ?d) ^ (?a cssz-dimension:refPeriod ?d) ^ (?c qb:dataSet <salaries-by-sex>) ^ (?c czso:refArea ?b) ^ (?a cssz-dimension:refArea ?b) ^ (?a cssz-dimension:druh-duchodu <https://data.cssz.cz/resource/pension-kind/PK_old_age_total_S_SI_SRN_ST_SD_2010>) ^ (?a qb:dataSet <pensions-by-region-by-sex-PK_old_age_total_S_SI_SRN_ST_SD>) -> (?a cssz-measure:prumerna-vyse-duchodu-v-kc <<8814.26__11444.72)_ef2_1/2>) | support: 2, headCoverage: 1.7801513128615933E-5, confidence: 0.3333333333333333, lift: 267.5, headConfidence: 0.0012461059190031153, headSize: 112350, bodySize: 6\n",
      "(?c czso:prumernaMzda <<22389.5__24011.5)_es1_20/42>) ^ (?a cssz-dimension:pohlavi ?e) ^ (?c czso:sex ?e) ^ (?c czso:refPeriod ?d) ^ (?a cssz-dimension:refPeriod ?d) ^ (?c qb:dataSet <salaries-by-sex>) ^ (?c czso:refArea ?b) ^ (?a cssz-dimension:refArea ?b) ^ (?a cssz-dimension:druh-duchodu <https://data.cssz.cz/resource/pension-kind/PK_old_age_total_S_SI_SRN_ST_SD_2010>) ^ (?a qb:dataSet <pensions-by-region-by-sex-PK_old_age_total_S_SI_SRN_ST_SD>) -> (?a cssz-measure:prumerna-vyse-duchodu-v-kc <<11444.72__15557.61)_ef2_2/2>) | support: 1, headCoverage: 8.900756564307967E-6, confidence: 0.16666666666666666, lift: 133.75, headConfidence: 0.0012461059190031153, headSize: 112350, bodySize: 6\n",
      "(?c czso:prumernaMzda <<29726.0__30064.0)_es2_40/42>) ^ (?a cssz-dimension:pohlavi ?e) ^ (?c czso:sex ?e) ^ (?c czso:refPeriod ?d) ^ (?a cssz-dimension:refPeriod ?d) ^ (?c qb:dataSet <salaries-by-sex>) ^ (?c czso:refArea ?b) ^ (?a cssz-dimension:refArea ?b) ^ (?a cssz-dimension:druh-duchodu <https://data.cssz.cz/resource/pension-kind/PK_old_age_total_S_SI_SRN_ST_SD_2010>) ^ (?a qb:dataSet <pensions-by-region-by-sex-PK_old_age_total_S_SI_SRN_ST_SD>) -> (?a cssz-measure:prumerna-vyse-duchodu-v-kc <<8814.26__11444.72)_ef2_1/2>) | support: 2, headCoverage: 1.7801513128615933E-5, confidence: 0.3333333333333333, lift: 267.5, headConfidence: 0.0012461059190031153, headSize: 112350, bodySize: 6\n"
     ]
    },
    {
     "name": "stdout",
     "output_type": "stream",
     "text": [
      "(?c czso:prumernaMzda <<19274.0__24832.5)_ef2_1/2>) ^ (?a cssz-dimension:pohlavi ?e) ^ (?c czso:sex ?e) ^ (?c czso:refPeriod ?d) ^ (?a cssz-dimension:refPeriod ?d) ^ (?c qb:dataSet <salaries-by-sex>) ^ (?c czso:refArea ?b) ^ (?a cssz-dimension:refArea ?b) ^ (?a cssz-dimension:druh-duchodu <https://data.cssz.cz/resource/pension-kind/PK_old_age_total_S_SI_SRN_ST_SD_2010>) ^ (?a qb:dataSet <pensions-by-region-by-sex-PK_old_age_total_S_SI_SRN_ST_SD>) -> (?a cssz-measure:prumerna-vyse-duchodu-v-kc <<8814.26__11444.72)_ef2_1/2>) | support: 40, headCoverage: 3.5603026257231867E-4, confidence: 0.31746031746031744, lift: 254.76190476190473, headConfidence: 0.0012461059190031153, headSize: 112350, bodySize: 126\n",
      "(?c czso:prumernaMzda <<25231.0__25681.0)_es5_10/16>) ^ (?a cssz-dimension:pohlavi ?e) ^ (?c czso:sex ?e) ^ (?c czso:refPeriod ?d) ^ (?a cssz-dimension:refPeriod ?d) ^ (?c qb:dataSet <salaries-by-sex>) ^ (?c czso:refArea ?b) ^ (?a cssz-dimension:refArea ?b) ^ (?a cssz-dimension:druh-duchodu <https://data.cssz.cz/resource/pension-kind/PK_old_age_total_S_SI_SRN_ST_SD_2010>) ^ (?a qb:dataSet <pensions-by-region-by-sex-PK_old_age_total_S_SI_SRN_ST_SD>) -> (?a cssz-measure:prumerna-vyse-duchodu-v-kc <<11444.72__15557.61)_ef2_2/2>) | support: 3, headCoverage: 2.67022696929239E-5, confidence: 0.2, lift: 160.5, headConfidence: 0.0012461059190031153, headSize: 112350, bodySize: 15\n",
      "(?c czso:prumernaMzda <<20602.5__24434.0)_es20_2/4>) ^ (?a cssz-dimension:pohlavi ?e) ^ (?c czso:sex ?e) ^ (?c czso:refPeriod ?d) ^ (?a cssz-dimension:refPeriod ?d) ^ (?c qb:dataSet <salaries-by-sex>) ^ (?c czso:refArea ?b) ^ (?a cssz-dimension:refArea ?b) ^ (?a cssz-dimension:druh-duchodu <https://data.cssz.cz/resource/pension-kind/PK_old_age_total_S_SI_SRN_ST_SD_2010>) ^ (?a qb:dataSet <pensions-by-region-by-sex-PK_old_age_total_S_SI_SRN_ST_SD>) -> (?a cssz-measure:prumerna-vyse-duchodu-v-kc <<11444.72__15557.61)_ef2_2/2>) | support: 2, headCoverage: 1.7801513128615933E-5, confidence: 0.031746031746031744, lift: 25.476190476190474, headConfidence: 0.0012461059190031153, headSize: 112350, bodySize: 63\n",
      "(?c czso:prumernaMzda <<19778.5__19913.0)_es1_5/42>) ^ (?a cssz-dimension:pohlavi ?e) ^ (?c czso:sex ?e) ^ (?c czso:refPeriod ?d) ^ (?a cssz-dimension:refPeriod ?d) ^ (?c qb:dataSet <salaries-by-sex>) ^ (?c czso:refArea ?b) ^ (?a cssz-dimension:refArea ?b) ^ (?a cssz-dimension:druh-duchodu <https://data.cssz.cz/resource/pension-kind/PK_old_age_total_S_SI_SRN_ST_SD_2010>) ^ (?a qb:dataSet <pensions-by-region-by-sex-PK_old_age_total_S_SI_SRN_ST_SD>) -> (?a cssz-measure:prumerna-vyse-duchodu-v-kc <<8814.26__11444.72)_ef2_1/2>) | support: 2, headCoverage: 1.7801513128615933E-5, confidence: 0.3333333333333333, lift: 267.5, headConfidence: 0.0012461059190031153, headSize: 112350, bodySize: 6\n",
      "(?c czso:medianMzdy <<24340.0__24683.0)_es1_38/42>) ^ (?a cssz-dimension:pohlavi ?e) ^ (?c czso:sex ?e) ^ (?c czso:refPeriod ?d) ^ (?a cssz-dimension:refPeriod ?d) ^ (?c qb:dataSet <salaries-by-sex>) ^ (?c czso:refArea ?b) ^ (?a cssz-dimension:refArea ?b) ^ (?a cssz-dimension:druh-duchodu <https://data.cssz.cz/resource/pension-kind/PK_old_age_total_S_SI_SRN_ST_SD_2010>) ^ (?a qb:dataSet <pensions-by-region-by-sex-PK_old_age_total_S_SI_SRN_ST_SD>) -> (?a cssz-measure:prumerna-vyse-duchodu-v-kc <<11444.72__15557.61)_ef2_2/2>) | support: 1, headCoverage: 8.900756564307967E-6, confidence: 0.16666666666666666, lift: 133.75, headConfidence: 0.0012461059190031153, headSize: 112350, bodySize: 6\n",
      "(?c czso:medianMzdy <<23337.5__23528.0)_es2_33/42>) ^ (?a cssz-dimension:pohlavi ?e) ^ (?c czso:sex ?e) ^ (?c czso:refPeriod ?d) ^ (?a cssz-dimension:refPeriod ?d) ^ (?c qb:dataSet <salaries-by-sex>) ^ (?c czso:refArea ?b) ^ (?a cssz-dimension:refArea ?b) ^ (?a cssz-dimension:druh-duchodu <https://data.cssz.cz/resource/pension-kind/PK_old_age_total_S_SI_SRN_ST_SD_2010>) ^ (?a qb:dataSet <pensions-by-region-by-sex-PK_old_age_total_S_SI_SRN_ST_SD>) -> (?a cssz-measure:prumerna-vyse-duchodu-v-kc <<11444.72__15557.61)_ef2_2/2>) | support: 1, headCoverage: 8.900756564307967E-6, confidence: 0.16666666666666666, lift: 133.75, headConfidence: 0.0012461059190031153, headSize: 112350, bodySize: 6\n",
      "(?c czso:prumernaMzda <<27200.5__27388.5)_es1_34/42>) ^ (?a cssz-dimension:pohlavi ?e) ^ (?c czso:sex ?e) ^ (?c czso:refPeriod ?d) ^ (?a cssz-dimension:refPeriod ?d) ^ (?c qb:dataSet <salaries-by-sex>) ^ (?c czso:refArea ?b) ^ (?a cssz-dimension:refArea ?b) ^ (?a cssz-dimension:druh-duchodu <https://data.cssz.cz/resource/pension-kind/PK_old_age_total_S_SI_SRN_ST_SD_2010>) ^ (?a qb:dataSet <pensions-by-region-by-sex-PK_old_age_total_S_SI_SRN_ST_SD>) -> (?a cssz-measure:prumerna-vyse-duchodu-v-kc <<11444.72__15557.61)_ef2_2/2>) | support: 2, headCoverage: 1.7801513128615933E-5, confidence: 0.3333333333333333, lift: 267.5, headConfidence: 0.0012461059190031153, headSize: 112350, bodySize: 6\n",
      "(?c czso:medianMzdy <<18724.5__19617.0)_ef5_2/5>) ^ (?a cssz-dimension:pohlavi ?e) ^ (?c czso:sex ?e) ^ (?c czso:refPeriod ?d) ^ (?a cssz-dimension:refPeriod ?d) ^ (?c qb:dataSet <salaries-by-sex>) ^ (?c czso:refArea ?b) ^ (?a cssz-dimension:refArea ?b) ^ (?a cssz-dimension:druh-duchodu <https://data.cssz.cz/resource/pension-kind/PK_old_age_total_S_SI_SRN_ST_SD_2010>) ^ (?a qb:dataSet <pensions-by-region-by-sex-PK_old_age_total_S_SI_SRN_ST_SD>) -> (?a cssz-measure:prumerna-vyse-duchodu-v-kc <<8814.26__11444.72)_ef2_1/2>) | support: 16, headCoverage: 1.4241210502892747E-4, confidence: 0.3333333333333333, lift: 267.5, headConfidence: 0.0012461059190031153, headSize: 112350, bodySize: 48\n",
      "(?c czso:prumernaMzda <<27812.0__29381.0)_es5_15/16>) ^ (?a cssz-dimension:pohlavi ?e) ^ (?c czso:sex ?e) ^ (?c czso:refPeriod ?d) ^ (?a cssz-dimension:refPeriod ?d) ^ (?c qb:dataSet <salaries-by-sex>) ^ (?c czso:refArea ?b) ^ (?a cssz-dimension:refArea ?b) ^ (?a cssz-dimension:druh-duchodu <https://data.cssz.cz/resource/pension-kind/PK_old_age_total_S_SI_SRN_ST_SD_2010>) ^ (?a qb:dataSet <pensions-by-region-by-sex-PK_old_age_total_S_SI_SRN_ST_SD>) -> (?a cssz-measure:prumerna-vyse-duchodu-v-kc <<8814.26__11444.72)_ef2_1/2>) | support: 3, headCoverage: 2.67022696929239E-5, confidence: 0.16666666666666666, lift: 133.75, headConfidence: 0.0012461059190031153, headSize: 112350, bodySize: 18\n",
      "(?c czso:prumernaMzda <<26069.5__26143.5)_es2_28/42>) ^ (?a cssz-dimension:pohlavi ?e) ^ (?c czso:sex ?e) ^ (?c czso:refPeriod ?d) ^ (?a cssz-dimension:refPeriod ?d) ^ (?c qb:dataSet <salaries-by-sex>) ^ (?c czso:refArea ?b) ^ (?a cssz-dimension:refArea ?b) ^ (?a cssz-dimension:druh-duchodu <https://data.cssz.cz/resource/pension-kind/PK_old_age_total_S_SI_SRN_ST_SD_2010>) ^ (?a qb:dataSet <pensions-by-region-by-sex-PK_old_age_total_S_SI_SRN_ST_SD>) -> (?a cssz-measure:prumerna-vyse-duchodu-v-kc <<11444.72__15557.61)_ef2_2/2>) | support: 2, headCoverage: 1.7801513128615933E-5, confidence: 0.3333333333333333, lift: 267.5, headConfidence: 0.0012461059190031153, headSize: 112350, bodySize: 6\n",
      "(?c czso:prumernaMzda <<20024.0__20707.5)_ef7_2/7>) ^ (?a cssz-dimension:pohlavi ?e) ^ (?c czso:sex ?e) ^ (?c czso:refPeriod ?d) ^ (?a cssz-dimension:refPeriod ?d) ^ (?c qb:dataSet <salaries-by-sex>) ^ (?c czso:refArea ?b) ^ (?a cssz-dimension:refArea ?b) ^ (?a cssz-dimension:druh-duchodu <https://data.cssz.cz/resource/pension-kind/PK_old_age_total_S_SI_SRN_ST_SD_2010>) ^ (?a qb:dataSet <pensions-by-region-by-sex-PK_old_age_total_S_SI_SRN_ST_SD>) -> (?a cssz-measure:prumerna-vyse-duchodu-v-kc <<8814.26__11444.72)_ef2_1/2>) | support: 12, headCoverage: 1.068090787716956E-4, confidence: 0.3333333333333333, lift: 267.5, headConfidence: 0.0012461059190031153, headSize: 112350, bodySize: 36\n"
     ]
    },
    {
     "name": "stdout",
     "output_type": "stream",
     "text": [
      "(?c czso:prumernaMzda <<27200.5__41209.0)_ef5_5/5>) ^ (?a cssz-dimension:pohlavi ?e) ^ (?c czso:sex ?e) ^ (?c czso:refPeriod ?d) ^ (?a cssz-dimension:refPeriod ?d) ^ (?c qb:dataSet <salaries-by-sex>) ^ (?c czso:refArea ?b) ^ (?a cssz-dimension:refArea ?b) ^ (?a cssz-dimension:druh-duchodu <https://data.cssz.cz/resource/pension-kind/PK_old_age_total_S_SI_SRN_ST_SD_2010>) ^ (?a qb:dataSet <pensions-by-region-by-sex-PK_old_age_total_S_SI_SRN_ST_SD>) -> (?a cssz-measure:prumerna-vyse-duchodu-v-kc <<8814.26__11444.72)_ef2_1/2>) | support: 8, headCoverage: 7.120605251446373E-5, confidence: 0.14814814814814814, lift: 118.88888888888887, headConfidence: 0.0012461059190031153, headSize: 112350, bodySize: 54\n",
      "(?c czso:medianMzdy <<23044.0__24157.5)_ef7_6/7>) ^ (?a cssz-dimension:pohlavi ?e) ^ (?c czso:sex ?e) ^ (?c czso:refPeriod ?d) ^ (?a cssz-dimension:refPeriod ?d) ^ (?c qb:dataSet <salaries-by-sex>) ^ (?c czso:refArea ?b) ^ (?a cssz-dimension:refArea ?b) ^ (?a cssz-dimension:druh-duchodu <https://data.cssz.cz/resource/pension-kind/PK_old_age_total_S_SI_SRN_ST_SD_2010>) ^ (?a qb:dataSet <pensions-by-region-by-sex-PK_old_age_total_S_SI_SRN_ST_SD>) -> (?a cssz-measure:prumerna-vyse-duchodu-v-kc <<11444.72__15557.61)_ef2_2/2>) | support: 9, headCoverage: 8.01068090787717E-5, confidence: 0.25, lift: 200.625, headConfidence: 0.0012461059190031153, headSize: 112350, bodySize: 36\n",
      "(?c czso:medianMzdy <<22846.5__22911.5)_es2_29/42>) ^ (?a cssz-dimension:pohlavi ?e) ^ (?c czso:sex ?e) ^ (?c czso:refPeriod ?d) ^ (?a cssz-dimension:refPeriod ?d) ^ (?c qb:dataSet <salaries-by-sex>) ^ (?c czso:refArea ?b) ^ (?a cssz-dimension:refArea ?b) ^ (?a cssz-dimension:druh-duchodu <https://data.cssz.cz/resource/pension-kind/PK_old_age_total_S_SI_SRN_ST_SD_2010>) ^ (?a qb:dataSet <pensions-by-region-by-sex-PK_old_age_total_S_SI_SRN_ST_SD>) -> (?a cssz-measure:prumerna-vyse-duchodu-v-kc <<11444.72__15557.61)_ef2_2/2>) | support: 1, headCoverage: 8.900756564307967E-6, confidence: 0.16666666666666666, lift: 133.75, headConfidence: 0.0012461059190031153, headSize: 112350, bodySize: 6\n",
      "(?c czso:prumernaMzda <<27860.0__28321.5)_es2_37/42>) ^ (?a cssz-dimension:pohlavi ?e) ^ (?c czso:sex ?e) ^ (?c czso:refPeriod ?d) ^ (?a cssz-dimension:refPeriod ?d) ^ (?c qb:dataSet <salaries-by-sex>) ^ (?c czso:refArea ?b) ^ (?a cssz-dimension:refArea ?b) ^ (?a cssz-dimension:druh-duchodu <https://data.cssz.cz/resource/pension-kind/PK_old_age_total_S_SI_SRN_ST_SD_2010>) ^ (?a qb:dataSet <pensions-by-region-by-sex-PK_old_age_total_S_SI_SRN_ST_SD>) -> (?a cssz-measure:prumerna-vyse-duchodu-v-kc <<11444.72__15557.61)_ef2_2/2>) | support: 1, headCoverage: 8.900756564307967E-6, confidence: 0.16666666666666666, lift: 133.75, headConfidence: 0.0012461059190031153, headSize: 112350, bodySize: 6\n",
      "(?c czso:medianMzdy <<24683.0__25386.5)_es2_39/42>) ^ (?a cssz-dimension:pohlavi ?e) ^ (?c czso:sex ?e) ^ (?c czso:refPeriod ?d) ^ (?a cssz-dimension:refPeriod ?d) ^ (?c qb:dataSet <salaries-by-sex>) ^ (?c czso:refArea ?b) ^ (?a cssz-dimension:refArea ?b) ^ (?a cssz-dimension:druh-duchodu <https://data.cssz.cz/resource/pension-kind/PK_old_age_total_S_SI_SRN_ST_SD_2010>) ^ (?a qb:dataSet <pensions-by-region-by-sex-PK_old_age_total_S_SI_SRN_ST_SD>) -> (?a cssz-measure:prumerna-vyse-duchodu-v-kc <<11444.72__15557.61)_ef2_2/2>) | support: 1, headCoverage: 8.900756564307967E-6, confidence: 0.16666666666666666, lift: 133.75, headConfidence: 0.0012461059190031153, headSize: 112350, bodySize: 6\n",
      "(?c czso:medianMzdy <<22180.0__22287.0)_es1_23/42>) ^ (?a cssz-dimension:pohlavi ?e) ^ (?c czso:sex ?e) ^ (?c czso:refPeriod ?d) ^ (?a cssz-dimension:refPeriod ?d) ^ (?c qb:dataSet <salaries-by-sex>) ^ (?c czso:refArea ?b) ^ (?a cssz-dimension:refArea ?b) ^ (?a cssz-dimension:druh-duchodu <https://data.cssz.cz/resource/pension-kind/PK_old_age_total_S_SI_SRN_ST_SD_2010>) ^ (?a qb:dataSet <pensions-by-region-by-sex-PK_old_age_total_S_SI_SRN_ST_SD>) -> (?a cssz-measure:prumerna-vyse-duchodu-v-kc <<11444.72__15557.61)_ef2_2/2>) | support: 1, headCoverage: 8.900756564307967E-6, confidence: 0.16666666666666666, lift: 133.75, headConfidence: 0.0012461059190031153, headSize: 112350, bodySize: 6\n",
      "(?c czso:prumernaMzda <<30064.0__37820.5)_es1_41/42>) ^ (?a cssz-dimension:pohlavi ?e) ^ (?c czso:sex ?e) ^ (?c czso:refPeriod ?d) ^ (?a cssz-dimension:refPeriod ?d) ^ (?c qb:dataSet <salaries-by-sex>) ^ (?c czso:refArea ?b) ^ (?a cssz-dimension:refArea ?b) ^ (?a cssz-dimension:druh-duchodu <https://data.cssz.cz/resource/pension-kind/PK_old_age_total_S_SI_SRN_ST_SD_2010>) ^ (?a qb:dataSet <pensions-by-region-by-sex-PK_old_age_total_S_SI_SRN_ST_SD>) -> (?a cssz-measure:prumerna-vyse-duchodu-v-kc <<11444.72__15557.61)_ef2_2/2>) | support: 1, headCoverage: 8.900756564307967E-6, confidence: 0.16666666666666666, lift: 133.75, headConfidence: 0.0012461059190031153, headSize: 112350, bodySize: 6\n",
      "(?c czso:medianMzdy <<23183.5__31063.0)_es20_4/4>) ^ (?a cssz-dimension:pohlavi ?e) ^ (?c czso:sex ?e) ^ (?c czso:refPeriod ?d) ^ (?a cssz-dimension:refPeriod ?d) ^ (?c qb:dataSet <salaries-by-sex>) ^ (?c czso:refArea ?b) ^ (?a cssz-dimension:refArea ?b) ^ (?a cssz-dimension:druh-duchodu <https://data.cssz.cz/resource/pension-kind/PK_old_age_total_S_SI_SRN_ST_SD_2010>) ^ (?a qb:dataSet <pensions-by-region-by-sex-PK_old_age_total_S_SI_SRN_ST_SD>) -> (?a cssz-measure:prumerna-vyse-duchodu-v-kc <<11444.72__15557.61)_ef2_2/2>) | support: 12, headCoverage: 1.068090787716956E-4, confidence: 0.18181818181818182, lift: 145.9090909090909, headConfidence: 0.0012461059190031153, headSize: 112350, bodySize: 66\n",
      "(?c czso:prumernaMzda <<29037.0__29726.0)_es1_39/42>) ^ (?a cssz-dimension:pohlavi ?e) ^ (?c czso:sex ?e) ^ (?c czso:refPeriod ?d) ^ (?a cssz-dimension:refPeriod ?d) ^ (?c qb:dataSet <salaries-by-sex>) ^ (?c czso:refArea ?b) ^ (?a cssz-dimension:refArea ?b) ^ (?a cssz-dimension:druh-duchodu <https://data.cssz.cz/resource/pension-kind/PK_old_age_total_S_SI_SRN_ST_SD_2010>) ^ (?a qb:dataSet <pensions-by-region-by-sex-PK_old_age_total_S_SI_SRN_ST_SD>) -> (?a cssz-measure:prumerna-vyse-duchodu-v-kc <<11444.72__15557.61)_ef2_2/2>) | support: 1, headCoverage: 8.900756564307967E-6, confidence: 0.16666666666666666, lift: 133.75, headConfidence: 0.0012461059190031153, headSize: 112350, bodySize: 6\n",
      "(?c czso:prumernaMzda <<25077.5__25231.0)_es1_23/42>) ^ (?a cssz-dimension:pohlavi ?e) ^ (?c czso:sex ?e) ^ (?c czso:refPeriod ?d) ^ (?a cssz-dimension:refPeriod ?d) ^ (?c qb:dataSet <salaries-by-sex>) ^ (?c czso:refArea ?b) ^ (?a cssz-dimension:refArea ?b) ^ (?a cssz-dimension:druh-duchodu <https://data.cssz.cz/resource/pension-kind/PK_old_age_total_S_SI_SRN_ST_SD_2010>) ^ (?a qb:dataSet <pensions-by-region-by-sex-PK_old_age_total_S_SI_SRN_ST_SD>) -> (?a cssz-measure:prumerna-vyse-duchodu-v-kc <<8814.26__11444.72)_ef2_1/2>) | support: 1, headCoverage: 8.900756564307967E-6, confidence: 0.16666666666666666, lift: 133.75, headConfidence: 0.0012461059190031153, headSize: 112350, bodySize: 6\n",
      "(?c czso:prumernaMzda <<26248.0__26375.0)_es1_30/42>) ^ (?a cssz-dimension:pohlavi ?e) ^ (?c czso:sex ?e) ^ (?c czso:refPeriod ?d) ^ (?a cssz-dimension:refPeriod ?d) ^ (?c qb:dataSet <salaries-by-sex>) ^ (?c czso:refArea ?b) ^ (?a cssz-dimension:refArea ?b) ^ (?a cssz-dimension:druh-duchodu <https://data.cssz.cz/resource/pension-kind/PK_old_age_total_S_SI_SRN_ST_SD_2010>) ^ (?a qb:dataSet <pensions-by-region-by-sex-PK_old_age_total_S_SI_SRN_ST_SD>) -> (?a cssz-measure:prumerna-vyse-duchodu-v-kc <<11444.72__15557.61)_ef2_2/2>) | support: 2, headCoverage: 1.7801513128615933E-5, confidence: 0.3333333333333333, lift: 267.5, headConfidence: 0.0012461059190031153, headSize: 112350, bodySize: 6\n"
     ]
    },
    {
     "name": "stdout",
     "output_type": "stream",
     "text": [
      "(?c czso:medianMzdy <<19149.5__19246.0)_es1_13/42>) ^ (?a cssz-dimension:pohlavi ?e) ^ (?c czso:sex ?e) ^ (?c czso:refPeriod ?d) ^ (?a cssz-dimension:refPeriod ?d) ^ (?c qb:dataSet <salaries-by-sex>) ^ (?c czso:refArea ?b) ^ (?a cssz-dimension:refArea ?b) ^ (?a cssz-dimension:druh-duchodu <https://data.cssz.cz/resource/pension-kind/PK_old_age_total_S_SI_SRN_ST_SD_2010>) ^ (?a qb:dataSet <pensions-by-region-by-sex-PK_old_age_total_S_SI_SRN_ST_SD>) -> (?a cssz-measure:prumerna-vyse-duchodu-v-kc <<8814.26__11444.72)_ef2_1/2>) | support: 2, headCoverage: 1.7801513128615933E-5, confidence: 0.3333333333333333, lift: 267.5, headConfidence: 0.0012461059190031153, headSize: 112350, bodySize: 6\n",
      "(?c czso:medianMzdy <<22117.0__22180.0)_es1_22/42>) ^ (?a cssz-dimension:pohlavi ?e) ^ (?c czso:sex ?e) ^ (?c czso:refPeriod ?d) ^ (?a cssz-dimension:refPeriod ?d) ^ (?c qb:dataSet <salaries-by-sex>) ^ (?c czso:refArea ?b) ^ (?a cssz-dimension:refArea ?b) ^ (?a cssz-dimension:druh-duchodu <https://data.cssz.cz/resource/pension-kind/PK_old_age_total_S_SI_SRN_ST_SD_2010>) ^ (?a qb:dataSet <pensions-by-region-by-sex-PK_old_age_total_S_SI_SRN_ST_SD>) -> (?a cssz-measure:prumerna-vyse-duchodu-v-kc <<8814.26__11444.72)_ef2_1/2>) | support: 2, headCoverage: 1.7801513128615933E-5, confidence: 0.3333333333333333, lift: 267.5, headConfidence: 0.0012461059190031153, headSize: 112350, bodySize: 6\n",
      "(?c czso:medianMzdy <<23044.0__23423.0)_es5_13/16>) ^ (?a cssz-dimension:pohlavi ?e) ^ (?c czso:sex ?e) ^ (?c czso:refPeriod ?d) ^ (?a cssz-dimension:refPeriod ?d) ^ (?c qb:dataSet <salaries-by-sex>) ^ (?c czso:refArea ?b) ^ (?a cssz-dimension:refArea ?b) ^ (?a cssz-dimension:druh-duchodu <https://data.cssz.cz/resource/pension-kind/PK_old_age_total_S_SI_SRN_ST_SD_2010>) ^ (?a qb:dataSet <pensions-by-region-by-sex-PK_old_age_total_S_SI_SRN_ST_SD>) -> (?a cssz-measure:prumerna-vyse-duchodu-v-kc <<11444.72__15557.61)_ef2_2/2>) | support: 3, headCoverage: 2.67022696929239E-5, confidence: 0.2, lift: 160.5, headConfidence: 0.0012461059190031153, headSize: 112350, bodySize: 15\n",
      "(?c czso:prumernaMzda <<22087.5__25121.5)_es10_5/9>) ^ (?a cssz-dimension:pohlavi ?e) ^ (?c czso:sex ?e) ^ (?c czso:refPeriod ?d) ^ (?a cssz-dimension:refPeriod ?d) ^ (?c qb:dataSet <salaries-by-sex>) ^ (?c czso:refArea ?b) ^ (?a cssz-dimension:refArea ?b) ^ (?a cssz-dimension:druh-duchodu <https://data.cssz.cz/resource/pension-kind/PK_old_age_total_S_SI_SRN_ST_SD_2010>) ^ (?a qb:dataSet <pensions-by-region-by-sex-PK_old_age_total_S_SI_SRN_ST_SD>) -> (?a cssz-measure:prumerna-vyse-duchodu-v-kc <<11444.72__15557.61)_ef2_2/2>) | support: 4, headCoverage: 3.560302625723187E-5, confidence: 0.14814814814814814, lift: 118.88888888888887, headConfidence: 0.0012461059190031153, headSize: 112350, bodySize: 27\n",
      "(?c czso:prumernaMzda <<20663.5__20707.5)_es1_12/42>) ^ (?a cssz-dimension:pohlavi ?e) ^ (?c czso:sex ?e) ^ (?c czso:refPeriod ?d) ^ (?a cssz-dimension:refPeriod ?d) ^ (?c qb:dataSet <salaries-by-sex>) ^ (?c czso:refArea ?b) ^ (?a cssz-dimension:refArea ?b) ^ (?a cssz-dimension:druh-duchodu <https://data.cssz.cz/resource/pension-kind/PK_old_age_total_S_SI_SRN_ST_SD_2010>) ^ (?a qb:dataSet <pensions-by-region-by-sex-PK_old_age_total_S_SI_SRN_ST_SD>) -> (?a cssz-measure:prumerna-vyse-duchodu-v-kc <<8814.26__11444.72)_ef2_1/2>) | support: 2, headCoverage: 1.7801513128615933E-5, confidence: 0.3333333333333333, lift: 267.5, headConfidence: 0.0012461059190031153, headSize: 112350, bodySize: 6\n",
      "(?c czso:medianMzdy <<23183.5__23337.5)_es1_32/42>) ^ (?a cssz-dimension:pohlavi ?e) ^ (?c czso:sex ?e) ^ (?c czso:refPeriod ?d) ^ (?a cssz-dimension:refPeriod ?d) ^ (?c qb:dataSet <salaries-by-sex>) ^ (?c czso:refArea ?b) ^ (?a cssz-dimension:refArea ?b) ^ (?a cssz-dimension:druh-duchodu <https://data.cssz.cz/resource/pension-kind/PK_old_age_total_S_SI_SRN_ST_SD_2010>) ^ (?a qb:dataSet <pensions-by-region-by-sex-PK_old_age_total_S_SI_SRN_ST_SD>) -> (?a cssz-measure:prumerna-vyse-duchodu-v-kc <<8814.26__11444.72)_ef2_1/2>) | support: 1, headCoverage: 8.900756564307967E-6, confidence: 0.16666666666666666, lift: 133.75, headConfidence: 0.0012461059190031153, headSize: 112350, bodySize: 6\n",
      "(?c czso:medianMzdy <<25679.5__28883.5)_es2_41/42>) ^ (?a cssz-dimension:pohlavi ?e) ^ (?c czso:sex ?e) ^ (?c czso:refPeriod ?d) ^ (?a cssz-dimension:refPeriod ?d) ^ (?c qb:dataSet <salaries-by-sex>) ^ (?c czso:refArea ?b) ^ (?a cssz-dimension:refArea ?b) ^ (?a cssz-dimension:druh-duchodu <https://data.cssz.cz/resource/pension-kind/PK_old_age_total_S_SI_SRN_ST_SD_2010>) ^ (?a qb:dataSet <pensions-by-region-by-sex-PK_old_age_total_S_SI_SRN_ST_SD>) -> (?a cssz-measure:prumerna-vyse-duchodu-v-kc <<11444.72__15557.61)_ef2_2/2>) | support: 1, headCoverage: 8.900756564307967E-6, confidence: 0.16666666666666666, lift: 133.75, headConfidence: 0.0012461059190031153, headSize: 112350, bodySize: 6\n",
      "(?c czso:medianMzdy <<25386.5__25679.5)_es1_40/42>) ^ (?a cssz-dimension:pohlavi ?e) ^ (?c czso:sex ?e) ^ (?c czso:refPeriod ?d) ^ (?a cssz-dimension:refPeriod ?d) ^ (?c qb:dataSet <salaries-by-sex>) ^ (?c czso:refArea ?b) ^ (?a cssz-dimension:refArea ?b) ^ (?a cssz-dimension:druh-duchodu <https://data.cssz.cz/resource/pension-kind/PK_old_age_total_S_SI_SRN_ST_SD_2010>) ^ (?a qb:dataSet <pensions-by-region-by-sex-PK_old_age_total_S_SI_SRN_ST_SD>) -> (?a cssz-measure:prumerna-vyse-duchodu-v-kc <<8814.26__11444.72)_ef2_1/2>) | support: 2, headCoverage: 1.7801513128615933E-5, confidence: 0.3333333333333333, lift: 267.5, headConfidence: 0.0012461059190031153, headSize: 112350, bodySize: 6\n",
      "(?c czso:medianMzdy <<23528.0__23825.5)_es2_34/42>) ^ (?a cssz-dimension:pohlavi ?e) ^ (?c czso:sex ?e) ^ (?c czso:refPeriod ?d) ^ (?a cssz-dimension:refPeriod ?d) ^ (?c qb:dataSet <salaries-by-sex>) ^ (?c czso:refArea ?b) ^ (?a cssz-dimension:refArea ?b) ^ (?a cssz-dimension:druh-duchodu <https://data.cssz.cz/resource/pension-kind/PK_old_age_total_S_SI_SRN_ST_SD_2010>) ^ (?a qb:dataSet <pensions-by-region-by-sex-PK_old_age_total_S_SI_SRN_ST_SD>) -> (?a cssz-measure:prumerna-vyse-duchodu-v-kc <<11444.72__15557.61)_ef2_2/2>) | support: 1, headCoverage: 8.900756564307967E-6, confidence: 0.16666666666666666, lift: 133.75, headConfidence: 0.0012461059190031153, headSize: 112350, bodySize: 6\n",
      "(?c czso:prumernaMzda <<19778.5__19913.0)_es2_5/42>) ^ (?a cssz-dimension:pohlavi ?e) ^ (?c czso:sex ?e) ^ (?c czso:refPeriod ?d) ^ (?a cssz-dimension:refPeriod ?d) ^ (?c qb:dataSet <salaries-by-sex>) ^ (?c czso:refArea ?b) ^ (?a cssz-dimension:refArea ?b) ^ (?a cssz-dimension:druh-duchodu <https://data.cssz.cz/resource/pension-kind/PK_old_age_total_S_SI_SRN_ST_SD_2010>) ^ (?a qb:dataSet <pensions-by-region-by-sex-PK_old_age_total_S_SI_SRN_ST_SD>) -> (?a cssz-measure:prumerna-vyse-duchodu-v-kc <<8814.26__11444.72)_ef2_1/2>) | support: 2, headCoverage: 1.7801513128615933E-5, confidence: 0.3333333333333333, lift: 267.5, headConfidence: 0.0012461059190031153, headSize: 112350, bodySize: 6\n",
      "(?c czso:medianMzdy <<22117.0__31063.0)_ef2_2/2>) ^ (?a cssz-dimension:pohlavi ?e) ^ (?c czso:sex ?e) ^ (?c czso:refPeriod ?d) ^ (?a cssz-dimension:refPeriod ?d) ^ (?c qb:dataSet <salaries-by-sex>) ^ (?c czso:refArea ?b) ^ (?a cssz-dimension:refArea ?b) ^ (?a cssz-dimension:druh-duchodu <https://data.cssz.cz/resource/pension-kind/PK_old_age_total_S_SI_SRN_ST_SD_2010>) ^ (?a qb:dataSet <pensions-by-region-by-sex-PK_old_age_total_S_SI_SRN_ST_SD>) -> (?a cssz-measure:prumerna-vyse-duchodu-v-kc <<8814.26__11444.72)_ef2_1/2>) | support: 19, headCoverage: 1.6911437472185136E-4, confidence: 0.15079365079365079, lift: 121.01190476190474, headConfidence: 0.0012461059190031153, headSize: 112350, bodySize: 126\n"
     ]
    },
    {
     "name": "stdout",
     "output_type": "stream",
     "text": [
      "(?c czso:prumernaMzda <<24832.5__25077.5)_es2_22/42>) ^ (?a cssz-dimension:pohlavi ?e) ^ (?c czso:sex ?e) ^ (?c czso:refPeriod ?d) ^ (?a cssz-dimension:refPeriod ?d) ^ (?c qb:dataSet <salaries-by-sex>) ^ (?c czso:refArea ?b) ^ (?a cssz-dimension:refArea ?b) ^ (?a cssz-dimension:druh-duchodu <https://data.cssz.cz/resource/pension-kind/PK_old_age_total_S_SI_SRN_ST_SD_2010>) ^ (?a qb:dataSet <pensions-by-region-by-sex-PK_old_age_total_S_SI_SRN_ST_SD>) -> (?a cssz-measure:prumerna-vyse-duchodu-v-kc <<11444.72__15557.61)_ef2_2/2>) | support: 1, headCoverage: 8.900756564307967E-6, confidence: 0.16666666666666666, lift: 133.75, headConfidence: 0.0012461059190031153, headSize: 112350, bodySize: 6\n",
      "(?c czso:medianMzdy <<22359.0__22418.5)_es2_25/42>) ^ (?a cssz-dimension:pohlavi ?e) ^ (?c czso:sex ?e) ^ (?c czso:refPeriod ?d) ^ (?a cssz-dimension:refPeriod ?d) ^ (?c qb:dataSet <salaries-by-sex>) ^ (?c czso:refArea ?b) ^ (?a cssz-dimension:refArea ?b) ^ (?a cssz-dimension:druh-duchodu <https://data.cssz.cz/resource/pension-kind/PK_old_age_total_S_SI_SRN_ST_SD_2010>) ^ (?a qb:dataSet <pensions-by-region-by-sex-PK_old_age_total_S_SI_SRN_ST_SD>) -> (?a cssz-measure:prumerna-vyse-duchodu-v-kc <<11444.72__15557.61)_ef2_2/2>) | support: 1, headCoverage: 8.900756564307967E-6, confidence: 0.16666666666666666, lift: 133.75, headConfidence: 0.0012461059190031153, headSize: 112350, bodySize: 6\n",
      "(?c czso:prumernaMzda <<25458.5__25638.0)_es1_25/42>) ^ (?a cssz-dimension:pohlavi ?e) ^ (?c czso:sex ?e) ^ (?c czso:refPeriod ?d) ^ (?a cssz-dimension:refPeriod ?d) ^ (?c qb:dataSet <salaries-by-sex>) ^ (?c czso:refArea ?b) ^ (?a cssz-dimension:refArea ?b) ^ (?a cssz-dimension:druh-duchodu <https://data.cssz.cz/resource/pension-kind/PK_old_age_total_S_SI_SRN_ST_SD_2010>) ^ (?a qb:dataSet <pensions-by-region-by-sex-PK_old_age_total_S_SI_SRN_ST_SD>) -> (?a cssz-measure:prumerna-vyse-duchodu-v-kc <<8814.26__11444.72)_ef2_1/2>) | support: 1, headCoverage: 8.900756564307967E-6, confidence: 0.16666666666666666, lift: 133.75, headConfidence: 0.0012461059190031153, headSize: 112350, bodySize: 6\n",
      "(?c czso:medianMzdy <<23044.0__23183.5)_es1_31/42>) ^ (?a cssz-dimension:pohlavi ?e) ^ (?c czso:sex ?e) ^ (?c czso:refPeriod ?d) ^ (?a cssz-dimension:refPeriod ?d) ^ (?c qb:dataSet <salaries-by-sex>) ^ (?c czso:refArea ?b) ^ (?a cssz-dimension:refArea ?b) ^ (?a cssz-dimension:druh-duchodu <https://data.cssz.cz/resource/pension-kind/PK_old_age_total_S_SI_SRN_ST_SD_2010>) ^ (?a qb:dataSet <pensions-by-region-by-sex-PK_old_age_total_S_SI_SRN_ST_SD>) -> (?a cssz-measure:prumerna-vyse-duchodu-v-kc <<11444.72__15557.61)_ef2_2/2>) | support: 2, headCoverage: 1.7801513128615933E-5, confidence: 0.3333333333333333, lift: 267.5, headConfidence: 0.0012461059190031153, headSize: 112350, bodySize: 6\n",
      "(?c czso:medianMzdy <<24267.0__31063.0)_es10_9/9>) ^ (?a cssz-dimension:pohlavi ?e) ^ (?c czso:sex ?e) ^ (?c czso:refPeriod ?d) ^ (?a cssz-dimension:refPeriod ?d) ^ (?c qb:dataSet <salaries-by-sex>) ^ (?c czso:refArea ?b) ^ (?a cssz-dimension:refArea ?b) ^ (?a cssz-dimension:druh-duchodu <https://data.cssz.cz/resource/pension-kind/PK_old_age_total_S_SI_SRN_ST_SD_2010>) ^ (?a qb:dataSet <pensions-by-region-by-sex-PK_old_age_total_S_SI_SRN_ST_SD>) -> (?a cssz-measure:prumerna-vyse-duchodu-v-kc <<8814.26__11444.72)_ef2_1/2>) | support: 6, headCoverage: 5.34045393858478E-5, confidence: 0.18181818181818182, lift: 145.9090909090909, headConfidence: 0.0012461059190031153, headSize: 112350, bodySize: 33\n",
      "(?c czso:prumernaMzda <<22087.5__25458.5)_ef7_4/7>) ^ (?a cssz-dimension:pohlavi ?e) ^ (?c czso:sex ?e) ^ (?c czso:refPeriod ?d) ^ (?a cssz-dimension:refPeriod ?d) ^ (?c qb:dataSet <salaries-by-sex>) ^ (?c czso:refArea ?b) ^ (?a cssz-dimension:refArea ?b) ^ (?a cssz-dimension:druh-duchodu <https://data.cssz.cz/resource/pension-kind/PK_old_age_total_S_SI_SRN_ST_SD_2010>) ^ (?a qb:dataSet <pensions-by-region-by-sex-PK_old_age_total_S_SI_SRN_ST_SD>) -> (?a cssz-measure:prumerna-vyse-duchodu-v-kc <<11444.72__15557.61)_ef2_2/2>) | support: 5, headCoverage: 4.4503782821539834E-5, confidence: 0.1388888888888889, lift: 111.45833333333333, headConfidence: 0.0012461059190031153, headSize: 112350, bodySize: 36\n",
      "(?c czso:prumernaMzda <<25077.5__25231.0)_es2_23/42>) ^ (?a cssz-dimension:pohlavi ?e) ^ (?c czso:sex ?e) ^ (?c czso:refPeriod ?d) ^ (?a cssz-dimension:refPeriod ?d) ^ (?c qb:dataSet <salaries-by-sex>) ^ (?c czso:refArea ?b) ^ (?a cssz-dimension:refArea ?b) ^ (?a cssz-dimension:druh-duchodu <https://data.cssz.cz/resource/pension-kind/PK_old_age_total_S_SI_SRN_ST_SD_2010>) ^ (?a qb:dataSet <pensions-by-region-by-sex-PK_old_age_total_S_SI_SRN_ST_SD>) -> (?a cssz-measure:prumerna-vyse-duchodu-v-kc <<8814.26__11444.72)_ef2_1/2>) | support: 1, headCoverage: 8.900756564307967E-6, confidence: 0.16666666666666666, lift: 133.75, headConfidence: 0.0012461059190031153, headSize: 112350, bodySize: 6\n",
      "(?c czso:prumernaMzda <<26143.5__26416.0)_es5_12/16>) ^ (?a cssz-dimension:pohlavi ?e) ^ (?c czso:sex ?e) ^ (?c czso:refPeriod ?d) ^ (?a cssz-dimension:refPeriod ?d) ^ (?c qb:dataSet <salaries-by-sex>) ^ (?c czso:refArea ?b) ^ (?a cssz-dimension:refArea ?b) ^ (?a cssz-dimension:druh-duchodu <https://data.cssz.cz/resource/pension-kind/PK_old_age_total_S_SI_SRN_ST_SD_2010>) ^ (?a qb:dataSet <pensions-by-region-by-sex-PK_old_age_total_S_SI_SRN_ST_SD>) -> (?a cssz-measure:prumerna-vyse-duchodu-v-kc <<11444.72__15557.61)_ef2_2/2>) | support: 3, headCoverage: 2.67022696929239E-5, confidence: 0.2, lift: 160.5, headConfidence: 0.0012461059190031153, headSize: 112350, bodySize: 15\n",
      "(?c czso:prumernaMzda <<26375.0__27860.0)_ef7_6/7>) ^ (?a cssz-dimension:pohlavi ?e) ^ (?c czso:sex ?e) ^ (?c czso:refPeriod ?d) ^ (?a cssz-dimension:refPeriod ?d) ^ (?c qb:dataSet <salaries-by-sex>) ^ (?c czso:refArea ?b) ^ (?a cssz-dimension:refArea ?b) ^ (?a cssz-dimension:druh-duchodu <https://data.cssz.cz/resource/pension-kind/PK_old_age_total_S_SI_SRN_ST_SD_2010>) ^ (?a qb:dataSet <pensions-by-region-by-sex-PK_old_age_total_S_SI_SRN_ST_SD>) -> (?a cssz-measure:prumerna-vyse-duchodu-v-kc <<11444.72__15557.61)_ef2_2/2>) | support: 6, headCoverage: 5.34045393858478E-5, confidence: 0.16666666666666666, lift: 133.75, headConfidence: 0.0012461059190031153, headSize: 112350, bodySize: 36\n",
      "(?c czso:medianMzdy <<18935.0__21972.5)_es20_2/4>) ^ (?a cssz-dimension:pohlavi ?e) ^ (?c czso:sex ?e) ^ (?c czso:refPeriod ?d) ^ (?a cssz-dimension:refPeriod ?d) ^ (?c qb:dataSet <salaries-by-sex>) ^ (?c czso:refArea ?b) ^ (?a cssz-dimension:refArea ?b) ^ (?a cssz-dimension:druh-duchodu <https://data.cssz.cz/resource/pension-kind/PK_old_age_total_S_SI_SRN_ST_SD_2010>) ^ (?a qb:dataSet <pensions-by-region-by-sex-PK_old_age_total_S_SI_SRN_ST_SD>) -> (?a cssz-measure:prumerna-vyse-duchodu-v-kc <<8814.26__11444.72)_ef2_1/2>) | support: 19, headCoverage: 1.6911437472185136E-4, confidence: 0.30158730158730157, lift: 242.0238095238095, headConfidence: 0.0012461059190031153, headSize: 112350, bodySize: 63\n",
      "(?c czso:prumernaMzda <<26561.0__26827.5)_es2_32/42>) ^ (?a cssz-dimension:pohlavi ?e) ^ (?c czso:sex ?e) ^ (?c czso:refPeriod ?d) ^ (?a cssz-dimension:refPeriod ?d) ^ (?c qb:dataSet <salaries-by-sex>) ^ (?c czso:refArea ?b) ^ (?a cssz-dimension:refArea ?b) ^ (?a cssz-dimension:druh-duchodu <https://data.cssz.cz/resource/pension-kind/PK_old_age_total_S_SI_SRN_ST_SD_2010>) ^ (?a qb:dataSet <pensions-by-region-by-sex-PK_old_age_total_S_SI_SRN_ST_SD>) -> (?a cssz-measure:prumerna-vyse-duchodu-v-kc <<8814.26__11444.72)_ef2_1/2>) | support: 1, headCoverage: 8.900756564307967E-6, confidence: 0.16666666666666666, lift: 133.75, headConfidence: 0.0012461059190031153, headSize: 112350, bodySize: 6\n"
     ]
    },
    {
     "name": "stdout",
     "output_type": "stream",
     "text": [
      "(?c czso:prumernaMzda <<21657.0__25592.5)_ef5_3/5>) ^ (?a cssz-dimension:pohlavi ?e) ^ (?c czso:sex ?e) ^ (?c czso:refPeriod ?d) ^ (?a cssz-dimension:refPeriod ?d) ^ (?c qb:dataSet <salaries-by-sex>) ^ (?c czso:refArea ?b) ^ (?a cssz-dimension:refArea ?b) ^ (?a cssz-dimension:druh-duchodu <https://data.cssz.cz/resource/pension-kind/PK_old_age_total_S_SI_SRN_ST_SD_2010>) ^ (?a qb:dataSet <pensions-by-region-by-sex-PK_old_age_total_S_SI_SRN_ST_SD>) -> (?a cssz-measure:prumerna-vyse-duchodu-v-kc <<11444.72__15557.61)_ef2_2/2>) | support: 6, headCoverage: 5.34045393858478E-5, confidence: 0.11764705882352941, lift: 94.41176470588235, headConfidence: 0.0012461059190031153, headSize: 112350, bodySize: 51\n",
      "(?c czso:prumernaMzda <<29381.0__41209.0)_es5_16/16>) ^ (?a cssz-dimension:pohlavi ?e) ^ (?c czso:sex ?e) ^ (?c czso:refPeriod ?d) ^ (?a cssz-dimension:refPeriod ?d) ^ (?c qb:dataSet <salaries-by-sex>) ^ (?c czso:refArea ?b) ^ (?a cssz-dimension:refArea ?b) ^ (?a cssz-dimension:druh-duchodu <https://data.cssz.cz/resource/pension-kind/PK_old_age_total_S_SI_SRN_ST_SD_2010>) ^ (?a qb:dataSet <pensions-by-region-by-sex-PK_old_age_total_S_SI_SRN_ST_SD>) -> (?a cssz-measure:prumerna-vyse-duchodu-v-kc <<11444.72__15557.61)_ef2_2/2>) | support: 3, headCoverage: 2.67022696929239E-5, confidence: 0.14285714285714285, lift: 114.64285714285714, headConfidence: 0.0012461059190031153, headSize: 112350, bodySize: 21\n",
      "(?c czso:prumernaMzda <<29037.0__29726.0)_es2_39/42>) ^ (?a cssz-dimension:pohlavi ?e) ^ (?c czso:sex ?e) ^ (?c czso:refPeriod ?d) ^ (?a cssz-dimension:refPeriod ?d) ^ (?c qb:dataSet <salaries-by-sex>) ^ (?c czso:refArea ?b) ^ (?a cssz-dimension:refArea ?b) ^ (?a cssz-dimension:druh-duchodu <https://data.cssz.cz/resource/pension-kind/PK_old_age_total_S_SI_SRN_ST_SD_2010>) ^ (?a qb:dataSet <pensions-by-region-by-sex-PK_old_age_total_S_SI_SRN_ST_SD>) -> (?a cssz-measure:prumerna-vyse-duchodu-v-kc <<11444.72__15557.61)_ef2_2/2>) | support: 1, headCoverage: 8.900756564307967E-6, confidence: 0.16666666666666666, lift: 133.75, headConfidence: 0.0012461059190031153, headSize: 112350, bodySize: 6\n",
      "(?c czso:prumernaMzda <<24011.5__24832.5)_es1_21/42>) ^ (?a cssz-dimension:pohlavi ?e) ^ (?c czso:sex ?e) ^ (?c czso:refPeriod ?d) ^ (?a cssz-dimension:refPeriod ?d) ^ (?c qb:dataSet <salaries-by-sex>) ^ (?c czso:refArea ?b) ^ (?a cssz-dimension:refArea ?b) ^ (?a cssz-dimension:druh-duchodu <https://data.cssz.cz/resource/pension-kind/PK_old_age_total_S_SI_SRN_ST_SD_2010>) ^ (?a qb:dataSet <pensions-by-region-by-sex-PK_old_age_total_S_SI_SRN_ST_SD>) -> (?a cssz-measure:prumerna-vyse-duchodu-v-kc <<11444.72__15557.61)_ef2_2/2>) | support: 1, headCoverage: 8.900756564307967E-6, confidence: 0.16666666666666666, lift: 133.75, headConfidence: 0.0012461059190031153, headSize: 112350, bodySize: 6\n",
      "(?c czso:medianMzdy <<17362.0__22117.0)_ef2_1/2>) ^ (?a cssz-dimension:pohlavi ?e) ^ (?c czso:sex ?e) ^ (?c czso:refPeriod ?d) ^ (?a cssz-dimension:refPeriod ?d) ^ (?c qb:dataSet <salaries-by-sex>) ^ (?c czso:refArea ?b) ^ (?a cssz-dimension:refArea ?b) ^ (?a cssz-dimension:druh-duchodu <https://data.cssz.cz/resource/pension-kind/PK_old_age_total_S_SI_SRN_ST_SD_2010>) ^ (?a qb:dataSet <pensions-by-region-by-sex-PK_old_age_total_S_SI_SRN_ST_SD>) -> (?a cssz-measure:prumerna-vyse-duchodu-v-kc <<8814.26__11444.72)_ef2_1/2>) | support: 39, headCoverage: 3.4712950600801067E-4, confidence: 0.30952380952380953, lift: 248.39285714285714, headConfidence: 0.0012461059190031153, headSize: 112350, bodySize: 126\n",
      "(?c czso:medianMzdy <<23986.0__24157.5)_es1_36/42>) ^ (?a cssz-dimension:pohlavi ?e) ^ (?c czso:sex ?e) ^ (?c czso:refPeriod ?d) ^ (?a cssz-dimension:refPeriod ?d) ^ (?c qb:dataSet <salaries-by-sex>) ^ (?c czso:refArea ?b) ^ (?a cssz-dimension:refArea ?b) ^ (?a cssz-dimension:druh-duchodu <https://data.cssz.cz/resource/pension-kind/PK_old_age_total_S_SI_SRN_ST_SD_2010>) ^ (?a qb:dataSet <pensions-by-region-by-sex-PK_old_age_total_S_SI_SRN_ST_SD>) -> (?a cssz-measure:prumerna-vyse-duchodu-v-kc <<11444.72__15557.61)_ef2_2/2>) | support: 2, headCoverage: 1.7801513128615933E-5, confidence: 0.3333333333333333, lift: 267.5, headConfidence: 0.0012461059190031153, headSize: 112350, bodySize: 6\n",
      "(?c czso:medianMzdy <<20062.5__21512.5)_es5_8/16>) ^ (?a cssz-dimension:pohlavi ?e) ^ (?c czso:sex ?e) ^ (?c czso:refPeriod ?d) ^ (?a cssz-dimension:refPeriod ?d) ^ (?c qb:dataSet <salaries-by-sex>) ^ (?c czso:refArea ?b) ^ (?a cssz-dimension:refArea ?b) ^ (?a cssz-dimension:druh-duchodu <https://data.cssz.cz/resource/pension-kind/PK_old_age_total_S_SI_SRN_ST_SD_2010>) ^ (?a qb:dataSet <pensions-by-region-by-sex-PK_old_age_total_S_SI_SRN_ST_SD>) -> (?a cssz-measure:prumerna-vyse-duchodu-v-kc <<11444.72__15557.61)_ef2_2/2>) | support: 1, headCoverage: 8.900756564307967E-6, confidence: 0.06666666666666667, lift: 53.5, headConfidence: 0.0012461059190031153, headSize: 112350, bodySize: 15\n",
      "(?c czso:medianMzdy <<22846.5__22911.5)_es1_29/42>) ^ (?a cssz-dimension:pohlavi ?e) ^ (?c czso:sex ?e) ^ (?c czso:refPeriod ?d) ^ (?a cssz-dimension:refPeriod ?d) ^ (?c qb:dataSet <salaries-by-sex>) ^ (?c czso:refArea ?b) ^ (?a cssz-dimension:refArea ?b) ^ (?a cssz-dimension:druh-duchodu <https://data.cssz.cz/resource/pension-kind/PK_old_age_total_S_SI_SRN_ST_SD_2010>) ^ (?a qb:dataSet <pensions-by-region-by-sex-PK_old_age_total_S_SI_SRN_ST_SD>) -> (?a cssz-measure:prumerna-vyse-duchodu-v-kc <<8814.26__11444.72)_ef2_1/2>) | support: 1, headCoverage: 8.900756564307967E-6, confidence: 0.16666666666666666, lift: 133.75, headConfidence: 0.0012461059190031153, headSize: 112350, bodySize: 6\n",
      "(?c czso:prumernaMzda <<25458.5__26375.0)_ef7_5/7>) ^ (?a cssz-dimension:pohlavi ?e) ^ (?c czso:sex ?e) ^ (?c czso:refPeriod ?d) ^ (?a cssz-dimension:refPeriod ?d) ^ (?c qb:dataSet <salaries-by-sex>) ^ (?c czso:refArea ?b) ^ (?a cssz-dimension:refArea ?b) ^ (?a cssz-dimension:druh-duchodu <https://data.cssz.cz/resource/pension-kind/PK_old_age_total_S_SI_SRN_ST_SD_2010>) ^ (?a qb:dataSet <pensions-by-region-by-sex-PK_old_age_total_S_SI_SRN_ST_SD>) -> (?a cssz-measure:prumerna-vyse-duchodu-v-kc <<11444.72__15557.61)_ef2_2/2>) | support: 9, headCoverage: 8.01068090787717E-5, confidence: 0.25, lift: 200.625, headConfidence: 0.0012461059190031153, headSize: 112350, bodySize: 36\n",
      "(?c czso:prumernaMzda <<26248.0__26375.0)_es2_30/42>) ^ (?a cssz-dimension:pohlavi ?e) ^ (?c czso:sex ?e) ^ (?c czso:refPeriod ?d) ^ (?a cssz-dimension:refPeriod ?d) ^ (?c qb:dataSet <salaries-by-sex>) ^ (?c czso:refArea ?b) ^ (?a cssz-dimension:refArea ?b) ^ (?a cssz-dimension:druh-duchodu <https://data.cssz.cz/resource/pension-kind/PK_old_age_total_S_SI_SRN_ST_SD_2010>) ^ (?a qb:dataSet <pensions-by-region-by-sex-PK_old_age_total_S_SI_SRN_ST_SD>) -> (?a cssz-measure:prumerna-vyse-duchodu-v-kc <<11444.72__15557.61)_ef2_2/2>) | support: 2, headCoverage: 1.7801513128615933E-5, confidence: 0.3333333333333333, lift: 267.5, headConfidence: 0.0012461059190031153, headSize: 112350, bodySize: 6\n",
      "(?c czso:prumernaMzda <<25231.0__25458.5)_es1_24/42>) ^ (?a cssz-dimension:pohlavi ?e) ^ (?c czso:sex ?e) ^ (?c czso:refPeriod ?d) ^ (?a cssz-dimension:refPeriod ?d) ^ (?c qb:dataSet <salaries-by-sex>) ^ (?c czso:refArea ?b) ^ (?a cssz-dimension:refArea ?b) ^ (?a cssz-dimension:druh-duchodu <https://data.cssz.cz/resource/pension-kind/PK_old_age_total_S_SI_SRN_ST_SD_2010>) ^ (?a qb:dataSet <pensions-by-region-by-sex-PK_old_age_total_S_SI_SRN_ST_SD>) -> (?a cssz-measure:prumerna-vyse-duchodu-v-kc <<11444.72__15557.61)_ef2_2/2>) | support: 1, headCoverage: 8.900756564307967E-6, confidence: 0.16666666666666666, lift: 133.75, headConfidence: 0.0012461059190031153, headSize: 112350, bodySize: 6\n"
     ]
    },
    {
     "name": "stdout",
     "output_type": "stream",
     "text": [
      "(?c czso:medianMzdy <<22418.5__22806.5)_es5_11/16>) ^ (?a cssz-dimension:pohlavi ?e) ^ (?c czso:sex ?e) ^ (?c czso:refPeriod ?d) ^ (?a cssz-dimension:refPeriod ?d) ^ (?c qb:dataSet <salaries-by-sex>) ^ (?c czso:refArea ?b) ^ (?a cssz-dimension:refArea ?b) ^ (?a cssz-dimension:druh-duchodu <https://data.cssz.cz/resource/pension-kind/PK_old_age_total_S_SI_SRN_ST_SD_2010>) ^ (?a qb:dataSet <pensions-by-region-by-sex-PK_old_age_total_S_SI_SRN_ST_SD>) -> (?a cssz-measure:prumerna-vyse-duchodu-v-kc <<11444.72__15557.61)_ef2_2/2>) | support: 3, headCoverage: 2.67022696929239E-5, confidence: 0.2, lift: 160.5, headConfidence: 0.0012461059190031153, headSize: 112350, bodySize: 15\n",
      "(?c czso:medianMzdy <<22180.0__22287.0)_es2_23/42>) ^ (?a cssz-dimension:pohlavi ?e) ^ (?c czso:sex ?e) ^ (?c czso:refPeriod ?d) ^ (?a cssz-dimension:refPeriod ?d) ^ (?c qb:dataSet <salaries-by-sex>) ^ (?c czso:refArea ?b) ^ (?a cssz-dimension:refArea ?b) ^ (?a cssz-dimension:druh-duchodu <https://data.cssz.cz/resource/pension-kind/PK_old_age_total_S_SI_SRN_ST_SD_2010>) ^ (?a qb:dataSet <pensions-by-region-by-sex-PK_old_age_total_S_SI_SRN_ST_SD>) -> (?a cssz-measure:prumerna-vyse-duchodu-v-kc <<11444.72__15557.61)_ef2_2/2>) | support: 1, headCoverage: 8.900756564307967E-6, confidence: 0.16666666666666666, lift: 133.75, headConfidence: 0.0012461059190031153, headSize: 112350, bodySize: 6\n",
      "(?c czso:prumernaMzda <<21266.0__21657.0)_es1_16/42>) ^ (?a cssz-dimension:pohlavi ?e) ^ (?c czso:sex ?e) ^ (?c czso:refPeriod ?d) ^ (?a cssz-dimension:refPeriod ?d) ^ (?c qb:dataSet <salaries-by-sex>) ^ (?c czso:refArea ?b) ^ (?a cssz-dimension:refArea ?b) ^ (?a cssz-dimension:druh-duchodu <https://data.cssz.cz/resource/pension-kind/PK_old_age_total_S_SI_SRN_ST_SD_2010>) ^ (?a qb:dataSet <pensions-by-region-by-sex-PK_old_age_total_S_SI_SRN_ST_SD>) -> (?a cssz-measure:prumerna-vyse-duchodu-v-kc <<8814.26__11444.72)_ef2_1/2>) | support: 2, headCoverage: 1.7801513128615933E-5, confidence: 0.3333333333333333, lift: 267.5, headConfidence: 0.0012461059190031153, headSize: 112350, bodySize: 6\n",
      "(?c czso:prumernaMzda <<25458.5__25638.0)_es2_25/42>) ^ (?a cssz-dimension:pohlavi ?e) ^ (?c czso:sex ?e) ^ (?c czso:refPeriod ?d) ^ (?a cssz-dimension:refPeriod ?d) ^ (?c qb:dataSet <salaries-by-sex>) ^ (?c czso:refArea ?b) ^ (?a cssz-dimension:refArea ?b) ^ (?a cssz-dimension:druh-duchodu <https://data.cssz.cz/resource/pension-kind/PK_old_age_total_S_SI_SRN_ST_SD_2010>) ^ (?a qb:dataSet <pensions-by-region-by-sex-PK_old_age_total_S_SI_SRN_ST_SD>) -> (?a cssz-measure:prumerna-vyse-duchodu-v-kc <<8814.26__11444.72)_ef2_1/2>) | support: 1, headCoverage: 8.900756564307967E-6, confidence: 0.16666666666666666, lift: 133.75, headConfidence: 0.0012461059190031153, headSize: 112350, bodySize: 6\n",
      "(?c czso:prumernaMzda <<19274.0__19869.5)_es10_1/9>) ^ (?a cssz-dimension:pohlavi ?e) ^ (?c czso:sex ?e) ^ (?c czso:refPeriod ?d) ^ (?a cssz-dimension:refPeriod ?d) ^ (?c qb:dataSet <salaries-by-sex>) ^ (?c czso:refArea ?b) ^ (?a cssz-dimension:refArea ?b) ^ (?a cssz-dimension:druh-duchodu <https://data.cssz.cz/resource/pension-kind/PK_old_age_total_S_SI_SRN_ST_SD_2010>) ^ (?a qb:dataSet <pensions-by-region-by-sex-PK_old_age_total_S_SI_SRN_ST_SD>) -> (?a cssz-measure:prumerna-vyse-duchodu-v-kc <<8814.26__11444.72)_ef2_1/2>) | support: 9, headCoverage: 8.01068090787717E-5, confidence: 0.3333333333333333, lift: 267.5, headConfidence: 0.0012461059190031153, headSize: 112350, bodySize: 27\n"
     ]
    }
   ],
   "source": [
    "oldAgeBySexPatternTaskRuleset\n",
    "//.filter(rule => rule.measures(Measure.Support).value > 15)\n",
    ".computeLift(0.0)\n",
    "//.computeLift()\n",
    "//.filter(rule => rule.measures(Measure.Lift).value > 1)\n",
    "//.size\n",
    "//.makeClusters(DbScan(minNeighbours = 3, minSimilarity = 0.99))\n",
    "//.size\n",
    ".foreach(println)"
   ]
  },
  {
   "cell_type": "code",
   "execution_count": 25,
   "metadata": {},
   "outputs": [],
   "source": [
    "// wikidata + pensions + salaries"
   ]
  },
  {
   "cell_type": "code",
   "execution_count": 26,
   "metadata": {},
   "outputs": [
    {
     "data": {
      "text/plain": [
       "\u001b[36mwikidataCZSORefAreaLinking\u001b[39m: \u001b[32mDataset\u001b[39m = com.github.propi.rdfrules.data.Dataset@63ca844b\n",
       "\u001b[36mres25_1\u001b[39m: \u001b[32mInt\u001b[39m = \u001b[32m90\u001b[39m"
      ]
     },
     "execution_count": 26,
     "metadata": {},
     "output_type": "execute_result"
    }
   ],
   "source": [
    "val wikidataCZSORefAreaLinking = Dataset(\"../data/linking/czsoWikidataLinking.ttl\")\n",
    "wikidataCZSORefAreaLinking.size"
   ]
  },
  {
   "cell_type": "code",
   "execution_count": 27,
   "metadata": {},
   "outputs": [
    {
     "data": {
      "text/plain": [
       "\u001b[36mwikidataCSSARefAreaLinking\u001b[39m: \u001b[32mDataset\u001b[39m = com.github.propi.rdfrules.data.Dataset@65726735\n",
       "\u001b[36mres26_1\u001b[39m: \u001b[32mInt\u001b[39m = \u001b[32m90\u001b[39m"
      ]
     },
     "execution_count": 27,
     "metadata": {},
     "output_type": "execute_result"
    }
   ],
   "source": [
    "val wikidataCSSARefAreaLinking = Dataset(\"../data/linking/cssaWikidataLinking.ttl\")\n",
    "wikidataCSSARefAreaLinking.size"
   ]
  },
  {
   "cell_type": "code",
   "execution_count": 28,
   "metadata": {},
   "outputs": [
    {
     "data": {
      "text/plain": [
       "\u001b[36mwikidata\u001b[39m: \u001b[32mDataset\u001b[39m = com.github.propi.rdfrules.data.Dataset@4d155e89"
      ]
     },
     "execution_count": 28,
     "metadata": {},
     "output_type": "execute_result"
    }
   ],
   "source": [
    "val wikidata = Dataset.fromCache(\"../cache/wikidata.cache\")"
   ]
  },
  {
   "cell_type": "code",
   "execution_count": 29,
   "metadata": {},
   "outputs": [
    {
     "data": {
      "text/plain": [
       "\u001b[36mwikidataAddedDataset\u001b[39m: \u001b[32mDataset\u001b[39m = com.github.propi.rdfrules.data.Dataset@241be138\n",
       "\u001b[36mres28_1\u001b[39m: \u001b[32mInt\u001b[39m = \u001b[32m2724068\u001b[39m"
      ]
     },
     "execution_count": 29,
     "metadata": {},
     "output_type": "execute_result"
    }
   ],
   "source": [
    "val wikidataAddedDataset = pensionsDataset + salariesDataset + refPeriodLinking + refAreaLinking + sexLinking + wikidata + wikidataCZSORefAreaLinking + wikidataCSSARefAreaLinking\n",
    "wikidataAddedDataset.size"
   ]
  },
  {
   "cell_type": "code",
   "execution_count": 30,
   "metadata": {},
   "outputs": [
    {
     "data": {
      "text/plain": [
       "\u001b[36mwikidataAddedIndex\u001b[39m: \u001b[32mIndex\u001b[39m = com.github.propi.rdfrules.index.Index$FromDatasetFullyPreservedIndex@1eaaf028"
      ]
     },
     "execution_count": 30,
     "metadata": {},
     "output_type": "execute_result"
    }
   ],
   "source": [
    "val wikidataAddedIndex = wikidataAddedDataset.index()"
   ]
  },
  {
   "cell_type": "code",
   "execution_count": 31,
   "metadata": {},
   "outputs": [
    {
     "data": {
      "text/plain": [
       "\u001b[36mappliesTo\u001b[39m: \u001b[32mTripleItem\u001b[39m.\u001b[32mUri\u001b[39m = \u001b[33mLongUri\u001b[39m(\n",
       "  \u001b[32m\"http://kizi.vse.cz/novp19/diploma-thesis/appliesToRefPeriod\"\u001b[39m\n",
       ")\n",
       "\u001b[36mwdProperty\u001b[39m: \u001b[32mInt\u001b[39m => \u001b[32mTripleItem\u001b[39m.\u001b[32mUri\u001b[39m = ammonite.$sess.cmd30$Helper$$Lambda$3508/0x0000000840f57040@5ce21c44\n",
       "\u001b[36mczURI\u001b[39m: \u001b[32mTripleItem\u001b[39m.\u001b[32mUri\u001b[39m = \u001b[33mLongUri\u001b[39m(\u001b[32m\"http://www.wikidata.org/entity/Q213\"\u001b[39m)"
      ]
     },
     "execution_count": 31,
     "metadata": {},
     "output_type": "execute_result"
    }
   ],
   "source": [
    "val appliesTo = uri(\"http://kizi.vse.cz/novp19/diploma-thesis/appliesToRefPeriod\")\n",
    "val wdProperty = (value: Int) => uri(\"http://www.wikidata.org/prop/P\" + value)\n",
    "val czURI = uri(\"http://www.wikidata.org/entity/Q213\")"
   ]
  },
  {
   "cell_type": "code",
   "execution_count": 32,
   "metadata": {},
   "outputs": [
    {
     "data": {
      "text/plain": [
       "\u001b[36mwikiDataOldAgeTotalPattern\u001b[39m: \u001b[32mRulePattern\u001b[39m = \u001b[33mRulePattern\u001b[39m(\n",
       "  \u001b[33mVector\u001b[39m(\n",
       "    \u001b[33mAtomPattern\u001b[39m(\n",
       "      Any,\n",
       "      \u001b[33mConstant\u001b[39m(\u001b[33mLongUri\u001b[39m(\u001b[32m\"http://www.wikidata.org/prop/P6\"\u001b[39m)),\n",
       "      \u001b[33mVariable\u001b[39m(\u001b[33mVariable\u001b[39m(\u001b[32m6\u001b[39m)),\n",
       "      Any\n",
       "    ),\n",
       "    \u001b[33mAtomPattern\u001b[39m(\n",
       "      \u001b[33mVariable\u001b[39m(\u001b[33mVariable\u001b[39m(\u001b[32m6\u001b[39m)),\n",
       "      \u001b[33mConstant\u001b[39m(\u001b[33mLongUri\u001b[39m(\u001b[32m\"http://www.wikidata.org/prop/P6\"\u001b[39m)),\n",
       "      \u001b[33mVariable\u001b[39m(\u001b[33mVariable\u001b[39m(\u001b[32m5\u001b[39m)),\n",
       "      Any\n",
       "    ),\n",
       "    \u001b[33mAtomPattern\u001b[39m(\n",
       "      \u001b[33mVariable\u001b[39m(\u001b[33mVariable\u001b[39m(\u001b[32m5\u001b[39m)),\n",
       "      \u001b[33mConstant\u001b[39m(\u001b[33mLongUri\u001b[39m(\u001b[32m\"http://www.wikidata.org/prop/P102\"\u001b[39m)),\n",
       "      \u001b[33mVariable\u001b[39m(\u001b[33mVariable\u001b[39m(\u001b[32m4\u001b[39m)),\n",
       "      Any\n",
       "    ),\n",
       "    \u001b[33mAtomPattern\u001b[39m(\n",
       "      \u001b[33mVariable\u001b[39m(\u001b[33mVariable\u001b[39m(\u001b[32m4\u001b[39m)),\n",
       "      \u001b[33mConstant\u001b[39m(\u001b[33mLongUri\u001b[39m(\u001b[32m\"http://www.wikidata.org/prop/P102\"\u001b[39m)),\n",
       "      AnyConstant,\n",
       "      Any\n",
       "    ),\n",
       "    \u001b[33mAtomPattern\u001b[39m(\n",
       "      \u001b[33mVariable\u001b[39m(\u001b[33mVariable\u001b[39m(\u001b[32m4\u001b[39m)),\n",
       "      \u001b[33mConstant\u001b[39m(\n",
       "        \u001b[33mLongUri\u001b[39m(\u001b[32m\"http://kizi.vse.cz/novp19/diploma-thesis/appliesToRefPeriod\"\u001b[39m)\n",
       "      ),\n",
       "      \u001b[33mVariable\u001b[39m(\u001b[33mVariable\u001b[39m(\u001b[32m3\u001b[39m)),\n",
       "      Any\n",
       "    ),\n",
       "    \u001b[33mAtomPattern\u001b[39m(\n",
       "      \u001b[33mVariable\u001b[39m(\u001b[33mVariable\u001b[39m(\u001b[32m2\u001b[39m)),\n",
       "      \u001b[33mOneOf\u001b[39m(\n",
       "        \u001b[33mArrayBuffer\u001b[39m(\n",
       "          \u001b[33mConstant\u001b[39m(\u001b[33mLongUri\u001b[39m(\u001b[32m\"http://data.czso.cz/ontology/prumernaMzda\"\u001b[39m)),\n",
       "..."
      ]
     },
     "execution_count": 32,
     "metadata": {},
     "output_type": "execute_result"
    }
   ],
   "source": [
    "val wikiDataOldAgeTotalPattern: RulePattern = (\n",
    "    \n",
    "    AtomPattern( predicate = wdProperty(6), `object` = 'g') &:\n",
    "    AtomPattern(subject = 'g', predicate = wdProperty(6), `object` = 'f') &:\n",
    "    AtomPattern(subject = 'f', predicate = wdProperty(102), `object` = 'e') &:  \n",
    "    AtomPattern(subject = 'e', predicate = wdProperty(102), `object` = AnyConstant) &:\n",
    "    AtomPattern(subject = 'e', predicate = appliesTo, `object` = 'd') &:\n",
    "    \n",
    "    AtomPattern(subject = 'c', predicate = oneOfSalariesMeasures, `object` = AnyConstant) &:\n",
    "    AtomPattern(subject = 'c', predicate = czsoRefPeriod, `object` = 'd') &:\n",
    "    AtomPattern(subject = 'a', predicate = cssaRefPeriod, `object` = 'd') &:\n",
    "    AtomPattern(subject = 'c', predicate = qbDataSet, `object` = salariesTotal) &:\n",
    "    AtomPattern(subject = 'c', predicate = czsoRefArea, `object` = 'b') &:\n",
    "    AtomPattern(subject = 'a', predicate = cssaRefArea, `object` = 'b') &:\n",
    "    AtomPattern(subject = 'a', predicate = cssaPensionKind, `object` = oldAgeTotal) &:\n",
    "    AtomPattern(subject = 'a', predicate = qbDataSet, `object` = regionTotalOldAgeTotal)\n",
    "    =>:\n",
    "    AtomPattern(subject = 'a', predicate = averagePensionAmount)\n",
    ")"
   ]
  },
  {
   "cell_type": "code",
   "execution_count": 33,
   "metadata": {},
   "outputs": [
    {
     "data": {
      "text/plain": [
       "\u001b[36mwikiDataOldAgeTotalPatternTask\u001b[39m: \u001b[32mcom\u001b[39m.\u001b[32mgithub\u001b[39m.\u001b[32mpropi\u001b[39m.\u001b[32mrdfrules\u001b[39m.\u001b[32malgorithm\u001b[39m.\u001b[32mRulesMining\u001b[39m = com.github.propi.rdfrules.algorithm.amie.Amie@12324bdd"
      ]
     },
     "execution_count": 33,
     "metadata": {},
     "output_type": "execute_result"
    }
   ],
   "source": [
    "val wikiDataOldAgeTotalPatternTask = Amie()\n",
    "    .addThreshold(Threshold.MinSupport(1))\n",
    "    .addThreshold(Threshold.MaxRuleLength(14))\n",
    "    .addThreshold(Threshold.MinHeadSize(0))\n",
    "    .addThreshold(Threshold.Timeout(10))\n",
    "    //.addConstraint(constantsOnlyAtObject)\n",
    "    .addPattern(wikiDataOldAgeTotalPattern)"
   ]
  },
  {
   "cell_type": "code",
   "execution_count": null,
   "metadata": {},
   "outputs": [],
   "source": [
    "wikidataAddedIndex.cache(\"../cache/wikidataAddedIndex.cache\")"
   ]
  },
  {
   "cell_type": "code",
   "execution_count": null,
   "metadata": {},
   "outputs": [],
   "source": [
    "val wikiDataOldAgeTotalPatternTaskRuleset = wikidataAddedIndex.mine(wikiDataOldAgeTotalPatternTask)\n",
    "println(wikiDataOldAgeTotalPatternTaskRuleset.size)"
   ]
  },
  {
   "cell_type": "code",
   "execution_count": null,
   "metadata": {},
   "outputs": [],
   "source": [
    "wikiDataOldAgeTotalPatternTaskRuleset.slice(0, 5).foreach(println)"
   ]
  }
 ],
 "metadata": {
  "kernelspec": {
   "display_name": "Scala",
   "language": "scala",
   "name": "scala"
  },
  "language_info": {
   "codemirror_mode": "text/x-scala",
   "file_extension": ".sc",
   "mimetype": "text/x-scala",
   "name": "scala",
   "nbconvert_exporter": "script",
   "version": "2.12.8"
  }
 },
 "nbformat": 4,
 "nbformat_minor": 4
}
