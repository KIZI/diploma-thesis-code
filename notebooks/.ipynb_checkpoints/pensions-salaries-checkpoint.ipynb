{
 "cells": [
  {
   "cell_type": "code",
   "execution_count": 1,
   "metadata": {},
   "outputs": [],
   "source": [
    "kernel.silent(true)"
   ]
  },
  {
   "cell_type": "code",
   "execution_count": 2,
   "metadata": {},
   "outputs": [],
   "source": [
    "import coursierapi.MavenRepository\n",
    "interp.repositories() ++= Seq(MavenRepository.of(\"https://jitpack.io\"))"
   ]
  },
  {
   "cell_type": "code",
   "execution_count": 3,
   "metadata": {},
   "outputs": [],
   "source": [
    "import $ivy.`com.github.propi:rdfrules:1.5.0`\n",
    "import collection._\n",
    "import org.apache.jena.riot.Lang\n",
    "\n",
    "import com.github.propi.rdfrules.data._\n",
    "import com.github.propi.rdfrules.algorithm.amie._\n",
    "import com.github.propi.rdfrules.algorithm.dbscan._\n",
    "import com.github.propi.rdfrules.utils._\n",
    "import com.github.propi.rdfrules.index._\n",
    "import com.github.propi.rdfrules.rule._\n",
    "import com.github.propi.rdfrules.ruleset._\n",
    "kernel.silent(false)"
   ]
  },
  {
   "cell_type": "markdown",
   "metadata": {},
   "source": [
    "# Pensions"
   ]
  },
  {
   "cell_type": "code",
   "execution_count": 4,
   "metadata": {},
   "outputs": [
    {
     "data": {
      "text/plain": [
       "\u001b[32mimport \u001b[39m\u001b[36mreflect.io._, Path._\n",
       "\u001b[39m\n",
       "\u001b[32mimport \u001b[39m\u001b[36mreflect.io._\n",
       "\u001b[39m\n",
       "\u001b[32mimport \u001b[39m\u001b[36mPath._\u001b[39m"
      ]
     },
     "execution_count": 4,
     "metadata": {},
     "output_type": "execute_result"
    }
   ],
   "source": [
    "import reflect.io._, Path._\n",
    "import reflect.io._\n",
    "import Path._"
   ]
  },
  {
   "cell_type": "code",
   "execution_count": 5,
   "metadata": {},
   "outputs": [
    {
     "data": {
      "text/plain": [
       "\u001b[36muri\u001b[39m: \u001b[32mString\u001b[39m => \u001b[32mTripleItem\u001b[39m.\u001b[32mUri\u001b[39m = ammonite.$sess.cmd4$Helper$$Lambda$2805/0x0000000840c6f040@700519ad\n",
       "\u001b[36mqbDataSet\u001b[39m: \u001b[32mString\u001b[39m = \u001b[32m\"http://purl.org/linked-data/cube#dataSet\"\u001b[39m"
      ]
     },
     "execution_count": 5,
     "metadata": {},
     "output_type": "execute_result"
    }
   ],
   "source": [
    "val uri = (value: String) => TripleItem.Uri(value)\n",
    "val qbDataSet = \"http://purl.org/linked-data/cube#dataSet\""
   ]
  },
  {
   "cell_type": "code",
   "execution_count": 6,
   "metadata": {},
   "outputs": [
    {
     "data": {
      "text/plain": [
       "\u001b[36mgraphs\u001b[39m: \u001b[32mIterator\u001b[39m[\u001b[32mString\u001b[39m] = \u001b[32mnon-empty iterator\u001b[39m"
      ]
     },
     "execution_count": 6,
     "metadata": {},
     "output_type": "execute_result"
    }
   ],
   "source": [
    "val graphs = \"../data/pensions\".toDirectory.files.map(_.path).filter(g => g matches \"\"\".*\\.ttl\"\"\")"
   ]
  },
  {
   "cell_type": "code",
   "execution_count": 7,
   "metadata": {},
   "outputs": [
    {
     "data": {
      "text/html": [
       "<div class=\"jp-RenderedText\">\n",
       "<pre><code><span style=\"color: rgb(0, 187, 187)\"><span class=\"ansi-cyan-fg\">pensionsCubesMap</span></span>: <span style=\"color: rgb(0, 187, 0)\"><span class=\"ansi-green-fg\">Map</span></span>[<span style=\"color: rgb(0, 187, 0)\"><span class=\"ansi-green-fg\">String</span></span>, <span style=\"color: rgb(0, 187, 0)\"><span class=\"ansi-green-fg\">Graph</span></span>] = <span style=\"color: yellow\"><span class=\"ansi-yellow-fg\">Map</span></span>(\n",
       "  <span style=\"color: rgb(0, 187, 0)\"><span class=\"ansi-green-fg\">&quot;pensions-total-by-sex-PK_D&quot;</span></span> -&gt; com.github.propi.rdfrules.data.Graph@c671eec,\n",
       "  <span style=\"color: rgb(0, 187, 0)\"><span class=\"ansi-green-fg\">&quot;pensions-total-total-PK_V&quot;</span></span> -&gt; com.github.propi.rdfrules.data.Graph@36c90ee9,\n",
       "  <span style=\"color: rgb(0, 187, 0)\"><span class=\"ansi-green-fg\">&quot;pensions-by-district-by-sex-PK_ITVM&quot;</span></span> -&gt; com.github.propi.rdfrules.data.Graph@383e1d54,\n",
       "  <span style=\"color: rgb(0, 187, 0)\"><span class=\"ansi-green-fg\">&quot;pensions-by-region-total-PK_ITV&quot;</span></span> -&gt; com.github.propi.rdfrules.data.Graph@38089f31,\n",
       "  <span style=\"color: rgb(0, 187, 0)\"><span class=\"ansi-green-fg\">&quot;pensions-total-total-PK_SIV&quot;</span></span> -&gt; com.github.propi.rdfrules.data.Graph@6cf62e94,\n",
       "  <span style=\"color: rgb(0, 187, 0)\"><span class=\"ansi-green-fg\">&quot;pensions-total-by-sex-PK_IDVM&quot;</span></span> -&gt; com.github.propi.rdfrules.data.Graph@12b6cba5,\n",
       "  <span style=\"color: rgb(0, 187, 0)\"><span class=\"ansi-green-fg\">&quot;pensions-total-by-sex-PK_V_total&quot;</span></span> -&gt; com.github.propi.rdfrules.data.Graph@5a2aa01a,\n",
       "  <span style=\"color: rgb(0, 187, 0)\"><span class=\"ansi-green-fg\">&quot;pensions-by-district-total-PK_old_age_total_S_SI_SRN_ST_SD&quot;</span></span> -&gt; com.github.propi.rdfrules.data.Graph@26a74d79,\n",
       "  <span style=\"color: rgb(0, 187, 0)\"><span class=\"ansi-green-fg\">&quot;pensions-by-district-by-sex-PK_IP&quot;</span></span> -&gt; com.github.propi.rdfrules.data.Graph@7b7845b7,\n",
       "  <span style=\"color: rgb(0, 187, 0)\"><span class=\"ansi-green-fg\">&quot;pensions-by-district-by-sex-PK_SV&quot;</span></span> -&gt; com.github.propi.rdfrules.data.Graph@5f37429e,\n",
       "  <span style=\"color: rgb(0, 187, 0)\"><span class=\"ansi-green-fg\">&quot;pensions-by-region-by-sex-PK_SI&quot;</span></span> -&gt; com.github.propi.rdfrules.data.Graph@50120312,\n",
       "  <span style=\"color: rgb(0, 187, 0)\"><span class=\"ansi-green-fg\">&quot;pensions-total-by-sex-PK_VM_total&quot;</span></span> -&gt; com.github.propi.rdfrules.data.Graph@4cc250ec,\n",
       "  <span style=\"color: rgb(0, 187, 0)\"><span class=\"ansi-green-fg\">&quot;pensions-by-district-total-PK_STV&quot;</span></span> -&gt; com.github.propi.rdfrules.data.Graph@752ee13e,\n",
       "  <span style=\"color: rgb(0, 187, 0)\"><span class=\"ansi-green-fg\">&quot;pensions-total-by-sex-PK_SRVM&quot;</span></span> -&gt; com.github.propi.rdfrules.data.Graph@10687eb7,\n",
       "  <span style=\"color: rgb(0, 187, 0)\"><span class=\"ansi-green-fg\">&quot;pensions-total-total-PK_ST&quot;</span></span> -&gt; com.github.propi.rdfrules.data.Graph@5022e53b,\n",
       "  <span style=\"color: rgb(0, 187, 0)\"><span class=\"ansi-green-fg\">&quot;pensions-total-total-PK_IPV&quot;</span></span> -&gt; com.github.propi.rdfrules.data.Graph@eb99ae3,\n",
       "  <span style=\"color: rgb(0, 187, 0)\"><span class=\"ansi-green-fg\">&quot;pensions-total-by-sex-PK_ITVM&quot;</span></span> -&gt; com.github.propi.rdfrules.data.Graph@c9cbd1b,\n",
       "  <span style=\"color: rgb(0, 187, 0)\"><span class=\"ansi-green-fg\">&quot;pensions-total-by-sex-PK_V-KOMB&quot;</span></span> -&gt; com.github.propi.rdfrules.data.Graph@5f52f7f9,\n",
       "  <span style=\"color: rgb(0, 187, 0)\"><span class=\"ansi-green-fg\">&quot;pensions-by-region-total-PK_SRV&quot;</span></span> -&gt; com.github.propi.rdfrules.data.Graph@181eda15,\n",
       "  <span style=\"color: rgb(0, 187, 0)\"><span class=\"ansi-green-fg\">&quot;pensions-total-total-PK_ITV&quot;</span></span> -&gt; com.github.propi.rdfrules.data.Graph@5a322577,\n",
       "  <span style=\"color: rgb(0, 187, 0)\"><span class=\"ansi-green-fg\">&quot;pensions-by-district-by-sex-PK_VM&quot;</span></span> -&gt; com.github.propi.rdfrules.data.Graph@332f2f4f,\n",
       "...</code></pre>\n",
       "</div>"
      ],
      "text/plain": [
       "\u001b[36mpensionsCubesMap\u001b[39m: \u001b[32mMap\u001b[39m[\u001b[32mString\u001b[39m, \u001b[32mGraph\u001b[39m] = \u001b[33mMap\u001b[39m(\n",
       "  \u001b[32m\"pensions-total-by-sex-PK_D\"\u001b[39m -> com.github.propi.rdfrules.data.Graph@c671eec,\n",
       "  \u001b[32m\"pensions-total-total-PK_V\"\u001b[39m -> com.github.propi.rdfrules.data.Graph@36c90ee9,\n",
       "  \u001b[32m\"pensions-by-district-by-sex-PK_ITVM\"\u001b[39m -> com.github.propi.rdfrules.data.Graph@383e1d54,\n",
       "  \u001b[32m\"pensions-by-region-total-PK_ITV\"\u001b[39m -> com.github.propi.rdfrules.data.Graph@38089f31,\n",
       "  \u001b[32m\"pensions-total-total-PK_SIV\"\u001b[39m -> com.github.propi.rdfrules.data.Graph@6cf62e94,\n",
       "  \u001b[32m\"pensions-total-by-sex-PK_IDVM\"\u001b[39m -> com.github.propi.rdfrules.data.Graph@12b6cba5,\n",
       "  \u001b[32m\"pensions-total-by-sex-PK_V_total\"\u001b[39m -> com.github.propi.rdfrules.data.Graph@5a2aa01a,\n",
       "  \u001b[32m\"pensions-by-district-total-PK_old_age_total_S_SI_SRN_ST_SD\"\u001b[39m -> com.github.propi.rdfrules.data.Graph@26a74d79,\n",
       "  \u001b[32m\"pensions-by-district-by-sex-PK_IP\"\u001b[39m -> com.github.propi.rdfrules.data.Graph@7b7845b7,\n",
       "  \u001b[32m\"pensions-by-district-by-sex-PK_SV\"\u001b[39m -> com.github.propi.rdfrules.data.Graph@5f37429e,\n",
       "  \u001b[32m\"pensions-by-region-by-sex-PK_SI\"\u001b[39m -> com.github.propi.rdfrules.data.Graph@50120312,\n",
       "  \u001b[32m\"pensions-total-by-sex-PK_VM_total\"\u001b[39m -> com.github.propi.rdfrules.data.Graph@4cc250ec,\n",
       "  \u001b[32m\"pensions-by-district-total-PK_STV\"\u001b[39m -> com.github.propi.rdfrules.data.Graph@752ee13e,\n",
       "  \u001b[32m\"pensions-total-by-sex-PK_SRVM\"\u001b[39m -> com.github.propi.rdfrules.data.Graph@10687eb7,\n",
       "  \u001b[32m\"pensions-total-total-PK_ST\"\u001b[39m -> com.github.propi.rdfrules.data.Graph@5022e53b,\n",
       "  \u001b[32m\"pensions-total-total-PK_IPV\"\u001b[39m -> com.github.propi.rdfrules.data.Graph@eb99ae3,\n",
       "  \u001b[32m\"pensions-total-by-sex-PK_ITVM\"\u001b[39m -> com.github.propi.rdfrules.data.Graph@c9cbd1b,\n",
       "  \u001b[32m\"pensions-total-by-sex-PK_V-KOMB\"\u001b[39m -> com.github.propi.rdfrules.data.Graph@5f52f7f9,\n",
       "  \u001b[32m\"pensions-by-region-total-PK_SRV\"\u001b[39m -> com.github.propi.rdfrules.data.Graph@181eda15,\n",
       "  \u001b[32m\"pensions-total-total-PK_ITV\"\u001b[39m -> com.github.propi.rdfrules.data.Graph@5a322577,\n",
       "  \u001b[32m\"pensions-by-district-by-sex-PK_VM\"\u001b[39m -> com.github.propi.rdfrules.data.Graph@332f2f4f,\n",
       "..."
      ]
     },
     "metadata": {},
     "output_type": "display_data"
    }
   ],
   "source": [
    "var pensionsCubesMap: Map[String, Graph] = Map()\n",
    "graphs.foreach(g => {\n",
    "    val name = g.replaceAll(\"\\\\.ttl\", \"\").replaceAll(\"^.*/\", \"\")\n",
    "    pensionsCubesMap = pensionsCubesMap + (name -> Graph(g))\n",
    "})"
   ]
  },
  {
   "cell_type": "code",
   "execution_count": 8,
   "metadata": {},
   "outputs": [
    {
     "data": {
      "text/plain": [
       "\u001b[32mimport \u001b[39m\u001b[36meu.easyminer.discretization.impl.Interval\n",
       "\u001b[39m\n",
       "\u001b[32mimport \u001b[39m\u001b[36meu.easyminer.discretization.impl.IntervalBound._\n",
       "\u001b[39m\n",
       "\u001b[36mrounded\u001b[39m: (\u001b[32mDouble\u001b[39m, \u001b[32mInteger\u001b[39m) => \u001b[32mDouble\u001b[39m = ammonite.$sess.cmd7$Helper$$Lambda$2963/0x0000000840cf4040@fd7e270\n",
       "\u001b[36mintervalToString\u001b[39m: \u001b[32mInterval\u001b[39m => \u001b[32mString\u001b[39m = ammonite.$sess.cmd7$Helper$$Lambda$2964/0x0000000840cf4840@441b53e7"
      ]
     },
     "execution_count": 8,
     "metadata": {},
     "output_type": "execute_result"
    }
   ],
   "source": [
    "import eu.easyminer.discretization.impl.Interval\n",
    "import eu.easyminer.discretization.impl.IntervalBound._\n",
    "val rounded = (value: Double, scale: Integer) => BigDecimal(value).setScale(scale, BigDecimal.RoundingMode.HALF_UP).toDouble\n",
    "val intervalToString = (i: Interval) => \"<\"+rounded(i.minValue.value,2)+ \"__\"+rounded(i.maxValue.value,2)+\")\""
   ]
  },
  {
   "cell_type": "code",
   "execution_count": 9,
   "metadata": {},
   "outputs": [
    {
     "data": {
      "text/plain": [
       "\u001b[36maverageAge\u001b[39m: \u001b[32mTripleItem\u001b[39m.\u001b[32mUri\u001b[39m = \u001b[33mLongUri\u001b[39m(\n",
       "  \u001b[32m\"https://data.cssz.cz/ontology/measure/prumerny-vek\"\u001b[39m\n",
       ")\n",
       "\u001b[36mpensionersCount\u001b[39m: \u001b[32mTripleItem\u001b[39m.\u001b[32mUri\u001b[39m = \u001b[33mLongUri\u001b[39m(\n",
       "  \u001b[32m\"https://data.cssz.cz/ontology/measure/pocet-duchodcu\"\u001b[39m\n",
       ")\n",
       "\u001b[36maveragePensionAmount\u001b[39m: \u001b[32mTripleItem\u001b[39m.\u001b[32mUri\u001b[39m = \u001b[33mLongUri\u001b[39m(\n",
       "  \u001b[32m\"https://data.cssz.cz/ontology/measure/prumerna-vyse-duchodu-v-kc\"\u001b[39m\n",
       ")\n",
       "\u001b[36mmeasureUris\u001b[39m: \u001b[32mArray\u001b[39m[\u001b[32mTripleItem\u001b[39m.\u001b[32mUri\u001b[39m] = \u001b[33mArray\u001b[39m(\n",
       "  \u001b[33mLongUri\u001b[39m(\u001b[32m\"https://data.cssz.cz/ontology/measure/prumerny-vek\"\u001b[39m),\n",
       "  \u001b[33mLongUri\u001b[39m(\u001b[32m\"https://data.cssz.cz/ontology/measure/pocet-duchodcu\"\u001b[39m),\n",
       "  \u001b[33mLongUri\u001b[39m(\u001b[32m\"https://data.cssz.cz/ontology/measure/prumerna-vyse-duchodu-v-kc\"\u001b[39m)\n",
       ")"
      ]
     },
     "execution_count": 9,
     "metadata": {},
     "output_type": "execute_result"
    }
   ],
   "source": [
    "val averageAge = TripleItem.Uri(\"https://data.cssz.cz/ontology/measure/prumerny-vek\")\n",
    "val pensionersCount = TripleItem.Uri(\"https://data.cssz.cz/ontology/measure/pocet-duchodcu\")\n",
    "val averagePensionAmount = TripleItem.Uri(\"https://data.cssz.cz/ontology/measure/prumerna-vyse-duchodu-v-kc\")\n",
    "val measureUris = Array(averageAge,pensionersCount,averagePensionAmount)"
   ]
  },
  {
   "cell_type": "code",
   "execution_count": 10,
   "metadata": {},
   "outputs": [
    {
     "data": {
      "text/plain": [
       "\u001b[36mequiFrequent\u001b[39m: \u001b[32mInt\u001b[39m => \u001b[32mDiscretizationTask\u001b[39m.\u001b[32mEquifrequency\u001b[39m = ammonite.$sess.cmd9$Helper$$Lambda$3013/0x0000000840d13040@6317db39\n",
       "\u001b[36mdiscretizeEquifrequent\u001b[39m: (\u001b[32mGraph\u001b[39m, \u001b[32mInt\u001b[39m, \u001b[32mTripleItem\u001b[39m.\u001b[32mUri\u001b[39m) => \u001b[32mGraph\u001b[39m = ammonite.$sess.cmd9$Helper$$Lambda$3014/0x0000000840d12c40@ddf961\n",
       "\u001b[36mdiscretizeEquifrequentAndGetIntervals\u001b[39m: (\u001b[32mGraph\u001b[39m, \u001b[32mInt\u001b[39m, \u001b[32mTripleItem\u001b[39m.\u001b[32mUri\u001b[39m) => \u001b[32mIndexedSeq\u001b[39m[\u001b[32mInterval\u001b[39m] = ammonite.$sess.cmd9$Helper$$Lambda$3015/0x0000000840d13840@3d72e2d3"
      ]
     },
     "execution_count": 10,
     "metadata": {},
     "output_type": "execute_result"
    }
   ],
   "source": [
    "val equiFrequent = (intervalCount: Int) => DiscretizationTask.Equifrequency(intervalCount)\n",
    "\n",
    "val discretizeEquifrequent = (graph: Graph, intervalsCount: Int, measure: TripleItem.Uri) => {\n",
    "    graph.filter(t => t.predicate == measure)\n",
    "         .discretize(equiFrequent(intervalsCount))(quad => quad.triple.predicate == measure)\n",
    "}\n",
    "\n",
    "val discretizeEquifrequentAndGetIntervals = (graph: Graph, intervalsCount: Int, measure: TripleItem.Uri) => {\n",
    "    graph.filter(t => t.predicate == measure)\n",
    "         .discretizeAndGetIntervals(equiFrequent(intervalsCount))(quad => quad.triple.predicate == measure)\n",
    "}"
   ]
  },
  {
   "cell_type": "code",
   "execution_count": 11,
   "metadata": {},
   "outputs": [
    {
     "data": {
      "text/plain": [
       "\u001b[32mimport \u001b[39m\u001b[36meu.easyminer.discretization.impl.Interval\n",
       "\n",
       "\u001b[39m\n",
       "\u001b[36mrenameInterval\u001b[39m: (\u001b[32mTriple\u001b[39m, \u001b[32mIndexedSeq\u001b[39m[\u001b[32mInterval\u001b[39m], \u001b[32mString\u001b[39m) => \u001b[32mTriple\u001b[39m = ammonite.$sess.cmd10$Helper$$Lambda$3070/0x0000000840d34c40@3fd5c84a\n",
       "\u001b[36mdiscretize\u001b[39m: (\u001b[32mGraph\u001b[39m, \u001b[32mString\u001b[39m, \u001b[32mArray\u001b[39m[\u001b[32mInt\u001b[39m]) => \u001b[32mDataset\u001b[39m = ammonite.$sess.cmd10$Helper$$Lambda$3071/0x0000000840d33840@5660284"
      ]
     },
     "execution_count": 11,
     "metadata": {},
     "output_type": "execute_result"
    }
   ],
   "source": [
    "import eu.easyminer.discretization.impl.Interval\n",
    "\n",
    "val renameInterval = (t: Triple, intervals: IndexedSeq[Interval], suffix: String) => {\n",
    "    var result = t\n",
    "    intervals.foreach(interval => {\n",
    "        val _interval = t.`object`.asInstanceOf[TripleItem.Interval]\n",
    "        if (_interval.interval == interval) {\n",
    "            result = t.copy(`object` = TripleItem.Uri(_interval.toString+\"_\"+suffix+\"_\"+(intervals.indexOf(interval)+1)+\"/\"+intervals.size) )\n",
    "        }\n",
    "    })\n",
    "    result\n",
    "}\n",
    "\n",
    "val discretize = (graph: Graph, name: String, intervalCounts: Array[Int]) => {\n",
    "    var result = Dataset() + \n",
    "    graph.filter(t => !measureUris.contains(t.predicate))\n",
    "    .map(t => if (t.predicate.hasSameUriAs(qbDataSet)) t.copy(`object` = uri(name)) else t)\n",
    "    \n",
    "        measureUris.foreach(measure => {\n",
    "            intervalCounts.foreach(intervalCount => {\n",
    "                val intervals = discretizeEquifrequentAndGetIntervals(graph, intervalCount, measure)\n",
    "                val measures = discretizeEquifrequent(graph, intervalCount, measure)\n",
    "                result = result + measures.map(t => {renameInterval(t, intervals, \"ef\"+intervalCount)})\n",
    "            })\n",
    "    })\n",
    "    result\n",
    "}"
   ]
  },
  {
   "cell_type": "code",
   "execution_count": 12,
   "metadata": {},
   "outputs": [
    {
     "data": {
      "text/html": [
       "<div class=\"jp-RenderedText\">\n",
       "<pre><code><span style=\"color: rgb(0, 187, 187)\"><span class=\"ansi-cyan-fg\">intervalCounts</span></span>: <span style=\"color: rgb(0, 187, 0)\"><span class=\"ansi-green-fg\">Array</span></span>[<span style=\"color: rgb(0, 187, 0)\"><span class=\"ansi-green-fg\">Int</span></span>] = <span style=\"color: yellow\"><span class=\"ansi-yellow-fg\">Array</span></span>(<span style=\"color: rgb(0, 187, 0)\"><span class=\"ansi-green-fg\">2</span></span>, <span style=\"color: rgb(0, 187, 0)\"><span class=\"ansi-green-fg\">3</span></span>)\n",
       "<span style=\"color: rgb(0, 187, 187)\"><span class=\"ansi-cyan-fg\">pensionsDataset</span></span>: <span style=\"color: rgb(0, 187, 0)\"><span class=\"ansi-green-fg\">Dataset</span></span> = com.github.propi.rdfrules.data.Dataset@a8d5d0d</code></pre>\n",
       "</div>"
      ],
      "text/plain": [
       "\u001b[36mintervalCounts\u001b[39m: \u001b[32mArray\u001b[39m[\u001b[32mInt\u001b[39m] = \u001b[33mArray\u001b[39m(\u001b[32m2\u001b[39m, \u001b[32m3\u001b[39m)\n",
       "\u001b[36mpensionsDataset\u001b[39m: \u001b[32mDataset\u001b[39m = com.github.propi.rdfrules.data.Dataset@a8d5d0d"
      ]
     },
     "metadata": {},
     "output_type": "display_data"
    }
   ],
   "source": [
    "val intervalCounts = Array(2,3)\n",
    "\n",
    "var pensionsDataset = Dataset()\n",
    "pensionsCubesMap\n",
    ".map(t => discretize(t._2,t._1,intervalCounts))\n",
    ".foreach(d => pensionsDataset = pensionsDataset + d)"
   ]
  },
  {
   "cell_type": "code",
   "execution_count": null,
   "metadata": {},
   "outputs": [],
   "source": [
    "println(dataset.size)"
   ]
  },
  {
   "cell_type": "code",
   "execution_count": null,
   "metadata": {},
   "outputs": [],
   "source": [
    "val pensionsDataset = Dataset.fromCache(\"../cache/pensionsCube.cache\")\n",
    "pensionsDataset.size"
   ]
  },
  {
   "cell_type": "code",
   "execution_count": 13,
   "metadata": {},
   "outputs": [
    {
     "data": {
      "text/plain": [
       "\u001b[36msalariesDataset\u001b[39m: \u001b[32mDataset\u001b[39m = com.github.propi.rdfrules.data.Dataset@5560275f\n",
       "\u001b[36mres12_1\u001b[39m: \u001b[32mInt\u001b[39m = \u001b[32m1638\u001b[39m"
      ]
     },
     "execution_count": 13,
     "metadata": {},
     "output_type": "execute_result"
    }
   ],
   "source": [
    "val salariesDataset = Dataset.fromCache(\"../cache/salariesCube.cache\")\n",
    "salariesDataset.size"
   ]
  },
  {
   "cell_type": "code",
   "execution_count": 14,
   "metadata": {},
   "outputs": [
    {
     "data": {
      "text/plain": [
       "\u001b[36mrefPeriodLinking\u001b[39m: \u001b[32mDataset\u001b[39m = com.github.propi.rdfrules.data.Dataset@5689e3bc\n",
       "\u001b[36mres13_1\u001b[39m: \u001b[32mInt\u001b[39m = \u001b[32m84\u001b[39m"
      ]
     },
     "execution_count": 14,
     "metadata": {},
     "output_type": "execute_result"
    }
   ],
   "source": [
    "val refPeriodLinking = Dataset(\"../data/linking/refPeriodLinking.ttl\")\n",
    "refPeriodLinking.size"
   ]
  },
  {
   "cell_type": "code",
   "execution_count": 15,
   "metadata": {},
   "outputs": [
    {
     "data": {
      "text/plain": [
       "\u001b[36mrefAreaLinking\u001b[39m: \u001b[32mDataset\u001b[39m = com.github.propi.rdfrules.data.Dataset@2971dff9\n",
       "\u001b[36mres14_1\u001b[39m: \u001b[32mInt\u001b[39m = \u001b[32m91\u001b[39m"
      ]
     },
     "execution_count": 15,
     "metadata": {},
     "output_type": "execute_result"
    }
   ],
   "source": [
    "val refAreaLinking = Dataset(\"../data/linking/cssaCZSOLinking.ttl\")\n",
    "refAreaLinking.size"
   ]
  },
  {
   "cell_type": "code",
   "execution_count": 16,
   "metadata": {},
   "outputs": [
    {
     "data": {
      "text/plain": [
       "\u001b[36msexLinking\u001b[39m: \u001b[32mDataset\u001b[39m = com.github.propi.rdfrules.data.Dataset@45e06293\n",
       "\u001b[36mres15_1\u001b[39m: \u001b[32mInt\u001b[39m = \u001b[32m5\u001b[39m"
      ]
     },
     "execution_count": 16,
     "metadata": {},
     "output_type": "execute_result"
    }
   ],
   "source": [
    "val sexLinking = Dataset(\"../data/linking/sexLinking.ttl\")\n",
    "sexLinking.size"
   ]
  },
  {
   "cell_type": "code",
   "execution_count": 17,
   "metadata": {},
   "outputs": [
    {
     "data": {
      "text/plain": [
       "\u001b[36mdataset\u001b[39m: \u001b[32mDataset\u001b[39m = com.github.propi.rdfrules.data.Dataset@7c298e58\n",
       "\u001b[36mres16_1\u001b[39m: \u001b[32mInt\u001b[39m = \u001b[32m3035268\u001b[39m"
      ]
     },
     "execution_count": 17,
     "metadata": {},
     "output_type": "execute_result"
    }
   ],
   "source": [
    "val dataset = pensionsDataset + salariesDataset + refPeriodLinking + refAreaLinking + sexLinking\n",
    "dataset.size"
   ]
  },
  {
   "cell_type": "code",
   "execution_count": 18,
   "metadata": {},
   "outputs": [
    {
     "data": {
      "text/plain": [
       "\u001b[36mindex\u001b[39m: \u001b[32mIndex\u001b[39m = com.github.propi.rdfrules.index.Index$FromDatasetFullyPreservedIndex@604290a4"
      ]
     },
     "execution_count": 18,
     "metadata": {},
     "output_type": "execute_result"
    }
   ],
   "source": [
    "val index = dataset.index()"
   ]
  },
  {
   "cell_type": "code",
   "execution_count": 19,
   "metadata": {},
   "outputs": [
    {
     "data": {
      "text/plain": [
       "\u001b[36muri\u001b[39m: \u001b[32mString\u001b[39m => \u001b[32mTripleItem\u001b[39m.\u001b[32mUri\u001b[39m = ammonite.$sess.cmd18$Helper$$Lambda$3238/0x0000000840e9d040@250aa636\n",
       "\u001b[36maverageSalary\u001b[39m: \u001b[32mTripleItem\u001b[39m.\u001b[32mUri\u001b[39m = \u001b[33mLongUri\u001b[39m(\n",
       "  \u001b[32m\"http://data.czso.cz/ontology/prumernaMzda\"\u001b[39m\n",
       ")\n",
       "\u001b[36mmedianSalary\u001b[39m: \u001b[32mTripleItem\u001b[39m.\u001b[32mUri\u001b[39m = \u001b[33mLongUri\u001b[39m(\n",
       "  \u001b[32m\"http://data.czso.cz/ontology/medianMzdy\"\u001b[39m\n",
       ")\n",
       "\u001b[36moneOfSalariesMeasures\u001b[39m: \u001b[32mAtomPattern\u001b[39m.\u001b[32mAtomItemPattern\u001b[39m.\u001b[32mOneOf\u001b[39m = \u001b[33mOneOf\u001b[39m(\n",
       "  \u001b[33mArrayBuffer\u001b[39m(\n",
       "    \u001b[33mConstant\u001b[39m(\u001b[33mLongUri\u001b[39m(\u001b[32m\"http://data.czso.cz/ontology/prumernaMzda\"\u001b[39m)),\n",
       "    \u001b[33mConstant\u001b[39m(\u001b[33mLongUri\u001b[39m(\u001b[32m\"http://data.czso.cz/ontology/medianMzdy\"\u001b[39m))\n",
       "  )\n",
       ")\n",
       "\u001b[36maverageAge\u001b[39m: \u001b[32mTripleItem\u001b[39m.\u001b[32mUri\u001b[39m = \u001b[33mLongUri\u001b[39m(\n",
       "  \u001b[32m\"https://data.cssz.cz/ontology/measure/prumerny-vek\"\u001b[39m\n",
       ")\n",
       "\u001b[36mpensionersCount\u001b[39m: \u001b[32mTripleItem\u001b[39m.\u001b[32mUri\u001b[39m = \u001b[33mLongUri\u001b[39m(\n",
       "  \u001b[32m\"https://data.cssz.cz/ontology/measure/pocet-duchodcu\"\u001b[39m\n",
       ")\n",
       "\u001b[36maveragePensionAmount\u001b[39m: \u001b[32mTripleItem\u001b[39m.\u001b[32mUri\u001b[39m = \u001b[33mLongUri\u001b[39m(\n",
       "  \u001b[32m\"https://data.cssz.cz/ontology/measure/prumerna-vyse-duchodu-v-kc\"\u001b[39m\n",
       ")\n",
       "\u001b[36moneOfPensionsMeasures\u001b[39m: \u001b[32mAtomPattern\u001b[39m.\u001b[32mAtomItemPattern\u001b[39m.\u001b[32mOneOf\u001b[39m = \u001b[33mOneOf\u001b[39m(\n",
       "  \u001b[33mArrayBuffer\u001b[39m(\n",
       "    \u001b[33mConstant\u001b[39m(\u001b[33mLongUri\u001b[39m(\u001b[32m\"https://data.cssz.cz/ontology/measure/prumerny-vek\"\u001b[39m)),\n",
       "    \u001b[33mConstant\u001b[39m(\u001b[33mLongUri\u001b[39m(\u001b[32m\"https://data.cssz.cz/ontology/measure/pocet-duchodcu\"\u001b[39m)),\n",
       "    \u001b[33mConstant\u001b[39m(\n",
       "      \u001b[33mLongUri\u001b[39m(\n",
       "        \u001b[32m\"https://data.cssz.cz/ontology/measure/prumerna-vyse-duchodu-v-kc\"\u001b[39m\n",
       "      )\n",
       "    )\n",
       "  )\n",
       ")\n",
       "\u001b[36mcssaDimension\u001b[39m: \u001b[32mString\u001b[39m = \u001b[32m\"https://data.cssz.cz/ontology/dimension/\"\u001b[39m\n",
       "\u001b[36mcssaRefPeriod\u001b[39m: \u001b[32mTripleItem\u001b[39m.\u001b[32mUri\u001b[39m = \u001b[33mLongUri\u001b[39m(\n",
       "  \u001b[32m\"https://data.cssz.cz/ontology/dimension/refPeriod\"\u001b[39m\n",
       ")\n",
       "\u001b[36mcssaRefArea\u001b[39m: \u001b[32mTripleItem\u001b[39m.\u001b[32mUri\u001b[39m = \u001b[33mLongUri\u001b[39m(\n",
       "  \u001b[32m\"https://data.cssz.cz/ontology/dimension/refArea\"\u001b[39m\n",
       ")\n",
       "\u001b[36mcssaSex\u001b[39m: \u001b[32mTripleItem\u001b[39m.\u001b[32mUri\u001b[39m = \u001b[33mLongUri\u001b[39m(\n",
       "  \u001b[32m\"https://data.cssz.cz/ontology/dimension/pohlavi\"\u001b[39m\n",
       ")\n",
       "\u001b[36mcssaPensionKind\u001b[39m: \u001b[32mTripleItem\u001b[39m.\u001b[32mUri\u001b[39m = \u001b[33mLongUri\u001b[39m(\n",
       "  \u001b[32m\"https://data.cssz.cz/ontology/dimension/druh-duchodu\"\u001b[39m\n",
       ")\n",
       "\u001b[36mczsoOntology\u001b[39m: \u001b[32mString\u001b[39m = \u001b[32m\"http://data.czso.cz/ontology/\"\u001b[39m\n",
       "\u001b[36mczsoRefPeriod\u001b[39m: \u001b[32mTripleItem\u001b[39m.\u001b[32mUri\u001b[39m = \u001b[33mLongUri\u001b[39m(\n",
       "  \u001b[32m\"http://data.czso.cz/ontology/refPeriod\"\u001b[39m\n",
       ")\n",
       "\u001b[36mczsoRefArea\u001b[39m: \u001b[32mTripleItem\u001b[39m.\u001b[32mUri\u001b[39m = \u001b[33mLongUri\u001b[39m(\u001b[32m\"http://data.czso.cz/ontology/refArea\"\u001b[39m)\n",
       "\u001b[36mczsoSex\u001b[39m: \u001b[32mTripleItem\u001b[39m.\u001b[32mUri\u001b[39m = \u001b[33mLongUri\u001b[39m(\u001b[32m\"http://data.czso.cz/ontology/sex\"\u001b[39m)\n",
       "\u001b[36mqbDataSet\u001b[39m: \u001b[32mTripleItem\u001b[39m.\u001b[32mUri\u001b[39m = \u001b[33mLongUri\u001b[39m(\u001b[32m\"http://purl.org/linked-data/cube#dataSet\"\u001b[39m)\n",
       "\u001b[36mconstantsAtObject\u001b[39m: \u001b[32mRuleConstraint\u001b[39m.\u001b[32mConstantsAtPosition\u001b[39m.\u001b[32mConstantsPosition\u001b[39m.\u001b[32mObject\u001b[39m.type = Object\n",
       "\u001b[36mconstantsOnlyAtObject\u001b[39m: \u001b[32mRuleConstraint\u001b[39m.\u001b[32mConstantsAtPosition\u001b[39m = \u001b[33mConstantsAtPosition\u001b[39m(\n",
       "  Object\n",
       ")"
      ]
     },
     "execution_count": 19,
     "metadata": {},
     "output_type": "execute_result"
    }
   ],
   "source": [
    "val uri = (value: String) => TripleItem.Uri(value)\n",
    "\n",
    "// salariesMeasures\n",
    "val averageSalary = TripleItem.Uri(\"http://data.czso.cz/ontology/prumernaMzda\")\n",
    "val medianSalary = TripleItem.Uri(\"http://data.czso.cz/ontology/medianMzdy\")\n",
    "val oneOfSalariesMeasures = OneOf(averageSalary,medianSalary)\n",
    "\n",
    "// pensionsMeasures\n",
    "val averageAge = TripleItem.Uri(\"https://data.cssz.cz/ontology/measure/prumerny-vek\")\n",
    "val pensionersCount = TripleItem.Uri(\"https://data.cssz.cz/ontology/measure/pocet-duchodcu\")\n",
    "val averagePensionAmount = TripleItem.Uri(\"https://data.cssz.cz/ontology/measure/prumerna-vyse-duchodu-v-kc\")\n",
    "val oneOfPensionsMeasures = OneOf(averageAge,pensionersCount,averagePensionAmount)\n",
    "\n",
    "// cssa dimensions\n",
    "val cssaDimension = \"https://data.cssz.cz/ontology/dimension/\"\n",
    "val cssaRefPeriod = uri(cssaDimension+\"refPeriod\")\n",
    "val cssaRefArea = uri(cssaDimension+\"refArea\")\n",
    "val cssaSex = uri(cssaDimension+\"pohlavi\")\n",
    "val cssaPensionKind = uri(cssaDimension+\"druh-duchodu\")\n",
    "\n",
    "// czso dimensions\n",
    "val czsoOntology = \"http://data.czso.cz/ontology/\"\n",
    "val czsoRefPeriod = uri(czsoOntology+\"refPeriod\")\n",
    "val czsoRefArea = uri(czsoOntology+\"refArea\")\n",
    "val czsoSex = uri(czsoOntology+\"sex\")\n",
    "\n",
    "val qbDataSet = uri(\"http://purl.org/linked-data/cube#dataSet\")\n",
    "\n",
    "val constantsAtObject = RuleConstraint.ConstantsAtPosition.ConstantsPosition.Object\n",
    "val constantsOnlyAtObject = RuleConstraint.ConstantsAtPosition(constantsAtObject)"
   ]
  },
  {
   "cell_type": "code",
   "execution_count": 20,
   "metadata": {},
   "outputs": [
    {
     "data": {
      "text/plain": [
       "\u001b[36mclosedDimensions\u001b[39m: \u001b[32mRulePattern\u001b[39m = \u001b[33mRulePattern\u001b[39m(\n",
       "  \u001b[33mVector\u001b[39m(\n",
       "    \u001b[33mAtomPattern\u001b[39m(\n",
       "      \u001b[33mVariable\u001b[39m(\u001b[33mVariable\u001b[39m(\u001b[32m2\u001b[39m)),\n",
       "      \u001b[33mOneOf\u001b[39m(\n",
       "        \u001b[33mArrayBuffer\u001b[39m(\n",
       "          \u001b[33mConstant\u001b[39m(\u001b[33mLongUri\u001b[39m(\u001b[32m\"http://data.czso.cz/ontology/prumernaMzda\"\u001b[39m)),\n",
       "          \u001b[33mConstant\u001b[39m(\u001b[33mLongUri\u001b[39m(\u001b[32m\"http://data.czso.cz/ontology/medianMzdy\"\u001b[39m))\n",
       "        )\n",
       "      ),\n",
       "      AnyConstant,\n",
       "      Any\n",
       "    ),\n",
       "    \u001b[33mAtomPattern\u001b[39m(\n",
       "      \u001b[33mVariable\u001b[39m(\u001b[33mVariable\u001b[39m(\u001b[32m2\u001b[39m)),\n",
       "      \u001b[33mConstant\u001b[39m(\u001b[33mLongUri\u001b[39m(\u001b[32m\"http://data.czso.cz/ontology/refPeriod\"\u001b[39m)),\n",
       "      \u001b[33mVariable\u001b[39m(\u001b[33mVariable\u001b[39m(\u001b[32m3\u001b[39m)),\n",
       "      Any\n",
       "    ),\n",
       "    \u001b[33mAtomPattern\u001b[39m(\n",
       "      \u001b[33mVariable\u001b[39m(\u001b[33mVariable\u001b[39m(\u001b[32m0\u001b[39m)),\n",
       "      \u001b[33mConstant\u001b[39m(\u001b[33mLongUri\u001b[39m(\u001b[32m\"https://data.cssz.cz/ontology/dimension/refPeriod\"\u001b[39m)),\n",
       "      \u001b[33mVariable\u001b[39m(\u001b[33mVariable\u001b[39m(\u001b[32m3\u001b[39m)),\n",
       "      Any\n",
       "    ),\n",
       "    \u001b[33mAtomPattern\u001b[39m(\n",
       "      \u001b[33mVariable\u001b[39m(\u001b[33mVariable\u001b[39m(\u001b[32m2\u001b[39m)),\n",
       "      \u001b[33mConstant\u001b[39m(\u001b[33mLongUri\u001b[39m(\u001b[32m\"http://purl.org/linked-data/cube#dataSet\"\u001b[39m)),\n",
       "      AnyConstant,\n",
       "      Any\n",
       "    ),\n",
       "    \u001b[33mAtomPattern\u001b[39m(\n",
       "      \u001b[33mVariable\u001b[39m(\u001b[33mVariable\u001b[39m(\u001b[32m2\u001b[39m)),\n",
       "      \u001b[33mConstant\u001b[39m(\u001b[33mLongUri\u001b[39m(\u001b[32m\"http://data.czso.cz/ontology/refArea\"\u001b[39m)),\n",
       "      \u001b[33mVariable\u001b[39m(\u001b[33mVariable\u001b[39m(\u001b[32m1\u001b[39m)),\n",
       "      Any\n",
       "    ),\n",
       "    \u001b[33mAtomPattern\u001b[39m(\n",
       "      \u001b[33mVariable\u001b[39m(\u001b[33mVariable\u001b[39m(\u001b[32m0\u001b[39m)),\n",
       "..."
      ]
     },
     "execution_count": 20,
     "metadata": {},
     "output_type": "execute_result"
    }
   ],
   "source": [
    "val closedDimensions: RulePattern = (\n",
    "    AtomPattern(subject = 'c', predicate = oneOfSalariesMeasures, `object` = AnyConstant) &:\n",
    "    AtomPattern(subject = 'c', predicate = czsoRefPeriod, `object` = 'd') &:\n",
    "    AtomPattern(subject = 'a', predicate = cssaRefPeriod, `object` = 'd') &:\n",
    "    AtomPattern(subject = 'c', predicate = qbDataSet, `object` = AnyConstant) &:\n",
    "    AtomPattern(subject = 'c', predicate = czsoRefArea, `object` = 'b') &:\n",
    "    AtomPattern(subject = 'a', predicate = cssaRefArea, `object` = 'b') &:\n",
    "    AtomPattern(subject = 'a', predicate = cssaSex, `object` = AnyConstant) &:\n",
    "    AtomPattern(subject = 'a', predicate = cssaPensionKind, `object` = AnyConstant) &:\n",
    "    AtomPattern(subject = 'a', predicate = qbDataSet, `object` = AnyConstant)\n",
    "    =>:\n",
    "    AtomPattern(subject = 'a', predicate = oneOfPensionsMeasures)\n",
    ")"
   ]
  },
  {
   "cell_type": "code",
   "execution_count": 28,
   "metadata": {
    "code_folding": []
   },
   "outputs": [
    {
     "data": {
      "text/plain": [
       "\u001b[36mclosedDimensionsTask\u001b[39m: \u001b[32mcom\u001b[39m.\u001b[32mgithub\u001b[39m.\u001b[32mpropi\u001b[39m.\u001b[32mrdfrules\u001b[39m.\u001b[32malgorithm\u001b[39m.\u001b[32mRulesMining\u001b[39m = com.github.propi.rdfrules.algorithm.amie.Amie@7fc9924c"
      ]
     },
     "execution_count": 28,
     "metadata": {},
     "output_type": "execute_result"
    }
   ],
   "source": [
    "val closedDimensionsTask = Amie()\n",
    "    .addThreshold(Threshold.MinSupport(5))\n",
    "    .addThreshold(Threshold.MaxRuleLength(10))\n",
    "    .addThreshold(Threshold.MinHeadSize(0))\n",
    "    .addThreshold(Threshold.Timeout(10))\n",
    "    .addConstraint(constantsOnlyAtObject)\n",
    "    .addPattern(closedDimensions)"
   ]
  },
  {
   "cell_type": "code",
   "execution_count": 29,
   "metadata": {},
   "outputs": [
    {
     "name": "stderr",
     "output_type": "stream",
     "text": [
      "2021-06-19 10:34:09:941 +0200 [scala-interpreter-1] INFO com.github.propi.rdfrules.utils.Debugger - Amie task settings:\n",
      "MinHeadSize=1,\n",
      "MinHeadCoverage=0.0,\n",
      "MinSupport=5,\n",
      "MaxThreads=4,\n",
      "MinAtomSize=0,\n",
      "MaxRuleLength=10,\n",
      "WithConstants=true,\n",
      "ConstantsPosition=Object,\n",
      "Timeout=600000,\n",
      "WithDuplicitPredicates=true,\n",
      "Patterns=List(Mapped(Vector(Mapped(Variable(?c),OneOf(ArrayBuffer(Constant(Constant(1433642368)), Constant(Constant(1396113393)))),AnyConstant,Any), Mapped(Variable(?c),Constant(Constant(-901057765)),Variable(?d),Any), Mapped(Variable(?a),Constant(Constant(1169043154)),Variable(?d),Any), Mapped(Variable(?c),Constant(Constant(624690160)),AnyConstant,Any), Mapped(Variable(?c),Constant(Constant(1481837794)),Variable(?b),Any), Mapped(Variable(?a),Constant(Constant(528884079)),Variable(?b),Any), Mapped(Variable(?a),Constant(Constant(910861011)),AnyConstant,Any), Mapped(Variable(?a),Constant(Constant(-2096697191)),AnyConstant,Any), Mapped(Variable(?a),Constant(Constant(624690160)),AnyConstant,Any)),Some(Mapped(Variable(?a),OneOf(ArrayBuffer(Constant(Constant(-1369655829)), Constant(Constant(33257525)), Constant(Constant(1915729891)))),Any,Any)),false,false)),\n",
      "OnlyPredicates=None,\n",
      "WithoutPredicates=None\n"
     ]
    },
    {
     "name": "stdout",
     "output_type": "stream",
     "text": [
      "49259\n"
     ]
    },
    {
     "data": {
      "text/plain": [
       "\u001b[36mclosedDimensionsTaskRuleset\u001b[39m: \u001b[32mRuleset\u001b[39m = com.github.propi.rdfrules.ruleset.Ruleset@3b5abacf"
      ]
     },
     "execution_count": 29,
     "metadata": {},
     "output_type": "execute_result"
    }
   ],
   "source": [
    "val closedDimensionsTaskRuleset = index.mine(closedDimensionsTask)\n",
    "println(closedDimensionsTaskRuleset.size)"
   ]
  },
  {
   "cell_type": "code",
   "execution_count": 30,
   "metadata": {},
   "outputs": [],
   "source": [
    "// export\n",
    "closedDimensionsTaskRuleset.export(\"../rulesets/closedDimensionsTaskRuleset.txt\")"
   ]
  },
  {
   "cell_type": "code",
   "execution_count": 37,
   "metadata": {},
   "outputs": [
    {
     "data": {
      "text/plain": [
       "\u001b[36mcomputeConfidence\u001b[39m: (\u001b[32mRuleset\u001b[39m, \u001b[32mDouble\u001b[39m) => \u001b[32mRuleset\u001b[39m = ammonite.$sess.cmd36$Helper$$Lambda$3749/0x000000084101a840@3ae410c1\n",
       "\u001b[36mclosedDimensionsTaskRulesetConfComputed\u001b[39m: \u001b[32mRuleset\u001b[39m = com.github.propi.rdfrules.ruleset.Ruleset@3c749668"
      ]
     },
     "execution_count": 37,
     "metadata": {},
     "output_type": "execute_result"
    }
   ],
   "source": [
    "val computeConfidence = (r: Ruleset, minConf: Double) => r\n",
    ".computePcaConfidence(minConf)\n",
    ".sortBy(Measure.PcaConfidence, Measure.Support)\n",
    "\n",
    "val closedDimensionsTaskRulesetConfComputed = computeConfidence(closedDimensionsTaskRuleset.filter(rule => rule.measures(Measure.Support).value > 30),0.0) "
   ]
  },
  {
   "cell_type": "code",
   "execution_count": 38,
   "metadata": {},
   "outputs": [
    {
     "data": {
      "text/plain": [
       "\u001b[36mcomputeLift\u001b[39m: (\u001b[32mRuleset\u001b[39m, \u001b[32mDouble\u001b[39m) => \u001b[32mRuleset\u001b[39m = ammonite.$sess.cmd37$Helper$$Lambda$3757/0x000000084101f840@5f6287a8\n",
       "\u001b[36mclosedDimensionsTaskRulesetLiftComputed\u001b[39m: \u001b[32mRuleset\u001b[39m = com.github.propi.rdfrules.ruleset.Ruleset@7a074a65"
      ]
     },
     "execution_count": 38,
     "metadata": {},
     "output_type": "execute_result"
    }
   ],
   "source": [
    "val computeLift = (r: Ruleset, minLift: Double) => r\n",
    ".computeLift(minLift)\n",
    ".sortBy(Measure.Lift, Measure.Support)\n",
    "\n",
    "val closedDimensionsTaskRulesetLiftComputed = computeLift(closedDimensionsTaskRulesetConfComputed, 0.0)"
   ]
  },
  {
   "cell_type": "code",
   "execution_count": null,
   "metadata": {},
   "outputs": [],
   "source": [
    "closedDimensionsTaskRulesetLiftComputed\n",
    ".filter(rule => rule.measures(Measure.Lift).value > 1)\n",
    ".filter(rule => rule.measures(Measure.PcaConfidence).value > 0.5)\n",
    ".size\n",
    "\n",
    "\n",
    "//.makeClusters(DbScan(minNeighbours = 3, minSimilarity = 0.99))\n",
    "//.size\n",
    "//.foreach(println)\n",
    "\n"
   ]
  },
  {
   "cell_type": "code",
   "execution_count": null,
   "metadata": {},
   "outputs": [],
   "source": [
    "val oldAgeTotal = uri(\"https://data.cssz.cz/resource/pension-kind/PK_old_age_total_S_SI_SRN_ST_SD_2010\")\n",
    "val regionTotalOldAgeTotal = uri(\"pensions-by-region-total-PK_old_age_total_S_SI_SRN_ST_SD\")\n",
    "val salariesTotal = uri(\"salaries-total\")"
   ]
  },
  {
   "cell_type": "code",
   "execution_count": null,
   "metadata": {},
   "outputs": [],
   "source": [
    "val oldAgeTotalPattern: RulePattern = (\n",
    "    AtomPattern(subject = 'c', predicate = oneOfSalariesMeasures, `object` = AnyConstant) &:\n",
    "    AtomPattern(subject = 'c', predicate = czsoRefPeriod, `object` = 'd') &:\n",
    "    AtomPattern(subject = 'a', predicate = cssaRefPeriod, `object` = 'd') &:\n",
    "    AtomPattern(subject = 'c', predicate = qbDataSet, `object` = salariesTotal) &:\n",
    "    AtomPattern(subject = 'c', predicate = czsoRefArea, `object` = 'b') &:\n",
    "    AtomPattern(subject = 'a', predicate = cssaRefArea, `object` = 'b') &:\n",
    "    AtomPattern(subject = 'a', predicate = cssaPensionKind, `object` = oldAgeTotal) &:\n",
    "    AtomPattern(subject = 'a', predicate = qbDataSet, `object` = regionTotalOldAgeTotal)\n",
    "    =>:\n",
    "    AtomPattern(subject = 'a', predicate = averagePensionAmount)\n",
    ")"
   ]
  },
  {
   "cell_type": "code",
   "execution_count": null,
   "metadata": {},
   "outputs": [],
   "source": [
    "val oldAgeTotalPatternTask = Amie()\n",
    "    .addThreshold(Threshold.MinSupport(1))\n",
    "    .addThreshold(Threshold.MaxRuleLength(9))\n",
    "    .addThreshold(Threshold.MinHeadSize(0))\n",
    "    .addThreshold(Threshold.Timeout(10))\n",
    "    .addConstraint(constantsOnlyAtObject)\n",
    "    .addPattern(oldAgeTotalPattern)"
   ]
  },
  {
   "cell_type": "code",
   "execution_count": null,
   "metadata": {},
   "outputs": [],
   "source": [
    "val oldAgeTotalPatternTaskRuleset = index.mine(oldAgeTotalPatternTask)\n",
    "println(oldAgeTotalPatternTaskRuleset.size)"
   ]
  },
  {
   "cell_type": "code",
   "execution_count": null,
   "metadata": {},
   "outputs": [],
   "source": [
    "oldAgeTotalPatternTaskRuleset.export(\"../rulesets/oldAgeTotalPatternTaskRuleset.txt\")"
   ]
  },
  {
   "cell_type": "code",
   "execution_count": null,
   "metadata": {},
   "outputs": [],
   "source": [
    "oldAgeTotalPatternTaskRuleset\n",
    "//.sortBy(Measure.HeadCoverage, Measure.Lift)\n",
    "//sort by rule length and then by selected measures\n",
    "//compute additional measures of significance\n",
    "//.computeConfidence(0.5)\n",
    ".computePcaConfidence(0.5)\n",
    "//.computeLift()\n",
    ".computeLift()\n",
    "//.filter(rule => rule.measures(Measure.Lift).value > 1)\n",
    ".size"
   ]
  },
  {
   "cell_type": "code",
   "execution_count": null,
   "metadata": {},
   "outputs": [],
   "source": [
    "val salariesBySex = uri(\"salaries-by-sex\")\n",
    "val regionBySexOldAgeTotal = uri(\"pensions-by-region-by-sex-PK_old_age_total_S_SI_SRN_ST_SD\")"
   ]
  },
  {
   "cell_type": "code",
   "execution_count": null,
   "metadata": {},
   "outputs": [],
   "source": [
    "val oldAgeBySexPattern: RulePattern = (\n",
    "    AtomPattern(subject = 'c', predicate = oneOfSalariesMeasures, `object` = AnyConstant) &:\n",
    "    AtomPattern(subject = 'a', predicate = cssaSex, `object` = 'e') &:\n",
    "    AtomPattern(subject = 'c', predicate = czsoSex, `object` = 'e') &:\n",
    "    AtomPattern(subject = 'c', predicate = czsoRefPeriod, `object` = 'd') &:\n",
    "    AtomPattern(subject = 'a', predicate = cssaRefPeriod, `object` = 'd') &:  \n",
    "    AtomPattern(subject = 'c', predicate = qbDataSet, `object` = salariesBySex) &:\n",
    "    AtomPattern(subject = 'c', predicate = czsoRefArea, `object` = 'b') &:\n",
    "    AtomPattern(subject = 'a', predicate = cssaRefArea, `object` = 'b') &:\n",
    "    AtomPattern(subject = 'a', predicate = cssaPensionKind, `object` = oldAgeTotal) &:\n",
    "    AtomPattern(subject = 'a', predicate = qbDataSet, `object` = regionBySexOldAgeTotal)\n",
    "    =>:\n",
    "    AtomPattern(subject = 'a', predicate = averagePensionAmount)\n",
    ")"
   ]
  },
  {
   "cell_type": "code",
   "execution_count": null,
   "metadata": {},
   "outputs": [],
   "source": [
    "val oldAgeBySexPatternTask = Amie()\n",
    "    .addThreshold(Threshold.MinSupport(1))\n",
    "    .addThreshold(Threshold.MaxRuleLength(11))\n",
    "    .addThreshold(Threshold.MinHeadSize(0))\n",
    "    .addThreshold(Threshold.Timeout(10))\n",
    "    .addConstraint(constantsOnlyAtObject)\n",
    "    .addPattern(oldAgeBySexPattern)"
   ]
  },
  {
   "cell_type": "code",
   "execution_count": null,
   "metadata": {},
   "outputs": [],
   "source": [
    "val oldAgeBySexPatternTaskRuleset = index.mine(oldAgeBySexPatternTask)\n",
    "println(oldAgeBySexPatternTaskRuleset.size)"
   ]
  },
  {
   "cell_type": "code",
   "execution_count": null,
   "metadata": {},
   "outputs": [],
   "source": [
    "oldAgeBySexPatternTaskRuleset.export(\"../rulesets/oldAgeBySexPatternTaskRuleset.txt\")"
   ]
  },
  {
   "cell_type": "code",
   "execution_count": null,
   "metadata": {},
   "outputs": [],
   "source": [
    "oldAgeBySexPatternTaskRuleset\n",
    "//.filter(rule => rule.measures(Measure.Support).value > 15)\n",
    ".computeLift(0.0)\n",
    "//.computeLift()\n",
    "//.filter(rule => rule.measures(Measure.Lift).value > 1)\n",
    "//.size\n",
    "//.makeClusters(DbScan(minNeighbours = 3, minSimilarity = 0.99))\n",
    "//.size\n",
    ".foreach(println)"
   ]
  },
  {
   "cell_type": "code",
   "execution_count": null,
   "metadata": {},
   "outputs": [],
   "source": [
    "// wikidata + pensions + salaries"
   ]
  },
  {
   "cell_type": "code",
   "execution_count": null,
   "metadata": {},
   "outputs": [],
   "source": [
    "val wikidataCZSORefAreaLinking = Dataset(\"../data/linking/czsoWikidataLinking.ttl\")\n",
    "wikidataCZSORefAreaLinking.size"
   ]
  },
  {
   "cell_type": "code",
   "execution_count": null,
   "metadata": {},
   "outputs": [],
   "source": [
    "val wikidataCSSARefAreaLinking = Dataset(\"../data/linking/cssaWikidataLinking.ttl\")\n",
    "wikidataCSSARefAreaLinking.size"
   ]
  },
  {
   "cell_type": "code",
   "execution_count": null,
   "metadata": {},
   "outputs": [],
   "source": [
    "val wikidata = Dataset.fromCache(\"../cache/wikidata.cache\")"
   ]
  },
  {
   "cell_type": "code",
   "execution_count": null,
   "metadata": {},
   "outputs": [],
   "source": [
    "val wikidataAddedDataset = pensionsDataset + salariesDataset + refPeriodLinking + refAreaLinking + sexLinking + wikidata + wikidataCZSORefAreaLinking + wikidataCSSARefAreaLinking\n",
    "wikidataAddedDataset.size"
   ]
  },
  {
   "cell_type": "code",
   "execution_count": null,
   "metadata": {},
   "outputs": [],
   "source": [
    "val wikidataAddedIndex = wikidataAddedDataset.index()"
   ]
  },
  {
   "cell_type": "code",
   "execution_count": null,
   "metadata": {},
   "outputs": [],
   "source": [
    "val appliesTo = uri(\"http://kizi.vse.cz/novp19/diploma-thesis/appliesToRefPeriod\")\n",
    "val wdProperty = (value: Int) => uri(\"http://www.wikidata.org/prop/P\" + value)\n",
    "val czURI = uri(\"http://www.wikidata.org/entity/Q213\")\n",
    "val sameAs = uri(\"http://www.w3.org/2002/07/owl#sameAs\")"
   ]
  },
  {
   "cell_type": "code",
   "execution_count": null,
   "metadata": {},
   "outputs": [],
   "source": [
    "val wikiDataOldAgeTotalPattern: RulePattern = (\n",
    "    \n",
    "    AtomPattern(subject = 'h', `object` = AnyVariable) &:\n",
    "    AtomPattern(subject = 'h', predicate = wdProperty(6), `object` = 'g') &:\n",
    "    AtomPattern(subject = 'g', predicate = wdProperty(6), `object` = 'f') &:\n",
    "    AtomPattern(subject = 'f', predicate = wdProperty(102), `object` = 'e') &:  \n",
    "    AtomPattern(subject = 'e', predicate = wdProperty(102), `object` = AnyConstant) &:\n",
    "    AtomPattern(subject = 'e', predicate = appliesTo, `object` = 'd') &:\n",
    "    \n",
    "    AtomPattern(subject = 'c', predicate = oneOfSalariesMeasures, `object` = AnyConstant) &:\n",
    "    AtomPattern(subject = 'c', predicate = czsoRefPeriod, `object` = 'd') &:\n",
    "    AtomPattern(subject = 'a', predicate = cssaRefPeriod, `object` = 'd') &:\n",
    "    AtomPattern(subject = 'c', predicate = qbDataSet, `object` = salariesTotal) &:\n",
    "    AtomPattern(subject = 'c', predicate = czsoRefArea, `object` = 'b') &:\n",
    "    AtomPattern(subject = 'a', predicate = cssaRefArea, `object` = 'b') &:\n",
    "    AtomPattern(subject = 'a', predicate = cssaPensionKind, `object` = oldAgeTotal) &:\n",
    "    AtomPattern(subject = 'a', predicate = qbDataSet, `object` = regionTotalOldAgeTotal)\n",
    "    =>:\n",
    "    AtomPattern(subject = 'a', predicate = averagePensionAmount)\n",
    ")"
   ]
  },
  {
   "cell_type": "code",
   "execution_count": null,
   "metadata": {},
   "outputs": [],
   "source": [
    "val wikiDataOldAgeTotalPatternTask = Amie()\n",
    "    .addThreshold(Threshold.MinSupport(2))\n",
    "    .addThreshold(Threshold.MaxRuleLength(15))\n",
    "    .addThreshold(Threshold.MinHeadSize(0))\n",
    "    .addThreshold(Threshold.Timeout(1))\n",
    "    //.addConstraint(constantsOnlyAtObject)\n",
    "    .addPattern(wikiDataOldAgeTotalPattern)"
   ]
  },
  {
   "cell_type": "code",
   "execution_count": null,
   "metadata": {},
   "outputs": [],
   "source": [
    "wikidataAddedIndex.cache(\"../cache/wikidataAddedIndex.cache\")"
   ]
  },
  {
   "cell_type": "code",
   "execution_count": null,
   "metadata": {},
   "outputs": [],
   "source": [
    "val wikiDataOldAgeTotalPatternTaskRuleset = wikidataAddedIndex.mine(wikiDataOldAgeTotalPatternTask)\n",
    "println(wikiDataOldAgeTotalPatternTaskRuleset.size)"
   ]
  },
  {
   "cell_type": "code",
   "execution_count": null,
   "metadata": {},
   "outputs": [],
   "source": [
    "wikiDataOldAgeTotalPatternTaskRuleset.slice(100,200)foreach(println)"
   ]
  },
  {
   "cell_type": "code",
   "execution_count": null,
   "metadata": {},
   "outputs": [],
   "source": [
    "// yago"
   ]
  },
  {
   "cell_type": "code",
   "execution_count": null,
   "metadata": {},
   "outputs": [],
   "source": [
    "val yago = Dataset.fromCache(\"../cache/yago.cache\")\n",
    "yago.size"
   ]
  },
  {
   "cell_type": "code",
   "execution_count": null,
   "metadata": {},
   "outputs": [],
   "source": [
    "val yagoCZSOLinking = Dataset(\"../data/linking/yagoCZSOLinking.ttl\")\n",
    "yagoCZSOLinking.size"
   ]
  },
  {
   "cell_type": "code",
   "execution_count": null,
   "metadata": {},
   "outputs": [],
   "source": [
    "val yagoAddedDataset = pensionsDataset + salariesDataset + refPeriodLinking + refAreaLinking + sexLinking + yagoCZSOLinking\n",
    "yagoAddedDataset.size"
   ]
  },
  {
   "cell_type": "code",
   "execution_count": null,
   "metadata": {},
   "outputs": [],
   "source": [
    "val yagoAddedIndex = yagoAddedDataset.index()\n",
    "yagoAddedIndex.cache(\"../cache/yagoAddedIndex.cache\")"
   ]
  },
  {
   "cell_type": "code",
   "execution_count": null,
   "metadata": {},
   "outputs": [],
   "source": [
    "val yagoOldAgeTotalPattern: RulePattern = (\n",
    "    AtomPattern(subject = 'b') &:\n",
    "    AtomPattern(subject = 'c', predicate = oneOfSalariesMeasures, `object` = AnyConstant) &:\n",
    "    AtomPattern(subject = 'c', predicate = czsoRefPeriod, `object` = 'd') &:\n",
    "    AtomPattern(subject = 'a', predicate = cssaRefPeriod, `object` = 'd') &:\n",
    "    AtomPattern(subject = 'c', predicate = qbDataSet, `object` = salariesTotal) &:\n",
    "    AtomPattern(subject = 'c', predicate = czsoRefArea, `object` = 'b') &:\n",
    "    AtomPattern(subject = 'a', predicate = cssaRefArea, `object` = 'b') &:\n",
    "    AtomPattern(subject = 'a', predicate = cssaPensionKind, `object` = oldAgeTotal) &:\n",
    "    AtomPattern(subject = 'a', predicate = qbDataSet, `object` = regionTotalOldAgeTotal)\n",
    "    =>:\n",
    "    AtomPattern(subject = 'a', predicate = averagePensionAmount)\n",
    ")"
   ]
  },
  {
   "cell_type": "code",
   "execution_count": null,
   "metadata": {},
   "outputs": [],
   "source": [
    "val yagoOldAgeTotalPatternTask = Amie()\n",
    "    .addThreshold(Threshold.MinSupport(2))\n",
    "    .addThreshold(Threshold.MaxRuleLength(10))\n",
    "    .addThreshold(Threshold.MinHeadSize(0))\n",
    "    .addThreshold(Threshold.Timeout(1))\n",
    "    .addConstraint(constantsOnlyAtObject)\n",
    "    .addPattern(yagoOldAgeTotalPattern)"
   ]
  },
  {
   "cell_type": "code",
   "execution_count": null,
   "metadata": {},
   "outputs": [],
   "source": [
    "val yagoOldAgeTotalPatternTaskRuleset = yagoAddedIndex.mine(yagoOldAgeTotalPatternTask)\n",
    "println(yagoOldAgeTotalPatternTaskRuleset.size)"
   ]
  },
  {
   "cell_type": "code",
   "execution_count": null,
   "metadata": {},
   "outputs": [],
   "source": [
    "yagoOldAgeTotalPatternTaskRuleset.export(\"../rulesets/yagoOldAgeTotalPatternTaskRuleset.txt\")"
   ]
  }
 ],
 "metadata": {
  "kernelspec": {
   "display_name": "Scala",
   "language": "scala",
   "name": "scala"
  },
  "language_info": {
   "codemirror_mode": "text/x-scala",
   "file_extension": ".sc",
   "mimetype": "text/x-scala",
   "name": "scala",
   "nbconvert_exporter": "script",
   "version": "2.12.8"
  }
 },
 "nbformat": 4,
 "nbformat_minor": 4
}
