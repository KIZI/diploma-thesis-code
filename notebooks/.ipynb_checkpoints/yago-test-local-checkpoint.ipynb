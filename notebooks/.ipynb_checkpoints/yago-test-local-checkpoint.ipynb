{
 "cells": [
  {
   "cell_type": "code",
   "execution_count": 1,
   "id": "cd0e0920-18d7-44f4-9990-261bc1bda709",
   "metadata": {},
   "outputs": [
    {
     "data": {
      "text/plain": [
       "\u001b[32mimport \u001b[39m\u001b[36mcoursierapi.MavenRepository\n",
       "\u001b[39m"
      ]
     },
     "execution_count": 1,
     "metadata": {},
     "output_type": "execute_result"
    }
   ],
   "source": [
    "import coursierapi.MavenRepository\n",
    "interp.repositories() ++= Seq(MavenRepository.of(\"https://jitpack.io\"))"
   ]
  },
  {
   "cell_type": "code",
   "execution_count": 2,
   "id": "bd3f212c-b8e6-4cf0-a6a9-bbf3f97a19b8",
   "metadata": {},
   "outputs": [
    {
     "data": {
      "text/plain": [
       "\u001b[32mimport \u001b[39m\u001b[36m$ivy.$                                      \n",
       "\u001b[39m\n",
       "\u001b[32mimport \u001b[39m\u001b[36mcollection._\n",
       "\u001b[39m\n",
       "\u001b[32mimport \u001b[39m\u001b[36morg.apache.jena.riot.Lang\n",
       "\u001b[39m\n",
       "\u001b[32mimport \u001b[39m\u001b[36mscala.util.control.Breaks._\n",
       "\u001b[39m\n",
       "\u001b[32mimport \u001b[39m\u001b[36mscala.collection.immutable.ListMap\u001b[39m"
      ]
     },
     "execution_count": 2,
     "metadata": {},
     "output_type": "execute_result"
    }
   ],
   "source": [
    "//import $ivy.`com.github.propi:rdfrules:1.5.0`\n",
    "import $ivy.`com.github.propi.rdfrules::core:1.0.0`\n",
    "import collection._\n",
    "import org.apache.jena.riot.Lang\n",
    "import scala.util.control.Breaks._\n",
    "import scala.collection.immutable.ListMap"
   ]
  },
  {
   "cell_type": "code",
   "execution_count": 3,
   "id": "7827e998-f6a6-4edf-a476-e2a4f87e7c97",
   "metadata": {},
   "outputs": [
    {
     "data": {
      "text/plain": [
       "\u001b[32mimport \u001b[39m\u001b[36mcom.github.propi.rdfrules.data._\n",
       "\u001b[39m\n",
       "\u001b[32mimport \u001b[39m\u001b[36mcom.github.propi.rdfrules.algorithm.amie._\n",
       "\u001b[39m\n",
       "\u001b[32mimport \u001b[39m\u001b[36mcom.github.propi.rdfrules.algorithm.dbscan._\n",
       "\u001b[39m\n",
       "\u001b[32mimport \u001b[39m\u001b[36mcom.github.propi.rdfrules.utils._\n",
       "\u001b[39m\n",
       "\u001b[32mimport \u001b[39m\u001b[36mcom.github.propi.rdfrules.index._\n",
       "\u001b[39m\n",
       "\u001b[32mimport \u001b[39m\u001b[36mcom.github.propi.rdfrules.rule._\n",
       "\u001b[39m\n",
       "\u001b[32mimport \u001b[39m\u001b[36mcom.github.propi.rdfrules.ruleset._\u001b[39m"
      ]
     },
     "execution_count": 3,
     "metadata": {},
     "output_type": "execute_result"
    }
   ],
   "source": [
    "import com.github.propi.rdfrules.data._\n",
    "import com.github.propi.rdfrules.algorithm.amie._\n",
    "import com.github.propi.rdfrules.algorithm.dbscan._\n",
    "import com.github.propi.rdfrules.utils._\n",
    "import com.github.propi.rdfrules.index._\n",
    "import com.github.propi.rdfrules.rule._\n",
    "import com.github.propi.rdfrules.ruleset._"
   ]
  },
  {
   "cell_type": "code",
   "execution_count": 4,
   "id": "64aa68c3-7cbb-4e01-94af-ed1af72a4931",
   "metadata": {},
   "outputs": [
    {
     "data": {
      "text/plain": [
       "\u001b[32mimport \u001b[39m\u001b[36mcom.github.propi.rdfrules.rule.Threshold\n",
       "\u001b[39m\n",
       "\u001b[32mimport \u001b[39m\u001b[36mcom.github.propi.rdfrules.algorithm.amie.Amie\u001b[39m"
      ]
     },
     "execution_count": 4,
     "metadata": {},
     "output_type": "execute_result"
    }
   ],
   "source": [
    "import com.github.propi.rdfrules.rule.Threshold\n",
    "import com.github.propi.rdfrules.algorithm.amie.Amie"
   ]
  },
  {
   "cell_type": "code",
   "execution_count": 5,
   "id": "050e84eb-dd2e-4159-83fa-d51a5db9c92f",
   "metadata": {},
   "outputs": [
    {
     "data": {
      "text/plain": [
       "\u001b[36myagoHop0\u001b[39m: \u001b[32mDataset\u001b[39m = com.github.propi.rdfrules.data.Dataset@1ea6bda2"
      ]
     },
     "execution_count": 5,
     "metadata": {},
     "output_type": "execute_result"
    }
   ],
   "source": [
    "val yagoHop0 = Dataset.fromCache(\"../cache/yago-hop0.cache\")"
   ]
  },
  {
   "cell_type": "code",
   "execution_count": 6,
   "id": "48b68623-fbff-4ecb-815f-3462e1e47596",
   "metadata": {},
   "outputs": [
    {
     "data": {
      "text/plain": [
       "\u001b[36mres5\u001b[39m: \u001b[32mInt\u001b[39m = \u001b[32m49375\u001b[39m"
      ]
     },
     "execution_count": 6,
     "metadata": {},
     "output_type": "execute_result"
    }
   ],
   "source": [
    "yagoHop0.size"
   ]
  },
  {
   "cell_type": "code",
   "execution_count": 7,
   "id": "aea1c6dd-5777-42bb-a302-d0ac810e2183",
   "metadata": {},
   "outputs": [
    {
     "name": "stderr",
     "output_type": "stream",
     "text": [
      "SLF4J: Failed to load class \"org.slf4j.impl.StaticLoggerBinder\".\n",
      "SLF4J: Defaulting to no-operation (NOP) logger implementation\n",
      "SLF4J: See http://www.slf4j.org/codes.html#StaticLoggerBinder for further details.\n"
     ]
    },
    {
     "data": {
      "text/plain": [
       "\u001b[36myagoHop0Index\u001b[39m: \u001b[32mIndex\u001b[39m = com.github.propi.rdfrules.index.Index$$anon$2@40a50cae"
      ]
     },
     "execution_count": 7,
     "metadata": {},
     "output_type": "execute_result"
    }
   ],
   "source": [
    "val yagoHop0Index = yagoHop0.index()"
   ]
  },
  {
   "cell_type": "code",
   "execution_count": 8,
   "id": "afa30ae6-7c8c-4c2e-a21d-98c04976acae",
   "metadata": {},
   "outputs": [
    {
     "data": {
      "text/plain": [
       "\u001b[36mres7\u001b[39m: \u001b[32mInt\u001b[39m = \u001b[32m1084558510\u001b[39m"
      ]
     },
     "execution_count": 8,
     "metadata": {},
     "output_type": "execute_result"
    }
   ],
   "source": [
    "yagoHop0Index.hashCode()"
   ]
  },
  {
   "cell_type": "code",
   "execution_count": 9,
   "id": "33d64ece-4e86-4746-9da9-dfd83d7408ee",
   "metadata": {},
   "outputs": [
    {
     "data": {
      "text/plain": [
       "\u001b[36mminingTask1\u001b[39m: \u001b[32mcom\u001b[39m.\u001b[32mgithub\u001b[39m.\u001b[32mpropi\u001b[39m.\u001b[32mrdfrules\u001b[39m.\u001b[32malgorithm\u001b[39m.\u001b[32mRulesMining\u001b[39m = com.github.propi.rdfrules.algorithm.amie.Amie@61e4fa57"
      ]
     },
     "execution_count": 9,
     "metadata": {},
     "output_type": "execute_result"
    }
   ],
   "source": [
    "val miningTask1 = Amie()\n",
    ".addThreshold(Threshold.MaxRuleLength(3))\n",
    ".addThreshold(Threshold.MinSupport(5000))\n",
    ".addThreshold(Threshold.Timeout(1))"
   ]
  },
  {
   "cell_type": "code",
   "execution_count": 10,
   "id": "7363e7c0-8fbe-40bb-9a47-48cd4bc35861",
   "metadata": {},
   "outputs": [
    {
     "name": "stdout",
     "output_type": "stream",
     "text": [
      "rules: 6\n",
      "duration: 60s\n"
     ]
    },
    {
     "data": {
      "text/plain": [
       "\u001b[36mstartTimeMillis\u001b[39m: \u001b[32mLong\u001b[39m = \u001b[32m1621505620367L\u001b[39m\n",
       "\u001b[36mruleset1\u001b[39m: \u001b[32mRuleset\u001b[39m = com.github.propi.rdfrules.ruleset.Ruleset@d30a4d0"
      ]
     },
     "execution_count": 10,
     "metadata": {},
     "output_type": "execute_result"
    }
   ],
   "source": [
    "val startTimeMillis = System.currentTimeMillis()\n",
    "val ruleset1 = yagoHop0Index.mine(miningTask1)\n",
    "println(\"rules: \"+ruleset1.size)\n",
    "println(\"duration: \" + (System.currentTimeMillis() - startTimeMillis) / 1000 + \"s\")"
   ]
  },
  {
   "cell_type": "code",
   "execution_count": 11,
   "id": "3b9fd3a9-89db-49b2-b5db-03afda156fd2",
   "metadata": {},
   "outputs": [
    {
     "data": {
      "text/plain": [
       "\u001b[36mjaur\u001b[39m: \u001b[32mDataset\u001b[39m = com.github.propi.rdfrules.data.Dataset@208894d9"
      ]
     },
     "execution_count": 11,
     "metadata": {},
     "output_type": "execute_result"
    }
   ],
   "source": [
    "val jaur = Dataset.fromCache(\"../cache/jaurCube.cache\")"
   ]
  },
  {
   "cell_type": "code",
   "execution_count": 12,
   "id": "bc1d1bcc-84a4-451d-9762-40b0518870a9",
   "metadata": {},
   "outputs": [
    {
     "data": {
      "text/plain": [
       "\u001b[36mjaurIndex\u001b[39m: \u001b[32mIndex\u001b[39m = com.github.propi.rdfrules.index.Index$$anon$2@2796627f"
      ]
     },
     "execution_count": 12,
     "metadata": {},
     "output_type": "execute_result"
    }
   ],
   "source": [
    "val jaurIndex = jaur.index()"
   ]
  },
  {
   "cell_type": "code",
   "execution_count": 13,
   "id": "49c4a32a-c9a9-42d7-aea4-d87216f96a54",
   "metadata": {},
   "outputs": [
    {
     "data": {
      "text/plain": [
       "\u001b[36mres12\u001b[39m: \u001b[32mInt\u001b[39m = \u001b[32m664167039\u001b[39m"
      ]
     },
     "execution_count": 13,
     "metadata": {},
     "output_type": "execute_result"
    }
   ],
   "source": [
    "jaurIndex.hashCode()"
   ]
  },
  {
   "cell_type": "code",
   "execution_count": 14,
   "id": "57080bd9-eeee-4aeb-8811-149e65b47e93",
   "metadata": {},
   "outputs": [
    {
     "data": {
      "text/plain": [
       "\u001b[36mminingTask2\u001b[39m: \u001b[32mcom\u001b[39m.\u001b[32mgithub\u001b[39m.\u001b[32mpropi\u001b[39m.\u001b[32mrdfrules\u001b[39m.\u001b[32malgorithm\u001b[39m.\u001b[32mRulesMining\u001b[39m = com.github.propi.rdfrules.algorithm.amie.Amie@7f3afd9f"
      ]
     },
     "execution_count": 14,
     "metadata": {},
     "output_type": "execute_result"
    }
   ],
   "source": [
    "val miningTask2 = Amie()\n",
    ".addThreshold(Threshold.MaxRuleLength(3))\n",
    ".addThreshold(Threshold.MinSupport(1350))\n",
    ".addThreshold(Threshold.Timeout(1))"
   ]
  },
  {
   "cell_type": "code",
   "execution_count": null,
   "id": "9ad9e210-033f-4031-bb6e-08b19e56abf1",
   "metadata": {},
   "outputs": [],
   "source": [
    "val startTimeMillis = System.currentTimeMillis()\n",
    "val ruleset2 = jaurIndex.mine(miningTask2)\n",
    "println(\"rules: \"+ruleset2.size)\n",
    "println(\"duration: \" + (System.currentTimeMillis() - startTimeMillis) / 1000 + \"s\")"
   ]
  },
  {
   "cell_type": "code",
   "execution_count": null,
   "id": "ccb0c737-b823-4ebc-bbc2-4cdd44933567",
   "metadata": {},
   "outputs": [],
   "source": [
    "val ruleset = ruleset1 + ruleset2\n",
    "ruleset.export(\"ruleset.txt\")"
   ]
  },
  {
   "cell_type": "code",
   "execution_count": null,
   "id": "0dfeca62-c82f-4448-836c-df879165ceaa",
   "metadata": {},
   "outputs": [],
   "source": [
    "//https://stackoverflow.com/questions/50145278/scala-create-and-use-local-library"
   ]
  }
 ],
 "metadata": {
  "kernelspec": {
   "display_name": "Scala",
   "language": "scala",
   "name": "scala"
  },
  "language_info": {
   "codemirror_mode": "text/x-scala",
   "file_extension": ".sc",
   "mimetype": "text/x-scala",
   "name": "scala",
   "nbconvert_exporter": "script",
   "version": "2.12.8"
  }
 },
 "nbformat": 4,
 "nbformat_minor": 5
}
