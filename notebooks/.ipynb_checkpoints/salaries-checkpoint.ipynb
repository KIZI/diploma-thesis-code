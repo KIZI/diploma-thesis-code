{
 "cells": [
  {
   "cell_type": "code",
   "execution_count": 1,
   "metadata": {},
   "outputs": [],
   "source": [
    "kernel.silent(true)"
   ]
  },
  {
   "cell_type": "code",
   "execution_count": 2,
   "metadata": {},
   "outputs": [],
   "source": [
    "import coursierapi.MavenRepository\n",
    "interp.repositories() ++= Seq(MavenRepository.of(\"https://jitpack.io\"))"
   ]
  },
  {
   "cell_type": "code",
   "execution_count": 3,
   "metadata": {},
   "outputs": [],
   "source": [
    "import $ivy.`com.github.propi:rdfrules:1.5.0`\n",
    "import collection._\n",
    "import org.apache.jena.riot.Lang\n",
    "\n",
    "import com.github.propi.rdfrules.data._\n",
    "import com.github.propi.rdfrules.algorithm.amie._\n",
    "import com.github.propi.rdfrules.algorithm.dbscan._\n",
    "import com.github.propi.rdfrules.utils._\n",
    "import com.github.propi.rdfrules.index._\n",
    "import com.github.propi.rdfrules.rule._\n",
    "import com.github.propi.rdfrules.ruleset._\n",
    "//kernel.silent(false)"
   ]
  },
  {
   "cell_type": "code",
   "execution_count": 4,
   "metadata": {},
   "outputs": [],
   "source": [
    "val salariesCubesMap: Map[String, Graph] = ( Map() \n",
    "+ (\"salaries-by-sex\" -> Graph(\"salaries\", \"../data/salaries/salaries-by-sex.ttl\"))\n",
    "+ (\"salaries-total\" -> Graph(\"salaries\", \"../data/salaries/salaries-total.ttl\"))\n",
    ")"
   ]
  },
  {
   "cell_type": "code",
   "execution_count": 6,
   "metadata": {},
   "outputs": [],
   "source": [
    "val uri = (value: String) => TripleItem.Uri(value)\n",
    "val qbDataSet = \"http://purl.org/linked-data/cube#dataSet\"\n",
    "val renameDataset = (t: Tuple2[String, Graph]) => {\n",
    "    val name = t._1\n",
    "    val cube = t._2.map(t => if (t.predicate.hasSameUriAs(qbDataSet)) t.copy(`object` = uri(name)) else t)\n",
    "    Tuple2(name, cube)\n",
    "}\n",
    "val salariesCubesMapRenamed = salariesCubesMap.map(renameDataset)"
   ]
  },
  {
   "cell_type": "code",
   "execution_count": 7,
   "metadata": {},
   "outputs": [],
   "source": [
    "val intervalsCount = 3\n",
    "val equiFrequent = DiscretizationTask.Equifrequency(intervalsCount)\n",
    "val hasPredicate = (quad: Quad, uri: String) => quad.triple.predicate.hasSameUriAs(uri)\n",
    "import eu.easyminer.discretization.impl.Interval\n",
    "import eu.easyminer.discretization.impl.IntervalBound._\n",
    "val rounded = (value: Double, scale: Integer) => BigDecimal(value).setScale(scale, BigDecimal.RoundingMode.HALF_UP).toDouble\n",
    "val intervalToString = (i: Interval) => \"<\"+rounded(i.minValue.value,2)+ \"__\"+rounded(i.maxValue.value,2)+\")\""
   ]
  },
  {
   "cell_type": "code",
   "execution_count": 8,
   "metadata": {},
   "outputs": [],
   "source": [
    "val medianSalary = \"http://data.czso.cz/ontology/medianMzdy\"\n",
    "val averageSalary = \"http://data.czso.cz/ontology/prumernaMzda\"\n",
    "\n",
    "val discretizeAndPrintIntervals = (t: Tuple2[String, Graph]) => {\n",
    "    println(t._1 + \"\\n\")\n",
    "    println(\"medianSalary\")\n",
    "    t._2.discretizeAndGetIntervals(equiFrequent)(quad => hasPredicate(quad, medianSalary))\n",
    "    .foreach(i => print(intervalToString(i) + \"  \"))\n",
    "    println(\"\\naverageSalary\")\n",
    "    t._2.discretizeAndGetIntervals(equiFrequent)(quad => hasPredicate(quad, averageSalary))\n",
    "    .foreach(i => print(intervalToString(i) + \"  \"))\n",
    "    println(\"\\n\\n\")\n",
    "}\n",
    "\n",
    "val discretizeDataset = (t: Tuple2[String, Graph]) => {\n",
    "    val cube = t._2\n",
    "    .discretize(equiFrequent)(quad => hasPredicate(quad, medianSalary))\n",
    "    .discretize(equiFrequent)(quad => hasPredicate(quad, averageSalary))\n",
    "    Tuple2(t._1, cube)\n",
    "}\n",
    "//pensionsCubeMapRenamed.map(discretizeAndPrintIntervals)\n",
    "val salariesCubesMapDiscretized = salariesCubesMapRenamed.map(discretizeDataset)"
   ]
  },
  {
   "cell_type": "code",
   "execution_count": 10,
   "metadata": {},
   "outputs": [
    {
     "data": {
      "text/html": [
       "<div class=\"jp-RenderedText\">\n",
       "<pre><code></code></pre>\n",
       "</div>"
      ],
      "text/plain": []
     },
     "metadata": {},
     "output_type": "display_data"
    }
   ],
   "source": [
    "var dataset = Dataset()\n",
    "salariesCubesMapDiscretized.foreach(t => dataset = dataset + t._2)\n",
    "dataset.cache(\"../cache/salariesCube.cache\")\n",
    "dataset.export(\"../exports/salariesCube.ttl\")"
   ]
  },
  {
   "cell_type": "code",
   "execution_count": 11,
   "metadata": {},
   "outputs": [
    {
     "name": "stdout",
     "output_type": "stream",
     "text": [
      "882\n",
      "882\n"
     ]
    },
    {
     "data": {
      "text/html": [
       "<div class=\"jp-RenderedText\">\n",
       "<pre><code></code></pre>\n",
       "</div>"
      ],
      "text/plain": []
     },
     "metadata": {},
     "output_type": "display_data"
    }
   ],
   "source": [
    "var cachedDataset = Dataset.fromCache(\"../cache/salariesCube.cache\")\n",
    "println(cachedDataset.size)\n",
    "println(dataset.size)"
   ]
  }
 ],
 "metadata": {
  "kernelspec": {
   "display_name": "Scala",
   "language": "scala",
   "name": "scala"
  },
  "language_info": {
   "codemirror_mode": "text/x-scala",
   "file_extension": ".sc",
   "mimetype": "text/x-scala",
   "name": "scala",
   "nbconvert_exporter": "script",
   "version": "2.12.8"
  }
 },
 "nbformat": 4,
 "nbformat_minor": 4
}
