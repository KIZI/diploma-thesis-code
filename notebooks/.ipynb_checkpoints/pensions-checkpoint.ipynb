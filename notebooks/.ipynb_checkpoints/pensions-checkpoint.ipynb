{
 "cells": [
  {
   "cell_type": "code",
   "execution_count": 1,
   "metadata": {},
   "outputs": [],
   "source": [
    "kernel.silent(true)"
   ]
  },
  {
   "cell_type": "code",
   "execution_count": 2,
   "metadata": {},
   "outputs": [],
   "source": [
    "import coursierapi.MavenRepository\n",
    "interp.repositories() ++= Seq(MavenRepository.of(\"https://jitpack.io\"))"
   ]
  },
  {
   "cell_type": "code",
   "execution_count": 3,
   "metadata": {},
   "outputs": [],
   "source": [
    "import $ivy.`com.github.propi:rdfrules:1.5.0`\n",
    "import collection._\n",
    "import org.apache.jena.riot.Lang\n",
    "\n",
    "import com.github.propi.rdfrules.data._\n",
    "import com.github.propi.rdfrules.algorithm.amie._\n",
    "import com.github.propi.rdfrules.algorithm.dbscan._\n",
    "import com.github.propi.rdfrules.utils._\n",
    "import com.github.propi.rdfrules.index._\n",
    "import com.github.propi.rdfrules.rule._\n",
    "import com.github.propi.rdfrules.ruleset._\n",
    "kernel.silent(false)"
   ]
  },
  {
   "cell_type": "code",
   "execution_count": 4,
   "metadata": {},
   "outputs": [
    {
     "data": {
      "text/plain": [
       "\u001b[32mimport \u001b[39m\u001b[36mreflect.io._, Path._\n",
       "\u001b[39m\n",
       "\u001b[32mimport \u001b[39m\u001b[36mreflect.io._\n",
       "\u001b[39m\n",
       "\u001b[32mimport \u001b[39m\u001b[36mPath._\u001b[39m"
      ]
     },
     "execution_count": 4,
     "metadata": {},
     "output_type": "execute_result"
    }
   ],
   "source": [
    "import reflect.io._, Path._\n",
    "import reflect.io._\n",
    "import Path._"
   ]
  },
  {
   "cell_type": "code",
   "execution_count": 5,
   "metadata": {},
   "outputs": [
    {
     "data": {
      "text/plain": [
       "\u001b[36muri\u001b[39m: \u001b[32mString\u001b[39m => \u001b[32mTripleItem\u001b[39m.\u001b[32mUri\u001b[39m = ammonite.$sess.cmd4$Helper$$Lambda$2810/0x0000000840c6f040@3f455569\n",
       "\u001b[36mqbDataSet\u001b[39m: \u001b[32mString\u001b[39m = \u001b[32m\"http://purl.org/linked-data/cube#dataSet\"\u001b[39m"
      ]
     },
     "execution_count": 5,
     "metadata": {},
     "output_type": "execute_result"
    }
   ],
   "source": [
    "val uri = (value: String) => TripleItem.Uri(value)\n",
    "val qbDataSet = \"http://purl.org/linked-data/cube#dataSet\""
   ]
  },
  {
   "cell_type": "code",
   "execution_count": 6,
   "metadata": {},
   "outputs": [
    {
     "data": {
      "text/plain": [
       "\u001b[36mgraphs\u001b[39m: \u001b[32mIterator\u001b[39m[\u001b[32mString\u001b[39m] = \u001b[32mnon-empty iterator\u001b[39m"
      ]
     },
     "execution_count": 6,
     "metadata": {},
     "output_type": "execute_result"
    }
   ],
   "source": [
    "val graphs = \"../data/pensions\".toDirectory.files.map(_.path).filter(g => g matches \"\"\".*\\.ttl\"\"\")"
   ]
  },
  {
   "cell_type": "code",
   "execution_count": 7,
   "metadata": {},
   "outputs": [
    {
     "data": {
      "text/html": [
       "<div class=\"jp-RenderedText\">\n",
       "<pre><code><span style=\"color: rgb(0, 187, 187)\"><span class=\"ansi-cyan-fg\">pensionsCubesMap</span></span>: <span style=\"color: rgb(0, 187, 0)\"><span class=\"ansi-green-fg\">Map</span></span>[<span style=\"color: rgb(0, 187, 0)\"><span class=\"ansi-green-fg\">String</span></span>, <span style=\"color: rgb(0, 187, 0)\"><span class=\"ansi-green-fg\">Graph</span></span>] = <span style=\"color: yellow\"><span class=\"ansi-yellow-fg\">Map</span></span>(\n",
       "  <span style=\"color: rgb(0, 187, 0)\"><span class=\"ansi-green-fg\">&quot;pensions-total-by-sex-PK_D&quot;</span></span> -&gt; com.github.propi.rdfrules.data.Graph@3e1b8703,\n",
       "  <span style=\"color: rgb(0, 187, 0)\"><span class=\"ansi-green-fg\">&quot;pensions-total-total-PK_V&quot;</span></span> -&gt; com.github.propi.rdfrules.data.Graph@3b6df0e2,\n",
       "  <span style=\"color: rgb(0, 187, 0)\"><span class=\"ansi-green-fg\">&quot;pensions-by-district-by-sex-PK_ITVM&quot;</span></span> -&gt; com.github.propi.rdfrules.data.Graph@21d643d9,\n",
       "  <span style=\"color: rgb(0, 187, 0)\"><span class=\"ansi-green-fg\">&quot;pensions-by-region-total-PK_ITV&quot;</span></span> -&gt; com.github.propi.rdfrules.data.Graph@593ef6ab,\n",
       "  <span style=\"color: rgb(0, 187, 0)\"><span class=\"ansi-green-fg\">&quot;pensions-total-total-PK_SIV&quot;</span></span> -&gt; com.github.propi.rdfrules.data.Graph@4dc24f2e,\n",
       "  <span style=\"color: rgb(0, 187, 0)\"><span class=\"ansi-green-fg\">&quot;pensions-total-by-sex-PK_IDVM&quot;</span></span> -&gt; com.github.propi.rdfrules.data.Graph@19fc5c94,\n",
       "  <span style=\"color: rgb(0, 187, 0)\"><span class=\"ansi-green-fg\">&quot;pensions-total-by-sex-PK_V_total&quot;</span></span> -&gt; com.github.propi.rdfrules.data.Graph@a271cf9,\n",
       "  <span style=\"color: rgb(0, 187, 0)\"><span class=\"ansi-green-fg\">&quot;pensions-by-district-total-PK_old_age_total_S_SI_SRN_ST_SD&quot;</span></span> -&gt; com.github.propi.rdfrules.data.Graph@240238b8,\n",
       "  <span style=\"color: rgb(0, 187, 0)\"><span class=\"ansi-green-fg\">&quot;pensions-by-district-by-sex-PK_IP&quot;</span></span> -&gt; com.github.propi.rdfrules.data.Graph@7b66a829,\n",
       "  <span style=\"color: rgb(0, 187, 0)\"><span class=\"ansi-green-fg\">&quot;pensions-by-district-by-sex-PK_SV&quot;</span></span> -&gt; com.github.propi.rdfrules.data.Graph@85432d,\n",
       "  <span style=\"color: rgb(0, 187, 0)\"><span class=\"ansi-green-fg\">&quot;pensions-by-region-by-sex-PK_SI&quot;</span></span> -&gt; com.github.propi.rdfrules.data.Graph@32774710,\n",
       "  <span style=\"color: rgb(0, 187, 0)\"><span class=\"ansi-green-fg\">&quot;pensions-total-by-sex-PK_VM_total&quot;</span></span> -&gt; com.github.propi.rdfrules.data.Graph@7056e1e,\n",
       "  <span style=\"color: rgb(0, 187, 0)\"><span class=\"ansi-green-fg\">&quot;pensions-by-district-total-PK_STV&quot;</span></span> -&gt; com.github.propi.rdfrules.data.Graph@496ca937,\n",
       "  <span style=\"color: rgb(0, 187, 0)\"><span class=\"ansi-green-fg\">&quot;pensions-total-by-sex-PK_SRVM&quot;</span></span> -&gt; com.github.propi.rdfrules.data.Graph@635a171c,\n",
       "  <span style=\"color: rgb(0, 187, 0)\"><span class=\"ansi-green-fg\">&quot;pensions-total-total-PK_ST&quot;</span></span> -&gt; com.github.propi.rdfrules.data.Graph@6b1d83a0,\n",
       "  <span style=\"color: rgb(0, 187, 0)\"><span class=\"ansi-green-fg\">&quot;pensions-total-total-PK_IPV&quot;</span></span> -&gt; com.github.propi.rdfrules.data.Graph@47447543,\n",
       "  <span style=\"color: rgb(0, 187, 0)\"><span class=\"ansi-green-fg\">&quot;pensions-total-by-sex-PK_ITVM&quot;</span></span> -&gt; com.github.propi.rdfrules.data.Graph@6b4d598d,\n",
       "  <span style=\"color: rgb(0, 187, 0)\"><span class=\"ansi-green-fg\">&quot;pensions-total-by-sex-PK_V-KOMB&quot;</span></span> -&gt; com.github.propi.rdfrules.data.Graph@589c510f,\n",
       "  <span style=\"color: rgb(0, 187, 0)\"><span class=\"ansi-green-fg\">&quot;pensions-by-region-total-PK_SRV&quot;</span></span> -&gt; com.github.propi.rdfrules.data.Graph@5f9bc93f,\n",
       "  <span style=\"color: rgb(0, 187, 0)\"><span class=\"ansi-green-fg\">&quot;pensions-total-total-PK_ITV&quot;</span></span> -&gt; com.github.propi.rdfrules.data.Graph@3b9151e2,\n",
       "  <span style=\"color: rgb(0, 187, 0)\"><span class=\"ansi-green-fg\">&quot;pensions-by-district-by-sex-PK_VM&quot;</span></span> -&gt; com.github.propi.rdfrules.data.Graph@3a...</code></pre>\n",
       "</div>"
      ],
      "text/plain": [
       "\u001b[36mpensionsCubesMap\u001b[39m: \u001b[32mMap\u001b[39m[\u001b[32mString\u001b[39m, \u001b[32mGraph\u001b[39m] = \u001b[33mMap\u001b[39m(\n",
       "  \u001b[32m\"pensions-total-by-sex-PK_D\"\u001b[39m -> com.github.propi.rdfrules.data.Graph@3e1b8703,\n",
       "  \u001b[32m\"pensions-total-total-PK_V\"\u001b[39m -> com.github.propi.rdfrules.data.Graph@3b6df0e2,\n",
       "  \u001b[32m\"pensions-by-district-by-sex-PK_ITVM\"\u001b[39m -> com.github.propi.rdfrules.data.Graph@21d643d9,\n",
       "  \u001b[32m\"pensions-by-region-total-PK_ITV\"\u001b[39m -> com.github.propi.rdfrules.data.Graph@593ef6ab,\n",
       "  \u001b[32m\"pensions-total-total-PK_SIV\"\u001b[39m -> com.github.propi.rdfrules.data.Graph@4dc24f2e,\n",
       "  \u001b[32m\"pensions-total-by-sex-PK_IDVM\"\u001b[39m -> com.github.propi.rdfrules.data.Graph@19fc5c94,\n",
       "  \u001b[32m\"pensions-total-by-sex-PK_V_total\"\u001b[39m -> com.github.propi.rdfrules.data.Graph@a271cf9,\n",
       "  \u001b[32m\"pensions-by-district-total-PK_old_age_total_S_SI_SRN_ST_SD\"\u001b[39m -> com.github.propi.rdfrules.data.Graph@240238b8,\n",
       "  \u001b[32m\"pensions-by-district-by-sex-PK_IP\"\u001b[39m -> com.github.propi.rdfrules.data.Graph@7b66a829,\n",
       "  \u001b[32m\"pensions-by-district-by-sex-PK_SV\"\u001b[39m -> com.github.propi.rdfrules.data.Graph@85432d,\n",
       "  \u001b[32m\"pensions-by-region-by-sex-PK_SI\"\u001b[39m -> com.github.propi.rdfrules.data.Graph@32774710,\n",
       "  \u001b[32m\"pensions-total-by-sex-PK_VM_total\"\u001b[39m -> com.github.propi.rdfrules.data.Graph@7056e1e,\n",
       "  \u001b[32m\"pensions-by-district-total-PK_STV\"\u001b[39m -> com.github.propi.rdfrules.data.Graph@496ca937,\n",
       "  \u001b[32m\"pensions-total-by-sex-PK_SRVM\"\u001b[39m -> com.github.propi.rdfrules.data.Graph@635a171c,\n",
       "  \u001b[32m\"pensions-total-total-PK_ST\"\u001b[39m -> com.github.propi.rdfrules.data.Graph@6b1d83a0,\n",
       "  \u001b[32m\"pensions-total-total-PK_IPV\"\u001b[39m -> com.github.propi.rdfrules.data.Graph@47447543,\n",
       "  \u001b[32m\"pensions-total-by-sex-PK_ITVM\"\u001b[39m -> com.github.propi.rdfrules.data.Graph@6b4d598d,\n",
       "  \u001b[32m\"pensions-total-by-sex-PK_V-KOMB\"\u001b[39m -> com.github.propi.rdfrules.data.Graph@589c510f,\n",
       "  \u001b[32m\"pensions-by-region-total-PK_SRV\"\u001b[39m -> com.github.propi.rdfrules.data.Graph@5f9bc93f,\n",
       "  \u001b[32m\"pensions-total-total-PK_ITV\"\u001b[39m -> com.github.propi.rdfrules.data.Graph@3b9151e2,\n",
       "  \u001b[32m\"pensions-by-district-by-sex-PK_VM\"\u001b[39m -> com.github.propi.rdfrules.data.Graph@3a..."
      ]
     },
     "metadata": {},
     "output_type": "display_data"
    }
   ],
   "source": [
    "var pensionsCubesMap: Map[String, Graph] = Map()\n",
    "graphs.foreach(g => {\n",
    "    val name = g.replaceAll(\"\\\\.ttl\", \"\").replaceAll(\"^.*/\", \"\")\n",
    "    pensionsCubesMap = pensionsCubesMap + (name -> Graph(g))\n",
    "})"
   ]
  },
  {
   "cell_type": "code",
   "execution_count": 8,
   "metadata": {},
   "outputs": [
    {
     "data": {
      "text/plain": [
       "\u001b[36mintervalCounts\u001b[39m: \u001b[32mArray\u001b[39m[\u001b[32mInt\u001b[39m] = \u001b[33mArray\u001b[39m(\u001b[32m2\u001b[39m, \u001b[32m3\u001b[39m)\n",
       "\u001b[36mequiFrequent\u001b[39m: \u001b[32mInt\u001b[39m => \u001b[32mDiscretizationTask\u001b[39m.\u001b[32mEquifrequency\u001b[39m = ammonite.$sess.cmd7$Helper$$Lambda$2971/0x0000000840cf0840@6eb8ffa"
      ]
     },
     "execution_count": 8,
     "metadata": {},
     "output_type": "execute_result"
    }
   ],
   "source": [
    "\n"
   ]
  },
  {
   "cell_type": "code",
   "execution_count": 9,
   "metadata": {},
   "outputs": [
    {
     "data": {
      "text/plain": [
       "\u001b[32mimport \u001b[39m\u001b[36meu.easyminer.discretization.impl.Interval\n",
       "\u001b[39m\n",
       "\u001b[32mimport \u001b[39m\u001b[36meu.easyminer.discretization.impl.IntervalBound._\n",
       "\u001b[39m\n",
       "\u001b[36mrounded\u001b[39m: (\u001b[32mDouble\u001b[39m, \u001b[32mInteger\u001b[39m) => \u001b[32mDouble\u001b[39m = ammonite.$sess.cmd8$Helper$$Lambda$2997/0x0000000840cff040@57344547\n",
       "\u001b[36mintervalToString\u001b[39m: \u001b[32mInterval\u001b[39m => \u001b[32mString\u001b[39m = ammonite.$sess.cmd8$Helper$$Lambda$2998/0x0000000840d00040@3eb653e1"
      ]
     },
     "execution_count": 9,
     "metadata": {},
     "output_type": "execute_result"
    }
   ],
   "source": [
    "import eu.easyminer.discretization.impl.Interval\n",
    "import eu.easyminer.discretization.impl.IntervalBound._\n",
    "val rounded = (value: Double, scale: Integer) => BigDecimal(value).setScale(scale, BigDecimal.RoundingMode.HALF_UP).toDouble\n",
    "val intervalToString = (i: Interval) => \"<\"+rounded(i.minValue.value,2)+ \"__\"+rounded(i.maxValue.value,2)+\")\""
   ]
  },
  {
   "cell_type": "code",
   "execution_count": 10,
   "metadata": {},
   "outputs": [
    {
     "data": {
      "text/plain": [
       "\u001b[36maverageAge\u001b[39m: \u001b[32mTripleItem\u001b[39m.\u001b[32mUri\u001b[39m = \u001b[33mLongUri\u001b[39m(\n",
       "  \u001b[32m\"https://data.cssz.cz/ontology/measure/prumerny-vek\"\u001b[39m\n",
       ")\n",
       "\u001b[36mpensionersCount\u001b[39m: \u001b[32mTripleItem\u001b[39m.\u001b[32mUri\u001b[39m = \u001b[33mLongUri\u001b[39m(\n",
       "  \u001b[32m\"https://data.cssz.cz/ontology/measure/pocet-duchodcu\"\u001b[39m\n",
       ")\n",
       "\u001b[36maveragePensionAmount\u001b[39m: \u001b[32mTripleItem\u001b[39m.\u001b[32mUri\u001b[39m = \u001b[33mLongUri\u001b[39m(\n",
       "  \u001b[32m\"https://data.cssz.cz/ontology/measure/prumerna-vyse-duchodu-v-kc\"\u001b[39m\n",
       ")\n",
       "\u001b[36mmeasureUris\u001b[39m: \u001b[32mArray\u001b[39m[\u001b[32mTripleItem\u001b[39m.\u001b[32mUri\u001b[39m] = \u001b[33mArray\u001b[39m(\n",
       "  \u001b[33mLongUri\u001b[39m(\u001b[32m\"https://data.cssz.cz/ontology/measure/prumerny-vek\"\u001b[39m),\n",
       "  \u001b[33mLongUri\u001b[39m(\u001b[32m\"https://data.cssz.cz/ontology/measure/pocet-duchodcu\"\u001b[39m),\n",
       "  \u001b[33mLongUri\u001b[39m(\u001b[32m\"https://data.cssz.cz/ontology/measure/prumerna-vyse-duchodu-v-kc\"\u001b[39m)\n",
       ")"
      ]
     },
     "execution_count": 10,
     "metadata": {},
     "output_type": "execute_result"
    }
   ],
   "source": [
    "val averageAge = TripleItem.Uri(\"https://data.cssz.cz/ontology/measure/prumerny-vek\")\n",
    "val pensionersCount = TripleItem.Uri(\"https://data.cssz.cz/ontology/measure/pocet-duchodcu\")\n",
    "val averagePensionAmount = TripleItem.Uri(\"https://data.cssz.cz/ontology/measure/prumerna-vyse-duchodu-v-kc\")\n",
    "val measureUris = Array(averageAge,pensionersCount,averagePensionAmount)"
   ]
  },
  {
   "cell_type": "code",
   "execution_count": 10,
   "metadata": {},
   "outputs": [
    {
     "name": "stderr",
     "output_type": "stream",
     "text": [
      "cmd10.sc:5: not found: value equiSize\n",
      "         .discretize(equiSize(absoluteSupport))(quad => quad.triple.predicate == measure)\n",
      "                     ^cmd10.sc:17: not found: value equiSize\n",
      "         .discretizeAndGetIntervals(equiSize(absoluteSupport))(quad => quad.triple.predicate == measure)   \n",
      "                                    ^Compilation Failed"
     ]
    },
    {
     "ename": "",
     "evalue": "",
     "output_type": "error",
     "traceback": [
      "Compilation Failed"
     ]
    }
   ],
   "source": [
    "val equiFrequent = (intervalCount: Int) => DiscretizationTask.Equifrequency(intervalCount)\n",
    "\n",
    "val discretizeEquifrequent = (graph: Graph, intervalsCount: Int, measure: TripleItem.Uri) => {\n",
    "    graph.filter(t => t.predicate == measure)\n",
    "         .discretize(equiFrequent(intervalsCount))(quad => quad.triple.predicate == measure)\n",
    "}\n",
    "\n",
    "val discretizeEquifrequentAndGetIntervals = (graph: Graph, intervalsCount: Int, measure: TripleItem.Uri) => {\n",
    "    graph.filter(t => t.predicate == measure)\n",
    "         .discretizeAndGetIntervals(equiFrequent(intervalsCount))(quad => quad.triple.predicate == measure)\n",
    "}"
   ]
  },
  {
   "cell_type": "code",
   "execution_count": null,
   "metadata": {},
   "outputs": [],
   "source": [
    "import eu.easyminer.discretization.impl.Interval\n",
    "\n",
    "val renameInterval = (t: Triple, intervals: IndexedSeq[Interval], suffix: String) => {\n",
    "    var result = t\n",
    "    intervals.foreach(interval => {\n",
    "        val _interval = t.`object`.asInstanceOf[TripleItem.Interval]\n",
    "        if (_interval.interval == interval) {\n",
    "            result = t.copy(`object` = TripleItem.Uri(_interval.toString+\"_\"+suffix+\"_\"+(intervals.indexOf(interval)+1)+\"/\"+intervals.size) )\n",
    "        }\n",
    "    })\n",
    "    result\n",
    "}\n",
    "\n",
    "val discretize = (graph: Graph, name: String, intervalCounts: Array[Int]) => {\n",
    "    var result = Dataset() + \n",
    "    graph.filter(t => !measureUris.contains(t.predicate))\n",
    "    .map(t => if (t.predicate.hasSameUriAs(qbDataSet)) t.copy(`object` = uri(name)) else t)\n",
    "    \n",
    "        measureUris.foreach(measure => {\n",
    "            intervalCounts.foreach(intervalCount => {\n",
    "                val intervals = discretizeEquifrequentAndGetIntervals(graph, intervalCount, measure)\n",
    "                val measures = discretizeEquifrequent(graph, intervalCount, measure)\n",
    "                result = result + measures.map(t => {renameInterval(t, intervals, \"ef\"+intervalCount)})\n",
    "            })\n",
    "    })\n",
    "    result\n",
    "}"
   ]
  },
  {
   "cell_type": "code",
   "execution_count": null,
   "metadata": {},
   "outputs": [],
   "source": [
    "val intervalCounts = Array(2,3)\n",
    "\n",
    "var dataset = Dataset()\n",
    "pensionsCubesMap\n",
    ".map(t => discretize(t._2,t._1,intervalCounts))\n",
    ".foreach(d => dataset = dataset + d)"
   ]
  },
  {
   "cell_type": "code",
   "execution_count": null,
   "metadata": {},
   "outputs": [],
   "source": [
    "dataset.cache(\"../cache/pensionsCube.cache\")\n",
    "//dataset.export(\"../exports/pensionsCube.ttl\")"
   ]
  },
  {
   "cell_type": "code",
   "execution_count": null,
   "metadata": {},
   "outputs": [],
   "source": [
    "var cachedDataset = Dataset.fromCache(\"../cache/pensionsCube.cache\")\n",
    "println(cachedDataset.size)\n",
    "println(dataset.size)"
   ]
  }
 ],
 "metadata": {
  "kernelspec": {
   "display_name": "Scala",
   "language": "scala",
   "name": "scala"
  },
  "language_info": {
   "codemirror_mode": "text/x-scala",
   "file_extension": ".sc",
   "mimetype": "text/x-scala",
   "name": "scala",
   "nbconvert_exporter": "script",
   "version": "2.12.8"
  }
 },
 "nbformat": 4,
 "nbformat_minor": 4
}
