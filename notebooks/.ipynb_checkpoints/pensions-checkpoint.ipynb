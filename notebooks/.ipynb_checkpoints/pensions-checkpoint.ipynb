{
 "cells": [
  {
   "cell_type": "code",
   "execution_count": 1,
   "metadata": {},
   "outputs": [],
   "source": [
    "kernel.silent(true)"
   ]
  },
  {
   "cell_type": "code",
   "execution_count": 2,
   "metadata": {},
   "outputs": [],
   "source": [
    "import coursierapi.MavenRepository\n",
    "interp.repositories() ++= Seq(MavenRepository.of(\"https://jitpack.io\"))"
   ]
  },
  {
   "cell_type": "code",
   "execution_count": 3,
   "metadata": {},
   "outputs": [],
   "source": [
    "import $ivy.`com.github.propi:rdfrules:1.5.0`\n",
    "import collection._\n",
    "import org.apache.jena.riot.Lang\n",
    "\n",
    "import com.github.propi.rdfrules.data._\n",
    "import com.github.propi.rdfrules.algorithm.amie._\n",
    "import com.github.propi.rdfrules.algorithm.dbscan._\n",
    "import com.github.propi.rdfrules.utils._\n",
    "import com.github.propi.rdfrules.index._\n",
    "import com.github.propi.rdfrules.rule._\n",
    "import com.github.propi.rdfrules.ruleset._\n",
    "kernel.silent(false)"
   ]
  },
  {
   "cell_type": "code",
   "execution_count": 4,
   "metadata": {},
   "outputs": [
    {
     "data": {
      "text/plain": [
       "\u001b[32mimport \u001b[39m\u001b[36mreflect.io._, Path._\n",
       "\u001b[39m\n",
       "\u001b[32mimport \u001b[39m\u001b[36mreflect.io._\n",
       "\u001b[39m\n",
       "\u001b[32mimport \u001b[39m\u001b[36mPath._\u001b[39m"
      ]
     },
     "execution_count": 4,
     "metadata": {},
     "output_type": "execute_result"
    }
   ],
   "source": [
    "import reflect.io._, Path._\n",
    "import reflect.io._\n",
    "import Path._"
   ]
  },
  {
   "cell_type": "code",
   "execution_count": 5,
   "metadata": {},
   "outputs": [
    {
     "data": {
      "text/plain": [
       "\u001b[36muri\u001b[39m: \u001b[32mString\u001b[39m => \u001b[32mTripleItem\u001b[39m.\u001b[32mUri\u001b[39m = ammonite.$sess.cmd4$Helper$$Lambda$2822/0x0000000840c77040@24f9326e\n",
       "\u001b[36mqbDataSet\u001b[39m: \u001b[32mString\u001b[39m = \u001b[32m\"http://purl.org/linked-data/cube#dataSet\"\u001b[39m"
      ]
     },
     "execution_count": 5,
     "metadata": {},
     "output_type": "execute_result"
    }
   ],
   "source": [
    "val uri = (value: String) => TripleItem.Uri(value)\n",
    "val qbDataSet = \"http://purl.org/linked-data/cube#dataSet\""
   ]
  },
  {
   "cell_type": "code",
   "execution_count": 6,
   "metadata": {},
   "outputs": [
    {
     "data": {
      "text/plain": [
       "\u001b[36mgraphs\u001b[39m: \u001b[32mIterator\u001b[39m[\u001b[32mString\u001b[39m] = \u001b[32mnon-empty iterator\u001b[39m"
      ]
     },
     "execution_count": 6,
     "metadata": {},
     "output_type": "execute_result"
    }
   ],
   "source": [
    "val graphs = \"../data/new-pensions\".toDirectory.files.map(_.path).filter(g => g matches \"\"\".*\\.ttl\"\"\")"
   ]
  },
  {
   "cell_type": "code",
   "execution_count": 7,
   "metadata": {},
   "outputs": [
    {
     "data": {
      "text/html": [
       "<div class=\"jp-RenderedText\">\n",
       "<pre><code><span style=\"color: rgb(0, 187, 187)\"><span class=\"ansi-cyan-fg\">pensionsCubesMap</span></span>: <span style=\"color: rgb(0, 187, 0)\"><span class=\"ansi-green-fg\">Map</span></span>[<span style=\"color: rgb(0, 187, 0)\"><span class=\"ansi-green-fg\">String</span></span>, <span style=\"color: rgb(0, 187, 0)\"><span class=\"ansi-green-fg\">Graph</span></span>] = <span style=\"color: yellow\"><span class=\"ansi-yellow-fg\">Map</span></span>(\n",
       "  <span style=\"color: rgb(0, 187, 0)\"><span class=\"ansi-green-fg\">&quot;pensions-total-by-sex-PK_D&quot;</span></span> -&gt; com.github.propi.rdfrules.data.Graph@1f654f59,\n",
       "  <span style=\"color: rgb(0, 187, 0)\"><span class=\"ansi-green-fg\">&quot;pensions-total-total-PK_V&quot;</span></span> -&gt; com.github.propi.rdfrules.data.Graph@680bd2b8,\n",
       "  <span style=\"color: rgb(0, 187, 0)\"><span class=\"ansi-green-fg\">&quot;pensions-by-district-by-sex-PK_ITVM&quot;</span></span> -&gt; com.github.propi.rdfrules.data.Graph@60951951,\n",
       "  <span style=\"color: rgb(0, 187, 0)\"><span class=\"ansi-green-fg\">&quot;pensions-by-region-total-PK_ITV&quot;</span></span> -&gt; com.github.propi.rdfrules.data.Graph@a43712c,\n",
       "  <span style=\"color: rgb(0, 187, 0)\"><span class=\"ansi-green-fg\">&quot;pensions-total-total-PK_SIV&quot;</span></span> -&gt; com.github.propi.rdfrules.data.Graph@37d61fe8,\n",
       "  <span style=\"color: rgb(0, 187, 0)\"><span class=\"ansi-green-fg\">&quot;pensions-total-by-sex-PK_IDVM&quot;</span></span> -&gt; com.github.propi.rdfrules.data.Graph@1fe85b8,\n",
       "  <span style=\"color: rgb(0, 187, 0)\"><span class=\"ansi-green-fg\">&quot;pensions-total-by-sex-PK_V_total&quot;</span></span> -&gt; com.github.propi.rdfrules.data.Graph@49e94b47,\n",
       "  <span style=\"color: rgb(0, 187, 0)\"><span class=\"ansi-green-fg\">&quot;pensions-by-district-total-PK_old_age_total_S_SI_SRN_ST_SD&quot;</span></span> -&gt; com.github.propi.rdfrules.data.Graph@58329947,\n",
       "  <span style=\"color: rgb(0, 187, 0)\"><span class=\"ansi-green-fg\">&quot;pensions-by-district-by-sex-PK_IP&quot;</span></span> -&gt; com.github.propi.rdfrules.data.Graph@5f1ce4f6,\n",
       "  <span style=\"color: rgb(0, 187, 0)\"><span class=\"ansi-green-fg\">&quot;pensions-by-district-by-sex-PK_SV&quot;</span></span> -&gt; com.github.propi.rdfrules.data.Graph@2a3a79e8,\n",
       "  <span style=\"color: rgb(0, 187, 0)\"><span class=\"ansi-green-fg\">&quot;pensions-by-region-by-sex-PK_SI&quot;</span></span> -&gt; com.github.propi.rdfrules.data.Graph@298aac9b,\n",
       "  <span style=\"color: rgb(0, 187, 0)\"><span class=\"ansi-green-fg\">&quot;pensions-total-by-sex-PK_VM_total&quot;</span></span> -&gt; com.github.propi.rdfrules.data.Graph@65bee04c,\n",
       "  <span style=\"color: rgb(0, 187, 0)\"><span class=\"ansi-green-fg\">&quot;pensions-by-district-total-PK_STV&quot;</span></span> -&gt; com.github.propi.rdfrules.data.Graph@5d3d8359,\n",
       "  <span style=\"color: rgb(0, 187, 0)\"><span class=\"ansi-green-fg\">&quot;pensions-total-by-sex-PK_SRVM&quot;</span></span> -&gt; com.github.propi.rdfrules.data.Graph@24b1542f,\n",
       "  <span style=\"color: rgb(0, 187, 0)\"><span class=\"ansi-green-fg\">&quot;pensions-total-total-PK_ST&quot;</span></span> -&gt; com.github.propi.rdfrules.data.Graph@58a3da56,\n",
       "  <span style=\"color: rgb(0, 187, 0)\"><span class=\"ansi-green-fg\">&quot;pensions-total-total-PK_IPV&quot;</span></span> -&gt; com.github.propi.rdfrules.data.Graph@4a8ded8e,\n",
       "  <span style=\"color: rgb(0, 187, 0)\"><span class=\"ansi-green-fg\">&quot;pensions-total-by-sex-PK_ITVM&quot;</span></span> -&gt; com.github.propi.rdfrules.data.Graph@7b9b98cd,\n",
       "  <span style=\"color: rgb(0, 187, 0)\"><span class=\"ansi-green-fg\">&quot;pensions-total-by-sex-PK_V-KOMB&quot;</span></span> -&gt; com.github.propi.rdfrules.data.Graph@55a5bbbd,\n",
       "  <span style=\"color: rgb(0, 187, 0)\"><span class=\"ansi-green-fg\">&quot;pensions-by-region-total-PK_SRV&quot;</span></span> -&gt; com.github.propi.rdfrules.data.Graph@1392ba35,\n",
       "  <span style=\"color: rgb(0, 187, 0)\"><span class=\"ansi-green-fg\">&quot;pensions-total-total-PK_ITV&quot;</span></span> -&gt; com.github.propi.rdfrules.data.Graph@36d6d454,\n",
       "  <span style=\"color: rgb(0, 187, 0)\"><span class=\"ansi-green-fg\">&quot;pensions-by-district-by-sex-PK_VM&quot;</span></span> -&gt; com.github.propi.rdfrules.data.Graph@11...</code></pre>\n",
       "</div>"
      ],
      "text/plain": [
       "\u001b[36mpensionsCubesMap\u001b[39m: \u001b[32mMap\u001b[39m[\u001b[32mString\u001b[39m, \u001b[32mGraph\u001b[39m] = \u001b[33mMap\u001b[39m(\n",
       "  \u001b[32m\"pensions-total-by-sex-PK_D\"\u001b[39m -> com.github.propi.rdfrules.data.Graph@1f654f59,\n",
       "  \u001b[32m\"pensions-total-total-PK_V\"\u001b[39m -> com.github.propi.rdfrules.data.Graph@680bd2b8,\n",
       "  \u001b[32m\"pensions-by-district-by-sex-PK_ITVM\"\u001b[39m -> com.github.propi.rdfrules.data.Graph@60951951,\n",
       "  \u001b[32m\"pensions-by-region-total-PK_ITV\"\u001b[39m -> com.github.propi.rdfrules.data.Graph@a43712c,\n",
       "  \u001b[32m\"pensions-total-total-PK_SIV\"\u001b[39m -> com.github.propi.rdfrules.data.Graph@37d61fe8,\n",
       "  \u001b[32m\"pensions-total-by-sex-PK_IDVM\"\u001b[39m -> com.github.propi.rdfrules.data.Graph@1fe85b8,\n",
       "  \u001b[32m\"pensions-total-by-sex-PK_V_total\"\u001b[39m -> com.github.propi.rdfrules.data.Graph@49e94b47,\n",
       "  \u001b[32m\"pensions-by-district-total-PK_old_age_total_S_SI_SRN_ST_SD\"\u001b[39m -> com.github.propi.rdfrules.data.Graph@58329947,\n",
       "  \u001b[32m\"pensions-by-district-by-sex-PK_IP\"\u001b[39m -> com.github.propi.rdfrules.data.Graph@5f1ce4f6,\n",
       "  \u001b[32m\"pensions-by-district-by-sex-PK_SV\"\u001b[39m -> com.github.propi.rdfrules.data.Graph@2a3a79e8,\n",
       "  \u001b[32m\"pensions-by-region-by-sex-PK_SI\"\u001b[39m -> com.github.propi.rdfrules.data.Graph@298aac9b,\n",
       "  \u001b[32m\"pensions-total-by-sex-PK_VM_total\"\u001b[39m -> com.github.propi.rdfrules.data.Graph@65bee04c,\n",
       "  \u001b[32m\"pensions-by-district-total-PK_STV\"\u001b[39m -> com.github.propi.rdfrules.data.Graph@5d3d8359,\n",
       "  \u001b[32m\"pensions-total-by-sex-PK_SRVM\"\u001b[39m -> com.github.propi.rdfrules.data.Graph@24b1542f,\n",
       "  \u001b[32m\"pensions-total-total-PK_ST\"\u001b[39m -> com.github.propi.rdfrules.data.Graph@58a3da56,\n",
       "  \u001b[32m\"pensions-total-total-PK_IPV\"\u001b[39m -> com.github.propi.rdfrules.data.Graph@4a8ded8e,\n",
       "  \u001b[32m\"pensions-total-by-sex-PK_ITVM\"\u001b[39m -> com.github.propi.rdfrules.data.Graph@7b9b98cd,\n",
       "  \u001b[32m\"pensions-total-by-sex-PK_V-KOMB\"\u001b[39m -> com.github.propi.rdfrules.data.Graph@55a5bbbd,\n",
       "  \u001b[32m\"pensions-by-region-total-PK_SRV\"\u001b[39m -> com.github.propi.rdfrules.data.Graph@1392ba35,\n",
       "  \u001b[32m\"pensions-total-total-PK_ITV\"\u001b[39m -> com.github.propi.rdfrules.data.Graph@36d6d454,\n",
       "  \u001b[32m\"pensions-by-district-by-sex-PK_VM\"\u001b[39m -> com.github.propi.rdfrules.data.Graph@11..."
      ]
     },
     "metadata": {},
     "output_type": "display_data"
    }
   ],
   "source": [
    "var pensionsCubesMap: Map[String, Graph] = Map()\n",
    "graphs.foreach(g => {\n",
    "    val name = g.replaceAll(\"\\\\.ttl\", \"\").replaceAll(\"^.*/\", \"\")\n",
    "    pensionsCubesMap = pensionsCubesMap + (name -> Graph(g))\n",
    "})"
   ]
  },
  {
   "cell_type": "code",
   "execution_count": 9,
   "metadata": {},
   "outputs": [
    {
     "data": {
      "text/plain": [
       "\u001b[36mintervalCounts\u001b[39m: \u001b[32mArray\u001b[39m[\u001b[32mInt\u001b[39m] = \u001b[33mArray\u001b[39m(\u001b[32m3\u001b[39m)\n",
       "\u001b[36msupportPercents\u001b[39m: \u001b[32mArray\u001b[39m[\u001b[32mNothing\u001b[39m] = \u001b[33mArray\u001b[39m()\n",
       "\u001b[36mequiSize\u001b[39m: \u001b[32mInt\u001b[39m => \u001b[32mDiscretizationTask\u001b[39m.\u001b[32mEquisize\u001b[39m = ammonite.$sess.cmd8$Helper$$Lambda$3012/0x0000000840d0d840@456e8d0d\n",
       "\u001b[36mequiFrequent\u001b[39m: \u001b[32mInt\u001b[39m => \u001b[32mDiscretizationTask\u001b[39m.\u001b[32mEquifrequency\u001b[39m = ammonite.$sess.cmd8$Helper$$Lambda$3013/0x0000000840d0e040@300bd246"
      ]
     },
     "execution_count": 9,
     "metadata": {},
     "output_type": "execute_result"
    }
   ],
   "source": [
    "//val intervalCounts = Array(2, 3, 5, 7)\n",
    "val intervalCounts = Array(2)\n",
    "//val supportPercents = Array(1, 2, 5, 10, 20)\n",
    "val supportPercents = Array()\n",
    "val equiSize = (support: Int) => DiscretizationTask.Equisize(support)\n",
    "val equiFrequent = (intervalCount: Int) => DiscretizationTask.Equifrequency(intervalCount)"
   ]
  },
  {
   "cell_type": "code",
   "execution_count": 10,
   "metadata": {},
   "outputs": [
    {
     "data": {
      "text/plain": [
       "\u001b[32mimport \u001b[39m\u001b[36meu.easyminer.discretization.impl.Interval\n",
       "\u001b[39m\n",
       "\u001b[32mimport \u001b[39m\u001b[36meu.easyminer.discretization.impl.IntervalBound._\n",
       "\u001b[39m\n",
       "\u001b[36mrounded\u001b[39m: (\u001b[32mDouble\u001b[39m, \u001b[32mInteger\u001b[39m) => \u001b[32mDouble\u001b[39m = ammonite.$sess.cmd9$Helper$$Lambda$3034/0x0000000840d1b040@703d9435\n",
       "\u001b[36mintervalToString\u001b[39m: \u001b[32mInterval\u001b[39m => \u001b[32mString\u001b[39m = ammonite.$sess.cmd9$Helper$$Lambda$3035/0x0000000840d1b840@52b6f5a8"
      ]
     },
     "execution_count": 10,
     "metadata": {},
     "output_type": "execute_result"
    }
   ],
   "source": [
    "import eu.easyminer.discretization.impl.Interval\n",
    "import eu.easyminer.discretization.impl.IntervalBound._\n",
    "val rounded = (value: Double, scale: Integer) => BigDecimal(value).setScale(scale, BigDecimal.RoundingMode.HALF_UP).toDouble\n",
    "val intervalToString = (i: Interval) => \"<\"+rounded(i.minValue.value,2)+ \"__\"+rounded(i.maxValue.value,2)+\")\""
   ]
  },
  {
   "cell_type": "code",
   "execution_count": 11,
   "metadata": {},
   "outputs": [
    {
     "data": {
      "text/plain": [
       "\u001b[36maverageAge\u001b[39m: \u001b[32mTripleItem\u001b[39m.\u001b[32mUri\u001b[39m = \u001b[33mLongUri\u001b[39m(\n",
       "  \u001b[32m\"https://data.cssz.cz/ontology/measure/prumerny-vek\"\u001b[39m\n",
       ")\n",
       "\u001b[36mpensionersCount\u001b[39m: \u001b[32mTripleItem\u001b[39m.\u001b[32mUri\u001b[39m = \u001b[33mLongUri\u001b[39m(\n",
       "  \u001b[32m\"https://data.cssz.cz/ontology/measure/pocet-duchodcu\"\u001b[39m\n",
       ")\n",
       "\u001b[36maveragePensionAmount\u001b[39m: \u001b[32mTripleItem\u001b[39m.\u001b[32mUri\u001b[39m = \u001b[33mLongUri\u001b[39m(\n",
       "  \u001b[32m\"https://data.cssz.cz/ontology/measure/prumerna-vyse-duchodu-v-kc\"\u001b[39m\n",
       ")\n",
       "\u001b[36mmeasureUris\u001b[39m: \u001b[32mArray\u001b[39m[\u001b[32mTripleItem\u001b[39m.\u001b[32mUri\u001b[39m] = \u001b[33mArray\u001b[39m(\n",
       "  \u001b[33mLongUri\u001b[39m(\u001b[32m\"https://data.cssz.cz/ontology/measure/prumerny-vek\"\u001b[39m),\n",
       "  \u001b[33mLongUri\u001b[39m(\u001b[32m\"https://data.cssz.cz/ontology/measure/pocet-duchodcu\"\u001b[39m),\n",
       "  \u001b[33mLongUri\u001b[39m(\u001b[32m\"https://data.cssz.cz/ontology/measure/prumerna-vyse-duchodu-v-kc\"\u001b[39m)\n",
       ")"
      ]
     },
     "execution_count": 11,
     "metadata": {},
     "output_type": "execute_result"
    }
   ],
   "source": [
    "val averageAge = TripleItem.Uri(\"https://data.cssz.cz/ontology/measure/prumerny-vek\")\n",
    "val pensionersCount = TripleItem.Uri(\"https://data.cssz.cz/ontology/measure/pocet-duchodcu\")\n",
    "val averagePensionAmount = TripleItem.Uri(\"https://data.cssz.cz/ontology/measure/prumerna-vyse-duchodu-v-kc\")\n",
    "val measureUris = Array(averageAge,pensionersCount,averagePensionAmount)"
   ]
  },
  {
   "cell_type": "code",
   "execution_count": 12,
   "metadata": {},
   "outputs": [
    {
     "data": {
      "text/plain": [
       "\u001b[36mdiscretizeEquisize\u001b[39m: (\u001b[32mGraph\u001b[39m, \u001b[32mInt\u001b[39m, \u001b[32mTripleItem\u001b[39m.\u001b[32mUri\u001b[39m) => \u001b[32mGraph\u001b[39m = ammonite.$sess.cmd11$Helper$$Lambda$3070/0x0000000840d38840@1185ea35\n",
       "\u001b[36mdiscretizeEquifrequent\u001b[39m: (\u001b[32mGraph\u001b[39m, \u001b[32mInt\u001b[39m, \u001b[32mTripleItem\u001b[39m.\u001b[32mUri\u001b[39m) => \u001b[32mGraph\u001b[39m = ammonite.$sess.cmd11$Helper$$Lambda$3071/0x0000000840d38c40@387306bc\n",
       "\u001b[36mdiscretizeEquisizeAndGetIntervals\u001b[39m: (\u001b[32mGraph\u001b[39m, \u001b[32mInt\u001b[39m, \u001b[32mTripleItem\u001b[39m.\u001b[32mUri\u001b[39m) => \u001b[32mIndexedSeq\u001b[39m[\u001b[32mInterval\u001b[39m] = ammonite.$sess.cmd11$Helper$$Lambda$3072/0x0000000840d39040@2cab8b15\n",
       "\u001b[36mdiscretizeEquifrequentAndGetIntervals\u001b[39m: (\u001b[32mGraph\u001b[39m, \u001b[32mInt\u001b[39m, \u001b[32mTripleItem\u001b[39m.\u001b[32mUri\u001b[39m) => \u001b[32mIndexedSeq\u001b[39m[\u001b[32mInterval\u001b[39m] = ammonite.$sess.cmd11$Helper$$Lambda$3073/0x0000000840d39440@762bf3f6"
      ]
     },
     "execution_count": 12,
     "metadata": {},
     "output_type": "execute_result"
    }
   ],
   "source": [
    "val discretizeEquisize = (graph: Graph, relativeSupport: Int, measure: TripleItem.Uri) => {\n",
    "    val observationsCount = graph.filter(t => t.predicate.hasSameUriAs(qbDataSet)).size\n",
    "    val absoluteSupport = (observationsCount * (relativeSupport.toFloat / 100)).ceil.toInt\n",
    "    graph.filter(t => t.predicate == measure)\n",
    "         .discretize(equiSize(absoluteSupport))(quad => quad.triple.predicate == measure)\n",
    "}\n",
    "\n",
    "val discretizeEquifrequent = (graph: Graph, intervalsCount: Int, measure: TripleItem.Uri) => {\n",
    "    graph.filter(t => t.predicate == measure)\n",
    "         .discretize(equiFrequent(intervalsCount))(quad => quad.triple.predicate == measure)\n",
    "}\n",
    "\n",
    "val discretizeEquisizeAndGetIntervals = (graph: Graph, relativeSupport: Int, measure: TripleItem.Uri) => {\n",
    "    val observationsCount = graph.filter(t => t.predicate.hasSameUriAs(qbDataSet)).size\n",
    "    val absoluteSupport = (observationsCount * (relativeSupport.toFloat / 100)).ceil.toInt\n",
    "    graph.filter(t => t.predicate == measure)\n",
    "         .discretizeAndGetIntervals(equiSize(absoluteSupport))(quad => quad.triple.predicate == measure)   \n",
    "}\n",
    "\n",
    "val discretizeEquifrequentAndGetIntervals = (graph: Graph, intervalsCount: Int, measure: TripleItem.Uri) => {\n",
    "    graph.filter(t => t.predicate == measure)\n",
    "         .discretizeAndGetIntervals(equiFrequent(intervalsCount))(quad => quad.triple.predicate == measure)\n",
    "}"
   ]
  },
  {
   "cell_type": "code",
   "execution_count": 13,
   "metadata": {},
   "outputs": [
    {
     "data": {
      "text/plain": [
       "\u001b[36mlowerBound\u001b[39m: \u001b[32mString\u001b[39m => \u001b[32mString\u001b[39m = ammonite.$sess.cmd12$Helper$$Lambda$3108/0x0000000840d50840@3784a409\n",
       "\u001b[36mupperBound\u001b[39m: \u001b[32mString\u001b[39m => \u001b[32mString\u001b[39m = ammonite.$sess.cmd12$Helper$$Lambda$3109/0x0000000840d51040@7481aecc\n",
       "\u001b[36mlowerBoundInterval\u001b[39m: \u001b[32mInterval\u001b[39m => \u001b[32mString\u001b[39m = ammonite.$sess.cmd12$Helper$$Lambda$3110/0x0000000840d52040@16b9d994\n",
       "\u001b[36mupperBoundInterval\u001b[39m: \u001b[32mInterval\u001b[39m => \u001b[32mString\u001b[39m = ammonite.$sess.cmd12$Helper$$Lambda$3111/0x0000000840d52840@29a773b1\n",
       "\u001b[36mequalIntervals\u001b[39m: (\u001b[32mString\u001b[39m, \u001b[32mInterval\u001b[39m) => \u001b[32mBoolean\u001b[39m = ammonite.$sess.cmd12$Helper$$Lambda$3112/0x0000000840d53840@7eb63066"
      ]
     },
     "execution_count": 13,
     "metadata": {},
     "output_type": "execute_result"
    }
   ],
   "source": [
    "val lowerBound = (interval: String) => interval.split(\" \")(1)\n",
    "val upperBound = (interval: String) => interval.split(\" \")(3)\n",
    "val lowerBoundInterval = (interval: Interval) => interval.minValue.value.toString\n",
    "val upperBoundInterval = (interval: Interval) => interval.maxValue.value.toString\n",
    "\n",
    "val equalIntervals = (i1: String, i2: Interval) => {\n",
    "    lowerBound(i1).equals(lowerBoundInterval(i2)) && upperBound(i1).equals(upperBoundInterval(i2))\n",
    "}"
   ]
  },
  {
   "cell_type": "code",
   "execution_count": 15,
   "metadata": {},
   "outputs": [
    {
     "data": {
      "text/plain": [
       "\u001b[36mrenameInterval\u001b[39m: (\u001b[32mTriple\u001b[39m, \u001b[32mIndexedSeq\u001b[39m[\u001b[32mInterval\u001b[39m], \u001b[32mString\u001b[39m) => \u001b[32mTriple\u001b[39m = ammonite.$sess.cmd14$Helper$$Lambda$3184/0x0000000840d8f040@4b481a09\n",
       "\u001b[36mdiscretize\u001b[39m: (\u001b[32mGraph\u001b[39m, \u001b[32mString\u001b[39m) => \u001b[32mDataset\u001b[39m = ammonite.$sess.cmd14$Helper$$Lambda$3185/0x0000000840d8f840@63b24ebc"
      ]
     },
     "execution_count": 15,
     "metadata": {},
     "output_type": "execute_result"
    }
   ],
   "source": [
    "val renameInterval = (t: Triple, intervals: IndexedSeq[Interval], suffix: String) => {\n",
    "    var result = t\n",
    "    intervals.foreach(interval => {\n",
    "        if (equalIntervals(t.`object`.toString, interval)) {\n",
    "            result = t.copy(`object` = TripleItem.Uri(intervalToString(interval)+\"_\"+suffix+\"_\"+(intervals.indexOf(interval)+1)+\"/\"+intervals.size) )\n",
    "        }\n",
    "    })\n",
    "    result\n",
    "}\n",
    "\n",
    "val discretize = (graph: Graph, name: String) => {\n",
    "    var result = Dataset() + \n",
    "    graph.filter(t => !measureUris.contains(t.predicate))\n",
    "    .map(t => if (t.predicate.hasSameUriAs(qbDataSet)) t.copy(`object` = uri(name)) else t)\n",
    "        \n",
    "        measureUris.foreach(measure => {\n",
    "            if (intervalCounts.length > 0) {\n",
    "                intervalCounts.foreach(intervalCount => {\n",
    "                    val intervals = discretizeEquifrequentAndGetIntervals(graph, intervalCount, measure)\n",
    "                    val measures = discretizeEquifrequent(graph, intervalCount, measure)\n",
    "                    result = result + measures.map(t => {renameInterval(t, intervals, \"ef\"+intervalCount)})\n",
    "                })\n",
    "            }        \n",
    "            /*if (supportPercents.length > 0) {\n",
    "                supportPercents.foreach(percentage => {\n",
    "                    val intervals = discretizeEquisizeAndGetIntervals(graph, percentage, measure)\n",
    "                    val measures = discretizeEquisize(graph, percentage, measure)\n",
    "                    result = result + measures.map(t => {renameInterval(t, intervals, \"es\"+percentage)})\n",
    "                })\n",
    "            }*/\n",
    "    })\n",
    "    result\n",
    "}"
   ]
  },
  {
   "cell_type": "code",
   "execution_count": 16,
   "metadata": {},
   "outputs": [
    {
     "data": {
      "text/html": [
       "<div class=\"jp-RenderedText\">\n",
       "<pre><code><span style=\"color: rgb(0, 187, 187)\"><span class=\"ansi-cyan-fg\">dataset</span></span>: <span style=\"color: rgb(0, 187, 0)\"><span class=\"ansi-green-fg\">Dataset</span></span> = com.github.propi.rdfrules.data.Dataset@6ad11d73</code></pre>\n",
       "</div>"
      ],
      "text/plain": [
       "\u001b[36mdataset\u001b[39m: \u001b[32mDataset\u001b[39m = com.github.propi.rdfrules.data.Dataset@6ad11d73"
      ]
     },
     "metadata": {},
     "output_type": "display_data"
    }
   ],
   "source": [
    "var dataset = Dataset()\n",
    "pensionsCubesMap\n",
    ".map(t => discretize(t._2,t._1))\n",
    ".foreach(d => dataset = dataset + d)"
   ]
  },
  {
   "cell_type": "code",
   "execution_count": 17,
   "metadata": {},
   "outputs": [
    {
     "data": {
      "text/plain": [
       "\u001b[36mres16_0\u001b[39m: \u001b[32mDataset\u001b[39m = com.github.propi.rdfrules.data.Dataset@663476d3"
      ]
     },
     "execution_count": 17,
     "metadata": {},
     "output_type": "execute_result"
    }
   ],
   "source": [
    "dataset.cache(\"../cache/pensionsCube.cache\")\n",
    "//dataset.export(\"../exports/pensionsCube.ttl\")"
   ]
  },
  {
   "cell_type": "code",
   "execution_count": null,
   "metadata": {},
   "outputs": [
    {
     "name": "stdout",
     "output_type": "stream",
     "text": [
      "5392800\n"
     ]
    }
   ],
   "source": [
    "var cachedDataset = Dataset.fromCache(\"../cache/pensionsCube.cache\")\n",
    "println(cachedDataset.size)\n",
    "println(dataset.size)"
   ]
  },
  {
   "cell_type": "code",
   "execution_count": 7,
   "metadata": {},
   "outputs": [
    {
     "data": {
      "text/plain": [
       "\u001b[36muri\u001b[39m: \u001b[32mString\u001b[39m => \u001b[32mTripleItem\u001b[39m.\u001b[32mUri\u001b[39m = ammonite.$sess.cmd6$Helper$$Lambda$2971/0x0000000840cfc040@2097a78b\n",
       "\u001b[36mqbDataSet\u001b[39m: \u001b[32mString\u001b[39m = \u001b[32m\"http://purl.org/linked-data/cube#dataSet\"\u001b[39m\n",
       "\u001b[36mrenameDataset\u001b[39m: (\u001b[32mString\u001b[39m, \u001b[32mGraph\u001b[39m) => (\u001b[32mString\u001b[39m, \u001b[32mGraph\u001b[39m) = ammonite.$sess.cmd6$Helper$$Lambda$2972/0x0000000840cfc840@74cd9a5d\n",
       "\u001b[36mpensionsCubeMapRenamed\u001b[39m: \u001b[32mMap\u001b[39m[\u001b[32mString\u001b[39m, \u001b[32mGraph\u001b[39m] = \u001b[33mMap\u001b[39m(\n",
       "  \u001b[32m\"pensions-total-by-sex-PK_D\"\u001b[39m -> com.github.propi.rdfrules.data.Graph@4540c9fe,\n",
       "  \u001b[32m\"pensions-total-total-PK_V\"\u001b[39m -> com.github.propi.rdfrules.data.Graph@5bad01c9,\n",
       "  \u001b[32m\"pensions-by-district-by-sex-PK_ITVM\"\u001b[39m -> com.github.propi.rdfrules.data.Graph@217b41ef,\n",
       "  \u001b[32m\"pensions-by-region-total-PK_ITV\"\u001b[39m -> com.github.propi.rdfrules.data.Graph@78b42b31,\n",
       "  \u001b[32m\"pensions-total-total-PK_SIV\"\u001b[39m -> com.github.propi.rdfrules.data.Graph@3bf812e0,\n",
       "  \u001b[32m\"pensions-total-by-sex-PK_IDVM\"\u001b[39m -> com.github.propi.rdfrules.data.Graph@868ff1f,\n",
       "  \u001b[32m\"pensions-total-by-sex-PK_V_total\"\u001b[39m -> com.github.propi.rdfrules.data.Graph@7367b3c4,\n",
       "  \u001b[32m\"pensions-by-district-total-PK_old_age_total_S_SI_SRN_ST_SD\"\u001b[39m -> com.github.propi.rdfrules.data.Graph@2a53f33a,\n",
       "  \u001b[32m\"pensions-by-district-by-sex-PK_IP\"\u001b[39m -> com.github.propi.rdfrules.data.Graph@51c79b82,\n",
       "  \u001b[32m\"pensions-by-district-by-sex-PK_SV\"\u001b[39m -> com.github.propi.rdfrules.data.Graph@1e1806a2,\n",
       "  \u001b[32m\"pensions-by-region-by-sex-PK_SI\"\u001b[39m -> com.github.propi.rdfrules.data.Graph@50af6f36,\n",
       "  \u001b[32m\"pensions-total-by-sex-PK_VM_total\"\u001b[39m -> com.github.propi.rdfrules.data.Graph@65508c3a,\n",
       "  \u001b[32m\"pensions-by-district-total-PK_STV\"\u001b[39m -> com.github.propi.rdfrules.data.Graph@8261099,\n",
       "  \u001b[32m\"pensions-total-by-sex-PK_SRVM\"\u001b[39m -> com.github.propi.rdfrules.data.Graph@56d52a29,\n",
       "  \u001b[32m\"pensions-total-total-PK_ST\"\u001b[39m -> com.github.propi.rdfrules.data.Graph@7d28391a,\n",
       "  \u001b[32m\"pensions-total-total-PK_IPV\"\u001b[39m -> com.github.propi.rdfrules.data.Graph@1cf84bd9,\n",
       "  \u001b[32m\"pensions-total-by-sex-PK_ITVM\"\u001b[39m -> com.github.propi.rdfrules.data.Graph@24623207,\n",
       "  \u001b[32m\"pensions-total-by-sex-PK_V-KOMB\"\u001b[39m -> com.github.propi.rdfrules.data.Graph@5b99d0c0,\n",
       "  \u001b[32m\"pensions-by-region-total-PK_SRV\"\u001b[39m -> com.github.propi.rdfrules.data.Graph@67c5d240,\n",
       "  \u001b[32m\"pensions-total-total-PK_ITV\"\u001b[39m -> com.github.propi.rdfrules.data.Graph@39bdebe2,\n",
       "  \u001b[32m\"pensions-by-district-by-sex-PK_VM\"\u001b[39m -> com.github.propi.rdfrules.data.Graph@c7..."
      ]
     },
     "execution_count": 7,
     "metadata": {},
     "output_type": "execute_result"
    }
   ],
   "source": [
    "val renameDataset = (t: Tuple2[String, Graph]) => {\n",
    "    val name = t._1\n",
    "    val cube = t._2.map(t => if (t.predicate.hasSameUriAs(qbDataSet)) t.copy(`object` = uri(name)) else t)\n",
    "    Tuple2(name, cube)\n",
    "}\n",
    "val pensionsCubeMapRenamed = pensionsCubesMap.map(renameDataset)"
   ]
  },
  {
   "cell_type": "code",
   "execution_count": 8,
   "metadata": {},
   "outputs": [
    {
     "data": {
      "text/plain": [
       "\u001b[36mintervalsCount\u001b[39m: \u001b[32mInt\u001b[39m = \u001b[32m5\u001b[39m\n",
       "\u001b[36mequiFrequent\u001b[39m: \u001b[32mDiscretizationTask\u001b[39m.\u001b[32mEquifrequency\u001b[39m = \u001b[33mEquifrequency\u001b[39m(\n",
       "  \u001b[32m5\u001b[39m,\n",
       "  \u001b[32m15000000\u001b[39m,\n",
       "  External\n",
       ")\n",
       "\u001b[36mhasPredicate\u001b[39m: (\u001b[32mQuad\u001b[39m, \u001b[32mString\u001b[39m) => \u001b[32mBoolean\u001b[39m = ammonite.$sess.cmd7$Helper$$Lambda$2999/0x0000000840d0d040@73cf2446\n",
       "\u001b[32mimport \u001b[39m\u001b[36meu.easyminer.discretization.impl.Interval\n",
       "\u001b[39m\n",
       "\u001b[32mimport \u001b[39m\u001b[36meu.easyminer.discretization.impl.IntervalBound._\n",
       "\u001b[39m\n",
       "\u001b[36mrounded\u001b[39m: (\u001b[32mDouble\u001b[39m, \u001b[32mInteger\u001b[39m) => \u001b[32mDouble\u001b[39m = ammonite.$sess.cmd7$Helper$$Lambda$3000/0x0000000840d0d840@14d995ce\n",
       "\u001b[36mintervalToString\u001b[39m: \u001b[32mInterval\u001b[39m => \u001b[32mString\u001b[39m = ammonite.$sess.cmd7$Helper$$Lambda$3001/0x0000000840d0e840@240fa145"
      ]
     },
     "execution_count": 8,
     "metadata": {},
     "output_type": "execute_result"
    }
   ],
   "source": [
    "val intervalsCount = 5\n",
    "val equiFrequent = DiscretizationTask.Equifrequency(intervalsCount)\n",
    "val hasPredicate = (quad: Quad, uri: String) => quad.triple.predicate.hasSameUriAs(uri)\n",
    "import eu.easyminer.discretization.impl.Interval\n",
    "import eu.easyminer.discretization.impl.IntervalBound._\n",
    "val rounded = (value: Double, scale: Integer) => BigDecimal(value).setScale(scale, BigDecimal.RoundingMode.HALF_UP).toDouble\n",
    "val intervalToString = (i: Interval) => \"<\"+rounded(i.minValue.value,2)+ \"__\"+rounded(i.maxValue.value,2)+\")\""
   ]
  },
  {
   "cell_type": "code",
   "execution_count": 9,
   "metadata": {},
   "outputs": [
    {
     "data": {
      "text/plain": [
       "\u001b[36maverageAge\u001b[39m: \u001b[32mString\u001b[39m = \u001b[32m\"https://data.cssz.cz/ontology/measure/prumerny-vek\"\u001b[39m\n",
       "\u001b[36mpensionersCount\u001b[39m: \u001b[32mString\u001b[39m = \u001b[32m\"https://data.cssz.cz/ontology/measure/pocet-duchodcu\"\u001b[39m\n",
       "\u001b[36maveragePensionAmount\u001b[39m: \u001b[32mString\u001b[39m = \u001b[32m\"https://data.cssz.cz/ontology/measure/prumerna-vyse-duchodu-v-kc\"\u001b[39m\n",
       "\u001b[36mdiscretizeAndPrintIntervals\u001b[39m: (\u001b[32mString\u001b[39m, \u001b[32mGraph\u001b[39m) => \u001b[32mUnit\u001b[39m = ammonite.$sess.cmd8$Helper$$Lambda$3028/0x0000000840d1e040@42fa2393\n",
       "\u001b[36mdiscretizeDataset\u001b[39m: (\u001b[32mString\u001b[39m, \u001b[32mGraph\u001b[39m) => (\u001b[32mString\u001b[39m, \u001b[32mGraph\u001b[39m) = ammonite.$sess.cmd8$Helper$$Lambda$3029/0x0000000840d1f040@4dd13a6a\n",
       "\u001b[36mpensionsCubeDiscretized\u001b[39m: \u001b[32mMap\u001b[39m[\u001b[32mString\u001b[39m, \u001b[32mGraph\u001b[39m] = \u001b[33mMap\u001b[39m(\n",
       "  \u001b[32m\"pensions-total-by-sex-PK_D\"\u001b[39m -> com.github.propi.rdfrules.data.Graph@7d3fad86,\n",
       "  \u001b[32m\"pensions-total-total-PK_V\"\u001b[39m -> com.github.propi.rdfrules.data.Graph@3a193fad,\n",
       "  \u001b[32m\"pensions-by-district-by-sex-PK_ITVM\"\u001b[39m -> com.github.propi.rdfrules.data.Graph@359eb78,\n",
       "  \u001b[32m\"pensions-by-region-total-PK_ITV\"\u001b[39m -> com.github.propi.rdfrules.data.Graph@4d130aaf,\n",
       "  \u001b[32m\"pensions-total-total-PK_SIV\"\u001b[39m -> com.github.propi.rdfrules.data.Graph@4d40cd16,\n",
       "  \u001b[32m\"pensions-total-by-sex-PK_IDVM\"\u001b[39m -> com.github.propi.rdfrules.data.Graph@3e577744,\n",
       "  \u001b[32m\"pensions-total-by-sex-PK_V_total\"\u001b[39m -> com.github.propi.rdfrules.data.Graph@729949dd,\n",
       "  \u001b[32m\"pensions-by-district-total-PK_old_age_total_S_SI_SRN_ST_SD\"\u001b[39m -> com.github.propi.rdfrules.data.Graph@270a7353,\n",
       "  \u001b[32m\"pensions-by-district-by-sex-PK_IP\"\u001b[39m -> com.github.propi.rdfrules.data.Graph@6c6932d9,\n",
       "  \u001b[32m\"pensions-by-district-by-sex-PK_SV\"\u001b[39m -> com.github.propi.rdfrules.data.Graph@69819547,\n",
       "  \u001b[32m\"pensions-by-region-by-sex-PK_SI\"\u001b[39m -> com.github.propi.rdfrules.data.Graph@51eefe0b,\n",
       "  \u001b[32m\"pensions-total-by-sex-PK_VM_total\"\u001b[39m -> com.github.propi.rdfrules.data.Graph@258a8f8e,\n",
       "  \u001b[32m\"pensions-by-district-total-PK_STV\"\u001b[39m -> com.github.propi.rdfrules.data.Graph@d09e1c,\n",
       "  \u001b[32m\"pensions-total-by-sex-PK_SRVM\"\u001b[39m -> com.github.propi.rdfrules.data.Graph@651e18ec,\n",
       "  \u001b[32m\"pensions-total-total-PK_ST\"\u001b[39m -> com.github.propi.rdfrules.data.Graph@4326bce2,\n",
       "  \u001b[32m\"pensions-total-total-PK_IPV\"\u001b[39m -> com.github.propi.rdfrules.data.Graph@3221adf7,\n",
       "  \u001b[32m\"pensions-total-by-sex-PK_ITVM\"\u001b[39m -> com.github.propi.rdfrules.data.Graph@3685f5d1,\n",
       "  \u001b[32m\"pensions-total-by-sex-PK_V-KOMB\"\u001b[39m -> com.github.propi.rdfrules.data.Graph@23494295,\n",
       "  \u001b[32m\"pensions-by-region-total-PK_SRV\"\u001b[39m -> com.github.propi.rdfrules.data.Graph@557e3bb2,\n",
       "  \u001b[32m\"pensions-total-total-PK_ITV\"\u001b[39m -> com.github.propi.rdfrules.data.Graph@6a0f6aff,\n",
       "  \u001b[32m\"pensions-by-district-by-sex-PK_VM\"\u001b[39m -> com.github.propi.rdfrules.data.Graph@73..."
      ]
     },
     "execution_count": 9,
     "metadata": {},
     "output_type": "execute_result"
    }
   ],
   "source": [
    "val averageAge = \"https://data.cssz.cz/ontology/measure/prumerny-vek\"\n",
    "val pensionersCount = \"https://data.cssz.cz/ontology/measure/pocet-duchodcu\"\n",
    "val averagePensionAmount = \"https://data.cssz.cz/ontology/measure/prumerna-vyse-duchodu-v-kc\"\n",
    "\n",
    "val discretizeAndPrintIntervals = (t: Tuple2[String, Graph]) => {\n",
    "    println(t._1 + \"\\n\")\n",
    "    println(\"averageAge\")\n",
    "    t._2.discretizeAndGetIntervals(equiFrequent)(quad => hasPredicate(quad, averageAge))\n",
    "    .foreach(i => print(intervalToString(i) + \"  \"))\n",
    "    println(\"\\npensionersCount\")\n",
    "    t._2.discretizeAndGetIntervals(equiFrequent)(quad => hasPredicate(quad, pensionersCount))\n",
    "    .foreach(i => print(intervalToString(i) + \"  \"))\n",
    "    println(\"\\naveragePensionAmount\")\n",
    "    t._2.discretizeAndGetIntervals(equiFrequent)(quad => hasPredicate(quad, averagePensionAmount))\n",
    "    .foreach(i => print(intervalToString(i) + \"  \"))\n",
    "    println(\"\\n\\n\")\n",
    "}\n",
    "\n",
    "val discretizeDataset = (t: Tuple2[String, Graph]) => {\n",
    "    val cube = t._2\n",
    "    .discretize(equiFrequent)(quad => hasPredicate(quad, averageAge))\n",
    "    .discretize(equiFrequent)(quad => hasPredicate(quad, pensionersCount))\n",
    "    .discretize(equiFrequent)(quad => hasPredicate(quad, averagePensionAmount))\n",
    "    Tuple2(t._1, cube)\n",
    "}\n",
    "//pensionsCubeMapRenamed.map(discretizeAndPrintIntervals)\n",
    "val pensionsCubeDiscretized = pensionsCubeMapRenamed.map(discretizeDataset)"
   ]
  }
 ],
 "metadata": {
  "kernelspec": {
   "display_name": "Scala",
   "language": "scala",
   "name": "scala"
  },
  "language_info": {
   "codemirror_mode": "text/x-scala",
   "file_extension": ".sc",
   "mimetype": "text/x-scala",
   "name": "scala",
   "nbconvert_exporter": "script",
   "version": "2.12.8"
  }
 },
 "nbformat": 4,
 "nbformat_minor": 4
}
