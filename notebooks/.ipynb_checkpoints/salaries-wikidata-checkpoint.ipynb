{
 "cells": [
  {
   "cell_type": "code",
   "execution_count": 1,
   "metadata": {},
   "outputs": [],
   "source": [
    "kernel.silent(true)"
   ]
  },
  {
   "cell_type": "code",
   "execution_count": 2,
   "metadata": {},
   "outputs": [],
   "source": [
    "import coursierapi.MavenRepository\n",
    "interp.repositories() ++= Seq(MavenRepository.of(\"https://jitpack.io\"))"
   ]
  },
  {
   "cell_type": "code",
   "execution_count": 3,
   "metadata": {},
   "outputs": [],
   "source": [
    "import $ivy.`com.github.propi:rdfrules:1.5.0`\n",
    "import collection._\n",
    "import org.apache.jena.riot.Lang\n",
    "\n",
    "import com.github.propi.rdfrules.data._\n",
    "import com.github.propi.rdfrules.algorithm.amie._\n",
    "import com.github.propi.rdfrules.algorithm.dbscan._\n",
    "import com.github.propi.rdfrules.utils._\n",
    "import com.github.propi.rdfrules.index._\n",
    "import com.github.propi.rdfrules.rule._\n",
    "import com.github.propi.rdfrules.ruleset._\n",
    "kernel.silent(false)"
   ]
  },
  {
   "cell_type": "code",
   "execution_count": 4,
   "metadata": {},
   "outputs": [
    {
     "data": {
      "text/plain": [
       "\u001b[36msalariesDataset\u001b[39m: \u001b[32mDataset\u001b[39m = com.github.propi.rdfrules.data.Dataset@13adbbdf\n",
       "\u001b[36mres3_1\u001b[39m: \u001b[32mInt\u001b[39m = \u001b[32m2898\u001b[39m"
      ]
     },
     "execution_count": 4,
     "metadata": {},
     "output_type": "execute_result"
    }
   ],
   "source": [
    "val salariesDataset = Dataset.fromCache(\"../cache/salariesCube.cache\")\n",
    "salariesDataset.size"
   ]
  },
  {
   "cell_type": "code",
   "execution_count": 5,
   "metadata": {},
   "outputs": [
    {
     "data": {
      "text/plain": [
       "\u001b[36mrefPeriodLinking\u001b[39m: \u001b[32mDataset\u001b[39m = com.github.propi.rdfrules.data.Dataset@67480079\n",
       "\u001b[36mres4_1\u001b[39m: \u001b[32mInt\u001b[39m = \u001b[32m84\u001b[39m"
      ]
     },
     "execution_count": 5,
     "metadata": {},
     "output_type": "execute_result"
    }
   ],
   "source": [
    "val refPeriodLinking = Dataset(\"../data/linking/refPeriodLinking.ttl\")\n",
    "refPeriodLinking.size"
   ]
  },
  {
   "cell_type": "code",
   "execution_count": 6,
   "metadata": {},
   "outputs": [
    {
     "data": {
      "text/plain": [
       "\u001b[36mwikidata\u001b[39m: \u001b[32mDataset\u001b[39m = com.github.propi.rdfrules.data.Dataset@36a26e2\n",
       "\u001b[36mres5_1\u001b[39m: \u001b[32mInt\u001b[39m = \u001b[32m24410\u001b[39m"
      ]
     },
     "execution_count": 6,
     "metadata": {},
     "output_type": "execute_result"
    }
   ],
   "source": [
    "val wikidata = Dataset.fromCache(\"../cache/wikidata.cache\")\n",
    "wikidata.size"
   ]
  },
  {
   "cell_type": "code",
   "execution_count": 7,
   "metadata": {},
   "outputs": [
    {
     "data": {
      "text/plain": [
       "\u001b[36mczsoWikidataLinking\u001b[39m: \u001b[32mDataset\u001b[39m = com.github.propi.rdfrules.data.Dataset@65f5568b\n",
       "\u001b[36mres6_1\u001b[39m: \u001b[32mInt\u001b[39m = \u001b[32m90\u001b[39m"
      ]
     },
     "execution_count": 7,
     "metadata": {},
     "output_type": "execute_result"
    }
   ],
   "source": [
    "val czsoWikidataLinking = Dataset(\"../data/linking/czsoWikidataLinking.ttl\")\n",
    "czsoWikidataLinking.size"
   ]
  },
  {
   "cell_type": "code",
   "execution_count": 10,
   "metadata": {},
   "outputs": [
    {
     "data": {
      "text/plain": [
       "\u001b[36mdataset\u001b[39m: \u001b[32mDataset\u001b[39m = com.github.propi.rdfrules.data.Dataset@235aeaab\n",
       "\u001b[36mres9_1\u001b[39m: \u001b[32mInt\u001b[39m = \u001b[32m27482\u001b[39m"
      ]
     },
     "execution_count": 10,
     "metadata": {},
     "output_type": "execute_result"
    }
   ],
   "source": [
    "val dataset = salariesDataset + refPeriodLinking + wikidata + czsoWikidataLinking\n",
    "dataset.size"
   ]
  },
  {
   "cell_type": "code",
   "execution_count": 11,
   "metadata": {},
   "outputs": [
    {
     "data": {
      "text/plain": [
       "\u001b[36mindex\u001b[39m: \u001b[32mIndex\u001b[39m = com.github.propi.rdfrules.index.Index$FromDatasetFullyPreservedIndex@6b5e887e"
      ]
     },
     "execution_count": 11,
     "metadata": {},
     "output_type": "execute_result"
    }
   ],
   "source": [
    "val index = dataset.index()"
   ]
  },
  {
   "cell_type": "code",
   "execution_count": 12,
   "metadata": {},
   "outputs": [
    {
     "data": {
      "text/plain": [
       "\u001b[36muri\u001b[39m: \u001b[32mString\u001b[39m => \u001b[32mTripleItem\u001b[39m.\u001b[32mUri\u001b[39m = ammonite.$sess.cmd11$Helper$$Lambda$2960/0x0000000840dc9840@2671fd6e\n",
       "\u001b[36mappliesTo\u001b[39m: \u001b[32mTripleItem\u001b[39m.\u001b[32mUri\u001b[39m = \u001b[33mLongUri\u001b[39m(\n",
       "  \u001b[32m\"http://kizi.vse.cz/novp19/diploma-thesis/appliesToRefPeriod\"\u001b[39m\n",
       ")\n",
       "\u001b[36mwdProperty\u001b[39m: \u001b[32mInt\u001b[39m => \u001b[32mTripleItem\u001b[39m.\u001b[32mUri\u001b[39m = ammonite.$sess.cmd11$Helper$$Lambda$2961/0x0000000840dca040@6d29d921\n",
       "\u001b[36mqbDataSet\u001b[39m: \u001b[32mTripleItem\u001b[39m.\u001b[32mUri\u001b[39m = \u001b[33mLongUri\u001b[39m(\u001b[32m\"http://purl.org/linked-data/cube#dataSet\"\u001b[39m)\n",
       "\u001b[36maverageSalary\u001b[39m: \u001b[32mTripleItem\u001b[39m.\u001b[32mUri\u001b[39m = \u001b[33mLongUri\u001b[39m(\n",
       "  \u001b[32m\"http://data.czso.cz/ontology/prumernaMzda\"\u001b[39m\n",
       ")\n",
       "\u001b[36mmedianSalary\u001b[39m: \u001b[32mTripleItem\u001b[39m.\u001b[32mUri\u001b[39m = \u001b[33mLongUri\u001b[39m(\n",
       "  \u001b[32m\"http://data.czso.cz/ontology/medianMzdy\"\u001b[39m\n",
       ")\n",
       "\u001b[36moneOfSalariesMeasures\u001b[39m: \u001b[32mAtomPattern\u001b[39m.\u001b[32mAtomItemPattern\u001b[39m.\u001b[32mOneOf\u001b[39m = \u001b[33mOneOf\u001b[39m(\n",
       "  \u001b[33mArrayBuffer\u001b[39m(\n",
       "    \u001b[33mConstant\u001b[39m(\u001b[33mLongUri\u001b[39m(\u001b[32m\"http://data.czso.cz/ontology/prumernaMzda\"\u001b[39m)),\n",
       "    \u001b[33mConstant\u001b[39m(\u001b[33mLongUri\u001b[39m(\u001b[32m\"http://data.czso.cz/ontology/medianMzdy\"\u001b[39m))\n",
       "  )\n",
       ")\n",
       "\u001b[36mczsoOntology\u001b[39m: \u001b[32mString\u001b[39m = \u001b[32m\"http://data.czso.cz/ontology/\"\u001b[39m\n",
       "\u001b[36mczsoRefPeriod\u001b[39m: \u001b[32mTripleItem\u001b[39m.\u001b[32mUri\u001b[39m = \u001b[33mLongUri\u001b[39m(\n",
       "  \u001b[32m\"http://data.czso.cz/ontology/refPeriod\"\u001b[39m\n",
       ")\n",
       "\u001b[36mczsoRefArea\u001b[39m: \u001b[32mTripleItem\u001b[39m.\u001b[32mUri\u001b[39m = \u001b[33mLongUri\u001b[39m(\u001b[32m\"http://data.czso.cz/ontology/refArea\"\u001b[39m)\n",
       "\u001b[36mczsoSex\u001b[39m: \u001b[32mTripleItem\u001b[39m.\u001b[32mUri\u001b[39m = \u001b[33mLongUri\u001b[39m(\u001b[32m\"http://data.czso.cz/ontology/sex\"\u001b[39m)\n",
       "\u001b[36mconstantsAtObject\u001b[39m: \u001b[32mRuleConstraint\u001b[39m.\u001b[32mConstantsAtPosition\u001b[39m.\u001b[32mConstantsPosition\u001b[39m.\u001b[32mObject\u001b[39m.type = Object\n",
       "\u001b[36mconstantsOnlyAtObject\u001b[39m: \u001b[32mRuleConstraint\u001b[39m.\u001b[32mConstantsAtPosition\u001b[39m = \u001b[33mConstantsAtPosition\u001b[39m(\n",
       "  Object\n",
       ")\n",
       "\u001b[36msalariesTotal\u001b[39m: \u001b[32mTripleItem\u001b[39m.\u001b[32mUri\u001b[39m = \u001b[33mLongUri\u001b[39m(\u001b[32m\"salaries-total\"\u001b[39m)"
      ]
     },
     "execution_count": 12,
     "metadata": {},
     "output_type": "execute_result"
    }
   ],
   "source": [
    "val uri = (value: String) => TripleItem.Uri(value)\n",
    "val appliesTo = uri(\"http://kizi.vse.cz/novp19/diploma-thesis/appliesToRefPeriod\")\n",
    "val wdProperty = (value: Int) => uri(\"http://www.wikidata.org/prop/P\" + value)\n",
    "val qbDataSet = uri(\"http://purl.org/linked-data/cube#dataSet\")\n",
    "\n",
    "// salariesMeasures\n",
    "val averageSalary = TripleItem.Uri(\"http://data.czso.cz/ontology/prumernaMzda\")\n",
    "val medianSalary = TripleItem.Uri(\"http://data.czso.cz/ontology/medianMzdy\")\n",
    "val oneOfSalariesMeasures = OneOf(averageSalary,medianSalary)\n",
    "\n",
    "// czso dimensions\n",
    "val czsoOntology = \"http://data.czso.cz/ontology/\"\n",
    "val czsoRefPeriod = uri(czsoOntology+\"refPeriod\")\n",
    "val czsoRefArea = uri(czsoOntology+\"refArea\")\n",
    "val czsoSex = uri(czsoOntology+\"sex\")\n",
    "\n",
    "val constantsAtObject = RuleConstraint.ConstantsAtPosition.ConstantsPosition.Object\n",
    "val constantsOnlyAtObject = RuleConstraint.ConstantsAtPosition(constantsAtObject)\n",
    "\n",
    "val salariesTotal = uri(\"salaries-total\")"
   ]
  },
  {
   "cell_type": "code",
   "execution_count": 29,
   "metadata": {},
   "outputs": [
    {
     "data": {
      "text/plain": [
       "\u001b[36msalariesPartyAlignmentPattern\u001b[39m: \u001b[32mRulePattern\u001b[39m = \u001b[33mRulePattern\u001b[39m(\n",
       "  \u001b[33mVector\u001b[39m(\n",
       "    \u001b[33mAtomPattern\u001b[39m(\n",
       "      \u001b[33mVariable\u001b[39m(\u001b[33mVariable\u001b[39m(\u001b[32m3\u001b[39m)),\n",
       "      \u001b[33mConstant\u001b[39m(\u001b[33mLongUri\u001b[39m(\u001b[32m\"http://data.czso.cz/ontology/refArea\"\u001b[39m)),\n",
       "      \u001b[33mVariable\u001b[39m(\u001b[33mVariable\u001b[39m(\u001b[32m6\u001b[39m)),\n",
       "      Any\n",
       "    ),\n",
       "    \u001b[33mAtomPattern\u001b[39m(\n",
       "      \u001b[33mVariable\u001b[39m(\u001b[33mVariable\u001b[39m(\u001b[32m6\u001b[39m)),\n",
       "      \u001b[33mConstant\u001b[39m(\u001b[33mLongUri\u001b[39m(\u001b[32m\"http://www.wikidata.org/prop/P6\"\u001b[39m)),\n",
       "      \u001b[33mVariable\u001b[39m(\u001b[33mVariable\u001b[39m(\u001b[32m5\u001b[39m)),\n",
       "      Any\n",
       "    ),\n",
       "    \u001b[33mAtomPattern\u001b[39m(\n",
       "      \u001b[33mVariable\u001b[39m(\u001b[33mVariable\u001b[39m(\u001b[32m5\u001b[39m)),\n",
       "      \u001b[33mConstant\u001b[39m(\u001b[33mLongUri\u001b[39m(\u001b[32m\"http://www.wikidata.org/prop/P6\"\u001b[39m)),\n",
       "      \u001b[33mVariable\u001b[39m(\u001b[33mVariable\u001b[39m(\u001b[32m4\u001b[39m)),\n",
       "      Any\n",
       "    ),\n",
       "    \u001b[33mAtomPattern\u001b[39m(\n",
       "      \u001b[33mVariable\u001b[39m(\u001b[33mVariable\u001b[39m(\u001b[32m4\u001b[39m)),\n",
       "      \u001b[33mConstant\u001b[39m(\u001b[33mLongUri\u001b[39m(\u001b[32m\"http://www.wikidata.org/prop/P102\"\u001b[39m)),\n",
       "      \u001b[33mVariable\u001b[39m(\u001b[33mVariable\u001b[39m(\u001b[32m1\u001b[39m)),\n",
       "      Any\n",
       "    ),\n",
       "    \u001b[33mAtomPattern\u001b[39m(\n",
       "      \u001b[33mVariable\u001b[39m(\u001b[33mVariable\u001b[39m(\u001b[32m3\u001b[39m)),\n",
       "      \u001b[33mOneOf\u001b[39m(\n",
       "        \u001b[33mArrayBuffer\u001b[39m(\n",
       "          \u001b[33mConstant\u001b[39m(\u001b[33mLongUri\u001b[39m(\u001b[32m\"http://data.czso.cz/ontology/prumernaMzda\"\u001b[39m)),\n",
       "          \u001b[33mConstant\u001b[39m(\u001b[33mLongUri\u001b[39m(\u001b[32m\"http://data.czso.cz/ontology/medianMzdy\"\u001b[39m))\n",
       "        )\n",
       "      ),\n",
       "      AnyConstant,\n",
       "      Any\n",
       "    ),\n",
       "    \u001b[33mAtomPattern\u001b[39m(\n",
       "      \u001b[33mVariable\u001b[39m(\u001b[33mVariable\u001b[39m(\u001b[32m3\u001b[39m)),\n",
       "..."
      ]
     },
     "execution_count": 29,
     "metadata": {},
     "output_type": "execute_result"
    }
   ],
   "source": [
    "val salariesPartyAlignmentPattern: RulePattern = (\n",
    "    AtomPattern(subject = 'd', predicate = czsoRefArea, `object` = 'g') &:\n",
    "    AtomPattern(subject = 'g', predicate = wdProperty(6), `object` = 'f') &:\n",
    "    AtomPattern(subject = 'f', predicate = wdProperty(6), `object` = 'e') &:   \n",
    "    AtomPattern(subject = 'e', predicate = wdProperty(102), `object` = 'b') &:\n",
    "    AtomPattern(subject = 'd', predicate = oneOfSalariesMeasures, `object` = AnyConstant) &:\n",
    "    AtomPattern(subject = 'd', predicate = qbDataSet, `object` = salariesTotal) &:\n",
    "    \n",
    "    AtomPattern(subject = 'd', predicate = czsoRefPeriod, `object` = 'c') &:\n",
    "    AtomPattern(subject = 'b', predicate = appliesTo, `object` = 'c') &:\n",
    "    AtomPattern(subject = 'b', predicate = wdProperty(102), `object` = 'a')\n",
    "    =>:\n",
    "    AtomPattern(subject = 'a', predicate = wdProperty(1387), `object` = AnyConstant)\n",
    ")"
   ]
  },
  {
   "cell_type": "code",
   "execution_count": 32,
   "metadata": {},
   "outputs": [
    {
     "data": {
      "text/plain": [
       "\u001b[36msalariesPartyAlignmentPatternTask\u001b[39m: \u001b[32mcom\u001b[39m.\u001b[32mgithub\u001b[39m.\u001b[32mpropi\u001b[39m.\u001b[32mrdfrules\u001b[39m.\u001b[32malgorithm\u001b[39m.\u001b[32mRulesMining\u001b[39m = com.github.propi.rdfrules.algorithm.amie.Amie@6502a9db"
      ]
     },
     "execution_count": 32,
     "metadata": {},
     "output_type": "execute_result"
    }
   ],
   "source": [
    "val salariesPartyAlignmentPatternTask = Amie()\n",
    "    .addThreshold(Threshold.MinSupport(1))\n",
    "    .addThreshold(Threshold.MaxRuleLength(10))\n",
    "    .addThreshold(Threshold.MinHeadSize(0))\n",
    "    .addThreshold(Threshold.Timeout(1))\n",
    "    .addConstraint(constantsOnlyAtObject)\n",
    "    .addPattern(salariesPartyAlignmentPattern)"
   ]
  },
  {
   "cell_type": "code",
   "execution_count": 33,
   "metadata": {},
   "outputs": [
    {
     "name": "stderr",
     "output_type": "stream",
     "text": [
      "2021-04-19 16:53:42:471 +0200 [scala-interpreter-1] INFO com.github.propi.rdfrules.utils.Debugger - Amie task settings:\n",
      "MinHeadSize=1,\n",
      "MinHeadCoverage=0.0,\n",
      "MinSupport=1,\n",
      "MaxThreads=4,\n",
      "MinAtomSize=0,\n",
      "MaxRuleLength=10,\n",
      "WithConstants=true,\n",
      "ConstantsPosition=Object,\n",
      "Timeout=60000,\n",
      "WithDuplicitPredicates=true,\n",
      "Patterns=List(Mapped(Vector(Mapped(Variable(?d),Constant(Constant(1481837794)),Variable(?g),Any), Mapped(Variable(?g),Constant(Constant(774364698)),Variable(?f),Any), Mapped(Variable(?f),Constant(Constant(774364698)),Variable(?e),Any), Mapped(Variable(?e),Constant(Constant(52500897)),Variable(?b),Any), Mapped(Variable(?d),OneOf(ArrayBuffer(Constant(Constant(1433642368)), Constant(Constant(1396113393)))),AnyConstant,Any), Mapped(Variable(?d),Constant(Constant(624690160)),Constant(Constant(79965660)),Any), Mapped(Variable(?d),Constant(Constant(-901057765)),Variable(?c),Any), Mapped(Variable(?b),Constant(Constant(217712947)),Variable(?c),Any), Mapped(Variable(?b),Constant(Constant(52500897)),Variable(?a),Any)),Some(Mapped(Variable(?a),Constant(Constant(1496784743)),AnyConstant,Any)),false,false)),\n",
      "OnlyPredicates=None,\n",
      "WithoutPredicates=None\n"
     ]
    },
    {
     "name": "stdout",
     "output_type": "stream",
     "text": [
      "343\n"
     ]
    },
    {
     "data": {
      "text/plain": [
       "\u001b[36msalariesPartyAlignmentPatternTaskRuleset\u001b[39m: \u001b[32mRuleset\u001b[39m = com.github.propi.rdfrules.ruleset.Ruleset@6c1e53fc"
      ]
     },
     "execution_count": 33,
     "metadata": {},
     "output_type": "execute_result"
    }
   ],
   "source": [
    "val salariesPartyAlignmentPatternTaskRuleset = index.mine(salariesPartyAlignmentPatternTask)\n",
    "println(salariesPartyAlignmentPatternTaskRuleset.size)"
   ]
  },
  {
   "cell_type": "code",
   "execution_count": 35,
   "metadata": {},
   "outputs": [],
   "source": [
    "salariesPartyAlignmentPatternTaskRuleset.export(\"../rulesets/salariesPartyAlignmentPatternTaskRuleset.txt\")"
   ]
  },
  {
   "cell_type": "markdown",
   "metadata": {},
   "source": [
    "mám dost chabé možnosti filtrovat pravidla podle textových hodnot jejich atomů, ale né, resolved rules"
   ]
  },
  {
   "cell_type": "code",
   "execution_count": 51,
   "metadata": {
    "collapsed": true
   },
   "outputs": [
    {
     "data": {
      "text/plain": [
       "\u001b[36mres50\u001b[39m: \u001b[32mTripleItem\u001b[39m.\u001b[32mUri\u001b[39m = \u001b[33mPrefixedUri\u001b[39m(\n",
       "  \u001b[33mFull\u001b[39m(\u001b[32m\"czso\"\u001b[39m, \u001b[32m\"http://data.czso.cz/ontology/\"\u001b[39m),\n",
       "  \u001b[32m\"refArea\"\u001b[39m\n",
       ")"
      ]
     },
     "execution_count": 51,
     "metadata": {},
     "output_type": "execute_result"
    }
   ],
   "source": [
    "// salaries party\n",
    "// mám\n",
    "salariesPartyAlignmentPatternTaskRuleset.resolvedRules.head.body.head.predicate.to"
   ]
  }
 ],
 "metadata": {
  "kernelspec": {
   "display_name": "Scala",
   "language": "scala",
   "name": "scala"
  },
  "language_info": {
   "codemirror_mode": "text/x-scala",
   "file_extension": ".sc",
   "mimetype": "text/x-scala",
   "name": "scala",
   "nbconvert_exporter": "script",
   "version": "2.12.8"
  }
 },
 "nbformat": 4,
 "nbformat_minor": 4
}
