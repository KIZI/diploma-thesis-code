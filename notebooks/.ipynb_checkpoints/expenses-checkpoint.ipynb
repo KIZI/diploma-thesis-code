{
 "cells": [
  {
   "cell_type": "code",
   "execution_count": 1,
   "metadata": {},
   "outputs": [],
   "source": [
    "kernel.silent(true)"
   ]
  },
  {
   "cell_type": "code",
   "execution_count": 2,
   "metadata": {},
   "outputs": [],
   "source": [
    "import coursierapi.MavenRepository\n",
    "interp.repositories() ++= Seq(MavenRepository.of(\"https://jitpack.io\"))"
   ]
  },
  {
   "cell_type": "code",
   "execution_count": 3,
   "metadata": {},
   "outputs": [],
   "source": [
    "import $ivy.`com.github.propi:rdfrules:1.5.0`\n",
    "//import $ivy.`com.github.propi.rdfrules::core:1.0.0`\n",
    "import collection._\n",
    "import org.apache.jena.riot.Lang\n",
    "import reflect.io._, Path._\n",
    "import reflect.io._\n",
    "import Path._\n",
    "import com.github.propi.rdfrules.data._\n",
    "import com.github.propi.rdfrules.algorithm.amie._\n",
    "import com.github.propi.rdfrules.algorithm.dbscan._\n",
    "import com.github.propi.rdfrules.utils._\n",
    "import com.github.propi.rdfrules.index._\n",
    "import com.github.propi.rdfrules.rule._\n",
    "import com.github.propi.rdfrules.ruleset._\n",
    "kernel.silent(false)"
   ]
  },
  {
   "cell_type": "code",
   "execution_count": 4,
   "metadata": {},
   "outputs": [
    {
     "data": {
      "text/plain": [
       "\u001b[36muri\u001b[39m: \u001b[32mString\u001b[39m => \u001b[32mTripleItem\u001b[39m.\u001b[32mUri\u001b[39m = ammonite.$sess.cmd3$Helper$$Lambda$2926/0x0000000840ca2840@17602015\n",
       "\u001b[36mqbDataSet\u001b[39m: \u001b[32mString\u001b[39m = \u001b[32m\"http://purl.org/linked-data/cube#dataSet\"\u001b[39m"
      ]
     },
     "execution_count": 4,
     "metadata": {},
     "output_type": "execute_result"
    }
   ],
   "source": [
    "val uri = (value: String) => TripleItem.Uri(value)\n",
    "val qbDataSet = \"http://purl.org/linked-data/cube#dataSet\""
   ]
  },
  {
   "cell_type": "code",
   "execution_count": 5,
   "metadata": {},
   "outputs": [
    {
     "data": {
      "text/plain": [
       "\u001b[36mgraphs\u001b[39m: \u001b[32mIterator\u001b[39m[\u001b[32mString\u001b[39m] = \u001b[32mnon-empty iterator\u001b[39m"
      ]
     },
     "execution_count": 5,
     "metadata": {},
     "output_type": "execute_result"
    }
   ],
   "source": [
    "val graphs = \"../data/expenses\".toDirectory.files.map(_.path).filter(g => g matches \"\"\".*\\.ttl\"\"\")"
   ]
  },
  {
   "cell_type": "code",
   "execution_count": 6,
   "metadata": {},
   "outputs": [
    {
     "name": "stderr",
     "output_type": "stream",
     "text": [
      "SLF4J: Failed to load class \"org.slf4j.impl.StaticLoggerBinder\".\n",
      "SLF4J: Defaulting to no-operation (NOP) logger implementation\n",
      "SLF4J: See http://www.slf4j.org/codes.html#StaticLoggerBinder for further details.\n"
     ]
    },
    {
     "data": {
      "text/html": [
       "<div class=\"jp-RenderedText\">\n",
       "<pre><code><span style=\"color: rgb(0, 187, 187)\"><span class=\"ansi-cyan-fg\">expensesCubesMap</span></span>: <span style=\"color: rgb(0, 187, 0)\"><span class=\"ansi-green-fg\">Map</span></span>[<span style=\"color: rgb(0, 187, 0)\"><span class=\"ansi-green-fg\">String</span></span>, <span style=\"color: rgb(0, 187, 0)\"><span class=\"ansi-green-fg\">Graph</span></span>] = <span style=\"color: yellow\"><span class=\"ansi-yellow-fg\">Map</span></span>(\n",
       "  <span style=\"color: rgb(0, 187, 0)\"><span class=\"ansi-green-fg\">&quot;expenses-ip&quot;</span></span> -&gt; com.github.propi.rdfrules.data.Graph@6c88e534,\n",
       "  <span style=\"color: rgb(0, 187, 0)\"><span class=\"ansi-green-fg\">&quot;expenses-v-total&quot;</span></span> -&gt; com.github.propi.rdfrules.data.Graph@67ed76ee,\n",
       "  <span style=\"color: rgb(0, 187, 0)\"><span class=\"ansi-green-fg\">&quot;expenses-old-age-total&quot;</span></span> -&gt; com.github.propi.rdfrules.data.Graph@37e68ab0,\n",
       "  <span style=\"color: rgb(0, 187, 0)\"><span class=\"ansi-green-fg\">&quot;expenses-id&quot;</span></span> -&gt; com.github.propi.rdfrules.data.Graph@6854c488,\n",
       "  <span style=\"color: rgb(0, 187, 0)\"><span class=\"ansi-green-fg\">&quot;expenses-d&quot;</span></span> -&gt; com.github.propi.rdfrules.data.Graph@34849ffd,\n",
       "  <span style=\"color: rgb(0, 187, 0)\"><span class=\"ansi-green-fg\">&quot;expenses-vm-total&quot;</span></span> -&gt; com.github.propi.rdfrules.data.Graph@3852c585,\n",
       "  <span style=\"color: rgb(0, 187, 0)\"><span class=\"ansi-green-fg\">&quot;expenses-jpd&quot;</span></span> -&gt; com.github.propi.rdfrules.data.Graph@3b626b35,\n",
       "  <span style=\"color: rgb(0, 187, 0)\"><span class=\"ansi-green-fg\">&quot;expenses-it&quot;</span></span> -&gt; com.github.propi.rdfrules.data.Graph@75dc9855,\n",
       "  <span style=\"color: rgb(0, 187, 0)\"><span class=\"ansi-green-fg\">&quot;expenses-total-in-cze-and-abroad&quot;</span></span> -&gt; com.github.propi.rdfrules.data.Graph@65b78a64,\n",
       "  <span style=\"color: rgb(0, 187, 0)\"><span class=\"ansi-green-fg\">&quot;expenses-v-vm-total&quot;</span></span> -&gt; com.github.propi.rdfrules.data.Graph@4be705ba\n",
       ")</code></pre>\n",
       "</div>"
      ],
      "text/plain": [
       "\u001b[36mexpensesCubesMap\u001b[39m: \u001b[32mMap\u001b[39m[\u001b[32mString\u001b[39m, \u001b[32mGraph\u001b[39m] = \u001b[33mMap\u001b[39m(\n",
       "  \u001b[32m\"expenses-ip\"\u001b[39m -> com.github.propi.rdfrules.data.Graph@6c88e534,\n",
       "  \u001b[32m\"expenses-v-total\"\u001b[39m -> com.github.propi.rdfrules.data.Graph@67ed76ee,\n",
       "  \u001b[32m\"expenses-old-age-total\"\u001b[39m -> com.github.propi.rdfrules.data.Graph@37e68ab0,\n",
       "  \u001b[32m\"expenses-id\"\u001b[39m -> com.github.propi.rdfrules.data.Graph@6854c488,\n",
       "  \u001b[32m\"expenses-d\"\u001b[39m -> com.github.propi.rdfrules.data.Graph@34849ffd,\n",
       "  \u001b[32m\"expenses-vm-total\"\u001b[39m -> com.github.propi.rdfrules.data.Graph@3852c585,\n",
       "  \u001b[32m\"expenses-jpd\"\u001b[39m -> com.github.propi.rdfrules.data.Graph@3b626b35,\n",
       "  \u001b[32m\"expenses-it\"\u001b[39m -> com.github.propi.rdfrules.data.Graph@75dc9855,\n",
       "  \u001b[32m\"expenses-total-in-cze-and-abroad\"\u001b[39m -> com.github.propi.rdfrules.data.Graph@65b78a64,\n",
       "  \u001b[32m\"expenses-v-vm-total\"\u001b[39m -> com.github.propi.rdfrules.data.Graph@4be705ba\n",
       ")"
      ]
     },
     "metadata": {},
     "output_type": "display_data"
    }
   ],
   "source": [
    "var expensesCubesMap: Map[String, Graph] = Map()\n",
    "graphs.foreach(g => {\n",
    "    val name = g.replaceAll(\"\\\\.ttl\", \"\").replaceAll(\"^.*/\", \"\")\n",
    "    expensesCubesMap = expensesCubesMap + (name -> Graph(g))\n",
    "    \n",
    "})"
   ]
  },
  {
   "cell_type": "code",
   "execution_count": null,
   "metadata": {},
   "outputs": [],
   "source": [
    "val expendatureAmount = TripleItem.Uri(\"https://data.cssz.cz/ontology/measure/vydaje-na-duchody-opravene-o-zalohy-v-tis-kc\")\n",
    "val measureUris = Array(expendatureAmount)"
   ]
  },
  {
   "cell_type": "code",
   "execution_count": null,
   "metadata": {},
   "outputs": [],
   "source": [
    "import $ivy.`org.plotly-scala::plotly-almond:0.8.1`\n",
    "import plotly._, plotly.element._, plotly.layout._, plotly.Almond._\n",
    "\n",
    "// if you want to have the plots available without an internet connection:\n",
    "init(offline=true)\n",
    "\n",
    "// restrict the output height to avoid scrolling in output cells\n",
    "repl.pprinter() = repl.pprinter().copy(defaultHeight = 3)"
   ]
  },
  {
   "cell_type": "code",
   "execution_count": null,
   "metadata": {},
   "outputs": [],
   "source": [
    "var data = expensesCubesMap\n",
    ".map(i => {\n",
    "    val seq = i._2.triples.toSeq.sortBy(t => t.subject.toString).filter(rr => rr.predicate == expendatureAmount)\n",
    "    Scatter(\n",
    "    seq.map(t => t.subject.toString.replaceAll(\"(.*)(\\\\d{4})(.*)\", \"$2\")),\n",
    "    seq.map(t => t.`object`.toString.toDouble)\n",
    "    ,name = i._1.replace(\"expenses-\",\"\")\n",
    "    )\n",
    "}).toSeq\n",
    "plot(data)"
   ]
  },
  {
   "cell_type": "code",
   "execution_count": null,
   "metadata": {},
   "outputs": [],
   "source": [
    "val scatterbyPK = (pk: String, name: String) => {\n",
    "    \n",
    "    val seq = expensesCubesMap\n",
    "        .filter(i => i._1 == pk)\n",
    "        .head._2.triples.toSeq\n",
    "        .sortBy(t => t.subject.toString)\n",
    "        .filter(rr => rr.predicate == expendatureAmount)\n",
    "    \n",
    "    Scatter(\n",
    "        seq.map(t => t.subject.toString.replaceAll(\"(.*)(\\\\d{4})(.*)\", \"$2\")),\n",
    "        seq.map(t => t.`object`.toString.toDouble), \n",
    "        name = name)\n",
    "}\n",
    "\n",
    "val trace1 = scatterbyPK(\"expenses-old-age-total\",\"Total old-age pensions\")\n",
    ".withXaxis(AxisReference.X1)\n",
    ".withYaxis(AxisReference.Y1)\n",
    "\n",
    "val trace2 = scatterbyPK(\"expenses-it\",\"Third degree invalidity pension\")\n",
    ".withXaxis(AxisReference.X2)\n",
    ".withYaxis(AxisReference.Y2)\n",
    "\n",
    "val layout = Layout()\n",
    "    //.withTitle(\"Expenditure of sele\")\n",
    "    .withXaxis(Axis().withAnchor(AxisAnchor.Reference(AxisReference.Y1)).withDomain(Range.fromDoubleTuple(0, 0.45)))\n",
    "    .withYaxis(Axis().withAnchor(AxisAnchor.Reference(AxisReference.X1)).withDomain(Range.fromDoubleTuple(0.0, 1)))\n",
    "    .withXaxis2(Axis().withAnchor(AxisAnchor.Reference(AxisReference.Y2)).withDomain(Range.fromDoubleTuple(0.55, 1)))\n",
    "    .withYaxis2(Axis().withAnchor(AxisAnchor.Reference(AxisReference.X2)).withDomain(Range.fromDoubleTuple(0.0, 1)))\n",
    "\n",
    "val data = Seq(trace1, trace2)\n",
    "plot(data, layout)"
   ]
  },
  {
   "cell_type": "code",
   "execution_count": null,
   "metadata": {},
   "outputs": [],
   "source": [
    "val intervalCounts = Array(2, 3, 5)\n",
    "val supportPercents = Array(20, 30, 50)\n",
    "val equiSize = (support: Int) => DiscretizationTask.Equisize(support)\n",
    "val equiFrequent = (intervalCount: Int) => DiscretizationTask.Equifrequency(intervalCount)"
   ]
  },
  {
   "cell_type": "code",
   "execution_count": null,
   "metadata": {},
   "outputs": [],
   "source": [
    "import eu.easyminer.discretization.impl.Interval\n",
    "import eu.easyminer.discretization.impl.IntervalBound._\n",
    "val rounded = (value: Double, scale: Integer) => BigDecimal(value).setScale(scale, BigDecimal.RoundingMode.HALF_UP).toDouble"
   ]
  },
  {
   "cell_type": "code",
   "execution_count": null,
   "metadata": {},
   "outputs": [],
   "source": [
    "val discretizeEquisize = (graph: Graph, relativeSupport: Int, measure: TripleItem.Uri) => {\n",
    "    val observationsCount = graph.filter(t => t.predicate.hasSameUriAs(qbDataSet)).size\n",
    "    val absoluteSupport = (observationsCount * (relativeSupport.toFloat / 100)).ceil.toInt\n",
    "    graph.filter(t => t.predicate == measure)\n",
    "         .discretize(equiSize(absoluteSupport))(quad => quad.triple.predicate == measure)\n",
    "}\n",
    "\n",
    "val discretizeEquifrequent = (graph: Graph, intervalsCount: Int, measure: TripleItem.Uri) => {\n",
    "    graph.filter(t => t.predicate == measure)\n",
    "         .discretize(equiFrequent(intervalsCount))(quad => quad.triple.predicate == measure)\n",
    "}\n",
    "\n",
    "val discretizeEquisizeAndGetIntervals = (graph: Graph, relativeSupport: Int, measure: TripleItem.Uri) => {\n",
    "    val observationsCount = graph.filter(t => t.predicate.hasSameUriAs(qbDataSet)).size\n",
    "    val absoluteSupport = (observationsCount * (relativeSupport.toFloat / 100)).ceil.toInt\n",
    "    graph.filter(t => t.predicate == measure)\n",
    "         .discretizeAndGetIntervals(equiSize(absoluteSupport))(quad => quad.triple.predicate == measure)   \n",
    "}\n",
    "\n",
    "val discretizeEquifrequentAndGetIntervals = (graph: Graph, intervalsCount: Int, measure: TripleItem.Uri) => {\n",
    "    graph.filter(t => t.predicate == measure)\n",
    "         .discretizeAndGetIntervals(equiFrequent(intervalsCount))(quad => quad.triple.predicate == measure)\n",
    "}"
   ]
  },
  {
   "cell_type": "code",
   "execution_count": null,
   "metadata": {},
   "outputs": [],
   "source": [
    "val renameInterval = (t: Triple, intervals: IndexedSeq[Interval], suffix: String) => {\n",
    "    var result = t\n",
    "    intervals.foreach(interval => {\n",
    "        val _interval = t.`object`.asInstanceOf[TripleItem.Interval]\n",
    "        if (_interval.interval == interval) {\n",
    "            result = t.copy(`object` = TripleItem.Uri(_interval.toString+\"_\"+suffix+\"_\"+(intervals.indexOf(interval)+1)+\"/\"+intervals.size) )\n",
    "        }\n",
    "    })\n",
    "    result\n",
    "}\n",
    "\n",
    "val discretize = (graph: Graph, name: String) => {\n",
    "    var result = Dataset() + \n",
    "    graph.filter(t => !measureUris.contains(t.predicate))\n",
    "    .map(t => if (t.predicate.hasSameUriAs(qbDataSet)) t.copy(`object` = uri(name)) else t)\n",
    "    \n",
    "        measureUris.foreach(measure => {\n",
    "            intervalCounts.foreach(intervalCount => {\n",
    "                val intervals = discretizeEquifrequentAndGetIntervals(graph, intervalCount, measure)\n",
    "                val measures = discretizeEquifrequent(graph, intervalCount, measure)\n",
    "                result = result + measures.map(t => {renameInterval(t, intervals, \"ef\"+intervalCount)})\n",
    "            })\n",
    "\n",
    "            supportPercents.foreach(percentage => {\n",
    "                val intervals = discretizeEquisizeAndGetIntervals(graph, percentage, measure)\n",
    "                val measures = discretizeEquisize(graph, percentage, measure)\n",
    "                result = result + measures.map(t => {renameInterval(t, intervals, \"es\"+percentage)})\n",
    "            })\n",
    "    })\n",
    "    result\n",
    "}"
   ]
  },
  {
   "cell_type": "code",
   "execution_count": null,
   "metadata": {},
   "outputs": [],
   "source": [
    "var dataset = Dataset()\n",
    "expensesCubesMap\n",
    ".map(t => discretize(t._2,t._1))\n",
    ".foreach(d => dataset = dataset + d)\n",
    "dataset = dataset.setPrefixes(Traversable(\n",
    "    Prefix(\"cssa-od\", \"https://data.cssz.cz/ontology/dimension/\"),\n",
    "    Prefix(\"cssa-om\", \"https://data.cssz.cz/ontology/measure/\"),\n",
    "    Prefix(\"qb\", \"http://purl.org/linked-data/cube#\")\n",
    "    )   \n",
    ")"
   ]
  },
  {
   "cell_type": "code",
   "execution_count": null,
   "metadata": {},
   "outputs": [],
   "source": [
    "dataset.cache(\"../cache/expensesCube.cache\")\n",
    "dataset.export(\"../exports/expensesCube.ttl\")"
   ]
  },
  {
   "cell_type": "code",
   "execution_count": null,
   "metadata": {},
   "outputs": [],
   "source": [
    "var cachedDataset = Dataset.fromCache(\"../cache/expensesCube.cache\")\n",
    "println(cachedDataset.size)\n",
    "println(dataset.size)"
   ]
  }
 ],
 "metadata": {
  "kernelspec": {
   "display_name": "Scala",
   "language": "scala",
   "name": "scala"
  },
  "language_info": {
   "codemirror_mode": "text/x-scala",
   "file_extension": ".sc",
   "mimetype": "text/x-scala",
   "name": "scala",
   "nbconvert_exporter": "script",
   "version": "2.12.8"
  }
 },
 "nbformat": 4,
 "nbformat_minor": 4
}
