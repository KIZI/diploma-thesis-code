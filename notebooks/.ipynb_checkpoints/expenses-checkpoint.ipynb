{
 "cells": [
  {
   "cell_type": "code",
   "execution_count": 1,
   "metadata": {},
   "outputs": [],
   "source": [
    "kernel.silent(true)"
   ]
  },
  {
   "cell_type": "code",
   "execution_count": 2,
   "metadata": {},
   "outputs": [],
   "source": [
    "import coursierapi.MavenRepository\n",
    "interp.repositories() ++= Seq(MavenRepository.of(\"https://jitpack.io\"))"
   ]
  },
  {
   "cell_type": "code",
   "execution_count": 3,
   "metadata": {},
   "outputs": [],
   "source": [
    "import $ivy.`com.github.propi:rdfrules:1.5.0`\n",
    "import collection._\n",
    "import org.apache.jena.riot.Lang\n",
    "\n",
    "import com.github.propi.rdfrules.data._\n",
    "import com.github.propi.rdfrules.algorithm.amie._\n",
    "import com.github.propi.rdfrules.algorithm.dbscan._\n",
    "import com.github.propi.rdfrules.utils._\n",
    "import com.github.propi.rdfrules.index._\n",
    "import com.github.propi.rdfrules.rule._\n",
    "import com.github.propi.rdfrules.ruleset._\n",
    "kernel.silent(false)"
   ]
  },
  {
   "cell_type": "code",
   "execution_count": 4,
   "metadata": {},
   "outputs": [
    {
     "data": {
      "text/plain": [
       "\u001b[32mimport \u001b[39m\u001b[36mreflect.io._, Path._\n",
       "\u001b[39m\n",
       "\u001b[32mimport \u001b[39m\u001b[36mreflect.io._\n",
       "\u001b[39m\n",
       "\u001b[32mimport \u001b[39m\u001b[36mPath._\u001b[39m"
      ]
     },
     "execution_count": 4,
     "metadata": {},
     "output_type": "execute_result"
    }
   ],
   "source": [
    "import reflect.io._, Path._\n",
    "import reflect.io._\n",
    "import Path._"
   ]
  },
  {
   "cell_type": "code",
   "execution_count": 5,
   "metadata": {},
   "outputs": [
    {
     "data": {
      "text/plain": [
       "\u001b[36muri\u001b[39m: \u001b[32mString\u001b[39m => \u001b[32mTripleItem\u001b[39m.\u001b[32mUri\u001b[39m = ammonite.$sess.cmd4$Helper$$Lambda$2819/0x0000000840c77040@64462fec\n",
       "\u001b[36mqbDataSet\u001b[39m: \u001b[32mString\u001b[39m = \u001b[32m\"http://purl.org/linked-data/cube#dataSet\"\u001b[39m"
      ]
     },
     "execution_count": 5,
     "metadata": {},
     "output_type": "execute_result"
    }
   ],
   "source": [
    "val uri = (value: String) => TripleItem.Uri(value)\n",
    "val qbDataSet = \"http://purl.org/linked-data/cube#dataSet\""
   ]
  },
  {
   "cell_type": "code",
   "execution_count": 6,
   "metadata": {},
   "outputs": [
    {
     "data": {
      "text/plain": [
       "\u001b[36mgraphs\u001b[39m: \u001b[32mIterator\u001b[39m[\u001b[32mString\u001b[39m] = \u001b[32mnon-empty iterator\u001b[39m"
      ]
     },
     "execution_count": 6,
     "metadata": {},
     "output_type": "execute_result"
    }
   ],
   "source": [
    "val graphs = \"../data/expenses\".toDirectory.files.map(_.path).filter(g => g matches \"\"\".*\\.ttl\"\"\")"
   ]
  },
  {
   "cell_type": "code",
   "execution_count": 7,
   "metadata": {},
   "outputs": [
    {
     "data": {
      "text/html": [
       "<div class=\"jp-RenderedText\">\n",
       "<pre><code><span style=\"color: rgb(0, 187, 187)\"><span class=\"ansi-cyan-fg\">expensesCubesMap</span></span>: <span style=\"color: rgb(0, 187, 0)\"><span class=\"ansi-green-fg\">Map</span></span>[<span style=\"color: rgb(0, 187, 0)\"><span class=\"ansi-green-fg\">String</span></span>, <span style=\"color: rgb(0, 187, 0)\"><span class=\"ansi-green-fg\">Graph</span></span>] = <span style=\"color: yellow\"><span class=\"ansi-yellow-fg\">Map</span></span>(\n",
       "  <span style=\"color: rgb(0, 187, 0)\"><span class=\"ansi-green-fg\">&quot;expenses-ip&quot;</span></span> -&gt; com.github.propi.rdfrules.data.Graph@4b3c08d2,\n",
       "  <span style=\"color: rgb(0, 187, 0)\"><span class=\"ansi-green-fg\">&quot;expenses-v-total&quot;</span></span> -&gt; com.github.propi.rdfrules.data.Graph@3b1e4ffe,\n",
       "  <span style=\"color: rgb(0, 187, 0)\"><span class=\"ansi-green-fg\">&quot;expenses-old-age-total&quot;</span></span> -&gt; com.github.propi.rdfrules.data.Graph@1371741d,\n",
       "  <span style=\"color: rgb(0, 187, 0)\"><span class=\"ansi-green-fg\">&quot;expenses-id&quot;</span></span> -&gt; com.github.propi.rdfrules.data.Graph@7cd8244e,\n",
       "  <span style=\"color: rgb(0, 187, 0)\"><span class=\"ansi-green-fg\">&quot;expenses-d&quot;</span></span> -&gt; com.github.propi.rdfrules.data.Graph@d623c9d,\n",
       "  <span style=\"color: rgb(0, 187, 0)\"><span class=\"ansi-green-fg\">&quot;expenses-vm-total&quot;</span></span> -&gt; com.github.propi.rdfrules.data.Graph@44cae370,\n",
       "  <span style=\"color: rgb(0, 187, 0)\"><span class=\"ansi-green-fg\">&quot;expenses-jpd&quot;</span></span> -&gt; com.github.propi.rdfrules.data.Graph@5c03b668,\n",
       "  <span style=\"color: rgb(0, 187, 0)\"><span class=\"ansi-green-fg\">&quot;expenses-it&quot;</span></span> -&gt; com.github.propi.rdfrules.data.Graph@61c403f2,\n",
       "  <span style=\"color: rgb(0, 187, 0)\"><span class=\"ansi-green-fg\">&quot;expenses-total-in-cze-and-abroad&quot;</span></span> -&gt; com.github.propi.rdfrules.data.Graph@7d5e4d83,\n",
       "  <span style=\"color: rgb(0, 187, 0)\"><span class=\"ansi-green-fg\">&quot;expenses-v-vm-total&quot;</span></span> -&gt; com.github.propi.rdfrules.data.Graph@6e1ce03b\n",
       ")</code></pre>\n",
       "</div>"
      ],
      "text/plain": [
       "\u001b[36mexpensesCubesMap\u001b[39m: \u001b[32mMap\u001b[39m[\u001b[32mString\u001b[39m, \u001b[32mGraph\u001b[39m] = \u001b[33mMap\u001b[39m(\n",
       "  \u001b[32m\"expenses-ip\"\u001b[39m -> com.github.propi.rdfrules.data.Graph@4b3c08d2,\n",
       "  \u001b[32m\"expenses-v-total\"\u001b[39m -> com.github.propi.rdfrules.data.Graph@3b1e4ffe,\n",
       "  \u001b[32m\"expenses-old-age-total\"\u001b[39m -> com.github.propi.rdfrules.data.Graph@1371741d,\n",
       "  \u001b[32m\"expenses-id\"\u001b[39m -> com.github.propi.rdfrules.data.Graph@7cd8244e,\n",
       "  \u001b[32m\"expenses-d\"\u001b[39m -> com.github.propi.rdfrules.data.Graph@d623c9d,\n",
       "  \u001b[32m\"expenses-vm-total\"\u001b[39m -> com.github.propi.rdfrules.data.Graph@44cae370,\n",
       "  \u001b[32m\"expenses-jpd\"\u001b[39m -> com.github.propi.rdfrules.data.Graph@5c03b668,\n",
       "  \u001b[32m\"expenses-it\"\u001b[39m -> com.github.propi.rdfrules.data.Graph@61c403f2,\n",
       "  \u001b[32m\"expenses-total-in-cze-and-abroad\"\u001b[39m -> com.github.propi.rdfrules.data.Graph@7d5e4d83,\n",
       "  \u001b[32m\"expenses-v-vm-total\"\u001b[39m -> com.github.propi.rdfrules.data.Graph@6e1ce03b\n",
       ")"
      ]
     },
     "metadata": {},
     "output_type": "display_data"
    }
   ],
   "source": [
    "var expensesCubesMap: Map[String, Graph] = Map()\n",
    "graphs.foreach(g => {\n",
    "    val name = g.replaceAll(\"\\\\.ttl\", \"\").replaceAll(\"^.*/\", \"\")\n",
    "    expensesCubesMap = expensesCubesMap + (name -> Graph(g))\n",
    "})"
   ]
  },
  {
   "cell_type": "code",
   "execution_count": 13,
   "metadata": {},
   "outputs": [
    {
     "data": {
      "text/plain": [
       "\u001b[36mintervalCounts\u001b[39m: \u001b[32mArray\u001b[39m[\u001b[32mInt\u001b[39m] = \u001b[33mArray\u001b[39m(\u001b[32m2\u001b[39m, \u001b[32m3\u001b[39m, \u001b[32m5\u001b[39m, \u001b[32m7\u001b[39m)\n",
       "\u001b[36msupportPercents\u001b[39m: \u001b[32mArray\u001b[39m[\u001b[32mInt\u001b[39m] = \u001b[33mArray\u001b[39m(\u001b[32m1\u001b[39m, \u001b[32m2\u001b[39m, \u001b[32m5\u001b[39m, \u001b[32m10\u001b[39m, \u001b[32m20\u001b[39m)\n",
       "\u001b[36mequiSize\u001b[39m: \u001b[32mInt\u001b[39m => \u001b[32mDiscretizationTask\u001b[39m.\u001b[32mEquisize\u001b[39m = ammonite.$sess.cmd12$Helper$$Lambda$3322/0x0000000840ed7840@2b70ab28\n",
       "\u001b[36mequiFrequent\u001b[39m: \u001b[32mInt\u001b[39m => \u001b[32mDiscretizationTask\u001b[39m.\u001b[32mEquifrequency\u001b[39m = ammonite.$sess.cmd12$Helper$$Lambda$3323/0x0000000840ed6840@681cfbc0\n",
       "\u001b[32mimport \u001b[39m\u001b[36meu.easyminer.discretization.impl.Interval\n",
       "\u001b[39m\n",
       "\u001b[32mimport \u001b[39m\u001b[36meu.easyminer.discretization.impl.IntervalBound._\n",
       "\u001b[39m\n",
       "\u001b[36mrounded\u001b[39m: (\u001b[32mDouble\u001b[39m, \u001b[32mInteger\u001b[39m) => \u001b[32mDouble\u001b[39m = ammonite.$sess.cmd12$Helper$$Lambda$3324/0x0000000840ed6040@680cd85\n",
       "\u001b[36mintervalToString\u001b[39m: \u001b[32mInterval\u001b[39m => \u001b[32mString\u001b[39m = ammonite.$sess.cmd12$Helper$$Lambda$3325/0x0000000840ed5040@139c5d12"
      ]
     },
     "execution_count": 13,
     "metadata": {},
     "output_type": "execute_result"
    }
   ],
   "source": [
    "val intervalCounts = Array(2, 3, 5, 7)\n",
    "val supportPercents = Array(1, 2, 5, 10, 20)\n",
    "\n",
    "val equiSize = (support: Int) => DiscretizationTask.Equisize(support)\n",
    "val equiFrequent = (intervalCount: Int) => DiscretizationTask.Equifrequency(intervalCount)\n",
    "\n",
    "\n",
    "import eu.easyminer.discretization.impl.Interval\n",
    "import eu.easyminer.discretization.impl.IntervalBound._\n",
    "val rounded = (value: Double, scale: Integer) => BigDecimal(value).setScale(scale, BigDecimal.RoundingMode.HALF_UP).toDouble\n",
    "val intervalToString = (i: Interval) => \"<\"+rounded(i.minValue.value,2)+ \"__\"+rounded(i.maxValue.value,2)+\")\""
   ]
  },
  {
   "cell_type": "code",
   "execution_count": 14,
   "metadata": {},
   "outputs": [
    {
     "data": {
      "text/plain": [
       "\u001b[36mexpendatureAmount\u001b[39m: \u001b[32mTripleItem\u001b[39m.\u001b[32mUri\u001b[39m = \u001b[33mLongUri\u001b[39m(\n",
       "  \u001b[32m\"https://data.cssz.cz/ontology/measure/vydaje-na-duchody-opravene-o-zalohy-v-tis-kc\"\u001b[39m\n",
       ")\n",
       "\u001b[36mmeasureUris\u001b[39m: \u001b[32mArray\u001b[39m[\u001b[32mTripleItem\u001b[39m.\u001b[32mUri\u001b[39m] = \u001b[33mArray\u001b[39m(\n",
       "  \u001b[33mLongUri\u001b[39m(\n",
       "    \u001b[32m\"https://data.cssz.cz/ontology/measure/vydaje-na-duchody-opravene-o-zalohy-v-tis-kc\"\u001b[39m\n",
       "  )\n",
       ")\n",
       "\u001b[36mdiscretizeEquisize\u001b[39m: (\u001b[32mGraph\u001b[39m, \u001b[32mInt\u001b[39m, \u001b[32mTripleItem\u001b[39m.\u001b[32mUri\u001b[39m) => \u001b[32mGraph\u001b[39m = ammonite.$sess.cmd13$Helper$$Lambda$3345/0x0000000840ee6840@2f987b2f\n",
       "\u001b[36mdiscretizeEquifrequent\u001b[39m: (\u001b[32mGraph\u001b[39m, \u001b[32mInt\u001b[39m, \u001b[32mTripleItem\u001b[39m.\u001b[32mUri\u001b[39m) => \u001b[32mGraph\u001b[39m = ammonite.$sess.cmd13$Helper$$Lambda$3346/0x0000000840ee6c40@2585be51\n",
       "\u001b[36mdiscretizeEquisizeAndGetIntervals\u001b[39m: (\u001b[32mGraph\u001b[39m, \u001b[32mInt\u001b[39m, \u001b[32mTripleItem\u001b[39m.\u001b[32mUri\u001b[39m) => \u001b[32mIndexedSeq\u001b[39m[\u001b[32mInterval\u001b[39m] = ammonite.$sess.cmd13$Helper$$Lambda$3347/0x0000000840ee7040@2521f39b\n",
       "\u001b[36mdiscretizeEquifrequentAndGetIntervals\u001b[39m: (\u001b[32mGraph\u001b[39m, \u001b[32mInt\u001b[39m, \u001b[32mTripleItem\u001b[39m.\u001b[32mUri\u001b[39m) => \u001b[32mIndexedSeq\u001b[39m[\u001b[32mInterval\u001b[39m] = ammonite.$sess.cmd13$Helper$$Lambda$3348/0x0000000840ee7440@5f342d79\n",
       "\u001b[36mlowerBound\u001b[39m: \u001b[32mString\u001b[39m => \u001b[32mString\u001b[39m = ammonite.$sess.cmd13$Helper$$Lambda$3349/0x0000000840ee8040@23322e20\n",
       "\u001b[36mupperBound\u001b[39m: \u001b[32mString\u001b[39m => \u001b[32mString\u001b[39m = ammonite.$sess.cmd13$Helper$$Lambda$3350/0x0000000840ee8840@776afae\n",
       "\u001b[36mlowerBoundInterval\u001b[39m: \u001b[32mInterval\u001b[39m => \u001b[32mString\u001b[39m = ammonite.$sess.cmd13$Helper$$Lambda$3351/0x0000000840ee9840@6b0d4367\n",
       "\u001b[36mupperBoundInterval\u001b[39m: \u001b[32mInterval\u001b[39m => \u001b[32mString\u001b[39m = ammonite.$sess.cmd13$Helper$$Lambda$3352/0x0000000840eea040@c816484\n",
       "\u001b[36mequalIntervals\u001b[39m: (\u001b[32mString\u001b[39m, \u001b[32mInterval\u001b[39m) => \u001b[32mBoolean\u001b[39m = ammonite.$sess.cmd13$Helper$$Lambda$3353/0x0000000840eeb040@16cfe72e\n",
       "\u001b[36mrenameInterval\u001b[39m: (\u001b[32mTriple\u001b[39m, \u001b[32mIndexedSeq\u001b[39m[\u001b[32mInterval\u001b[39m], \u001b[32mString\u001b[39m) => \u001b[32mTriple\u001b[39m = ammonite.$sess.cmd13$Helper$$Lambda$3354/0x0000000840eeac40@31b2186\n",
       "\u001b[36mdiscretize\u001b[39m: (\u001b[32mGraph\u001b[39m, \u001b[32mString\u001b[39m) => \u001b[32mDataset\u001b[39m = ammonite.$sess.cmd13$Helper$$Lambda$3355/0x0000000840eec040@6b390351"
      ]
     },
     "execution_count": 14,
     "metadata": {},
     "output_type": "execute_result"
    }
   ],
   "source": [
    "val expendatureAmount = TripleItem.Uri(\"https://data.cssz.cz/ontology/measure/vydaje-na-duchody-opravene-o-zalohy-v-tis-kc\")\n",
    "val measureUris = Array(expendatureAmount)\n",
    "\n",
    "val discretizeEquisize = (graph: Graph, relativeSupport: Int, measure: TripleItem.Uri) => {\n",
    "    val observationsCount = graph.filter(t => t.predicate.hasSameUriAs(qbDataSet)).size\n",
    "    val absoluteSupport = (observationsCount * (relativeSupport.toFloat / 100)).ceil.toInt\n",
    "    graph.filter(t => t.predicate == measure)\n",
    "         .discretize(equiSize(absoluteSupport))(quad => quad.triple.predicate == measure)\n",
    "}\n",
    "\n",
    "val discretizeEquifrequent = (graph: Graph, intervalsCount: Int, measure: TripleItem.Uri) => {\n",
    "    graph.filter(t => t.predicate == measure)\n",
    "         .discretize(equiFrequent(intervalsCount))(quad => quad.triple.predicate == measure)\n",
    "}\n",
    "\n",
    "val discretizeEquisizeAndGetIntervals = (graph: Graph, relativeSupport: Int, measure: TripleItem.Uri) => {\n",
    "    val observationsCount = graph.filter(t => t.predicate.hasSameUriAs(qbDataSet)).size\n",
    "    val absoluteSupport = (observationsCount * (relativeSupport.toFloat / 100)).ceil.toInt\n",
    "    graph.filter(t => t.predicate == measure)\n",
    "         .discretizeAndGetIntervals(equiSize(absoluteSupport))(quad => quad.triple.predicate == measure)   \n",
    "}\n",
    "\n",
    "val discretizeEquifrequentAndGetIntervals = (graph: Graph, intervalsCount: Int, measure: TripleItem.Uri) => {\n",
    "    graph.filter(t => t.predicate == measure)\n",
    "         .discretizeAndGetIntervals(equiFrequent(intervalsCount))(quad => quad.triple.predicate == measure)\n",
    "}\n",
    "\n",
    "val lowerBound = (interval: String) => interval.split(\" \")(1)\n",
    "val upperBound = (interval: String) => interval.split(\" \")(3)\n",
    "val lowerBoundInterval = (interval: Interval) => interval.minValue.value.toString\n",
    "val upperBoundInterval = (interval: Interval) => interval.maxValue.value.toString\n",
    "\n",
    "val equalIntervals = (i1: String, i2: Interval) => lowerBound(i1).equals(lowerBoundInterval(i2)) && upperBound(i1).equals(upperBoundInterval(i2))\n",
    "\n",
    "val renameInterval = (t: Triple, intervals: IndexedSeq[Interval], suffix: String) => {\n",
    "    var result = t\n",
    "    intervals.foreach(interval => {\n",
    "        if (equalIntervals(t.`object`.toString, interval)) {\n",
    "            result = t.copy(`object` = TripleItem.Uri(intervalToString(interval)+\"_\"+suffix+\"_\"+(intervals.indexOf(interval)+1)+\"/\"+intervals.size) )\n",
    "        }\n",
    "    })\n",
    "    result\n",
    "}\n",
    "\n",
    "val discretize = (graph: Graph, name: String) => {\n",
    "    \n",
    "    var result = Dataset() + \n",
    "    graph.filter(t => !measureUris.contains(t.predicate))\n",
    "    .map(t => if (t.predicate.hasSameUriAs(qbDataSet)) t.copy(`object` = uri(name)) else t)\n",
    "    \n",
    "        measureUris.foreach(measure => {\n",
    "            intervalCounts.foreach(intervalCount => {\n",
    "            val intervals = discretizeEquifrequentAndGetIntervals(graph, intervalCount, measure)\n",
    "            val measures = discretizeEquifrequent(graph, intervalCount, measure)\n",
    "            result = result + measures.map(t => {renameInterval(t, intervals, \"ef\"+intervalCount)})\n",
    "        })\n",
    "\n",
    "        supportPercents.foreach(percentage => {\n",
    "            val intervals = discretizeEquisizeAndGetIntervals(graph, percentage, measure)\n",
    "            val measures = discretizeEquisize(graph, percentage, measure)\n",
    "            result = result + measures.map(t => {renameInterval(t, intervals, \"es\"+percentage)})\n",
    "        })\n",
    "    })\n",
    "    result\n",
    "}"
   ]
  },
  {
   "cell_type": "code",
   "execution_count": 15,
   "metadata": {},
   "outputs": [
    {
     "data": {
      "text/html": [
       "<div class=\"jp-RenderedText\">\n",
       "<pre><code><span style=\"color: rgb(0, 187, 187)\"><span class=\"ansi-cyan-fg\">dataset</span></span>: <span style=\"color: rgb(0, 187, 0)\"><span class=\"ansi-green-fg\">Dataset</span></span> = com.github.propi.rdfrules.data.Dataset@529c646f</code></pre>\n",
       "</div>"
      ],
      "text/plain": [
       "\u001b[36mdataset\u001b[39m: \u001b[32mDataset\u001b[39m = com.github.propi.rdfrules.data.Dataset@529c646f"
      ]
     },
     "metadata": {},
     "output_type": "display_data"
    }
   ],
   "source": [
    "var dataset = Dataset()\n",
    "expensesCubesMap\n",
    ".map(t => discretize(t._2,t._1))\n",
    ".foreach(d => dataset = dataset + d)"
   ]
  },
  {
   "cell_type": "code",
   "execution_count": 16,
   "metadata": {},
   "outputs": [
    {
     "data": {
      "text/plain": [
       "\u001b[36mres15_0\u001b[39m: \u001b[32mDataset\u001b[39m = com.github.propi.rdfrules.data.Dataset@29021bf7"
      ]
     },
     "execution_count": 16,
     "metadata": {},
     "output_type": "execute_result"
    }
   ],
   "source": [
    "dataset.cache(\"../cache/expensesCube.cache\")\n",
    "dataset.export(\"../exports/expensesCube.ttl\")"
   ]
  },
  {
   "cell_type": "code",
   "execution_count": 17,
   "metadata": {},
   "outputs": [
    {
     "name": "stdout",
     "output_type": "stream",
     "text": [
      "1222\n",
      "1222\n"
     ]
    },
    {
     "data": {
      "text/html": [
       "<div class=\"jp-RenderedText\">\n",
       "<pre><code><span style=\"color: rgb(0, 187, 187)\"><span class=\"ansi-cyan-fg\">cachedDataset</span></span>: <span style=\"color: rgb(0, 187, 0)\"><span class=\"ansi-green-fg\">Dataset</span></span> = com.github.propi.rdfrules.data.Dataset@3605b0c9</code></pre>\n",
       "</div>"
      ],
      "text/plain": [
       "\u001b[36mcachedDataset\u001b[39m: \u001b[32mDataset\u001b[39m = com.github.propi.rdfrules.data.Dataset@3605b0c9"
      ]
     },
     "metadata": {},
     "output_type": "display_data"
    }
   ],
   "source": [
    "var cachedDataset = Dataset.fromCache(\"../cache/expensesCube.cache\")\n",
    "println(cachedDataset.size)\n",
    "println(dataset.size)"
   ]
  }
 ],
 "metadata": {
  "kernelspec": {
   "display_name": "Scala",
   "language": "scala",
   "name": "scala"
  },
  "language_info": {
   "codemirror_mode": "text/x-scala",
   "file_extension": ".sc",
   "mimetype": "text/x-scala",
   "name": "scala",
   "nbconvert_exporter": "script",
   "version": "2.12.8"
  }
 },
 "nbformat": 4,
 "nbformat_minor": 4
}
