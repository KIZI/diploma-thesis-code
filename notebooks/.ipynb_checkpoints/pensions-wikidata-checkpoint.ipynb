{
 "cells": [
  {
   "cell_type": "code",
   "execution_count": 1,
   "metadata": {},
   "outputs": [],
   "source": [
    "kernel.silent(true)"
   ]
  },
  {
   "cell_type": "code",
   "execution_count": 2,
   "metadata": {},
   "outputs": [],
   "source": [
    "import coursierapi.MavenRepository\n",
    "interp.repositories() ++= Seq(MavenRepository.of(\"https://jitpack.io\"))"
   ]
  },
  {
   "cell_type": "code",
   "execution_count": 3,
   "metadata": {},
   "outputs": [],
   "source": [
    "import $ivy.`com.github.propi:rdfrules:1.5.0`\n",
    "import collection._\n",
    "import org.apache.jena.riot.Lang\n",
    "\n",
    "import com.github.propi.rdfrules.data._\n",
    "import com.github.propi.rdfrules.algorithm.amie._\n",
    "import com.github.propi.rdfrules.algorithm.dbscan._\n",
    "import com.github.propi.rdfrules.utils._\n",
    "import com.github.propi.rdfrules.index._\n",
    "import com.github.propi.rdfrules.rule._\n",
    "import com.github.propi.rdfrules.ruleset._\n",
    "kernel.silent(false)"
   ]
  },
  {
   "cell_type": "code",
   "execution_count": 4,
   "metadata": {},
   "outputs": [
    {
     "data": {
      "text/plain": [
       "\u001b[36mpensionsDataset\u001b[39m: \u001b[32mDataset\u001b[39m = com.github.propi.rdfrules.data.Dataset@7dbd0b96\n",
       "\u001b[36mres3_1\u001b[39m: \u001b[32mInt\u001b[39m = \u001b[32m2696400\u001b[39m"
      ]
     },
     "execution_count": 4,
     "metadata": {},
     "output_type": "execute_result"
    }
   ],
   "source": [
    "val pensionsDataset = Dataset.fromCache(\"../cache/pensionsCube.cache\")\n",
    "pensionsDataset.size"
   ]
  },
  {
   "cell_type": "code",
   "execution_count": 5,
   "metadata": {},
   "outputs": [
    {
     "data": {
      "text/plain": [
       "\u001b[36mrefPeriodLinking\u001b[39m: \u001b[32mDataset\u001b[39m = com.github.propi.rdfrules.data.Dataset@21d40239\n",
       "\u001b[36mres4_1\u001b[39m: \u001b[32mInt\u001b[39m = \u001b[32m84\u001b[39m"
      ]
     },
     "execution_count": 5,
     "metadata": {},
     "output_type": "execute_result"
    }
   ],
   "source": [
    "val refPeriodLinking = Dataset(\"../data/linking/refPeriodLinking.ttl\")\n",
    "refPeriodLinking.size"
   ]
  },
  {
   "cell_type": "code",
   "execution_count": 6,
   "metadata": {},
   "outputs": [
    {
     "data": {
      "text/plain": [
       "\u001b[36mwikidataCSSARefAreaLinking\u001b[39m: \u001b[32mDataset\u001b[39m = com.github.propi.rdfrules.data.Dataset@7677e8ce\n",
       "\u001b[36mres5_1\u001b[39m: \u001b[32mInt\u001b[39m = \u001b[32m90\u001b[39m"
      ]
     },
     "execution_count": 6,
     "metadata": {},
     "output_type": "execute_result"
    }
   ],
   "source": [
    "val wikidataCSSARefAreaLinking = Dataset(\"../data/linking/cssaWikidataLinking.ttl\")\n",
    "wikidataCSSARefAreaLinking.size"
   ]
  },
  {
   "cell_type": "code",
   "execution_count": 7,
   "metadata": {},
   "outputs": [
    {
     "data": {
      "text/plain": [
       "\u001b[36mwikidata\u001b[39m: \u001b[32mDataset\u001b[39m = com.github.propi.rdfrules.data.Dataset@4338c947"
      ]
     },
     "execution_count": 7,
     "metadata": {},
     "output_type": "execute_result"
    }
   ],
   "source": [
    "val wikidata = Dataset.fromCache(\"../cache/wikidata.cache\")"
   ]
  },
  {
   "cell_type": "code",
   "execution_count": 8,
   "metadata": {},
   "outputs": [
    {
     "data": {
      "text/plain": [
       "\u001b[36mdataset\u001b[39m: \u001b[32mDataset\u001b[39m = com.github.propi.rdfrules.data.Dataset@720e4878\n",
       "\u001b[36mres7_1\u001b[39m: \u001b[32mInt\u001b[39m = \u001b[32m2720984\u001b[39m"
      ]
     },
     "execution_count": 8,
     "metadata": {},
     "output_type": "execute_result"
    }
   ],
   "source": [
    "val dataset = pensionsDataset + refPeriodLinking + wikidata + wikidataCSSARefAreaLinking\n",
    "dataset.size"
   ]
  },
  {
   "cell_type": "code",
   "execution_count": 9,
   "metadata": {},
   "outputs": [
    {
     "data": {
      "text/plain": [
       "\u001b[36mindex\u001b[39m: \u001b[32mIndex\u001b[39m = com.github.propi.rdfrules.index.Index$FromDatasetFullyPreservedIndex@7c84aacc"
      ]
     },
     "execution_count": 9,
     "metadata": {},
     "output_type": "execute_result"
    }
   ],
   "source": [
    "val index = dataset.index()"
   ]
  },
  {
   "cell_type": "code",
   "execution_count": 10,
   "metadata": {},
   "outputs": [
    {
     "data": {
      "text/plain": [
       "\u001b[36muri\u001b[39m: \u001b[32mString\u001b[39m => \u001b[32mTripleItem\u001b[39m.\u001b[32mUri\u001b[39m = ammonite.$sess.cmd9$Helper$$Lambda$2951/0x0000000840dc4040@6f57b7fe\n",
       "\u001b[36mappliesTo\u001b[39m: \u001b[32mTripleItem\u001b[39m.\u001b[32mUri\u001b[39m = \u001b[33mLongUri\u001b[39m(\n",
       "  \u001b[32m\"http://kizi.vse.cz/novp19/diploma-thesis/appliesToRefPeriod\"\u001b[39m\n",
       ")\n",
       "\u001b[36mwdProperty\u001b[39m: \u001b[32mInt\u001b[39m => \u001b[32mTripleItem\u001b[39m.\u001b[32mUri\u001b[39m = ammonite.$sess.cmd9$Helper$$Lambda$2952/0x0000000840dc5040@7a8da898\n",
       "\u001b[36mcssaDimension\u001b[39m: \u001b[32mString\u001b[39m = \u001b[32m\"https://data.cssz.cz/ontology/dimension/\"\u001b[39m\n",
       "\u001b[36mcssaRefPeriod\u001b[39m: \u001b[32mTripleItem\u001b[39m.\u001b[32mUri\u001b[39m = \u001b[33mLongUri\u001b[39m(\n",
       "  \u001b[32m\"https://data.cssz.cz/ontology/dimension/refPeriod\"\u001b[39m\n",
       ")\n",
       "\u001b[36mcssaPensionKind\u001b[39m: \u001b[32mTripleItem\u001b[39m.\u001b[32mUri\u001b[39m = \u001b[33mLongUri\u001b[39m(\n",
       "  \u001b[32m\"https://data.cssz.cz/ontology/dimension/druh-duchodu\"\u001b[39m\n",
       ")\n",
       "\u001b[36mcssaRefArea\u001b[39m: \u001b[32mTripleItem\u001b[39m.\u001b[32mUri\u001b[39m = \u001b[33mLongUri\u001b[39m(\n",
       "  \u001b[32m\"https://data.cssz.cz/ontology/dimension/refArea\"\u001b[39m\n",
       ")\n",
       "\u001b[36mconstantsAtObject\u001b[39m: \u001b[32mRuleConstraint\u001b[39m.\u001b[32mConstantsAtPosition\u001b[39m.\u001b[32mConstantsPosition\u001b[39m.\u001b[32mObject\u001b[39m.type = Object\n",
       "\u001b[36mconstantsOnlyAtObject\u001b[39m: \u001b[32mRuleConstraint\u001b[39m.\u001b[32mConstantsAtPosition\u001b[39m = \u001b[33mConstantsAtPosition\u001b[39m(\n",
       "  Object\n",
       ")\n",
       "\u001b[36mqbDataSet\u001b[39m: \u001b[32mTripleItem\u001b[39m.\u001b[32mUri\u001b[39m = \u001b[33mLongUri\u001b[39m(\u001b[32m\"http://purl.org/linked-data/cube#dataSet\"\u001b[39m)\n",
       "\u001b[36moldAgeTotal\u001b[39m: \u001b[32mTripleItem\u001b[39m.\u001b[32mUri\u001b[39m = \u001b[33mLongUri\u001b[39m(\n",
       "  \u001b[32m\"https://data.cssz.cz/resource/pension-kind/PK_old_age_total_S_SI_SRN_ST_SD_2010\"\u001b[39m\n",
       ")\n",
       "\u001b[36mregionTotalOldAgeTotal\u001b[39m: \u001b[32mTripleItem\u001b[39m.\u001b[32mUri\u001b[39m = \u001b[33mLongUri\u001b[39m(\n",
       "  \u001b[32m\"pensions-by-region-total-PK_old_age_total_S_SI_SRN_ST_SD\"\u001b[39m\n",
       ")\n",
       "\u001b[36maverageAge\u001b[39m: \u001b[32mTripleItem\u001b[39m.\u001b[32mUri\u001b[39m = \u001b[33mLongUri\u001b[39m(\n",
       "  \u001b[32m\"https://data.cssz.cz/ontology/measure/prumerny-vek\"\u001b[39m\n",
       ")\n",
       "\u001b[36mpensionersCount\u001b[39m: \u001b[32mTripleItem\u001b[39m.\u001b[32mUri\u001b[39m = \u001b[33mLongUri\u001b[39m(\n",
       "  \u001b[32m\"https://data.cssz.cz/ontology/measure/pocet-duchodcu\"\u001b[39m\n",
       ")\n",
       "\u001b[36maveragePensionAmount\u001b[39m: \u001b[32mTripleItem\u001b[39m.\u001b[32mUri\u001b[39m = \u001b[33mLongUri\u001b[39m(\n",
       "  \u001b[32m\"https://data.cssz.cz/ontology/measure/prumerna-vyse-duchodu-v-kc\"\u001b[39m\n",
       ")\n",
       "\u001b[36moneOfPensionsMeasures\u001b[39m: \u001b[32mAtomPattern\u001b[39m.\u001b[32mAtomItemPattern\u001b[39m.\u001b[32mOneOf\u001b[39m = \u001b[33mOneOf\u001b[39m(\n",
       "  \u001b[33mArrayBuffer\u001b[39m(\n",
       "    \u001b[33mConstant\u001b[39m(\u001b[33mLongUri\u001b[39m(\u001b[32m\"https://data.cssz.cz/ontology/measure/prumerny-vek\"\u001b[39m)),\n",
       "    \u001b[33mConstant\u001b[39m(\u001b[33mLongUri\u001b[39m(\u001b[32m\"https://data.cssz.cz/ontology/measure/pocet-duchodcu\"\u001b[39m)),\n",
       "    \u001b[33mConstant\u001b[39m(\n",
       "      \u001b[33mLongUri\u001b[39m(\n",
       "        \u001b[32m\"https://data.cssz.cz/ontology/measure/prumerna-vyse-duchodu-v-kc\"\u001b[39m\n",
       "      )\n",
       "    )\n",
       "  )\n",
       ")"
      ]
     },
     "execution_count": 10,
     "metadata": {},
     "output_type": "execute_result"
    }
   ],
   "source": [
    "val uri = (value: String) => TripleItem.Uri(value)\n",
    "val appliesTo = uri(\"http://kizi.vse.cz/novp19/diploma-thesis/appliesToRefPeriod\")\n",
    "val wdProperty = (value: Int) => uri(\"http://www.wikidata.org/prop/P\" + value)\n",
    "\n",
    "val cssaDimension = \"https://data.cssz.cz/ontology/dimension/\"\n",
    "val cssaRefPeriod = uri(cssaDimension+\"refPeriod\")\n",
    "val cssaPensionKind = uri(cssaDimension+\"druh-duchodu\")\n",
    "val cssaRefArea = uri(cssaDimension+\"refArea\")\n",
    "\n",
    "val constantsAtObject = RuleConstraint.ConstantsAtPosition.ConstantsPosition.Object\n",
    "val constantsOnlyAtObject = RuleConstraint.ConstantsAtPosition(constantsAtObject)\n",
    "\n",
    "val qbDataSet = uri(\"http://purl.org/linked-data/cube#dataSet\")\n",
    "val oldAgeTotal = uri(\"https://data.cssz.cz/resource/pension-kind/PK_old_age_total_S_SI_SRN_ST_SD_2010\")\n",
    "val regionTotalOldAgeTotal = uri(\"pensions-by-region-total-PK_old_age_total_S_SI_SRN_ST_SD\")\n",
    "\n",
    "// pensionsMeasures\n",
    "val averageAge = TripleItem.Uri(\"https://data.cssz.cz/ontology/measure/prumerny-vek\")\n",
    "val pensionersCount = TripleItem.Uri(\"https://data.cssz.cz/ontology/measure/pocet-duchodcu\")\n",
    "val averagePensionAmount = TripleItem.Uri(\"https://data.cssz.cz/ontology/measure/prumerna-vyse-duchodu-v-kc\")\n",
    "val oneOfPensionsMeasures = OneOf(averageAge,pensionersCount,averagePensionAmount)"
   ]
  },
  {
   "cell_type": "markdown",
   "metadata": {},
   "source": [
    "# pensions -> party"
   ]
  },
  {
   "cell_type": "code",
   "execution_count": 40,
   "metadata": {},
   "outputs": [
    {
     "data": {
      "text/plain": [
       "\u001b[36mpensionsPartyPattern\u001b[39m: \u001b[32mRulePattern\u001b[39m = \u001b[33mRulePattern\u001b[39m(\n",
       "  \u001b[33mVector\u001b[39m(\n",
       "    \u001b[33mAtomPattern\u001b[39m(\n",
       "      \u001b[33mVariable\u001b[39m(\u001b[33mVariable\u001b[39m(\u001b[32m2\u001b[39m)),\n",
       "      \u001b[33mConstant\u001b[39m(\u001b[33mLongUri\u001b[39m(\u001b[32m\"https://data.cssz.cz/ontology/dimension/refArea\"\u001b[39m)),\n",
       "      \u001b[33mVariable\u001b[39m(\u001b[33mVariable\u001b[39m(\u001b[32m5\u001b[39m)),\n",
       "      Any\n",
       "    ),\n",
       "    \u001b[33mAtomPattern\u001b[39m(\n",
       "      \u001b[33mVariable\u001b[39m(\u001b[33mVariable\u001b[39m(\u001b[32m5\u001b[39m)),\n",
       "      \u001b[33mConstant\u001b[39m(\u001b[33mLongUri\u001b[39m(\u001b[32m\"http://www.wikidata.org/prop/P6\"\u001b[39m)),\n",
       "      \u001b[33mVariable\u001b[39m(\u001b[33mVariable\u001b[39m(\u001b[32m4\u001b[39m)),\n",
       "      Any\n",
       "    ),\n",
       "    \u001b[33mAtomPattern\u001b[39m(\n",
       "      \u001b[33mVariable\u001b[39m(\u001b[33mVariable\u001b[39m(\u001b[32m4\u001b[39m)),\n",
       "      \u001b[33mConstant\u001b[39m(\u001b[33mLongUri\u001b[39m(\u001b[32m\"http://www.wikidata.org/prop/P6\"\u001b[39m)),\n",
       "      \u001b[33mVariable\u001b[39m(\u001b[33mVariable\u001b[39m(\u001b[32m3\u001b[39m)),\n",
       "      Any\n",
       "    ),\n",
       "    \u001b[33mAtomPattern\u001b[39m(\n",
       "      \u001b[33mVariable\u001b[39m(\u001b[33mVariable\u001b[39m(\u001b[32m3\u001b[39m)),\n",
       "      \u001b[33mConstant\u001b[39m(\u001b[33mLongUri\u001b[39m(\u001b[32m\"http://www.wikidata.org/prop/P102\"\u001b[39m)),\n",
       "      \u001b[33mVariable\u001b[39m(\u001b[33mVariable\u001b[39m(\u001b[32m0\u001b[39m)),\n",
       "      Any\n",
       "    ),\n",
       "    \u001b[33mAtomPattern\u001b[39m(\n",
       "      \u001b[33mVariable\u001b[39m(\u001b[33mVariable\u001b[39m(\u001b[32m2\u001b[39m)),\n",
       "      \u001b[33mConstant\u001b[39m(\n",
       "        \u001b[33mLongUri\u001b[39m(\n",
       "          \u001b[32m\"https://data.cssz.cz/ontology/measure/prumerna-vyse-duchodu-v-kc\"\u001b[39m\n",
       "        )\n",
       "      ),\n",
       "      AnyConstant,\n",
       "      Any\n",
       "    ),\n",
       "    \u001b[33mAtomPattern\u001b[39m(\n",
       "      \u001b[33mVariable\u001b[39m(\u001b[33mVariable\u001b[39m(\u001b[32m2\u001b[39m)),\n",
       "      \u001b[33mConstant\u001b[39m(\u001b[33mLongUri\u001b[39m(\u001b[32m\"https://data.cssz.cz/ontology/dimension/druh-duchodu\"\u001b[39m)),\n",
       "..."
      ]
     },
     "execution_count": 40,
     "metadata": {},
     "output_type": "execute_result"
    }
   ],
   "source": [
    "val pensionsPartyPattern: RulePattern = (\n",
    "    AtomPattern(subject = 'c', predicate = cssaRefArea, `object` = 'f') &:\n",
    "    AtomPattern(subject = 'f', predicate = wdProperty(6), `object` = 'e') &:\n",
    "    AtomPattern(subject = 'e', predicate = wdProperty(6), `object` = 'd') &:   \n",
    "    AtomPattern(subject = 'd', predicate = wdProperty(102), `object` = 'a') &:\n",
    "    AtomPattern(subject = 'c', predicate = averagePensionAmount, `object` = AnyConstant) &:\n",
    "    AtomPattern(subject = 'c', predicate = cssaPensionKind, `object` = AnyConstant) &:\n",
    "    AtomPattern(subject = 'c', predicate = qbDataSet, `object` = AnyConstant) &:\n",
    "    AtomPattern(subject = 'c', predicate = cssaRefPeriod, `object` = 'b') &:\n",
    "    AtomPattern(subject = 'a', predicate = appliesTo, `object` = 'b')\n",
    "    =>:\n",
    "    AtomPattern(subject = 'a', predicate = wdProperty(102), `object` = AnyConstant)\n",
    ")"
   ]
  },
  {
   "cell_type": "code",
   "execution_count": 41,
   "metadata": {},
   "outputs": [
    {
     "data": {
      "text/plain": [
       "\u001b[36mpensionsPartyPatternTask\u001b[39m: \u001b[32mcom\u001b[39m.\u001b[32mgithub\u001b[39m.\u001b[32mpropi\u001b[39m.\u001b[32mrdfrules\u001b[39m.\u001b[32malgorithm\u001b[39m.\u001b[32mRulesMining\u001b[39m = com.github.propi.rdfrules.algorithm.amie.Amie@75d9d23f"
      ]
     },
     "execution_count": 41,
     "metadata": {},
     "output_type": "execute_result"
    }
   ],
   "source": [
    "val pensionsPartyPatternTask = Amie()\n",
    "    .addThreshold(Threshold.MinSupport(1))\n",
    "    .addThreshold(Threshold.MaxRuleLength(10))\n",
    "    .addThreshold(Threshold.MinHeadSize(0))\n",
    "    .addThreshold(Threshold.Timeout(10))\n",
    "    .addConstraint(constantsOnlyAtObject)\n",
    "    .addPattern(pensionsPartyPattern)"
   ]
  },
  {
   "cell_type": "code",
   "execution_count": 42,
   "metadata": {},
   "outputs": [
    {
     "name": "stderr",
     "output_type": "stream",
     "text": [
      "2021-04-19 20:30:54:070 +0200 [scala-interpreter-1] INFO com.github.propi.rdfrules.utils.Debugger - Amie task settings:\n",
      "MinHeadSize=1,\n",
      "MinHeadCoverage=0.0,\n",
      "MinSupport=1,\n",
      "MaxThreads=4,\n",
      "MinAtomSize=0,\n",
      "MaxRuleLength=10,\n",
      "WithConstants=true,\n",
      "ConstantsPosition=Object,\n",
      "Timeout=600000,\n",
      "WithDuplicitPredicates=true,\n",
      "Patterns=List(Mapped(Vector(Mapped(Variable(?c),Constant(Constant(528884079)),Variable(?f),Any), Mapped(Variable(?f),Constant(Constant(774364698)),Variable(?e),Any), Mapped(Variable(?e),Constant(Constant(774364698)),Variable(?d),Any), Mapped(Variable(?d),Constant(Constant(52500897)),Variable(?a),Any), Mapped(Variable(?c),Constant(Constant(1915729891)),AnyConstant,Any), Mapped(Variable(?c),Constant(Constant(-2096697191)),AnyConstant,Any), Mapped(Variable(?c),Constant(Constant(624690160)),AnyConstant,Any), Mapped(Variable(?c),Constant(Constant(1169043154)),Variable(?b),Any), Mapped(Variable(?a),Constant(Constant(217712947)),Variable(?b),Any)),Some(Mapped(Variable(?a),Constant(Constant(52500897)),AnyConstant,Any)),false,false)),\n",
      "OnlyPredicates=None,\n",
      "WithoutPredicates=None\n",
      "2021-04-19 20:31:24:589 +0200 [Thread-217] INFO com.github.propi.rdfrules.utils.Debugger - Long refining of rule (?c cssz-dimension:refPeriod ?b) ^ (?a <http://kizi.vse.cz/novp19/diploma-thesis/appliesToRefPeriod> ?b) -> (?a <http://www.wikidata.org/prop/P102> <http://www.wikidata.org/entity/Q10728124>) | support: 31, headCoverage: 0.049679487179487176, headSize: 624. Projections size: 1560. Step: 24 of 624\n",
      "2021-04-19 20:31:32:196 +0200 [Thread-219] INFO com.github.propi.rdfrules.utils.Debugger - Long refining of rule (?c cssz-dimension:refPeriod ?b) ^ (?a <http://kizi.vse.cz/novp19/diploma-thesis/appliesToRefPeriod> ?b) -> (?a <http://www.wikidata.org/prop/P102> <http://www.wikidata.org/entity/Q341148>) | support: 52, headCoverage: 0.08333333333333333, headSize: 624. Projections size: 1574. Step: 25 of 624\n",
      "2021-04-19 20:31:47:878 +0200 [Thread-218] INFO com.github.propi.rdfrules.utils.Debugger - Long refining of rule (?c cssz-dimension:refPeriod ?b) ^ (?a <http://kizi.vse.cz/novp19/diploma-thesis/appliesToRefPeriod> ?b) -> (?a <http://www.wikidata.org/prop/P102> <http://www.wikidata.org/entity/Q828099>) | support: 40, headCoverage: 0.0641025641025641, headSize: 624. Projections size: 1574. Step: 36 of 624\n",
      "2021-04-19 20:32:03:252 +0200 [Thread-219] INFO com.github.propi.rdfrules.utils.Debugger - Long refining of rule (?c cssz-dimension:refPeriod ?b) ^ (?a <http://kizi.vse.cz/novp19/diploma-thesis/appliesToRefPeriod> ?b) -> (?a <http://www.wikidata.org/prop/P102> <http://www.wikidata.org/entity/Q341148>) | support: 52, headCoverage: 0.08333333333333333, headSize: 624. Projections size: 1574. Step: 51 of 624\n",
      "2021-04-19 20:32:18:147 +0200 [Thread-218] INFO com.github.propi.rdfrules.utils.Debugger - Long refining of rule (?c cssz-dimension:refPeriod ?b) ^ (?a <http://kizi.vse.cz/novp19/diploma-thesis/appliesToRefPeriod> ?b) -> (?a <http://www.wikidata.org/prop/P102> <http://www.wikidata.org/entity/Q828099>) | support: 40, headCoverage: 0.0641025641025641, headSize: 624. Projections size: 1574. Step: 79 of 624\n"
     ]
    },
    {
     "name": "stdout",
     "output_type": "stream",
     "text": [
      "1206\n"
     ]
    },
    {
     "data": {
      "text/plain": [
       "\u001b[36mpensionsPartyPatternTaskRuleset\u001b[39m: \u001b[32mRuleset\u001b[39m = com.github.propi.rdfrules.ruleset.Ruleset@538bdaa"
      ]
     },
     "execution_count": 42,
     "metadata": {},
     "output_type": "execute_result"
    }
   ],
   "source": [
    "val pensionsPartyPatternTaskRuleset = index.mine(pensionsPartyPatternTask)\n",
    "println(pensionsPartyPatternTaskRuleset.size)"
   ]
  },
  {
   "cell_type": "code",
   "execution_count": 48,
   "metadata": {},
   "outputs": [],
   "source": [
    "// regex matchujici pensions-by-region-total-\n",
    "pensionsPartyPatternTaskRuleset\n",
    ".filter(rule => rule.measures(Measure.Support).value > 2)\n",
    ".computePcaConfidence(0.0)\n",
    ".sortBy(Measure.PcaConfidence, Measure.Support)\n",
    ".filterResolved(rr => {\n",
    "    val datasetName = rr.body.find(_.predicate.hasSameUriAs(qbDataSet)).get.`object`\n",
    "    Stringifier(datasetName).matches(\".*pensions-by-region-total.*\")\n",
    "}).export(\"../rulesets/pensionsPartyPatternTaskRulesetFiltered.txt\")"
   ]
  },
  {
   "cell_type": "markdown",
   "metadata": {},
   "source": [
    "# pensions -> alignment"
   ]
  },
  {
   "cell_type": "code",
   "execution_count": 26,
   "metadata": {},
   "outputs": [
    {
     "data": {
      "text/plain": [
       "\u001b[36mpensionsPartyAlignmentPattern\u001b[39m: \u001b[32mRulePattern\u001b[39m = \u001b[33mRulePattern\u001b[39m(\n",
       "  \u001b[33mVector\u001b[39m(\n",
       "    \u001b[33mAtomPattern\u001b[39m(\n",
       "      \u001b[33mVariable\u001b[39m(\u001b[33mVariable\u001b[39m(\u001b[32m3\u001b[39m)),\n",
       "      \u001b[33mConstant\u001b[39m(\u001b[33mLongUri\u001b[39m(\u001b[32m\"https://data.cssz.cz/ontology/dimension/refArea\"\u001b[39m)),\n",
       "      \u001b[33mVariable\u001b[39m(\u001b[33mVariable\u001b[39m(\u001b[32m6\u001b[39m)),\n",
       "      Any\n",
       "    ),\n",
       "    \u001b[33mAtomPattern\u001b[39m(\n",
       "      \u001b[33mVariable\u001b[39m(\u001b[33mVariable\u001b[39m(\u001b[32m6\u001b[39m)),\n",
       "      \u001b[33mConstant\u001b[39m(\u001b[33mLongUri\u001b[39m(\u001b[32m\"http://www.wikidata.org/prop/P6\"\u001b[39m)),\n",
       "      \u001b[33mVariable\u001b[39m(\u001b[33mVariable\u001b[39m(\u001b[32m5\u001b[39m)),\n",
       "      Any\n",
       "    ),\n",
       "    \u001b[33mAtomPattern\u001b[39m(\n",
       "      \u001b[33mVariable\u001b[39m(\u001b[33mVariable\u001b[39m(\u001b[32m5\u001b[39m)),\n",
       "      \u001b[33mConstant\u001b[39m(\u001b[33mLongUri\u001b[39m(\u001b[32m\"http://www.wikidata.org/prop/P6\"\u001b[39m)),\n",
       "      \u001b[33mVariable\u001b[39m(\u001b[33mVariable\u001b[39m(\u001b[32m4\u001b[39m)),\n",
       "      Any\n",
       "    ),\n",
       "    \u001b[33mAtomPattern\u001b[39m(\n",
       "      \u001b[33mVariable\u001b[39m(\u001b[33mVariable\u001b[39m(\u001b[32m4\u001b[39m)),\n",
       "      \u001b[33mConstant\u001b[39m(\u001b[33mLongUri\u001b[39m(\u001b[32m\"http://www.wikidata.org/prop/P102\"\u001b[39m)),\n",
       "      \u001b[33mVariable\u001b[39m(\u001b[33mVariable\u001b[39m(\u001b[32m1\u001b[39m)),\n",
       "      Any\n",
       "    ),\n",
       "    \u001b[33mAtomPattern\u001b[39m(\n",
       "      \u001b[33mVariable\u001b[39m(\u001b[33mVariable\u001b[39m(\u001b[32m3\u001b[39m)),\n",
       "      \u001b[33mConstant\u001b[39m(\n",
       "        \u001b[33mLongUri\u001b[39m(\n",
       "          \u001b[32m\"https://data.cssz.cz/ontology/measure/prumerna-vyse-duchodu-v-kc\"\u001b[39m\n",
       "        )\n",
       "      ),\n",
       "      AnyConstant,\n",
       "      Any\n",
       "    ),\n",
       "    \u001b[33mAtomPattern\u001b[39m(\n",
       "      \u001b[33mVariable\u001b[39m(\u001b[33mVariable\u001b[39m(\u001b[32m3\u001b[39m)),\n",
       "      \u001b[33mConstant\u001b[39m(\u001b[33mLongUri\u001b[39m(\u001b[32m\"https://data.cssz.cz/ontology/dimension/druh-duchodu\"\u001b[39m)),\n",
       "..."
      ]
     },
     "execution_count": 26,
     "metadata": {},
     "output_type": "execute_result"
    }
   ],
   "source": [
    "val pensionsPartyAlignmentPattern: RulePattern = (\n",
    "    AtomPattern(subject = 'd', predicate = cssaRefArea, `object` = 'g') &:\n",
    "    AtomPattern(subject = 'g', predicate = wdProperty(6), `object` = 'f') &:\n",
    "    AtomPattern(subject = 'f', predicate = wdProperty(6), `object` = 'e') &:   \n",
    "    AtomPattern(subject = 'e', predicate = wdProperty(102), `object` = 'b') &:\n",
    "    AtomPattern(subject = 'd', predicate = averagePensionAmount, `object` = AnyConstant) &:\n",
    "    AtomPattern(subject = 'd', predicate = cssaPensionKind, `object` = AnyConstant) &:\n",
    "    AtomPattern(subject = 'd', predicate = qbDataSet, `object` = AnyConstant) &:\n",
    "    AtomPattern(subject = 'd', predicate = cssaRefPeriod, `object` = 'c') &:\n",
    "    AtomPattern(subject = 'b', predicate = appliesTo, `object` = 'c') &:\n",
    "    AtomPattern(subject = 'b', predicate = wdProperty(102), `object` = 'a')\n",
    "    =>:\n",
    "    AtomPattern(subject = 'a', predicate = wdProperty(1387), `object` = AnyConstant)\n",
    ")"
   ]
  },
  {
   "cell_type": "code",
   "execution_count": 27,
   "metadata": {},
   "outputs": [
    {
     "data": {
      "text/plain": [
       "\u001b[36mpensionsPartyAlignmentPatternTask\u001b[39m: \u001b[32mcom\u001b[39m.\u001b[32mgithub\u001b[39m.\u001b[32mpropi\u001b[39m.\u001b[32mrdfrules\u001b[39m.\u001b[32malgorithm\u001b[39m.\u001b[32mRulesMining\u001b[39m = com.github.propi.rdfrules.algorithm.amie.Amie@3e4d8cf1"
      ]
     },
     "execution_count": 27,
     "metadata": {},
     "output_type": "execute_result"
    }
   ],
   "source": [
    "val pensionsPartyAlignmentPatternTask = Amie()\n",
    "    .addThreshold(Threshold.MinSupport(1))\n",
    "    .addThreshold(Threshold.MaxRuleLength(11))\n",
    "    .addThreshold(Threshold.MinHeadSize(0))\n",
    "    .addThreshold(Threshold.Timeout(30))\n",
    "    .addConstraint(constantsOnlyAtObject)\n",
    "    .addPattern(pensionsPartyAlignmentPattern)"
   ]
  },
  {
   "cell_type": "code",
   "execution_count": 28,
   "metadata": {},
   "outputs": [
    {
     "name": "stderr",
     "output_type": "stream",
     "text": [
      "2021-04-19 17:37:57:250 +0200 [scala-interpreter-1] INFO com.github.propi.rdfrules.utils.Debugger - Amie task settings:\n",
      "MinHeadSize=1,\n",
      "MinHeadCoverage=0.0,\n",
      "MinSupport=1,\n",
      "MaxThreads=4,\n",
      "MinAtomSize=0,\n",
      "MaxRuleLength=11,\n",
      "WithConstants=true,\n",
      "ConstantsPosition=Object,\n",
      "Timeout=1800000,\n",
      "WithDuplicitPredicates=true,\n",
      "Patterns=List(Mapped(Vector(Mapped(Variable(?d),Constant(Constant(528884079)),Variable(?g),Any), Mapped(Variable(?g),Constant(Constant(774364698)),Variable(?f),Any), Mapped(Variable(?f),Constant(Constant(774364698)),Variable(?e),Any), Mapped(Variable(?e),Constant(Constant(52500897)),Variable(?b),Any), Mapped(Variable(?d),Constant(Constant(1915729891)),AnyConstant,Any), Mapped(Variable(?d),Constant(Constant(-2096697191)),AnyConstant,Any), Mapped(Variable(?d),Constant(Constant(624690160)),AnyConstant,Any), Mapped(Variable(?d),Constant(Constant(1169043154)),Variable(?c),Any), Mapped(Variable(?b),Constant(Constant(217712947)),Variable(?c),Any), Mapped(Variable(?b),Constant(Constant(52500897)),Variable(?a),Any)),Some(Mapped(Variable(?a),Constant(Constant(1496784743)),AnyConstant,Any)),false,false)),\n",
      "OnlyPredicates=None,\n",
      "WithoutPredicates=None\n",
      "2021-04-19 17:38:58:889 +0200 [Thread-181] INFO com.github.propi.rdfrules.utils.Debugger - Long refining of rule (?d cssz-dimension:refPeriod ?c) ^ (?b <http://kizi.vse.cz/novp19/diploma-thesis/appliesToRefPeriod> ?c) ^ (?b <http://www.wikidata.org/prop/P102> ?a) -> (?a <http://www.wikidata.org/prop/P1387> \"centre-right\") | support: 3, headCoverage: 0.13636363636363635, headSize: 22. Projections size: 1574. Step: 1 of 22\n",
      "2021-04-19 17:39:11:319 +0200 [Thread-182] INFO com.github.propi.rdfrules.utils.Debugger - Long refining of rule (?d cssz-dimension:refPeriod ?c) ^ (?b <http://kizi.vse.cz/novp19/diploma-thesis/appliesToRefPeriod> ?c) ^ (?b <http://www.wikidata.org/prop/P102> ?a) -> (?a <http://www.wikidata.org/prop/P1387> \"centrism\") | support: 6, headCoverage: 0.2727272727272727, headSize: 22. Projections size: 1574. Step: 5 of 22\n",
      "2021-04-19 17:39:20:109 +0200 [Thread-183] INFO com.github.propi.rdfrules.utils.Debugger - Long refining of rule (?d cssz-dimension:refPeriod ?c) ^ (?b <http://kizi.vse.cz/novp19/diploma-thesis/appliesToRefPeriod> ?c) ^ (?b <http://www.wikidata.org/prop/P102> ?a) -> (?a <http://www.wikidata.org/prop/P1387> \"right-wing\") | support: 3, headCoverage: 0.13636363636363635, headSize: 22. Projections size: 1574. Step: 2 of 22\n",
      "2021-04-19 17:39:49:085 +0200 [Thread-180] INFO com.github.propi.rdfrules.utils.Debugger - Long refining of rule (?d cssz-dimension:refPeriod ?c) ^ (?b <http://kizi.vse.cz/novp19/diploma-thesis/appliesToRefPeriod> ?c) ^ (?b <http://www.wikidata.org/prop/P102> ?a) -> (?a <http://www.wikidata.org/prop/P1387> \"centre-left\") | support: 1, headCoverage: 0.045454545454545456, headSize: 22. Projections size: 1574. Step: 0 of 22\n"
     ]
    },
    {
     "name": "stdout",
     "output_type": "stream",
     "text": [
      "724\n"
     ]
    },
    {
     "data": {
      "text/plain": [
       "\u001b[36mpensionsPartyAlignmentPatternTaskRuleset\u001b[39m: \u001b[32mRuleset\u001b[39m = com.github.propi.rdfrules.ruleset.Ruleset@3662a0f5"
      ]
     },
     "execution_count": 28,
     "metadata": {},
     "output_type": "execute_result"
    }
   ],
   "source": [
    "val pensionsPartyAlignmentPatternTaskRuleset = index.mine(pensionsPartyAlignmentPatternTask)\n",
    "println(pensionsPartyAlignmentPatternTaskRuleset.size)"
   ]
  },
  {
   "cell_type": "code",
   "execution_count": 29,
   "metadata": {},
   "outputs": [],
   "source": [
    "pensionsPartyAlignmentPatternTaskRuleset.export(\"../rulesets/pensionsPartyAlignmentPatternTaskRuleset.txt\")"
   ]
  },
  {
   "cell_type": "code",
   "execution_count": 47,
   "metadata": {},
   "outputs": [],
   "source": [
    "// regex matchujici pensions-by-region-total-\n",
    "pensionsPartyAlignmentPatternTaskRuleset\n",
    ".filter(rule => rule.measures(Measure.Support).value > 2)\n",
    ".computePcaConfidence(0.0)\n",
    ".sortBy(Measure.PcaConfidence, Measure.Support)\n",
    ".filterResolved(rr => {\n",
    "    val datasetName = rr.body.find(_.predicate.hasSameUriAs(qbDataSet)).get.`object`\n",
    "    Stringifier(datasetName).matches(\".*pensions-by-region-total.*\")\n",
    "}).export(\"../rulesets/pensionsPartyAlignmentPatternTaskRulesetFiltered.txt\")"
   ]
  },
  {
   "cell_type": "markdown",
   "metadata": {},
   "source": [
    "# party -> pensions"
   ]
  },
  {
   "cell_type": "code",
   "execution_count": 19,
   "metadata": {},
   "outputs": [
    {
     "data": {
      "text/plain": [
       "\u001b[36mpartyPensionsPattern\u001b[39m: \u001b[32mRulePattern\u001b[39m = \u001b[33mRulePattern\u001b[39m(\n",
       "  \u001b[33mVector\u001b[39m(\n",
       "    \u001b[33mAtomPattern\u001b[39m(\n",
       "      \u001b[33mVariable\u001b[39m(\u001b[33mVariable\u001b[39m(\u001b[32m0\u001b[39m)),\n",
       "      \u001b[33mConstant\u001b[39m(\u001b[33mLongUri\u001b[39m(\u001b[32m\"https://data.cssz.cz/ontology/dimension/refArea\"\u001b[39m)),\n",
       "      \u001b[33mVariable\u001b[39m(\u001b[33mVariable\u001b[39m(\u001b[32m5\u001b[39m)),\n",
       "      Any\n",
       "    ),\n",
       "    \u001b[33mAtomPattern\u001b[39m(\n",
       "      \u001b[33mVariable\u001b[39m(\u001b[33mVariable\u001b[39m(\u001b[32m5\u001b[39m)),\n",
       "      \u001b[33mConstant\u001b[39m(\u001b[33mLongUri\u001b[39m(\u001b[32m\"http://www.wikidata.org/prop/P6\"\u001b[39m)),\n",
       "      \u001b[33mVariable\u001b[39m(\u001b[33mVariable\u001b[39m(\u001b[32m4\u001b[39m)),\n",
       "      Any\n",
       "    ),\n",
       "    \u001b[33mAtomPattern\u001b[39m(\n",
       "      \u001b[33mVariable\u001b[39m(\u001b[33mVariable\u001b[39m(\u001b[32m4\u001b[39m)),\n",
       "      \u001b[33mConstant\u001b[39m(\u001b[33mLongUri\u001b[39m(\u001b[32m\"http://www.wikidata.org/prop/P6\"\u001b[39m)),\n",
       "      \u001b[33mVariable\u001b[39m(\u001b[33mVariable\u001b[39m(\u001b[32m3\u001b[39m)),\n",
       "      Any\n",
       "    ),\n",
       "    \u001b[33mAtomPattern\u001b[39m(\n",
       "      \u001b[33mVariable\u001b[39m(\u001b[33mVariable\u001b[39m(\u001b[32m3\u001b[39m)),\n",
       "      \u001b[33mConstant\u001b[39m(\u001b[33mLongUri\u001b[39m(\u001b[32m\"http://www.wikidata.org/prop/P102\"\u001b[39m)),\n",
       "      \u001b[33mVariable\u001b[39m(\u001b[33mVariable\u001b[39m(\u001b[32m2\u001b[39m)),\n",
       "      Any\n",
       "    ),\n",
       "    \u001b[33mAtomPattern\u001b[39m(\n",
       "      \u001b[33mVariable\u001b[39m(\u001b[33mVariable\u001b[39m(\u001b[32m2\u001b[39m)),\n",
       "      \u001b[33mConstant\u001b[39m(\u001b[33mLongUri\u001b[39m(\u001b[32m\"http://www.wikidata.org/prop/P102\"\u001b[39m)),\n",
       "      AnyConstant,\n",
       "      Any\n",
       "    ),\n",
       "    \u001b[33mAtomPattern\u001b[39m(\n",
       "      \u001b[33mVariable\u001b[39m(\u001b[33mVariable\u001b[39m(\u001b[32m2\u001b[39m)),\n",
       "      \u001b[33mConstant\u001b[39m(\n",
       "        \u001b[33mLongUri\u001b[39m(\u001b[32m\"http://kizi.vse.cz/novp19/diploma-thesis/appliesToRefPeriod\"\u001b[39m)\n",
       "      ),\n",
       "      \u001b[33mVariable\u001b[39m(\u001b[33mVariable\u001b[39m(\u001b[32m1\u001b[39m)),\n",
       "      Any\n",
       "..."
      ]
     },
     "execution_count": 19,
     "metadata": {},
     "output_type": "execute_result"
    }
   ],
   "source": [
    "val partyPensionsPattern: RulePattern = (\n",
    "    AtomPattern(subject = 'a', predicate = cssaRefArea, `object` = 'f') &:\n",
    "    AtomPattern(subject = 'f', predicate = wdProperty(6), `object` = 'e') &:\n",
    "    AtomPattern(subject = 'e', predicate = wdProperty(6), `object` = 'd') &:   \n",
    "    AtomPattern(subject = 'd', predicate = wdProperty(102), `object` = 'c') &:\n",
    "    AtomPattern(subject = 'c', predicate = wdProperty(102), `object` = AnyConstant) &:\n",
    "    \n",
    "    AtomPattern(subject = 'c', predicate = appliesTo, `object` = 'b') &:\n",
    "    \n",
    "    AtomPattern(subject = 'a', predicate = cssaRefPeriod, `object` = 'b') &:\n",
    "    AtomPattern(subject = 'a', predicate = cssaPensionKind, `object` = AnyConstant) &:\n",
    "    AtomPattern(subject = 'a', predicate = qbDataSet, `object` = AnyConstant)\n",
    "    =>:\n",
    "    AtomPattern(subject = 'a', predicate = averagePensionAmount, `object` = AnyConstant)\n",
    ")"
   ]
  },
  {
   "cell_type": "code",
   "execution_count": 22,
   "metadata": {},
   "outputs": [
    {
     "data": {
      "text/plain": [
       "\u001b[36mpartyPensionsPatternTask\u001b[39m: \u001b[32mcom\u001b[39m.\u001b[32mgithub\u001b[39m.\u001b[32mpropi\u001b[39m.\u001b[32mrdfrules\u001b[39m.\u001b[32malgorithm\u001b[39m.\u001b[32mRulesMining\u001b[39m = com.github.propi.rdfrules.algorithm.amie.Amie@3231e0b5"
      ]
     },
     "execution_count": 22,
     "metadata": {},
     "output_type": "execute_result"
    }
   ],
   "source": [
    "val partyPensionsPatternTask = Amie()\n",
    "    .addThreshold(Threshold.MinSupport(1))\n",
    "    .addThreshold(Threshold.MaxRuleLength(10))\n",
    "    .addThreshold(Threshold.MinHeadSize(0))\n",
    "    .addThreshold(Threshold.Timeout(10))\n",
    "    .addConstraint(constantsOnlyAtObject)\n",
    "    .addPattern(partyPensionsPattern)"
   ]
  },
  {
   "cell_type": "code",
   "execution_count": 23,
   "metadata": {},
   "outputs": [
    {
     "name": "stderr",
     "output_type": "stream",
     "text": [
      "2021-04-20 17:41:12:772 +0200 [scala-interpreter-1] INFO com.github.propi.rdfrules.utils.Debugger - Amie task settings:\n",
      "MinHeadSize=1,\n",
      "MinHeadCoverage=0.0,\n",
      "MinSupport=1,\n",
      "MaxThreads=4,\n",
      "MinAtomSize=0,\n",
      "MaxRuleLength=10,\n",
      "WithConstants=true,\n",
      "ConstantsPosition=Object,\n",
      "Timeout=600000,\n",
      "WithDuplicitPredicates=true,\n",
      "Patterns=List(Mapped(Vector(Mapped(Variable(?a),Constant(Constant(528884079)),Variable(?f),Any), Mapped(Variable(?f),Constant(Constant(774364698)),Variable(?e),Any), Mapped(Variable(?e),Constant(Constant(774364698)),Variable(?d),Any), Mapped(Variable(?d),Constant(Constant(52500897)),Variable(?c),Any), Mapped(Variable(?c),Constant(Constant(52500897)),AnyConstant,Any), Mapped(Variable(?c),Constant(Constant(217712947)),Variable(?b),Any), Mapped(Variable(?a),Constant(Constant(1169043154)),Variable(?b),Any), Mapped(Variable(?a),Constant(Constant(-2096697191)),AnyConstant,Any), Mapped(Variable(?a),Constant(Constant(624690160)),AnyConstant,Any)),Some(Mapped(Variable(?a),Constant(Constant(1915729891)),AnyConstant,Any)),false,false)),\n",
      "OnlyPredicates=None,\n",
      "WithoutPredicates=None\n",
      "2021-04-20 17:41:30:082 +0200 [Thread-17] INFO com.github.propi.rdfrules.utils.Debugger - Long refining of rule (?c cssz-dimension:refPeriod ?b) ^ (?a cssz-dimension:refPeriod ?b) ^ (?a cssz-dimension:druh-duchodu <https://data.cssz.cz/resource/pension-kind/PK_IPVM_2010>) ^ (?a qb:dataSet <pensions-by-district-total-PK_IPVM>) -> (?a cssz-measure:prumerna-vyse-duchodu-v-kc <<0.0__8662.5)_ef2_1/2>) | support: 435, headCoverage: 0.0038718291054739653, headSize: 112350. Projections size: 1574. Step: 86 of 112350\n",
      "2021-04-20 17:41:32:636 +0200 [Thread-19] INFO com.github.propi.rdfrules.utils.Debugger - Long refining of rule (?c cssz-dimension:refPeriod ?b) ^ (?a cssz-dimension:refPeriod ?b) ^ (?a cssz-dimension:druh-duchodu <https://data.cssz.cz/resource/pension-kind/PK_total_in_CZE_2010>) ^ (?a qb:dataSet <pensions-by-region-by-sex-PK_total_in_CZE>) -> (?a cssz-measure:prumerna-vyse-duchodu-v-kc <<9190.97__11047.46)_ef2_1/2>) | support: 140, headCoverage: 0.0012461059190031153, headSize: 112350. Projections size: 1574. Step: 127 of 112350\n",
      "2021-04-20 17:41:35:148 +0200 [Thread-18] INFO com.github.propi.rdfrules.utils.Debugger - Long refining of rule (?c cssz-dimension:refPeriod ?b) ^ (?a cssz-dimension:refPeriod ?b) ^ (?a cssz-dimension:druh-duchodu <https://data.cssz.cz/resource/pension-kind/PK_VM_2010>) ^ (?a qb:dataSet <pensions-by-district-total-PK_VM>) -> (?a cssz-measure:prumerna-vyse-duchodu-v-kc <<5288.0__6384.5)_ef2_1/2>) | support: 435, headCoverage: 0.0038718291054739653, headSize: 112350. Projections size: 1574. Step: 318 of 112350\n",
      "2021-04-20 17:41:55:206 +0200 [Thread-16] INFO com.github.propi.rdfrules.utils.Debugger - Long refining of rule (?c cssz-dimension:refPeriod ?b) ^ (?a cssz-dimension:refPeriod ?b) ^ (?a cssz-dimension:druh-duchodu <https://data.cssz.cz/resource/pension-kind/PK_ITV_2010>) ^ (?a qb:dataSet <pensions-by-region-total-PK_ITV>) -> (?a cssz-measure:prumerna-vyse-duchodu-v-kc <<12418.37__14950.86)_ef2_2/2>) | support: 70, headCoverage: 6.230529595015577E-4, headSize: 112350. Projections size: 1560. Step: 37 of 112350\n",
      "2021-04-20 17:42:00:262 +0200 [Thread-17] INFO com.github.propi.rdfrules.utils.Debugger - Long refining of rule (?c cssz-dimension:refPeriod ?b) ^ (?a cssz-dimension:refPeriod ?b) ^ (?a cssz-dimension:druh-duchodu <https://data.cssz.cz/resource/pension-kind/PK_IPVM_2010>) ^ (?a qb:dataSet <pensions-by-district-total-PK_IPVM>) -> (?a cssz-measure:prumerna-vyse-duchodu-v-kc <<0.0__8662.5)_ef2_1/2>) | support: 435, headCoverage: 0.0038718291054739653, headSize: 112350. Projections size: 1574. Step: 124 of 112350\n",
      "2021-04-20 17:42:05:435 +0200 [Thread-18] INFO com.github.propi.rdfrules.utils.Debugger - Long refining of rule (?c cssz-dimension:refPeriod ?b) ^ (?a cssz-dimension:refPeriod ?b) ^ (?a cssz-dimension:druh-duchodu <https://data.cssz.cz/resource/pension-kind/PK_VM_2010>) ^ (?a qb:dataSet <pensions-by-district-total-PK_VM>) -> (?a cssz-measure:prumerna-vyse-duchodu-v-kc <<5288.0__6384.5)_ef2_1/2>) | support: 435, headCoverage: 0.0038718291054739653, headSize: 112350. Projections size: 1574. Step: 353 of 112350\n",
      "2021-04-20 17:42:19:001 +0200 [Thread-19] INFO com.github.propi.rdfrules.utils.Debugger - Long refining of rule (?c cssz-dimension:refPeriod ?b) ^ (?a cssz-dimension:refPeriod ?b) ^ (?a cssz-dimension:druh-duchodu <https://data.cssz.cz/resource/pension-kind/PK_D-KMENY_2010>) ^ (?a qb:dataSet <pensions-by-district-total-PK_D-KMENY>) -> (?a cssz-measure:prumerna-vyse-duchodu-v-kc <<5088.0__6817.5)_ef2_1/2>) | support: 435, headCoverage: 0.0038718291054739653, headSize: 112350. Projections size: 1574. Step: 35 of 112350\n",
      "2021-04-20 17:42:30:758 +0200 [Thread-17] INFO com.github.propi.rdfrules.utils.Debugger - Long refining of rule (?c cssz-dimension:refPeriod ?b) ^ (?a cssz-dimension:refPeriod ?b) ^ (?a cssz-dimension:druh-duchodu <https://data.cssz.cz/resource/pension-kind/PK_IPVM_2010>) ^ (?a qb:dataSet <pensions-by-district-total-PK_IPVM>) -> (?a cssz-measure:prumerna-vyse-duchodu-v-kc <<0.0__8662.5)_ef2_1/2>) | support: 435, headCoverage: 0.0038718291054739653, headSize: 112350. Projections size: 1574. Step: 164 of 112350\n",
      "2021-04-20 17:42:35:740 +0200 [Thread-18] INFO com.github.propi.rdfrules.utils.Debugger - Long refining of rule (?c cssz-dimension:refPeriod ?b) ^ (?a cssz-dimension:refPeriod ?b) ^ (?a cssz-dimension:druh-duchodu <https://data.cssz.cz/resource/pension-kind/PK_VM_2010>) ^ (?a qb:dataSet <pensions-by-district-total-PK_VM>) -> (?a cssz-measure:prumerna-vyse-duchodu-v-kc <<5288.0__6384.5)_ef2_1/2>) | support: 435, headCoverage: 0.0038718291054739653, headSize: 112350. Projections size: 1574. Step: 393 of 112350\n",
      "2021-04-20 17:42:49:590 +0200 [Thread-19] INFO com.github.propi.rdfrules.utils.Debugger - Long refining of rule (?c cssz-dimension:refPeriod ?b) ^ (?a cssz-dimension:refPeriod ?b) ^ (?a cssz-dimension:druh-duchodu <https://data.cssz.cz/resource/pension-kind/PK_D-KMENY_2010>) ^ (?a qb:dataSet <pensions-by-district-total-PK_D-KMENY>) -> (?a cssz-measure:prumerna-vyse-duchodu-v-kc <<5088.0__6817.5)_ef2_1/2>) | support: 435, headCoverage: 0.0038718291054739653, headSize: 112350. Projections size: 1574. Step: 74 of 112350\n",
      "2021-04-20 17:43:01:535 +0200 [Thread-17] INFO com.github.propi.rdfrules.utils.Debugger - Long refining of rule (?c cssz-dimension:refPeriod ?b) ^ (?a cssz-dimension:refPeriod ?b) ^ (?a cssz-dimension:druh-duchodu <https://data.cssz.cz/resource/pension-kind/PK_IPVM_2010>) ^ (?a qb:dataSet <pensions-by-district-total-PK_IPVM>) -> (?a cssz-measure:prumerna-vyse-duchodu-v-kc <<0.0__8662.5)_ef2_1/2>) | support: 435, headCoverage: 0.0038718291054739653, headSize: 112350. Projections size: 1574. Step: 205 of 112350\n",
      "2021-04-20 17:43:06:541 +0200 [Thread-18] INFO com.github.propi.rdfrules.utils.Debugger - Long refining of rule (?c cssz-dimension:refPeriod ?b) ^ (?a cssz-dimension:refPeriod ?b) ^ (?a cssz-dimension:druh-duchodu <https://data.cssz.cz/resource/pension-kind/PK_VM_2010>) ^ (?a qb:dataSet <pensions-by-district-total-PK_VM>) -> (?a cssz-measure:prumerna-vyse-duchodu-v-kc <<5288.0__6384.5)_ef2_1/2>) | support: 435, headCoverage: 0.0038718291054739653, headSize: 112350. Projections size: 1574. Step: 434 of 112350\n",
      "2021-04-20 17:43:14:488 +0200 [Thread-16] INFO com.github.propi.rdfrules.utils.Debugger - Long refining of rule (?c cssz-dimension:refPeriod ?b) ^ (?a cssz-dimension:refPeriod ?b) ^ (?a cssz-dimension:druh-duchodu <https://data.cssz.cz/resource/pension-kind/PK_SI_2010>) ^ (?a qb:dataSet <pensions-by-region-by-sex-PK_SI>) -> (?a cssz-measure:prumerna-vyse-duchodu-v-kc <<8268.15__10794.96)_ef2_1/2>) | support: 140, headCoverage: 0.0012461059190031153, headSize: 112350. Projections size: 1574. Step: 40 of 112350\n"
     ]
    },
    {
     "name": "stderr",
     "output_type": "stream",
     "text": [
      "2021-04-20 17:43:19:918 +0200 [Thread-19] INFO com.github.propi.rdfrules.utils.Debugger - Long refining of rule (?c cssz-dimension:refPeriod ?b) ^ (?a cssz-dimension:refPeriod ?b) ^ (?a cssz-dimension:druh-duchodu <https://data.cssz.cz/resource/pension-kind/PK_D-KMENY_2010>) ^ (?a qb:dataSet <pensions-by-district-total-PK_D-KMENY>) -> (?a cssz-measure:prumerna-vyse-duchodu-v-kc <<5088.0__6817.5)_ef2_1/2>) | support: 435, headCoverage: 0.0038718291054739653, headSize: 112350. Projections size: 1574. Step: 116 of 112350\n",
      "2021-04-20 17:43:31:892 +0200 [Thread-17] INFO com.github.propi.rdfrules.utils.Debugger - Long refining of rule (?c cssz-dimension:refPeriod ?b) ^ (?a cssz-dimension:refPeriod ?b) ^ (?a cssz-dimension:druh-duchodu <https://data.cssz.cz/resource/pension-kind/PK_IPVM_2010>) ^ (?a qb:dataSet <pensions-by-district-total-PK_IPVM>) -> (?a cssz-measure:prumerna-vyse-duchodu-v-kc <<0.0__8662.5)_ef2_1/2>) | support: 435, headCoverage: 0.0038718291054739653, headSize: 112350. Projections size: 1574. Step: 255 of 112350\n"
     ]
    },
    {
     "name": "stdout",
     "output_type": "stream",
     "text": [
      "1206\n"
     ]
    },
    {
     "data": {
      "text/plain": [
       "\u001b[36mpartyPensionsPatternTaskRuleset\u001b[39m: \u001b[32mRuleset\u001b[39m = com.github.propi.rdfrules.ruleset.Ruleset@12db46a3"
      ]
     },
     "execution_count": 23,
     "metadata": {},
     "output_type": "execute_result"
    }
   ],
   "source": [
    "val partyPensionsPatternTaskRuleset = index.mine(partyPensionsPatternTask)\n",
    "println(partyPensionsPatternTaskRuleset.size)"
   ]
  },
  {
   "cell_type": "code",
   "execution_count": 24,
   "metadata": {},
   "outputs": [],
   "source": [
    "partyPensionsPatternTaskRuleset.export(\"../rulesets/partyPensionsPatternTaskRuleset.txt\")"
   ]
  },
  {
   "cell_type": "code",
   "execution_count": 25,
   "metadata": {},
   "outputs": [],
   "source": [
    "partyPensionsPatternTaskRuleset\n",
    ".filter(rule => rule.measures(Measure.Support).value > 2)\n",
    ".computePcaConfidence(0.0)\n",
    ".sortBy(Measure.PcaConfidence, Measure.Support)\n",
    ".filterResolved(rr => {\n",
    "    val datasetName = rr.body.find(_.predicate.hasSameUriAs(qbDataSet)).get.`object`\n",
    "    Stringifier(datasetName).matches(\".*pensions-by-region-total.*\")\n",
    "}).export(\"../rulesets/partyPensionsPatternTaskRulesetFiltered.txt\")"
   ]
  },
  {
   "cell_type": "markdown",
   "metadata": {},
   "source": [
    "# alignment -> pensions"
   ]
  },
  {
   "cell_type": "code",
   "execution_count": 29,
   "metadata": {},
   "outputs": [
    {
     "data": {
      "text/plain": [
       "\u001b[36malignmentPensionsPattern\u001b[39m: \u001b[32mRulePattern\u001b[39m = \u001b[33mRulePattern\u001b[39m(\n",
       "  \u001b[33mVector\u001b[39m(\n",
       "    \u001b[33mAtomPattern\u001b[39m(\n",
       "      \u001b[33mVariable\u001b[39m(\u001b[33mVariable\u001b[39m(\u001b[32m0\u001b[39m)),\n",
       "      \u001b[33mConstant\u001b[39m(\u001b[33mLongUri\u001b[39m(\u001b[32m\"https://data.cssz.cz/ontology/dimension/refPeriod\"\u001b[39m)),\n",
       "      \u001b[33mVariable\u001b[39m(\u001b[33mVariable\u001b[39m(\u001b[32m1\u001b[39m)),\n",
       "      Any\n",
       "    ),\n",
       "    \u001b[33mAtomPattern\u001b[39m(\n",
       "      \u001b[33mVariable\u001b[39m(\u001b[33mVariable\u001b[39m(\u001b[32m0\u001b[39m)),\n",
       "      \u001b[33mConstant\u001b[39m(\u001b[33mLongUri\u001b[39m(\u001b[32m\"https://data.cssz.cz/ontology/dimension/druh-duchodu\"\u001b[39m)),\n",
       "      AnyConstant,\n",
       "      Any\n",
       "    ),\n",
       "    \u001b[33mAtomPattern\u001b[39m(\n",
       "      \u001b[33mVariable\u001b[39m(\u001b[33mVariable\u001b[39m(\u001b[32m0\u001b[39m)),\n",
       "      \u001b[33mConstant\u001b[39m(\u001b[33mLongUri\u001b[39m(\u001b[32m\"http://purl.org/linked-data/cube#dataSet\"\u001b[39m)),\n",
       "      AnyConstant,\n",
       "      Any\n",
       "    )\n",
       "  ),\n",
       "  \u001b[33mSome\u001b[39m(\n",
       "    \u001b[33mAtomPattern\u001b[39m(\n",
       "      \u001b[33mVariable\u001b[39m(\u001b[33mVariable\u001b[39m(\u001b[32m0\u001b[39m)),\n",
       "      \u001b[33mConstant\u001b[39m(\n",
       "        \u001b[33mLongUri\u001b[39m(\n",
       "          \u001b[32m\"https://data.cssz.cz/ontology/measure/prumerna-vyse-duchodu-v-kc\"\u001b[39m\n",
       "        )\n",
       "      ),\n",
       "      AnyConstant,\n",
       "      Any\n",
       "    )\n",
       "  ),\n",
       "  false,\n",
       "  false\n",
       ")"
      ]
     },
     "execution_count": 29,
     "metadata": {},
     "output_type": "execute_result"
    }
   ],
   "source": [
    "val alignmentPensionsPattern: RulePattern = (\n",
    "    //AtomPattern(subject = 'd', predicate = cssaRefArea, `object` = 'g') &:\n",
    "    //AtomPattern(subject = 'g', predicate = wdProperty(6), `object` = 'f') &:\n",
    "    //AtomPattern(subject = 'f', predicate = wdProperty(6), `object` = 'e') &:   \n",
    "    //AtomPattern(subject = 'e', predicate = wdProperty(102), `object` = 'b') &:\n",
    "    //AtomPattern(subject = 'a', predicate = wdProperty(1387), `object` = AnyConstant)\n",
    "    \n",
    "    //AtomPattern(subject = 'b', predicate = appliesTo, `object` = 'c') &:\n",
    "    //AtomPattern(subject = 'b', predicate = wdProperty(102), `object` = 'a')\n",
    "    \n",
    "    AtomPattern(subject = 'a', predicate = cssaRefPeriod, `object` = 'b') &:\n",
    "    AtomPattern(subject = 'a', predicate = cssaPensionKind, `object` = AnyConstant) &:\n",
    "    AtomPattern(subject = 'a', predicate = qbDataSet, `object` = AnyConstant)\n",
    "    =>:\n",
    "    AtomPattern(subject = 'a', predicate = averagePensionAmount, `object` = AnyConstant)\n",
    ")"
   ]
  },
  {
   "cell_type": "code",
   "execution_count": 30,
   "metadata": {},
   "outputs": [
    {
     "data": {
      "text/plain": [
       "\u001b[36malignmentPensionsPatternTask\u001b[39m: \u001b[32mcom\u001b[39m.\u001b[32mgithub\u001b[39m.\u001b[32mpropi\u001b[39m.\u001b[32mrdfrules\u001b[39m.\u001b[32malgorithm\u001b[39m.\u001b[32mRulesMining\u001b[39m = com.github.propi.rdfrules.algorithm.amie.Amie@3dca7998"
      ]
     },
     "execution_count": 30,
     "metadata": {},
     "output_type": "execute_result"
    }
   ],
   "source": [
    "val alignmentPensionsPatternTask = Amie()\n",
    "    .addThreshold(Threshold.MinSupport(1))\n",
    "    .addThreshold(Threshold.MaxRuleLength(11))\n",
    "    .addThreshold(Threshold.MinHeadSize(0))\n",
    "    .addThreshold(Threshold.Timeout(1))\n",
    "    .addConstraint(constantsOnlyAtObject)\n",
    "    .addPattern(alignmentPensionsPattern)"
   ]
  },
  {
   "cell_type": "code",
   "execution_count": null,
   "metadata": {},
   "outputs": [
    {
     "name": "stderr",
     "output_type": "stream",
     "text": [
      "2021-04-20 18:07:06:182 +0200 [scala-interpreter-1] INFO com.github.propi.rdfrules.utils.Debugger - Amie task settings:\n",
      "MinHeadSize=1,\n",
      "MinHeadCoverage=0.0,\n",
      "MinSupport=1,\n",
      "MaxThreads=4,\n",
      "MinAtomSize=0,\n",
      "MaxRuleLength=11,\n",
      "WithConstants=true,\n",
      "ConstantsPosition=Object,\n",
      "Timeout=60000,\n",
      "WithDuplicitPredicates=true,\n",
      "Patterns=List(Mapped(Vector(Mapped(Variable(?a),Constant(Constant(1169043154)),Variable(?b),Any), Mapped(Variable(?a),Constant(Constant(-2096697191)),AnyConstant,Any), Mapped(Variable(?a),Constant(Constant(624690160)),AnyConstant,Any)),Some(Mapped(Variable(?a),Constant(Constant(1915729891)),AnyConstant,Any)),false,false)),\n",
      "OnlyPredicates=None,\n",
      "WithoutPredicates=None\n"
     ]
    }
   ],
   "source": [
    "val startTimeMillis = System.currentTimeMillis()\n",
    "val alignmentPensionsPatternTaskRuleset = index.mine(alignmentPensionsPatternTask)\n",
    "println(\"rules: \"+alignmentPensionsPatternTaskRuleset.size)\n",
    "val endTimeMillis = System.currentTimeMillis()\n",
    "val durationSeconds = (endTimeMillis - startTimeMillis) / 1000\n",
    "println(\"duration: \" + durationSeconds + \"s\")"
   ]
  }
 ],
 "metadata": {
  "kernelspec": {
   "display_name": "Scala",
   "language": "scala",
   "name": "scala"
  },
  "language_info": {
   "codemirror_mode": "text/x-scala",
   "file_extension": ".sc",
   "mimetype": "text/x-scala",
   "name": "scala",
   "nbconvert_exporter": "script",
   "version": "2.12.8"
  }
 },
 "nbformat": 4,
 "nbformat_minor": 4
}
