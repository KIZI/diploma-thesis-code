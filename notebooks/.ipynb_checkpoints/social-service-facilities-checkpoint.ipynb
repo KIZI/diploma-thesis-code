{
 "cells": [
  {
   "cell_type": "code",
   "execution_count": null,
   "metadata": {},
   "outputs": [],
   "source": [
    "kernel.silent(true)"
   ]
  },
  {
   "cell_type": "code",
   "execution_count": null,
   "metadata": {},
   "outputs": [],
   "source": [
    "import coursierapi.MavenRepository\n",
    "interp.repositories() ++= Seq(MavenRepository.of(\"https://jitpack.io\"))"
   ]
  },
  {
   "cell_type": "code",
   "execution_count": null,
   "metadata": {},
   "outputs": [],
   "source": [
    "import $ivy.`com.github.propi:rdfrules:1.5.0`\n",
    "import collection._\n",
    "import org.apache.jena.riot.Lang\n",
    "\n",
    "import com.github.propi.rdfrules.data._\n",
    "import com.github.propi.rdfrules.algorithm.amie._\n",
    "import com.github.propi.rdfrules.algorithm.dbscan._\n",
    "import com.github.propi.rdfrules.utils._\n",
    "import com.github.propi.rdfrules.index._\n",
    "import com.github.propi.rdfrules.rule._\n",
    "import com.github.propi.rdfrules.ruleset._\n",
    "//kernel.silent(false)"
   ]
  },
  {
   "cell_type": "code",
   "execution_count": null,
   "metadata": {},
   "outputs": [],
   "source": [
    "val facilitiesCubesMap: Map[String, Graph] = ( Map() \n",
    "+ (\"social-service-facilities-by-district\" -> Graph(\"social-service-facilities\", \"../data/social-service-facilities/social-service-facilities-by-district.ttl\"))\n",
    "+ (\"social-service-facilities-prague\" -> Graph(\"social-service-facilities\", \"../data/social-service-facilities/social-service-facilities-prague.ttl\"))\n",
    ")"
   ]
  },
  {
   "cell_type": "code",
   "execution_count": null,
   "metadata": {},
   "outputs": [],
   "source": [
    "val uri = (value: String) => TripleItem.Uri(value)\n",
    "val qbDataSet = \"http://purl.org/linked-data/cube#dataSet\"\n",
    "val renameDataset = (t: Tuple2[String, Graph]) => {\n",
    "    val name = t._1\n",
    "    val cube = t._2.map(t => if (t.predicate.hasSameUriAs(qbDataSet)) t.copy(`object` = uri(name)) else t)\n",
    "    Tuple2(name, cube)\n",
    "}\n",
    "val facilitiesCubesMapRenamed = facilitiesCubesMap.map(renameDataset)"
   ]
  },
  {
   "cell_type": "code",
   "execution_count": null,
   "metadata": {},
   "outputs": [],
   "source": [
    "val intervalsCount = 5\n",
    "val equiFrequent = DiscretizationTask.Equifrequency(intervalsCount)\n",
    "val hasPredicate = (quad: Quad, uri: String) => quad.triple.predicate.hasSameUriAs(uri)\n",
    "import eu.easyminer.discretization.impl.Interval\n",
    "import eu.easyminer.discretization.impl.IntervalBound._\n",
    "val rounded = (value: Double, scale: Integer) => BigDecimal(value).setScale(scale, BigDecimal.RoundingMode.HALF_UP).toDouble\n",
    "val intervalToString = (i: Interval) => \"<\"+rounded(i.minValue.value,2)+ \"__\"+rounded(i.maxValue.value,2)+\")\""
   ]
  },
  {
   "cell_type": "code",
   "execution_count": null,
   "metadata": {},
   "outputs": [],
   "source": [
    "val sanitaryFacilitiesCount = \"http://data.czso.cz/ontology/pocetSocialnichZarizeni\"\n",
    "val sanitaryFacilitiesCapacity = \"http://data.czso.cz/ontology/pocetMistVSocialnichZarizenich\"\n",
    "val retirementHousesCount = \"http://data.czso.cz/ontology/pocetDomovuProDuchodce\"\n",
    "val retirementHousesCapacity = \"http://data.czso.cz/ontology/pocetMistVDomovechProDuchodce\"\n",
    "val homesForDisabledCount = \"http://data.czso.cz/ontology/pocetDomovuProOsobySeZdravotnimPostizenim\"\n",
    "val homesForDisabledCapacity = \"http://data.czso.cz/ontology/pocetMistVDomovechProOsobySeZdravotnimPostizenim\"\n",
    "val asylumHomesCount = \"http://data.czso.cz/ontology/pocetAzylovychDomu\"\n",
    "val asylumHomesCapacity = \"http://data.czso.cz/ontology/pocetMistVAzylovychDomech\"\n",
    "val nursingHomesCount = \"http://data.czso.cz/ontology/pocetDomuSPecovatelskouSluzbou\"\n",
    "val nursingHomesCapacity = \"http://data.czso.cz/ontology/pocetBytovychJednotekVDomechSPecovatelskouSluzbou\"\n",
    "\n",
    "val discretizeAndPrintIntervals = (t: Tuple2[String, Graph]) => {\n",
    "    println(t._1 + \"\\n\")\n",
    "    println(\"sanitaryFacilitiesCount\")\n",
    "    t._2.discretizeAndGetIntervals(equiFrequent)(quad => hasPredicate(quad, sanitaryFacilitiesCount))\n",
    "    .foreach(i => print(intervalToString(i) + \"  \"))\n",
    "    println(\"\\nsanitaryFacilitiesCapacity\")\n",
    "    t._2.discretizeAndGetIntervals(equiFrequent)(quad => hasPredicate(quad, sanitaryFacilitiesCapacity))\n",
    "    .foreach(i => print(intervalToString(i) + \"  \"))\n",
    "    println(\"\\nretirementHousesCount\")\n",
    "    t._2.discretizeAndGetIntervals(equiFrequent)(quad => hasPredicate(quad, retirementHousesCount))\n",
    "    .foreach(i => print(intervalToString(i) + \"  \"))\n",
    "    println(\"\\nretirementHousesCapacity\")\n",
    "    t._2.discretizeAndGetIntervals(equiFrequent)(quad => hasPredicate(quad, retirementHousesCapacity))\n",
    "    .foreach(i => print(intervalToString(i) + \"  \"))\n",
    "    println(\"\\nhomesForDisabledCount\")\n",
    "    t._2.discretizeAndGetIntervals(equiFrequent)(quad => hasPredicate(quad, homesForDisabledCount))\n",
    "    .foreach(i => print(intervalToString(i) + \"  \"))\n",
    "    println(\"\\nhomesForDisabledCapacity\")\n",
    "    t._2.discretizeAndGetIntervals(equiFrequent)(quad => hasPredicate(quad, homesForDisabledCapacity))\n",
    "    .foreach(i => print(intervalToString(i) + \"  \"))\n",
    "    println(\"\\nasylumHomesCount\")\n",
    "    t._2.discretizeAndGetIntervals(equiFrequent)(quad => hasPredicate(quad, asylumHomesCount))\n",
    "    .foreach(i => print(intervalToString(i) + \"  \"))\n",
    "    println(\"\\nasylumHomesCapacity\")\n",
    "    t._2.discretizeAndGetIntervals(equiFrequent)(quad => hasPredicate(quad, asylumHomesCapacity))\n",
    "    .foreach(i => print(intervalToString(i) + \"  \"))\n",
    "    println(\"\\nnursingHomesCount\")\n",
    "    t._2.discretizeAndGetIntervals(equiFrequent)(quad => hasPredicate(quad, nursingHomesCount))\n",
    "    .foreach(i => print(intervalToString(i) + \"  \"))\n",
    "    println(\"\\nnursingHomesCapacity\")\n",
    "    t._2.discretizeAndGetIntervals(equiFrequent)(quad => hasPredicate(quad, nursingHomesCapacity))\n",
    "    .foreach(i => print(intervalToString(i) + \"  \"))\n",
    "    println(\"\\n\\n\")\n",
    "}\n",
    "\n",
    "val discretizeDataset = (t: Tuple2[String, Graph]) => {\n",
    "    val cube = t._2\n",
    "    .discretize(equiFrequent)(quad => hasPredicate(quad, sanitaryFacilitiesCount))\n",
    "    .discretize(equiFrequent)(quad => hasPredicate(quad, sanitaryFacilitiesCapacity))\n",
    "    .discretize(equiFrequent)(quad => hasPredicate(quad, retirementHousesCount))\n",
    "    .discretize(equiFrequent)(quad => hasPredicate(quad, retirementHousesCapacity))\n",
    "    .discretize(equiFrequent)(quad => hasPredicate(quad, homesForDisabledCount))\n",
    "    .discretize(equiFrequent)(quad => hasPredicate(quad, homesForDisabledCapacity))\n",
    "    .discretize(equiFrequent)(quad => hasPredicate(quad, asylumHomesCount))\n",
    "    .discretize(equiFrequent)(quad => hasPredicate(quad, asylumHomesCapacity))\n",
    "    .discretize(equiFrequent)(quad => hasPredicate(quad, nursingHomesCount))\n",
    "    .discretize(equiFrequent)(quad => hasPredicate(quad, nursingHomesCapacity))\n",
    "    Tuple2(t._1, cube)\n",
    "}\n",
    "//pensionsCubeMapRenamed.map(discretizeAndPrintIntervals)\n",
    "val facilitiesCubesMapDiscretized = facilitiesCubesMapRenamed.map(discretizeDataset)"
   ]
  },
  {
   "cell_type": "code",
   "execution_count": null,
   "metadata": {},
   "outputs": [],
   "source": [
    "var dataset = Dataset()\n",
    "salariesCubesMapDiscretized.foreach(t => dataset = dataset + t._2)\n",
    "dataset.cache(\"../cache/facilitiesCube.cache\")\n",
    "dataset.export(\"../exports/facilitiesCube.ttl\")"
   ]
  },
  {
   "cell_type": "code",
   "execution_count": null,
   "metadata": {},
   "outputs": [],
   "source": [
    "var cachedDataset = Dataset.fromCache(\"../cache/facilitiesCube.cache\")\n",
    "println(cachedDataset.size)\n",
    "println(dataset.size)"
   ]
  }
 ],
 "metadata": {
  "kernelspec": {
   "display_name": "Scala",
   "language": "scala",
   "name": "scala"
  },
  "language_info": {
   "codemirror_mode": "text/x-scala",
   "file_extension": ".sc",
   "mimetype": "text/x-scala",
   "name": "scala",
   "nbconvert_exporter": "script",
   "version": "2.12.8"
  }
 },
 "nbformat": 4,
 "nbformat_minor": 4
}
