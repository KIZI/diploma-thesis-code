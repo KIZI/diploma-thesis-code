{
 "cells": [
  {
   "cell_type": "code",
   "execution_count": 1,
   "id": "naked-chemistry",
   "metadata": {},
   "outputs": [],
   "source": [
    "kernel.silent(true)"
   ]
  },
  {
   "cell_type": "code",
   "execution_count": 2,
   "id": "normal-postcard",
   "metadata": {},
   "outputs": [],
   "source": [
    "import coursierapi.MavenRepository\n",
    "interp.repositories() ++= Seq(MavenRepository.of(\"https://jitpack.io\"))"
   ]
  },
  {
   "cell_type": "code",
   "execution_count": 3,
   "id": "integral-festival",
   "metadata": {},
   "outputs": [],
   "source": [
    "import $ivy.`com.github.propi:rdfrules:1.5.0`\n",
    "import collection._\n",
    "import org.apache.jena.riot.Lang\n",
    "\n",
    "import scala.util.control.Breaks._\n",
    "import scala.collection.immutable.ListMap\n",
    "\n",
    "import com.github.propi.rdfrules.data._\n",
    "import com.github.propi.rdfrules.algorithm.amie._\n",
    "import com.github.propi.rdfrules.algorithm.dbscan._\n",
    "import com.github.propi.rdfrules.utils._\n",
    "import com.github.propi.rdfrules.index._\n",
    "import com.github.propi.rdfrules.rule._\n",
    "import com.github.propi.rdfrules.ruleset._\n",
    "kernel.silent(false)"
   ]
  },
  {
   "cell_type": "code",
   "execution_count": 4,
   "id": "offshore-exception",
   "metadata": {},
   "outputs": [
    {
     "data": {
      "text/plain": [
       "\u001b[36mjaurDataset\u001b[39m: \u001b[32mDataset\u001b[39m = com.github.propi.rdfrules.data.Dataset@1d52dc56\n",
       "\u001b[36mres3_1\u001b[39m: \u001b[32mInt\u001b[39m = \u001b[32m56871\u001b[39m"
      ]
     },
     "execution_count": 4,
     "metadata": {},
     "output_type": "execute_result"
    }
   ],
   "source": [
    "val jaurDataset = Dataset.fromCache(\"../cache/jaurCube.cache\")\n",
    "jaurDataset.size"
   ]
  },
  {
   "cell_type": "code",
   "execution_count": 5,
   "id": "comfortable-inquiry",
   "metadata": {},
   "outputs": [
    {
     "data": {
      "text/plain": [
       "\u001b[36myagoHop0\u001b[39m: \u001b[32mDataset\u001b[39m = com.github.propi.rdfrules.data.Dataset@73fcd678\n",
       "\u001b[36mres4_1\u001b[39m: \u001b[32mInt\u001b[39m = \u001b[32m49375\u001b[39m"
      ]
     },
     "execution_count": 5,
     "metadata": {},
     "output_type": "execute_result"
    }
   ],
   "source": [
    "val yagoHop0 = Dataset.fromCache(\"../cache/yago-hop0.cache\")\n",
    "yagoHop0.size"
   ]
  },
  {
   "cell_type": "code",
   "execution_count": 6,
   "id": "descending-battery",
   "metadata": {},
   "outputs": [
    {
     "data": {
      "text/plain": [
       "\u001b[36myagoHop1\u001b[39m: \u001b[32mDataset\u001b[39m = com.github.propi.rdfrules.data.Dataset@be7a419\n",
       "\u001b[36mres5_1\u001b[39m: \u001b[32mInt\u001b[39m = \u001b[32m1208813\u001b[39m"
      ]
     },
     "execution_count": 6,
     "metadata": {},
     "output_type": "execute_result"
    }
   ],
   "source": [
    "val yagoHop1 = Dataset.fromCache(\"../cache/yago-hop1.cache\")\n",
    "yagoHop1.size"
   ]
  },
  {
   "cell_type": "code",
   "execution_count": 7,
   "id": "inner-marsh",
   "metadata": {},
   "outputs": [
    {
     "data": {
      "text/plain": [
       "\u001b[36myagoHop2\u001b[39m: \u001b[32mDataset\u001b[39m = com.github.propi.rdfrules.data.Dataset@7b39b14b\n",
       "\u001b[36mres6_1\u001b[39m: \u001b[32mInt\u001b[39m = \u001b[32m3573385\u001b[39m"
      ]
     },
     "execution_count": 7,
     "metadata": {},
     "output_type": "execute_result"
    }
   ],
   "source": [
    "val yagoHop2 = Dataset.fromCache(\"../cache/yago-hop2.cache\")\n",
    "yagoHop2.size"
   ]
  },
  {
   "cell_type": "code",
   "execution_count": 8,
   "id": "canadian-phenomenon",
   "metadata": {},
   "outputs": [
    {
     "data": {
      "text/plain": [
       "\u001b[36myagoDataset\u001b[39m: \u001b[32mDataset\u001b[39m = com.github.propi.rdfrules.data.Dataset@2799c119\n",
       "\u001b[36mres7_1\u001b[39m: \u001b[32mInt\u001b[39m = \u001b[32m4831573\u001b[39m"
      ]
     },
     "execution_count": 8,
     "metadata": {},
     "output_type": "execute_result"
    }
   ],
   "source": [
    "val yagoDataset = yagoHop0 + yagoHop1 + yagoHop2\n",
    "yagoDataset.size"
   ]
  },
  {
   "cell_type": "code",
   "execution_count": 10,
   "id": "increasing-shade",
   "metadata": {},
   "outputs": [
    {
     "data": {
      "text/plain": [
       "\u001b[36mrdfsLabel\u001b[39m: \u001b[32mString\u001b[39m = \u001b[32m\"http://www.w3.org/2000/01/rdf-schema#label\"\u001b[39m\n",
       "\u001b[36mrdfsComment\u001b[39m: \u001b[32mString\u001b[39m = \u001b[32m\"http://www.w3.org/2000/01/rdf-schema#comment\"\u001b[39m\n",
       "\u001b[36malternateName\u001b[39m: \u001b[32mString\u001b[39m = \u001b[32m\"http://schema.org/alternateName\"\u001b[39m\n",
       "\u001b[36mimage\u001b[39m: \u001b[32mString\u001b[39m = \u001b[32m\"http://schema.org/image\"\u001b[39m\n",
       "\u001b[36mrdfType\u001b[39m: \u001b[32mString\u001b[39m = \u001b[32m\"http://www.w3.org/1999/02/22-rdf-syntax-ns#type\"\u001b[39m\n",
       "\u001b[36mrounded\u001b[39m: (\u001b[32mDouble\u001b[39m, \u001b[32mInteger\u001b[39m) => \u001b[32mDouble\u001b[39m = ammonite.$sess.cmd9$Helper$$Lambda$2915/0x0000000840cc2840@14d49ee2\n",
       "\u001b[36myagoDatasetFiltered\u001b[39m: \u001b[32mDataset\u001b[39m = com.github.propi.rdfrules.data.Dataset@1c1fdc52\n",
       "\u001b[36mratio\u001b[39m: \u001b[32mDouble\u001b[39m = \u001b[32m0.37625551761300097\u001b[39m\n",
       "\u001b[36mres9_8\u001b[39m: \u001b[32mString\u001b[39m = \u001b[32m\"1817906 / 4831573 = 38.0%\"\u001b[39m"
      ]
     },
     "execution_count": 10,
     "metadata": {},
     "output_type": "execute_result"
    }
   ],
   "source": [
    "val rdfsLabel = \"http://www.w3.org/2000/01/rdf-schema#label\"\n",
    "val rdfsComment = \"http://www.w3.org/2000/01/rdf-schema#comment\"\n",
    "val alternateName = \"http://schema.org/alternateName\"\n",
    "val image = \"http://schema.org/image\"\n",
    "val rdfType = \"http://www.w3.org/1999/02/22-rdf-syntax-ns#type\"\n",
    "\n",
    "val rounded = (value: Double, scale: Integer) => BigDecimal(value).setScale(scale, BigDecimal.RoundingMode.HALF_UP).toDouble\n",
    "\n",
    "val yagoDatasetFiltered = yagoDataset.\n",
    "filter(q => !q.triple.predicate.hasSameUriAs(rdfsLabel) &&\n",
    "                !q.triple.predicate.hasSameUriAs(rdfsComment) &&\n",
    "                !q.triple.predicate.hasSameUriAs(alternateName) &&\n",
    "                !q.triple.predicate.hasSameUriAs(rdfType) &&\n",
    "                !q.triple.predicate.hasSameUriAs(image))\n",
    "\n",
    "val ratio: Double = (yagoDatasetFiltered.size.toDouble / yagoDataset.size.toDouble)\n",
    "yagoDatasetFiltered.size + \" / \" + yagoDataset.size + \" = \" + rounded(ratio,2)*100 + \"%\""
   ]
  },
  {
   "cell_type": "code",
   "execution_count": 11,
   "id": "conceptual-leonard",
   "metadata": {},
   "outputs": [
    {
     "data": {
      "text/plain": [
       "\u001b[36mrefAreaLinking\u001b[39m: \u001b[32mDataset\u001b[39m = com.github.propi.rdfrules.data.Dataset@66391983\n",
       "\u001b[36mres10_1\u001b[39m: \u001b[32mInt\u001b[39m = \u001b[32m90\u001b[39m"
      ]
     },
     "execution_count": 11,
     "metadata": {},
     "output_type": "execute_result"
    }
   ],
   "source": [
    "// ref area linking yago csu\n",
    "val refAreaLinking = Dataset(\"../data/linking/yagoCZSOLinking.ttl\")\n",
    "refAreaLinking.size"
   ]
  },
  {
   "cell_type": "code",
   "execution_count": 12,
   "id": "dated-dictionary",
   "metadata": {},
   "outputs": [
    {
     "data": {
      "text/plain": [
       "\u001b[36mdataset\u001b[39m: \u001b[32mDataset\u001b[39m = com.github.propi.rdfrules.data.Dataset@11448d8f\n",
       "\u001b[36mres11_1\u001b[39m: \u001b[32mInt\u001b[39m = \u001b[32m1874867\u001b[39m"
      ]
     },
     "execution_count": 12,
     "metadata": {},
     "output_type": "execute_result"
    }
   ],
   "source": [
    "val dataset = jaurDataset + yagoDatasetFiltered + refAreaLinking\n",
    "dataset.size"
   ]
  },
  {
   "cell_type": "code",
   "execution_count": 13,
   "id": "purple-contest",
   "metadata": {},
   "outputs": [
    {
     "name": "stderr",
     "output_type": "stream",
     "text": [
      "2021-05-13 21:33:28:136 +0200 [scala-interpreter-1] INFO com.github.propi.rdfrules.utils.Debugger - Predicates trimming.\n",
      "2021-05-13 21:33:29:258 +0200 [scala-interpreter-1] INFO com.github.propi.rdfrules.utils.Debugger - Subjects indexing.\n",
      "2021-05-13 21:33:30:707 +0200 [scala-interpreter-1] INFO com.github.propi.rdfrules.utils.Debugger - Subjects trimming.\n",
      "2021-05-13 21:33:30:940 +0200 [scala-interpreter-1] INFO com.github.propi.rdfrules.utils.Debugger - Objects indexing.\n",
      "2021-05-13 21:33:31:999 +0200 [scala-interpreter-1] INFO com.github.propi.rdfrules.utils.Debugger - Objects trimming.\n"
     ]
    },
    {
     "data": {
      "text/plain": [
       "\u001b[36mindex\u001b[39m: \u001b[32mIndex\u001b[39m = com.github.propi.rdfrules.index.Index$FromDatasetFullyPreservedIndex@4e3dcc12\n",
       "\u001b[36mres12_1\u001b[39m: \u001b[32mIndex\u001b[39m = com.github.propi.rdfrules.index.Index$FromDatasetFullyPreservedIndex@4e3dcc12"
      ]
     },
     "execution_count": 13,
     "metadata": {},
     "output_type": "execute_result"
    }
   ],
   "source": [
    "val index = dataset.index()\n",
    "index.cache(\"../cache/yaurYagoIndex.cache\")\n",
    "kernel.silent(true)"
   ]
  },
  {
   "cell_type": "code",
   "execution_count": null,
   "id": "formal-austria",
   "metadata": {},
   "outputs": [],
   "source": [
    "val index = Index.fromCache(\"../cache/yaurYagoIndex.cache\", false)\n",
    "kernel.silent(true)"
   ]
  },
  {
   "cell_type": "code",
   "execution_count": 14,
   "id": "divine-paper",
   "metadata": {},
   "outputs": [],
   "source": [
    "val uri = (value: String) => TripleItem.Uri(value)\n",
    "val qbDataSet = uri(\"http://purl.org/linked-data/cube#dataSet\")\n",
    "// in all cubes\n",
    "val czsoUri = \"http://data.czso.cz/ontology/\"\n",
    "val unemploymentRate = uri(czsoUri+\"podilNezamestnanych\")\n",
    "val reachableApplicants = uri(czsoUri+\"dosazitelniNeumisteniUchazeciOZamestnani\")\n",
    "// only in total cubes\n",
    "val unplacedApplicants = uri(czsoUri+\"neumisteniUchazeciOZamestnani\")\n",
    "val vacaniesCount = uri(czsoUri+\"pocetVolnychMist\")\n",
    "val measures = Array(unemploymentRate,reachableApplicants,unplacedApplicants,vacaniesCount)\n",
    "\n",
    "val oneOfMeasures = OneOf(unemploymentRate,reachableApplicants,unplacedApplicants,vacaniesCount)\n",
    "val refArea = uri(\"http://data.czso.cz/ontology/refArea\")\n",
    "val constantsAtObject = RuleConstraint.ConstantsAtPosition.ConstantsPosition.Object\n",
    "val constantsOnlyAtObject = RuleConstraint.ConstantsAtPosition(constantsAtObject)\n",
    "\n",
    "val oneOfRegionCubes = OneOf(uri(\"jaur-regions-by-sex\"),uri(\"jaur-regions-total\"))\n",
    "val oneOfDistrictCubes = OneOf(uri(\"jaur-districts-by-sex\"),uri(\"jaur-districts-total\"))"
   ]
  },
  {
   "cell_type": "code",
   "execution_count": 15,
   "id": "municipal-reaction",
   "metadata": {},
   "outputs": [],
   "source": [
    "val regionPattern1 = (\n",
    "    AtomPattern(subject = 'b', graph = uri(\"yago\")) &:\n",
    "    AtomPattern(subject = 'a', predicate = refArea, `object` = 'b', graph = uri(\"czso\")) &:\n",
    "    AtomPattern(subject = 'a', predicate = qbDataSet, `object` = oneOfRegionCubes, graph = uri(\"czso\"))\n",
    "    =>: \n",
    "    AtomPattern(subject = 'a', predicate = oneOfMeasures, graph = uri(\"czso\"))\n",
    ")\n",
    "\n",
    "val regionPattern2 = (\n",
    "    AtomPattern(`object` = 'b', graph = uri(\"yago\")) &:\n",
    "    AtomPattern(subject = 'a', predicate = refArea, `object` = 'b', graph = uri(\"czso\")) &:\n",
    "    AtomPattern(subject = 'a', predicate = qbDataSet, `object` = oneOfRegionCubes, graph = uri(\"czso\"))\n",
    "    =>: \n",
    "    AtomPattern(subject = 'a', predicate = oneOfMeasures, graph = uri(\"czso\"))\n",
    ")\n",
    "\n",
    "val districtPattern = (\n",
    "    AtomPattern(subject = 'b', graph = uri(\"yago\")) &:\n",
    "    AtomPattern(subject = 'a', predicate = refArea, `object` = 'b', graph = uri(\"czso\")) &:\n",
    "    AtomPattern(subject = 'a', predicate = qbDataSet, `object` = oneOfDistrictCubes, graph = uri(\"czso\"))\n",
    "    =>: \n",
    "    AtomPattern(subject = 'a', predicate = oneOfMeasures, graph = uri(\"czso\"))\n",
    ")"
   ]
  },
  {
   "cell_type": "code",
   "execution_count": 16,
   "id": "korean-equilibrium",
   "metadata": {},
   "outputs": [],
   "source": [
    "val regionTask = Amie()\n",
    "    .addThreshold(Threshold.MinSupport(18))\n",
    "    .addThreshold(Threshold.MaxRuleLength(6))\n",
    "    .addConstraint(constantsOnlyAtObject)\n",
    "    .addPattern(regionPattern1)\n",
    "    .addPattern(regionPattern2)\n",
    "\n",
    "val districtTask = Amie()\n",
    "    .addThreshold(Threshold.MinSupport(36))\n",
    "    .addThreshold(Threshold.MaxRuleLength(6))\n",
    "    .addConstraint(constantsOnlyAtObject)\n",
    "    .addPattern(districtPattern)"
   ]
  },
  {
   "cell_type": "code",
   "execution_count": null,
   "id": "noted-lobby",
   "metadata": {},
   "outputs": [
    {
     "name": "stderr",
     "output_type": "stream",
     "text": [
      "2021-05-13 21:33:35:507 +0200 [scala-interpreter-1] INFO com.github.propi.rdfrules.utils.Debugger - Amie task settings:\n",
      "MinHeadSize=100,\n",
      "MinHeadCoverage=0.0,\n",
      "MinSupport=18,\n",
      "MaxThreads=4,\n",
      "MinAtomSize=0,\n",
      "MaxRuleLength=6,\n",
      "WithConstants=true,\n",
      "ConstantsPosition=Object,\n",
      "Timeout=-1,\n",
      "WithDuplicitPredicates=true,\n",
      "Patterns=List(Mapped(Vector(Mapped(Any,Any,Variable(?b),Constant(Constant(-1596161386))), Mapped(Variable(?a),Constant(Constant(1481837794)),Variable(?b),Constant(Constant(1015601977))), Mapped(Variable(?a),Constant(Constant(624690160)),OneOf(ArrayBuffer(Constant(Constant(1171323585)), Constant(Constant(1687262354)))),Constant(Constant(1015601977)))),Some(Mapped(Variable(?a),OneOf(ArrayBuffer(Constant(Constant(-2070273298)), Constant(Constant(1659106226)), Constant(Constant(1797717682)), Constant(Constant(1142069620)))),Any,Constant(Constant(1015601977)))),false,false), Mapped(Vector(Mapped(Variable(?b),Any,Any,Constant(Constant(-1596161386))), Mapped(Variable(?a),Constant(Constant(1481837794)),Variable(?b),Constant(Constant(1015601977))), Mapped(Variable(?a),Constant(Constant(624690160)),OneOf(ArrayBuffer(Constant(Constant(1171323585)), Constant(Constant(1687262354)))),Constant(Constant(1015601977)))),Some(Mapped(Variable(?a),OneOf(ArrayBuffer(Constant(Constant(-2070273298)), Constant(Constant(1659106226)), Constant(Constant(1797717682)), Constant(Constant(1142069620)))),Any,Constant(Constant(1015601977)))),false,false)),\n",
      "OnlyPredicates=None,\n",
      "WithoutPredicates=None\n"
     ]
    }
   ],
   "source": [
    "val startTimeMillis = System.currentTimeMillis()\n",
    "val regionTaskRuleset = index.mine(regionTask)\n",
    "println(\"rules: \"+regionTaskRuleset.size)\n",
    "println(\"duration: \" + (System.currentTimeMillis() - startTimeMillis) / 1000 + \"s\")"
   ]
  },
  {
   "cell_type": "code",
   "execution_count": 32,
   "id": "fitting-vintage",
   "metadata": {},
   "outputs": [
    {
     "name": "stdout",
     "output_type": "stream",
     "text": [
      "rules: 3\n"
     ]
    }
   ],
   "source": [
    "val regionTaskRulesetFiltered = regionTaskRuleset\n",
    ".filterResolved(rr => {rr.body.count(i => measures.contains(i.predicate)) == 0})\n",
    ".computePcaConfidence(0.5)\n",
    ".sortBy(Measure.PcaConfidence, Measure.Support)\n",
    ".cache\n",
    "regionTaskRulesetFiltered.export(\"../rulesets/jaurYagoRegionTaskRulesetFiltered.txt\")\n",
    "println(\"rules: \" + regionTaskRulesetFiltered.size)"
   ]
  },
  {
   "cell_type": "code",
   "execution_count": 33,
   "id": "black-video",
   "metadata": {},
   "outputs": [
    {
     "name": "stderr",
     "output_type": "stream",
     "text": [
      "2021-05-12 12:18:54:051 +0200 [scala-interpreter-1] INFO com.github.propi.rdfrules.utils.Debugger - Amie task settings:\n",
      "MinHeadSize=100,\n",
      "MinHeadCoverage=0.0,\n",
      "MinSupport=36,\n",
      "MaxThreads=4,\n",
      "MinAtomSize=0,\n",
      "MaxRuleLength=6,\n",
      "WithConstants=true,\n",
      "ConstantsPosition=Object,\n",
      "Timeout=-1,\n",
      "WithDuplicitPredicates=true,\n",
      "Patterns=List(Mapped(Vector(Mapped(Variable(?b),Any,Any,Constant(Constant(-1596161386))), Mapped(Variable(?a),Constant(Constant(1481837794)),Variable(?b),Constant(Constant(1015601977))), Mapped(Variable(?a),Constant(Constant(624690160)),OneOf(ArrayBuffer(Constant(Constant(345337843)), Constant(Constant(2112950736)))),Constant(Constant(1015601977)))),Some(Mapped(Variable(?a),OneOf(ArrayBuffer(Constant(Constant(-2070273298)), Constant(Constant(1659106226)), Constant(Constant(1797717682)), Constant(Constant(1142069620)))),Any,Constant(Constant(1015601977)))),false,false)),\n",
      "OnlyPredicates=None,\n",
      "WithoutPredicates=None\n"
     ]
    },
    {
     "name": "stdout",
     "output_type": "stream",
     "text": [
      "rules: 193770\n",
      "duration: 200s\n"
     ]
    }
   ],
   "source": [
    "val startTimeMillis = System.currentTimeMillis()\n",
    "val districtTaskRuleset = index.mine(districtTask)\n",
    "println(\"rules: \" + districtTaskRuleset.size) \n",
    "println(\"duration: \" + (System.currentTimeMillis() - startTimeMillis) / 1000 + \"s\")"
   ]
  },
  {
   "cell_type": "code",
   "execution_count": 37,
   "id": "necessary-despite",
   "metadata": {},
   "outputs": [
    {
     "name": "stdout",
     "output_type": "stream",
     "text": [
      "rules: 951\n"
     ]
    }
   ],
   "source": [
    "val districtTaskRulesetFiltered = districtTaskRuleset\n",
    ".filterResolved(rr => {rr.body.count(i => measures.contains(i.predicate)) == 0})\n",
    ".computePcaConfidence(0.6)\n",
    ".sortBy(Measure.PcaConfidence, Measure.Support)\n",
    ".cache\n",
    "districtTaskRulesetFiltered.export(\"../rulesets/jaurYagoDistrictTaskRulesetFiltered.txt\")\n",
    "println(\"rules: \" + districtTaskRulesetFiltered.size)"
   ]
  },
  {
   "cell_type": "code",
   "execution_count": 38,
   "id": "exterior-accommodation",
   "metadata": {},
   "outputs": [],
   "source": [
    "val ruleset = regionTaskRulesetFiltered + districtTaskRulesetFiltered"
   ]
  },
  {
   "cell_type": "code",
   "execution_count": 39,
   "id": "painful-badge",
   "metadata": {},
   "outputs": [],
   "source": [
    "val rulesetClustered = ruleset\n",
    ".makeClusters {\n",
    "implicit val ruleSimilarityCounting: SimilarityCounting[Rule.Simple] = SimilarityCounting.AtomsSimilarityCounting\n",
    "DbScan(minNeighbours = 3, minSimilarity = 0.85)\n",
    "}\n",
    ".cache"
   ]
  },
  {
   "cell_type": "code",
   "execution_count": 40,
   "id": "fundamental-creature",
   "metadata": {},
   "outputs": [],
   "source": [
    "rulesetClustered\n",
    ".cache(\"../cache/jaurYagoOneMeasureTaskRulesetFilteredClustered.cache\")\n",
    ".export(\"../rulesets/jaurYagoOneMeasureTaskRulesetFilteredClustered.txt\")"
   ]
  },
  {
   "cell_type": "code",
   "execution_count": null,
   "id": "unknown-sweet",
   "metadata": {},
   "outputs": [],
   "source": [
    "val rulesetClustered = Ruleset.fromCache(index, \"../cache/oneMeasureTaskRulesetFilteredClustered.cache\")"
   ]
  },
  {
   "cell_type": "code",
   "execution_count": 60,
   "id": "short-feeling",
   "metadata": {},
   "outputs": [
    {
     "data": {
      "text/plain": [
       "\u001b[36mfilterByCluster\u001b[39m: (\u001b[32mResolvedRule\u001b[39m, \u001b[32mInt\u001b[39m) => \u001b[32mBoolean\u001b[39m = ammonite.$sess.cmd59$Helper$$Lambda$4020/0x000000084109c840@450f964b\n",
       "\u001b[36mgroupRulesByCluster\u001b[39m: \u001b[32mRuleset\u001b[39m => \u001b[32mListMap\u001b[39m[\u001b[32mInt\u001b[39m, \u001b[32mInt\u001b[39m] = ammonite.$sess.cmd59$Helper$$Lambda$4021/0x000000084109d840@4d123c50"
      ]
     },
     "execution_count": 60,
     "metadata": {},
     "output_type": "execute_result"
    }
   ],
   "source": [
    "val filterByCluster = (r: ResolvedRule, cluster: Int) => \n",
    "r.measures.get(Measure.Cluster).get == Measure.Cluster(cluster)\n",
    "\n",
    "val groupRulesByCluster = (r: Ruleset) => {\n",
    "    var clustersMap: ListMap[Int, Int] = ListMap()\n",
    "    breakable {\n",
    "        var counter = 0\n",
    "        while (true) {\n",
    "            val size = r.filterResolved(r => filterByCluster(r,counter)).size\n",
    "            if (size > 0) {\n",
    "                clustersMap = clustersMap + (counter -> size)\n",
    "                counter = counter + 1\n",
    "            } else break;\n",
    "        }\n",
    "    }\n",
    "    clustersMap = ListMap(clustersMap.toSeq.sortWith(_._2 > _._2):_*)\n",
    "    clustersMap\n",
    "}"
   ]
  },
  {
   "cell_type": "code",
   "execution_count": 61,
   "id": "funded-macro",
   "metadata": {},
   "outputs": [
    {
     "data": {
      "text/plain": [
       "\u001b[36mres60\u001b[39m: \u001b[32mListMap\u001b[39m[\u001b[32mInt\u001b[39m, \u001b[32mInt\u001b[39m] = \u001b[33mListMap\u001b[39m(\n",
       "  \u001b[32m61\u001b[39m -> \u001b[32m251\u001b[39m,\n",
       "  \u001b[32m78\u001b[39m -> \u001b[32m129\u001b[39m,\n",
       "  \u001b[32m67\u001b[39m -> \u001b[32m119\u001b[39m,\n",
       "  \u001b[32m52\u001b[39m -> \u001b[32m66\u001b[39m,\n",
       "  \u001b[32m75\u001b[39m -> \u001b[32m62\u001b[39m,\n",
       "  \u001b[32m35\u001b[39m -> \u001b[32m42\u001b[39m,\n",
       "  \u001b[32m76\u001b[39m -> \u001b[32m24\u001b[39m,\n",
       "  \u001b[32m62\u001b[39m -> \u001b[32m21\u001b[39m,\n",
       "  \u001b[32m44\u001b[39m -> \u001b[32m18\u001b[39m,\n",
       "  \u001b[32m23\u001b[39m -> \u001b[32m15\u001b[39m,\n",
       "  \u001b[32m24\u001b[39m -> \u001b[32m15\u001b[39m,\n",
       "  \u001b[32m26\u001b[39m -> \u001b[32m15\u001b[39m,\n",
       "  \u001b[32m28\u001b[39m -> \u001b[32m15\u001b[39m,\n",
       "  \u001b[32m30\u001b[39m -> \u001b[32m12\u001b[39m,\n",
       "  \u001b[32m46\u001b[39m -> \u001b[32m8\u001b[39m,\n",
       "  \u001b[32m70\u001b[39m -> \u001b[32m8\u001b[39m,\n",
       "  \u001b[32m40\u001b[39m -> \u001b[32m7\u001b[39m,\n",
       "  \u001b[32m43\u001b[39m -> \u001b[32m7\u001b[39m,\n",
       "  \u001b[32m31\u001b[39m -> \u001b[32m6\u001b[39m,\n",
       "  \u001b[32m32\u001b[39m -> \u001b[32m6\u001b[39m,\n",
       "  \u001b[32m59\u001b[39m -> \u001b[32m6\u001b[39m,\n",
       "  \u001b[32m65\u001b[39m -> \u001b[32m6\u001b[39m,\n",
       "  \u001b[32m77\u001b[39m -> \u001b[32m6\u001b[39m,\n",
       "  \u001b[32m33\u001b[39m -> \u001b[32m5\u001b[39m,\n",
       "  \u001b[32m39\u001b[39m -> \u001b[32m5\u001b[39m,\n",
       "  \u001b[32m60\u001b[39m -> \u001b[32m5\u001b[39m,\n",
       "  \u001b[32m64\u001b[39m -> \u001b[32m5\u001b[39m,\n",
       "  \u001b[32m15\u001b[39m -> \u001b[32m4\u001b[39m,\n",
       "  \u001b[32m25\u001b[39m -> \u001b[32m4\u001b[39m,\n",
       "  \u001b[32m34\u001b[39m -> \u001b[32m4\u001b[39m,\n",
       "  \u001b[32m42\u001b[39m -> \u001b[32m4\u001b[39m,\n",
       "  \u001b[32m71\u001b[39m -> \u001b[32m4\u001b[39m,\n",
       "  \u001b[32m0\u001b[39m -> \u001b[32m1\u001b[39m,\n",
       "  \u001b[32m1\u001b[39m -> \u001b[32m1\u001b[39m,\n",
       "  \u001b[32m2\u001b[39m -> \u001b[32m1\u001b[39m,\n",
       "  \u001b[32m3\u001b[39m -> \u001b[32m1\u001b[39m,\n",
       "  \u001b[32m4\u001b[39m -> \u001b[32m1\u001b[39m,\n",
       "  \u001b[32m5\u001b[39m -> \u001b[32m1\u001b[39m,\n",
       "..."
      ]
     },
     "execution_count": 61,
     "metadata": {},
     "output_type": "execute_result"
    }
   ],
   "source": [
    "groupRulesByCluster(rulesetClustered)"
   ]
  },
  {
   "cell_type": "code",
   "execution_count": 55,
   "id": "signal-shooting",
   "metadata": {},
   "outputs": [
    {
     "data": {
      "text/plain": [
       "\u001b[36mfilterByLength\u001b[39m: (\u001b[32mResolvedRule\u001b[39m, \u001b[32mInt\u001b[39m) => \u001b[32mBoolean\u001b[39m = ammonite.$sess.cmd54$Helper$$Lambda$3986/0x0000000841087040@4653180a\n",
       "\u001b[36mgroupRulesByLength\u001b[39m: (\u001b[32mRuleset\u001b[39m, \u001b[32mInt\u001b[39m) => \u001b[32mListMap\u001b[39m[\u001b[32mInt\u001b[39m, \u001b[32mInt\u001b[39m] = ammonite.$sess.cmd54$Helper$$Lambda$3987/0x0000000841087840@61659644"
      ]
     },
     "execution_count": 55,
     "metadata": {},
     "output_type": "execute_result"
    }
   ],
   "source": [
    "val filterByLength = (r: ResolvedRule, length: Int) => r.body.size == length\n",
    "\n",
    "val groupRulesByLength = (r: Ruleset, maxLength: Int) => {\n",
    "    var lengthMap: ListMap[Int, Int] = ListMap()\n",
    "    breakable {\n",
    "        var counter = 1\n",
    "        while (counter <= maxLength) {\n",
    "            val size = r.filterResolved(r => filterByLength(r,counter)).size\n",
    "            lengthMap = lengthMap + (counter -> size)\n",
    "            counter = counter + 1\n",
    "        }\n",
    "    }\n",
    "    lengthMap = ListMap(lengthMap.toSeq.sortWith(_._2 > _._2):_*)\n",
    "    lengthMap\n",
    "}"
   ]
  },
  {
   "cell_type": "code",
   "execution_count": 57,
   "id": "civic-dairy",
   "metadata": {},
   "outputs": [
    {
     "data": {
      "text/plain": [
       "\u001b[36mres56\u001b[39m: \u001b[32mListMap\u001b[39m[\u001b[32mInt\u001b[39m, \u001b[32mInt\u001b[39m] = \u001b[33mListMap\u001b[39m(\n",
       "  \u001b[32m5\u001b[39m -> \u001b[32m954\u001b[39m,\n",
       "  \u001b[32m1\u001b[39m -> \u001b[32m0\u001b[39m,\n",
       "  \u001b[32m2\u001b[39m -> \u001b[32m0\u001b[39m,\n",
       "  \u001b[32m3\u001b[39m -> \u001b[32m0\u001b[39m,\n",
       "  \u001b[32m4\u001b[39m -> \u001b[32m0\u001b[39m,\n",
       "  \u001b[32m6\u001b[39m -> \u001b[32m0\u001b[39m\n",
       ")"
      ]
     },
     "execution_count": 57,
     "metadata": {},
     "output_type": "execute_result"
    }
   ],
   "source": [
    "groupRulesByLength(rulesetClustered, 6)"
   ]
  },
  {
   "cell_type": "code",
   "execution_count": 58,
   "id": "sustainable-performer",
   "metadata": {},
   "outputs": [
    {
     "data": {
      "text/plain": [
       "\u001b[36mres57\u001b[39m: \u001b[32mListMap\u001b[39m[\u001b[32mInt\u001b[39m, \u001b[32mInt\u001b[39m] = \u001b[33mListMap\u001b[39m(\n",
       "  \u001b[32m5\u001b[39m -> \u001b[32m18616\u001b[39m,\n",
       "  \u001b[32m4\u001b[39m -> \u001b[32m52\u001b[39m,\n",
       "  \u001b[32m3\u001b[39m -> \u001b[32m9\u001b[39m,\n",
       "  \u001b[32m1\u001b[39m -> \u001b[32m0\u001b[39m,\n",
       "  \u001b[32m2\u001b[39m -> \u001b[32m0\u001b[39m,\n",
       "  \u001b[32m6\u001b[39m -> \u001b[32m0\u001b[39m\n",
       ")"
      ]
     },
     "execution_count": 58,
     "metadata": {},
     "output_type": "execute_result"
    }
   ],
   "source": [
    "groupRulesByLength(districtTaskRuleset, 6)"
   ]
  },
  {
   "cell_type": "code",
   "execution_count": 59,
   "id": "surgical-emperor",
   "metadata": {},
   "outputs": [
    {
     "data": {
      "text/plain": [
       "\u001b[36mres58\u001b[39m: \u001b[32mListMap\u001b[39m[\u001b[32mInt\u001b[39m, \u001b[32mInt\u001b[39m] = \u001b[33mListMap\u001b[39m(\n",
       "  \u001b[32m5\u001b[39m -> \u001b[32m18616\u001b[39m,\n",
       "  \u001b[32m4\u001b[39m -> \u001b[32m52\u001b[39m,\n",
       "  \u001b[32m3\u001b[39m -> \u001b[32m9\u001b[39m,\n",
       "  \u001b[32m1\u001b[39m -> \u001b[32m0\u001b[39m,\n",
       "  \u001b[32m2\u001b[39m -> \u001b[32m0\u001b[39m,\n",
       "  \u001b[32m6\u001b[39m -> \u001b[32m0\u001b[39m\n",
       ")"
      ]
     },
     "execution_count": 59,
     "metadata": {},
     "output_type": "execute_result"
    }
   ],
   "source": [
    "groupRulesByLength(regionTaskRuleset, 6)"
   ]
  }
 ],
 "metadata": {
  "kernelspec": {
   "display_name": "Scala",
   "language": "scala",
   "name": "scala"
  },
  "language_info": {
   "codemirror_mode": "text/x-scala",
   "file_extension": ".sc",
   "mimetype": "text/x-scala",
   "name": "scala",
   "nbconvert_exporter": "script",
   "version": "2.12.8"
  }
 },
 "nbformat": 4,
 "nbformat_minor": 5
}
