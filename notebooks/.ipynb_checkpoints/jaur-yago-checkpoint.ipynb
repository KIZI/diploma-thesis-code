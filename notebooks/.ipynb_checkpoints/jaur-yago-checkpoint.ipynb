{
 "cells": [
  {
   "cell_type": "code",
   "execution_count": null,
   "id": "naked-chemistry",
   "metadata": {},
   "outputs": [],
   "source": [
    "kernel.silent(true)"
   ]
  },
  {
   "cell_type": "markdown",
   "id": "c2268843-1fff-4c52-b770-7120b3370333",
   "metadata": {},
   "source": [
    "# Dependencies"
   ]
  },
  {
   "cell_type": "code",
   "execution_count": null,
   "id": "normal-postcard",
   "metadata": {},
   "outputs": [],
   "source": [
    "import coursierapi.MavenRepository\n",
    "interp.repositories() ++= Seq(MavenRepository.of(\"https://jitpack.io\"))"
   ]
  },
  {
   "cell_type": "code",
   "execution_count": null,
   "id": "ad6f1aa5-16fb-4815-96d8-1a7e8651446e",
   "metadata": {},
   "outputs": [],
   "source": [
    "import $ivy.`com.github.propi:rdfrules:1.5.0`\n",
    "//import $ivy.`com.github.propi.rdfrules::core:1.0.0`\n",
    "import collection._\n",
    "import org.apache.jena.riot.Lang\n",
    "import scala.util.control.Breaks._\n",
    "import scala.collection.immutable.ListMap"
   ]
  },
  {
   "cell_type": "code",
   "execution_count": null,
   "id": "04aacac0-e92a-4dbc-bbe8-d7222c50d1f2",
   "metadata": {},
   "outputs": [],
   "source": [
    "import $ivy.`org.plotly-scala::plotly-almond:0.8.2`\n",
    "import plotly._, plotly.element._, plotly.layout._, plotly.Almond._\n",
    "init(offline=true)\n",
    "repl.pprinter() = repl.pprinter().copy(defaultHeight = 3)"
   ]
  },
  {
   "cell_type": "code",
   "execution_count": null,
   "id": "integral-festival",
   "metadata": {},
   "outputs": [],
   "source": [
    "import com.github.propi.rdfrules.data._\n",
    "import com.github.propi.rdfrules.algorithm.amie._\n",
    "import com.github.propi.rdfrules.algorithm.dbscan._\n",
    "import com.github.propi.rdfrules.utils._\n",
    "import com.github.propi.rdfrules.index._\n",
    "import com.github.propi.rdfrules.rule._\n",
    "import com.github.propi.rdfrules.ruleset._"
   ]
  },
  {
   "cell_type": "markdown",
   "id": "74cb6268-8ab8-42ee-a87a-307641612833",
   "metadata": {},
   "source": [
    "# Data Sets"
   ]
  },
  {
   "cell_type": "code",
   "execution_count": null,
   "id": "increasing-shade",
   "metadata": {},
   "outputs": [],
   "source": [
    "val rdfsLabel = \"http://www.w3.org/2000/01/rdf-schema#label\"\n",
    "val rdfsComment = \"http://www.w3.org/2000/01/rdf-schema#comment\"\n",
    "val alternateName = \"http://schema.org/alternateName\"\n",
    "val image = \"http://schema.org/image\"\n",
    "val rdfType = \"http://www.w3.org/1999/02/22-rdf-syntax-ns#type\"\n",
    "val rounded = (value: Double, scale: Integer) => BigDecimal(value).setScale(scale, BigDecimal.RoundingMode.HALF_UP).toDouble"
   ]
  },
  {
   "cell_type": "markdown",
   "id": "65e8a8a9-a2da-45fe-a01d-802baa02ec88",
   "metadata": {},
   "source": [
    "# Yago"
   ]
  },
  {
   "cell_type": "code",
   "execution_count": null,
   "id": "72f7c65f-16dd-4612-9ca4-a10b130015d2",
   "metadata": {},
   "outputs": [],
   "source": [
    "val yagoHop0 = Dataset.fromCache(\"../cache/yago-hop0.cache\")\n",
    "yagoHop0.size\n",
    "val yagoHop1 = Dataset.fromCache(\"../cache/yago-hop1.cache\")\n",
    "yagoHop1.size\n",
    "val yagoHop2 = Dataset.fromCache(\"../cache/yago-hop2.cache\")\n",
    "yagoHop2.size"
   ]
  },
  {
   "cell_type": "code",
   "execution_count": null,
   "id": "b4391efa-834a-4b08-b70d-9202cb8f7370",
   "metadata": {},
   "outputs": [],
   "source": [
    "val yagoDataset = yagoHop0 + yagoHop1 + yagoHop2\n",
    "yagoDataset.size"
   ]
  },
  {
   "cell_type": "code",
   "execution_count": null,
   "id": "2c0c89b2-ea5d-4b59-9d4e-89f8e66ce12b",
   "metadata": {},
   "outputs": [],
   "source": [
    "val yagoDatasetFiltered = yagoDataset.\n",
    "filter(q => !q.triple.predicate.hasSameUriAs(rdfsLabel) &&\n",
    "                !q.triple.predicate.hasSameUriAs(rdfsComment) &&\n",
    "                !q.triple.predicate.hasSameUriAs(alternateName) &&\n",
    "                !q.triple.predicate.hasSameUriAs(rdfType) &&\n",
    "                !q.triple.predicate.hasSameUriAs(image))\n",
    "\n",
    "val ratio: Double = (yagoDatasetFiltered.size.toDouble / yagoDataset.size.toDouble)\n",
    "yagoDatasetFiltered.size + \" / \" + yagoDataset.size + \" = \" + rounded(ratio,2)*100 + \"%\""
   ]
  },
  {
   "cell_type": "code",
   "execution_count": null,
   "id": "2dd3ff25-8959-4624-9a57-8ee0c9d4a74b",
   "metadata": {},
   "outputs": [],
   "source": [
    "yagoDatasetFiltered.cache(\"../cache/jaur-yago/yago.cache\")"
   ]
  },
  {
   "cell_type": "code",
   "execution_count": null,
   "id": "efe6cda0-7e88-4d35-92a0-46e430ec00a3",
   "metadata": {},
   "outputs": [],
   "source": [
    "val yagoDatasetFiltered = Dataset.fromCache(\"../cache/jaur-yago/yago.cache\")"
   ]
  },
  {
   "cell_type": "markdown",
   "id": "7ebbcb44-86fe-4324-b570-c6d6526d7edf",
   "metadata": {},
   "source": [
    "# Merge"
   ]
  },
  {
   "cell_type": "code",
   "execution_count": null,
   "id": "77da8b08-dcaf-42d7-8a57-ebcb79c3d007",
   "metadata": {},
   "outputs": [],
   "source": [
    "val regionTotalSlice = Dataset.fromCache(\"../cache/jaur/jaur-regions-total.cache\")\n",
    "val regionBySexSlice = Dataset.fromCache(\"../cache/jaur/jaur-regions-bysex.cache\")\n",
    "val districtTotalSlice = Dataset.fromCache(\"../cache/jaur/jaur-districts-total.cache\")\n",
    "val districtBySexSlice = Dataset.fromCache(\"../cache/jaur/jaur-districts-bysex.cache\")"
   ]
  },
  {
   "cell_type": "code",
   "execution_count": null,
   "id": "conceptual-leonard",
   "metadata": {},
   "outputs": [],
   "source": [
    "val refAreaLinking = Dataset(\"../data/linking/yagoCZSOLinking.ttl\")"
   ]
  },
  {
   "cell_type": "code",
   "execution_count": null,
   "id": "dated-dictionary",
   "metadata": {},
   "outputs": [],
   "source": [
    "val regionTotalDataset = regionTotalSlice + yagoDatasetFiltered + refAreaLinking\n",
    "val regionBySexDataset = regionBySexSlice + yagoDatasetFiltered + refAreaLinking\n",
    "val districtTotalDataset = districtTotalSlice + yagoDatasetFiltered + refAreaLinking\n",
    "val districtBySexDataset = districtBySexSlice + yagoDatasetFiltered + refAreaLinking"
   ]
  },
  {
   "cell_type": "code",
   "execution_count": null,
   "id": "purple-contest",
   "metadata": {},
   "outputs": [],
   "source": [
    "val regionTotalIndex = regionTotalDataset.index().cache(\"../cache/jaur-yago/regionTotalIndex.cache\")\n",
    "val regionBySexIndex = regionBySexDataset.index().cache(\"../cache/jaur-yago/regionBySexIndex.cache\")\n",
    "val districtTotalIndex = districtTotalDataset.index().cache(\"../cache/jaur-yago/districtTotalIndex.cache\")\n",
    "val districtBySexIndex = districtBySexDataset.index().cache(\"../cache/jaur-yago/districtBySexIndex.cache\")"
   ]
  },
  {
   "cell_type": "code",
   "execution_count": null,
   "id": "smoking-marine",
   "metadata": {},
   "outputs": [],
   "source": [
    "val regionTotalIndex = Index.fromCache(\"../cache/jaur-yago/regionTotalIndex.cache\",false)\n",
    "val regionBySexIndex = Index.fromCache(\"../cache/jaur-yago/regionBySexIndex.cache\",false)\n",
    "val districtTotalIndex = Index.fromCache(\"../cache/jaur-yago/districtTotalIndex.cache\",false)\n",
    "val districtBySexIndex = Index.fromCache(\"../cache/jaur-yago/districtBySexIndex.cache\",false)"
   ]
  },
  {
   "cell_type": "markdown",
   "id": "2f148f7f-c400-4634-9aeb-81468f8531b3",
   "metadata": {},
   "source": [
    "# Mining"
   ]
  },
  {
   "cell_type": "code",
   "execution_count": null,
   "id": "micro-fields",
   "metadata": {},
   "outputs": [],
   "source": [
    "val uri = (value: String) => TripleItem.Uri(value)\n",
    "val qbDataSet = uri(\"http://purl.org/linked-data/cube#dataSet\")\n",
    "val czsoUri = \"http://data.czso.cz/ontology/\"\n",
    "val refArea = uri(\"http://data.czso.cz/ontology/refArea\")\n",
    "val constantsAtObject = RuleConstraint.ConstantsAtPosition.ConstantsPosition.Object\n",
    "val constantsOnlyAtObject = RuleConstraint.ConstantsAtPosition(constantsAtObject)"
   ]
  },
  {
   "cell_type": "code",
   "execution_count": null,
   "id": "serial-interaction",
   "metadata": {},
   "outputs": [],
   "source": [
    "val regionTotalSliceUri = uri(\"jaur-regions-total\")\n",
    "val regionBySexSliceUri = uri(\"jaur-regions-bysex\")\n",
    "val oneOfRegionCubes = OneOf(regionTotalSliceUri,regionBySexSliceUri)\n",
    "val districtTotalSliceUri = uri(\"jaur-districts-total\")\n",
    "val districtBySexSliceUri = uri(\"jaur-districts-bysex\")\n",
    "val oneOfDistrictCubes = OneOf(districtTotalSliceUri,districtBySexSliceUri)"
   ]
  },
  {
   "cell_type": "markdown",
   "id": "4e6613f4-c95d-4aef-8124-a49311c343e2",
   "metadata": {},
   "source": [
    "## Regions Total"
   ]
  },
  {
   "cell_type": "code",
   "execution_count": null,
   "id": "congressional-racing",
   "metadata": {},
   "outputs": [],
   "source": [
    "val regionTotalPattern = (\n",
    "    AtomPattern(subject = 'b', graph = uri(\"yago\")) &:\n",
    "    AtomPattern(subject = 'a', predicate = refArea, `object` = 'b', graph = uri(\"czso\")) &:\n",
    "    AtomPattern(subject = 'a', predicate = qbDataSet, `object` = regionTotalSliceUri, graph = uri(\"czso\"))\n",
    "    =>: \n",
    "    AtomPattern(subject = 'a', predicate = oneOfAllMeasures, graph = uri(\"czso\"))\n",
    ")"
   ]
  },
  {
   "cell_type": "code",
   "execution_count": null,
   "id": "c2f26791-4104-4a22-acb9-0844c8664780",
   "metadata": {},
   "outputs": [],
   "source": [
    "val minSupport = (d: Dataset) => {\n",
    "    val n = d.filter(q => q.triple.predicate == qbDataSet).size\n",
    "    val nArea = d.filter(q => q.triple.predicate == refArea).triples.map(t => t.`object`).toSet.size\n",
    "    (n / nArea) + 1\n",
    "}"
   ]
  },
  {
   "cell_type": "code",
   "execution_count": null,
   "id": "334f03b9-567b-47d0-850c-652fc32aa8f1",
   "metadata": {},
   "outputs": [],
   "source": [
    "val regionTotalTask = Amie()\n",
    "    .addThreshold(Threshold.MinSupport(minSupport(regionTotalSlice)))\n",
    "    .addThreshold(Threshold.MaxRuleLength(6))\n",
    "    .addThreshold(Threshold.MinHeadSize(0))\n",
    "    .addThreshold(Threshold.Timeout(1))\n",
    "    .addConstraint(constantsOnlyAtObject)\n",
    "    .addPattern(regionTotalPattern)"
   ]
  },
  {
   "cell_type": "code",
   "execution_count": null,
   "id": "48842c79-e5bd-459b-a78a-4d5638e8a779",
   "metadata": {},
   "outputs": [],
   "source": [
    "val startTimeMillis = System.currentTimeMillis()\n",
    "val regionTotalTaskRuleset = regionTotalIndex.mine(regionTotalTask)\n",
    "println(\"rules: \"+regionTotalTaskRuleset.size)\n",
    "println(\"duration: \" + (System.currentTimeMillis() - startTimeMillis) / 1000 + \"s\")"
   ]
  },
  {
   "cell_type": "code",
   "execution_count": null,
   "id": "a0331db5-324e-4991-82a5-a9262f308093",
   "metadata": {},
   "outputs": [],
   "source": [
    "regionTotalTaskRuleset.export(\"../rulesets/jaur-yago/regionTotal.txt\")"
   ]
  },
  {
   "cell_type": "code",
   "execution_count": null,
   "id": "d2f65b29-1053-487d-bda9-8a85a80d49b1",
   "metadata": {},
   "outputs": [],
   "source": [
    "val filterRuleset = (r: Ruleset) => r.filterResolved(rr => {rr.body.count(i => i.predicate == refArea) == 1 && rr.body.count(i => measures.contains(i.predicate)) == 0})\n",
    "\n",
    "\n",
    "val regionTotalTaskRulesetFiltered = filterRuleset(regionTotalTaskRuleset)\n",
    ".cache\n",
    "regionTotalTaskRulesetFiltered.export(\"../rulesets/jaur-yago/regionTotalFiltered.txt\")\n",
    "println(\"rules: \" + regionTotalTaskRulesetFiltered.size)"
   ]
  },
  {
   "cell_type": "code",
   "execution_count": null,
   "id": "c7e3b416-baba-409a-a11a-688144a01714",
   "metadata": {},
   "outputs": [],
   "source": [
    "val plotHistogram = (seq: Seq[Double], color: String) => {\n",
    "    val data = Seq(plotly.Histogram(seq,marker = Marker(color = Color.StringColor(color),opacity = 0.6)))\n",
    "    plot(data)\n",
    "}\n",
    "\n",
    "val measureSequence = (r: Ruleset, m: TypedKeyMap.Key[Measure]) => r\n",
    ".resolvedRules\n",
    ".map(r => r.measures.get(m).get)\n",
    ".toSeq\n",
    "\n",
    "val supportSeq = measureSequence(regionTotalTaskRulesetFiltered, Measure.Support)\n",
    ".map(m => m.asInstanceOf[Measure.Support].value.toDouble)\n",
    "plotHistogram(supportSeq, \"green\")"
   ]
  },
  {
   "cell_type": "code",
   "execution_count": null,
   "id": "7dfa24cd-e630-48d9-b6fa-8f71d56f9fd1",
   "metadata": {},
   "outputs": [],
   "source": [
    "val computeConfidence = (r: Ruleset, minConf: Double) => r\n",
    ".computePcaConfidence(minConf)\n",
    ".sortBy(Measure.PcaConfidence, Measure.Support)\n",
    "\n",
    "val regionTotalTaskRulesetConfComputed = computeConfidence(regionTotalTaskRulesetFiltered,0.0)\n",
    ".filter(r => r.measures.get(Measure.PcaConfidence).get.value < 1)\n",
    ".cache\n",
    "\n",
    "regionTotalTaskRulesetConfComputed.export(\"../rulesets/jaur-yago/regionTotalConfComputed.txt\")\n",
    "\n",
    "val confSeq = measureSequence(regionTotalTaskRulesetConfComputed, Measure.PcaConfidence)\n",
    ".map(m => m.asInstanceOf[Measure.PcaConfidence].value)\n",
    "plotHistogram(confSeq, \"green\")"
   ]
  },
  {
   "cell_type": "code",
   "execution_count": null,
   "id": "54653e7c-346b-465a-8cff-ce2d391b4c5d",
   "metadata": {},
   "outputs": [],
   "source": [
    "val computeLift = (r: Ruleset, minLift: Double) => r\n",
    ".computeLift(minLift)\n",
    ".sortBy(Measure.Lift, Measure.Support)\n",
    "\n",
    "val regionTotalTaskRulesetLiftComputed = computeLift(regionTotalTaskRulesetConfComputed,0.0).cache\n",
    "regionTotalTaskRulesetLiftComputed.export(\"../rulesets/jaur-yago/regionTotalLiftComputed.txt\")\n",
    "\n",
    "val liftSeq = measureSequence(regionTotalTaskRulesetLiftComputed, Measure.Lift)\n",
    ".map(m => m.asInstanceOf[Measure.Lift].value)\n",
    "plotHistogram(liftSeq, \"green\")"
   ]
  },
  {
   "cell_type": "code",
   "execution_count": null,
   "id": "8a48d764-f334-41b0-b31d-53077a93ef61",
   "metadata": {},
   "outputs": [],
   "source": [
    "val regionTotalTaskRulesetMinLift = regionTotalTaskRulesetLiftComputed\n",
    ".filter(r => r.measures.get(Measure.Lift).get.value >= 1.0)\n",
    ".filter(r => r.measures.get(Measure.Confidence).get.value >= 0.5)\n",
    ".cache\n",
    "\n",
    "println(\"rules: \" + regionTotalTaskRulesetMinLift.size)\n",
    "regionTotalTaskRulesetMinLift.export(\"../rulesets/jaur-yago/regionTotalMinLift.txt\")"
   ]
  },
  {
   "cell_type": "code",
   "execution_count": null,
   "id": "signal-shooting",
   "metadata": {},
   "outputs": [],
   "source": [
    "val filterByLength = (r: ResolvedRule, length: Int) => r.body.size == length - 1\n",
    "\n",
    "val groupRulesByLength = (r: Ruleset, minLength: Int, maxLength: Int) => {\n",
    "    var lengthMap: ListMap[Int, Int] = ListMap()\n",
    "    breakable {\n",
    "        var counter = minLength\n",
    "        while (counter <= maxLength) {\n",
    "            val size = r.filterResolved(r => filterByLength(r,counter)).size\n",
    "            lengthMap = lengthMap + (counter -> size)\n",
    "            counter = counter + 1\n",
    "        }\n",
    "    }\n",
    "    ListMap(lengthMap.toSeq.sortWith(_._2 > _._2):_*)\n",
    "}\n",
    "\n",
    "val plotHorizontalBar = (map: ListMap[Int, Int], color: String) => {\n",
    "    val xValue = map.values.toSeq ; val yValue = map.keys.toSeq\n",
    "    val data = Seq(Bar(xValue, yValue, orientation = Orientation.Horizontal, \n",
    "                       marker = Marker(color = Color.StringColor(color),opacity = 0.6)))\n",
    "    val annotations = xValue.zip(yValue).map {\n",
    "        case (x, y) =>\n",
    "            Annotation(\n",
    "              x = x, y = y, text = x.toString,\n",
    "              xanchor = Anchor.Center, yanchor = Anchor.Bottom, showarrow = false\n",
    "            )\n",
    "    }\n",
    "    plot(data,Layout(annotations = annotations))\n",
    "}\n",
    "\n",
    "plotHorizontalBar(groupRulesByLength(regionTotalTaskRulesetMinLift, 4, 6), \"green\")"
   ]
  },
  {
   "cell_type": "code",
   "execution_count": null,
   "id": "85c42fe7-9040-4036-9c72-15f9b4bc68a8",
   "metadata": {},
   "outputs": [],
   "source": [
    "val makeClusters = (r: Ruleset, minNeighbours: Int, minSimilarity: Double) => r.makeClusters {\n",
    "    implicit val ruleSimilarityCounting: SimilarityCounting[Rule.Simple] = SimilarityCounting.AtomsSimilarityCounting\n",
    "    DbScan(minNeighbours = minNeighbours, minSimilarity = minSimilarity)\n",
    "}.cache\n",
    "\n",
    "val regionTotalTaskRulesetClustered = makeClusters(regionTotalTaskRulesetMinLift, 3, 0.85)\n",
    "regionTotalTaskRulesetClustered.export(\"../rulesets/jaur-yago/regionTotalClustered.txt\")"
   ]
  },
  {
   "cell_type": "code",
   "execution_count": null,
   "id": "short-feeling",
   "metadata": {},
   "outputs": [],
   "source": [
    "val filterByCluster = (r: ResolvedRule, cluster: Int) => r.measures.get(Measure.Cluster).get == Measure.Cluster(cluster)\n",
    "\n",
    "val groupRulesByCluster = (r: Ruleset) => {\n",
    "    var clustersMap: ListMap[Int, Int] = ListMap()\n",
    "    breakable {\n",
    "        var counter = 0\n",
    "        while (true) {\n",
    "            val size = r.filterResolved(r => filterByCluster(r,counter)).size\n",
    "            if (size > 0) {clustersMap = clustersMap + (counter -> size) ; counter = counter + 1}\n",
    "            else break;\n",
    "        }\n",
    "    }\n",
    "    ListMap(clustersMap.toSeq.sortWith(_._2 > _._2):_*)\n",
    "}\n",
    "\n",
    "plotHorizontalBar(groupRulesByCluster(regionTotalTaskRulesetClustered), \"green\")"
   ]
  },
  {
   "cell_type": "code",
   "execution_count": null,
   "id": "d4acf9c6-9b34-4e11-b5d8-3de86de9acb1",
   "metadata": {},
   "outputs": [],
   "source": [
    "val getClusters = (r: Ruleset) => {\n",
    "    \n",
    "    var array = Array[Int]()\n",
    "    \n",
    "    breakable {\n",
    "        var counter = 0\n",
    "        while (true) {\n",
    "            val rules = r.filterResolved(r => filterByCluster(r,counter))\n",
    "            if (rules.size > 0) {\n",
    "                array = counter +: array ; counter = counter + 1 \n",
    "            }\n",
    "            else break;\n",
    "        }\n",
    "    }\n",
    "    \n",
    "    array\n",
    "}\n",
    "\n",
    "val pickOneForCluster = (r: Ruleset) => {\n",
    "    \n",
    "    var ruleset = r.slice(0,0)\n",
    "    val array = getClusters(r)\n",
    "    \n",
    "    array.foreach(i => {\n",
    "        val rules = r.filterResolved(r => filterByCluster(r,i))\n",
    "        ruleset = ruleset + rules.take(1)\n",
    "    })\n",
    "    \n",
    "    ruleset\n",
    "}"
   ]
  },
  {
   "cell_type": "code",
   "execution_count": null,
   "id": "5319b9fb-bf90-4907-aaee-7b9fa92bff45",
   "metadata": {},
   "outputs": [],
   "source": [
    "val regionTotalTaskRulesetOneForCluster = pickOneForCluster(regionTotalTaskRulesetClustered)\n",
    "regionTotalTaskRulesetOneForCluster.export(\"../rulesets/jaur-yago/regionTotalTaskRulesetOneForCluster.txt\")"
   ]
  },
  {
   "cell_type": "markdown",
   "id": "51fda4b0-7928-48f1-ab12-a11eb3486118",
   "metadata": {},
   "source": [
    "## Regions By Sex"
   ]
  },
  {
   "cell_type": "code",
   "execution_count": null,
   "id": "cc29af2b-3fcb-4910-9b73-cd5513675915",
   "metadata": {},
   "outputs": [],
   "source": [
    "val regionBySexPattern = (\n",
    "    AtomPattern(subject = 'b', graph = uri(\"yago\")) &:\n",
    "    AtomPattern(subject = 'a', predicate = refArea, `object` = 'b', graph = uri(\"czso\")) &:\n",
    "    AtomPattern(subject = 'a', predicate = qbDataSet, `object` = regionBySexSliceUri, graph = uri(\"czso\"))\n",
    "    =>: \n",
    "    AtomPattern(subject = 'a',predicate = oneOfBySexMeasures, graph = uri(\"czso\"))\n",
    ")"
   ]
  },
  {
   "cell_type": "code",
   "execution_count": null,
   "id": "global-calgary",
   "metadata": {},
   "outputs": [],
   "source": [
    "val regionBySexTask = Amie()\n",
    "    .addThreshold(Threshold.MinSupport(minSupport(regionBySexSlice)))\n",
    "    .addThreshold(Threshold.MaxRuleLength(6))\n",
    "    .addThreshold(Threshold.MinHeadSize(1))\n",
    "    .addConstraint(constantsOnlyAtObject)\n",
    "    .addPattern(regionBySexPattern)"
   ]
  },
  {
   "cell_type": "code",
   "execution_count": null,
   "id": "final-suffering",
   "metadata": {},
   "outputs": [],
   "source": [
    "val startTimeMillis = System.currentTimeMillis()\n",
    "val regionBySexTaskRuleset = regionBySexIndex.mine(regionBySexTask)\n",
    "println(\"rules: \"+regionBySexTaskRuleset.size)\n",
    "println(\"duration: \" + (System.currentTimeMillis() - startTimeMillis) / 1000 + \"s\")"
   ]
  },
  {
   "cell_type": "code",
   "execution_count": null,
   "id": "add91301-7ccf-4008-9a0f-b3312f9a3e6d",
   "metadata": {},
   "outputs": [],
   "source": [
    "regionBySexTaskRuleset.export(\"../rulesets/jaur-yago/RegionBySex.txt\")"
   ]
  },
  {
   "cell_type": "code",
   "execution_count": null,
   "id": "6abd6b52-3f88-4eb5-8045-1ea2fedf5c34",
   "metadata": {},
   "outputs": [],
   "source": [
    "val regionBySexTaskRulesetFiltered = filterRuleset(regionBySexTaskRuleset).cache\n",
    "regionBySexTaskRulesetFiltered.export(\"../rulesets/jaur-yago/RegionBySexFiltered.txt\")\n",
    "println(\"rules: \" + regionBySexTaskRulesetFiltered.size)"
   ]
  },
  {
   "cell_type": "code",
   "execution_count": null,
   "id": "3426ae89-65f0-4c13-8c3e-b4ce7cb06e98",
   "metadata": {},
   "outputs": [],
   "source": [
    "val supportSeq = measureSequence(regionBySexTaskRulesetFiltered, Measure.Support)\n",
    ".map(m => m.asInstanceOf[Measure.Support].value.toDouble)\n",
    "plotHistogram(supportSeq, \"grey\")"
   ]
  },
  {
   "cell_type": "code",
   "execution_count": null,
   "id": "1686db80-ec0e-4bee-af5d-095161eb73e3",
   "metadata": {},
   "outputs": [],
   "source": [
    "val regionBySexTaskRulesetConfComputed = computeConfidence(regionBySexTaskRulesetFiltered,0.0).cache\n",
    "regionBySexTaskRulesetConfComputed.export(\"../rulesets/jaur-yago/RegionBySexConfComputed.txt\")\n",
    "\n",
    "val confSeq = measureSequence(regionBySexTaskRulesetConfComputed, Measure.PcaConfidence)\n",
    ".map(m => m.asInstanceOf[Measure.PcaConfidence].value)\n",
    "plotHistogram(confSeq, \"grey\")"
   ]
  },
  {
   "cell_type": "code",
   "execution_count": null,
   "id": "ecd852d9-6d78-4dc4-b8bf-6eb8e9bd7e02",
   "metadata": {},
   "outputs": [],
   "source": [
    "val regionBySexTaskRulesetLiftComputed = computeLift(regionBySexTaskRulesetFiltered,0.0).cache\n",
    "regionBySexTaskRulesetLiftComputed.export(\"../rulesets/jaur-yago/RegionBySexLiftComputed.txt\")\n",
    "\n",
    "val liftSeq = measureSequence(regionBySexTaskRulesetLiftComputed, Measure.Lift)\n",
    ".map(m => m.asInstanceOf[Measure.Lift].value)\n",
    "plotHistogram(liftSeq, \"grey\")"
   ]
  },
  {
   "cell_type": "code",
   "execution_count": null,
   "id": "adb452d9-b2f3-4664-8ec7-b50463757334",
   "metadata": {},
   "outputs": [],
   "source": [
    "val regionBySexTaskRulesetMinLift = regionBySexTaskRulesetLiftComputed\n",
    ".filter(r => r.measures.get(Measure.Lift).get.value >= 1.0)\n",
    ".filter(r => r.measures.get(Measure.Confidence).get.value >= 0.5)\n",
    "//.pruned(false, false)\n",
    ".cache\n",
    "\n",
    "regionBySexTaskRulesetMinLift.export(\"../rulesets/jaur-yago/regionBySexMinLift.txt\")\n",
    "println(\"rules: \" + regionBySexTaskRulesetMinLift.size)"
   ]
  },
  {
   "cell_type": "code",
   "execution_count": null,
   "id": "6ab29fe2-6982-4ef6-a99f-0ff6e7d99e43",
   "metadata": {},
   "outputs": [],
   "source": [
    "plotHorizontalBar(groupRulesByLength(regionBySexTaskRulesetMinLift, 4, 6), \"grey\")"
   ]
  },
  {
   "cell_type": "code",
   "execution_count": null,
   "id": "30255b82-62f5-4dc6-9f00-196147b296dc",
   "metadata": {},
   "outputs": [],
   "source": [
    "val regionBySexTaskRulesetClustered = makeClusters(regionBySexTaskRulesetMinLift, 3, 0.85)\n",
    "regionBySexTaskRulesetClustered.export(\"../rulesets/jaur-yago/regionBySexTaskRulesetClustered.txt\")"
   ]
  },
  {
   "cell_type": "code",
   "execution_count": null,
   "id": "59a3e195-add9-4f3b-abbd-f83f48e38b6b",
   "metadata": {},
   "outputs": [],
   "source": [
    "val regionBySexTaskRulesetOneForCluster = pickOneForCluster(regionBySexTaskRulesetClustered)\n",
    "regionBySexTaskRulesetOneForCluster.export(\"../rulesets/jaur-yago/regionBySexTaskRulesetOneForCluster.txt\")"
   ]
  },
  {
   "cell_type": "markdown",
   "id": "b9ca269c-c432-4f46-8148-264c010a9d23",
   "metadata": {},
   "source": [
    "## Districts Total"
   ]
  },
  {
   "cell_type": "code",
   "execution_count": null,
   "id": "952c48a7-1faa-4676-9cb1-742ab2c89397",
   "metadata": {},
   "outputs": [],
   "source": [
    "val districtTotalPattern = (\n",
    "    AtomPattern(subject = 'b', graph = uri(\"yago\")) &:\n",
    "    AtomPattern(subject = 'a', predicate = refArea, `object` = 'b', graph = uri(\"czso\")) &:\n",
    "    AtomPattern(subject = 'a', predicate = qbDataSet, `object` = districtTotalSliceUri, graph = uri(\"czso\"))\n",
    "    =>: \n",
    "    AtomPattern(subject = 'a', predicate = oneOfAllMeasures, graph = uri(\"czso\"))\n",
    ")"
   ]
  },
  {
   "cell_type": "code",
   "execution_count": null,
   "id": "acf7b857-d370-4ac6-8f49-0d74f8fa8c13",
   "metadata": {},
   "outputs": [],
   "source": [
    "val districtTotalTask = Amie()\n",
    "    .addThreshold(Threshold.MinSupport(minSupport(districtTotalSlice)*3))\n",
    "    .addThreshold(Threshold.MaxRuleLength(6))\n",
    "    .addConstraint(constantsOnlyAtObject)\n",
    "    .addPattern(districtTotalPattern)"
   ]
  },
  {
   "cell_type": "code",
   "execution_count": null,
   "id": "d3cf1e9b-59f1-441c-a659-e58e1fc6de02",
   "metadata": {},
   "outputs": [],
   "source": [
    "val startTimeMillis = System.currentTimeMillis()\n",
    "val districtTotalTaskRuleset = districtTotalIndex.mine(districtTotalTask)\n",
    "println(\"rules: \"+districtTotalTaskRuleset.size)\n",
    "println(\"duration: \" + (System.currentTimeMillis() - startTimeMillis) / 1000 + \"s\")"
   ]
  },
  {
   "cell_type": "code",
   "execution_count": null,
   "id": "2413b601-7535-4114-8872-e390c8892771",
   "metadata": {},
   "outputs": [],
   "source": [
    "districtTotalTaskRuleset.export(\"../rulesets/jaur-yago/districtTotal.txt\")"
   ]
  },
  {
   "cell_type": "code",
   "execution_count": null,
   "id": "0d83bc72-20ae-4807-a0f7-0acfdf4ca2b9",
   "metadata": {},
   "outputs": [],
   "source": [
    "val districtTotalTaskRulesetFiltered = filterRuleset(districtTotalTaskRuleset).cache\n",
    "districtTotalTaskRulesetFiltered.export(\"../rulesets/jaur-yago/districtTotalFiltered.txt\")\n",
    "println(\"rules: \" + districtTotalTaskRulesetFiltered.size)"
   ]
  },
  {
   "cell_type": "code",
   "execution_count": null,
   "id": "10dcb2fc-d497-43f8-93db-781a338b5192",
   "metadata": {},
   "outputs": [],
   "source": [
    "val supportSeq = measureSequence(districtTotalTaskRulesetFiltered, Measure.Support)\n",
    ".map(m => m.asInstanceOf[Measure.Support].value.toDouble)\n",
    "plotHistogram(supportSeq, \"red\")"
   ]
  },
  {
   "cell_type": "code",
   "execution_count": null,
   "id": "d4eefd07-8aff-4758-8503-ecf0476fdaf2",
   "metadata": {},
   "outputs": [],
   "source": [
    "val districtTotalTaskRulesetConfComputed = computeConfidence(districtTotalTaskRulesetFiltered,0.0).cache\n",
    "districtTotalTaskRulesetConfComputed.export(\"../rulesets/jaur-yago/districtTotalConfComputed.txt\")\n",
    "val confSeq = measureSequence(districtTotalTaskRulesetConfComputed, Measure.PcaConfidence)\n",
    ".map(m => m.asInstanceOf[Measure.PcaConfidence].value)\n",
    ".filter(c => c <= 1)\n",
    "plotHistogram(confSeq, \"red\")"
   ]
  },
  {
   "cell_type": "code",
   "execution_count": null,
   "id": "38be450f-30c9-4841-ab37-78d3422f3558",
   "metadata": {},
   "outputs": [],
   "source": [
    "val districtTotalTaskRulesetLiftComputed = computeLift(districtTotalTaskRulesetConfComputed,0.0).cache\n",
    "districtTotalTaskRulesetLiftComputed.export(\"../rulesets/jaur-yago/districtTotalLiftComputed.txt\")\n",
    "\n",
    "val liftSeq = measureSequence(districtTotalTaskRulesetLiftComputed, Measure.Lift)\n",
    ".map(m => m.asInstanceOf[Measure.Lift].value)\n",
    "plotHistogram(liftSeq, \"red\")"
   ]
  },
  {
   "cell_type": "code",
   "execution_count": null,
   "id": "ad1b8599-70a2-4085-918b-9e148ea7fb1a",
   "metadata": {},
   "outputs": [],
   "source": [
    "val districtTotalTaskRulesetMinLift = districtTotalTaskRulesetLiftComputed\n",
    ".filter(r => r.measures.get(Measure.Lift).get.value > 1.0)\n",
    ".filter(r => r.measures.get(Measure.PcaConfidence).get.value > 0.6)\n",
    ".cache\n",
    "\n",
    "districtTotalTaskRulesetMinLift.export(\"../rulesets/jaur-yago/districtTotalMinLift.txt\")\n",
    "println(\"rules: \" + districtTotalTaskRulesetMinLift.size)"
   ]
  },
  {
   "cell_type": "code",
   "execution_count": null,
   "id": "cb62d1e1-fb4d-4d86-8743-b4a0050094cd",
   "metadata": {},
   "outputs": [],
   "source": [
    "val districtTotalTaskRulesetClustered = makeClusters(districtTotalTaskRulesetMinLift, 3, 0.85)\n",
    "districtTotalTaskRulesetClustered.export(\"../rulesets/jaur-yago/districtTotalClustered.txt\")\n",
    "\n",
    "plotHorizontalBar(groupRulesByCluster(districtTotalTaskRulesetClustered), \"red\")"
   ]
  },
  {
   "cell_type": "markdown",
   "id": "fb7c620a-34b3-45dd-a849-d4e750d833bf",
   "metadata": {},
   "source": [
    "## Districts By Sex"
   ]
  },
  {
   "cell_type": "code",
   "execution_count": null,
   "id": "exterior-northwest",
   "metadata": {},
   "outputs": [],
   "source": [
    "val districtBySexPattern = (\n",
    "    AtomPattern(subject = 'b', graph = uri(\"yago\")) &:\n",
    "    AtomPattern(subject = 'a', predicate = refArea, `object` = 'b', graph = uri(\"czso\")) &:\n",
    "    AtomPattern(subject = 'a', predicate = qbDataSet, `object` = districtBySexSliceUri, graph = uri(\"czso\"))\n",
    "    =>: \n",
    "    AtomPattern(subject = 'a', predicate = oneOfBySexMeasures, graph = uri(\"czso\"))\n",
    ")"
   ]
  },
  {
   "cell_type": "code",
   "execution_count": null,
   "id": "korean-equilibrium",
   "metadata": {},
   "outputs": [],
   "source": [
    "val districtBySexTask = Amie()\n",
    "    .addThreshold(Threshold.MinSupport(minSupport(districtBySexSlice)*3))\n",
    "    .addThreshold(Threshold.MaxRuleLength(6))\n",
    "    .addConstraint(constantsOnlyAtObject)\n",
    "    .addPattern(districtBySexPattern)"
   ]
  },
  {
   "cell_type": "code",
   "execution_count": null,
   "id": "52b1a811-5e1f-4ae7-9817-c00e31b498ac",
   "metadata": {},
   "outputs": [],
   "source": [
    "val startTimeMillis = System.currentTimeMillis()\n",
    "val districtBySexTaskRuleset = districtBySexIndex.mine(districtBySexTask)\n",
    "println(\"rules: \"+districtBySexTaskRuleset.size)\n",
    "println(\"duration: \" + (System.currentTimeMillis() - startTimeMillis) / 1000 + \"s\")"
   ]
  },
  {
   "cell_type": "code",
   "execution_count": null,
   "id": "e80e3daf-a60a-4687-8f99-8a4ea72342a6",
   "metadata": {},
   "outputs": [],
   "source": [
    "districtBySexTaskRuleset.export(\"../rulesets/jaur-yago/districtBySex.txt\")"
   ]
  },
  {
   "cell_type": "code",
   "execution_count": null,
   "id": "5716e812-35bf-4705-9fab-4e8f56dc6d4c",
   "metadata": {},
   "outputs": [],
   "source": [
    "val districtBySexTaskRulesetFiltered = filterRuleset(districtBySexTaskRuleset).cache\n",
    "districtBySexTaskRulesetFiltered.export(\"../rulesets/jaur-yago/districtBySexFiltered.txt\")\n",
    "println(\"rules: \" + districtBySexTaskRulesetFiltered.size)"
   ]
  },
  {
   "cell_type": "code",
   "execution_count": null,
   "id": "19ec1750-8002-481f-b1ad-deca47f08ced",
   "metadata": {},
   "outputs": [],
   "source": [
    "val supportSeq = measureSequence(districtBySexTaskRulesetFiltered, Measure.Support)\n",
    ".map(m => m.asInstanceOf[Measure.Support].value.toDouble)\n",
    "plotHistogram(supportSeq, \"cls\")"
   ]
  },
  {
   "cell_type": "code",
   "execution_count": null,
   "id": "5d4346ca-c9ae-47c0-b420-494c304702ee",
   "metadata": {},
   "outputs": [],
   "source": [
    "val districtBySexTaskRulesetConfComputed = computeConfidence(districtBySexTaskRulesetFiltered,0.0).cache\n",
    "\n",
    "districtBySexTaskRulesetConfComputed.export(\"../rulesets/jaur-yago/districtBySexConfComputed.txt\")\n",
    "\n",
    "val confSeq = measureSequence(districtBySexTaskRulesetConfComputed, Measure.PcaConfidence)\n",
    ".map(m => m.asInstanceOf[Measure.PcaConfidence].value)\n",
    ".filter(c => c <= 1)\n",
    "plotHistogram(confSeq, \"cls\")"
   ]
  },
  {
   "cell_type": "code",
   "execution_count": null,
   "id": "32e4f468-6462-4175-b711-470c27260be9",
   "metadata": {},
   "outputs": [],
   "source": [
    "val districtBySexTaskRulesetLiftComputed = computeLift(districtBySexTaskRulesetConfComputed,0.0).cache\n",
    "districtBySexTaskRulesetLiftComputed.export(\"../rulesets/jaur-yago/districtBySexLiftComputed.txt\")\n",
    "\n",
    "val liftSeq = measureSequence(districtBySexTaskRulesetLiftComputed, Measure.Lift)\n",
    ".map(m => m.asInstanceOf[Measure.Lift].value)\n",
    "plotHistogram(liftSeq, \"cls\")"
   ]
  },
  {
   "cell_type": "code",
   "execution_count": null,
   "id": "15df581c-40b8-4e64-bb16-1f4e144c91a2",
   "metadata": {},
   "outputs": [],
   "source": [
    "val districtBySexTaskRulesetMinLift = districtBySexTaskRulesetLiftComputed\n",
    ".filter(r => r.measures.get(Measure.Lift).get.value >= 1.0)\n",
    ".filter(r => r.measures.get(Measure.PcaConfidence).get.value >= 0.55)\n",
    ".cache\n",
    "\n",
    "districtBySexTaskRulesetMinLift.export(\"../rulesets/jaur-yago/districtBySexMinLift.txt\")\n",
    "println(\"rules: \" + districtBySexTaskRulesetMinLift.size)"
   ]
  },
  {
   "cell_type": "code",
   "execution_count": null,
   "id": "a665b5fd-b57c-4da3-9cf3-8cb9f2f5f6f8",
   "metadata": {},
   "outputs": [],
   "source": [
    "val districtBySexTaskRulesetClustered = makeClusters(districtBySexTaskRulesetMinLift, 3, 0.85).cache\n",
    "districtBySexTaskRulesetClustered.export(\"../rulesets/jaur-yago/districtBySexClustered.txt\")\n",
    "\n",
    "plotHorizontalBar(groupRulesByCluster(districtBySexTaskRulesetClustered), \"cls\")"
   ]
  }
 ],
 "metadata": {
  "kernelspec": {
   "display_name": "Scala",
   "language": "scala",
   "name": "scala"
  },
  "language_info": {
   "codemirror_mode": "text/x-scala",
   "file_extension": ".sc",
   "mimetype": "text/x-scala",
   "name": "scala",
   "nbconvert_exporter": "script",
   "version": "2.12.8"
  }
 },
 "nbformat": 4,
 "nbformat_minor": 5
}
