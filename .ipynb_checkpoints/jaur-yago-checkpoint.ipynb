{
 "cells": [
  {
   "cell_type": "code",
   "execution_count": null,
   "metadata": {},
   "outputs": [],
   "source": [
    "kernel.silent(true)"
   ]
  },
  {
   "cell_type": "code",
   "execution_count": 81,
   "metadata": {},
   "outputs": [
    {
     "data": {
      "text/html": [
       "<div class=\"jp-RenderedText\">\n",
       "<pre><code></code></pre>\n",
       "</div>"
      ],
      "text/plain": []
     },
     "metadata": {},
     "output_type": "display_data"
    }
   ],
   "source": [
    "var intervalsCount = 5\n",
    "var minSupport = 50\n",
    "var minConfidence = 0.65"
   ]
  },
  {
   "cell_type": "code",
   "execution_count": 3,
   "metadata": {},
   "outputs": [],
   "source": [
    "import coursierapi.MavenRepository\n",
    "interp.repositories() ++= Seq(MavenRepository.of(\"https://jitpack.io\"))"
   ]
  },
  {
   "cell_type": "code",
   "execution_count": 4,
   "metadata": {},
   "outputs": [],
   "source": [
    "import $ivy.`com.github.propi:rdfrules:1.5.0`\n",
    "import collection._\n",
    "import org.apache.jena.riot.Lang\n",
    "\n",
    "import com.github.propi.rdfrules.data._\n",
    "import com.github.propi.rdfrules.algorithm.amie._\n",
    "import com.github.propi.rdfrules.algorithm.dbscan._\n",
    "import com.github.propi.rdfrules.utils._\n",
    "import com.github.propi.rdfrules.index._\n",
    "import com.github.propi.rdfrules.rule._\n",
    "import com.github.propi.rdfrules.ruleset._"
   ]
  },
  {
   "cell_type": "markdown",
   "metadata": {},
   "source": [
    "# Job Applicants and Unemployment Rate + YAGO\n",
    "\n",
    "Budu hledat pravidla nad jednou kostkou, pro kterou jsem si pro hodnoty její dimenze oblasti našel data z YAGO znalostního grafu. Datová kostka má IRI:\n",
    "http://data.czso.cz/resource/dataset/job-applicants-and-unemployment-rate\n",
    "\n",
    "V popisu budu používat prefix czso: http://data.czso.cz/ontology/\n",
    "\n",
    "Má tyto dimenze:\n",
    "* czso:refArea\n",
    "    * 13 krajů (bez Prahy)\n",
    "    * 76 okresů (to vychází bez Prahy)\n",
    "* czso:refPeriod\n",
    "    * roky 2005 - 2013\n",
    "* czso:sex\n",
    "    * http://purl.org/linked-data/sdmx/2009/code#sex-F -> ženy\n",
    "    * http://purl.org/linked-data/sdmx/2009/code#sex-M -> muži\n",
    "    * http://purl.org/linked-data/sdmx/2009/code#sex-T -> ženy + muži\n",
    "\n",
    "A tyto míry:\n",
    "* czso:neumisteniUchazeciOZamestnani\n",
    "* czso:dosazitelniNeumisteniUchazeciOZamestnani\n",
    "* czso:podilNezamestnanych\n",
    "* czso:pocetVolnychMist\n",
    "\n",
    "Každé pozorování má více měr a míry czso:pocetVolnychMist a czso:neumisteniUchazeciOZamestnani jsou uvedeny jenom u pozorování pro obě pohlaví celkem. Příklady pozorování:\n",
    "\n",
    "```turtle\n",
    "<http://data.czso.cz/resource/observation/job-applicants-and-unemployment-rate/CZ020/2007-12-31/F>\n",
    "a qb:Observation ;\n",
    "\t\tczso:refArea <http://ruian.linked.opendata.cz/resource/vusc/27> ;\n",
    "\t\tczso:refPeriod <http://reference.data.gov.uk/id/gregorian-day/2007-12-31> ;\n",
    "\t\tczso:sex sdmx-code:sex-F ;\n",
    "\t\tczso:dosazitelniNeumisteniUchazeciOZamestnani 15758.0 ;\n",
    "\t\tczso:podilNezamestnanych 3.6 ;\n",
    "\t\tqb:dataSet <http://data.czso.cz/resource/dataset/job-applicants-and-unemployment-rate> .\n",
    "\t\n",
    "<http://data.czso.cz/resource/observation/job-applicants-and-unemployment-rate/CZ020/2013-12-31/T>\n",
    "a qb:Observation ;\n",
    "\t\tczso:refArea <http://ruian.linked.opendata.cz/resource/vusc/27> ;\n",
    "\t\tczso:refPeriod <http://reference.data.gov.uk/id/gregorian-day/2013-12-31> ;\n",
    "\t\tczso:sex sdmx-code:sex-T ;\n",
    "\t\tczso:neumisteniUchazeciOZamestnani 61681.0 ;\n",
    "\t\tczso:dosazitelniNeumisteniUchazeciOZamestnani 60772.0 ;\n",
    "\t\tczso:podilNezamestnanych 6.9 ;\n",
    "\t\tczso:pocetVolnychMist 4040.0 ;\n",
    "\t\tqb:dataSet <http://data.czso.cz/resource/dataset/job-applicants-and-unemployment-rate> .\n",
    "```\n",
    "\n",
    "Kostku bylo potřeba nařezat do více datasetů, protože hodnoty měr se diskretizují a musí se diskretizovat jen ty hodnoty, které jsou mezi sebou soumeřitelné. Nemůžu počítat ekvifrekvenční intervaly z hodnot počtu volných míst v okresech a krajích zároveň. Muselo dojít k rozdělení na datasety pouze s kraji a pouze s okresy a na datasety pouze s pozorování konkrétních pohlaví a na datasety s pozorováními za obě pohlaví celkem. To dává dohromady 4 menší kostky, ve kterých se budou hodnoty měr diskretizovat zvlášť:\n",
    "\n",
    "* okresy podle pohlaví\n",
    "* kraje podle pohlaví\n",
    "* okresy celkem\n",
    "* kraje celkem\n",
    "\n",
    "\n",
    "\n",
    "Nejjednoduší bylo to provést ve SPARQLu, takto jsem si například z originálních dat vyřízl kostku, kde jsou pozorování pro kontrétní pohlaví a oblasti jsou jen okresy:\n",
    "\n",
    "```sparql\n",
    "PREFIX qb: <http://purl.org/linked-data/cube#>\n",
    "PREFIX rdfs: <http://www.w3.org/2000/01/rdf-schema#>\n",
    "PREFIX time: <http://www.w3.org/2006/time#>\n",
    "PREFIX sdmx-dimension: <http://purl.org/linked-data/sdmx/2009/dimension#>\n",
    "PREFIX cssz-dimension: <https://data.cssz.cz/ontology/dimension/>\n",
    "PREFIX cssz-measure:  <https://data.cssz.cz/ontology/measure/>\n",
    "PREFIX skos: <http://www.w3.org/2004/02/skos/core#>\n",
    "PREFIX czso: <http://data.czso.cz/ontology/>\n",
    "PREFIX owl: <http://www.w3.org/2002/07/owl#>\n",
    "\n",
    "CONSTRUCT {\n",
    "    ?observation ?p ?o\n",
    "} \n",
    "\n",
    "WHERE {\n",
    " GRAPH <http://data.czso.cz/resource/dataset/job-applicants-and-unemployment-rate> {\n",
    "    ?observation qb:dataSet <http://data.czso.cz/resource/dataset/job-applicants-and-unemployment-rate> ;\n",
    "                 ?p ?o ;\n",
    "                 czso:refArea ?refAreaCZSO .\n",
    "    NOT EXISTS {\n",
    "        ?observation czso:sex <http://purl.org/linked-data/sdmx/2009/code#sex-T> .\n",
    "    }\n",
    " }\n",
    "  ?refAreaCSSZ owl:sameAs   ?refAreaCZSO.\n",
    " GRAPH <https://data.cssz.cz/resource/dataset/pomocne-ciselniky> {\n",
    "     ?refAreaCSSZ a <https://data.cssz.cz/ontology/ruian/Okres>\n",
    " }\n",
    "}\n",
    "```\n",
    "\n",
    "K hodnotám czso:refArea není slovník, díky kterému bych mohl lehce odlišit okresy od krajů, ale mají ho hodnoty dimenze refArea kostek z ČSSZ. Oba datasety číslují oblasti podle číselníku RÚIAN, takže jsem si s pomocí regulárního výrazu vytvořil linkovací ttl soubor, který jsem zahrnul do dat, nad kterými se volaly ty SPARQL dotazy. Ukázka obsahu souboru:\n",
    "\n",
    "```turtle\n",
    "<https://data.cssz.cz/resource/ruian/vusc/78> owl:sameAs \n",
    "<http://ruian.linked.opendata.cz/resource/vusc/78> .\n",
    "<https://data.cssz.cz/resource/ruian/okresy/3704> owl:sameAs\n",
    "<http://ruian.linked.opendata.cz/resource/okresy/3704> .\n",
    "```\n"
   ]
  },
  {
   "cell_type": "code",
   "execution_count": 85,
   "metadata": {},
   "outputs": [],
   "source": [
    "val jaurDistrictsTotal = Graph(\"czso\",\"data/czso-jaur-districts-total.ttl\")\n",
    "val jaurDistrictsBySex = Graph(\"czso\",\"data/czso-jaur-districts-by-sex.ttl\")\n",
    "val jaurRegionsTotal = Graph(\"czso\",\"data/czso-jaur-regions-total.ttl\")\n",
    "val jaurRegionsBySex = Graph(\"czso\",\"data/czso-jaur-regions-by-sex.ttl\")\n",
    "\n",
    "val unemploymentRate = \"http://data.czso.cz/ontology/podilNezamestnanych\"\n",
    "val reachableApplicants = \"http://data.czso.cz/ontology/dosazitelniNeumisteniUchazeciOZamestnani\"\n",
    "val unplacedApplicants = \"http://data.czso.cz/ontology/neumisteniUchazeciOZamestnani\"\n",
    "val vacaniesCount = \"http://data.czso.cz/ontology/pocetVolnychMist\"\n",
    "\n",
    "val refArea = \"http://data.czso.cz/ontology/refArea\"\n",
    "val sex = \"http://data.czso.cz/ontology/sex\"\n",
    "val refPeriod = \"http://data.czso.cz/ontology/refPeriod\""
   ]
  },
  {
   "cell_type": "markdown",
   "metadata": {},
   "source": [
    "Tady dochází k diskrezizaci hodnot měr kostek. Jsou to ekvifrekvenční intervaly, počet intervalů je konfigurovatelný."
   ]
  },
  {
   "cell_type": "code",
   "execution_count": 8,
   "metadata": {},
   "outputs": [],
   "source": [
    "val equiFrequent = DiscretizationTask.Equifrequency(intervalsCount)\n",
    "val hasPredicate = (quad: Quad, uri: String) => quad.triple.predicate.hasSameUriAs(uri)\n",
    "\n",
    "val jaurDistrictsTotalDiscretized = jaurDistrictsTotal\n",
    "    .discretize(equiFrequent)(quad => hasPredicate(quad, unemploymentRate))\n",
    "    .discretize(equiFrequent)(quad => hasPredicate(quad, reachableApplicants))\n",
    "    .discretize(equiFrequent)(quad => hasPredicate(quad, unplacedApplicants))\n",
    "    .discretize(equiFrequent)(quad => hasPredicate(quad, vacaniesCount))\n",
    "\n",
    "val jaurRegionsTotalDiscretized = jaurRegionsTotal\n",
    "    .discretize(equiFrequent)(quad => hasPredicate(quad, unemploymentRate))\n",
    "    .discretize(equiFrequent)(quad => hasPredicate(quad, reachableApplicants))\n",
    "    .discretize(equiFrequent)(quad => hasPredicate(quad, unplacedApplicants))\n",
    "    .discretize(equiFrequent)(quad => hasPredicate(quad, vacaniesCount))\n",
    "\n",
    "val jaurDistrictsBySexDiscretized = jaurDistrictsBySex\n",
    "    .discretize(equiFrequent)(quad => hasPredicate(quad, unemploymentRate))\n",
    "    .discretize(equiFrequent)(quad => hasPredicate(quad, reachableApplicants))\n",
    "\n",
    "val jaurRegionsBySexDiscretized = jaurRegionsBySex\n",
    "    .discretize(equiFrequent)(quad => hasPredicate(quad, unemploymentRate))\n",
    "    .discretize(equiFrequent)(quad => hasPredicate(quad, reachableApplicants))"
   ]
  },
  {
   "cell_type": "markdown",
   "metadata": {},
   "source": [
    "Každé pravidlo se musí vztahovat k pozorováním pouze v jedné dílčí kostce, protože míry mají napříč dílčími kostkami stejné IRI. Možné řešení je pojmenovat pro každou ze 4 kostek její míry jinak, ale jednodušší je zavedení jiného názvu datasetu každé ze 4 kostek."
   ]
  },
  {
   "cell_type": "code",
   "execution_count": 9,
   "metadata": {},
   "outputs": [],
   "source": [
    "// TODO pro každý dataset jiný qb:dataSet\n",
    "val qbDataSet = \"http://purl.org/linked-data/cube#dataSet\"\n",
    "val uri = (value: String) => TripleItem.Uri(value)\n",
    "\n",
    "val jaurDistrictsTotalNamed = jaurDistrictsTotalDiscretized\n",
    ".map(t => if (t.predicate.hasSameUriAs(qbDataSet)) t.copy(`object` = uri(\"jaurDistrictsTotal\")) else t)\n",
    "\n",
    "val jaurRegionsTotalNamed = jaurRegionsTotalDiscretized\n",
    ".map(t => if (t.predicate.hasSameUriAs(qbDataSet)) t.copy(`object` = uri(\"jaurRegionsTotal\")) else t)\n",
    "\n",
    "val jaurDistrictsBySexNamed = jaurDistrictsBySexDiscretized\n",
    ".map(t => if (t.predicate.hasSameUriAs(qbDataSet)) t.copy(`object` = uri(\"jaurDistrictsBySex\")) else t)\n",
    "\n",
    "val jaurRegionsBySexNamed = jaurRegionsBySexDiscretized\n",
    ".map(t => if (t.predicate.hasSameUriAs(qbDataSet)) t.copy(`object` = uri(\"jaurRegionsBySex\")) else t)\n"
   ]
  },
  {
   "cell_type": "markdown",
   "metadata": {},
   "source": [
    "V dílčích kostkách s pozorováními celkem za obě pohlaví nejsou potřeba troji s predikátem czso:sex."
   ]
  },
  {
   "cell_type": "code",
   "execution_count": 10,
   "metadata": {},
   "outputs": [],
   "source": [
    "// TODO u total datasetů odstranit dimenzi pohlaví\n",
    "val jaurDistrictsTotalNoSexDimension = jaurDistrictsTotalNamed.filter(t => !t.predicate.hasSameUriAs(sex))\n",
    "val jaurRegionsTotalNoSexDimension = jaurRegionsTotalNamed.filter(t => !t.predicate.hasSameUriAs(sex))"
   ]
  },
  {
   "cell_type": "markdown",
   "metadata": {},
   "source": [
    "Dílčí kostky už můžeme poskládát do jedné kostky."
   ]
  },
  {
   "cell_type": "code",
   "execution_count": 11,
   "metadata": {},
   "outputs": [],
   "source": [
    "val jaurDataset = Dataset() + \n",
    "    jaurDistrictsTotalNoSexDimension + \n",
    "    jaurRegionsTotalNoSexDimension + \n",
    "    jaurDistrictsBySexNamed + \n",
    "    jaurRegionsBySexNamed"
   ]
  },
  {
   "cell_type": "markdown",
   "metadata": {},
   "source": [
    "V datasetu není potřeba mít trojice ```?observation a qb:Observation```, ze vzorů pravidel to samo vyplyne."
   ]
  },
  {
   "cell_type": "code",
   "execution_count": 12,
   "metadata": {},
   "outputs": [],
   "source": [
    "val qbObservation = \"http://purl.org/linked-data/cube#Observation\"\n",
    "val jaurDatasetFiltered = jaurDataset.filter(quad => !(quad.triple.`object`.equals(uri(qbObservation))))"
   ]
  },
  {
   "cell_type": "markdown",
   "metadata": {},
   "source": [
    "Nejdřív si zkusím vydolovat nějaká pravidla jenom nad samotnou kostkou. Data z YAGO přidám později."
   ]
  },
  {
   "cell_type": "code",
   "execution_count": 13,
   "metadata": {},
   "outputs": [],
   "source": [
    "val jaurIndex = jaurDatasetFiltered.index()"
   ]
  },
  {
   "cell_type": "markdown",
   "metadata": {},
   "source": [
    "Toto jsou jenom nějaké pomocné objekty, které se použijí při definici vzorů pravidel a dolovacích úloh, aby to bylo čitelnější."
   ]
  },
  {
   "cell_type": "code",
   "execution_count": 86,
   "metadata": {},
   "outputs": [],
   "source": [
    "val constantsAtObject = RuleConstraint.ConstantsAtPosition.ConstantsPosition.Object\n",
    "val constantsOnlyAtObject = RuleConstraint.ConstantsAtPosition(constantsAtObject)\n",
    "val oneOfMeasures = OneOf(\n",
    "    uri(unemploymentRate), \n",
    "    uri(unemploymentRate), \n",
    "    uri(reachableApplicants), \n",
    "    uri(vacaniesCount)\n",
    ")\n",
    "val qbdPredicate = uri(qbDataSet)\n",
    "val oneOfDimensions = OneOf(\n",
    "    uri(refArea), \n",
    "    uri(sex), \n",
    "    uri(refPeriod)\n",
    ")"
   ]
  },
  {
   "cell_type": "code",
   "execution_count": 15,
   "metadata": {},
   "outputs": [],
   "source": [
    "val oneCubeTwoMeasures: RulePattern = (\n",
    "    AtomPattern(subject = 'a', predicate = qbdPredicate) &: \n",
    "    AtomPattern(subject = 'a', predicate = oneOfMeasures) \n",
    "    =>: \n",
    "    AtomPattern(subject = 'a', predicate = oneOfMeasures)\n",
    ")\n",
    "\n",
    "val oneCubeTwoMeasuresOneDimension: RulePattern = (\n",
    "    AtomPattern(subject = 'a', predicate = qbdPredicate) &: \n",
    "    AtomPattern(subject = 'a', predicate = oneOfMeasures) &: \n",
    "    AtomPattern(subject = 'a', predicate = oneOfDimensions)\n",
    "    =>: \n",
    "    AtomPattern(subject = 'a', predicate = oneOfMeasures)\n",
    ")"
   ]
  },
  {
   "cell_type": "code",
   "execution_count": 16,
   "metadata": {},
   "outputs": [],
   "source": [
    "val oneCubeTwoMeasuresTask = Amie()\n",
    "    .addThreshold(Threshold.MinSupport(minSupport))\n",
    "    .addThreshold(Threshold.MaxRuleLength(3))\n",
    "    .addThreshold(Threshold.MinHeadSize(0))\n",
    "    .addConstraint(constantsOnlyAtObject)\n",
    "    .addPattern(oneCubeTwoMeasures)\n",
    "    .addPattern(oneCubeTwoMeasuresOneDimension)\n",
    "\n",
    "val oneCubeTwoMeasuresOneDimensionTask = Amie()\n",
    "    .addThreshold(Threshold.MinSupport(minSupport))\n",
    "    .addThreshold(Threshold.MaxRuleLength(4))\n",
    "    .addThreshold(Threshold.MinHeadSize(0))\n",
    "    .addConstraint(constantsOnlyAtObject)\n",
    "    .addPattern(oneCubeTwoMeasures)\n",
    "    .addPattern(oneCubeTwoMeasuresOneDimension)"
   ]
  },
  {
   "cell_type": "code",
   "execution_count": 80,
   "metadata": {},
   "outputs": [
    {
     "name": "stderr",
     "output_type": "stream",
     "text": [
      "2021-03-10 20:18:02:227 +0100 [scala-interpreter-1] INFO com.github.propi.rdfrules.utils.Debugger - Amie task settings:\n",
      "MinHeadSize=1,\n",
      "MinHeadCoverage=0.0,\n",
      "MinSupport=50,\n",
      "MaxThreads=4,\n",
      "MinAtomSize=0,\n",
      "MaxRuleLength=3,\n",
      "WithConstants=true,\n",
      "ConstantsPosition=Object,\n",
      "Timeout=-1,\n",
      "WithDuplicitPredicates=true,\n",
      "Patterns=List(Mapped(Vector(Mapped(Variable(?a),Constant(Constant(624690160)),Any,Any), Mapped(Variable(?a),OneOf(ArrayBuffer(Constant(Constant(-2070273298)), Constant(Constant(-2070273298)), Constant(Constant(1659106226)), Constant(Constant(1142069620)))),Any,Any), Mapped(Variable(?a),OneOf(ArrayBuffer(Constant(Constant(1481837794)), Constant(Constant(-1485615047)), Constant(Constant(-901057765)))),Any,Any)),Some(Mapped(Variable(?a),OneOf(ArrayBuffer(Constant(Constant(-2070273298)), Constant(Constant(-2070273298)), Constant(Constant(1659106226)), Constant(Constant(1142069620)))),Any,Any)),false,false), Mapped(Vector(Mapped(Variable(?a),Constant(Constant(624690160)),Any,Any), Mapped(Variable(?a),OneOf(ArrayBuffer(Constant(Constant(-2070273298)), Constant(Constant(-2070273298)), Constant(Constant(1659106226)), Constant(Constant(1142069620)))),Any,Any)),Some(Mapped(Variable(?a),OneOf(ArrayBuffer(Constant(Constant(-2070273298)), Constant(Constant(-2070273298)), Constant(Constant(1659106226)), Constant(Constant(1142069620)))),Any,Any)),false,false)),\n",
      "OnlyPredicates=None,\n",
      "WithoutPredicates=None\n",
      "2021-03-10 20:18:02:365 +0100 [scala-interpreter-1] INFO com.github.propi.rdfrules.utils.Debugger - Amie task settings:\n",
      "MinHeadSize=1,\n",
      "MinHeadCoverage=0.0,\n",
      "MinSupport=50,\n",
      "MaxThreads=4,\n",
      "MinAtomSize=0,\n",
      "MaxRuleLength=4,\n",
      "WithConstants=true,\n",
      "ConstantsPosition=Object,\n",
      "Timeout=-1,\n",
      "WithDuplicitPredicates=true,\n",
      "Patterns=List(Mapped(Vector(Mapped(Variable(?a),Constant(Constant(624690160)),Any,Any), Mapped(Variable(?a),OneOf(ArrayBuffer(Constant(Constant(-2070273298)), Constant(Constant(-2070273298)), Constant(Constant(1659106226)), Constant(Constant(1142069620)))),Any,Any), Mapped(Variable(?a),OneOf(ArrayBuffer(Constant(Constant(1481837794)), Constant(Constant(-1485615047)), Constant(Constant(-901057765)))),Any,Any)),Some(Mapped(Variable(?a),OneOf(ArrayBuffer(Constant(Constant(-2070273298)), Constant(Constant(-2070273298)), Constant(Constant(1659106226)), Constant(Constant(1142069620)))),Any,Any)),false,false), Mapped(Vector(Mapped(Variable(?a),Constant(Constant(624690160)),Any,Any), Mapped(Variable(?a),OneOf(ArrayBuffer(Constant(Constant(-2070273298)), Constant(Constant(-2070273298)), Constant(Constant(1659106226)), Constant(Constant(1142069620)))),Any,Any)),Some(Mapped(Variable(?a),OneOf(ArrayBuffer(Constant(Constant(-2070273298)), Constant(Constant(-2070273298)), Constant(Constant(1659106226)), Constant(Constant(1142069620)))),Any,Any)),false,false)),\n",
      "OnlyPredicates=None,\n",
      "WithoutPredicates=None\n"
     ]
    },
    {
     "name": "stdout",
     "output_type": "stream",
     "text": [
      "oneCubeTwoMeasuresRuleset size: 36\n",
      "oneCubeTwoMeasuresOneDimensionRuleset size: 52\n"
     ]
    }
   ],
   "source": [
    "val oneCubeTwoMeasuresRuleset = jaurIndex.mine(oneCubeTwoMeasuresTask)\n",
    "val oneCubeTwoMeasuresOneDimensionRuleset = jaurIndex.mine(oneCubeTwoMeasuresOneDimensionTask)\n",
    "\n",
    "println(\"oneCubeTwoMeasuresRuleset size: \" + oneCubeTwoMeasuresRuleset.size)\n",
    "println(\"oneCubeTwoMeasuresOneDimensionRuleset size: \" + oneCubeTwoMeasuresOneDimensionRuleset.size)"
   ]
  },
  {
   "cell_type": "code",
   "execution_count": 18,
   "metadata": {},
   "outputs": [
    {
     "name": "stdout",
     "output_type": "stream",
     "text": [
      "\n",
      "(?a czso:neumisteniUchazeciOZamestnani [ 1025.0 ; 3045.0 )) ^ (?a qb:dataSet <jaurDistrictsTotal>) ^ (?a czso:podilNezamestnanych [ 1.2 ; 4.555 )) -> (?a czso:dosazitelniNeumisteniUchazeciOZamestnani [ 901.0 ; 2928.0 )) | support: 80, headCoverage: 0.033291718684977115, confidence: 0.9876543209876543, headSize: 2403, bodySize: 81\n",
      "\n",
      "\n",
      "(?a czso:neumisteniUchazeciOZamestnani [ 8353.5 ; 26549.0 ]) ^ (?a qb:dataSet <jaurDistrictsTotal>) ^ (?a czso:podilNezamestnanych [ 8.765 ; 16.2 ]) -> (?a czso:dosazitelniNeumisteniUchazeciOZamestnani [ 8110.5 ; 25767.0 ]) | support: 79, headCoverage: 0.0328755722014149, confidence: 0.9753086419753086, headSize: 2403, bodySize: 81\n",
      "\n",
      "\n",
      "(?a qb:dataSet <jaurDistrictsBySex>) ^ (?a czso:dosazitelniNeumisteniUchazeciOZamestnani [ 468.0 ; 1470.5 )) ^ (?a czso:sex sdmx-code:sex-M) -> (?a czso:podilNezamestnanych [ 1.13 ; 4.585 )) | support: 107, headCoverage: 0.04452767374115689, confidence: 0.7181208053691275, headSize: 2403, bodySize: 149\n",
      "\n"
     ]
    }
   ],
   "source": [
    "val jaurRuleset = (oneCubeTwoMeasuresRuleset + oneCubeTwoMeasuresOneDimensionRuleset)\n",
    "    .computeConfidence(minConfidence)\n",
    "    .sortBy(Measure.Confidence, Measure.HeadCoverage)\n",
    "jaurRuleset.export(\"jaurRules.txt\")\n",
    "jaurRuleset.foreach(rule => println(\"\\n\" + rule + \"\\n\"))"
   ]
  },
  {
   "cell_type": "markdown",
   "metadata": {},
   "source": [
    "# Přidání trojic z YAGO"
   ]
  },
  {
   "cell_type": "code",
   "execution_count": 19,
   "metadata": {},
   "outputs": [],
   "source": [
    "val regions = Graph(\"yago\", \"data/describe-region.ttl\")\n",
    "val districts = Graph(\"yago\", \"data/describe-district.ttl\")\n",
    "val regionsHop1 = Graph(\"yago\", \"data/describe-region-hop1.xml\")\n",
    "val districtsHop1 = Graph(\"yago\", \"data/describe-district-hop1.xml\")\n",
    "\n",
    "val districtsHop2 = Graph(\"yago\", \"data/describe-district-hop2.xml\")\n",
    "val regionsHop2 = Graph(\"yago\", \"data/describe-region-hop2.xml\")\n",
    "\n",
    "val yagoLinking = Graph(\"yago\", \"data/yagoLinking.ttl\")"
   ]
  },
  {
   "cell_type": "code",
   "execution_count": 20,
   "metadata": {},
   "outputs": [],
   "source": [
    "val rdfsLabel = \"http://www.w3.org/2000/01/rdf-schema#label\"\n",
    "val rdfsComment = \"http://www.w3.org/2000/01/rdf-schema#comment\"\n",
    "val alternateName = \"http://schema.org/alternateName\"\n",
    "val image = \"http://schema.org/image\""
   ]
  },
  {
   "cell_type": "code",
   "execution_count": 21,
   "metadata": {},
   "outputs": [],
   "source": [
    "val yagoDataset = (Dataset() + \n",
    "    regions + districts + \n",
    "    regionsHop1 + districtsHop1 + \n",
    "    districtsHop2 + regionsHop2 +\n",
    "    yagoLinking\n",
    ")"
   ]
  },
  {
   "cell_type": "code",
   "execution_count": 22,
   "metadata": {},
   "outputs": [],
   "source": [
    "val yagoDatasetFiltered = yagoDataset.\n",
    "filter(q => !q.triple.predicate.hasSameUriAs(rdfsLabel) &&\n",
    "                !q.triple.predicate.hasSameUriAs(rdfsComment) &&\n",
    "                !q.triple.predicate.hasSameUriAs(alternateName) &&\n",
    "                !q.triple.predicate.hasSameUriAs(image))"
   ]
  },
  {
   "cell_type": "code",
   "execution_count": 23,
   "metadata": {},
   "outputs": [
    {
     "name": "stdout",
     "output_type": "stream",
     "text": [
      "2223545 / 4831663 = 46.0%\n"
     ]
    }
   ],
   "source": [
    "val ratio: Double = (yagoDatasetFiltered.size.toDouble / yagoDataset.size.toDouble)\n",
    "val rounded = BigDecimal(ratio).setScale(2, BigDecimal.RoundingMode.HALF_UP).toDouble\n",
    "println(yagoDatasetFiltered.size + \" / \" + yagoDataset.size + \" = \" + rounded*100 + \"%\")"
   ]
  },
  {
   "cell_type": "code",
   "execution_count": 24,
   "metadata": {},
   "outputs": [],
   "source": [
    "val yagoJaurDataset = jaurDatasetFiltered + yagoDatasetFiltered"
   ]
  },
  {
   "cell_type": "code",
   "execution_count": 25,
   "metadata": {},
   "outputs": [],
   "source": [
    "val yagoJaurIndex = yagoJaurDataset.index()"
   ]
  },
  {
   "cell_type": "code",
   "execution_count": 71,
   "metadata": {},
   "outputs": [],
   "source": [
    "/*val task4 = (\n",
    "    AtomPattern(subject = 'b', graph = uri(\"yago\")) &:\n",
    "    AtomPattern(subject = 'a', `object` = 'b', graph = uri(\"czso\"))\n",
    "    =>: \n",
    "    AtomPattern(subject = 'a', graph = uri(\"czso\"))\n",
    ")\n",
    "tohle něco vyprodukovalo\n",
    "*/\n",
    "//val types: Seq[AtomItemPattern] = Seq(uri(\"http://schema.org/Thing\"))\n",
    "\n",
    "val rdfType = \"http://www.w3.org/1999/02/22-rdf-syntax-ns#type\"\n",
    "\n",
    "\n",
    "val oneCubeTwoMeasuresYagoPattern = (\n",
    "    AtomPattern(subject = 'a', predicate = qbdPredicate, graph = uri(\"czso\")) &:\n",
    "    AtomPattern(subject = 'b', predicate = NoneOf(uri(rdfType)), graph = uri(\"yago\")) &:\n",
    "    AtomPattern(subject = 'a', `object` = 'b', graph = uri(\"czso\")) &:\n",
    "    AtomPattern(subject = 'a', predicate = oneOfMeasures, graph = uri(\"czso\"))\n",
    "    =>: \n",
    "    AtomPattern(subject = 'a', predicate = oneOfMeasures, graph = uri(\"czso\"))\n",
    ")\n",
    "\n",
    "val oneCubeOneMeasureYagoPattern = (\n",
    "    AtomPattern(subject = 'a', predicate = qbdPredicate, graph = uri(\"czso\")) &:\n",
    "    AtomPattern(subject = 'b', predicate = NoneOf(uri(rdfType)), graph = uri(\"yago\")) &:\n",
    "    AtomPattern(subject = 'a', `object` = 'b', graph = uri(\"czso\"))\n",
    "    =>: \n",
    "    AtomPattern(subject = 'a', predicate = oneOfMeasures, graph = uri(\"czso\"))\n",
    ")"
   ]
  },
  {
   "cell_type": "code",
   "execution_count": 82,
   "metadata": {},
   "outputs": [],
   "source": [
    "intervalsCount = 5\n",
    "minSupport = 50\n",
    "minConfidence = 0.75"
   ]
  },
  {
   "cell_type": "code",
   "execution_count": 72,
   "metadata": {},
   "outputs": [],
   "source": [
    "val oneCubeTwoMeasuresYagoTask = Amie()\n",
    "    .addThreshold(Threshold.MinSupport(minSupport))\n",
    "    .addThreshold(Threshold.MaxRuleLength(5))\n",
    "    .addThreshold(Threshold.MinHeadSize(0))\n",
    "    .addConstraint(constantsOnlyAtObject)\n",
    "    .addPattern(oneCubeTwoMeasuresYagoPattern)\n",
    "\n",
    "val oneCubeOneMeasureYagoTask = Amie()\n",
    "    .addThreshold(Threshold.MinSupport(minSupport))\n",
    "    .addThreshold(Threshold.MaxRuleLength(4))\n",
    "    .addThreshold(Threshold.MinHeadSize(0))\n",
    "    .addConstraint(constantsOnlyAtObject)\n",
    "    .addPattern(oneCubeOneMeasureYagoPattern)"
   ]
  },
  {
   "cell_type": "code",
   "execution_count": 73,
   "metadata": {},
   "outputs": [
    {
     "name": "stderr",
     "output_type": "stream",
     "text": [
      "2021-03-10 20:08:39:813 +0100 [scala-interpreter-1] INFO com.github.propi.rdfrules.utils.Debugger - Amie task settings:\n",
      "MinHeadSize=1,\n",
      "MinHeadCoverage=0.0,\n",
      "MinSupport=50,\n",
      "MaxThreads=4,\n",
      "MinAtomSize=0,\n",
      "MaxRuleLength=5,\n",
      "WithConstants=true,\n",
      "ConstantsPosition=Object,\n",
      "Timeout=-1,\n",
      "WithDuplicitPredicates=true,\n",
      "Patterns=List(Mapped(Vector(Mapped(Variable(?a),Constant(Constant(624690160)),Any,Constant(Constant(1015601977))), Mapped(Variable(?b),NoneOf(ArrayBuffer(Constant(Constant(1802760130)))),Any,Constant(Constant(-1596161386))), Mapped(Variable(?a),Any,Variable(?b),Constant(Constant(1015601977))), Mapped(Variable(?a),OneOf(ArrayBuffer(Constant(Constant(-2070273298)), Constant(Constant(-2070273298)), Constant(Constant(1659106226)), Constant(Constant(1142069620)))),Any,Constant(Constant(1015601977)))),Some(Mapped(Variable(?a),OneOf(ArrayBuffer(Constant(Constant(-2070273298)), Constant(Constant(-2070273298)), Constant(Constant(1659106226)), Constant(Constant(1142069620)))),Any,Constant(Constant(1015601977)))),false,false)),\n",
      "OnlyPredicates=None,\n",
      "WithoutPredicates=None\n",
      "2021-03-10 20:08:40:124 +0100 [scala-interpreter-1] INFO com.github.propi.rdfrules.utils.Debugger - Amie task settings:\n",
      "MinHeadSize=1,\n",
      "MinHeadCoverage=0.0,\n",
      "MinSupport=50,\n",
      "MaxThreads=4,\n",
      "MinAtomSize=0,\n",
      "MaxRuleLength=4,\n",
      "WithConstants=true,\n",
      "ConstantsPosition=Object,\n",
      "Timeout=-1,\n",
      "WithDuplicitPredicates=true,\n",
      "Patterns=List(Mapped(Vector(Mapped(Variable(?a),Constant(Constant(624690160)),Any,Constant(Constant(1015601977))), Mapped(Variable(?b),NoneOf(ArrayBuffer(Constant(Constant(1802760130)))),Any,Constant(Constant(-1596161386))), Mapped(Variable(?a),Any,Variable(?b),Constant(Constant(1015601977)))),Some(Mapped(Variable(?a),OneOf(ArrayBuffer(Constant(Constant(-2070273298)), Constant(Constant(-2070273298)), Constant(Constant(1659106226)), Constant(Constant(1142069620)))),Any,Constant(Constant(1015601977)))),false,false)),\n",
      "OnlyPredicates=None,\n",
      "WithoutPredicates=None\n"
     ]
    },
    {
     "name": "stdout",
     "output_type": "stream",
     "text": [
      "oneCubeTwoMeasuresYagoTaskRuleset size: 8\n",
      "oneCubeOneMeasureYagoRuleset size: 26\n"
     ]
    }
   ],
   "source": [
    "val oneCubeTwoMeasuresYagoTaskRuleset = yagoJaurIndex.mine(oneCubeTwoMeasuresYagoTask)\n",
    "val oneCubeOneMeasureYagoRuleset = yagoJaurIndex.mine(oneCubeOneMeasureYagoTask)\n",
    "\n",
    "println(\"oneCubeTwoMeasuresYagoTaskRuleset size: \" + oneCubeTwoMeasuresYagoTaskRuleset.size)\n",
    "println(\"oneCubeOneMeasureYagoRuleset size: \" + oneCubeOneMeasureYagoRuleset.size)"
   ]
  },
  {
   "cell_type": "code",
   "execution_count": 83,
   "metadata": {},
   "outputs": [
    {
     "name": "stdout",
     "output_type": "stream",
     "text": [
      "\n",
      "(?a qb:dataSet <jaurDistrictsBySex>) ^ (?b <http://schema.org/containedInPlace> yago:Ústí_nad_Labem_Region) ^ (?a czso:refArea ?b) ^ (?a czso:dosazitelniNeumisteniUchazeciOZamestnani [ 4028.5 ; 13697.0 ]) -> (?a czso:podilNezamestnanych [ 8.785 ; 16.49 ]) | support: 70, headCoverage: 0.029130253849354974, confidence: 0.9859154929577465, headSize: 2403, bodySize: 71\n",
      "\n",
      "\n",
      "(?a qb:dataSet <jaurDistrictsBySex>) ^ (?b <http://schema.org/containedInPlace> yago:_Q3509008) ^ (?a czso:refArea ?b) ^ (?a czso:dosazitelniNeumisteniUchazeciOZamestnani [ 4028.5 ; 13697.0 ]) -> (?a czso:podilNezamestnanych [ 8.785 ; 16.49 ]) | support: 70, headCoverage: 0.029130253849354974, confidence: 0.8641975308641975, headSize: 2403, bodySize: 81\n",
      "\n",
      "\n",
      "(?a qb:dataSet <jaurDistrictsBySex>) ^ (?b <http://schema.org/containedInPlace> yago:Central_Bohemian_Region) ^ (?a czso:refArea ?b) ^ (?a czso:dosazitelniNeumisteniUchazeciOZamestnani [ 468.0 ; 1470.5 )) -> (?a czso:podilNezamestnanych [ 1.13 ; 4.585 )) | support: 69, headCoverage: 0.02871410736579276, confidence: 0.8414634146341463, headSize: 2403, bodySize: 82\n",
      "\n",
      "\n",
      "(?a qb:dataSet <jaurDistrictsBySex>) ^ (?b <http://schema.org/containedInPlace> yago:Ústí_nad_Labem_Region) ^ (?a czso:refArea ?b) ^ (?a czso:podilNezamestnanych [ 8.785 ; 16.49 ]) -> (?a czso:dosazitelniNeumisteniUchazeciOZamestnani [ 4028.5 ; 13697.0 ]) | support: 70, headCoverage: 0.029130253849354974, confidence: 0.7692307692307693, headSize: 2403, bodySize: 91\n",
      "\n",
      "\n",
      "(?a qb:dataSet <jaurDistrictsBySex>) ^ (?b <http://schema.org/containedInPlace> yago:Central_Bohemian_Region) ^ (?a czso:refArea ?b) ^ (?a czso:podilNezamestnanych [ 1.13 ; 4.585 )) -> (?a czso:dosazitelniNeumisteniUchazeciOZamestnani [ 468.0 ; 1470.5 )) | support: 69, headCoverage: 0.02871410736579276, confidence: 0.7582417582417582, headSize: 2403, bodySize: 91\n",
      "\n",
      "\n",
      "(?a qb:dataSet <jaurDistrictsBySex>) ^ (?b <http://schema.org/containedInPlace> yago:Moravian-Silesian_Region) ^ (?a czso:refArea ?b) -> (?a czso:dosazitelniNeumisteniUchazeciOZamestnani [ 4028.5 ; 13697.0 ]) | support: 81, headCoverage: 0.033707865168539325, confidence: 0.75, headSize: 2403, bodySize: 108\n",
      "\n"
     ]
    }
   ],
   "source": [
    "val jaurYagoRuleset = (oneCubeTwoMeasuresYagoTaskRuleset + oneCubeOneMeasureYagoRuleset)\n",
    ".computeConfidence(minConfidence).sortBy(Measure.Confidence, Measure.HeadCoverage)\n",
    "jaurYagoRuleset.export(\"jaurYagoRules.txt\")\n",
    "jaurYagoRuleset.foreach(rule => println(\"\\n\" + rule + \"\\n\"))"
   ]
  }
 ],
 "metadata": {
  "kernelspec": {
   "display_name": "Scala",
   "language": "scala",
   "name": "scala"
  },
  "language_info": {
   "codemirror_mode": "text/x-scala",
   "file_extension": ".sc",
   "mimetype": "text/x-scala",
   "name": "scala",
   "nbconvert_exporter": "script",
   "version": "2.12.8"
  }
 },
 "nbformat": 4,
 "nbformat_minor": 4
}
