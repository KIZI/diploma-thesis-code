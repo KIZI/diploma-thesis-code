{
 "cells": [
  {
   "cell_type": "code",
   "execution_count": null,
   "metadata": {},
   "outputs": [],
   "source": [
    "kernel.silent(true)"
   ]
  },
  {
   "cell_type": "code",
   "execution_count": null,
   "metadata": {},
   "outputs": [],
   "source": [
    "import coursierapi.MavenRepository\n",
    "interp.repositories() ++= Seq(MavenRepository.of(\"https://jitpack.io\"))"
   ]
  },
  {
   "cell_type": "code",
   "execution_count": null,
   "metadata": {},
   "outputs": [],
   "source": [
    "import $ivy.`com.github.propi:rdfrules:1.5.0`\n",
    "import collection._\n",
    "import org.apache.jena.riot.Lang\n",
    "\n",
    "import com.github.propi.rdfrules.data._\n",
    "import com.github.propi.rdfrules.algorithm.amie._\n",
    "import com.github.propi.rdfrules.algorithm.dbscan._\n",
    "import com.github.propi.rdfrules.utils._\n",
    "import com.github.propi.rdfrules.index._\n",
    "import com.github.propi.rdfrules.rule._\n",
    "import com.github.propi.rdfrules.ruleset._"
   ]
  },
  {
   "cell_type": "code",
   "execution_count": null,
   "metadata": {},
   "outputs": [],
   "source": [
    "val regions = Graph(\"data/describe-region.ttl\")\n",
    "val districts = Graph(\"data/describe-district.ttl\")\n",
    "val regionsHop1 = Graph(\"data/describe-region-hop1.xml\")\n",
    "val districtsHop1 = Graph(\"data/describe-district-hop1.xml\")\n",
    "\n",
    "val districtsHop2 = Graph(\"data/describe-district-hop2.xml\")\n",
    "val regionsHop2 = Graph(\"data/describe-region-hop2.xml\")"
   ]
  },
  {
   "cell_type": "code",
   "execution_count": null,
   "metadata": {},
   "outputs": [],
   "source": [
    "val rdfsLabel = \"http://www.w3.org/2000/01/rdf-schema#label\"\n",
    "val rdfsComment = \"http://www.w3.org/2000/01/rdf-schema#comment\"\n",
    "val alternateName = \"http://schema.org/alternateName\"\n",
    "val image = \"http://schema.org/image\""
   ]
  },
  {
   "cell_type": "code",
   "execution_count": null,
   "metadata": {},
   "outputs": [],
   "source": [
    "val filterGraph = (graph: Graph) => graph.\n",
    "    filter(t => !t.predicate.hasSameUriAs(rdfsLabel) &&\n",
    "                !t.predicate.hasSameUriAs(rdfsComment) &&\n",
    "                !t.predicate.hasSameUriAs(alternateName) &&\n",
    "                !t.predicate.hasSameUriAs(image))"
   ]
  },
  {
   "cell_type": "code",
   "execution_count": 0,
   "metadata": {},
   "outputs": [
    {
     "name": "stderr",
     "output_type": "stream",
     "text": [
      "cmd0.sc:1: not found: value filterGraph\n",
      "val regionsFiltered = filterGraph(regions)\n",
      "                      ^cmd0.sc:1: not found: value regions\n",
      "val regionsFiltered = filterGraph(regions)\n",
      "                                  ^cmd0.sc:2: not found: value filterGraph\n",
      "val districtsFiltered = filterGraph(districts)\n",
      "                        ^cmd0.sc:2: not found: value districts\n",
      "val districtsFiltered = filterGraph(districts)\n",
      "                                    ^cmd0.sc:4: not found: value filterGraph\n",
      "val regionsHop1Filtered = filterGraph(regionsHop1)\n",
      "                          ^cmd0.sc:4: not found: value regionsHop1\n",
      "val regionsHop1Filtered = filterGraph(regionsHop1)\n",
      "                                      ^cmd0.sc:5: not found: value filterGraph\n",
      "val districtsHop1Filtered = filterGraph(districtsHop1)\n",
      "                            ^cmd0.sc:5: not found: value districtsHop1\n",
      "val districtsHop1Filtered = filterGraph(districtsHop1)\n",
      "                                        ^cmd0.sc:7: not found: value filterGraph\n",
      "val regionsHop2Filtered = filterGraph(regionsHop2)\n",
      "                          ^cmd0.sc:7: not found: value regionsHop2\n",
      "val regionsHop2Filtered = filterGraph(regionsHop2)\n",
      "                                      ^cmd0.sc:8: not found: value filterGraph\n",
      "val districtsHop2Filtered = filterGraph(districtsHop2)\n",
      "                            ^cmd0.sc:8: not found: value districtsHop2\n",
      "val districtsHop2Filtered = filterGraph(districtsHop2)\n",
      "                                        ^Compilation Failed"
     ]
    },
    {
     "ename": "",
     "evalue": "",
     "output_type": "error",
     "traceback": [
      "Compilation Failed"
     ]
    }
   ],
   "source": [
    "val regionsFiltered = filterGraph(regions)\n",
    "val districtsFiltered = filterGraph(districts)\n",
    "\n",
    "val regionsHop1Filtered = filterGraph(regionsHop1)\n",
    "val districtsHop1Filtered = filterGraph(districtsHop1)\n",
    "\n",
    "val regionsHop2Filtered = filterGraph(regionsHop2)\n",
    "val districtsHop2Filtered = filterGraph(districtsHop2)"
   ]
  },
  {
   "cell_type": "code",
   "execution_count": null,
   "metadata": {},
   "outputs": [],
   "source": [
    "val dataset = Dataset() + regionsFiltered + districtsFiltered + regionsHop1Filtered + districtsHop1Filtered + regionsHop2Filtered + districtsHop2Filtered\n",
    "println(dataset.size)"
   ]
  },
  {
   "cell_type": "code",
   "execution_count": null,
   "metadata": {},
   "outputs": [],
   "source": [
    "val index = dataset.index()\n",
    "println(index.size)"
   ]
  }
 ],
 "metadata": {
  "kernelspec": {
   "display_name": "Scala",
   "language": "scala",
   "name": "scala"
  },
  "language_info": {
   "codemirror_mode": "text/x-scala",
   "file_extension": ".sc",
   "mimetype": "text/x-scala",
   "name": "scala",
   "nbconvert_exporter": "script",
   "version": "2.12.8"
  }
 },
 "nbformat": 4,
 "nbformat_minor": 4
}
