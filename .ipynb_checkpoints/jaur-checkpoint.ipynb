{
 "cells": [
  {
   "cell_type": "code",
   "execution_count": 55,
   "metadata": {},
   "outputs": [],
   "source": [
    "kernel.silent(true)\n",
    "\n",
    "val intervalsCount = 5\n",
    "val minSupport = 50\n",
    "val minConfidence = 0.65"
   ]
  },
  {
   "cell_type": "code",
   "execution_count": 56,
   "metadata": {},
   "outputs": [],
   "source": [
    "import coursierapi.MavenRepository\n",
    "interp.repositories() ++= Seq(MavenRepository.of(\"https://jitpack.io\"))"
   ]
  },
  {
   "cell_type": "code",
   "execution_count": 57,
   "metadata": {},
   "outputs": [],
   "source": [
    "import $ivy.`com.github.propi:rdfrules:1.5.0`\n",
    "import collection._\n",
    "import org.apache.jena.riot.Lang\n",
    "\n",
    "import com.github.propi.rdfrules.data._\n",
    "import com.github.propi.rdfrules.algorithm.amie._\n",
    "import com.github.propi.rdfrules.algorithm.dbscan._\n",
    "import com.github.propi.rdfrules.utils._\n",
    "import com.github.propi.rdfrules.index._\n",
    "import com.github.propi.rdfrules.rule._\n",
    "import com.github.propi.rdfrules.ruleset._"
   ]
  },
  {
   "cell_type": "code",
   "execution_count": 58,
   "metadata": {},
   "outputs": [],
   "source": [
    "val jaurDistrictsTotal = Graph(\"data/czso-jaur-districts-total.ttl\")\n",
    "val jaurDistrictsBySex = Graph(\"data/czso-jaur-districts-by-sex.ttl\")\n",
    "val jaurRegionsTotal = Graph(\"data/czso-jaur-regions-total.ttl\")\n",
    "val jaurRegionsBySex = Graph(\"data/czso-jaur-regions-by-sex.ttl\")"
   ]
  },
  {
   "cell_type": "code",
   "execution_count": 59,
   "metadata": {},
   "outputs": [],
   "source": [
    "// in all cubes\n",
    "val unemploymentRate = \"http://data.czso.cz/ontology/podilNezamestnanych\"\n",
    "val reachableApplicants = \"http://data.czso.cz/ontology/dosazitelniNeumisteniUchazeciOZamestnani\"\n",
    "\n",
    "// only in total cubes\n",
    "val unplacedApplicants = \"http://data.czso.cz/ontology/neumisteniUchazeciOZamestnani\"\n",
    "val vacaniesCount = \"http://data.czso.cz/ontology/pocetVolnychMist\""
   ]
  },
  {
   "cell_type": "code",
   "execution_count": 60,
   "metadata": {},
   "outputs": [],
   "source": [
    "val refArea = \"http://data.czso.cz/ontology/refArea\"\n",
    "val sex = \"http://data.czso.cz/ontology/sex\"\n",
    "val refPeriod = \"http://data.czso.cz/ontology/refPeriod\""
   ]
  },
  {
   "cell_type": "code",
   "execution_count": 61,
   "metadata": {},
   "outputs": [],
   "source": [
    "val equiFrequent = DiscretizationTask.Equifrequency(intervalsCount)\n",
    "val hasPredicate = (quad: Quad, uri: String) => quad.triple.predicate.hasSameUriAs(uri)\n",
    "\n",
    "val jaurDistrictsTotalDiscretized = jaurDistrictsTotal\n",
    "    .discretize(equiFrequent)(quad => hasPredicate(quad, unemploymentRate))\n",
    "    .discretize(equiFrequent)(quad => hasPredicate(quad, reachableApplicants))\n",
    "    .discretize(equiFrequent)(quad => hasPredicate(quad, unplacedApplicants))\n",
    "    .discretize(equiFrequent)(quad => hasPredicate(quad, vacaniesCount))\n",
    "\n",
    "val jaurRegionsTotalDiscretized = jaurRegionsTotal\n",
    "    .discretize(equiFrequent)(quad => hasPredicate(quad, unemploymentRate))\n",
    "    .discretize(equiFrequent)(quad => hasPredicate(quad, reachableApplicants))\n",
    "    .discretize(equiFrequent)(quad => hasPredicate(quad, unplacedApplicants))\n",
    "    .discretize(equiFrequent)(quad => hasPredicate(quad, vacaniesCount))\n",
    "\n",
    "val jaurDistrictsBySexDiscretized = jaurDistrictsBySex\n",
    "    .discretize(equiFrequent)(quad => hasPredicate(quad, unemploymentRate))\n",
    "    .discretize(equiFrequent)(quad => hasPredicate(quad, reachableApplicants))\n",
    "\n",
    "val jaurRegionsBySexDiscretized = jaurRegionsBySex\n",
    "    .discretize(equiFrequent)(quad => hasPredicate(quad, unemploymentRate))\n",
    "    .discretize(equiFrequent)(quad => hasPredicate(quad, reachableApplicants))"
   ]
  },
  {
   "cell_type": "code",
   "execution_count": 62,
   "metadata": {},
   "outputs": [],
   "source": [
    "// TODO pro každý dataset jiný qb:dataSet\n",
    "val qbDataSet = \"http://purl.org/linked-data/cube#dataSet\"\n",
    "val uri = (value: String) => TripleItem.Uri(value)\n",
    "\n",
    "val jaurDistrictsTotalNamed = jaurDistrictsTotalDiscretized\n",
    ".map(t => if (t.predicate.hasSameUriAs(qbDataSet)) t.copy(`object` = uri(\"jaurDistrictsTotal\")) else t)\n",
    "\n",
    "val jaurRegionsTotalNamed = jaurRegionsTotalDiscretized\n",
    ".map(t => if (t.predicate.hasSameUriAs(qbDataSet)) t.copy(`object` = uri(\"jaurRegionsTotal\")) else t)\n",
    "\n",
    "val jaurDistrictsBySexNamed = jaurDistrictsBySexDiscretized\n",
    ".map(t => if (t.predicate.hasSameUriAs(qbDataSet)) t.copy(`object` = uri(\"jaurDistrictsBySex\")) else t)\n",
    "\n",
    "val jaurRegionsBySexNamed = jaurRegionsBySexDiscretized\n",
    ".map(t => if (t.predicate.hasSameUriAs(qbDataSet)) t.copy(`object` = uri(\"jaurRegionsBySex\")) else t)\n"
   ]
  },
  {
   "cell_type": "code",
   "execution_count": 63,
   "metadata": {},
   "outputs": [],
   "source": [
    "// TODO u total datasetů odstranit dimenzi pohlaví\n",
    "val jaurDistrictsTotalNoSexDimension = jaurDistrictsTotalNamed.filter(t => !t.predicate.hasSameUriAs(sex))\n",
    "val jaurRegionsTotalNoSexDimension = jaurRegionsTotalNamed.filter(t => !t.predicate.hasSameUriAs(sex))"
   ]
  },
  {
   "cell_type": "code",
   "execution_count": 64,
   "metadata": {},
   "outputs": [],
   "source": [
    "val dataset = Dataset() + \n",
    "    jaurDistrictsTotalNoSexDimension + \n",
    "    jaurRegionsTotalNoSexDimension + \n",
    "    jaurDistrictsBySexNamed + \n",
    "    jaurRegionsBySexNamed"
   ]
  },
  {
   "cell_type": "code",
   "execution_count": 65,
   "metadata": {},
   "outputs": [
    {
     "name": "stderr",
     "output_type": "stream",
     "text": [
      "2021-03-06 23:31:18:935 +0100 [scala-interpreter-1] INFO com.github.propi.rdfrules.utils.Debugger - Predicates trimming.\n",
      "2021-03-06 23:31:18:944 +0100 [scala-interpreter-1] INFO com.github.propi.rdfrules.utils.Debugger - Subjects indexing.\n",
      "2021-03-06 23:31:18:981 +0100 [scala-interpreter-1] INFO com.github.propi.rdfrules.utils.Debugger - Subjects trimming.\n",
      "2021-03-06 23:31:18:988 +0100 [scala-interpreter-1] INFO com.github.propi.rdfrules.utils.Debugger - Objects indexing.\n",
      "2021-03-06 23:31:19:000 +0100 [scala-interpreter-1] INFO com.github.propi.rdfrules.utils.Debugger - Objects trimming.\n"
     ]
    }
   ],
   "source": [
    "val index = dataset.index()\n",
    "index.cache(\"index.cache\")"
   ]
  },
  {
   "cell_type": "code",
   "execution_count": 66,
   "metadata": {},
   "outputs": [],
   "source": [
    "val constantsAtObject = RuleConstraint.ConstantsAtPosition.ConstantsPosition.Object\n",
    "val onlyObjectConstants = RuleConstraint.ConstantsAtPosition(constantsAtObject)\n",
    "val oneOfMeasures = OneOf(\n",
    "    uri(unemploymentRate), \n",
    "    uri(unemploymentRate), \n",
    "    uri(reachableApplicants), \n",
    "    uri(vacaniesCount)\n",
    ")\n",
    "val qbdPredicate = uri(qbDataSet)\n",
    "val oneOfDimensions = OneOf(\n",
    "    uri(refArea), \n",
    "    uri(sex), \n",
    "    uri(refPeriod)\n",
    ")"
   ]
  },
  {
   "cell_type": "code",
   "execution_count": 67,
   "metadata": {},
   "outputs": [],
   "source": [
    "val oneCubeTwoMeasures: RulePattern = (\n",
    "    AtomPattern(subject = 'a', predicate = qbdPredicate) &: \n",
    "    AtomPattern(subject = 'a', predicate = oneOfMeasures) \n",
    "    =>: \n",
    "    AtomPattern(subject = 'a', predicate = oneOfMeasures)\n",
    ")\n",
    "\n",
    "val oneCubeTwoMeasuresOneDimension: RulePattern = (\n",
    "    AtomPattern(subject = 'a', predicate = qbdPredicate) &: \n",
    "    AtomPattern(subject = 'a', predicate = oneOfMeasures) &: \n",
    "    AtomPattern(subject = 'a', predicate = oneOfDimensions)\n",
    "    =>: \n",
    "    AtomPattern(subject = 'a', predicate = oneOfMeasures)\n",
    ")"
   ]
  },
  {
   "cell_type": "code",
   "execution_count": 68,
   "metadata": {},
   "outputs": [],
   "source": [
    "val oneCubeTwoMeasuresTask = Amie()\n",
    "    .addThreshold(Threshold.MinSupport(minSupport))\n",
    "    .addThreshold(Threshold.MaxRuleLength(3))\n",
    "    .addThreshold(Threshold.MinHeadSize(0))\n",
    "    .addConstraint(onlyObjectConstants)\n",
    "    .addPattern(oneCubeTwoMeasures)\n",
    "    .addPattern(oneCubeTwoMeasuresOneDimension)\n",
    "\n",
    "val oneCubeTwoMeasuresOneDimensionTask = Amie()\n",
    "    .addThreshold(Threshold.MinSupport(minSupport))\n",
    "    .addThreshold(Threshold.MaxRuleLength(4))\n",
    "    .addThreshold(Threshold.MinHeadSize(0))\n",
    "    .addConstraint(onlyObjectConstants)\n",
    "    .addPattern(oneCubeTwoMeasures)\n",
    "    .addPattern(oneCubeTwoMeasuresOneDimension)"
   ]
  },
  {
   "cell_type": "code",
   "execution_count": 69,
   "metadata": {},
   "outputs": [
    {
     "name": "stderr",
     "output_type": "stream",
     "text": [
      "2021-03-06 23:31:19:602 +0100 [scala-interpreter-1] INFO com.github.propi.rdfrules.utils.Debugger - Amie task settings:\n",
      "MinHeadSize=1,\n",
      "MinHeadCoverage=0.0,\n",
      "MinSupport=50,\n",
      "MaxThreads=4,\n",
      "MinAtomSize=0,\n",
      "MaxRuleLength=3,\n",
      "WithConstants=true,\n",
      "ConstantsPosition=Object,\n",
      "Timeout=-1,\n",
      "WithDuplicitPredicates=true,\n",
      "Patterns=List(Mapped(Vector(Mapped(Variable(?a),Constant(Constant(624690160)),Any,Any), Mapped(Variable(?a),OneOf(ArrayBuffer(Constant(Constant(-2070273298)), Constant(Constant(-2070273298)), Constant(Constant(1659106226)), Constant(Constant(1142069620)))),Any,Any), Mapped(Variable(?a),OneOf(ArrayBuffer(Constant(Constant(1481837794)), Constant(Constant(-1485615047)), Constant(Constant(-901057765)))),Any,Any)),Some(Mapped(Variable(?a),OneOf(ArrayBuffer(Constant(Constant(-2070273298)), Constant(Constant(-2070273298)), Constant(Constant(1659106226)), Constant(Constant(1142069620)))),Any,Any)),false,false), Mapped(Vector(Mapped(Variable(?a),Constant(Constant(624690160)),Any,Any), Mapped(Variable(?a),OneOf(ArrayBuffer(Constant(Constant(-2070273298)), Constant(Constant(-2070273298)), Constant(Constant(1659106226)), Constant(Constant(1142069620)))),Any,Any)),Some(Mapped(Variable(?a),OneOf(ArrayBuffer(Constant(Constant(-2070273298)), Constant(Constant(-2070273298)), Constant(Constant(1659106226)), Constant(Constant(1142069620)))),Any,Any)),false,false)),\n",
      "OnlyPredicates=None,\n",
      "WithoutPredicates=None\n",
      "2021-03-06 23:31:19:743 +0100 [scala-interpreter-1] INFO com.github.propi.rdfrules.utils.Debugger - Amie task settings:\n",
      "MinHeadSize=1,\n",
      "MinHeadCoverage=0.0,\n",
      "MinSupport=50,\n",
      "MaxThreads=4,\n",
      "MinAtomSize=0,\n",
      "MaxRuleLength=4,\n",
      "WithConstants=true,\n",
      "ConstantsPosition=Object,\n",
      "Timeout=-1,\n",
      "WithDuplicitPredicates=true,\n",
      "Patterns=List(Mapped(Vector(Mapped(Variable(?a),Constant(Constant(624690160)),Any,Any), Mapped(Variable(?a),OneOf(ArrayBuffer(Constant(Constant(-2070273298)), Constant(Constant(-2070273298)), Constant(Constant(1659106226)), Constant(Constant(1142069620)))),Any,Any), Mapped(Variable(?a),OneOf(ArrayBuffer(Constant(Constant(1481837794)), Constant(Constant(-1485615047)), Constant(Constant(-901057765)))),Any,Any)),Some(Mapped(Variable(?a),OneOf(ArrayBuffer(Constant(Constant(-2070273298)), Constant(Constant(-2070273298)), Constant(Constant(1659106226)), Constant(Constant(1142069620)))),Any,Any)),false,false), Mapped(Vector(Mapped(Variable(?a),Constant(Constant(624690160)),Any,Any), Mapped(Variable(?a),OneOf(ArrayBuffer(Constant(Constant(-2070273298)), Constant(Constant(-2070273298)), Constant(Constant(1659106226)), Constant(Constant(1142069620)))),Any,Any)),Some(Mapped(Variable(?a),OneOf(ArrayBuffer(Constant(Constant(-2070273298)), Constant(Constant(-2070273298)), Constant(Constant(1659106226)), Constant(Constant(1142069620)))),Any,Any)),false,false)),\n",
      "OnlyPredicates=None,\n",
      "WithoutPredicates=None\n"
     ]
    }
   ],
   "source": [
    "val oneCubeTwoMeasuresRuleset = index.mine(oneCubeTwoMeasuresTask)\n",
    "val oneCubeTwoMeasuresOneDimensionRuleset = index.mine(oneCubeTwoMeasuresOneDimensionTask)"
   ]
  },
  {
   "cell_type": "code",
   "execution_count": 77,
   "metadata": {
    "scrolled": true
   },
   "outputs": [
    {
     "name": "stdout",
     "output_type": "stream",
     "text": [
      "\n",
      "(?a czso:neumisteniUchazeciOZamestnani [ 1025.0 ; 3045.0 )) ^ (?a qb:dataSet <jaurDistrictsTotal>) ^ (?a czso:podilNezamestnanych [ 1.2 ; 4.555 )) -> (?a czso:dosazitelniNeumisteniUchazeciOZamestnani [ 901.0 ; 2928.0 )) | support: 80, headCoverage: 0.033291718684977115, confidence: 0.9876543209876543, headSize: 2403, bodySize: 81\n",
      "\n",
      "\n",
      "(?a czso:neumisteniUchazeciOZamestnani [ 8353.5 ; 26549.0 ]) ^ (?a qb:dataSet <jaurDistrictsTotal>) ^ (?a czso:podilNezamestnanych [ 8.765 ; 16.2 ]) -> (?a czso:dosazitelniNeumisteniUchazeciOZamestnani [ 8110.5 ; 25767.0 ]) | support: 79, headCoverage: 0.0328755722014149, confidence: 0.9753086419753086, headSize: 2403, bodySize: 81\n",
      "\n",
      "\n",
      "(?a qb:dataSet <jaurDistrictsBySex>) ^ (?a czso:dosazitelniNeumisteniUchazeciOZamestnani [ 468.0 ; 1470.5 )) ^ (?a czso:sex sdmx-code:sex-M) -> (?a czso:podilNezamestnanych [ 1.13 ; 4.585 )) | support: 107, headCoverage: 0.04452767374115689, confidence: 0.7181208053691275, headSize: 2403, bodySize: 149\n",
      "\n"
     ]
    }
   ],
   "source": [
    "val ruleset = (oneCubeTwoMeasuresRuleset + oneCubeTwoMeasuresOneDimensionRuleset)\n",
    "    .computeConfidence(minConfidence)\n",
    "    .sortBy(Measure.Confidence, Measure.HeadCoverage)\n",
    "ruleset.export(\"jaurRules.txt\")\n",
    "ruleset.foreach(rule => println(\"\\n\" + rule + \"\\n\"))"
   ]
  }
 ],
 "metadata": {
  "kernelspec": {
   "display_name": "Scala",
   "language": "scala",
   "name": "scala"
  },
  "language_info": {
   "codemirror_mode": "text/x-scala",
   "file_extension": ".sc",
   "mimetype": "text/x-scala",
   "name": "scala",
   "nbconvert_exporter": "script",
   "version": "2.12.8"
  }
 },
 "nbformat": 4,
 "nbformat_minor": 4
}
