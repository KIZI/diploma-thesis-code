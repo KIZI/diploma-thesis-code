{
 "cells": [
  {
   "cell_type": "code",
   "execution_count": null,
   "metadata": {},
   "outputs": [],
   "source": [
    "interp.repositories() ++= Seq(coursier.maven.MavenRepository(\"https://jitpack.io\"))"
   ]
  },
  {
   "cell_type": "code",
   "execution_count": null,
   "metadata": {},
   "outputs": [],
   "source": [
    "import $ivy.`com.github.propi:rdfrules:1.4.3`\n",
    "import collection._\n",
    "import com.github.propi.rdfrules.data._\n",
    "import org.apache.jena.riot.Lang\n",
    "\n",
    "import com.github.propi.rdfrules.algorithm.amie._\n",
    "import com.github.propi.rdfrules.algorithm.dbscan._\n",
    "import com.github.propi.rdfrules.utils._\n",
    "import com.github.propi.rdfrules.index._\n",
    "import com.github.propi.rdfrules.rule._"
   ]
  },
  {
   "cell_type": "code",
   "execution_count": null,
   "metadata": {},
   "outputs": [],
   "source": [
    "val yagoFacts = Graph(\"data/yagoFacts.tsv\")\n",
    "yagoFacts.cache(\"yagoFacts.cache\")"
   ]
  },
  {
   "cell_type": "code",
   "execution_count": null,
   "metadata": {},
   "outputs": [],
   "source": [
    "val yagoFacts = Graph.fromCache(\"yagoFacts.cache\")"
   ]
  },
  {
   "cell_type": "code",
   "execution_count": null,
   "metadata": {},
   "outputs": [],
   "source": [
    "val dataset = Dataset() + yagoFacts\n",
    "dataset.cache(\"dataset.cache\")"
   ]
  },
  {
   "cell_type": "code",
   "execution_count": null,
   "metadata": {},
   "outputs": [],
   "source": [
    "val dataset = Dataset.fromCache(\"dataset.cache\")"
   ]
  },
  {
   "cell_type": "code",
   "execution_count": null,
   "metadata": {},
   "outputs": [],
   "source": [
    "val types: Map[TripleItem.Uri, Map[TripleItemType, Int]] = dataset.types()\n",
    "types.foreach(println)"
   ]
  },
  {
   "cell_type": "code",
   "execution_count": null,
   "metadata": {},
   "outputs": [],
   "source": [
    "val histogram: Map[Histogram.Key, Int] = dataset.histogram(predicate = true, `object` = true)"
   ]
  },
  {
   "cell_type": "code",
   "execution_count": null,
   "metadata": {},
   "outputs": [],
   "source": [
    "val index = dataset.index()\n",
    "index.cache(\"index.cache\")"
   ]
  },
  {
   "cell_type": "code",
   "execution_count": null,
   "metadata": {},
   "outputs": [],
   "source": [
    "val index = Index.fromCache(\"index.cache\", false)"
   ]
  },
  {
   "cell_type": "code",
   "execution_count": null,
   "metadata": {},
   "outputs": [],
   "source": [
    "Debugger() { implicit debugger =>\n",
    "    \n",
    "    val miningTask = Amie()\n",
    "    index.mine(miningTask)\n",
    "}"
   ]
  },
  {
   "cell_type": "code",
   "execution_count": null,
   "metadata": {},
   "outputs": [],
   "source": [
    "val onlyObjectConstants = RuleConstraint.ConstantsAtPosition(RuleConstraint.ConstantsAtPosition.ConstantsPosition.Object)\n",
    "val noConstants = RuleConstraint.ConstantsAtPosition(RuleConstraint.ConstantsAtPosition.ConstantsPosition.Nowhere)\n",
    "\n",
    "\n",
    "val preparedMiningTask = Amie()\n",
    ".addThreshold(Threshold.MinHeadCoverage(0.01))\n",
    ".addThreshold(Threshold.MinSupport(2))\n",
    ".addConstraint(onlyObjectConstants)\n",
    ".addPattern(\n",
    "        AtomPattern(predicate = TripleItem.Uri(\"isMarriedTo\"))  // * => isMarriedTo(Any, Any)\n",
    ")\n",
    ".addPattern(\n",
    "        AtomPattern(subject = 'a', predicate = TripleItem.Uri(\"isCitizenOf\"), `object` = 'b') \n",
    "    &:  AtomPattern(subject = 'b', predicate = TripleItem.Uri(\"participatedIn\")) \n",
    "    //=>: None\n",
    "    =>: AtomPattern(subject = 'a')\n",
    ")"
   ]
  },
  {
   "cell_type": "code",
   "execution_count": null,
   "metadata": {},
   "outputs": [],
   "source": [
    "var ruleset = index.mine(preparedMiningTask)\n",
    "ruleset.cache(\"rules.cache\")"
   ]
  },
  {
   "cell_type": "code",
   "execution_count": null,
   "metadata": {},
   "outputs": [],
   "source": [
    "var ruleset = Ruleset.fromCache(\"rules.cache\")"
   ]
  },
  {
   "cell_type": "code",
   "execution_count": null,
   "metadata": {},
   "outputs": [],
   "source": [
    "var ruleset = index.mine(preparedMiningTask)\n",
    "    \n",
    "ruleset = ruleset\n",
    ".filter(rule => rule.measures(Measure.HeadCoverage).value > 0.02)\n",
    ".computeConfidence(0.5)\n",
    ".computePcaConfidence(0.5)\n",
    ".computeLift()\n",
    ".sortBy(Measure.HeadCoverage, Measure.Lift)\n",
    ".makeClusters(DbScan(minNeighbours = 3, minSimilarity = 0.85))\n",
    "    \n",
    "ruleset.export(\"rules.txt\")\n",
    "println(ruleset.size)\n",
    "ruleset.foreach(println)"
   ]
  }
 ],
 "metadata": {
  "kernelspec": {
   "display_name": "Scala",
   "language": "scala",
   "name": "scala"
  },
  "language_info": {
   "codemirror_mode": "text/x-scala",
   "file_extension": ".scala",
   "mimetype": "text/x-scala",
   "name": "scala",
   "nbconvert_exporter": "script",
   "version": "2.12.8"
  }
 },
 "nbformat": 4,
 "nbformat_minor": 4
}
